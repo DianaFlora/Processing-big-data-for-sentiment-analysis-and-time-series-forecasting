{
 "cells": [
  {
   "cell_type": "markdown",
   "id": "98a691eb-491c-4cbd-acfd-363055534da4",
   "metadata": {},
   "source": [
    "# TIME SERIES FORECASTING OF PROJECT TWEETS BIG DATA PROCESSED WITH SPARK AND STORED IN MONGODB"
   ]
  },
  {
   "cell_type": "markdown",
   "id": "74cf4c2b-41fe-4f80-a139-066374224315",
   "metadata": {},
   "source": [
    "# Dataset\n",
    "The dataste is a large dataset gleaned from the twitter API that is called ProjectTweets.csv.\n",
    "\n",
    "This dataset contains 1,600,000 tweets extracted using the twitter api. \n",
    "\n",
    "\n",
    "Content\n",
    "It contains the following 5 fields:\n",
    "- ids: The id of the tweet (eg. 4587)\n",
    "- date: the date of the tweet (eg. Sat May 16 23:58:44 UTC 2009)\n",
    "- flag: The query (eg. lyx). If there is no query, then this value is NO_QUERY.\n",
    "- user: the user that tweeted (eg. bobthebuilder)\n",
    "- text: the text of the tweet (eg. Lyx is cool)"
   ]
  },
  {
   "cell_type": "markdown",
   "id": "84c402ab-f73e-44fa-9bcb-3cd3686a1d6e",
   "metadata": {},
   "source": [
    "## Install all Required Libraries"
   ]
  },
  {
   "cell_type": "code",
   "execution_count": 1,
   "id": "05a43f76-594a-4b56-88e2-fa2bb26f45cd",
   "metadata": {
    "scrolled": true
   },
   "outputs": [],
   "source": [
    "#Import all necessary libraries\n",
    "import pandas as pd\n",
    "import matplotlib.pyplot as plt\n",
    "import numpy as np\n",
    "from pyspark.sql import SparkSession\n",
    "from pyspark.sql.functions import regexp_extract\n",
    "from pyspark.sql.functions import col, lower, regexp_replace, trim, split, udf\n",
    "from pyspark.sql.functions import isnull, to_timestamp\n",
    "from pyspark.sql.functions import udf\n",
    "from pyspark.sql.functions import to_timestamp\n",
    "from pyspark.sql.types import StructType, StringType, TimestampType\n",
    "from pyspark.sql.functions import col\n",
    "import warnings\n",
    "warnings.filterwarnings('ignore') # We can suppress the warnings"
   ]
  },
  {
   "cell_type": "code",
   "execution_count": 2,
   "id": "2e7dfddb-3db1-4417-8904-25e89ff1daf2",
   "metadata": {},
   "outputs": [],
   "source": [
    "#Creating a pyspark session connecting to mongodb\n",
    "uri = \"mongodb://172.17.0.8:27017/DeeProject_mongo.Tweets\"\n",
    "\n",
    "spark = SparkSession.builder.appName(\"Write into MongoDB\")\\\n",
    "    .config(\"spark.mongodb.input.uri\", uri)\\\n",
    "    .config(\"spark.mongodb.output.uri\", uri)\\\n",
    "    .config('spark.jars.packages','org.mongodb.spark:mongo-spark-connector_2.12:2.4.2')\\\n",
    "    .getOrCreate()"
   ]
  },
  {
   "cell_type": "code",
   "execution_count": 3,
   "id": "e1b77330-d443-4ce3-b6c4-2dd938b1284c",
   "metadata": {},
   "outputs": [
    {
     "data": {
      "text/html": [
       "\n",
       "            <div>\n",
       "                <p><b>SparkSession - in-memory</b></p>\n",
       "                \n",
       "        <div>\n",
       "            <p><b>SparkContext</b></p>\n",
       "\n",
       "            <p><a href=\"http://4dde10a4171c:4041\">Spark UI</a></p>\n",
       "\n",
       "            <dl>\n",
       "              <dt>Version</dt>\n",
       "                <dd><code>v3.5.1</code></dd>\n",
       "              <dt>Master</dt>\n",
       "                <dd><code>local[*]</code></dd>\n",
       "              <dt>AppName</dt>\n",
       "                <dd><code>Write into MongoDB</code></dd>\n",
       "            </dl>\n",
       "        </div>\n",
       "        \n",
       "            </div>\n",
       "        "
      ],
      "text/plain": [
       "<pyspark.sql.session.SparkSession at 0xffff7a1e4bd0>"
      ]
     },
     "execution_count": 3,
     "metadata": {},
     "output_type": "execute_result"
    }
   ],
   "source": [
    "#Spark content\n",
    "spark"
   ]
  },
  {
   "cell_type": "markdown",
   "id": "7f184ca6-02a1-49d4-9e34-39b94abba76b",
   "metadata": {},
   "source": [
    "# Step one: Writing Data into MongoDB using Apache Spark"
   ]
  },
  {
   "cell_type": "markdown",
   "id": "31398c42-136d-4ff4-b665-0932e06a61f7",
   "metadata": {},
   "source": [
    "## Loading data from local machine to SParkSQL"
   ]
  },
  {
   "cell_type": "code",
   "execution_count": 4,
   "id": "55462fc4-56f4-4222-a185-b00572045103",
   "metadata": {},
   "outputs": [
    {
     "name": "stdout",
     "output_type": "stream",
     "text": [
      "root\n",
      " |-- PRIMARY KEY: string (nullable = true)\n",
      " |-- ID: string (nullable = true)\n",
      " |-- date: timestamp (nullable = true)\n",
      " |-- flag: string (nullable = true)\n",
      " |-- user: string (nullable = true)\n",
      " |-- text: string (nullable = true)\n",
      "\n",
      "+-----------+----------+-------------------+--------+---------------+--------------------+\n",
      "|PRIMARY KEY|        ID|               date|    flag|           user|                text|\n",
      "+-----------+----------+-------------------+--------+---------------+--------------------+\n",
      "|          0|1467810369|2009-04-07 05:19:45|NO_QUERY|_TheSpecialOne_|@switchfoot http:...|\n",
      "|          1|1467810672|2009-04-07 05:19:49|NO_QUERY|  scotthamilton|is upset that he ...|\n",
      "|          2|1467810917|2009-04-07 05:19:53|NO_QUERY|       mattycus|@Kenichan I dived...|\n",
      "|          3|1467811184|2009-04-07 05:19:57|NO_QUERY|        ElleCTF|my whole body fee...|\n",
      "|          4|1467811193|2009-04-07 05:19:57|NO_QUERY|         Karoli|@nationwideclass ...|\n",
      "+-----------+----------+-------------------+--------+---------------+--------------------+\n",
      "only showing top 5 rows\n",
      "\n"
     ]
    }
   ],
   "source": [
    "#Set legacy timeParserPolicy\n",
    "spark.conf.set(\"spark.sql.legacy.timeParserPolicy\", \"LEGACY\")\n",
    "\n",
    "#Define the schema for the csv file \n",
    "schema = StructType().add(\"_c0\", StringType(), True).add(\"_c1\", StringType(), True).add(\"_c2\", StringType(), True).add(\"_c3\", StringType(), True).add(\"_c4\", StringType(), True).add(\"_c5\", StringType(), True)\n",
    "\n",
    "#Read the CSV into a DataFrame called df\n",
    "df = spark.read.format(\"csv\").option(\"header\", False).schema(schema).load(\"file:///home/jovyan/Diana/ProjectTweets.csv\")\n",
    "\n",
    "#Rename the headers\n",
    "df = df.withColumnRenamed(\"_c0\", \"PRIMARY KEY\").withColumnRenamed(\"_c1\", \"ID\").withColumnRenamed(\"_c2\", \"date\").withColumnRenamed(\"_c3\", \"flag\").withColumnRenamed(\"_c4\", \"user\").withColumnRenamed(\"_c5\", \"text\")\n",
    "\n",
    "#Convert string date to TimestampType\n",
    "df = df.withColumn(\"date\", to_timestamp(df[\"date\"], \"EEE MMM dd HH:mm:ss zzzz yyyy\"))\n",
    "\n",
    "#Print schema\n",
    "df.printSchema()\n",
    "\n",
    "#Show DataFrame\n",
    "df.show(5)\n"
   ]
  },
  {
   "cell_type": "markdown",
   "id": "566df067-a314-47b2-a4a4-ca03159f58c0",
   "metadata": {},
   "source": [
    "## Write data from spark to MongoDB"
   ]
  },
  {
   "cell_type": "code",
   "execution_count": 5,
   "id": "d25ea7c1-ebd1-4d4a-88d9-a03a091d224e",
   "metadata": {},
   "outputs": [],
   "source": [
    "#Write data into MongoDB\n",
    "df.write.format(\"com.mongodb.spark.sql.DefaultSource\").mode(\"append\").option(\"uri\", uri).save()"
   ]
  },
  {
   "cell_type": "markdown",
   "id": "c1058c99-28db-47dd-9276-f51419737644",
   "metadata": {},
   "source": [
    "# Step Two: Read the Project Tweets data from MongoDB using Spark"
   ]
  },
  {
   "cell_type": "code",
   "execution_count": 6,
   "id": "d8e81c22-f29d-45c9-98bf-f2dcc2585c84",
   "metadata": {},
   "outputs": [
    {
     "name": "stdout",
     "output_type": "stream",
     "text": [
      "(1600000, 7)\n",
      "root\n",
      " |-- ID: string (nullable = true)\n",
      " |-- PRIMARY KEY: string (nullable = true)\n",
      " |-- _id: struct (nullable = true)\n",
      " |    |-- oid: string (nullable = true)\n",
      " |-- date: timestamp (nullable = true)\n",
      " |-- flag: string (nullable = true)\n",
      " |-- text: string (nullable = true)\n",
      " |-- user: string (nullable = true)\n",
      "\n",
      "+----------+-----------+--------------------+-------------------+--------+--------------------+-------------+\n",
      "|        ID|PRIMARY KEY|                 _id|               date|    flag|                text|         user|\n",
      "+----------+-----------+--------------------+-------------------+--------+--------------------+-------------+\n",
      "|1551363506|     816210|{66367bb0e048fa3c...|2009-04-18 15:51:40|NO_QUERY|@ctribe I hope yo...|prosario_2000|\n",
      "|2059493951|     408810|{66367bb0e048fa3c...|2009-06-07 00:02:45|NO_QUERY|Kinda scared to s...|        l7l7v|\n",
      "|1990436550|    1223636|{66367bb0e048fa3c...|2009-06-01 11:52:03|NO_QUERY|@karinhoegh  Didn...|         kmdk|\n",
      "|1990436582|    1223637|{66367bb0e048fa3c...|2009-06-01 11:52:03|NO_QUERY|Need more FPS.......| jflinchbaugh|\n",
      "|1990436614|    1223638|{66367bb0e048fa3c...|2009-06-01 11:52:04|NO_QUERY|@SteveOGallagher ...|    kittaykat|\n",
      "+----------+-----------+--------------------+-------------------+--------+--------------------+-------------+\n",
      "only showing top 5 rows\n",
      "\n"
     ]
    }
   ],
   "source": [
    "#Read Data from MongoDB\n",
    "from_mongo = spark.read.format('com.mongodb.spark.sql.DefaultSource').load()\n",
    "print((from_mongo.count(), len(from_mongo.columns)))\n",
    "from_mongo.printSchema()\n",
    "from_mongo.show(5)"
   ]
  },
  {
   "cell_type": "markdown",
   "id": "d90e3bdf-eed2-442b-815b-bf2375d0c84d",
   "metadata": {},
   "source": [
    "# EXPLORATORY DATA ANALYSIS"
   ]
  },
  {
   "cell_type": "markdown",
   "id": "e2fbf0a7-9366-41bc-9a1b-bff77cf5d2db",
   "metadata": {},
   "source": [
    "# Checking for Duplicates (based on ID, user and text) and Missing data"
   ]
  },
  {
   "cell_type": "code",
   "execution_count": 7,
   "id": "187c1a83-e90c-4eff-8310-967d2c6c62b4",
   "metadata": {},
   "outputs": [
    {
     "name": "stdout",
     "output_type": "stream",
     "text": [
      "Number of duplicate records removed: 0\n",
      "Missing value counts:\n",
      "PRIMARY KEY 0\n",
      "ID 0\n",
      "user 0\n",
      "text 0\n"
     ]
    }
   ],
   "source": [
    "from pyspark.sql import SparkSession\n",
    "from pyspark.sql.functions import col, sum  # Import the 'col' and 'sum' functions\n",
    "\n",
    "#Initialize Spark Session\n",
    "spark = SparkSession.builder.appName(\"Duplicate and Missing Data Check\").getOrCreate()\n",
    "\n",
    "#Define the columns to check for duplicates and missing values\n",
    "columns_to_check = ['PRIMARY KEY','ID', 'user', 'text']\n",
    "\n",
    "#Create a pipeline to check for duplicates and missing values\n",
    "pipeline_df = from_mongo\n",
    "\n",
    "#Step 1: Remove duplicate records based on specified columns\n",
    "pipeline_df = pipeline_df.dropDuplicates(subset=columns_to_check)\n",
    "\n",
    "#Step 2: Check for missing values\n",
    "missing_counts = pipeline_df.select([col(c).isNull().cast(\"int\").alias(c) for c in columns_to_check]).agg(*[sum(c).alias(c) for c in columns_to_check]).collect()[0]\n",
    "\n",
    "#Print the results\n",
    "print(\"Number of duplicate records removed:\", df.count() - pipeline_df.count())\n",
    "\n",
    "print(\"Missing value counts:\")\n",
    "for col_name, missing_count in zip(columns_to_check, missing_counts):\n",
    "    print(col_name, missing_count)"
   ]
  },
  {
   "cell_type": "code",
   "execution_count": 8,
   "id": "ed96930b-c1ab-4e9a-bad7-0ba5b186de0c",
   "metadata": {},
   "outputs": [
    {
     "name": "stdout",
     "output_type": "stream",
     "text": [
      "Number of duplicate rows removed: 0\n"
     ]
    }
   ],
   "source": [
    "#Checking for duplicates in ID and user name\n",
    "#Count the number of rows before removing duplicates\n",
    "count_before = from_mongo.count()\n",
    "\n",
    "#Remove duplicates\n",
    "df_no_duplicates = from_mongo.dropDuplicates()\n",
    "\n",
    "#Count the number of rows after removing duplicates\n",
    "count_after = df_no_duplicates.count()\n",
    "\n",
    "#Calculate the number of duplicates\n",
    "num_duplicates = count_before - count_after\n",
    "\n",
    "print(f\"Number of duplicate rows removed: {num_duplicates}\")"
   ]
  },
  {
   "cell_type": "code",
   "execution_count": 9,
   "id": "a932d2b7-a0b9-484a-8374-24873e591aac",
   "metadata": {},
   "outputs": [
    {
     "name": "stdout",
     "output_type": "stream",
     "text": [
      "Number of duplicate rows removed based on user: 940225\n"
     ]
    }
   ],
   "source": [
    "#Count the number of rows before removing duplicates\n",
    "count_before = from_mongo.count()\n",
    "\n",
    "#Remove duplicates based on a specific column\n",
    "df_no_duplicates = from_mongo.dropDuplicates(subset=['user'])\n",
    "\n",
    "#Count the number of rows after removing duplicates\n",
    "count_after = df_no_duplicates.count()\n",
    "\n",
    "#Calculate the number of duplicates\n",
    "num_duplicates = count_before - count_after\n",
    "\n",
    "print(f\"Number of duplicate rows removed based on user: {num_duplicates}\")"
   ]
  },
  {
   "cell_type": "markdown",
   "id": "310c5cba-92d8-401f-b90a-a9d692beaef9",
   "metadata": {},
   "source": [
    "# Summary Statistics"
   ]
  },
  {
   "cell_type": "code",
   "execution_count": 10,
   "id": "7ede2aa7-cdb7-4e5e-b464-2ec6a84f41f9",
   "metadata": {},
   "outputs": [
    {
     "name": "stdout",
     "output_type": "stream",
     "text": [
      "+-------+--------------------+------------------+--------+--------------------+--------------------+\n",
      "|summary|                  ID|       PRIMARY KEY|    flag|                text|                user|\n",
      "+-------+--------------------+------------------+--------+--------------------+--------------------+\n",
      "|  count|             1600000|           1600000| 1600000|             1600000|             1600000|\n",
      "|   mean|1.9988175522956276E9|          799999.5|    NULL|                NULL| 4.325887521835714E9|\n",
      "| stddev|1.9357607362267783E8|461880.35968924506|    NULL|                NULL|5.162733218454889E10|\n",
      "|    min|          1467810369|                 0|NO_QUERY|                 ...|        000catnap000|\n",
      "|    max|          2329205794|            999999|NO_QUERY|ï¿½ï¿½ï¿½ï¿½ï¿½ß§...|          zzzzeus111|\n",
      "+-------+--------------------+------------------+--------+--------------------+--------------------+\n",
      "\n"
     ]
    }
   ],
   "source": [
    "#Summary Statistics\n",
    "from_mongo.describe().show()"
   ]
  },
  {
   "cell_type": "markdown",
   "id": "0434c55c-c286-4dc3-808d-2238fe7857aa",
   "metadata": {},
   "source": [
    "# EXTRACTING TIME COMPONENTS"
   ]
  },
  {
   "cell_type": "code",
   "execution_count": 11,
   "id": "fe21863a-1658-407e-911a-1fda5e8dde90",
   "metadata": {},
   "outputs": [],
   "source": [
    "from pyspark.sql.functions import year, month, dayofmonth, hour, minute, second\n",
    "\n",
    "\n",
    "#Initialize Spark Session\n",
    "spark = SparkSession.builder.appName(\"DateTime Visualization\").getOrCreate()\n",
    "\n",
    "#Extract relevant time components including hours, minutes, and seconds\n",
    "df = from_mongo.withColumn(\"year\", year(\"date\")).withColumn(\"month\", month(\"date\")).withColumn(\"day\", dayofmonth(\"date\")).withColumn(\"hour\", hour(\"date\")).withColumn(\"minute\", minute(\"date\")).withColumn(\"second\", second(\"date\"))\n",
    "\n",
    "#Aggregate data\n",
    "time_series_data = df.groupBy(\"date\",\"year\", \"month\", \"day\", \"hour\", \"minute\", \"second\").count().orderBy(\"year\", \"month\", \"day\", \"hour\", \"minute\", \"second\")"
   ]
  },
  {
   "cell_type": "code",
   "execution_count": 12,
   "id": "6abfb12d-a4e9-42f9-a369-0da22a65198c",
   "metadata": {},
   "outputs": [
    {
     "name": "stdout",
     "output_type": "stream",
     "text": [
      "+----------+-----------+--------------------+-------------------+--------+--------------------+-------------+----+-----+---+----+------+------+\n",
      "|        ID|PRIMARY KEY|                 _id|               date|    flag|                text|         user|year|month|day|hour|minute|second|\n",
      "+----------+-----------+--------------------+-------------------+--------+--------------------+-------------+----+-----+---+----+------+------+\n",
      "|1551363506|     816210|{66367bb0e048fa3c...|2009-04-18 15:51:40|NO_QUERY|@ctribe I hope yo...|prosario_2000|2009|    4| 18|  15|    51|    40|\n",
      "|2059493951|     408810|{66367bb0e048fa3c...|2009-06-07 00:02:45|NO_QUERY|Kinda scared to s...|        l7l7v|2009|    6|  7|   0|     2|    45|\n",
      "|1990436550|    1223636|{66367bb0e048fa3c...|2009-06-01 11:52:03|NO_QUERY|@karinhoegh  Didn...|         kmdk|2009|    6|  1|  11|    52|     3|\n",
      "|1990436582|    1223637|{66367bb0e048fa3c...|2009-06-01 11:52:03|NO_QUERY|Need more FPS.......| jflinchbaugh|2009|    6|  1|  11|    52|     3|\n",
      "|1990436614|    1223638|{66367bb0e048fa3c...|2009-06-01 11:52:04|NO_QUERY|@SteveOGallagher ...|    kittaykat|2009|    6|  1|  11|    52|     4|\n",
      "+----------+-----------+--------------------+-------------------+--------+--------------------+-------------+----+-----+---+----+------+------+\n",
      "only showing top 5 rows\n",
      "\n"
     ]
    }
   ],
   "source": [
    "#View the df DataFrame after extracting time components\n",
    "df.show(5)"
   ]
  },
  {
   "cell_type": "code",
   "execution_count": 13,
   "id": "5f5ddeaa-d79e-4072-bc25-b5a199762d14",
   "metadata": {},
   "outputs": [
    {
     "name": "stdout",
     "output_type": "stream",
     "text": [
      "root\n",
      " |-- ID: string (nullable = true)\n",
      " |-- PRIMARY KEY: string (nullable = true)\n",
      " |-- _id: struct (nullable = true)\n",
      " |    |-- oid: string (nullable = true)\n",
      " |-- date: timestamp (nullable = true)\n",
      " |-- flag: string (nullable = true)\n",
      " |-- text: string (nullable = true)\n",
      " |-- user: string (nullable = true)\n",
      " |-- year: integer (nullable = true)\n",
      " |-- month: integer (nullable = true)\n",
      " |-- day: integer (nullable = true)\n",
      " |-- hour: integer (nullable = true)\n",
      " |-- minute: integer (nullable = true)\n",
      " |-- second: integer (nullable = true)\n",
      "\n"
     ]
    }
   ],
   "source": [
    "#View the Spark DataFrame Features\n",
    "df.printSchema()"
   ]
  },
  {
   "cell_type": "code",
   "execution_count": 14,
   "id": "7bdc1db1-372d-4a9c-b0d6-f349f16c28d7",
   "metadata": {},
   "outputs": [
    {
     "name": "stdout",
     "output_type": "stream",
     "text": [
      "+----+-------+\n",
      "|year|  count|\n",
      "+----+-------+\n",
      "|2009|1600000|\n",
      "+----+-------+\n",
      "\n"
     ]
    }
   ],
   "source": [
    "from pyspark.sql.functions import count\n",
    "\n",
    "#Group by the year variable and count the occurrences\n",
    "year_counts = df.groupBy(\"year\").agg(count(\"*\").alias(\"count\")).orderBy(\"year\")\n",
    "\n",
    "#Show the tabulated counts\n",
    "year_counts.show()"
   ]
  },
  {
   "cell_type": "code",
   "execution_count": 15,
   "id": "8fd43d47-9889-4b8a-bd4c-0d21769af583",
   "metadata": {},
   "outputs": [
    {
     "name": "stdout",
     "output_type": "stream",
     "text": [
      "+-----+------+\n",
      "|month| count|\n",
      "+-----+------+\n",
      "|    4|100025|\n",
      "|    5|559073|\n",
      "|    6|940902|\n",
      "+-----+------+\n",
      "\n"
     ]
    }
   ],
   "source": [
    "from pyspark.sql.functions import count\n",
    "\n",
    "#Group by the month variable and count the occurrences\n",
    "month_counts = df.groupBy(\"month\").agg(count(\"*\").alias(\"count\")).orderBy(\"month\")\n",
    "\n",
    "#Show the tabulated counts\n",
    "month_counts.show()"
   ]
  },
  {
   "cell_type": "code",
   "execution_count": 16,
   "id": "acf0b81c-185e-4e34-9015-bfa8daf9ff9b",
   "metadata": {},
   "outputs": [
    {
     "name": "stdout",
     "output_type": "stream",
     "text": [
      "+---+------+\n",
      "|day| count|\n",
      "+---+------+\n",
      "|  1| 95449|\n",
      "|  2|108872|\n",
      "|  3| 86707|\n",
      "|  4| 32938|\n",
      "|  5| 34735|\n",
      "|  6|104793|\n",
      "|  7|132564|\n",
      "|  8| 18566|\n",
      "| 10| 31551|\n",
      "| 11|  6217|\n",
      "| 12|  4186|\n",
      "| 14| 22026|\n",
      "| 15| 83309|\n",
      "| 16| 87524|\n",
      "| 17| 85236|\n",
      "| 18|105040|\n",
      "| 19| 75612|\n",
      "| 20| 64029|\n",
      "| 21| 41782|\n",
      "| 22| 49519|\n",
      "+---+------+\n",
      "only showing top 20 rows\n",
      "\n"
     ]
    }
   ],
   "source": [
    "from pyspark.sql.functions import count\n",
    "\n",
    "#Group by the day variable and count the occurrences\n",
    "day_counts = df.groupBy(\"day\").agg(count(\"*\").alias(\"count\")).orderBy(\"day\")\n",
    "\n",
    "#Show the tabulated counts\n",
    "day_counts.show()"
   ]
  },
  {
   "cell_type": "code",
   "execution_count": 17,
   "id": "1b299e87-f152-4d96-8ccb-4e2d086352a0",
   "metadata": {},
   "outputs": [
    {
     "name": "stdout",
     "output_type": "stream",
     "text": [
      "+-----+---+------+\n",
      "|month|day| count|\n",
      "+-----+---+------+\n",
      "|    4|  7| 20671|\n",
      "|    4| 18| 17154|\n",
      "|    4| 20| 18447|\n",
      "|    4| 21| 11105|\n",
      "|    4| 19| 32648|\n",
      "|    5|  4| 28300|\n",
      "|    5| 10| 31551|\n",
      "|    5|  2| 31096|\n",
      "|    5|  3| 26568|\n",
      "|    5| 22| 41206|\n",
      "|    5| 24|   169|\n",
      "|    5| 17| 41205|\n",
      "|    5| 12|  4186|\n",
      "|    5| 29| 60227|\n",
      "|    5| 18| 44564|\n",
      "|    5| 27| 11619|\n",
      "|    5| 11|  6217|\n",
      "|    5| 14| 21526|\n",
      "|    5| 25|   169|\n",
      "|    5| 30|104484|\n",
      "+-----+---+------+\n",
      "only showing top 20 rows\n",
      "\n"
     ]
    }
   ],
   "source": [
    "from pyspark.sql.functions import count\n",
    "\n",
    "# Group by the day variable and count the occurrences\n",
    "day_counts = df.groupBy(\"month\",\"day\").agg(count(\"*\").alias(\"count\")).orderBy(\"month\")\n",
    "\n",
    "# Show the tabulated counts\n",
    "day_counts.show()"
   ]
  },
  {
   "cell_type": "code",
   "execution_count": 18,
   "id": "541597f2-d4a9-4ad7-926d-ac1e9143e010",
   "metadata": {},
   "outputs": [
    {
     "name": "stdout",
     "output_type": "stream",
     "text": [
      "+----------+-----+\n",
      "|        ID|count|\n",
      "+----------+-----+\n",
      "|1467810369|    1|\n",
      "|1467810672|    1|\n",
      "|1467810917|    1|\n",
      "|1467811184|    1|\n",
      "|1467811193|    1|\n",
      "|1467811372|    1|\n",
      "|1467811592|    1|\n",
      "|1467811594|    1|\n",
      "|1467811795|    1|\n",
      "|1467812025|    1|\n",
      "|1467812416|    1|\n",
      "|1467812579|    1|\n",
      "|1467812723|    1|\n",
      "|1467812771|    1|\n",
      "|1467812784|    1|\n",
      "|1467812799|    1|\n",
      "|1467812964|    1|\n",
      "|1467813137|    1|\n",
      "|1467813579|    1|\n",
      "|1467813782|    1|\n",
      "+----------+-----+\n",
      "only showing top 20 rows\n",
      "\n"
     ]
    }
   ],
   "source": [
    "from pyspark.sql.functions import count\n",
    "\n",
    "# Group by the day variable and count the occurrences\n",
    "ID_counts = df.groupBy(\"ID\").agg(count(\"*\").alias(\"count\")).orderBy(\"ID\")\n",
    "\n",
    "# Show the tabulated counts\n",
    "ID_counts.show()"
   ]
  },
  {
   "cell_type": "code",
   "execution_count": 19,
   "id": "8aa8b6aa-5236-4a88-a720-4bf30e7efac2",
   "metadata": {},
   "outputs": [
    {
     "name": "stdout",
     "output_type": "stream",
     "text": [
      "+-------------------+----+-----+---+----+------+------+-----+\n",
      "|               date|year|month|day|hour|minute|second|count|\n",
      "+-------------------+----+-----+---+----+------+------+-----+\n",
      "|2009-04-07 05:19:45|2009|    4|  7|   5|    19|    45|    1|\n",
      "|2009-04-07 05:19:49|2009|    4|  7|   5|    19|    49|    1|\n",
      "|2009-04-07 05:19:53|2009|    4|  7|   5|    19|    53|    1|\n",
      "|2009-04-07 05:19:57|2009|    4|  7|   5|    19|    57|    2|\n",
      "|2009-04-07 05:20:00|2009|    4|  7|   5|    20|     0|    1|\n",
      "+-------------------+----+-----+---+----+------+------+-----+\n",
      "only showing top 5 rows\n",
      "\n"
     ]
    }
   ],
   "source": [
    "time_series_data.show(5)"
   ]
  },
  {
   "cell_type": "code",
   "execution_count": 20,
   "id": "e106b132-eff5-43bf-a5d7-8d8d313cff17",
   "metadata": {},
   "outputs": [
    {
     "data": {
      "text/plain": [
       "pyspark.sql.dataframe.DataFrame"
      ]
     },
     "execution_count": 20,
     "metadata": {},
     "output_type": "execute_result"
    }
   ],
   "source": [
    "type(time_series_data)"
   ]
  },
  {
   "cell_type": "code",
   "execution_count": 21,
   "id": "3b7a2cf6-988e-4f0d-8c95-b9e8af71d569",
   "metadata": {},
   "outputs": [
    {
     "name": "stdout",
     "output_type": "stream",
     "text": [
      "+----------+-----------+--------------------+-------------------+--------+--------------------+-------------+----+-----+---+----+------+------+\n",
      "|        ID|PRIMARY KEY|                 _id|               date|    flag|                text|         user|year|month|day|hour|minute|second|\n",
      "+----------+-----------+--------------------+-------------------+--------+--------------------+-------------+----+-----+---+----+------+------+\n",
      "|1551363506|     816210|{66367bb0e048fa3c...|2009-04-18 15:51:40|NO_QUERY|@ctribe I hope yo...|prosario_2000|2009|    4| 18|  15|    51|    40|\n",
      "|2059493951|     408810|{66367bb0e048fa3c...|2009-06-07 00:02:45|NO_QUERY|Kinda scared to s...|        l7l7v|2009|    6|  7|   0|     2|    45|\n",
      "|1990436550|    1223636|{66367bb0e048fa3c...|2009-06-01 11:52:03|NO_QUERY|@karinhoegh  Didn...|         kmdk|2009|    6|  1|  11|    52|     3|\n",
      "|1990436582|    1223637|{66367bb0e048fa3c...|2009-06-01 11:52:03|NO_QUERY|Need more FPS.......| jflinchbaugh|2009|    6|  1|  11|    52|     3|\n",
      "|1990436614|    1223638|{66367bb0e048fa3c...|2009-06-01 11:52:04|NO_QUERY|@SteveOGallagher ...|    kittaykat|2009|    6|  1|  11|    52|     4|\n",
      "+----------+-----------+--------------------+-------------------+--------+--------------------+-------------+----+-----+---+----+------+------+\n",
      "only showing top 5 rows\n",
      "\n"
     ]
    }
   ],
   "source": [
    "df.show(5)"
   ]
  },
  {
   "cell_type": "code",
   "execution_count": 22,
   "id": "e5363f5b-5885-4097-8cb6-05ee4d0bea80",
   "metadata": {},
   "outputs": [
    {
     "data": {
      "text/plain": [
       "pyspark.sql.dataframe.DataFrame"
      ]
     },
     "execution_count": 22,
     "metadata": {},
     "output_type": "execute_result"
    }
   ],
   "source": [
    "type(df)"
   ]
  },
  {
   "cell_type": "code",
   "execution_count": 23,
   "id": "888f4542-a27e-4089-b039-42b85b778464",
   "metadata": {},
   "outputs": [
    {
     "name": "stdout",
     "output_type": "stream",
     "text": [
      "+----------+-----------+--------------------+-------------------+--------+--------------------+-------------+----+-----+---+----+------+------+\n",
      "|        ID|PRIMARY KEY|                 _id|               date|    flag|                text|         user|year|month|day|hour|minute|second|\n",
      "+----------+-----------+--------------------+-------------------+--------+--------------------+-------------+----+-----+---+----+------+------+\n",
      "|1551363506|     816210|{66367bb0e048fa3c...|2009-04-18 15:51:40|NO_QUERY|@ctribe I hope yo...|prosario_2000|2009|    4| 18|  15|    51|    40|\n",
      "|2059493951|     408810|{66367bb0e048fa3c...|2009-06-07 00:02:45|NO_QUERY|Kinda scared to s...|        l7l7v|2009|    6|  7|   0|     2|    45|\n",
      "|1990436550|    1223636|{66367bb0e048fa3c...|2009-06-01 11:52:03|NO_QUERY|@karinhoegh  Didn...|         kmdk|2009|    6|  1|  11|    52|     3|\n",
      "|1990436582|    1223637|{66367bb0e048fa3c...|2009-06-01 11:52:03|NO_QUERY|Need more FPS.......| jflinchbaugh|2009|    6|  1|  11|    52|     3|\n",
      "|1990436614|    1223638|{66367bb0e048fa3c...|2009-06-01 11:52:04|NO_QUERY|@SteveOGallagher ...|    kittaykat|2009|    6|  1|  11|    52|     4|\n",
      "+----------+-----------+--------------------+-------------------+--------+--------------------+-------------+----+-----+---+----+------+------+\n",
      "only showing top 5 rows\n",
      "\n"
     ]
    }
   ],
   "source": [
    "df.show(5)"
   ]
  },
  {
   "cell_type": "code",
   "execution_count": 24,
   "id": "0c454c80-e4e2-4dc9-aa0a-24c70f313ed5",
   "metadata": {},
   "outputs": [],
   "source": [
    "df = df.drop(\"_id\", \"ID\", \"PRIMARY KEY\")"
   ]
  },
  {
   "cell_type": "code",
   "execution_count": 25,
   "id": "31d4a827-9c5c-40f1-ac43-113524c40842",
   "metadata": {},
   "outputs": [
    {
     "name": "stdout",
     "output_type": "stream",
     "text": [
      "+-------------------+--------+--------------------+---------------+----+-----+---+----+------+------+\n",
      "|               date|    flag|                text|           user|year|month|day|hour|minute|second|\n",
      "+-------------------+--------+--------------------+---------------+----+-----+---+----+------+------+\n",
      "|2009-04-18 15:51:40|NO_QUERY|@ctribe I hope yo...|  prosario_2000|2009|    4| 18|  15|    51|    40|\n",
      "|2009-06-07 00:02:45|NO_QUERY|Kinda scared to s...|          l7l7v|2009|    6|  7|   0|     2|    45|\n",
      "|2009-06-01 11:52:03|NO_QUERY|@karinhoegh  Didn...|           kmdk|2009|    6|  1|  11|    52|     3|\n",
      "|2009-06-01 11:52:03|NO_QUERY|Need more FPS.......|   jflinchbaugh|2009|    6|  1|  11|    52|     3|\n",
      "|2009-06-01 11:52:04|NO_QUERY|@SteveOGallagher ...|      kittaykat|2009|    6|  1|  11|    52|     4|\n",
      "|2009-04-18 15:51:39|NO_QUERY|@Boy_Kill_Boy Nop...|Chelsea_Volturi|2009|    4| 18|  15|    51|    39|\n",
      "|2009-06-01 11:52:04|NO_QUERY|Can't wait for th...|          Mm_Ka|2009|    6|  1|  11|    52|     4|\n",
      "|2009-06-01 11:52:04|NO_QUERY|@nickayre Lol. Bu...|    bryancheung|2009|    6|  1|  11|    52|     4|\n",
      "|2009-06-01 11:52:05|NO_QUERY|I love it when I ...|      videohive|2009|    6|  1|  11|    52|     5|\n",
      "|2009-04-18 15:51:41|NO_QUERY|@marty0518 Someti...|askbillmitchell|2009|    4| 18|  15|    51|    41|\n",
      "|2009-06-01 11:52:05|NO_QUERY|http://twitpic.co...|     kayepintac|2009|    6|  1|  11|    52|     5|\n",
      "|2009-04-18 15:51:41|NO_QUERY|so i guesss im no...|       kendiixd|2009|    4| 18|  15|    51|    41|\n",
      "|2009-06-01 11:52:05|NO_QUERY|@STARBUCK_NOLA Wh...|     Dayewalker|2009|    6|  1|  11|    52|     5|\n",
      "|2009-04-18 15:51:42|NO_QUERY|@DaiLS I do that,...|    ladycalypso|2009|    4| 18|  15|    51|    42|\n",
      "|2009-06-01 11:52:06|NO_QUERY|Taking down the t...|          padrg|2009|    6|  1|  11|    52|     6|\n",
      "|2009-04-18 15:51:43|NO_QUERY|trendy topic - Re...| FindingAnswers|2009|    4| 18|  15|    51|    43|\n",
      "|2009-06-01 11:52:06|NO_QUERY|@Jon_W_Turner i k...| electronichaze|2009|    6|  1|  11|    52|     6|\n",
      "|2009-04-18 15:51:43|NO_QUERY|@firsttiger Real ...|      HTwashere|2009|    4| 18|  15|    51|    43|\n",
      "|2009-06-01 11:52:08|NO_QUERY|@freshleafdesign ...|  runwaycrochet|2009|    6|  1|  11|    52|     8|\n",
      "|2009-04-18 15:51:43|NO_QUERY|@Dragoncade I see...|     kelliekano|2009|    4| 18|  15|    51|    43|\n",
      "+-------------------+--------+--------------------+---------------+----+-----+---+----+------+------+\n",
      "only showing top 20 rows\n",
      "\n"
     ]
    }
   ],
   "source": [
    "df.show()"
   ]
  },
  {
   "cell_type": "markdown",
   "id": "4adcd709",
   "metadata": {},
   "source": [
    "## Save the df Dataframe as a Pandas"
   ]
  },
  {
   "cell_type": "code",
   "execution_count": 26,
   "id": "c1c79181-cf3f-4a96-b13e-250d46b8f9a4",
   "metadata": {},
   "outputs": [],
   "source": [
    "data = df.collect()"
   ]
  },
  {
   "cell_type": "code",
   "execution_count": 27,
   "id": "b5f72732-7fb8-4d2b-a717-1089f13a4928",
   "metadata": {},
   "outputs": [],
   "source": [
    "#import pandas as pd\n",
    "#Create pandas DataFrame from the list of rows\n",
    "pandas_df = pd.DataFrame(data)"
   ]
  },
  {
   "cell_type": "code",
   "execution_count": 28,
   "id": "0c0a3de3-5f9d-460b-9c03-1323dc5d9352",
   "metadata": {},
   "outputs": [],
   "source": [
    "pandas_df.columns = df.columns "
   ]
  },
  {
   "cell_type": "code",
   "execution_count": 29,
   "id": "79d6ea32-f739-4923-8a77-e21fdb1bca4c",
   "metadata": {},
   "outputs": [
    {
     "data": {
      "text/plain": [
       "(1600000, 10)"
      ]
     },
     "execution_count": 29,
     "metadata": {},
     "output_type": "execute_result"
    }
   ],
   "source": [
    "pandas_df.shape"
   ]
  },
  {
   "cell_type": "code",
   "execution_count": 31,
   "id": "00fec948-c900-4408-81a4-1c31dd2017d6",
   "metadata": {},
   "outputs": [],
   "source": [
    "#file path where you want to save the CSV file\n",
    "file_path = \"pandas_data.csv\"\n",
    "\n",
    "# Save the DataFrame to a CSV file\n",
    "pandas_df.to_csv(file_path)"
   ]
  },
  {
   "cell_type": "markdown",
   "id": "ecf8399d",
   "metadata": {},
   "source": [
    "# Read the  pandas_data csv"
   ]
  },
  {
   "cell_type": "code",
   "execution_count": 21,
   "id": "7aa9eac6",
   "metadata": {},
   "outputs": [],
   "source": [
    "import pandas as pd\n",
    "\n",
    "#Load the data\n",
    "df = pd.read_csv(\"C:/Users/Diana/Documents/Semester 2/sem two ca 2/pandas_data.csv\")"
   ]
  },
  {
   "cell_type": "markdown",
   "id": "1fc43617",
   "metadata": {},
   "source": [
    "## Exploratory Data Analysis\n",
    "\n",
    "This process involves:-\n",
    "\n",
    "a) View the first and last few observations of the df dataframe\n",
    "\n",
    "b) View the number of observations and variables the df dataframe has\n",
    "\n",
    "c) View the entire df dataframe to check the data types and any missing data in a particluar variable.\n"
   ]
  },
  {
   "cell_type": "code",
   "execution_count": 2,
   "id": "dcf1a946",
   "metadata": {},
   "outputs": [
    {
     "data": {
      "text/html": [
       "<div>\n",
       "<style scoped>\n",
       "    .dataframe tbody tr th:only-of-type {\n",
       "        vertical-align: middle;\n",
       "    }\n",
       "\n",
       "    .dataframe tbody tr th {\n",
       "        vertical-align: top;\n",
       "    }\n",
       "\n",
       "    .dataframe thead th {\n",
       "        text-align: right;\n",
       "    }\n",
       "</style>\n",
       "<table border=\"1\" class=\"dataframe\">\n",
       "  <thead>\n",
       "    <tr style=\"text-align: right;\">\n",
       "      <th></th>\n",
       "      <th>Unnamed: 0</th>\n",
       "      <th>date</th>\n",
       "      <th>flag</th>\n",
       "      <th>text</th>\n",
       "      <th>user</th>\n",
       "      <th>year</th>\n",
       "      <th>month</th>\n",
       "      <th>day</th>\n",
       "      <th>hour</th>\n",
       "      <th>minute</th>\n",
       "      <th>second</th>\n",
       "    </tr>\n",
       "  </thead>\n",
       "  <tbody>\n",
       "    <tr>\n",
       "      <th>0</th>\n",
       "      <td>0</td>\n",
       "      <td>2009-04-18 15:51:40</td>\n",
       "      <td>NO_QUERY</td>\n",
       "      <td>@ctribe I hope you are having a great day.</td>\n",
       "      <td>prosario_2000</td>\n",
       "      <td>2009</td>\n",
       "      <td>4</td>\n",
       "      <td>18</td>\n",
       "      <td>15</td>\n",
       "      <td>51</td>\n",
       "      <td>40</td>\n",
       "    </tr>\n",
       "    <tr>\n",
       "      <th>1</th>\n",
       "      <td>1</td>\n",
       "      <td>2009-06-07 00:02:45</td>\n",
       "      <td>NO_QUERY</td>\n",
       "      <td>Kinda scared to sleep alone in this house toni...</td>\n",
       "      <td>l7l7v</td>\n",
       "      <td>2009</td>\n",
       "      <td>6</td>\n",
       "      <td>7</td>\n",
       "      <td>0</td>\n",
       "      <td>2</td>\n",
       "      <td>45</td>\n",
       "    </tr>\n",
       "    <tr>\n",
       "      <th>2</th>\n",
       "      <td>2</td>\n",
       "      <td>2009-06-01 11:52:03</td>\n",
       "      <td>NO_QUERY</td>\n",
       "      <td>@karinhoegh  Didn't think of national holidays...</td>\n",
       "      <td>kmdk</td>\n",
       "      <td>2009</td>\n",
       "      <td>6</td>\n",
       "      <td>1</td>\n",
       "      <td>11</td>\n",
       "      <td>52</td>\n",
       "      <td>3</td>\n",
       "    </tr>\n",
       "    <tr>\n",
       "      <th>3</th>\n",
       "      <td>3</td>\n",
       "      <td>2009-06-01 11:52:03</td>\n",
       "      <td>NO_QUERY</td>\n",
       "      <td>Need more FPS....time to shop for a new camera...</td>\n",
       "      <td>jflinchbaugh</td>\n",
       "      <td>2009</td>\n",
       "      <td>6</td>\n",
       "      <td>1</td>\n",
       "      <td>11</td>\n",
       "      <td>52</td>\n",
       "      <td>3</td>\n",
       "    </tr>\n",
       "    <tr>\n",
       "      <th>4</th>\n",
       "      <td>4</td>\n",
       "      <td>2009-06-01 11:52:04</td>\n",
       "      <td>NO_QUERY</td>\n",
       "      <td>@SteveOGallagher take me with u</td>\n",
       "      <td>kittaykat</td>\n",
       "      <td>2009</td>\n",
       "      <td>6</td>\n",
       "      <td>1</td>\n",
       "      <td>11</td>\n",
       "      <td>52</td>\n",
       "      <td>4</td>\n",
       "    </tr>\n",
       "  </tbody>\n",
       "</table>\n",
       "</div>"
      ],
      "text/plain": [
       "   Unnamed: 0                 date      flag  \\\n",
       "0           0  2009-04-18 15:51:40  NO_QUERY   \n",
       "1           1  2009-06-07 00:02:45  NO_QUERY   \n",
       "2           2  2009-06-01 11:52:03  NO_QUERY   \n",
       "3           3  2009-06-01 11:52:03  NO_QUERY   \n",
       "4           4  2009-06-01 11:52:04  NO_QUERY   \n",
       "\n",
       "                                                text           user  year  \\\n",
       "0        @ctribe I hope you are having a great day.   prosario_2000  2009   \n",
       "1  Kinda scared to sleep alone in this house toni...          l7l7v  2009   \n",
       "2  @karinhoegh  Didn't think of national holidays...           kmdk  2009   \n",
       "3  Need more FPS....time to shop for a new camera...   jflinchbaugh  2009   \n",
       "4                   @SteveOGallagher take me with u       kittaykat  2009   \n",
       "\n",
       "   month  day  hour  minute  second  \n",
       "0      4   18    15      51      40  \n",
       "1      6    7     0       2      45  \n",
       "2      6    1    11      52       3  \n",
       "3      6    1    11      52       3  \n",
       "4      6    1    11      52       4  "
      ]
     },
     "execution_count": 2,
     "metadata": {},
     "output_type": "execute_result"
    }
   ],
   "source": [
    "#View the first few observations of the df DataFrame\n",
    "df.head(5)"
   ]
  },
  {
   "cell_type": "code",
   "execution_count": 3,
   "id": "c71c35ea",
   "metadata": {},
   "outputs": [
    {
     "data": {
      "text/html": [
       "<div>\n",
       "<style scoped>\n",
       "    .dataframe tbody tr th:only-of-type {\n",
       "        vertical-align: middle;\n",
       "    }\n",
       "\n",
       "    .dataframe tbody tr th {\n",
       "        vertical-align: top;\n",
       "    }\n",
       "\n",
       "    .dataframe thead th {\n",
       "        text-align: right;\n",
       "    }\n",
       "</style>\n",
       "<table border=\"1\" class=\"dataframe\">\n",
       "  <thead>\n",
       "    <tr style=\"text-align: right;\">\n",
       "      <th></th>\n",
       "      <th>Unnamed: 0</th>\n",
       "      <th>date</th>\n",
       "      <th>flag</th>\n",
       "      <th>text</th>\n",
       "      <th>user</th>\n",
       "      <th>year</th>\n",
       "      <th>month</th>\n",
       "      <th>day</th>\n",
       "      <th>hour</th>\n",
       "      <th>minute</th>\n",
       "      <th>second</th>\n",
       "    </tr>\n",
       "  </thead>\n",
       "  <tbody>\n",
       "    <tr>\n",
       "      <th>1599995</th>\n",
       "      <td>1599995</td>\n",
       "      <td>2009-06-07 00:02:36</td>\n",
       "      <td>NO_QUERY</td>\n",
       "      <td>I just got a bunch of money for graduation, bu...</td>\n",
       "      <td>chichi7391</td>\n",
       "      <td>2009</td>\n",
       "      <td>6</td>\n",
       "      <td>7</td>\n",
       "      <td>0</td>\n",
       "      <td>2</td>\n",
       "      <td>36</td>\n",
       "    </tr>\n",
       "    <tr>\n",
       "      <th>1599996</th>\n",
       "      <td>1599996</td>\n",
       "      <td>2009-06-07 00:02:40</td>\n",
       "      <td>NO_QUERY</td>\n",
       "      <td>were is my pic</td>\n",
       "      <td>lambrinilesley</td>\n",
       "      <td>2009</td>\n",
       "      <td>6</td>\n",
       "      <td>7</td>\n",
       "      <td>0</td>\n",
       "      <td>2</td>\n",
       "      <td>40</td>\n",
       "    </tr>\n",
       "    <tr>\n",
       "      <th>1599997</th>\n",
       "      <td>1599997</td>\n",
       "      <td>2009-06-07 00:02:41</td>\n",
       "      <td>NO_QUERY</td>\n",
       "      <td>@sar_88 you had to wait 2 hours for the foood</td>\n",
       "      <td>sweetmash</td>\n",
       "      <td>2009</td>\n",
       "      <td>6</td>\n",
       "      <td>7</td>\n",
       "      <td>0</td>\n",
       "      <td>2</td>\n",
       "      <td>41</td>\n",
       "    </tr>\n",
       "    <tr>\n",
       "      <th>1599998</th>\n",
       "      <td>1599998</td>\n",
       "      <td>2009-06-07 00:02:41</td>\n",
       "      <td>NO_QUERY</td>\n",
       "      <td>@pollyyy by the way i hate you for seeing bran...</td>\n",
       "      <td>LittleBirkett</td>\n",
       "      <td>2009</td>\n",
       "      <td>6</td>\n",
       "      <td>7</td>\n",
       "      <td>0</td>\n",
       "      <td>2</td>\n",
       "      <td>41</td>\n",
       "    </tr>\n",
       "    <tr>\n",
       "      <th>1599999</th>\n",
       "      <td>1599999</td>\n",
       "      <td>2009-06-07 00:02:41</td>\n",
       "      <td>NO_QUERY</td>\n",
       "      <td>Not looking forward to a good 9 hours at One P...</td>\n",
       "      <td>paul_hauffe</td>\n",
       "      <td>2009</td>\n",
       "      <td>6</td>\n",
       "      <td>7</td>\n",
       "      <td>0</td>\n",
       "      <td>2</td>\n",
       "      <td>41</td>\n",
       "    </tr>\n",
       "  </tbody>\n",
       "</table>\n",
       "</div>"
      ],
      "text/plain": [
       "         Unnamed: 0                 date      flag  \\\n",
       "1599995     1599995  2009-06-07 00:02:36  NO_QUERY   \n",
       "1599996     1599996  2009-06-07 00:02:40  NO_QUERY   \n",
       "1599997     1599997  2009-06-07 00:02:41  NO_QUERY   \n",
       "1599998     1599998  2009-06-07 00:02:41  NO_QUERY   \n",
       "1599999     1599999  2009-06-07 00:02:41  NO_QUERY   \n",
       "\n",
       "                                                      text            user  \\\n",
       "1599995  I just got a bunch of money for graduation, bu...      chichi7391   \n",
       "1599996                                    were is my pic   lambrinilesley   \n",
       "1599997     @sar_88 you had to wait 2 hours for the foood        sweetmash   \n",
       "1599998  @pollyyy by the way i hate you for seeing bran...   LittleBirkett   \n",
       "1599999  Not looking forward to a good 9 hours at One P...     paul_hauffe   \n",
       "\n",
       "         year  month  day  hour  minute  second  \n",
       "1599995  2009      6    7     0       2      36  \n",
       "1599996  2009      6    7     0       2      40  \n",
       "1599997  2009      6    7     0       2      41  \n",
       "1599998  2009      6    7     0       2      41  \n",
       "1599999  2009      6    7     0       2      41  "
      ]
     },
     "execution_count": 3,
     "metadata": {},
     "output_type": "execute_result"
    }
   ],
   "source": [
    "#View the last few observations of the df DataFrame\n",
    "df.tail(5)"
   ]
  },
  {
   "cell_type": "code",
   "execution_count": 4,
   "id": "9d5967b0",
   "metadata": {},
   "outputs": [
    {
     "data": {
      "text/plain": [
       "(1600000, 11)"
      ]
     },
     "execution_count": 4,
     "metadata": {},
     "output_type": "execute_result"
    }
   ],
   "source": [
    "#View the shape of the df DataFrame\n",
    "df.shape"
   ]
  },
  {
   "cell_type": "code",
   "execution_count": 5,
   "id": "d032ff6f",
   "metadata": {},
   "outputs": [
    {
     "name": "stdout",
     "output_type": "stream",
     "text": [
      "<class 'pandas.core.frame.DataFrame'>\n",
      "RangeIndex: 1600000 entries, 0 to 1599999\n",
      "Data columns (total 11 columns):\n",
      " #   Column      Non-Null Count    Dtype \n",
      "---  ------      --------------    ----- \n",
      " 0   Unnamed: 0  1600000 non-null  int64 \n",
      " 1   date        1600000 non-null  object\n",
      " 2   flag        1600000 non-null  object\n",
      " 3   text        1600000 non-null  object\n",
      " 4   user        1600000 non-null  object\n",
      " 5   year        1600000 non-null  int64 \n",
      " 6   month       1600000 non-null  int64 \n",
      " 7   day         1600000 non-null  int64 \n",
      " 8   hour        1600000 non-null  int64 \n",
      " 9   minute      1600000 non-null  int64 \n",
      " 10  second      1600000 non-null  int64 \n",
      "dtypes: int64(7), object(4)\n",
      "memory usage: 134.3+ MB\n"
     ]
    }
   ],
   "source": [
    "#View the features\n",
    "df.info()"
   ]
  },
  {
   "cell_type": "code",
   "execution_count": 6,
   "id": "0880a6b7",
   "metadata": {},
   "outputs": [],
   "source": [
    "# Convert the 'date_column' to datetime datatype\n",
    "df['date'] = pd.to_datetime(df['date'])"
   ]
  },
  {
   "cell_type": "code",
   "execution_count": 7,
   "id": "e3da2837",
   "metadata": {},
   "outputs": [
    {
     "name": "stdout",
     "output_type": "stream",
     "text": [
      "<class 'pandas.core.frame.DataFrame'>\n",
      "RangeIndex: 1600000 entries, 0 to 1599999\n",
      "Data columns (total 11 columns):\n",
      " #   Column      Non-Null Count    Dtype         \n",
      "---  ------      --------------    -----         \n",
      " 0   Unnamed: 0  1600000 non-null  int64         \n",
      " 1   date        1600000 non-null  datetime64[ns]\n",
      " 2   flag        1600000 non-null  object        \n",
      " 3   text        1600000 non-null  object        \n",
      " 4   user        1600000 non-null  object        \n",
      " 5   year        1600000 non-null  int64         \n",
      " 6   month       1600000 non-null  int64         \n",
      " 7   day         1600000 non-null  int64         \n",
      " 8   hour        1600000 non-null  int64         \n",
      " 9   minute      1600000 non-null  int64         \n",
      " 10  second      1600000 non-null  int64         \n",
      "dtypes: datetime64[ns](1), int64(7), object(3)\n",
      "memory usage: 134.3+ MB\n"
     ]
    }
   ],
   "source": [
    "#Check if the date has been changed to date time\n",
    "df.info()"
   ]
  },
  {
   "cell_type": "code",
   "execution_count": 8,
   "id": "fec6e655",
   "metadata": {},
   "outputs": [
    {
     "data": {
      "text/html": [
       "<div>\n",
       "<style scoped>\n",
       "    .dataframe tbody tr th:only-of-type {\n",
       "        vertical-align: middle;\n",
       "    }\n",
       "\n",
       "    .dataframe tbody tr th {\n",
       "        vertical-align: top;\n",
       "    }\n",
       "\n",
       "    .dataframe thead th {\n",
       "        text-align: right;\n",
       "    }\n",
       "</style>\n",
       "<table border=\"1\" class=\"dataframe\">\n",
       "  <thead>\n",
       "    <tr style=\"text-align: right;\">\n",
       "      <th></th>\n",
       "      <th>Unnamed: 0</th>\n",
       "      <th>date</th>\n",
       "      <th>flag</th>\n",
       "      <th>text</th>\n",
       "      <th>user</th>\n",
       "      <th>year</th>\n",
       "      <th>month</th>\n",
       "      <th>day</th>\n",
       "      <th>hour</th>\n",
       "      <th>minute</th>\n",
       "      <th>second</th>\n",
       "    </tr>\n",
       "  </thead>\n",
       "  <tbody>\n",
       "    <tr>\n",
       "      <th>0</th>\n",
       "      <td>0</td>\n",
       "      <td>2009-04-18 15:51:40</td>\n",
       "      <td>NO_QUERY</td>\n",
       "      <td>@ctribe I hope you are having a great day.</td>\n",
       "      <td>prosario_2000</td>\n",
       "      <td>2009</td>\n",
       "      <td>4</td>\n",
       "      <td>18</td>\n",
       "      <td>15</td>\n",
       "      <td>51</td>\n",
       "      <td>40</td>\n",
       "    </tr>\n",
       "    <tr>\n",
       "      <th>1</th>\n",
       "      <td>1</td>\n",
       "      <td>2009-06-07 00:02:45</td>\n",
       "      <td>NO_QUERY</td>\n",
       "      <td>Kinda scared to sleep alone in this house toni...</td>\n",
       "      <td>l7l7v</td>\n",
       "      <td>2009</td>\n",
       "      <td>6</td>\n",
       "      <td>7</td>\n",
       "      <td>0</td>\n",
       "      <td>2</td>\n",
       "      <td>45</td>\n",
       "    </tr>\n",
       "    <tr>\n",
       "      <th>2</th>\n",
       "      <td>2</td>\n",
       "      <td>2009-06-01 11:52:03</td>\n",
       "      <td>NO_QUERY</td>\n",
       "      <td>@karinhoegh  Didn't think of national holidays...</td>\n",
       "      <td>kmdk</td>\n",
       "      <td>2009</td>\n",
       "      <td>6</td>\n",
       "      <td>1</td>\n",
       "      <td>11</td>\n",
       "      <td>52</td>\n",
       "      <td>3</td>\n",
       "    </tr>\n",
       "    <tr>\n",
       "      <th>3</th>\n",
       "      <td>3</td>\n",
       "      <td>2009-06-01 11:52:03</td>\n",
       "      <td>NO_QUERY</td>\n",
       "      <td>Need more FPS....time to shop for a new camera...</td>\n",
       "      <td>jflinchbaugh</td>\n",
       "      <td>2009</td>\n",
       "      <td>6</td>\n",
       "      <td>1</td>\n",
       "      <td>11</td>\n",
       "      <td>52</td>\n",
       "      <td>3</td>\n",
       "    </tr>\n",
       "    <tr>\n",
       "      <th>4</th>\n",
       "      <td>4</td>\n",
       "      <td>2009-06-01 11:52:04</td>\n",
       "      <td>NO_QUERY</td>\n",
       "      <td>@SteveOGallagher take me with u</td>\n",
       "      <td>kittaykat</td>\n",
       "      <td>2009</td>\n",
       "      <td>6</td>\n",
       "      <td>1</td>\n",
       "      <td>11</td>\n",
       "      <td>52</td>\n",
       "      <td>4</td>\n",
       "    </tr>\n",
       "  </tbody>\n",
       "</table>\n",
       "</div>"
      ],
      "text/plain": [
       "   Unnamed: 0                date      flag  \\\n",
       "0           0 2009-04-18 15:51:40  NO_QUERY   \n",
       "1           1 2009-06-07 00:02:45  NO_QUERY   \n",
       "2           2 2009-06-01 11:52:03  NO_QUERY   \n",
       "3           3 2009-06-01 11:52:03  NO_QUERY   \n",
       "4           4 2009-06-01 11:52:04  NO_QUERY   \n",
       "\n",
       "                                                text           user  year  \\\n",
       "0        @ctribe I hope you are having a great day.   prosario_2000  2009   \n",
       "1  Kinda scared to sleep alone in this house toni...          l7l7v  2009   \n",
       "2  @karinhoegh  Didn't think of national holidays...           kmdk  2009   \n",
       "3  Need more FPS....time to shop for a new camera...   jflinchbaugh  2009   \n",
       "4                   @SteveOGallagher take me with u       kittaykat  2009   \n",
       "\n",
       "   month  day  hour  minute  second  \n",
       "0      4   18    15      51      40  \n",
       "1      6    7     0       2      45  \n",
       "2      6    1    11      52       3  \n",
       "3      6    1    11      52       3  \n",
       "4      6    1    11      52       4  "
      ]
     },
     "execution_count": 8,
     "metadata": {},
     "output_type": "execute_result"
    }
   ],
   "source": [
    "#Check the df\n",
    "df.head(5)"
   ]
  },
  {
   "cell_type": "markdown",
   "id": "3540853d",
   "metadata": {},
   "source": [
    "## Twitter csv Processing"
   ]
  },
  {
   "cell_type": "code",
   "execution_count": 16,
   "id": "e31b3b4c",
   "metadata": {},
   "outputs": [],
   "source": [
    "#Count the number of words in the text\n",
    "df['word_count'] = df['text'].apply(lambda x: len(str(x).split(\" \")))"
   ]
  },
  {
   "cell_type": "code",
   "execution_count": 17,
   "id": "a9a83a8e",
   "metadata": {},
   "outputs": [
    {
     "data": {
      "text/html": [
       "<div>\n",
       "<style scoped>\n",
       "    .dataframe tbody tr th:only-of-type {\n",
       "        vertical-align: middle;\n",
       "    }\n",
       "\n",
       "    .dataframe tbody tr th {\n",
       "        vertical-align: top;\n",
       "    }\n",
       "\n",
       "    .dataframe thead th {\n",
       "        text-align: right;\n",
       "    }\n",
       "</style>\n",
       "<table border=\"1\" class=\"dataframe\">\n",
       "  <thead>\n",
       "    <tr style=\"text-align: right;\">\n",
       "      <th></th>\n",
       "      <th>text</th>\n",
       "      <th>word_count</th>\n",
       "    </tr>\n",
       "  </thead>\n",
       "  <tbody>\n",
       "    <tr>\n",
       "      <th>0</th>\n",
       "      <td>@ctribe I hope you are having a great day.</td>\n",
       "      <td>10</td>\n",
       "    </tr>\n",
       "    <tr>\n",
       "      <th>1</th>\n",
       "      <td>Kinda scared to sleep alone in this house toni...</td>\n",
       "      <td>15</td>\n",
       "    </tr>\n",
       "    <tr>\n",
       "      <th>2</th>\n",
       "      <td>@karinhoegh  Didn't think of national holidays...</td>\n",
       "      <td>18</td>\n",
       "    </tr>\n",
       "    <tr>\n",
       "      <th>3</th>\n",
       "      <td>Need more FPS....time to shop for a new camera...</td>\n",
       "      <td>12</td>\n",
       "    </tr>\n",
       "    <tr>\n",
       "      <th>4</th>\n",
       "      <td>@SteveOGallagher take me with u</td>\n",
       "      <td>6</td>\n",
       "    </tr>\n",
       "  </tbody>\n",
       "</table>\n",
       "</div>"
      ],
      "text/plain": [
       "                                                text  word_count\n",
       "0        @ctribe I hope you are having a great day.           10\n",
       "1  Kinda scared to sleep alone in this house toni...          15\n",
       "2  @karinhoegh  Didn't think of national holidays...          18\n",
       "3  Need more FPS....time to shop for a new camera...          12\n",
       "4                   @SteveOGallagher take me with u            6"
      ]
     },
     "execution_count": 17,
     "metadata": {},
     "output_type": "execute_result"
    }
   ],
   "source": [
    "df[[\"text\",\"word_count\"]].head(5)"
   ]
  },
  {
   "cell_type": "code",
   "execution_count": 18,
   "id": "c0e2c6f4",
   "metadata": {},
   "outputs": [
    {
     "data": {
      "text/plain": [
       "110"
      ]
     },
     "execution_count": 18,
     "metadata": {},
     "output_type": "execute_result"
    }
   ],
   "source": [
    "#Find the maximum number of words in the 'word_count' variable of the 'df' DataFrame\n",
    "largest_word_count = df[\"word_count\"].max()\n",
    "largest_word_count"
   ]
  },
  {
   "cell_type": "code",
   "execution_count": 40,
   "id": "be9b4416",
   "metadata": {},
   "outputs": [],
   "source": [
    "#Count the number of characters in the text variable\n",
    "df['char_count'] = df['text'].str.len() "
   ]
  },
  {
   "cell_type": "code",
   "execution_count": 41,
   "id": "ad625a33",
   "metadata": {},
   "outputs": [
    {
     "data": {
      "text/html": [
       "<div>\n",
       "<style scoped>\n",
       "    .dataframe tbody tr th:only-of-type {\n",
       "        vertical-align: middle;\n",
       "    }\n",
       "\n",
       "    .dataframe tbody tr th {\n",
       "        vertical-align: top;\n",
       "    }\n",
       "\n",
       "    .dataframe thead th {\n",
       "        text-align: right;\n",
       "    }\n",
       "</style>\n",
       "<table border=\"1\" class=\"dataframe\">\n",
       "  <thead>\n",
       "    <tr style=\"text-align: right;\">\n",
       "      <th></th>\n",
       "      <th>text</th>\n",
       "      <th>char_count</th>\n",
       "    </tr>\n",
       "  </thead>\n",
       "  <tbody>\n",
       "    <tr>\n",
       "      <th>0</th>\n",
       "      <td>@ctribe I hope you are having a great day.</td>\n",
       "      <td>43</td>\n",
       "    </tr>\n",
       "    <tr>\n",
       "      <th>1</th>\n",
       "      <td>Kinda scared to sleep alone in this house toni...</td>\n",
       "      <td>82</td>\n",
       "    </tr>\n",
       "    <tr>\n",
       "      <th>2</th>\n",
       "      <td>@karinhoegh  Didn't think of national holidays...</td>\n",
       "      <td>107</td>\n",
       "    </tr>\n",
       "    <tr>\n",
       "      <th>3</th>\n",
       "      <td>Need more FPS....time to shop for a new camera...</td>\n",
       "      <td>71</td>\n",
       "    </tr>\n",
       "    <tr>\n",
       "      <th>4</th>\n",
       "      <td>@SteveOGallagher take me with u</td>\n",
       "      <td>32</td>\n",
       "    </tr>\n",
       "  </tbody>\n",
       "</table>\n",
       "</div>"
      ],
      "text/plain": [
       "                                                text  char_count\n",
       "0        @ctribe I hope you are having a great day.           43\n",
       "1  Kinda scared to sleep alone in this house toni...          82\n",
       "2  @karinhoegh  Didn't think of national holidays...         107\n",
       "3  Need more FPS....time to shop for a new camera...          71\n",
       "4                   @SteveOGallagher take me with u           32"
      ]
     },
     "execution_count": 41,
     "metadata": {},
     "output_type": "execute_result"
    }
   ],
   "source": [
    "#View the head of the char_count and text\n",
    "df[[\"text\",\"char_count\"]].head(5)"
   ]
  },
  {
   "cell_type": "code",
   "execution_count": 42,
   "id": "30a43398",
   "metadata": {},
   "outputs": [],
   "source": [
    "#define a function to calculate the average length of words in a sentence\n",
    "def avg_word(sentence):\n",
    "  words = sentence.split()\n",
    "  return (sum(len(word) for word in words)/len(words))"
   ]
  },
  {
   "cell_type": "code",
   "execution_count": 43,
   "id": "1921e3d2",
   "metadata": {},
   "outputs": [],
   "source": [
    "#Apply the avg_word function on text\n",
    "df['avg_word'] = df['text'].apply(lambda x: avg_word(x))"
   ]
  },
  {
   "cell_type": "code",
   "execution_count": 44,
   "id": "8af70949",
   "metadata": {},
   "outputs": [
    {
     "data": {
      "text/html": [
       "<div>\n",
       "<style scoped>\n",
       "    .dataframe tbody tr th:only-of-type {\n",
       "        vertical-align: middle;\n",
       "    }\n",
       "\n",
       "    .dataframe tbody tr th {\n",
       "        vertical-align: top;\n",
       "    }\n",
       "\n",
       "    .dataframe thead th {\n",
       "        text-align: right;\n",
       "    }\n",
       "</style>\n",
       "<table border=\"1\" class=\"dataframe\">\n",
       "  <thead>\n",
       "    <tr style=\"text-align: right;\">\n",
       "      <th></th>\n",
       "      <th>text</th>\n",
       "      <th>avg_word</th>\n",
       "    </tr>\n",
       "  </thead>\n",
       "  <tbody>\n",
       "    <tr>\n",
       "      <th>0</th>\n",
       "      <td>@ctribe I hope you are having a great day.</td>\n",
       "      <td>3.777778</td>\n",
       "    </tr>\n",
       "    <tr>\n",
       "      <th>1</th>\n",
       "      <td>Kinda scared to sleep alone in this house toni...</td>\n",
       "      <td>4.857143</td>\n",
       "    </tr>\n",
       "    <tr>\n",
       "      <th>2</th>\n",
       "      <td>@karinhoegh  Didn't think of national holidays...</td>\n",
       "      <td>5.294118</td>\n",
       "    </tr>\n",
       "    <tr>\n",
       "      <th>3</th>\n",
       "      <td>Need more FPS....time to shop for a new camera...</td>\n",
       "      <td>5.454545</td>\n",
       "    </tr>\n",
       "    <tr>\n",
       "      <th>4</th>\n",
       "      <td>@SteveOGallagher take me with u</td>\n",
       "      <td>5.400000</td>\n",
       "    </tr>\n",
       "  </tbody>\n",
       "</table>\n",
       "</div>"
      ],
      "text/plain": [
       "                                                text  avg_word\n",
       "0        @ctribe I hope you are having a great day.   3.777778\n",
       "1  Kinda scared to sleep alone in this house toni...  4.857143\n",
       "2  @karinhoegh  Didn't think of national holidays...  5.294118\n",
       "3  Need more FPS....time to shop for a new camera...  5.454545\n",
       "4                   @SteveOGallagher take me with u   5.400000"
      ]
     },
     "execution_count": 44,
     "metadata": {},
     "output_type": "execute_result"
    }
   ],
   "source": [
    "#View text and avg_word\n",
    "df[['text','avg_word']].head()"
   ]
  },
  {
   "cell_type": "code",
   "execution_count": 45,
   "id": "6339800b",
   "metadata": {},
   "outputs": [
    {
     "name": "stderr",
     "output_type": "stream",
     "text": [
      "[nltk_data] Downloading package stopwords to\n",
      "[nltk_data]     C:\\Users\\Diana\\AppData\\Roaming\\nltk_data...\n",
      "[nltk_data]   Package stopwords is already up-to-date!\n"
     ]
    },
    {
     "data": {
      "text/plain": [
       "True"
      ]
     },
     "execution_count": 45,
     "metadata": {},
     "output_type": "execute_result"
    }
   ],
   "source": [
    "import nltk\n",
    "nltk.download('stopwords')"
   ]
  },
  {
   "cell_type": "code",
   "execution_count": 46,
   "id": "dd566ff9",
   "metadata": {},
   "outputs": [],
   "source": [
    "from nltk.corpus import stopwords\n",
    "stop = stopwords.words('english')"
   ]
  },
  {
   "cell_type": "code",
   "execution_count": 47,
   "id": "2f3292c9",
   "metadata": {},
   "outputs": [
    {
     "data": {
      "text/html": [
       "<div>\n",
       "<style scoped>\n",
       "    .dataframe tbody tr th:only-of-type {\n",
       "        vertical-align: middle;\n",
       "    }\n",
       "\n",
       "    .dataframe tbody tr th {\n",
       "        vertical-align: top;\n",
       "    }\n",
       "\n",
       "    .dataframe thead th {\n",
       "        text-align: right;\n",
       "    }\n",
       "</style>\n",
       "<table border=\"1\" class=\"dataframe\">\n",
       "  <thead>\n",
       "    <tr style=\"text-align: right;\">\n",
       "      <th></th>\n",
       "      <th>text</th>\n",
       "      <th>stopwords</th>\n",
       "    </tr>\n",
       "  </thead>\n",
       "  <tbody>\n",
       "    <tr>\n",
       "      <th>0</th>\n",
       "      <td>@ctribe I hope you are having a great day.</td>\n",
       "      <td>4</td>\n",
       "    </tr>\n",
       "    <tr>\n",
       "      <th>1</th>\n",
       "      <td>Kinda scared to sleep alone in this house toni...</td>\n",
       "      <td>6</td>\n",
       "    </tr>\n",
       "    <tr>\n",
       "      <th>2</th>\n",
       "      <td>@karinhoegh  Didn't think of national holidays...</td>\n",
       "      <td>6</td>\n",
       "    </tr>\n",
       "    <tr>\n",
       "      <th>3</th>\n",
       "      <td>Need more FPS....time to shop for a new camera...</td>\n",
       "      <td>4</td>\n",
       "    </tr>\n",
       "    <tr>\n",
       "      <th>4</th>\n",
       "      <td>@SteveOGallagher take me with u</td>\n",
       "      <td>2</td>\n",
       "    </tr>\n",
       "  </tbody>\n",
       "</table>\n",
       "</div>"
      ],
      "text/plain": [
       "                                                text  stopwords\n",
       "0        @ctribe I hope you are having a great day.           4\n",
       "1  Kinda scared to sleep alone in this house toni...          6\n",
       "2  @karinhoegh  Didn't think of national holidays...          6\n",
       "3  Need more FPS....time to shop for a new camera...          4\n",
       "4                   @SteveOGallagher take me with u           2"
      ]
     },
     "execution_count": 47,
     "metadata": {},
     "output_type": "execute_result"
    }
   ],
   "source": [
    "#count number of stopwords in each text and store in a variable called stopwords\n",
    "df['stopwords'] = df['text'].apply(lambda x: len([x for x in x.split() if x in stop]))\n",
    "df[['text','stopwords']].head(5)"
   ]
  },
  {
   "cell_type": "code",
   "execution_count": 48,
   "id": "f9e61fa4",
   "metadata": {},
   "outputs": [
    {
     "data": {
      "text/html": [
       "<div>\n",
       "<style scoped>\n",
       "    .dataframe tbody tr th:only-of-type {\n",
       "        vertical-align: middle;\n",
       "    }\n",
       "\n",
       "    .dataframe tbody tr th {\n",
       "        vertical-align: top;\n",
       "    }\n",
       "\n",
       "    .dataframe thead th {\n",
       "        text-align: right;\n",
       "    }\n",
       "</style>\n",
       "<table border=\"1\" class=\"dataframe\">\n",
       "  <thead>\n",
       "    <tr style=\"text-align: right;\">\n",
       "      <th></th>\n",
       "      <th>text</th>\n",
       "      <th>hastags</th>\n",
       "    </tr>\n",
       "  </thead>\n",
       "  <tbody>\n",
       "    <tr>\n",
       "      <th>0</th>\n",
       "      <td>@ctribe I hope you are having a great day.</td>\n",
       "      <td>0</td>\n",
       "    </tr>\n",
       "    <tr>\n",
       "      <th>1</th>\n",
       "      <td>Kinda scared to sleep alone in this house toni...</td>\n",
       "      <td>0</td>\n",
       "    </tr>\n",
       "    <tr>\n",
       "      <th>2</th>\n",
       "      <td>@karinhoegh  Didn't think of national holidays...</td>\n",
       "      <td>0</td>\n",
       "    </tr>\n",
       "    <tr>\n",
       "      <th>3</th>\n",
       "      <td>Need more FPS....time to shop for a new camera...</td>\n",
       "      <td>0</td>\n",
       "    </tr>\n",
       "    <tr>\n",
       "      <th>4</th>\n",
       "      <td>@SteveOGallagher take me with u</td>\n",
       "      <td>0</td>\n",
       "    </tr>\n",
       "  </tbody>\n",
       "</table>\n",
       "</div>"
      ],
      "text/plain": [
       "                                                text  hastags\n",
       "0        @ctribe I hope you are having a great day.         0\n",
       "1  Kinda scared to sleep alone in this house toni...        0\n",
       "2  @karinhoegh  Didn't think of national holidays...        0\n",
       "3  Need more FPS....time to shop for a new camera...        0\n",
       "4                   @SteveOGallagher take me with u         0"
      ]
     },
     "execution_count": 48,
     "metadata": {},
     "output_type": "execute_result"
    }
   ],
   "source": [
    "#Count number of hashtags in each text and store in a variable called hastags\n",
    "df['hastags'] = df['text'].apply(lambda x: len([x for x in x.split() if x.startswith('#')]))\n",
    "df[['text','hastags']].head(5)"
   ]
  },
  {
   "cell_type": "code",
   "execution_count": 49,
   "id": "ded05876",
   "metadata": {},
   "outputs": [
    {
     "data": {
      "text/html": [
       "<div>\n",
       "<style scoped>\n",
       "    .dataframe tbody tr th:only-of-type {\n",
       "        vertical-align: middle;\n",
       "    }\n",
       "\n",
       "    .dataframe tbody tr th {\n",
       "        vertical-align: top;\n",
       "    }\n",
       "\n",
       "    .dataframe thead th {\n",
       "        text-align: right;\n",
       "    }\n",
       "</style>\n",
       "<table border=\"1\" class=\"dataframe\">\n",
       "  <thead>\n",
       "    <tr style=\"text-align: right;\">\n",
       "      <th></th>\n",
       "      <th>text</th>\n",
       "      <th>at_sign</th>\n",
       "    </tr>\n",
       "  </thead>\n",
       "  <tbody>\n",
       "    <tr>\n",
       "      <th>0</th>\n",
       "      <td>@ctribe I hope you are having a great day.</td>\n",
       "      <td>1</td>\n",
       "    </tr>\n",
       "    <tr>\n",
       "      <th>1</th>\n",
       "      <td>Kinda scared to sleep alone in this house toni...</td>\n",
       "      <td>0</td>\n",
       "    </tr>\n",
       "    <tr>\n",
       "      <th>2</th>\n",
       "      <td>@karinhoegh  Didn't think of national holidays...</td>\n",
       "      <td>1</td>\n",
       "    </tr>\n",
       "    <tr>\n",
       "      <th>3</th>\n",
       "      <td>Need more FPS....time to shop for a new camera...</td>\n",
       "      <td>0</td>\n",
       "    </tr>\n",
       "    <tr>\n",
       "      <th>4</th>\n",
       "      <td>@SteveOGallagher take me with u</td>\n",
       "      <td>1</td>\n",
       "    </tr>\n",
       "  </tbody>\n",
       "</table>\n",
       "</div>"
      ],
      "text/plain": [
       "                                                text  at_sign\n",
       "0        @ctribe I hope you are having a great day.         1\n",
       "1  Kinda scared to sleep alone in this house toni...        0\n",
       "2  @karinhoegh  Didn't think of national holidays...        1\n",
       "3  Need more FPS....time to shop for a new camera...        0\n",
       "4                   @SteveOGallagher take me with u         1"
      ]
     },
     "execution_count": 49,
     "metadata": {},
     "output_type": "execute_result"
    }
   ],
   "source": [
    "#count number of @ signs in text variable and store the value in a variable called at_sign\n",
    "df['at_sign'] = df['text'].apply(lambda x: len([x for x in x.split() if x.startswith('@')]))\n",
    "df[['text','at_sign']].head(5)"
   ]
  },
  {
   "cell_type": "code",
   "execution_count": 50,
   "id": "147097f8",
   "metadata": {},
   "outputs": [
    {
     "data": {
      "text/html": [
       "<div>\n",
       "<style scoped>\n",
       "    .dataframe tbody tr th:only-of-type {\n",
       "        vertical-align: middle;\n",
       "    }\n",
       "\n",
       "    .dataframe tbody tr th {\n",
       "        vertical-align: top;\n",
       "    }\n",
       "\n",
       "    .dataframe thead th {\n",
       "        text-align: right;\n",
       "    }\n",
       "</style>\n",
       "<table border=\"1\" class=\"dataframe\">\n",
       "  <thead>\n",
       "    <tr style=\"text-align: right;\">\n",
       "      <th></th>\n",
       "      <th>text</th>\n",
       "      <th>numerics</th>\n",
       "    </tr>\n",
       "  </thead>\n",
       "  <tbody>\n",
       "    <tr>\n",
       "      <th>0</th>\n",
       "      <td>@ctribe I hope you are having a great day.</td>\n",
       "      <td>0</td>\n",
       "    </tr>\n",
       "    <tr>\n",
       "      <th>1</th>\n",
       "      <td>Kinda scared to sleep alone in this house toni...</td>\n",
       "      <td>0</td>\n",
       "    </tr>\n",
       "    <tr>\n",
       "      <th>2</th>\n",
       "      <td>@karinhoegh  Didn't think of national holidays...</td>\n",
       "      <td>0</td>\n",
       "    </tr>\n",
       "    <tr>\n",
       "      <th>3</th>\n",
       "      <td>Need more FPS....time to shop for a new camera...</td>\n",
       "      <td>0</td>\n",
       "    </tr>\n",
       "    <tr>\n",
       "      <th>4</th>\n",
       "      <td>@SteveOGallagher take me with u</td>\n",
       "      <td>0</td>\n",
       "    </tr>\n",
       "  </tbody>\n",
       "</table>\n",
       "</div>"
      ],
      "text/plain": [
       "                                                text  numerics\n",
       "0        @ctribe I hope you are having a great day.          0\n",
       "1  Kinda scared to sleep alone in this house toni...         0\n",
       "2  @karinhoegh  Didn't think of national holidays...         0\n",
       "3  Need more FPS....time to shop for a new camera...         0\n",
       "4                   @SteveOGallagher take me with u          0"
      ]
     },
     "execution_count": 50,
     "metadata": {},
     "output_type": "execute_result"
    }
   ],
   "source": [
    "#count number of numerics in the text variable and store the value in a variable called numeric\n",
    "df['numerics'] = df['text'].apply(lambda x: len([x for x in x.split() if x.isdigit()]))\n",
    "df[['text','numerics']].head(5)"
   ]
  },
  {
   "cell_type": "code",
   "execution_count": 51,
   "id": "27b22026",
   "metadata": {},
   "outputs": [
    {
     "data": {
      "text/html": [
       "<div>\n",
       "<style scoped>\n",
       "    .dataframe tbody tr th:only-of-type {\n",
       "        vertical-align: middle;\n",
       "    }\n",
       "\n",
       "    .dataframe tbody tr th {\n",
       "        vertical-align: top;\n",
       "    }\n",
       "\n",
       "    .dataframe thead th {\n",
       "        text-align: right;\n",
       "    }\n",
       "</style>\n",
       "<table border=\"1\" class=\"dataframe\">\n",
       "  <thead>\n",
       "    <tr style=\"text-align: right;\">\n",
       "      <th></th>\n",
       "      <th>text</th>\n",
       "      <th>upper</th>\n",
       "    </tr>\n",
       "  </thead>\n",
       "  <tbody>\n",
       "    <tr>\n",
       "      <th>0</th>\n",
       "      <td>@ctribe I hope you are having a great day.</td>\n",
       "      <td>1</td>\n",
       "    </tr>\n",
       "    <tr>\n",
       "      <th>1</th>\n",
       "      <td>Kinda scared to sleep alone in this house toni...</td>\n",
       "      <td>0</td>\n",
       "    </tr>\n",
       "    <tr>\n",
       "      <th>2</th>\n",
       "      <td>@karinhoegh  Didn't think of national holidays...</td>\n",
       "      <td>1</td>\n",
       "    </tr>\n",
       "    <tr>\n",
       "      <th>3</th>\n",
       "      <td>Need more FPS....time to shop for a new camera...</td>\n",
       "      <td>0</td>\n",
       "    </tr>\n",
       "    <tr>\n",
       "      <th>4</th>\n",
       "      <td>@SteveOGallagher take me with u</td>\n",
       "      <td>0</td>\n",
       "    </tr>\n",
       "  </tbody>\n",
       "</table>\n",
       "</div>"
      ],
      "text/plain": [
       "                                                text  upper\n",
       "0        @ctribe I hope you are having a great day.       1\n",
       "1  Kinda scared to sleep alone in this house toni...      0\n",
       "2  @karinhoegh  Didn't think of national holidays...      1\n",
       "3  Need more FPS....time to shop for a new camera...      0\n",
       "4                   @SteveOGallagher take me with u       0"
      ]
     },
     "execution_count": 51,
     "metadata": {},
     "output_type": "execute_result"
    }
   ],
   "source": [
    "#count number of uppercases in the text variable and store the value in a variable called upper\n",
    "df['upper'] = df['text'].apply(lambda x: len([x for x in x.split() if x.isupper()]))\n",
    "df[['text','upper']].head(5)"
   ]
  },
  {
   "cell_type": "code",
   "execution_count": 52,
   "id": "964c9401",
   "metadata": {},
   "outputs": [
    {
     "data": {
      "text/plain": [
       "0           @ctribe i hope you are having a great day.\n",
       "1    kinda scared to sleep alone in this house toni...\n",
       "2    @karinhoegh didn't think of national holidays ...\n",
       "3    need more fps....time to shop for a new camera...\n",
       "4                      @steveogallagher take me with u\n",
       "Name: text, dtype: object"
      ]
     },
     "execution_count": 52,
     "metadata": {},
     "output_type": "execute_result"
    }
   ],
   "source": [
    "#Convert all uppercases to lowe cases\n",
    "df['text'] = df['text'].apply(lambda x: \" \".join(x.lower() for x in x.split()))\n",
    "df['text'].head(5)"
   ]
  },
  {
   "cell_type": "code",
   "execution_count": 53,
   "id": "dac14dac",
   "metadata": {},
   "outputs": [
    {
     "name": "stderr",
     "output_type": "stream",
     "text": [
      "C:\\Users\\Diana\\AppData\\Local\\Temp\\ipykernel_14860\\4024356435.py:1: FutureWarning: The default value of regex will change from True to False in a future version.\n",
      "  df['text'] = df['text'].str.replace('[^\\w\\s]','')\n"
     ]
    },
    {
     "data": {
      "text/plain": [
       "0             ctribe i hope you are having a great day\n",
       "1    kinda scared to sleep alone in this house toni...\n",
       "2    karinhoegh didnt think of national holidays th...\n",
       "3    need more fpstime to shop for a new camera re ...\n",
       "4                       steveogallagher take me with u\n",
       "Name: text, dtype: object"
      ]
     },
     "execution_count": 53,
     "metadata": {},
     "output_type": "execute_result"
    }
   ],
   "source": [
    "#Remove all special characters\n",
    "df['text'] = df['text'].str.replace('[^\\w\\s]','')\n",
    "df['text'].head(5)"
   ]
  },
  {
   "cell_type": "code",
   "execution_count": 54,
   "id": "f7d51963",
   "metadata": {},
   "outputs": [
    {
     "data": {
      "text/plain": [
       "0                                ctribe hope great day\n",
       "1    kinda scared sleep alone house tonight primo b...\n",
       "2    karinhoegh didnt think national holidays way y...\n",
       "3           need fpstime shop new camera httpffim3ropo\n",
       "4                               steveogallagher take u\n",
       "Name: text, dtype: object"
      ]
     },
     "execution_count": 54,
     "metadata": {},
     "output_type": "execute_result"
    }
   ],
   "source": [
    "#Remove all stopwords\n",
    "from nltk.corpus import stopwords\n",
    "stop = stopwords.words('english')\n",
    "df['text'] = df['text'].apply(lambda x: \" \".join(x for x in x.split() if x not in stop))\n",
    "df['text'].head()"
   ]
  },
  {
   "cell_type": "code",
   "execution_count": 55,
   "id": "b3f12b36",
   "metadata": {},
   "outputs": [
    {
     "data": {
      "text/plain": [
       "im       177478\n",
       "good      89398\n",
       "day       82363\n",
       "get       81484\n",
       "like      77748\n",
       "go        72911\n",
       "dont      66923\n",
       "today     64601\n",
       "going     64087\n",
       "love      63463\n",
       "dtype: int64"
      ]
     },
     "execution_count": 55,
     "metadata": {},
     "output_type": "execute_result"
    }
   ],
   "source": [
    "#list the 10 most frequent words\n",
    "freq = pd.Series(' '.join(df['text']).split()).value_counts()[:10]\n",
    "freq"
   ]
  },
  {
   "cell_type": "code",
   "execution_count": 56,
   "id": "ef6869f2",
   "metadata": {},
   "outputs": [
    {
     "data": {
      "text/plain": [
       "0                                    ctribe hope great\n",
       "1    kinda scared sleep alone house tonight primo b...\n",
       "2    karinhoegh didnt think national holidays way y...\n",
       "3           need fpstime shop new camera httpffim3ropo\n",
       "4                               steveogallagher take u\n",
       "Name: text, dtype: object"
      ]
     },
     "execution_count": 56,
     "metadata": {},
     "output_type": "execute_result"
    }
   ],
   "source": [
    "\n",
    "freq = list(freq.index)\n",
    "df['text'] = df['text'].apply(lambda x: \" \".join(x for x in x.split() if x not in freq))\n",
    "df['text'].head()"
   ]
  },
  {
   "cell_type": "code",
   "execution_count": 57,
   "id": "15377876",
   "metadata": {},
   "outputs": [
    {
     "data": {
      "text/plain": [
       "0                                     tribe hope great\n",
       "1    kind scared sleep alone house tonight prime bo...\n",
       "2    karinhoegh didn think national holidays way yo...\n",
       "3           need pastime shop new camera httpffim3ropo\n",
       "4                               steveogallagher take u\n",
       "Name: text, dtype: object"
      ]
     },
     "execution_count": 57,
     "metadata": {},
     "output_type": "execute_result"
    }
   ],
   "source": [
    "#Apply text correction to the first 5 texts using TextBlob to the 'text' variable\n",
    "from textblob import TextBlob\n",
    "df['text'][:5].apply(lambda x: str(TextBlob(x).correct()))"
   ]
  },
  {
   "cell_type": "code",
   "execution_count": 58,
   "id": "82471dba",
   "metadata": {},
   "outputs": [
    {
     "name": "stderr",
     "output_type": "stream",
     "text": [
      "[nltk_data] Downloading package punkt to\n",
      "[nltk_data]     C:\\Users\\Diana\\AppData\\Roaming\\nltk_data...\n",
      "[nltk_data]   Package punkt is already up-to-date!\n"
     ]
    },
    {
     "data": {
      "text/plain": [
       "WordList(['kinda', 'scared', 'sleep', 'alone', 'house', 'tonight', 'primo', 'bodyguard'])"
      ]
     },
     "execution_count": 58,
     "metadata": {},
     "output_type": "execute_result"
    }
   ],
   "source": [
    "#Use TextBlob to tokenize the words in the second text in the 'text' column\n",
    "nltk.download('punkt')\n",
    "TextBlob(df['text'][1]).words"
   ]
  },
  {
   "cell_type": "code",
   "execution_count": 19,
   "id": "c0e33fe9",
   "metadata": {},
   "outputs": [
    {
     "data": {
      "text/plain": [
       "0             @ctribe i hope you are have a great day.\n",
       "1    kinda scare to sleep alon in thi hous tonight ...\n",
       "2    @karinhoegh didn't think of nation holiday tha...\n",
       "3    need more fps....time to shop for a new camera...\n",
       "4                        @steveogallagh take me with u\n",
       "Name: text, dtype: object"
      ]
     },
     "execution_count": 19,
     "metadata": {},
     "output_type": "execute_result"
    }
   ],
   "source": [
    "#Appy word stemming using PorterStemmer to the first 5 texts in the 'text' column\n",
    "from nltk.stem import PorterStemmer\n",
    "st = PorterStemmer()\n",
    "df['text'][:5].apply(lambda x: \" \".join([st.stem(word) for word in x.split()]))"
   ]
  },
  {
   "cell_type": "code",
   "execution_count": 20,
   "id": "303fb143",
   "metadata": {},
   "outputs": [
    {
     "ename": "NameError",
     "evalue": "name 'nltk' is not defined",
     "output_type": "error",
     "traceback": [
      "\u001b[1;31m---------------------------------------------------------------------------\u001b[0m",
      "\u001b[1;31mNameError\u001b[0m                                 Traceback (most recent call last)",
      "Cell \u001b[1;32mIn[20], line 2\u001b[0m\n\u001b[0;32m      1\u001b[0m \u001b[38;5;66;03m#Apply word lemmatizing using lemmatize to the 'text' column\u001b[39;00m\n\u001b[1;32m----> 2\u001b[0m nltk\u001b[38;5;241m.\u001b[39mdownload(\u001b[38;5;124m'\u001b[39m\u001b[38;5;124mwordnet\u001b[39m\u001b[38;5;124m'\u001b[39m)\n\u001b[0;32m      3\u001b[0m \u001b[38;5;28;01mfrom\u001b[39;00m \u001b[38;5;21;01mtextblob\u001b[39;00m \u001b[38;5;28;01mimport\u001b[39;00m Word\n\u001b[0;32m      4\u001b[0m df[\u001b[38;5;124m'\u001b[39m\u001b[38;5;124mtext\u001b[39m\u001b[38;5;124m'\u001b[39m] \u001b[38;5;241m=\u001b[39m df[\u001b[38;5;124m'\u001b[39m\u001b[38;5;124mtext\u001b[39m\u001b[38;5;124m'\u001b[39m]\u001b[38;5;241m.\u001b[39mapply(\u001b[38;5;28;01mlambda\u001b[39;00m x: \u001b[38;5;124m\"\u001b[39m\u001b[38;5;124m \u001b[39m\u001b[38;5;124m\"\u001b[39m\u001b[38;5;241m.\u001b[39mjoin([Word(word)\u001b[38;5;241m.\u001b[39mlemmatize() \u001b[38;5;28;01mfor\u001b[39;00m word \u001b[38;5;129;01min\u001b[39;00m x\u001b[38;5;241m.\u001b[39msplit()]))\n",
      "\u001b[1;31mNameError\u001b[0m: name 'nltk' is not defined"
     ]
    }
   ],
   "source": [
    "#Apply word lemmatizing using lemmatize to the 'text' column\n",
    "nltk.download('wordnet')\n",
    "from textblob import Word\n",
    "df['text'] = df['text'].apply(lambda x: \" \".join([Word(word).lemmatize() for word in x.split()]))\n",
    "df['text'].head(5)"
   ]
  },
  {
   "cell_type": "code",
   "execution_count": null,
   "id": "d1c64323",
   "metadata": {},
   "outputs": [],
   "source": [
    "#Use TextBlob to generate bigrams for the first text in the 'text' column\n",
    "TextBlob(df['text'][0]).ngrams(2)"
   ]
  },
  {
   "cell_type": "code",
   "execution_count": null,
   "id": "6fd4ef26",
   "metadata": {},
   "outputs": [],
   "source": [
    "#Apply sentiment analysis using TextBlob to the first 5 text in the 'text' column\n",
    "df['text'][:5].apply(lambda x: TextBlob(x).sentiment)"
   ]
  },
  {
   "cell_type": "markdown",
   "id": "18eb30a3",
   "metadata": {},
   "source": [
    "# SENTIMENT ANALYSIS"
   ]
  },
  {
   "cell_type": "markdown",
   "id": "15fa0312",
   "metadata": {},
   "source": [
    "## USING TEXTBLOB"
   ]
  },
  {
   "cell_type": "code",
   "execution_count": null,
   "id": "84db8020",
   "metadata": {},
   "outputs": [],
   "source": [
    "#Apply sentiment analysis using TextBlob to the 'text' column and storing the polarity score\n",
    "df['polarity_score'] = df['text'].apply(lambda x: TextBlob(x).sentiment[0] )\n",
    "df[['Comment','polarity_score']].head(10)"
   ]
  },
  {
   "cell_type": "code",
   "execution_count": null,
   "id": "0e8aaa14",
   "metadata": {},
   "outputs": [],
   "source": [
    "#classify the sentiments as negative, positive or neutral using polarity score\n",
    "from textblob import TextBlob\n",
    "\n",
    "#Function to categorize sentiment polarities\n",
    "def categorize_sentiment(polarity):\n",
    "    if polarity > 0:\n",
    "        return 'Positive'\n",
    "    elif polarity < 0:\n",
    "        return 'Negative'\n",
    "    else:\n",
    "        return 'Neutral'\n",
    "\n",
    "#Apply the function on the df data\n",
    "df['sentiment_polarity'] = df['text'].apply(lambda x: TextBlob(x).sentiment.polarity)\n",
    "df['textblob_sentiment'] = df['sentiment_polarity'].apply(categorize_sentiment)\n",
    "print(df[['text', 'textblob_sentiment']].head(5))"
   ]
  },
  {
   "cell_type": "markdown",
   "id": "8dd3f110",
   "metadata": {},
   "source": [
    "## Visualize the Positive  words"
   ]
  },
  {
   "cell_type": "code",
   "execution_count": null,
   "id": "7959d999",
   "metadata": {},
   "outputs": [],
   "source": [
    "#Filter DataFrame to include only positive sentiments\n",
    "positive_df = df[df['textblob_sentiment'] == 'Positive']\n",
    "\n",
    "# Concatenate all text into a single string\n",
    "all_text = ' '.join(positive_df['text'])\n",
    "\n",
    "# Split the text into words\n",
    "words = all_text.split()\n",
    "\n",
    "# Create a pandas Series from the words\n",
    "word_counts = pd.Series(words).value_counts()\n",
    "\n",
    "# Plot the word count diagram\n",
    "plt.figure(figsize=(10, 6))\n",
    "word_counts.head(20).plot(kind='bar')\n",
    "plt.title('Top 20 Words in Positive Sentiments')\n",
    "plt.xlabel('Words')\n",
    "plt.ylabel('Count')\n",
    "plt.show()"
   ]
  },
  {
   "cell_type": "markdown",
   "id": "0f2cc4b4",
   "metadata": {},
   "source": [
    "# USING VADER SENTIMENT ANALYSIS"
   ]
  },
  {
   "cell_type": "code",
   "execution_count": null,
   "id": "b59864cf",
   "metadata": {},
   "outputs": [],
   "source": [
    "#Create a VADER SentimentIntensityAnalyzer instance\n",
    "twitter_sentiment = SentimentIntensityAnalyzer()\n",
    "\n",
    "#Create a function to get compound sentiment score using VADER\n",
    "def get_sentiment_scores(text):\n",
    "    return twitter_sentiment.polarity_scores(text)\n",
    "\n",
    "#Apply the function to get the compound scores and store the values in vader_sentiment\n",
    "df['vader_sentiment'] = df['text'].apply(get_sentiment_scores)\n",
    "\n",
    "#Extract the 'neg', 'neu', 'pos', 'compound' scores from 'vader_sentiment'\n",
    "df['vader_neg'] = df['vader_sentiment'].apply(lambda x: x['neg'])\n",
    "df['vader_neu'] = df['vader_sentiment'].apply(lambda x: x['neu'])\n",
    "df['vader_pos'] = df['vader_sentiment'].apply(lambda x: x['pos'])\n",
    "df['vader_compound'] = df['vader_sentiment'].apply(lambda x: x['compound'])\n",
    "\n",
    "#Create a function to categorize sentiments based on compound scores\n",
    "def categorize_sentiment(vader_compound):\n",
    "    if vader_compound >= 0.05:\n",
    "        return 'positive'\n",
    "    elif vader_compound <= -0.05:\n",
    "        return 'negative'\n",
    "    else:\n",
    "        return 'neutral'\n",
    "\n",
    "#Apply the categorization function to create the 'sentiment' column\n",
    "df['sentiment_vader'] = df['vader_compound'].apply(categorize_sentiment)\n",
    "\n",
    "#Display the updated DataFrame with the 'sentiment' column\n",
    "print(df[['text','vader_compound','vader_sentiment']])"
   ]
  },
  {
   "cell_type": "code",
   "execution_count": null,
   "id": "fc236723",
   "metadata": {},
   "outputs": [],
   "source": []
  },
  {
   "cell_type": "code",
   "execution_count": null,
   "id": "a266d57a",
   "metadata": {},
   "outputs": [],
   "source": []
  }
 ],
 "metadata": {
  "kernelspec": {
   "display_name": "Python 3 (ipykernel)",
   "language": "python",
   "name": "python3"
  },
  "language_info": {
   "codemirror_mode": {
    "name": "ipython",
    "version": 3
   },
   "file_extension": ".py",
   "mimetype": "text/x-python",
   "name": "python",
   "nbconvert_exporter": "python",
   "pygments_lexer": "ipython3",
   "version": "3.11.4"
  }
 },
 "nbformat": 4,
 "nbformat_minor": 5
}
