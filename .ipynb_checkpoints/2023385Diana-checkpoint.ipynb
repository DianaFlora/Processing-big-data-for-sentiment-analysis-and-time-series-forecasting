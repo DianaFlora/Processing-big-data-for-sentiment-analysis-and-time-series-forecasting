{
 "cells": [
  {
   "cell_type": "markdown",
   "id": "98a691eb-491c-4cbd-acfd-363055534da4",
   "metadata": {},
   "source": [
    "# TIME SERIES FORECASTING OF PROJECT TWEETS BIG DATA PROCESSED WITH SPARK AND STORED IN MONGODB"
   ]
  },
  {
   "cell_type": "markdown",
   "id": "74cf4c2b-41fe-4f80-a139-066374224315",
   "metadata": {},
   "source": [
    "# Dataset\n",
    "The dataste is a large dataset gleaned from the twitter API that is called ProjectTweets.csv.\n",
    "\n",
    "This dataset contains 1,600,000 tweets extracted using the twitter api. \n",
    "\n",
    "\n",
    "Content\n",
    "It contains the following 5 fields:\n",
    "- ids: The id of the tweet (eg. 4587)\n",
    "- date: the date of the tweet (eg. Sat May 16 23:58:44 UTC 2009)\n",
    "- flag: The query (eg. lyx). If there is no query, then this value is NO_QUERY.\n",
    "- user: the user that tweeted (eg. bobthebuilder)\n",
    "- text: the text of the tweet (eg. Lyx is cool)"
   ]
  },
  {
   "cell_type": "markdown",
   "id": "84c402ab-f73e-44fa-9bcb-3cd3686a1d6e",
   "metadata": {},
   "source": [
    "## Install all Required Libraries"
   ]
  },
  {
   "cell_type": "code",
   "execution_count": 1,
   "id": "05a43f76-594a-4b56-88e2-fa2bb26f45cd",
   "metadata": {
    "scrolled": true
   },
   "outputs": [],
   "source": [
    "#Import all necessary libraries\n",
    "import pandas as pd\n",
    "import matplotlib.pyplot as plt\n",
    "import numpy as np\n",
    "from pyspark.sql import SparkSession\n",
    "from pyspark.sql.functions import regexp_extract\n",
    "from pyspark.sql.functions import col, lower, regexp_replace, trim, split, udf\n",
    "from pyspark.sql.functions import isnull, to_timestamp\n",
    "from pyspark.sql.functions import udf\n",
    "from pyspark.sql.functions import to_timestamp\n",
    "from pyspark.sql.types import StructType, StringType, TimestampType\n",
    "from pyspark.sql.functions import col\n",
    "import warnings\n",
    "warnings.filterwarnings('ignore') # We can suppress the warnings"
   ]
  },
  {
   "cell_type": "markdown",
   "id": "75e3987a",
   "metadata": {},
   "source": [
    "## A spark session to connect to MongoDB"
   ]
  },
  {
   "cell_type": "markdown",
   "id": "7f184ca6-02a1-49d4-9e34-39b94abba76b",
   "metadata": {},
   "source": [
    "# Step one: Writing Data into MongoDB using Apache Spark\n",
    "\n",
    "These typically involved interacting with MongoDB through CRUD (Create, Read, Update, Delete) operations:\n",
    "\n",
    "1. Create: Inserting Project Tweets CSV into a MongoDB called DeeProject_mongo and a collection called Tweets.\n",
    "\n",
    "2. Read: Retrieving data/documents from the database.\n",
    "\n",
    "3. Update: Modifying existing data/documents.\n",
    "\n",
    "4. Delete: Removing data/documents from the database."
   ]
  },
  {
   "cell_type": "markdown",
   "id": "2cfb5bb9",
   "metadata": {},
   "source": [
    "## 1. Creating or inserting data into MongoDB using Spark"
   ]
  },
  {
   "cell_type": "code",
   "execution_count": 2,
   "id": "2e7dfddb-3db1-4417-8904-25e89ff1daf2",
   "metadata": {},
   "outputs": [],
   "source": [
    "#Creating a pyspark session connecting to mongodb\n",
    "uri = \"mongodb://172.17.0.8:27017/DeeProject_mongo.Tweets\"\n",
    "\n",
    "spark = SparkSession.builder.appName(\"Write into MongoDB\")\\\n",
    "    .config(\"spark.mongodb.input.uri\", uri)\\\n",
    "    .config(\"spark.mongodb.output.uri\", uri)\\\n",
    "    .config('spark.jars.packages','org.mongodb.spark:mongo-spark-connector_2.12:2.4.2')\\\n",
    "    .getOrCreate()"
   ]
  },
  {
   "cell_type": "code",
   "execution_count": 3,
   "id": "e1b77330-d443-4ce3-b6c4-2dd938b1284c",
   "metadata": {},
   "outputs": [
    {
     "data": {
      "text/html": [
       "\n",
       "            <div>\n",
       "                <p><b>SparkSession - in-memory</b></p>\n",
       "                \n",
       "        <div>\n",
       "            <p><b>SparkContext</b></p>\n",
       "\n",
       "            <p><a href=\"http://4dde10a4171c:4041\">Spark UI</a></p>\n",
       "\n",
       "            <dl>\n",
       "              <dt>Version</dt>\n",
       "                <dd><code>v3.5.1</code></dd>\n",
       "              <dt>Master</dt>\n",
       "                <dd><code>local[*]</code></dd>\n",
       "              <dt>AppName</dt>\n",
       "                <dd><code>Write into MongoDB</code></dd>\n",
       "            </dl>\n",
       "        </div>\n",
       "        \n",
       "            </div>\n",
       "        "
      ],
      "text/plain": [
       "<pyspark.sql.session.SparkSession at 0xffff7a1e4bd0>"
      ]
     },
     "execution_count": 3,
     "metadata": {},
     "output_type": "execute_result"
    }
   ],
   "source": [
    "#Spark content\n",
    "spark"
   ]
  },
  {
   "cell_type": "markdown",
   "id": "31398c42-136d-4ff4-b665-0932e06a61f7",
   "metadata": {},
   "source": [
    "## Loading data from local machine to SParkSQL"
   ]
  },
  {
   "cell_type": "code",
   "execution_count": 4,
   "id": "55462fc4-56f4-4222-a185-b00572045103",
   "metadata": {},
   "outputs": [
    {
     "name": "stdout",
     "output_type": "stream",
     "text": [
      "root\n",
      " |-- PRIMARY KEY: string (nullable = true)\n",
      " |-- ID: string (nullable = true)\n",
      " |-- date: timestamp (nullable = true)\n",
      " |-- flag: string (nullable = true)\n",
      " |-- user: string (nullable = true)\n",
      " |-- text: string (nullable = true)\n",
      "\n",
      "+-----------+----------+-------------------+--------+---------------+--------------------+\n",
      "|PRIMARY KEY|        ID|               date|    flag|           user|                text|\n",
      "+-----------+----------+-------------------+--------+---------------+--------------------+\n",
      "|          0|1467810369|2009-04-07 05:19:45|NO_QUERY|_TheSpecialOne_|@switchfoot http:...|\n",
      "|          1|1467810672|2009-04-07 05:19:49|NO_QUERY|  scotthamilton|is upset that he ...|\n",
      "|          2|1467810917|2009-04-07 05:19:53|NO_QUERY|       mattycus|@Kenichan I dived...|\n",
      "|          3|1467811184|2009-04-07 05:19:57|NO_QUERY|        ElleCTF|my whole body fee...|\n",
      "|          4|1467811193|2009-04-07 05:19:57|NO_QUERY|         Karoli|@nationwideclass ...|\n",
      "+-----------+----------+-------------------+--------+---------------+--------------------+\n",
      "only showing top 5 rows\n",
      "\n"
     ]
    }
   ],
   "source": [
    "#Set legacy timeParserPolicy\n",
    "spark.conf.set(\"spark.sql.legacy.timeParserPolicy\", \"LEGACY\")\n",
    "\n",
    "#Define the schema for the csv file \n",
    "schema = StructType().add(\"_c0\", StringType(), True).add(\"_c1\", StringType(), True).add(\"_c2\", StringType(), True).add(\"_c3\", StringType(), True).add(\"_c4\", StringType(), True).add(\"_c5\", StringType(), True)\n",
    "\n",
    "#Read the CSV into a DataFrame called df\n",
    "df = spark.read.format(\"csv\").option(\"header\", False).schema(schema).load(\"file:///home/jovyan/Diana/ProjectTweets.csv\")\n",
    "\n",
    "#Rename the headers\n",
    "df = df.withColumnRenamed(\"_c0\", \"PRIMARY KEY\").withColumnRenamed(\"_c1\", \"ID\").withColumnRenamed(\"_c2\", \"date\").withColumnRenamed(\"_c3\", \"flag\").withColumnRenamed(\"_c4\", \"user\").withColumnRenamed(\"_c5\", \"text\")\n",
    "\n",
    "#Convert string date to TimestampType\n",
    "df = df.withColumn(\"date\", to_timestamp(df[\"date\"], \"EEE MMM dd HH:mm:ss zzzz yyyy\"))\n",
    "\n",
    "#Print schema\n",
    "df.printSchema()\n",
    "\n",
    "#Show DataFrame\n",
    "df.show(5)\n"
   ]
  },
  {
   "cell_type": "markdown",
   "id": "566df067-a314-47b2-a4a4-ca03159f58c0",
   "metadata": {},
   "source": [
    "## Write data from spark to MongoDB"
   ]
  },
  {
   "cell_type": "code",
   "execution_count": 5,
   "id": "d25ea7c1-ebd1-4d4a-88d9-a03a091d224e",
   "metadata": {},
   "outputs": [],
   "source": [
    "#Write data into MongoDB\n",
    "df.write.format(\"com.mongodb.spark.sql.DefaultSource\").mode(\"append\").option(\"uri\", uri).save()"
   ]
  },
  {
   "cell_type": "markdown",
   "id": "c1058c99-28db-47dd-9276-f51419737644",
   "metadata": {},
   "source": [
    "## 2. Read the Project Tweets data from MongoDB using Spark"
   ]
  },
  {
   "cell_type": "code",
   "execution_count": 6,
   "id": "d8e81c22-f29d-45c9-98bf-f2dcc2585c84",
   "metadata": {},
   "outputs": [
    {
     "name": "stdout",
     "output_type": "stream",
     "text": [
      "(1600000, 7)\n",
      "root\n",
      " |-- ID: string (nullable = true)\n",
      " |-- PRIMARY KEY: string (nullable = true)\n",
      " |-- _id: struct (nullable = true)\n",
      " |    |-- oid: string (nullable = true)\n",
      " |-- date: timestamp (nullable = true)\n",
      " |-- flag: string (nullable = true)\n",
      " |-- text: string (nullable = true)\n",
      " |-- user: string (nullable = true)\n",
      "\n",
      "+----------+-----------+--------------------+-------------------+--------+--------------------+-------------+\n",
      "|        ID|PRIMARY KEY|                 _id|               date|    flag|                text|         user|\n",
      "+----------+-----------+--------------------+-------------------+--------+--------------------+-------------+\n",
      "|1551363506|     816210|{66367bb0e048fa3c...|2009-04-18 15:51:40|NO_QUERY|@ctribe I hope yo...|prosario_2000|\n",
      "|2059493951|     408810|{66367bb0e048fa3c...|2009-06-07 00:02:45|NO_QUERY|Kinda scared to s...|        l7l7v|\n",
      "|1990436550|    1223636|{66367bb0e048fa3c...|2009-06-01 11:52:03|NO_QUERY|@karinhoegh  Didn...|         kmdk|\n",
      "|1990436582|    1223637|{66367bb0e048fa3c...|2009-06-01 11:52:03|NO_QUERY|Need more FPS.......| jflinchbaugh|\n",
      "|1990436614|    1223638|{66367bb0e048fa3c...|2009-06-01 11:52:04|NO_QUERY|@SteveOGallagher ...|    kittaykat|\n",
      "+----------+-----------+--------------------+-------------------+--------+--------------------+-------------+\n",
      "only showing top 5 rows\n",
      "\n"
     ]
    }
   ],
   "source": [
    "#Read Data from MongoDB\n",
    "from_mongo = spark.read.format('com.mongodb.spark.sql.DefaultSource').load()\n",
    "print((from_mongo.count(), len(from_mongo.columns)))\n",
    "from_mongo.printSchema()\n",
    "from_mongo.show(5)"
   ]
  },
  {
   "cell_type": "markdown",
   "id": "d90e3bdf-eed2-442b-815b-bf2375d0c84d",
   "metadata": {},
   "source": [
    "# EXPLORATORY DATA ANALYSIS"
   ]
  },
  {
   "cell_type": "markdown",
   "id": "e2fbf0a7-9366-41bc-9a1b-bff77cf5d2db",
   "metadata": {},
   "source": [
    "# Checking for Duplicates (based on ID, user and text) and Missing data"
   ]
  },
  {
   "cell_type": "code",
   "execution_count": 7,
   "id": "187c1a83-e90c-4eff-8310-967d2c6c62b4",
   "metadata": {},
   "outputs": [
    {
     "name": "stdout",
     "output_type": "stream",
     "text": [
      "Number of duplicate records removed: 0\n",
      "Missing value counts:\n",
      "PRIMARY KEY 0\n",
      "ID 0\n",
      "user 0\n",
      "text 0\n"
     ]
    }
   ],
   "source": [
    "from pyspark.sql import SparkSession\n",
    "from pyspark.sql.functions import col, sum  # Import the 'col' and 'sum' functions\n",
    "\n",
    "#Initialize Spark Session\n",
    "spark = SparkSession.builder.appName(\"Duplicate and Missing Data Check\").getOrCreate()\n",
    "\n",
    "#Define the columns to check for duplicates and missing values\n",
    "columns_to_check = ['PRIMARY KEY','ID', 'user', 'text']\n",
    "\n",
    "#Create a pipeline to check for duplicates and missing values\n",
    "pipeline_df = from_mongo\n",
    "\n",
    "#Step 1: Remove duplicate records based on specified columns\n",
    "pipeline_df = pipeline_df.dropDuplicates(subset=columns_to_check)\n",
    "\n",
    "#Step 2: Check for missing values\n",
    "missing_counts = pipeline_df.select([col(c).isNull().cast(\"int\").alias(c) for c in columns_to_check]).agg(*[sum(c).alias(c) for c in columns_to_check]).collect()[0]\n",
    "\n",
    "#Print the results\n",
    "print(\"Number of duplicate records removed:\", df.count() - pipeline_df.count())\n",
    "\n",
    "print(\"Missing value counts:\")\n",
    "for col_name, missing_count in zip(columns_to_check, missing_counts):\n",
    "    print(col_name, missing_count)"
   ]
  },
  {
   "cell_type": "code",
   "execution_count": 8,
   "id": "ed96930b-c1ab-4e9a-bad7-0ba5b186de0c",
   "metadata": {},
   "outputs": [
    {
     "name": "stdout",
     "output_type": "stream",
     "text": [
      "Number of duplicate rows removed: 0\n"
     ]
    }
   ],
   "source": [
    "#Checking for duplicates in ID and user name\n",
    "#Count the number of rows before removing duplicates\n",
    "count_before = from_mongo.count()\n",
    "\n",
    "#Remove duplicates\n",
    "df_no_duplicates = from_mongo.dropDuplicates()\n",
    "\n",
    "#Count the number of rows after removing duplicates\n",
    "count_after = df_no_duplicates.count()\n",
    "\n",
    "#Calculate the number of duplicates\n",
    "num_duplicates = count_before - count_after\n",
    "\n",
    "print(f\"Number of duplicate rows removed: {num_duplicates}\")"
   ]
  },
  {
   "cell_type": "code",
   "execution_count": 9,
   "id": "a932d2b7-a0b9-484a-8374-24873e591aac",
   "metadata": {},
   "outputs": [
    {
     "name": "stdout",
     "output_type": "stream",
     "text": [
      "Number of duplicate rows removed based on user: 940225\n"
     ]
    }
   ],
   "source": [
    "#Count the number of rows before removing duplicates\n",
    "count_before = from_mongo.count()\n",
    "\n",
    "#Remove duplicates based on a specific column\n",
    "df_no_duplicates = from_mongo.dropDuplicates(subset=['user'])\n",
    "\n",
    "#Count the number of rows after removing duplicates\n",
    "count_after = df_no_duplicates.count()\n",
    "\n",
    "#Calculate the number of duplicates\n",
    "num_duplicates = count_before - count_after\n",
    "\n",
    "print(f\"Number of duplicate rows removed based on user: {num_duplicates}\")"
   ]
  },
  {
   "cell_type": "markdown",
   "id": "310c5cba-92d8-401f-b90a-a9d692beaef9",
   "metadata": {},
   "source": [
    "# Summary Statistics"
   ]
  },
  {
   "cell_type": "code",
   "execution_count": 10,
   "id": "7ede2aa7-cdb7-4e5e-b464-2ec6a84f41f9",
   "metadata": {},
   "outputs": [
    {
     "name": "stdout",
     "output_type": "stream",
     "text": [
      "+-------+--------------------+------------------+--------+--------------------+--------------------+\n",
      "|summary|                  ID|       PRIMARY KEY|    flag|                text|                user|\n",
      "+-------+--------------------+------------------+--------+--------------------+--------------------+\n",
      "|  count|             1600000|           1600000| 1600000|             1600000|             1600000|\n",
      "|   mean|1.9988175522956276E9|          799999.5|    NULL|                NULL| 4.325887521835714E9|\n",
      "| stddev|1.9357607362267783E8|461880.35968924506|    NULL|                NULL|5.162733218454889E10|\n",
      "|    min|          1467810369|                 0|NO_QUERY|                 ...|        000catnap000|\n",
      "|    max|          2329205794|            999999|NO_QUERY|ï¿½ï¿½ï¿½ï¿½ï¿½ß§...|          zzzzeus111|\n",
      "+-------+--------------------+------------------+--------+--------------------+--------------------+\n",
      "\n"
     ]
    }
   ],
   "source": [
    "#Summary Statistics\n",
    "from_mongo.describe().show()"
   ]
  },
  {
   "cell_type": "markdown",
   "id": "0434c55c-c286-4dc3-808d-2238fe7857aa",
   "metadata": {},
   "source": [
    "# EXTRACTING TIME COMPONENTS"
   ]
  },
  {
   "cell_type": "code",
   "execution_count": 11,
   "id": "fe21863a-1658-407e-911a-1fda5e8dde90",
   "metadata": {},
   "outputs": [],
   "source": [
    "from pyspark.sql.functions import year, month, dayofmonth, hour, minute, second\n",
    "\n",
    "\n",
    "#Initialize Spark Session\n",
    "spark = SparkSession.builder.appName(\"DateTime Visualization\").getOrCreate()\n",
    "\n",
    "#Extract relevant time components including hours, minutes, and seconds\n",
    "df = from_mongo.withColumn(\"year\", year(\"date\")).withColumn(\"month\", month(\"date\")).withColumn(\"day\", dayofmonth(\"date\")).withColumn(\"hour\", hour(\"date\")).withColumn(\"minute\", minute(\"date\")).withColumn(\"second\", second(\"date\"))\n",
    "\n",
    "#Aggregate data\n",
    "time_series_data = df.groupBy(\"date\",\"year\", \"month\", \"day\", \"hour\", \"minute\", \"second\").count().orderBy(\"year\", \"month\", \"day\", \"hour\", \"minute\", \"second\")"
   ]
  },
  {
   "cell_type": "code",
   "execution_count": 12,
   "id": "6abfb12d-a4e9-42f9-a369-0da22a65198c",
   "metadata": {},
   "outputs": [
    {
     "name": "stdout",
     "output_type": "stream",
     "text": [
      "+----------+-----------+--------------------+-------------------+--------+--------------------+-------------+----+-----+---+----+------+------+\n",
      "|        ID|PRIMARY KEY|                 _id|               date|    flag|                text|         user|year|month|day|hour|minute|second|\n",
      "+----------+-----------+--------------------+-------------------+--------+--------------------+-------------+----+-----+---+----+------+------+\n",
      "|1551363506|     816210|{66367bb0e048fa3c...|2009-04-18 15:51:40|NO_QUERY|@ctribe I hope yo...|prosario_2000|2009|    4| 18|  15|    51|    40|\n",
      "|2059493951|     408810|{66367bb0e048fa3c...|2009-06-07 00:02:45|NO_QUERY|Kinda scared to s...|        l7l7v|2009|    6|  7|   0|     2|    45|\n",
      "|1990436550|    1223636|{66367bb0e048fa3c...|2009-06-01 11:52:03|NO_QUERY|@karinhoegh  Didn...|         kmdk|2009|    6|  1|  11|    52|     3|\n",
      "|1990436582|    1223637|{66367bb0e048fa3c...|2009-06-01 11:52:03|NO_QUERY|Need more FPS.......| jflinchbaugh|2009|    6|  1|  11|    52|     3|\n",
      "|1990436614|    1223638|{66367bb0e048fa3c...|2009-06-01 11:52:04|NO_QUERY|@SteveOGallagher ...|    kittaykat|2009|    6|  1|  11|    52|     4|\n",
      "+----------+-----------+--------------------+-------------------+--------+--------------------+-------------+----+-----+---+----+------+------+\n",
      "only showing top 5 rows\n",
      "\n"
     ]
    }
   ],
   "source": [
    "#View the df DataFrame after extracting time components\n",
    "df.show(5)"
   ]
  },
  {
   "cell_type": "code",
   "execution_count": 13,
   "id": "5f5ddeaa-d79e-4072-bc25-b5a199762d14",
   "metadata": {},
   "outputs": [
    {
     "name": "stdout",
     "output_type": "stream",
     "text": [
      "root\n",
      " |-- ID: string (nullable = true)\n",
      " |-- PRIMARY KEY: string (nullable = true)\n",
      " |-- _id: struct (nullable = true)\n",
      " |    |-- oid: string (nullable = true)\n",
      " |-- date: timestamp (nullable = true)\n",
      " |-- flag: string (nullable = true)\n",
      " |-- text: string (nullable = true)\n",
      " |-- user: string (nullable = true)\n",
      " |-- year: integer (nullable = true)\n",
      " |-- month: integer (nullable = true)\n",
      " |-- day: integer (nullable = true)\n",
      " |-- hour: integer (nullable = true)\n",
      " |-- minute: integer (nullable = true)\n",
      " |-- second: integer (nullable = true)\n",
      "\n"
     ]
    }
   ],
   "source": [
    "#View the Spark DataFrame Features\n",
    "df.printSchema()"
   ]
  },
  {
   "cell_type": "code",
   "execution_count": 14,
   "id": "7bdc1db1-372d-4a9c-b0d6-f349f16c28d7",
   "metadata": {},
   "outputs": [
    {
     "name": "stdout",
     "output_type": "stream",
     "text": [
      "+----+-------+\n",
      "|year|  count|\n",
      "+----+-------+\n",
      "|2009|1600000|\n",
      "+----+-------+\n",
      "\n"
     ]
    }
   ],
   "source": [
    "from pyspark.sql.functions import count\n",
    "\n",
    "#Group by the year variable and count the occurrences\n",
    "year_counts = df.groupBy(\"year\").agg(count(\"*\").alias(\"count\")).orderBy(\"year\")\n",
    "\n",
    "#Show the tabulated counts\n",
    "year_counts.show()"
   ]
  },
  {
   "cell_type": "code",
   "execution_count": 15,
   "id": "8fd43d47-9889-4b8a-bd4c-0d21769af583",
   "metadata": {},
   "outputs": [
    {
     "name": "stdout",
     "output_type": "stream",
     "text": [
      "+-----+------+\n",
      "|month| count|\n",
      "+-----+------+\n",
      "|    4|100025|\n",
      "|    5|559073|\n",
      "|    6|940902|\n",
      "+-----+------+\n",
      "\n"
     ]
    }
   ],
   "source": [
    "from pyspark.sql.functions import count\n",
    "\n",
    "#Group by the month variable and count the occurrences\n",
    "month_counts = df.groupBy(\"month\").agg(count(\"*\").alias(\"count\")).orderBy(\"month\")\n",
    "\n",
    "#Show the tabulated counts\n",
    "month_counts.show()"
   ]
  },
  {
   "cell_type": "code",
   "execution_count": 16,
   "id": "acf0b81c-185e-4e34-9015-bfa8daf9ff9b",
   "metadata": {},
   "outputs": [
    {
     "name": "stdout",
     "output_type": "stream",
     "text": [
      "+---+------+\n",
      "|day| count|\n",
      "+---+------+\n",
      "|  1| 95449|\n",
      "|  2|108872|\n",
      "|  3| 86707|\n",
      "|  4| 32938|\n",
      "|  5| 34735|\n",
      "|  6|104793|\n",
      "|  7|132564|\n",
      "|  8| 18566|\n",
      "| 10| 31551|\n",
      "| 11|  6217|\n",
      "| 12|  4186|\n",
      "| 14| 22026|\n",
      "| 15| 83309|\n",
      "| 16| 87524|\n",
      "| 17| 85236|\n",
      "| 18|105040|\n",
      "| 19| 75612|\n",
      "| 20| 64029|\n",
      "| 21| 41782|\n",
      "| 22| 49519|\n",
      "+---+------+\n",
      "only showing top 20 rows\n",
      "\n"
     ]
    }
   ],
   "source": [
    "from pyspark.sql.functions import count\n",
    "\n",
    "#Group by the day variable and count the occurrences\n",
    "day_counts = df.groupBy(\"day\").agg(count(\"*\").alias(\"count\")).orderBy(\"day\")\n",
    "\n",
    "#Show the tabulated counts\n",
    "day_counts.show()"
   ]
  },
  {
   "cell_type": "code",
   "execution_count": 17,
   "id": "1b299e87-f152-4d96-8ccb-4e2d086352a0",
   "metadata": {},
   "outputs": [
    {
     "name": "stdout",
     "output_type": "stream",
     "text": [
      "+-----+---+------+\n",
      "|month|day| count|\n",
      "+-----+---+------+\n",
      "|    4|  7| 20671|\n",
      "|    4| 18| 17154|\n",
      "|    4| 20| 18447|\n",
      "|    4| 21| 11105|\n",
      "|    4| 19| 32648|\n",
      "|    5|  4| 28300|\n",
      "|    5| 10| 31551|\n",
      "|    5|  2| 31096|\n",
      "|    5|  3| 26568|\n",
      "|    5| 22| 41206|\n",
      "|    5| 24|   169|\n",
      "|    5| 17| 41205|\n",
      "|    5| 12|  4186|\n",
      "|    5| 29| 60227|\n",
      "|    5| 18| 44564|\n",
      "|    5| 27| 11619|\n",
      "|    5| 11|  6217|\n",
      "|    5| 14| 21526|\n",
      "|    5| 25|   169|\n",
      "|    5| 30|104484|\n",
      "+-----+---+------+\n",
      "only showing top 20 rows\n",
      "\n"
     ]
    }
   ],
   "source": [
    "from pyspark.sql.functions import count\n",
    "\n",
    "# Group by the day variable and count the occurrences\n",
    "day_counts = df.groupBy(\"month\",\"day\").agg(count(\"*\").alias(\"count\")).orderBy(\"month\")\n",
    "\n",
    "# Show the tabulated counts\n",
    "day_counts.show()"
   ]
  },
  {
   "cell_type": "code",
   "execution_count": 18,
   "id": "541597f2-d4a9-4ad7-926d-ac1e9143e010",
   "metadata": {},
   "outputs": [
    {
     "name": "stdout",
     "output_type": "stream",
     "text": [
      "+----------+-----+\n",
      "|        ID|count|\n",
      "+----------+-----+\n",
      "|1467810369|    1|\n",
      "|1467810672|    1|\n",
      "|1467810917|    1|\n",
      "|1467811184|    1|\n",
      "|1467811193|    1|\n",
      "|1467811372|    1|\n",
      "|1467811592|    1|\n",
      "|1467811594|    1|\n",
      "|1467811795|    1|\n",
      "|1467812025|    1|\n",
      "|1467812416|    1|\n",
      "|1467812579|    1|\n",
      "|1467812723|    1|\n",
      "|1467812771|    1|\n",
      "|1467812784|    1|\n",
      "|1467812799|    1|\n",
      "|1467812964|    1|\n",
      "|1467813137|    1|\n",
      "|1467813579|    1|\n",
      "|1467813782|    1|\n",
      "+----------+-----+\n",
      "only showing top 20 rows\n",
      "\n"
     ]
    }
   ],
   "source": [
    "from pyspark.sql.functions import count\n",
    "\n",
    "# Group by the day variable and count the occurrences\n",
    "ID_counts = df.groupBy(\"ID\").agg(count(\"*\").alias(\"count\")).orderBy(\"ID\")\n",
    "\n",
    "# Show the tabulated counts\n",
    "ID_counts.show()"
   ]
  },
  {
   "cell_type": "code",
   "execution_count": 19,
   "id": "8aa8b6aa-5236-4a88-a720-4bf30e7efac2",
   "metadata": {},
   "outputs": [
    {
     "name": "stdout",
     "output_type": "stream",
     "text": [
      "+-------------------+----+-----+---+----+------+------+-----+\n",
      "|               date|year|month|day|hour|minute|second|count|\n",
      "+-------------------+----+-----+---+----+------+------+-----+\n",
      "|2009-04-07 05:19:45|2009|    4|  7|   5|    19|    45|    1|\n",
      "|2009-04-07 05:19:49|2009|    4|  7|   5|    19|    49|    1|\n",
      "|2009-04-07 05:19:53|2009|    4|  7|   5|    19|    53|    1|\n",
      "|2009-04-07 05:19:57|2009|    4|  7|   5|    19|    57|    2|\n",
      "|2009-04-07 05:20:00|2009|    4|  7|   5|    20|     0|    1|\n",
      "+-------------------+----+-----+---+----+------+------+-----+\n",
      "only showing top 5 rows\n",
      "\n"
     ]
    }
   ],
   "source": [
    "time_series_data.show(5)"
   ]
  },
  {
   "cell_type": "code",
   "execution_count": 20,
   "id": "e106b132-eff5-43bf-a5d7-8d8d313cff17",
   "metadata": {},
   "outputs": [
    {
     "data": {
      "text/plain": [
       "pyspark.sql.dataframe.DataFrame"
      ]
     },
     "execution_count": 20,
     "metadata": {},
     "output_type": "execute_result"
    }
   ],
   "source": [
    "type(time_series_data)"
   ]
  },
  {
   "cell_type": "code",
   "execution_count": 21,
   "id": "3b7a2cf6-988e-4f0d-8c95-b9e8af71d569",
   "metadata": {},
   "outputs": [
    {
     "name": "stdout",
     "output_type": "stream",
     "text": [
      "+----------+-----------+--------------------+-------------------+--------+--------------------+-------------+----+-----+---+----+------+------+\n",
      "|        ID|PRIMARY KEY|                 _id|               date|    flag|                text|         user|year|month|day|hour|minute|second|\n",
      "+----------+-----------+--------------------+-------------------+--------+--------------------+-------------+----+-----+---+----+------+------+\n",
      "|1551363506|     816210|{66367bb0e048fa3c...|2009-04-18 15:51:40|NO_QUERY|@ctribe I hope yo...|prosario_2000|2009|    4| 18|  15|    51|    40|\n",
      "|2059493951|     408810|{66367bb0e048fa3c...|2009-06-07 00:02:45|NO_QUERY|Kinda scared to s...|        l7l7v|2009|    6|  7|   0|     2|    45|\n",
      "|1990436550|    1223636|{66367bb0e048fa3c...|2009-06-01 11:52:03|NO_QUERY|@karinhoegh  Didn...|         kmdk|2009|    6|  1|  11|    52|     3|\n",
      "|1990436582|    1223637|{66367bb0e048fa3c...|2009-06-01 11:52:03|NO_QUERY|Need more FPS.......| jflinchbaugh|2009|    6|  1|  11|    52|     3|\n",
      "|1990436614|    1223638|{66367bb0e048fa3c...|2009-06-01 11:52:04|NO_QUERY|@SteveOGallagher ...|    kittaykat|2009|    6|  1|  11|    52|     4|\n",
      "+----------+-----------+--------------------+-------------------+--------+--------------------+-------------+----+-----+---+----+------+------+\n",
      "only showing top 5 rows\n",
      "\n"
     ]
    }
   ],
   "source": [
    "df.show(5)"
   ]
  },
  {
   "cell_type": "code",
   "execution_count": 22,
   "id": "e5363f5b-5885-4097-8cb6-05ee4d0bea80",
   "metadata": {},
   "outputs": [
    {
     "data": {
      "text/plain": [
       "pyspark.sql.dataframe.DataFrame"
      ]
     },
     "execution_count": 22,
     "metadata": {},
     "output_type": "execute_result"
    }
   ],
   "source": [
    "type(df)"
   ]
  },
  {
   "cell_type": "code",
   "execution_count": 23,
   "id": "888f4542-a27e-4089-b039-42b85b778464",
   "metadata": {},
   "outputs": [
    {
     "name": "stdout",
     "output_type": "stream",
     "text": [
      "+----------+-----------+--------------------+-------------------+--------+--------------------+-------------+----+-----+---+----+------+------+\n",
      "|        ID|PRIMARY KEY|                 _id|               date|    flag|                text|         user|year|month|day|hour|minute|second|\n",
      "+----------+-----------+--------------------+-------------------+--------+--------------------+-------------+----+-----+---+----+------+------+\n",
      "|1551363506|     816210|{66367bb0e048fa3c...|2009-04-18 15:51:40|NO_QUERY|@ctribe I hope yo...|prosario_2000|2009|    4| 18|  15|    51|    40|\n",
      "|2059493951|     408810|{66367bb0e048fa3c...|2009-06-07 00:02:45|NO_QUERY|Kinda scared to s...|        l7l7v|2009|    6|  7|   0|     2|    45|\n",
      "|1990436550|    1223636|{66367bb0e048fa3c...|2009-06-01 11:52:03|NO_QUERY|@karinhoegh  Didn...|         kmdk|2009|    6|  1|  11|    52|     3|\n",
      "|1990436582|    1223637|{66367bb0e048fa3c...|2009-06-01 11:52:03|NO_QUERY|Need more FPS.......| jflinchbaugh|2009|    6|  1|  11|    52|     3|\n",
      "|1990436614|    1223638|{66367bb0e048fa3c...|2009-06-01 11:52:04|NO_QUERY|@SteveOGallagher ...|    kittaykat|2009|    6|  1|  11|    52|     4|\n",
      "+----------+-----------+--------------------+-------------------+--------+--------------------+-------------+----+-----+---+----+------+------+\n",
      "only showing top 5 rows\n",
      "\n"
     ]
    }
   ],
   "source": [
    "df.show(5)"
   ]
  },
  {
   "cell_type": "code",
   "execution_count": 24,
   "id": "0c454c80-e4e2-4dc9-aa0a-24c70f313ed5",
   "metadata": {},
   "outputs": [],
   "source": [
    "df = df.drop(\"_id\", \"ID\", \"PRIMARY KEY\")"
   ]
  },
  {
   "cell_type": "code",
   "execution_count": 25,
   "id": "31d4a827-9c5c-40f1-ac43-113524c40842",
   "metadata": {},
   "outputs": [
    {
     "name": "stdout",
     "output_type": "stream",
     "text": [
      "+-------------------+--------+--------------------+---------------+----+-----+---+----+------+------+\n",
      "|               date|    flag|                text|           user|year|month|day|hour|minute|second|\n",
      "+-------------------+--------+--------------------+---------------+----+-----+---+----+------+------+\n",
      "|2009-04-18 15:51:40|NO_QUERY|@ctribe I hope yo...|  prosario_2000|2009|    4| 18|  15|    51|    40|\n",
      "|2009-06-07 00:02:45|NO_QUERY|Kinda scared to s...|          l7l7v|2009|    6|  7|   0|     2|    45|\n",
      "|2009-06-01 11:52:03|NO_QUERY|@karinhoegh  Didn...|           kmdk|2009|    6|  1|  11|    52|     3|\n",
      "|2009-06-01 11:52:03|NO_QUERY|Need more FPS.......|   jflinchbaugh|2009|    6|  1|  11|    52|     3|\n",
      "|2009-06-01 11:52:04|NO_QUERY|@SteveOGallagher ...|      kittaykat|2009|    6|  1|  11|    52|     4|\n",
      "|2009-04-18 15:51:39|NO_QUERY|@Boy_Kill_Boy Nop...|Chelsea_Volturi|2009|    4| 18|  15|    51|    39|\n",
      "|2009-06-01 11:52:04|NO_QUERY|Can't wait for th...|          Mm_Ka|2009|    6|  1|  11|    52|     4|\n",
      "|2009-06-01 11:52:04|NO_QUERY|@nickayre Lol. Bu...|    bryancheung|2009|    6|  1|  11|    52|     4|\n",
      "|2009-06-01 11:52:05|NO_QUERY|I love it when I ...|      videohive|2009|    6|  1|  11|    52|     5|\n",
      "|2009-04-18 15:51:41|NO_QUERY|@marty0518 Someti...|askbillmitchell|2009|    4| 18|  15|    51|    41|\n",
      "|2009-06-01 11:52:05|NO_QUERY|http://twitpic.co...|     kayepintac|2009|    6|  1|  11|    52|     5|\n",
      "|2009-04-18 15:51:41|NO_QUERY|so i guesss im no...|       kendiixd|2009|    4| 18|  15|    51|    41|\n",
      "|2009-06-01 11:52:05|NO_QUERY|@STARBUCK_NOLA Wh...|     Dayewalker|2009|    6|  1|  11|    52|     5|\n",
      "|2009-04-18 15:51:42|NO_QUERY|@DaiLS I do that,...|    ladycalypso|2009|    4| 18|  15|    51|    42|\n",
      "|2009-06-01 11:52:06|NO_QUERY|Taking down the t...|          padrg|2009|    6|  1|  11|    52|     6|\n",
      "|2009-04-18 15:51:43|NO_QUERY|trendy topic - Re...| FindingAnswers|2009|    4| 18|  15|    51|    43|\n",
      "|2009-06-01 11:52:06|NO_QUERY|@Jon_W_Turner i k...| electronichaze|2009|    6|  1|  11|    52|     6|\n",
      "|2009-04-18 15:51:43|NO_QUERY|@firsttiger Real ...|      HTwashere|2009|    4| 18|  15|    51|    43|\n",
      "|2009-06-01 11:52:08|NO_QUERY|@freshleafdesign ...|  runwaycrochet|2009|    6|  1|  11|    52|     8|\n",
      "|2009-04-18 15:51:43|NO_QUERY|@Dragoncade I see...|     kelliekano|2009|    4| 18|  15|    51|    43|\n",
      "+-------------------+--------+--------------------+---------------+----+-----+---+----+------+------+\n",
      "only showing top 20 rows\n",
      "\n"
     ]
    }
   ],
   "source": [
    "df.show()"
   ]
  },
  {
   "cell_type": "markdown",
   "id": "4adcd709",
   "metadata": {},
   "source": [
    "## Save the df Dataframe as a Pandas"
   ]
  },
  {
   "cell_type": "code",
   "execution_count": 26,
   "id": "c1c79181-cf3f-4a96-b13e-250d46b8f9a4",
   "metadata": {},
   "outputs": [],
   "source": [
    "data = df.collect()"
   ]
  },
  {
   "cell_type": "code",
   "execution_count": 27,
   "id": "b5f72732-7fb8-4d2b-a717-1089f13a4928",
   "metadata": {},
   "outputs": [],
   "source": [
    "#import pandas as pd\n",
    "#Create pandas DataFrame from the list of rows\n",
    "pandas_df = pd.DataFrame(data)"
   ]
  },
  {
   "cell_type": "code",
   "execution_count": 28,
   "id": "0c0a3de3-5f9d-460b-9c03-1323dc5d9352",
   "metadata": {},
   "outputs": [],
   "source": [
    "pandas_df.columns = df.columns "
   ]
  },
  {
   "cell_type": "code",
   "execution_count": 29,
   "id": "79d6ea32-f739-4923-8a77-e21fdb1bca4c",
   "metadata": {},
   "outputs": [
    {
     "data": {
      "text/plain": [
       "(1600000, 10)"
      ]
     },
     "execution_count": 29,
     "metadata": {},
     "output_type": "execute_result"
    }
   ],
   "source": [
    "pandas_df.shape"
   ]
  },
  {
   "cell_type": "code",
   "execution_count": 31,
   "id": "00fec948-c900-4408-81a4-1c31dd2017d6",
   "metadata": {},
   "outputs": [],
   "source": [
    "#file path where you want to save the CSV file\n",
    "file_path = \"pandas_data.csv\"\n",
    "\n",
    "# Save the DataFrame to a CSV file\n",
    "pandas_df.to_csv(file_path)"
   ]
  },
  {
   "cell_type": "markdown",
   "id": "a03cea26",
   "metadata": {},
   "source": [
    "## 3. Update the processed Data to MongoDB"
   ]
  },
  {
   "cell_type": "code",
   "execution_count": 32,
   "id": "7aa9eac6",
   "metadata": {},
   "outputs": [],
   "source": [
    "#Write data into MongoDB\n",
    "df.write.format(\"com.mongodb.spark.sql.DefaultSource\").mode(\"append\").option(\"uri\", uri).save()"
   ]
  },
  {
   "cell_type": "markdown",
   "id": "f5f115c9",
   "metadata": {},
   "source": [
    "## SENTIMENT ANALYSIS COMPARING VADER VS TEXTBLOB, THEN TIME SERIES FORECASTING"
   ]
  },
  {
   "cell_type": "markdown",
   "id": "0366ebf1",
   "metadata": {},
   "source": [
    "## Text/Tweets Processing\n",
    "This includes the following steps:-\n",
    "- Read and Load the Dataset\n",
    "- Exploratory Data Analysis\n",
    "- Data Visualization of Target Variables\n",
    "- Data Preprocessing\n",
    "- Splitting our data into Train and Test sets.\n",
    "- Transforming Dataset using TF-IDF Vectorizer\n",
    "- Function for Model Evaluation\n",
    "- Model Building\n",
    "- Model Evaluation"
   ]
  },
  {
   "cell_type": "markdown",
   "id": "ecf8399d",
   "metadata": {},
   "source": [
    "# Read the  pandas_data csv"
   ]
  },
  {
   "cell_type": "code",
   "execution_count": 1,
   "id": "edd2b4ed",
   "metadata": {},
   "outputs": [],
   "source": [
    "import pandas as pd\n",
    "\n",
    "#Load the data\n",
    "df = pd.read_csv(\"C:/Users/Diana/Documents/Semester 2/sem two ca 2/pandas_data.csv\")"
   ]
  },
  {
   "cell_type": "markdown",
   "id": "1fc43617",
   "metadata": {},
   "source": [
    "## Exploratory Data Analysis\n",
    "\n",
    "This process involves:-\n",
    "\n",
    "a) View the first and last few observations of the df dataframe\n",
    "\n",
    "b) View the number of observations and variables the df dataframe has\n",
    "\n",
    "c) View the entire df dataframe to check the data types and any missing data in a particluar variable.\n",
    " \n",
    "d) Checking for missing data/dates\n"
   ]
  },
  {
   "cell_type": "code",
   "execution_count": 2,
   "id": "dcf1a946",
   "metadata": {
    "scrolled": true
   },
   "outputs": [
    {
     "data": {
      "text/html": [
       "<div>\n",
       "<style scoped>\n",
       "    .dataframe tbody tr th:only-of-type {\n",
       "        vertical-align: middle;\n",
       "    }\n",
       "\n",
       "    .dataframe tbody tr th {\n",
       "        vertical-align: top;\n",
       "    }\n",
       "\n",
       "    .dataframe thead th {\n",
       "        text-align: right;\n",
       "    }\n",
       "</style>\n",
       "<table border=\"1\" class=\"dataframe\">\n",
       "  <thead>\n",
       "    <tr style=\"text-align: right;\">\n",
       "      <th></th>\n",
       "      <th>Unnamed: 0</th>\n",
       "      <th>date</th>\n",
       "      <th>flag</th>\n",
       "      <th>text</th>\n",
       "      <th>user</th>\n",
       "      <th>year</th>\n",
       "      <th>month</th>\n",
       "      <th>day</th>\n",
       "      <th>hour</th>\n",
       "      <th>minute</th>\n",
       "      <th>second</th>\n",
       "    </tr>\n",
       "  </thead>\n",
       "  <tbody>\n",
       "    <tr>\n",
       "      <th>0</th>\n",
       "      <td>0</td>\n",
       "      <td>2009-04-18 15:51:40</td>\n",
       "      <td>NO_QUERY</td>\n",
       "      <td>@ctribe I hope you are having a great day.</td>\n",
       "      <td>prosario_2000</td>\n",
       "      <td>2009</td>\n",
       "      <td>4</td>\n",
       "      <td>18</td>\n",
       "      <td>15</td>\n",
       "      <td>51</td>\n",
       "      <td>40</td>\n",
       "    </tr>\n",
       "    <tr>\n",
       "      <th>1</th>\n",
       "      <td>1</td>\n",
       "      <td>2009-06-07 00:02:45</td>\n",
       "      <td>NO_QUERY</td>\n",
       "      <td>Kinda scared to sleep alone in this house toni...</td>\n",
       "      <td>l7l7v</td>\n",
       "      <td>2009</td>\n",
       "      <td>6</td>\n",
       "      <td>7</td>\n",
       "      <td>0</td>\n",
       "      <td>2</td>\n",
       "      <td>45</td>\n",
       "    </tr>\n",
       "    <tr>\n",
       "      <th>2</th>\n",
       "      <td>2</td>\n",
       "      <td>2009-06-01 11:52:03</td>\n",
       "      <td>NO_QUERY</td>\n",
       "      <td>@karinhoegh  Didn't think of national holidays...</td>\n",
       "      <td>kmdk</td>\n",
       "      <td>2009</td>\n",
       "      <td>6</td>\n",
       "      <td>1</td>\n",
       "      <td>11</td>\n",
       "      <td>52</td>\n",
       "      <td>3</td>\n",
       "    </tr>\n",
       "    <tr>\n",
       "      <th>3</th>\n",
       "      <td>3</td>\n",
       "      <td>2009-06-01 11:52:03</td>\n",
       "      <td>NO_QUERY</td>\n",
       "      <td>Need more FPS....time to shop for a new camera...</td>\n",
       "      <td>jflinchbaugh</td>\n",
       "      <td>2009</td>\n",
       "      <td>6</td>\n",
       "      <td>1</td>\n",
       "      <td>11</td>\n",
       "      <td>52</td>\n",
       "      <td>3</td>\n",
       "    </tr>\n",
       "    <tr>\n",
       "      <th>4</th>\n",
       "      <td>4</td>\n",
       "      <td>2009-06-01 11:52:04</td>\n",
       "      <td>NO_QUERY</td>\n",
       "      <td>@SteveOGallagher take me with u</td>\n",
       "      <td>kittaykat</td>\n",
       "      <td>2009</td>\n",
       "      <td>6</td>\n",
       "      <td>1</td>\n",
       "      <td>11</td>\n",
       "      <td>52</td>\n",
       "      <td>4</td>\n",
       "    </tr>\n",
       "  </tbody>\n",
       "</table>\n",
       "</div>"
      ],
      "text/plain": [
       "   Unnamed: 0                 date      flag  \\\n",
       "0           0  2009-04-18 15:51:40  NO_QUERY   \n",
       "1           1  2009-06-07 00:02:45  NO_QUERY   \n",
       "2           2  2009-06-01 11:52:03  NO_QUERY   \n",
       "3           3  2009-06-01 11:52:03  NO_QUERY   \n",
       "4           4  2009-06-01 11:52:04  NO_QUERY   \n",
       "\n",
       "                                                text           user  year  \\\n",
       "0        @ctribe I hope you are having a great day.   prosario_2000  2009   \n",
       "1  Kinda scared to sleep alone in this house toni...          l7l7v  2009   \n",
       "2  @karinhoegh  Didn't think of national holidays...           kmdk  2009   \n",
       "3  Need more FPS....time to shop for a new camera...   jflinchbaugh  2009   \n",
       "4                   @SteveOGallagher take me with u       kittaykat  2009   \n",
       "\n",
       "   month  day  hour  minute  second  \n",
       "0      4   18    15      51      40  \n",
       "1      6    7     0       2      45  \n",
       "2      6    1    11      52       3  \n",
       "3      6    1    11      52       3  \n",
       "4      6    1    11      52       4  "
      ]
     },
     "execution_count": 2,
     "metadata": {},
     "output_type": "execute_result"
    }
   ],
   "source": [
    "#View the first few observations of the df DataFrame\n",
    "df.head(5)"
   ]
  },
  {
   "cell_type": "code",
   "execution_count": 3,
   "id": "c71c35ea",
   "metadata": {},
   "outputs": [
    {
     "data": {
      "text/html": [
       "<div>\n",
       "<style scoped>\n",
       "    .dataframe tbody tr th:only-of-type {\n",
       "        vertical-align: middle;\n",
       "    }\n",
       "\n",
       "    .dataframe tbody tr th {\n",
       "        vertical-align: top;\n",
       "    }\n",
       "\n",
       "    .dataframe thead th {\n",
       "        text-align: right;\n",
       "    }\n",
       "</style>\n",
       "<table border=\"1\" class=\"dataframe\">\n",
       "  <thead>\n",
       "    <tr style=\"text-align: right;\">\n",
       "      <th></th>\n",
       "      <th>Unnamed: 0</th>\n",
       "      <th>date</th>\n",
       "      <th>flag</th>\n",
       "      <th>text</th>\n",
       "      <th>user</th>\n",
       "      <th>year</th>\n",
       "      <th>month</th>\n",
       "      <th>day</th>\n",
       "      <th>hour</th>\n",
       "      <th>minute</th>\n",
       "      <th>second</th>\n",
       "    </tr>\n",
       "  </thead>\n",
       "  <tbody>\n",
       "    <tr>\n",
       "      <th>1599995</th>\n",
       "      <td>1599995</td>\n",
       "      <td>2009-06-07 00:02:36</td>\n",
       "      <td>NO_QUERY</td>\n",
       "      <td>I just got a bunch of money for graduation, bu...</td>\n",
       "      <td>chichi7391</td>\n",
       "      <td>2009</td>\n",
       "      <td>6</td>\n",
       "      <td>7</td>\n",
       "      <td>0</td>\n",
       "      <td>2</td>\n",
       "      <td>36</td>\n",
       "    </tr>\n",
       "    <tr>\n",
       "      <th>1599996</th>\n",
       "      <td>1599996</td>\n",
       "      <td>2009-06-07 00:02:40</td>\n",
       "      <td>NO_QUERY</td>\n",
       "      <td>were is my pic</td>\n",
       "      <td>lambrinilesley</td>\n",
       "      <td>2009</td>\n",
       "      <td>6</td>\n",
       "      <td>7</td>\n",
       "      <td>0</td>\n",
       "      <td>2</td>\n",
       "      <td>40</td>\n",
       "    </tr>\n",
       "    <tr>\n",
       "      <th>1599997</th>\n",
       "      <td>1599997</td>\n",
       "      <td>2009-06-07 00:02:41</td>\n",
       "      <td>NO_QUERY</td>\n",
       "      <td>@sar_88 you had to wait 2 hours for the foood</td>\n",
       "      <td>sweetmash</td>\n",
       "      <td>2009</td>\n",
       "      <td>6</td>\n",
       "      <td>7</td>\n",
       "      <td>0</td>\n",
       "      <td>2</td>\n",
       "      <td>41</td>\n",
       "    </tr>\n",
       "    <tr>\n",
       "      <th>1599998</th>\n",
       "      <td>1599998</td>\n",
       "      <td>2009-06-07 00:02:41</td>\n",
       "      <td>NO_QUERY</td>\n",
       "      <td>@pollyyy by the way i hate you for seeing bran...</td>\n",
       "      <td>LittleBirkett</td>\n",
       "      <td>2009</td>\n",
       "      <td>6</td>\n",
       "      <td>7</td>\n",
       "      <td>0</td>\n",
       "      <td>2</td>\n",
       "      <td>41</td>\n",
       "    </tr>\n",
       "    <tr>\n",
       "      <th>1599999</th>\n",
       "      <td>1599999</td>\n",
       "      <td>2009-06-07 00:02:41</td>\n",
       "      <td>NO_QUERY</td>\n",
       "      <td>Not looking forward to a good 9 hours at One P...</td>\n",
       "      <td>paul_hauffe</td>\n",
       "      <td>2009</td>\n",
       "      <td>6</td>\n",
       "      <td>7</td>\n",
       "      <td>0</td>\n",
       "      <td>2</td>\n",
       "      <td>41</td>\n",
       "    </tr>\n",
       "  </tbody>\n",
       "</table>\n",
       "</div>"
      ],
      "text/plain": [
       "         Unnamed: 0                 date      flag  \\\n",
       "1599995     1599995  2009-06-07 00:02:36  NO_QUERY   \n",
       "1599996     1599996  2009-06-07 00:02:40  NO_QUERY   \n",
       "1599997     1599997  2009-06-07 00:02:41  NO_QUERY   \n",
       "1599998     1599998  2009-06-07 00:02:41  NO_QUERY   \n",
       "1599999     1599999  2009-06-07 00:02:41  NO_QUERY   \n",
       "\n",
       "                                                      text            user  \\\n",
       "1599995  I just got a bunch of money for graduation, bu...      chichi7391   \n",
       "1599996                                    were is my pic   lambrinilesley   \n",
       "1599997     @sar_88 you had to wait 2 hours for the foood        sweetmash   \n",
       "1599998  @pollyyy by the way i hate you for seeing bran...   LittleBirkett   \n",
       "1599999  Not looking forward to a good 9 hours at One P...     paul_hauffe   \n",
       "\n",
       "         year  month  day  hour  minute  second  \n",
       "1599995  2009      6    7     0       2      36  \n",
       "1599996  2009      6    7     0       2      40  \n",
       "1599997  2009      6    7     0       2      41  \n",
       "1599998  2009      6    7     0       2      41  \n",
       "1599999  2009      6    7     0       2      41  "
      ]
     },
     "execution_count": 3,
     "metadata": {},
     "output_type": "execute_result"
    }
   ],
   "source": [
    "#View the last few observations of the df DataFrame\n",
    "df.tail(5)"
   ]
  },
  {
   "cell_type": "code",
   "execution_count": 4,
   "id": "9d5967b0",
   "metadata": {},
   "outputs": [
    {
     "data": {
      "text/plain": [
       "(1600000, 11)"
      ]
     },
     "execution_count": 4,
     "metadata": {},
     "output_type": "execute_result"
    }
   ],
   "source": [
    "#View the shape of the df DataFrame\n",
    "df.shape"
   ]
  },
  {
   "cell_type": "code",
   "execution_count": 5,
   "id": "d032ff6f",
   "metadata": {},
   "outputs": [
    {
     "name": "stdout",
     "output_type": "stream",
     "text": [
      "<class 'pandas.core.frame.DataFrame'>\n",
      "RangeIndex: 1600000 entries, 0 to 1599999\n",
      "Data columns (total 11 columns):\n",
      " #   Column      Non-Null Count    Dtype \n",
      "---  ------      --------------    ----- \n",
      " 0   Unnamed: 0  1600000 non-null  int64 \n",
      " 1   date        1600000 non-null  object\n",
      " 2   flag        1600000 non-null  object\n",
      " 3   text        1600000 non-null  object\n",
      " 4   user        1600000 non-null  object\n",
      " 5   year        1600000 non-null  int64 \n",
      " 6   month       1600000 non-null  int64 \n",
      " 7   day         1600000 non-null  int64 \n",
      " 8   hour        1600000 non-null  int64 \n",
      " 9   minute      1600000 non-null  int64 \n",
      " 10  second      1600000 non-null  int64 \n",
      "dtypes: int64(7), object(4)\n",
      "memory usage: 134.3+ MB\n"
     ]
    }
   ],
   "source": [
    "#View the features\n",
    "df.info()"
   ]
  },
  {
   "cell_type": "code",
   "execution_count": 6,
   "id": "0880a6b7",
   "metadata": {},
   "outputs": [],
   "source": [
    "# Convert the 'date_column' to datetime datatype\n",
    "df['date'] = pd.to_datetime(df['date'])"
   ]
  },
  {
   "cell_type": "code",
   "execution_count": 7,
   "id": "e3da2837",
   "metadata": {},
   "outputs": [
    {
     "name": "stdout",
     "output_type": "stream",
     "text": [
      "<class 'pandas.core.frame.DataFrame'>\n",
      "RangeIndex: 1600000 entries, 0 to 1599999\n",
      "Data columns (total 11 columns):\n",
      " #   Column      Non-Null Count    Dtype         \n",
      "---  ------      --------------    -----         \n",
      " 0   Unnamed: 0  1600000 non-null  int64         \n",
      " 1   date        1600000 non-null  datetime64[ns]\n",
      " 2   flag        1600000 non-null  object        \n",
      " 3   text        1600000 non-null  object        \n",
      " 4   user        1600000 non-null  object        \n",
      " 5   year        1600000 non-null  int64         \n",
      " 6   month       1600000 non-null  int64         \n",
      " 7   day         1600000 non-null  int64         \n",
      " 8   hour        1600000 non-null  int64         \n",
      " 9   minute      1600000 non-null  int64         \n",
      " 10  second      1600000 non-null  int64         \n",
      "dtypes: datetime64[ns](1), int64(7), object(3)\n",
      "memory usage: 134.3+ MB\n"
     ]
    }
   ],
   "source": [
    "#Check if the date has been changed to date time\n",
    "df.info()"
   ]
  },
  {
   "cell_type": "code",
   "execution_count": 8,
   "id": "fec6e655",
   "metadata": {
    "scrolled": true
   },
   "outputs": [
    {
     "data": {
      "text/html": [
       "<div>\n",
       "<style scoped>\n",
       "    .dataframe tbody tr th:only-of-type {\n",
       "        vertical-align: middle;\n",
       "    }\n",
       "\n",
       "    .dataframe tbody tr th {\n",
       "        vertical-align: top;\n",
       "    }\n",
       "\n",
       "    .dataframe thead th {\n",
       "        text-align: right;\n",
       "    }\n",
       "</style>\n",
       "<table border=\"1\" class=\"dataframe\">\n",
       "  <thead>\n",
       "    <tr style=\"text-align: right;\">\n",
       "      <th></th>\n",
       "      <th>Unnamed: 0</th>\n",
       "      <th>date</th>\n",
       "      <th>flag</th>\n",
       "      <th>text</th>\n",
       "      <th>user</th>\n",
       "      <th>year</th>\n",
       "      <th>month</th>\n",
       "      <th>day</th>\n",
       "      <th>hour</th>\n",
       "      <th>minute</th>\n",
       "      <th>second</th>\n",
       "    </tr>\n",
       "  </thead>\n",
       "  <tbody>\n",
       "    <tr>\n",
       "      <th>0</th>\n",
       "      <td>0</td>\n",
       "      <td>2009-04-18 15:51:40</td>\n",
       "      <td>NO_QUERY</td>\n",
       "      <td>@ctribe I hope you are having a great day.</td>\n",
       "      <td>prosario_2000</td>\n",
       "      <td>2009</td>\n",
       "      <td>4</td>\n",
       "      <td>18</td>\n",
       "      <td>15</td>\n",
       "      <td>51</td>\n",
       "      <td>40</td>\n",
       "    </tr>\n",
       "    <tr>\n",
       "      <th>1</th>\n",
       "      <td>1</td>\n",
       "      <td>2009-06-07 00:02:45</td>\n",
       "      <td>NO_QUERY</td>\n",
       "      <td>Kinda scared to sleep alone in this house toni...</td>\n",
       "      <td>l7l7v</td>\n",
       "      <td>2009</td>\n",
       "      <td>6</td>\n",
       "      <td>7</td>\n",
       "      <td>0</td>\n",
       "      <td>2</td>\n",
       "      <td>45</td>\n",
       "    </tr>\n",
       "    <tr>\n",
       "      <th>2</th>\n",
       "      <td>2</td>\n",
       "      <td>2009-06-01 11:52:03</td>\n",
       "      <td>NO_QUERY</td>\n",
       "      <td>@karinhoegh  Didn't think of national holidays...</td>\n",
       "      <td>kmdk</td>\n",
       "      <td>2009</td>\n",
       "      <td>6</td>\n",
       "      <td>1</td>\n",
       "      <td>11</td>\n",
       "      <td>52</td>\n",
       "      <td>3</td>\n",
       "    </tr>\n",
       "    <tr>\n",
       "      <th>3</th>\n",
       "      <td>3</td>\n",
       "      <td>2009-06-01 11:52:03</td>\n",
       "      <td>NO_QUERY</td>\n",
       "      <td>Need more FPS....time to shop for a new camera...</td>\n",
       "      <td>jflinchbaugh</td>\n",
       "      <td>2009</td>\n",
       "      <td>6</td>\n",
       "      <td>1</td>\n",
       "      <td>11</td>\n",
       "      <td>52</td>\n",
       "      <td>3</td>\n",
       "    </tr>\n",
       "    <tr>\n",
       "      <th>4</th>\n",
       "      <td>4</td>\n",
       "      <td>2009-06-01 11:52:04</td>\n",
       "      <td>NO_QUERY</td>\n",
       "      <td>@SteveOGallagher take me with u</td>\n",
       "      <td>kittaykat</td>\n",
       "      <td>2009</td>\n",
       "      <td>6</td>\n",
       "      <td>1</td>\n",
       "      <td>11</td>\n",
       "      <td>52</td>\n",
       "      <td>4</td>\n",
       "    </tr>\n",
       "  </tbody>\n",
       "</table>\n",
       "</div>"
      ],
      "text/plain": [
       "   Unnamed: 0                date      flag  \\\n",
       "0           0 2009-04-18 15:51:40  NO_QUERY   \n",
       "1           1 2009-06-07 00:02:45  NO_QUERY   \n",
       "2           2 2009-06-01 11:52:03  NO_QUERY   \n",
       "3           3 2009-06-01 11:52:03  NO_QUERY   \n",
       "4           4 2009-06-01 11:52:04  NO_QUERY   \n",
       "\n",
       "                                                text           user  year  \\\n",
       "0        @ctribe I hope you are having a great day.   prosario_2000  2009   \n",
       "1  Kinda scared to sleep alone in this house toni...          l7l7v  2009   \n",
       "2  @karinhoegh  Didn't think of national holidays...           kmdk  2009   \n",
       "3  Need more FPS....time to shop for a new camera...   jflinchbaugh  2009   \n",
       "4                   @SteveOGallagher take me with u       kittaykat  2009   \n",
       "\n",
       "   month  day  hour  minute  second  \n",
       "0      4   18    15      51      40  \n",
       "1      6    7     0       2      45  \n",
       "2      6    1    11      52       3  \n",
       "3      6    1    11      52       3  \n",
       "4      6    1    11      52       4  "
      ]
     },
     "execution_count": 8,
     "metadata": {},
     "output_type": "execute_result"
    }
   ],
   "source": [
    "#Check the df\n",
    "df.head(5)"
   ]
  },
  {
   "cell_type": "markdown",
   "id": "5f578007",
   "metadata": {},
   "source": [
    "## Drop Variables that will not be used"
   ]
  },
  {
   "cell_type": "code",
   "execution_count": 9,
   "id": "b07fb934",
   "metadata": {},
   "outputs": [],
   "source": [
    "# Drop all columns except 'date' and 'text'\n",
    "df = df[['date', 'text']]"
   ]
  },
  {
   "cell_type": "code",
   "execution_count": 10,
   "id": "f312db7a",
   "metadata": {},
   "outputs": [
    {
     "data": {
      "text/html": [
       "<div>\n",
       "<style scoped>\n",
       "    .dataframe tbody tr th:only-of-type {\n",
       "        vertical-align: middle;\n",
       "    }\n",
       "\n",
       "    .dataframe tbody tr th {\n",
       "        vertical-align: top;\n",
       "    }\n",
       "\n",
       "    .dataframe thead th {\n",
       "        text-align: right;\n",
       "    }\n",
       "</style>\n",
       "<table border=\"1\" class=\"dataframe\">\n",
       "  <thead>\n",
       "    <tr style=\"text-align: right;\">\n",
       "      <th></th>\n",
       "      <th>date</th>\n",
       "      <th>text</th>\n",
       "    </tr>\n",
       "  </thead>\n",
       "  <tbody>\n",
       "    <tr>\n",
       "      <th>0</th>\n",
       "      <td>2009-04-18 15:51:40</td>\n",
       "      <td>@ctribe I hope you are having a great day.</td>\n",
       "    </tr>\n",
       "    <tr>\n",
       "      <th>1</th>\n",
       "      <td>2009-06-07 00:02:45</td>\n",
       "      <td>Kinda scared to sleep alone in this house toni...</td>\n",
       "    </tr>\n",
       "    <tr>\n",
       "      <th>2</th>\n",
       "      <td>2009-06-01 11:52:03</td>\n",
       "      <td>@karinhoegh  Didn't think of national holidays...</td>\n",
       "    </tr>\n",
       "    <tr>\n",
       "      <th>3</th>\n",
       "      <td>2009-06-01 11:52:03</td>\n",
       "      <td>Need more FPS....time to shop for a new camera...</td>\n",
       "    </tr>\n",
       "    <tr>\n",
       "      <th>4</th>\n",
       "      <td>2009-06-01 11:52:04</td>\n",
       "      <td>@SteveOGallagher take me with u</td>\n",
       "    </tr>\n",
       "  </tbody>\n",
       "</table>\n",
       "</div>"
      ],
      "text/plain": [
       "                 date                                               text\n",
       "0 2009-04-18 15:51:40        @ctribe I hope you are having a great day. \n",
       "1 2009-06-07 00:02:45  Kinda scared to sleep alone in this house toni...\n",
       "2 2009-06-01 11:52:03  @karinhoegh  Didn't think of national holidays...\n",
       "3 2009-06-01 11:52:03  Need more FPS....time to shop for a new camera...\n",
       "4 2009-06-01 11:52:04                   @SteveOGallagher take me with u "
      ]
     },
     "execution_count": 10,
     "metadata": {},
     "output_type": "execute_result"
    }
   ],
   "source": [
    "#Check if they have been dropped\n",
    "df.head(5)"
   ]
  },
  {
   "cell_type": "code",
   "execution_count": 11,
   "id": "4b2e3908",
   "metadata": {},
   "outputs": [],
   "source": [
    "# Sort the DataFrame by the 'date' column in ascending order\n",
    "df = df.sort_values(by='date', ascending=True)"
   ]
  },
  {
   "cell_type": "code",
   "execution_count": 12,
   "id": "c88867fb",
   "metadata": {},
   "outputs": [
    {
     "data": {
      "text/html": [
       "<div>\n",
       "<style scoped>\n",
       "    .dataframe tbody tr th:only-of-type {\n",
       "        vertical-align: middle;\n",
       "    }\n",
       "\n",
       "    .dataframe tbody tr th {\n",
       "        vertical-align: top;\n",
       "    }\n",
       "\n",
       "    .dataframe thead th {\n",
       "        text-align: right;\n",
       "    }\n",
       "</style>\n",
       "<table border=\"1\" class=\"dataframe\">\n",
       "  <thead>\n",
       "    <tr style=\"text-align: right;\">\n",
       "      <th></th>\n",
       "      <th>date</th>\n",
       "      <th>text</th>\n",
       "    </tr>\n",
       "  </thead>\n",
       "  <tbody>\n",
       "    <tr>\n",
       "      <th>271</th>\n",
       "      <td>2009-04-07 05:19:45</td>\n",
       "      <td>@switchfoot http://twitpic.com/2y1zl - Awww, t...</td>\n",
       "    </tr>\n",
       "    <tr>\n",
       "      <th>275</th>\n",
       "      <td>2009-04-07 05:19:49</td>\n",
       "      <td>is upset that he can't update his Facebook by ...</td>\n",
       "    </tr>\n",
       "    <tr>\n",
       "      <th>277</th>\n",
       "      <td>2009-04-07 05:19:53</td>\n",
       "      <td>@Kenichan I dived many times for the ball. Man...</td>\n",
       "    </tr>\n",
       "    <tr>\n",
       "      <th>279</th>\n",
       "      <td>2009-04-07 05:19:57</td>\n",
       "      <td>my whole body feels itchy and like its on fire</td>\n",
       "    </tr>\n",
       "    <tr>\n",
       "      <th>281</th>\n",
       "      <td>2009-04-07 05:19:57</td>\n",
       "      <td>@nationwideclass no, it's not behaving at all....</td>\n",
       "    </tr>\n",
       "  </tbody>\n",
       "</table>\n",
       "</div>"
      ],
      "text/plain": [
       "                   date                                               text\n",
       "271 2009-04-07 05:19:45  @switchfoot http://twitpic.com/2y1zl - Awww, t...\n",
       "275 2009-04-07 05:19:49  is upset that he can't update his Facebook by ...\n",
       "277 2009-04-07 05:19:53  @Kenichan I dived many times for the ball. Man...\n",
       "279 2009-04-07 05:19:57    my whole body feels itchy and like its on fire \n",
       "281 2009-04-07 05:19:57  @nationwideclass no, it's not behaving at all...."
      ]
     },
     "execution_count": 12,
     "metadata": {},
     "output_type": "execute_result"
    }
   ],
   "source": [
    "#Check if the date is sorted\n",
    "df.head(5)"
   ]
  },
  {
   "cell_type": "code",
   "execution_count": 13,
   "id": "a912a7e2",
   "metadata": {},
   "outputs": [
    {
     "name": "stdout",
     "output_type": "stream",
     "text": [
      "<class 'pandas.core.frame.DataFrame'>\n",
      "Int64Index: 1600000 entries, 271 to 1546305\n",
      "Data columns (total 2 columns):\n",
      " #   Column  Non-Null Count    Dtype         \n",
      "---  ------  --------------    -----         \n",
      " 0   date    1600000 non-null  datetime64[ns]\n",
      " 1   text    1600000 non-null  object        \n",
      "dtypes: datetime64[ns](1), object(1)\n",
      "memory usage: 36.6+ MB\n"
     ]
    }
   ],
   "source": [
    "df.info()"
   ]
  },
  {
   "cell_type": "code",
   "execution_count": 14,
   "id": "8eeb5dc7",
   "metadata": {},
   "outputs": [
    {
     "name": "stdout",
     "output_type": "stream",
     "text": [
      "                        min                 max\n",
      "month                                          \n",
      "2009-04 2009-04-07 05:19:45 2009-04-21 11:22:15\n",
      "2009-05 2009-05-02 03:08:46 2009-05-31 23:59:59\n",
      "2009-06 2009-06-01 00:00:00 2009-06-25 17:28:31\n"
     ]
    }
   ],
   "source": [
    "# Extract month from 'date' column\n",
    "df['month'] = df['date'].dt.to_period('M')\n",
    "\n",
    "#Group by month and find minimum and maximum date for each month\n",
    "monthly_date_range = df.groupby('month')['date'].agg([min, max])\n",
    "\n",
    "#Display the result\n",
    "print(monthly_date_range)"
   ]
  },
  {
   "cell_type": "markdown",
   "id": "c330b0fb",
   "metadata": {},
   "source": [
    "## The dates have some missing dates\n",
    "- The data is for 3 months, April, May, June\n",
    "- April (7/4/2009 - 21/4/2009)\n",
    "- May (2/5/2009) - 31/5/2009\n",
    "- June (1/6/2009 -25/6/2009)"
   ]
  },
  {
   "cell_type": "code",
   "execution_count": 15,
   "id": "6656a899",
   "metadata": {},
   "outputs": [
    {
     "data": {
      "text/html": [
       "<div>\n",
       "<style scoped>\n",
       "    .dataframe tbody tr th:only-of-type {\n",
       "        vertical-align: middle;\n",
       "    }\n",
       "\n",
       "    .dataframe tbody tr th {\n",
       "        vertical-align: top;\n",
       "    }\n",
       "\n",
       "    .dataframe thead th {\n",
       "        text-align: right;\n",
       "    }\n",
       "</style>\n",
       "<table border=\"1\" class=\"dataframe\">\n",
       "  <thead>\n",
       "    <tr style=\"text-align: right;\">\n",
       "      <th></th>\n",
       "      <th>date</th>\n",
       "      <th>text</th>\n",
       "      <th>month</th>\n",
       "    </tr>\n",
       "  </thead>\n",
       "  <tbody>\n",
       "    <tr>\n",
       "      <th>271</th>\n",
       "      <td>2009-04-07 05:19:45</td>\n",
       "      <td>@switchfoot http://twitpic.com/2y1zl - Awww, t...</td>\n",
       "      <td>2009-04</td>\n",
       "    </tr>\n",
       "    <tr>\n",
       "      <th>275</th>\n",
       "      <td>2009-04-07 05:19:49</td>\n",
       "      <td>is upset that he can't update his Facebook by ...</td>\n",
       "      <td>2009-04</td>\n",
       "    </tr>\n",
       "    <tr>\n",
       "      <th>277</th>\n",
       "      <td>2009-04-07 05:19:53</td>\n",
       "      <td>@Kenichan I dived many times for the ball. Man...</td>\n",
       "      <td>2009-04</td>\n",
       "    </tr>\n",
       "    <tr>\n",
       "      <th>279</th>\n",
       "      <td>2009-04-07 05:19:57</td>\n",
       "      <td>my whole body feels itchy and like its on fire</td>\n",
       "      <td>2009-04</td>\n",
       "    </tr>\n",
       "    <tr>\n",
       "      <th>281</th>\n",
       "      <td>2009-04-07 05:19:57</td>\n",
       "      <td>@nationwideclass no, it's not behaving at all....</td>\n",
       "      <td>2009-04</td>\n",
       "    </tr>\n",
       "  </tbody>\n",
       "</table>\n",
       "</div>"
      ],
      "text/plain": [
       "                   date                                               text  \\\n",
       "271 2009-04-07 05:19:45  @switchfoot http://twitpic.com/2y1zl - Awww, t...   \n",
       "275 2009-04-07 05:19:49  is upset that he can't update his Facebook by ...   \n",
       "277 2009-04-07 05:19:53  @Kenichan I dived many times for the ball. Man...   \n",
       "279 2009-04-07 05:19:57    my whole body feels itchy and like its on fire    \n",
       "281 2009-04-07 05:19:57  @nationwideclass no, it's not behaving at all....   \n",
       "\n",
       "       month  \n",
       "271  2009-04  \n",
       "275  2009-04  \n",
       "277  2009-04  \n",
       "279  2009-04  \n",
       "281  2009-04  "
      ]
     },
     "execution_count": 15,
     "metadata": {},
     "output_type": "execute_result"
    }
   ],
   "source": [
    "#Check if date has been set as index\n",
    "df.head(5)"
   ]
  },
  {
   "cell_type": "code",
   "execution_count": 16,
   "id": "781a78e1",
   "metadata": {
    "scrolled": true
   },
   "outputs": [
    {
     "name": "stdout",
     "output_type": "stream",
     "text": [
      "DatetimeIndex(['2009-04-01', '2009-04-02', '2009-04-03', '2009-04-04',\n",
      "               '2009-04-05', '2009-04-06', '2009-04-07', '2009-04-08',\n",
      "               '2009-04-09', '2009-04-10', '2009-04-11', '2009-04-12',\n",
      "               '2009-04-13', '2009-04-14', '2009-04-15', '2009-04-16',\n",
      "               '2009-04-17', '2009-04-18', '2009-04-19', '2009-04-20',\n",
      "               '2009-04-21', '2009-04-22', '2009-04-23', '2009-04-24',\n",
      "               '2009-04-25', '2009-04-26', '2009-04-27', '2009-04-28',\n",
      "               '2009-04-29', '2009-04-30', '2009-05-01', '2009-05-02',\n",
      "               '2009-05-03', '2009-05-04', '2009-05-05', '2009-05-06',\n",
      "               '2009-05-07', '2009-05-08', '2009-05-09', '2009-05-10',\n",
      "               '2009-05-11', '2009-05-12', '2009-05-13', '2009-05-14',\n",
      "               '2009-05-15', '2009-05-16', '2009-05-17', '2009-05-18',\n",
      "               '2009-05-19', '2009-05-20', '2009-05-21', '2009-05-22',\n",
      "               '2009-05-23', '2009-05-24', '2009-05-25', '2009-05-26',\n",
      "               '2009-05-27', '2009-05-28', '2009-05-29', '2009-05-30',\n",
      "               '2009-05-31', '2009-06-01', '2009-06-02', '2009-06-03',\n",
      "               '2009-06-04', '2009-06-05', '2009-06-06', '2009-06-07',\n",
      "               '2009-06-08', '2009-06-09', '2009-06-10', '2009-06-11',\n",
      "               '2009-06-12', '2009-06-13', '2009-06-14', '2009-06-15',\n",
      "               '2009-06-16', '2009-06-17', '2009-06-18', '2009-06-19',\n",
      "               '2009-06-20', '2009-06-21', '2009-06-22', '2009-06-23',\n",
      "               '2009-06-24', '2009-06-25', '2009-06-26', '2009-06-27',\n",
      "               '2009-06-28', '2009-06-29', '2009-06-30'],\n",
      "              dtype='datetime64[ns]', freq='D')\n",
      "91\n"
     ]
    }
   ],
   "source": [
    "import pandas as pd\n",
    "\n",
    "#Define date range with correct formatting\n",
    "date_range = pd.date_range(start=\"2009-04-01\", end=\"2009-06-30\", freq=\"D\")\n",
    "\n",
    "#Find missing dates\n",
    "missing_dates = date_range[~date_range.isin(df.index)]\n",
    "print(missing_dates)\n",
    "print(len(missing_dates))"
   ]
  },
  {
   "cell_type": "code",
   "execution_count": 17,
   "id": "8c92ce24",
   "metadata": {},
   "outputs": [
    {
     "name": "stdout",
     "output_type": "stream",
     "text": [
      "month\n",
      "2009-04    100025\n",
      "2009-05    559073\n",
      "2009-06    940902\n",
      "Freq: M, dtype: int64\n"
     ]
    }
   ],
   "source": [
    "# Count the number of dates by month\n",
    "monthly_date_counts = df.groupby('month').size()\n",
    "\n",
    "# Display the result\n",
    "print(monthly_date_counts)\n"
   ]
  },
  {
   "cell_type": "code",
   "execution_count": 18,
   "id": "f65efdda",
   "metadata": {},
   "outputs": [
    {
     "data": {
      "text/html": [
       "<div>\n",
       "<style scoped>\n",
       "    .dataframe tbody tr th:only-of-type {\n",
       "        vertical-align: middle;\n",
       "    }\n",
       "\n",
       "    .dataframe tbody tr th {\n",
       "        vertical-align: top;\n",
       "    }\n",
       "\n",
       "    .dataframe thead th {\n",
       "        text-align: right;\n",
       "    }\n",
       "</style>\n",
       "<table border=\"1\" class=\"dataframe\">\n",
       "  <thead>\n",
       "    <tr style=\"text-align: right;\">\n",
       "      <th></th>\n",
       "      <th>date</th>\n",
       "      <th>text</th>\n",
       "      <th>month</th>\n",
       "    </tr>\n",
       "  </thead>\n",
       "  <tbody>\n",
       "    <tr>\n",
       "      <th>271</th>\n",
       "      <td>2009-04-07 05:19:45</td>\n",
       "      <td>@switchfoot http://twitpic.com/2y1zl - Awww, t...</td>\n",
       "      <td>2009-04</td>\n",
       "    </tr>\n",
       "    <tr>\n",
       "      <th>275</th>\n",
       "      <td>2009-04-07 05:19:49</td>\n",
       "      <td>is upset that he can't update his Facebook by ...</td>\n",
       "      <td>2009-04</td>\n",
       "    </tr>\n",
       "    <tr>\n",
       "      <th>277</th>\n",
       "      <td>2009-04-07 05:19:53</td>\n",
       "      <td>@Kenichan I dived many times for the ball. Man...</td>\n",
       "      <td>2009-04</td>\n",
       "    </tr>\n",
       "    <tr>\n",
       "      <th>279</th>\n",
       "      <td>2009-04-07 05:19:57</td>\n",
       "      <td>my whole body feels itchy and like its on fire</td>\n",
       "      <td>2009-04</td>\n",
       "    </tr>\n",
       "    <tr>\n",
       "      <th>281</th>\n",
       "      <td>2009-04-07 05:19:57</td>\n",
       "      <td>@nationwideclass no, it's not behaving at all....</td>\n",
       "      <td>2009-04</td>\n",
       "    </tr>\n",
       "  </tbody>\n",
       "</table>\n",
       "</div>"
      ],
      "text/plain": [
       "                   date                                               text  \\\n",
       "271 2009-04-07 05:19:45  @switchfoot http://twitpic.com/2y1zl - Awww, t...   \n",
       "275 2009-04-07 05:19:49  is upset that he can't update his Facebook by ...   \n",
       "277 2009-04-07 05:19:53  @Kenichan I dived many times for the ball. Man...   \n",
       "279 2009-04-07 05:19:57    my whole body feels itchy and like its on fire    \n",
       "281 2009-04-07 05:19:57  @nationwideclass no, it's not behaving at all....   \n",
       "\n",
       "       month  \n",
       "271  2009-04  \n",
       "275  2009-04  \n",
       "277  2009-04  \n",
       "279  2009-04  \n",
       "281  2009-04  "
      ]
     },
     "execution_count": 18,
     "metadata": {},
     "output_type": "execute_result"
    }
   ],
   "source": [
    "#View the df\n",
    "df.head(5)"
   ]
  },
  {
   "cell_type": "markdown",
   "id": "bb1a6738",
   "metadata": {},
   "source": [
    "# EDA of the Texts"
   ]
  },
  {
   "cell_type": "code",
   "execution_count": 19,
   "id": "e31b3b4c",
   "metadata": {},
   "outputs": [],
   "source": [
    "#Count the number of words in the text\n",
    "df['word_count'] = df['text'].apply(lambda x: len(str(x).split(\" \")))"
   ]
  },
  {
   "cell_type": "code",
   "execution_count": 20,
   "id": "a9a83a8e",
   "metadata": {},
   "outputs": [
    {
     "data": {
      "text/html": [
       "<div>\n",
       "<style scoped>\n",
       "    .dataframe tbody tr th:only-of-type {\n",
       "        vertical-align: middle;\n",
       "    }\n",
       "\n",
       "    .dataframe tbody tr th {\n",
       "        vertical-align: top;\n",
       "    }\n",
       "\n",
       "    .dataframe thead th {\n",
       "        text-align: right;\n",
       "    }\n",
       "</style>\n",
       "<table border=\"1\" class=\"dataframe\">\n",
       "  <thead>\n",
       "    <tr style=\"text-align: right;\">\n",
       "      <th></th>\n",
       "      <th>text</th>\n",
       "      <th>word_count</th>\n",
       "    </tr>\n",
       "  </thead>\n",
       "  <tbody>\n",
       "    <tr>\n",
       "      <th>271</th>\n",
       "      <td>@switchfoot http://twitpic.com/2y1zl - Awww, t...</td>\n",
       "      <td>20</td>\n",
       "    </tr>\n",
       "    <tr>\n",
       "      <th>275</th>\n",
       "      <td>is upset that he can't update his Facebook by ...</td>\n",
       "      <td>22</td>\n",
       "    </tr>\n",
       "    <tr>\n",
       "      <th>277</th>\n",
       "      <td>@Kenichan I dived many times for the ball. Man...</td>\n",
       "      <td>19</td>\n",
       "    </tr>\n",
       "    <tr>\n",
       "      <th>279</th>\n",
       "      <td>my whole body feels itchy and like its on fire</td>\n",
       "      <td>11</td>\n",
       "    </tr>\n",
       "    <tr>\n",
       "      <th>281</th>\n",
       "      <td>@nationwideclass no, it's not behaving at all....</td>\n",
       "      <td>22</td>\n",
       "    </tr>\n",
       "  </tbody>\n",
       "</table>\n",
       "</div>"
      ],
      "text/plain": [
       "                                                  text  word_count\n",
       "271  @switchfoot http://twitpic.com/2y1zl - Awww, t...          20\n",
       "275  is upset that he can't update his Facebook by ...          22\n",
       "277  @Kenichan I dived many times for the ball. Man...          19\n",
       "279    my whole body feels itchy and like its on fire           11\n",
       "281  @nationwideclass no, it's not behaving at all....          22"
      ]
     },
     "execution_count": 20,
     "metadata": {},
     "output_type": "execute_result"
    }
   ],
   "source": [
    "df[[\"text\",\"word_count\"]].head(5)"
   ]
  },
  {
   "cell_type": "code",
   "execution_count": 21,
   "id": "c0e2c6f4",
   "metadata": {},
   "outputs": [
    {
     "data": {
      "text/plain": [
       "110"
      ]
     },
     "execution_count": 21,
     "metadata": {},
     "output_type": "execute_result"
    }
   ],
   "source": [
    "#Find the maximum number of words in the 'word_count' variable of the 'df' DataFrame\n",
    "largest_word_count = df[\"word_count\"].max()\n",
    "largest_word_count"
   ]
  },
  {
   "cell_type": "code",
   "execution_count": 22,
   "id": "be9b4416",
   "metadata": {},
   "outputs": [],
   "source": [
    "#Count the number of characters in the text variable\n",
    "df['char_count'] = df['text'].str.len() "
   ]
  },
  {
   "cell_type": "code",
   "execution_count": 23,
   "id": "ad625a33",
   "metadata": {},
   "outputs": [
    {
     "data": {
      "text/html": [
       "<div>\n",
       "<style scoped>\n",
       "    .dataframe tbody tr th:only-of-type {\n",
       "        vertical-align: middle;\n",
       "    }\n",
       "\n",
       "    .dataframe tbody tr th {\n",
       "        vertical-align: top;\n",
       "    }\n",
       "\n",
       "    .dataframe thead th {\n",
       "        text-align: right;\n",
       "    }\n",
       "</style>\n",
       "<table border=\"1\" class=\"dataframe\">\n",
       "  <thead>\n",
       "    <tr style=\"text-align: right;\">\n",
       "      <th></th>\n",
       "      <th>text</th>\n",
       "      <th>char_count</th>\n",
       "    </tr>\n",
       "  </thead>\n",
       "  <tbody>\n",
       "    <tr>\n",
       "      <th>271</th>\n",
       "      <td>@switchfoot http://twitpic.com/2y1zl - Awww, t...</td>\n",
       "      <td>115</td>\n",
       "    </tr>\n",
       "    <tr>\n",
       "      <th>275</th>\n",
       "      <td>is upset that he can't update his Facebook by ...</td>\n",
       "      <td>111</td>\n",
       "    </tr>\n",
       "    <tr>\n",
       "      <th>277</th>\n",
       "      <td>@Kenichan I dived many times for the ball. Man...</td>\n",
       "      <td>89</td>\n",
       "    </tr>\n",
       "    <tr>\n",
       "      <th>279</th>\n",
       "      <td>my whole body feels itchy and like its on fire</td>\n",
       "      <td>47</td>\n",
       "    </tr>\n",
       "    <tr>\n",
       "      <th>281</th>\n",
       "      <td>@nationwideclass no, it's not behaving at all....</td>\n",
       "      <td>111</td>\n",
       "    </tr>\n",
       "  </tbody>\n",
       "</table>\n",
       "</div>"
      ],
      "text/plain": [
       "                                                  text  char_count\n",
       "271  @switchfoot http://twitpic.com/2y1zl - Awww, t...         115\n",
       "275  is upset that he can't update his Facebook by ...         111\n",
       "277  @Kenichan I dived many times for the ball. Man...          89\n",
       "279    my whole body feels itchy and like its on fire           47\n",
       "281  @nationwideclass no, it's not behaving at all....         111"
      ]
     },
     "execution_count": 23,
     "metadata": {},
     "output_type": "execute_result"
    }
   ],
   "source": [
    "#View the head of the char_count and text\n",
    "df[[\"text\",\"char_count\"]].head(5)"
   ]
  },
  {
   "cell_type": "code",
   "execution_count": 24,
   "id": "2cf0bbf9",
   "metadata": {},
   "outputs": [
    {
     "data": {
      "text/plain": [
       "374"
      ]
     },
     "execution_count": 24,
     "metadata": {},
     "output_type": "execute_result"
    }
   ],
   "source": [
    "#Find the maximum number of characters in the 'char_count' variable of the 'df' DataFrame\n",
    "largest_char_count = df[\"char_count\"].max()\n",
    "largest_char_count"
   ]
  },
  {
   "cell_type": "code",
   "execution_count": 25,
   "id": "30a43398",
   "metadata": {},
   "outputs": [],
   "source": [
    "#define a function to calculate the average length of words in a sentence\n",
    "def avg_word(sentence):\n",
    "  words = sentence.split()\n",
    "  return (sum(len(word) for word in words)/len(words))"
   ]
  },
  {
   "cell_type": "code",
   "execution_count": 26,
   "id": "1921e3d2",
   "metadata": {},
   "outputs": [],
   "source": [
    "#Apply the avg_word function on text\n",
    "df['avg_word'] = df['text'].apply(lambda x: avg_word(x))"
   ]
  },
  {
   "cell_type": "code",
   "execution_count": 27,
   "id": "8af70949",
   "metadata": {},
   "outputs": [
    {
     "data": {
      "text/html": [
       "<div>\n",
       "<style scoped>\n",
       "    .dataframe tbody tr th:only-of-type {\n",
       "        vertical-align: middle;\n",
       "    }\n",
       "\n",
       "    .dataframe tbody tr th {\n",
       "        vertical-align: top;\n",
       "    }\n",
       "\n",
       "    .dataframe thead th {\n",
       "        text-align: right;\n",
       "    }\n",
       "</style>\n",
       "<table border=\"1\" class=\"dataframe\">\n",
       "  <thead>\n",
       "    <tr style=\"text-align: right;\">\n",
       "      <th></th>\n",
       "      <th>text</th>\n",
       "      <th>avg_word</th>\n",
       "    </tr>\n",
       "  </thead>\n",
       "  <tbody>\n",
       "    <tr>\n",
       "      <th>271</th>\n",
       "      <td>@switchfoot http://twitpic.com/2y1zl - Awww, t...</td>\n",
       "      <td>5.052632</td>\n",
       "    </tr>\n",
       "    <tr>\n",
       "      <th>275</th>\n",
       "      <td>is upset that he can't update his Facebook by ...</td>\n",
       "      <td>4.285714</td>\n",
       "    </tr>\n",
       "    <tr>\n",
       "      <th>277</th>\n",
       "      <td>@Kenichan I dived many times for the ball. Man...</td>\n",
       "      <td>3.944444</td>\n",
       "    </tr>\n",
       "    <tr>\n",
       "      <th>279</th>\n",
       "      <td>my whole body feels itchy and like its on fire</td>\n",
       "      <td>3.700000</td>\n",
       "    </tr>\n",
       "    <tr>\n",
       "      <th>281</th>\n",
       "      <td>@nationwideclass no, it's not behaving at all....</td>\n",
       "      <td>4.285714</td>\n",
       "    </tr>\n",
       "  </tbody>\n",
       "</table>\n",
       "</div>"
      ],
      "text/plain": [
       "                                                  text  avg_word\n",
       "271  @switchfoot http://twitpic.com/2y1zl - Awww, t...  5.052632\n",
       "275  is upset that he can't update his Facebook by ...  4.285714\n",
       "277  @Kenichan I dived many times for the ball. Man...  3.944444\n",
       "279    my whole body feels itchy and like its on fire   3.700000\n",
       "281  @nationwideclass no, it's not behaving at all....  4.285714"
      ]
     },
     "execution_count": 27,
     "metadata": {},
     "output_type": "execute_result"
    }
   ],
   "source": [
    "#View text and avg_word\n",
    "df[['text','avg_word']].head()"
   ]
  },
  {
   "cell_type": "code",
   "execution_count": 28,
   "id": "34790040",
   "metadata": {},
   "outputs": [
    {
     "data": {
      "text/plain": [
       "137.0"
      ]
     },
     "execution_count": 28,
     "metadata": {},
     "output_type": "execute_result"
    }
   ],
   "source": [
    "#Find the highest average word count of the 'df' DataFrame\n",
    "highest_avg_word = df[\"avg_word\"].max()\n",
    "highest_avg_word"
   ]
  },
  {
   "cell_type": "code",
   "execution_count": 29,
   "id": "c29ecb16",
   "metadata": {},
   "outputs": [],
   "source": [
    "import nltk\n",
    "from nltk.corpus import stopwords\n",
    "stop = stopwords.words('english')"
   ]
  },
  {
   "cell_type": "code",
   "execution_count": 30,
   "id": "2f3292c9",
   "metadata": {},
   "outputs": [
    {
     "data": {
      "text/html": [
       "<div>\n",
       "<style scoped>\n",
       "    .dataframe tbody tr th:only-of-type {\n",
       "        vertical-align: middle;\n",
       "    }\n",
       "\n",
       "    .dataframe tbody tr th {\n",
       "        vertical-align: top;\n",
       "    }\n",
       "\n",
       "    .dataframe thead th {\n",
       "        text-align: right;\n",
       "    }\n",
       "</style>\n",
       "<table border=\"1\" class=\"dataframe\">\n",
       "  <thead>\n",
       "    <tr style=\"text-align: right;\">\n",
       "      <th></th>\n",
       "      <th>text</th>\n",
       "      <th>stopwords</th>\n",
       "    </tr>\n",
       "  </thead>\n",
       "  <tbody>\n",
       "    <tr>\n",
       "      <th>271</th>\n",
       "      <td>@switchfoot http://twitpic.com/2y1zl - Awww, t...</td>\n",
       "      <td>4</td>\n",
       "    </tr>\n",
       "    <tr>\n",
       "      <th>275</th>\n",
       "      <td>is upset that he can't update his Facebook by ...</td>\n",
       "      <td>8</td>\n",
       "    </tr>\n",
       "    <tr>\n",
       "      <th>277</th>\n",
       "      <td>@Kenichan I dived many times for the ball. Man...</td>\n",
       "      <td>5</td>\n",
       "    </tr>\n",
       "    <tr>\n",
       "      <th>279</th>\n",
       "      <td>my whole body feels itchy and like its on fire</td>\n",
       "      <td>4</td>\n",
       "    </tr>\n",
       "    <tr>\n",
       "      <th>281</th>\n",
       "      <td>@nationwideclass no, it's not behaving at all....</td>\n",
       "      <td>10</td>\n",
       "    </tr>\n",
       "  </tbody>\n",
       "</table>\n",
       "</div>"
      ],
      "text/plain": [
       "                                                  text  stopwords\n",
       "271  @switchfoot http://twitpic.com/2y1zl - Awww, t...          4\n",
       "275  is upset that he can't update his Facebook by ...          8\n",
       "277  @Kenichan I dived many times for the ball. Man...          5\n",
       "279    my whole body feels itchy and like its on fire           4\n",
       "281  @nationwideclass no, it's not behaving at all....         10"
      ]
     },
     "execution_count": 30,
     "metadata": {},
     "output_type": "execute_result"
    }
   ],
   "source": [
    "#count number of stopwords in each text and store in a variable called stopwords\n",
    "df['stopwords'] = df['text'].apply(lambda x: len([x for x in x.split() if x in stop]))\n",
    "df[['text','stopwords']].head(5)"
   ]
  },
  {
   "cell_type": "code",
   "execution_count": 31,
   "id": "13457131",
   "metadata": {},
   "outputs": [
    {
     "data": {
      "text/plain": [
       "25"
      ]
     },
     "execution_count": 31,
     "metadata": {},
     "output_type": "execute_result"
    }
   ],
   "source": [
    "#Find the maximum number of stopwords in the 'df' DataFrame\n",
    "maximum_no_stopwords = df[\"stopwords\"].max()\n",
    "maximum_no_stopwords"
   ]
  },
  {
   "cell_type": "code",
   "execution_count": 32,
   "id": "f9e61fa4",
   "metadata": {},
   "outputs": [
    {
     "data": {
      "text/html": [
       "<div>\n",
       "<style scoped>\n",
       "    .dataframe tbody tr th:only-of-type {\n",
       "        vertical-align: middle;\n",
       "    }\n",
       "\n",
       "    .dataframe tbody tr th {\n",
       "        vertical-align: top;\n",
       "    }\n",
       "\n",
       "    .dataframe thead th {\n",
       "        text-align: right;\n",
       "    }\n",
       "</style>\n",
       "<table border=\"1\" class=\"dataframe\">\n",
       "  <thead>\n",
       "    <tr style=\"text-align: right;\">\n",
       "      <th></th>\n",
       "      <th>text</th>\n",
       "      <th>hashtags</th>\n",
       "    </tr>\n",
       "  </thead>\n",
       "  <tbody>\n",
       "    <tr>\n",
       "      <th>271</th>\n",
       "      <td>@switchfoot http://twitpic.com/2y1zl - Awww, t...</td>\n",
       "      <td>0</td>\n",
       "    </tr>\n",
       "    <tr>\n",
       "      <th>275</th>\n",
       "      <td>is upset that he can't update his Facebook by ...</td>\n",
       "      <td>0</td>\n",
       "    </tr>\n",
       "    <tr>\n",
       "      <th>277</th>\n",
       "      <td>@Kenichan I dived many times for the ball. Man...</td>\n",
       "      <td>0</td>\n",
       "    </tr>\n",
       "    <tr>\n",
       "      <th>279</th>\n",
       "      <td>my whole body feels itchy and like its on fire</td>\n",
       "      <td>0</td>\n",
       "    </tr>\n",
       "    <tr>\n",
       "      <th>281</th>\n",
       "      <td>@nationwideclass no, it's not behaving at all....</td>\n",
       "      <td>0</td>\n",
       "    </tr>\n",
       "  </tbody>\n",
       "</table>\n",
       "</div>"
      ],
      "text/plain": [
       "                                                  text  hashtags\n",
       "271  @switchfoot http://twitpic.com/2y1zl - Awww, t...         0\n",
       "275  is upset that he can't update his Facebook by ...         0\n",
       "277  @Kenichan I dived many times for the ball. Man...         0\n",
       "279    my whole body feels itchy and like its on fire          0\n",
       "281  @nationwideclass no, it's not behaving at all....         0"
      ]
     },
     "execution_count": 32,
     "metadata": {},
     "output_type": "execute_result"
    }
   ],
   "source": [
    "#Count number of hashtags in each text and store in a variable called hastags\n",
    "df['hashtags'] = df['text'].apply(lambda x: len([x for x in x.split() if x.startswith('#')]))\n",
    "df[['text','hashtags']].head(5)"
   ]
  },
  {
   "cell_type": "code",
   "execution_count": 33,
   "id": "2e809f72",
   "metadata": {},
   "outputs": [
    {
     "data": {
      "text/plain": [
       "24"
      ]
     },
     "execution_count": 33,
     "metadata": {},
     "output_type": "execute_result"
    }
   ],
   "source": [
    "#Find the maximum number of hashtags in the 'df' DataFrame\n",
    "maximum_no_hashtags = df[\"hashtags\"].max()\n",
    "maximum_no_hashtags"
   ]
  },
  {
   "cell_type": "code",
   "execution_count": 34,
   "id": "ded05876",
   "metadata": {},
   "outputs": [
    {
     "data": {
      "text/html": [
       "<div>\n",
       "<style scoped>\n",
       "    .dataframe tbody tr th:only-of-type {\n",
       "        vertical-align: middle;\n",
       "    }\n",
       "\n",
       "    .dataframe tbody tr th {\n",
       "        vertical-align: top;\n",
       "    }\n",
       "\n",
       "    .dataframe thead th {\n",
       "        text-align: right;\n",
       "    }\n",
       "</style>\n",
       "<table border=\"1\" class=\"dataframe\">\n",
       "  <thead>\n",
       "    <tr style=\"text-align: right;\">\n",
       "      <th></th>\n",
       "      <th>text</th>\n",
       "      <th>at_sign</th>\n",
       "    </tr>\n",
       "  </thead>\n",
       "  <tbody>\n",
       "    <tr>\n",
       "      <th>271</th>\n",
       "      <td>@switchfoot http://twitpic.com/2y1zl - Awww, t...</td>\n",
       "      <td>1</td>\n",
       "    </tr>\n",
       "    <tr>\n",
       "      <th>275</th>\n",
       "      <td>is upset that he can't update his Facebook by ...</td>\n",
       "      <td>0</td>\n",
       "    </tr>\n",
       "    <tr>\n",
       "      <th>277</th>\n",
       "      <td>@Kenichan I dived many times for the ball. Man...</td>\n",
       "      <td>1</td>\n",
       "    </tr>\n",
       "    <tr>\n",
       "      <th>279</th>\n",
       "      <td>my whole body feels itchy and like its on fire</td>\n",
       "      <td>0</td>\n",
       "    </tr>\n",
       "    <tr>\n",
       "      <th>281</th>\n",
       "      <td>@nationwideclass no, it's not behaving at all....</td>\n",
       "      <td>1</td>\n",
       "    </tr>\n",
       "  </tbody>\n",
       "</table>\n",
       "</div>"
      ],
      "text/plain": [
       "                                                  text  at_sign\n",
       "271  @switchfoot http://twitpic.com/2y1zl - Awww, t...        1\n",
       "275  is upset that he can't update his Facebook by ...        0\n",
       "277  @Kenichan I dived many times for the ball. Man...        1\n",
       "279    my whole body feels itchy and like its on fire         0\n",
       "281  @nationwideclass no, it's not behaving at all....        1"
      ]
     },
     "execution_count": 34,
     "metadata": {},
     "output_type": "execute_result"
    }
   ],
   "source": [
    "#count number of @ signs in text variable and store the value in a variable called at_sign\n",
    "df['at_sign'] = df['text'].apply(lambda x: len([x for x in x.split() if x.startswith('@')]))\n",
    "df[['text','at_sign']].head(5)"
   ]
  },
  {
   "cell_type": "code",
   "execution_count": 35,
   "id": "2797f73b",
   "metadata": {},
   "outputs": [
    {
     "data": {
      "text/plain": [
       "12"
      ]
     },
     "execution_count": 35,
     "metadata": {},
     "output_type": "execute_result"
    }
   ],
   "source": [
    "#Find the maximum number of at_sign in the 'df' DataFrame\n",
    "maximum_no_atsign = df[\"at_sign\"].max()\n",
    "maximum_no_atsign"
   ]
  },
  {
   "cell_type": "code",
   "execution_count": 36,
   "id": "147097f8",
   "metadata": {},
   "outputs": [
    {
     "data": {
      "text/html": [
       "<div>\n",
       "<style scoped>\n",
       "    .dataframe tbody tr th:only-of-type {\n",
       "        vertical-align: middle;\n",
       "    }\n",
       "\n",
       "    .dataframe tbody tr th {\n",
       "        vertical-align: top;\n",
       "    }\n",
       "\n",
       "    .dataframe thead th {\n",
       "        text-align: right;\n",
       "    }\n",
       "</style>\n",
       "<table border=\"1\" class=\"dataframe\">\n",
       "  <thead>\n",
       "    <tr style=\"text-align: right;\">\n",
       "      <th></th>\n",
       "      <th>text</th>\n",
       "      <th>numerics</th>\n",
       "    </tr>\n",
       "  </thead>\n",
       "  <tbody>\n",
       "    <tr>\n",
       "      <th>271</th>\n",
       "      <td>@switchfoot http://twitpic.com/2y1zl - Awww, t...</td>\n",
       "      <td>0</td>\n",
       "    </tr>\n",
       "    <tr>\n",
       "      <th>275</th>\n",
       "      <td>is upset that he can't update his Facebook by ...</td>\n",
       "      <td>0</td>\n",
       "    </tr>\n",
       "    <tr>\n",
       "      <th>277</th>\n",
       "      <td>@Kenichan I dived many times for the ball. Man...</td>\n",
       "      <td>0</td>\n",
       "    </tr>\n",
       "    <tr>\n",
       "      <th>279</th>\n",
       "      <td>my whole body feels itchy and like its on fire</td>\n",
       "      <td>0</td>\n",
       "    </tr>\n",
       "    <tr>\n",
       "      <th>281</th>\n",
       "      <td>@nationwideclass no, it's not behaving at all....</td>\n",
       "      <td>0</td>\n",
       "    </tr>\n",
       "  </tbody>\n",
       "</table>\n",
       "</div>"
      ],
      "text/plain": [
       "                                                  text  numerics\n",
       "271  @switchfoot http://twitpic.com/2y1zl - Awww, t...         0\n",
       "275  is upset that he can't update his Facebook by ...         0\n",
       "277  @Kenichan I dived many times for the ball. Man...         0\n",
       "279    my whole body feels itchy and like its on fire          0\n",
       "281  @nationwideclass no, it's not behaving at all....         0"
      ]
     },
     "execution_count": 36,
     "metadata": {},
     "output_type": "execute_result"
    }
   ],
   "source": [
    "#count number of numerics in the text variable and store the value in a variable called numeric\n",
    "df['numerics'] = df['text'].apply(lambda x: len([x for x in x.split() if x.isdigit()]))\n",
    "df[['text','numerics']].head(5)"
   ]
  },
  {
   "cell_type": "code",
   "execution_count": 37,
   "id": "323bf746",
   "metadata": {},
   "outputs": [
    {
     "data": {
      "text/plain": [
       "13"
      ]
     },
     "execution_count": 37,
     "metadata": {},
     "output_type": "execute_result"
    }
   ],
   "source": [
    "#Find the maximum number of numerics in the 'df' DataFrame\n",
    "maximum_no_numerics = df[\"numerics\"].max()\n",
    "maximum_no_numerics"
   ]
  },
  {
   "cell_type": "code",
   "execution_count": 38,
   "id": "d3766413",
   "metadata": {},
   "outputs": [
    {
     "data": {
      "text/html": [
       "<div>\n",
       "<style scoped>\n",
       "    .dataframe tbody tr th:only-of-type {\n",
       "        vertical-align: middle;\n",
       "    }\n",
       "\n",
       "    .dataframe tbody tr th {\n",
       "        vertical-align: top;\n",
       "    }\n",
       "\n",
       "    .dataframe thead th {\n",
       "        text-align: right;\n",
       "    }\n",
       "</style>\n",
       "<table border=\"1\" class=\"dataframe\">\n",
       "  <thead>\n",
       "    <tr style=\"text-align: right;\">\n",
       "      <th></th>\n",
       "      <th>text</th>\n",
       "      <th>upper</th>\n",
       "    </tr>\n",
       "  </thead>\n",
       "  <tbody>\n",
       "    <tr>\n",
       "      <th>271</th>\n",
       "      <td>@switchfoot http://twitpic.com/2y1zl - Awww, t...</td>\n",
       "      <td>1</td>\n",
       "    </tr>\n",
       "    <tr>\n",
       "      <th>275</th>\n",
       "      <td>is upset that he can't update his Facebook by ...</td>\n",
       "      <td>0</td>\n",
       "    </tr>\n",
       "    <tr>\n",
       "      <th>277</th>\n",
       "      <td>@Kenichan I dived many times for the ball. Man...</td>\n",
       "      <td>1</td>\n",
       "    </tr>\n",
       "    <tr>\n",
       "      <th>279</th>\n",
       "      <td>my whole body feels itchy and like its on fire</td>\n",
       "      <td>0</td>\n",
       "    </tr>\n",
       "    <tr>\n",
       "      <th>281</th>\n",
       "      <td>@nationwideclass no, it's not behaving at all....</td>\n",
       "      <td>1</td>\n",
       "    </tr>\n",
       "  </tbody>\n",
       "</table>\n",
       "</div>"
      ],
      "text/plain": [
       "                                                  text  upper\n",
       "271  @switchfoot http://twitpic.com/2y1zl - Awww, t...      1\n",
       "275  is upset that he can't update his Facebook by ...      0\n",
       "277  @Kenichan I dived many times for the ball. Man...      1\n",
       "279    my whole body feels itchy and like its on fire       0\n",
       "281  @nationwideclass no, it's not behaving at all....      1"
      ]
     },
     "execution_count": 38,
     "metadata": {},
     "output_type": "execute_result"
    }
   ],
   "source": [
    "#count number of uppercases in the text variable and store the value in a variable called upper\n",
    "df['upper'] = df['text'].apply(lambda x: len([x for x in x.split() if x.isupper()]))\n",
    "df[['text','upper']].head(5)"
   ]
  },
  {
   "cell_type": "code",
   "execution_count": 39,
   "id": "626bd48b",
   "metadata": {},
   "outputs": [
    {
     "data": {
      "text/plain": [
       "40"
      ]
     },
     "execution_count": 39,
     "metadata": {},
     "output_type": "execute_result"
    }
   ],
   "source": [
    "#Find the maximum number of uppercases in the 'df' DataFrame\n",
    "maximum_no_uppercases = df[\"upper\"].max()\n",
    "maximum_no_uppercases"
   ]
  },
  {
   "cell_type": "markdown",
   "id": "3540853d",
   "metadata": {},
   "source": [
    "## Tweets Processing\n",
    "Tweet/text processing involves:-\n",
    "\n",
    "a) Text Normalization \n",
    "- Remove special characters\n",
    "- Change the upper cases to lower cases\n",
    "- Remove numbers/integers\n",
    "- Remove punctuations\n",
    "- Remove white space\n",
    "- Remove URLS/links\n",
    "\n",
    "b) Tokenization\n",
    "- Tokenization\n",
    "\n",
    "c) Remove stopwords\n",
    "\n",
    "d) Stemming/ lemmatization\n",
    "\n",
    "e"
   ]
  },
  {
   "cell_type": "markdown",
   "id": "19841ca9",
   "metadata": {},
   "source": [
    "## Text Normalization"
   ]
  },
  {
   "cell_type": "markdown",
   "id": "b6e4e26e",
   "metadata": {},
   "source": [
    "### Remove user name from text @username"
   ]
  },
  {
   "cell_type": "code",
   "execution_count": 40,
   "id": "b90d3119",
   "metadata": {},
   "outputs": [
    {
     "name": "stdout",
     "output_type": "stream",
     "text": [
      "271     http://twitpic.com/2y1zl - Awww, that's a bum...\n",
      "275    is upset that he can't update his Facebook by ...\n",
      "277     I dived many times for the ball. Managed to s...\n",
      "279      my whole body feels itchy and like its on fire \n",
      "281     no, it's not behaving at all. i'm mad. why am...\n",
      "Name: text1, dtype: object\n"
     ]
    }
   ],
   "source": [
    "import re\n",
    "\n",
    "#Define a function to remove user names from text\n",
    "def remove_usernames(text):\n",
    "    return re.sub(r'@\\w+', '', text)\n",
    "\n",
    "#Apply the function to the 'text' variable\n",
    "df['text1'] = df['text'].apply(remove_usernames)\n",
    "\n",
    "# Print the first few rows of the DataFrame with user names removed from text\n",
    "print(df['text1'].head())\n"
   ]
  },
  {
   "cell_type": "markdown",
   "id": "e7a8c22e",
   "metadata": {},
   "source": [
    "### Remove url/www.links"
   ]
  },
  {
   "cell_type": "code",
   "execution_count": 41,
   "id": "710a235e",
   "metadata": {},
   "outputs": [],
   "source": [
    "import re\n",
    "\n",
    "def remove_urls(df):\n",
    "    #Define regex pattern to match URLs\n",
    "    url_pattern = r'https?://\\S+|www\\.\\S+'\n",
    "    \n",
    "    #Apply regex substitution to each row of the 'text' column\n",
    "    df['text1'] = df['text1'].apply(lambda text: re.sub(url_pattern, '', text))\n",
    "    \n",
    "    return df\n",
    "\n",
    "# remove a url\n",
    "df = remove_urls(df)\n"
   ]
  },
  {
   "cell_type": "code",
   "execution_count": 42,
   "id": "499c6017",
   "metadata": {},
   "outputs": [
    {
     "data": {
      "text/html": [
       "<div>\n",
       "<style scoped>\n",
       "    .dataframe tbody tr th:only-of-type {\n",
       "        vertical-align: middle;\n",
       "    }\n",
       "\n",
       "    .dataframe tbody tr th {\n",
       "        vertical-align: top;\n",
       "    }\n",
       "\n",
       "    .dataframe thead th {\n",
       "        text-align: right;\n",
       "    }\n",
       "</style>\n",
       "<table border=\"1\" class=\"dataframe\">\n",
       "  <thead>\n",
       "    <tr style=\"text-align: right;\">\n",
       "      <th></th>\n",
       "      <th>date</th>\n",
       "      <th>text</th>\n",
       "      <th>month</th>\n",
       "      <th>word_count</th>\n",
       "      <th>char_count</th>\n",
       "      <th>avg_word</th>\n",
       "      <th>stopwords</th>\n",
       "      <th>hashtags</th>\n",
       "      <th>at_sign</th>\n",
       "      <th>numerics</th>\n",
       "      <th>upper</th>\n",
       "      <th>text1</th>\n",
       "    </tr>\n",
       "  </thead>\n",
       "  <tbody>\n",
       "    <tr>\n",
       "      <th>271</th>\n",
       "      <td>2009-04-07 05:19:45</td>\n",
       "      <td>@switchfoot http://twitpic.com/2y1zl - Awww, t...</td>\n",
       "      <td>2009-04</td>\n",
       "      <td>20</td>\n",
       "      <td>115</td>\n",
       "      <td>5.052632</td>\n",
       "      <td>4</td>\n",
       "      <td>0</td>\n",
       "      <td>1</td>\n",
       "      <td>0</td>\n",
       "      <td>1</td>\n",
       "      <td>- Awww, that's a bummer.  You shoulda got Da...</td>\n",
       "    </tr>\n",
       "    <tr>\n",
       "      <th>275</th>\n",
       "      <td>2009-04-07 05:19:49</td>\n",
       "      <td>is upset that he can't update his Facebook by ...</td>\n",
       "      <td>2009-04</td>\n",
       "      <td>22</td>\n",
       "      <td>111</td>\n",
       "      <td>4.285714</td>\n",
       "      <td>8</td>\n",
       "      <td>0</td>\n",
       "      <td>0</td>\n",
       "      <td>0</td>\n",
       "      <td>0</td>\n",
       "      <td>is upset that he can't update his Facebook by ...</td>\n",
       "    </tr>\n",
       "    <tr>\n",
       "      <th>277</th>\n",
       "      <td>2009-04-07 05:19:53</td>\n",
       "      <td>@Kenichan I dived many times for the ball. Man...</td>\n",
       "      <td>2009-04</td>\n",
       "      <td>19</td>\n",
       "      <td>89</td>\n",
       "      <td>3.944444</td>\n",
       "      <td>5</td>\n",
       "      <td>0</td>\n",
       "      <td>1</td>\n",
       "      <td>0</td>\n",
       "      <td>1</td>\n",
       "      <td>I dived many times for the ball. Managed to s...</td>\n",
       "    </tr>\n",
       "    <tr>\n",
       "      <th>279</th>\n",
       "      <td>2009-04-07 05:19:57</td>\n",
       "      <td>my whole body feels itchy and like its on fire</td>\n",
       "      <td>2009-04</td>\n",
       "      <td>11</td>\n",
       "      <td>47</td>\n",
       "      <td>3.700000</td>\n",
       "      <td>4</td>\n",
       "      <td>0</td>\n",
       "      <td>0</td>\n",
       "      <td>0</td>\n",
       "      <td>0</td>\n",
       "      <td>my whole body feels itchy and like its on fire</td>\n",
       "    </tr>\n",
       "    <tr>\n",
       "      <th>281</th>\n",
       "      <td>2009-04-07 05:19:57</td>\n",
       "      <td>@nationwideclass no, it's not behaving at all....</td>\n",
       "      <td>2009-04</td>\n",
       "      <td>22</td>\n",
       "      <td>111</td>\n",
       "      <td>4.285714</td>\n",
       "      <td>10</td>\n",
       "      <td>0</td>\n",
       "      <td>1</td>\n",
       "      <td>0</td>\n",
       "      <td>1</td>\n",
       "      <td>no, it's not behaving at all. i'm mad. why am...</td>\n",
       "    </tr>\n",
       "  </tbody>\n",
       "</table>\n",
       "</div>"
      ],
      "text/plain": [
       "                   date                                               text  \\\n",
       "271 2009-04-07 05:19:45  @switchfoot http://twitpic.com/2y1zl - Awww, t...   \n",
       "275 2009-04-07 05:19:49  is upset that he can't update his Facebook by ...   \n",
       "277 2009-04-07 05:19:53  @Kenichan I dived many times for the ball. Man...   \n",
       "279 2009-04-07 05:19:57    my whole body feels itchy and like its on fire    \n",
       "281 2009-04-07 05:19:57  @nationwideclass no, it's not behaving at all....   \n",
       "\n",
       "       month  word_count  char_count  avg_word  stopwords  hashtags  at_sign  \\\n",
       "271  2009-04          20         115  5.052632          4         0        1   \n",
       "275  2009-04          22         111  4.285714          8         0        0   \n",
       "277  2009-04          19          89  3.944444          5         0        1   \n",
       "279  2009-04          11          47  3.700000          4         0        0   \n",
       "281  2009-04          22         111  4.285714         10         0        1   \n",
       "\n",
       "     numerics  upper                                              text1  \n",
       "271         0      1    - Awww, that's a bummer.  You shoulda got Da...  \n",
       "275         0      0  is upset that he can't update his Facebook by ...  \n",
       "277         0      1   I dived many times for the ball. Managed to s...  \n",
       "279         0      0    my whole body feels itchy and like its on fire   \n",
       "281         0      1   no, it's not behaving at all. i'm mad. why am...  "
      ]
     },
     "execution_count": 42,
     "metadata": {},
     "output_type": "execute_result"
    }
   ],
   "source": [
    "df.head(5)"
   ]
  },
  {
   "cell_type": "markdown",
   "id": "61c6dfdb",
   "metadata": {},
   "source": [
    "### Remove all special characters"
   ]
  },
  {
   "cell_type": "code",
   "execution_count": 43,
   "id": "dac14dac",
   "metadata": {},
   "outputs": [
    {
     "name": "stderr",
     "output_type": "stream",
     "text": [
      "C:\\Users\\Diana\\AppData\\Local\\Temp\\ipykernel_1440\\1096157190.py:2: FutureWarning: The default value of regex will change from True to False in a future version.\n",
      "  df['text1'] = df['text1'].str.replace('[^\\w\\s]','')\n"
     ]
    },
    {
     "data": {
      "text/plain": [
       "271       Awww thats a bummer  You shoulda got David ...\n",
       "275    is upset that he cant update his Facebook by t...\n",
       "277     I dived many times for the ball Managed to sa...\n",
       "279      my whole body feels itchy and like its on fire \n",
       "281     no its not behaving at all im mad why am i he...\n",
       "Name: text1, dtype: object"
      ]
     },
     "execution_count": 43,
     "metadata": {},
     "output_type": "execute_result"
    }
   ],
   "source": [
    "#Remove all special characters\n",
    "df['text1'] = df['text1'].str.replace('[^\\w\\s]','')\n",
    "df['text1'].head(5)"
   ]
  },
  {
   "cell_type": "markdown",
   "id": "283d4d6a",
   "metadata": {},
   "source": [
    "### Remove punctuations"
   ]
  },
  {
   "cell_type": "code",
   "execution_count": 44,
   "id": "e1880099",
   "metadata": {},
   "outputs": [],
   "source": [
    "#Remove punctuations\n",
    "import string\n",
    "\n",
    "def remove_punctuation(text):\n",
    "    translator = str.maketrans('', '', string.punctuation)\n",
    "    return text.translate(translator)\n",
    "\n",
    "#Apply remove_punctuation function to the 'text' column\n",
    "df['text1'] = df['text1'].apply(remove_punctuation)\n"
   ]
  },
  {
   "cell_type": "code",
   "execution_count": 45,
   "id": "001622d9",
   "metadata": {},
   "outputs": [
    {
     "data": {
      "text/html": [
       "<div>\n",
       "<style scoped>\n",
       "    .dataframe tbody tr th:only-of-type {\n",
       "        vertical-align: middle;\n",
       "    }\n",
       "\n",
       "    .dataframe tbody tr th {\n",
       "        vertical-align: top;\n",
       "    }\n",
       "\n",
       "    .dataframe thead th {\n",
       "        text-align: right;\n",
       "    }\n",
       "</style>\n",
       "<table border=\"1\" class=\"dataframe\">\n",
       "  <thead>\n",
       "    <tr style=\"text-align: right;\">\n",
       "      <th></th>\n",
       "      <th>date</th>\n",
       "      <th>text</th>\n",
       "      <th>month</th>\n",
       "      <th>word_count</th>\n",
       "      <th>char_count</th>\n",
       "      <th>avg_word</th>\n",
       "      <th>stopwords</th>\n",
       "      <th>hashtags</th>\n",
       "      <th>at_sign</th>\n",
       "      <th>numerics</th>\n",
       "      <th>upper</th>\n",
       "      <th>text1</th>\n",
       "    </tr>\n",
       "  </thead>\n",
       "  <tbody>\n",
       "    <tr>\n",
       "      <th>271</th>\n",
       "      <td>2009-04-07 05:19:45</td>\n",
       "      <td>@switchfoot http://twitpic.com/2y1zl - Awww, t...</td>\n",
       "      <td>2009-04</td>\n",
       "      <td>20</td>\n",
       "      <td>115</td>\n",
       "      <td>5.052632</td>\n",
       "      <td>4</td>\n",
       "      <td>0</td>\n",
       "      <td>1</td>\n",
       "      <td>0</td>\n",
       "      <td>1</td>\n",
       "      <td>Awww thats a bummer  You shoulda got David ...</td>\n",
       "    </tr>\n",
       "    <tr>\n",
       "      <th>275</th>\n",
       "      <td>2009-04-07 05:19:49</td>\n",
       "      <td>is upset that he can't update his Facebook by ...</td>\n",
       "      <td>2009-04</td>\n",
       "      <td>22</td>\n",
       "      <td>111</td>\n",
       "      <td>4.285714</td>\n",
       "      <td>8</td>\n",
       "      <td>0</td>\n",
       "      <td>0</td>\n",
       "      <td>0</td>\n",
       "      <td>0</td>\n",
       "      <td>is upset that he cant update his Facebook by t...</td>\n",
       "    </tr>\n",
       "    <tr>\n",
       "      <th>277</th>\n",
       "      <td>2009-04-07 05:19:53</td>\n",
       "      <td>@Kenichan I dived many times for the ball. Man...</td>\n",
       "      <td>2009-04</td>\n",
       "      <td>19</td>\n",
       "      <td>89</td>\n",
       "      <td>3.944444</td>\n",
       "      <td>5</td>\n",
       "      <td>0</td>\n",
       "      <td>1</td>\n",
       "      <td>0</td>\n",
       "      <td>1</td>\n",
       "      <td>I dived many times for the ball Managed to sa...</td>\n",
       "    </tr>\n",
       "    <tr>\n",
       "      <th>279</th>\n",
       "      <td>2009-04-07 05:19:57</td>\n",
       "      <td>my whole body feels itchy and like its on fire</td>\n",
       "      <td>2009-04</td>\n",
       "      <td>11</td>\n",
       "      <td>47</td>\n",
       "      <td>3.700000</td>\n",
       "      <td>4</td>\n",
       "      <td>0</td>\n",
       "      <td>0</td>\n",
       "      <td>0</td>\n",
       "      <td>0</td>\n",
       "      <td>my whole body feels itchy and like its on fire</td>\n",
       "    </tr>\n",
       "    <tr>\n",
       "      <th>281</th>\n",
       "      <td>2009-04-07 05:19:57</td>\n",
       "      <td>@nationwideclass no, it's not behaving at all....</td>\n",
       "      <td>2009-04</td>\n",
       "      <td>22</td>\n",
       "      <td>111</td>\n",
       "      <td>4.285714</td>\n",
       "      <td>10</td>\n",
       "      <td>0</td>\n",
       "      <td>1</td>\n",
       "      <td>0</td>\n",
       "      <td>1</td>\n",
       "      <td>no its not behaving at all im mad why am i he...</td>\n",
       "    </tr>\n",
       "  </tbody>\n",
       "</table>\n",
       "</div>"
      ],
      "text/plain": [
       "                   date                                               text  \\\n",
       "271 2009-04-07 05:19:45  @switchfoot http://twitpic.com/2y1zl - Awww, t...   \n",
       "275 2009-04-07 05:19:49  is upset that he can't update his Facebook by ...   \n",
       "277 2009-04-07 05:19:53  @Kenichan I dived many times for the ball. Man...   \n",
       "279 2009-04-07 05:19:57    my whole body feels itchy and like its on fire    \n",
       "281 2009-04-07 05:19:57  @nationwideclass no, it's not behaving at all....   \n",
       "\n",
       "       month  word_count  char_count  avg_word  stopwords  hashtags  at_sign  \\\n",
       "271  2009-04          20         115  5.052632          4         0        1   \n",
       "275  2009-04          22         111  4.285714          8         0        0   \n",
       "277  2009-04          19          89  3.944444          5         0        1   \n",
       "279  2009-04          11          47  3.700000          4         0        0   \n",
       "281  2009-04          22         111  4.285714         10         0        1   \n",
       "\n",
       "     numerics  upper                                              text1  \n",
       "271         0      1     Awww thats a bummer  You shoulda got David ...  \n",
       "275         0      0  is upset that he cant update his Facebook by t...  \n",
       "277         0      1   I dived many times for the ball Managed to sa...  \n",
       "279         0      0    my whole body feels itchy and like its on fire   \n",
       "281         0      1   no its not behaving at all im mad why am i he...  "
      ]
     },
     "execution_count": 45,
     "metadata": {},
     "output_type": "execute_result"
    }
   ],
   "source": [
    "df.head(5)"
   ]
  },
  {
   "cell_type": "markdown",
   "id": "de7b092d",
   "metadata": {},
   "source": [
    "### Convert all upper cases to lower"
   ]
  },
  {
   "cell_type": "code",
   "execution_count": 46,
   "id": "964c9401",
   "metadata": {},
   "outputs": [
    {
     "data": {
      "text/plain": [
       "271    awww thats a bummer you shoulda got david carr...\n",
       "275    is upset that he cant update his facebook by t...\n",
       "277    i dived many times for the ball managed to sav...\n",
       "279       my whole body feels itchy and like its on fire\n",
       "281    no its not behaving at all im mad why am i her...\n",
       "Name: text1, dtype: object"
      ]
     },
     "execution_count": 46,
     "metadata": {},
     "output_type": "execute_result"
    }
   ],
   "source": [
    "#Convert all uppercases to lower cases\n",
    "df['text1'] = df['text1'].apply(lambda x: \" \".join(x.lower() for x in x.split()))\n",
    "df['text1'].head(5)"
   ]
  },
  {
   "cell_type": "markdown",
   "id": "1b7471e7",
   "metadata": {},
   "source": [
    "## Tokenization"
   ]
  },
  {
   "cell_type": "code",
   "execution_count": 47,
   "id": "a0d7abe6",
   "metadata": {},
   "outputs": [
    {
     "name": "stderr",
     "output_type": "stream",
     "text": [
      "[nltk_data] Downloading package punkt to\n",
      "[nltk_data]     C:\\Users\\Diana\\AppData\\Roaming\\nltk_data...\n",
      "[nltk_data]   Package punkt is already up-to-date!\n",
      "[nltk_data] Downloading package stopwords to\n",
      "[nltk_data]     C:\\Users\\Diana\\AppData\\Roaming\\nltk_data...\n",
      "[nltk_data]   Package stopwords is already up-to-date!\n",
      "[nltk_data] Downloading package wordnet to\n",
      "[nltk_data]     C:\\Users\\Diana\\AppData\\Roaming\\nltk_data...\n",
      "[nltk_data]   Package wordnet is already up-to-date!\n",
      "[nltk_data] Downloading package averaged_perceptron_tagger to\n",
      "[nltk_data]     C:\\Users\\Diana\\AppData\\Roaming\\nltk_data...\n",
      "[nltk_data]   Package averaged_perceptron_tagger is already up-to-\n",
      "[nltk_data]       date!\n"
     ]
    },
    {
     "data": {
      "text/plain": [
       "True"
      ]
     },
     "execution_count": 47,
     "metadata": {},
     "output_type": "execute_result"
    }
   ],
   "source": [
    "import nltk\n",
    "nltk.download('punkt')\n",
    "nltk.download('stopwords')\n",
    "nltk.download('wordnet')\n",
    "nltk.download('averaged_perceptron_tagger')"
   ]
  },
  {
   "cell_type": "markdown",
   "id": "93e5aa21",
   "metadata": {},
   "source": [
    "## Word Tokenization"
   ]
  },
  {
   "cell_type": "code",
   "execution_count": 48,
   "id": "c7b209b8",
   "metadata": {},
   "outputs": [
    {
     "data": {
      "text/html": [
       "<div>\n",
       "<style scoped>\n",
       "    .dataframe tbody tr th:only-of-type {\n",
       "        vertical-align: middle;\n",
       "    }\n",
       "\n",
       "    .dataframe tbody tr th {\n",
       "        vertical-align: top;\n",
       "    }\n",
       "\n",
       "    .dataframe thead th {\n",
       "        text-align: right;\n",
       "    }\n",
       "</style>\n",
       "<table border=\"1\" class=\"dataframe\">\n",
       "  <thead>\n",
       "    <tr style=\"text-align: right;\">\n",
       "      <th></th>\n",
       "      <th>text1</th>\n",
       "      <th>tokenized_text</th>\n",
       "    </tr>\n",
       "  </thead>\n",
       "  <tbody>\n",
       "    <tr>\n",
       "      <th>271</th>\n",
       "      <td>awww thats a bummer you shoulda got david carr...</td>\n",
       "      <td>awww thats a bummer you shoulda got david carr...</td>\n",
       "    </tr>\n",
       "    <tr>\n",
       "      <th>275</th>\n",
       "      <td>is upset that he cant update his facebook by t...</td>\n",
       "      <td>is upset that he cant update his facebook by t...</td>\n",
       "    </tr>\n",
       "    <tr>\n",
       "      <th>277</th>\n",
       "      <td>i dived many times for the ball managed to sav...</td>\n",
       "      <td>i dived many times for the ball managed to sav...</td>\n",
       "    </tr>\n",
       "    <tr>\n",
       "      <th>279</th>\n",
       "      <td>my whole body feels itchy and like its on fire</td>\n",
       "      <td>my whole body feels itchy and like its on fire</td>\n",
       "    </tr>\n",
       "    <tr>\n",
       "      <th>281</th>\n",
       "      <td>no its not behaving at all im mad why am i her...</td>\n",
       "      <td>no its not behaving at all im mad why am i her...</td>\n",
       "    </tr>\n",
       "  </tbody>\n",
       "</table>\n",
       "</div>"
      ],
      "text/plain": [
       "                                                 text1  \\\n",
       "271  awww thats a bummer you shoulda got david carr...   \n",
       "275  is upset that he cant update his facebook by t...   \n",
       "277  i dived many times for the ball managed to sav...   \n",
       "279     my whole body feels itchy and like its on fire   \n",
       "281  no its not behaving at all im mad why am i her...   \n",
       "\n",
       "                                        tokenized_text  \n",
       "271  awww thats a bummer you shoulda got david carr...  \n",
       "275  is upset that he cant update his facebook by t...  \n",
       "277  i dived many times for the ball managed to sav...  \n",
       "279     my whole body feels itchy and like its on fire  \n",
       "281  no its not behaving at all im mad why am i her...  "
      ]
     },
     "execution_count": 48,
     "metadata": {},
     "output_type": "execute_result"
    }
   ],
   "source": [
    "from nltk.tokenize import word_tokenize\n",
    "\n",
    "#Tokenize the text using NLTK's word tokenizer\n",
    "df['tokenized_text'] = df['text1'].apply(lambda x: ' '.join(word_tokenize(x.lower())))\n",
    "\n",
    "#Print the first few rows of the DataFrame with tokenized text\n",
    "df[['text1', 'tokenized_text']].head(5)"
   ]
  },
  {
   "cell_type": "markdown",
   "id": "7a8a2c8b",
   "metadata": {},
   "source": [
    "## Remove stopwords"
   ]
  },
  {
   "cell_type": "code",
   "execution_count": 49,
   "id": "559282bd",
   "metadata": {},
   "outputs": [
    {
     "name": "stderr",
     "output_type": "stream",
     "text": [
      "[nltk_data] Downloading package stopwords to\n",
      "[nltk_data]     C:\\Users\\Diana\\AppData\\Roaming\\nltk_data...\n",
      "[nltk_data]   Package stopwords is already up-to-date!\n"
     ]
    },
    {
     "name": "stdout",
     "output_type": "stream",
     "text": [
      "                                                 text1  \\\n",
      "271  awww thats a bummer you shoulda got david carr...   \n",
      "275  is upset that he cant update his facebook by t...   \n",
      "277  i dived many times for the ball managed to sav...   \n",
      "279     my whole body feels itchy and like its on fire   \n",
      "281  no its not behaving at all im mad why am i her...   \n",
      "\n",
      "                                        tokenized_text  \n",
      "271  awww thats bummer shoulda got david carr third...  \n",
      "275  upset cant update facebook texting might cry r...  \n",
      "277  dived many times ball managed save 50 rest go ...  \n",
      "279                   whole body feels itchy like fire  \n",
      "281                           behaving im mad cant see  \n"
     ]
    }
   ],
   "source": [
    "from nltk.corpus import stopwords\n",
    "\n",
    "#Download NLTK resources for the first time\n",
    "nltk.download('stopwords')\n",
    "\n",
    "#Get the English stopwords list\n",
    "stop_words = set(stopwords.words('english'))\n",
    "\n",
    "#Function to remove stopwords\n",
    "def remove_stopwords(tokenized_text):\n",
    "    return ' '.join([word for word in tokenized_text.split() if word.lower() not in stop_words])\n",
    "\n",
    "#Remove stopwords from the tokenized text column\n",
    "df['tokenized_text'] = df['tokenized_text'].apply(remove_stopwords)\n",
    "\n",
    "# Print the first few rows of the DataFrame with stopwords removed\n",
    "print(df[['text1', 'tokenized_text']].head())"
   ]
  },
  {
   "cell_type": "code",
   "execution_count": 50,
   "id": "a644e099",
   "metadata": {},
   "outputs": [],
   "source": [
    "#Create a Frequency Distribution of the tokenized words\n",
    "#Import Frequency Distribution\n",
    "from nltk.probability import FreqDist\n",
    "\n",
    "#Find frequency distribution of tokenized_text\n",
    "fdist = FreqDist(df['tokenized_text'])"
   ]
  },
  {
   "cell_type": "code",
   "execution_count": 51,
   "id": "63a6160e",
   "metadata": {},
   "outputs": [
    {
     "data": {
      "text/plain": [
       "[('', 6847),\n",
       " ('thanks', 2329),\n",
       " ('thank', 1573),\n",
       " ('get 100 followers day using add everyone train pay vip', 1484),\n",
       " ('good morning', 1134)]"
      ]
     },
     "execution_count": 51,
     "metadata": {},
     "output_type": "execute_result"
    }
   ],
   "source": [
    "#Check top 5 common words\n",
    "fdist.most_common(5)"
   ]
  },
  {
   "cell_type": "code",
   "execution_count": 52,
   "id": "9d491a5f",
   "metadata": {},
   "outputs": [
    {
     "data": {
      "image/png": "[encoded data removed]",
      "text/plain": [
       "<Figure size 640x480 with 1 Axes>"
      ]
     },
     "metadata": {},
     "output_type": "display_data"
    }
   ],
   "source": [
    "#Create a frequency distribution plot\n",
    "import matplotlib.pyplot as plt\n",
    "\n",
    "#Plot Frequency Distribution\n",
    "fdist.plot(20,cumulative=False)\n",
    "plt.show()"
   ]
  },
  {
   "cell_type": "markdown",
   "id": "7228717a",
   "metadata": {},
   "source": [
    "## Stemming/ lemmatization"
   ]
  },
  {
   "cell_type": "code",
   "execution_count": 53,
   "id": "f9eed33a",
   "metadata": {},
   "outputs": [
    {
     "name": "stdout",
     "output_type": "stream",
     "text": [
      "                                        tokenized_text  \\\n",
      "271  awww thats bummer shoulda got david carr third...   \n",
      "275  upset cant update facebook texting might cry r...   \n",
      "277  dived many times ball managed save 50 rest go ...   \n",
      "279                   whole body feels itchy like fire   \n",
      "281                           behaving im mad cant see   \n",
      "\n",
      "                                     preprocessed_text  \n",
      "271  awww thats bummer shoulda got david carr third...  \n",
      "275  upset cant update facebook texting might cry r...  \n",
      "277  dived many time ball managed save 50 rest go b...  \n",
      "279                    whole body feel itchy like fire  \n",
      "281                           behaving im mad cant see  \n"
     ]
    }
   ],
   "source": [
    "from nltk.stem import WordNetLemmatizer\n",
    "\n",
    "# Initialize WordNet Lemmatizer\n",
    "lemmatizer = WordNetLemmatizer()\n",
    "\n",
    "# Function to lemmatize text\n",
    "def lemmatize_text(tokenized_text):\n",
    "    #Lemmatize the tokens\n",
    "    lemmatized_tokens = [lemmatizer.lemmatize(word) for word in tokenized_text.split()]\n",
    "    \n",
    "    #Join the lemmatized tokens back into a string\n",
    "    lemmatized_text = ' '.join(lemmatized_tokens)\n",
    "    \n",
    "    return lemmatized_text\n",
    "\n",
    "#Apply lemmatization to 'tokenized_text' column in DataFrame df\n",
    "df['preprocessed_text'] = df['tokenized_text'].apply(lemmatize_text)\n",
    "\n",
    "#Print the first few rows of the DataFrame with lemmatized text\n",
    "print(df[['tokenized_text', 'preprocessed_text']].head(5))"
   ]
  },
  {
   "cell_type": "markdown",
   "id": "18eb30a3",
   "metadata": {},
   "source": [
    "# SENTIMENT ANALYSIS\n",
    "There are various ways to perform sentiment analysis. These include:-\n",
    "- Using Text Blob\n",
    "- Using Vader\n",
    "- Using Bag of Words Vectorization-based Models\n",
    "- Using LSTM-based Models\n",
    "- Using Transformer-based Models"
   ]
  },
  {
   "cell_type": "markdown",
   "id": "15fa0312",
   "metadata": {},
   "source": [
    "## USING TEXTBLOB\n",
    "-  It takes text as an input and can return polarity and subjectivity as outputs.\n",
    "\n",
    "- Polarity determines the sentiment of the text. Its values lie in [-1,1] where -1 denotes a highly negative sentiment and 1 denotes a highly positive sentiment.\n",
    "\n",
    "- Subjectivity determines whether a text input is factual information or a personal opinion. Its value lies between [0,1] where a value closer to 0 denotes a piece of factual information and a value closer to 1 denotes a personal opinion."
   ]
  },
  {
   "cell_type": "code",
   "execution_count": 54,
   "id": "84db8020",
   "metadata": {},
   "outputs": [
    {
     "data": {
      "text/html": [
       "<div>\n",
       "<style scoped>\n",
       "    .dataframe tbody tr th:only-of-type {\n",
       "        vertical-align: middle;\n",
       "    }\n",
       "\n",
       "    .dataframe tbody tr th {\n",
       "        vertical-align: top;\n",
       "    }\n",
       "\n",
       "    .dataframe thead th {\n",
       "        text-align: right;\n",
       "    }\n",
       "</style>\n",
       "<table border=\"1\" class=\"dataframe\">\n",
       "  <thead>\n",
       "    <tr style=\"text-align: right;\">\n",
       "      <th></th>\n",
       "      <th>preprocessed_text</th>\n",
       "      <th>polarity_score</th>\n",
       "    </tr>\n",
       "  </thead>\n",
       "  <tbody>\n",
       "    <tr>\n",
       "      <th>271</th>\n",
       "      <td>awww thats bummer shoulda got david carr third...</td>\n",
       "      <td>0.200</td>\n",
       "    </tr>\n",
       "    <tr>\n",
       "      <th>275</th>\n",
       "      <td>upset cant update facebook texting might cry r...</td>\n",
       "      <td>0.000</td>\n",
       "    </tr>\n",
       "    <tr>\n",
       "      <th>277</th>\n",
       "      <td>dived many time ball managed save 50 rest go b...</td>\n",
       "      <td>0.500</td>\n",
       "    </tr>\n",
       "    <tr>\n",
       "      <th>279</th>\n",
       "      <td>whole body feel itchy like fire</td>\n",
       "      <td>0.200</td>\n",
       "    </tr>\n",
       "    <tr>\n",
       "      <th>281</th>\n",
       "      <td>behaving im mad cant see</td>\n",
       "      <td>-0.625</td>\n",
       "    </tr>\n",
       "  </tbody>\n",
       "</table>\n",
       "</div>"
      ],
      "text/plain": [
       "                                     preprocessed_text  polarity_score\n",
       "271  awww thats bummer shoulda got david carr third...           0.200\n",
       "275  upset cant update facebook texting might cry r...           0.000\n",
       "277  dived many time ball managed save 50 rest go b...           0.500\n",
       "279                    whole body feel itchy like fire           0.200\n",
       "281                           behaving im mad cant see          -0.625"
      ]
     },
     "execution_count": 54,
     "metadata": {},
     "output_type": "execute_result"
    }
   ],
   "source": [
    "from textblob import TextBlob\n",
    "\n",
    "#Apply sentiment analysis using TextBlob to the 'text' column and storing the polarity score\n",
    "df['polarity_score'] = df['preprocessed_text'].apply(lambda x: TextBlob(x).sentiment[0] )\n",
    "df[['preprocessed_text','polarity_score']].head(5)"
   ]
  },
  {
   "cell_type": "code",
   "execution_count": 55,
   "id": "6b357cb1",
   "metadata": {},
   "outputs": [
    {
     "data": {
      "text/html": [
       "<div>\n",
       "<style scoped>\n",
       "    .dataframe tbody tr th:only-of-type {\n",
       "        vertical-align: middle;\n",
       "    }\n",
       "\n",
       "    .dataframe tbody tr th {\n",
       "        vertical-align: top;\n",
       "    }\n",
       "\n",
       "    .dataframe thead th {\n",
       "        text-align: right;\n",
       "    }\n",
       "</style>\n",
       "<table border=\"1\" class=\"dataframe\">\n",
       "  <thead>\n",
       "    <tr style=\"text-align: right;\">\n",
       "      <th></th>\n",
       "      <th>date</th>\n",
       "      <th>text</th>\n",
       "      <th>month</th>\n",
       "      <th>word_count</th>\n",
       "      <th>char_count</th>\n",
       "      <th>avg_word</th>\n",
       "      <th>stopwords</th>\n",
       "      <th>hashtags</th>\n",
       "      <th>at_sign</th>\n",
       "      <th>numerics</th>\n",
       "      <th>upper</th>\n",
       "      <th>text1</th>\n",
       "      <th>tokenized_text</th>\n",
       "      <th>preprocessed_text</th>\n",
       "      <th>polarity_score</th>\n",
       "    </tr>\n",
       "  </thead>\n",
       "  <tbody>\n",
       "    <tr>\n",
       "      <th>271</th>\n",
       "      <td>2009-04-07 05:19:45</td>\n",
       "      <td>@switchfoot http://twitpic.com/2y1zl - Awww, t...</td>\n",
       "      <td>2009-04</td>\n",
       "      <td>20</td>\n",
       "      <td>115</td>\n",
       "      <td>5.052632</td>\n",
       "      <td>4</td>\n",
       "      <td>0</td>\n",
       "      <td>1</td>\n",
       "      <td>0</td>\n",
       "      <td>1</td>\n",
       "      <td>awww thats a bummer you shoulda got david carr...</td>\n",
       "      <td>awww thats bummer shoulda got david carr third...</td>\n",
       "      <td>awww thats bummer shoulda got david carr third...</td>\n",
       "      <td>0.200</td>\n",
       "    </tr>\n",
       "    <tr>\n",
       "      <th>275</th>\n",
       "      <td>2009-04-07 05:19:49</td>\n",
       "      <td>is upset that he can't update his Facebook by ...</td>\n",
       "      <td>2009-04</td>\n",
       "      <td>22</td>\n",
       "      <td>111</td>\n",
       "      <td>4.285714</td>\n",
       "      <td>8</td>\n",
       "      <td>0</td>\n",
       "      <td>0</td>\n",
       "      <td>0</td>\n",
       "      <td>0</td>\n",
       "      <td>is upset that he cant update his facebook by t...</td>\n",
       "      <td>upset cant update facebook texting might cry r...</td>\n",
       "      <td>upset cant update facebook texting might cry r...</td>\n",
       "      <td>0.000</td>\n",
       "    </tr>\n",
       "    <tr>\n",
       "      <th>277</th>\n",
       "      <td>2009-04-07 05:19:53</td>\n",
       "      <td>@Kenichan I dived many times for the ball. Man...</td>\n",
       "      <td>2009-04</td>\n",
       "      <td>19</td>\n",
       "      <td>89</td>\n",
       "      <td>3.944444</td>\n",
       "      <td>5</td>\n",
       "      <td>0</td>\n",
       "      <td>1</td>\n",
       "      <td>0</td>\n",
       "      <td>1</td>\n",
       "      <td>i dived many times for the ball managed to sav...</td>\n",
       "      <td>dived many times ball managed save 50 rest go ...</td>\n",
       "      <td>dived many time ball managed save 50 rest go b...</td>\n",
       "      <td>0.500</td>\n",
       "    </tr>\n",
       "    <tr>\n",
       "      <th>279</th>\n",
       "      <td>2009-04-07 05:19:57</td>\n",
       "      <td>my whole body feels itchy and like its on fire</td>\n",
       "      <td>2009-04</td>\n",
       "      <td>11</td>\n",
       "      <td>47</td>\n",
       "      <td>3.700000</td>\n",
       "      <td>4</td>\n",
       "      <td>0</td>\n",
       "      <td>0</td>\n",
       "      <td>0</td>\n",
       "      <td>0</td>\n",
       "      <td>my whole body feels itchy and like its on fire</td>\n",
       "      <td>whole body feels itchy like fire</td>\n",
       "      <td>whole body feel itchy like fire</td>\n",
       "      <td>0.200</td>\n",
       "    </tr>\n",
       "    <tr>\n",
       "      <th>281</th>\n",
       "      <td>2009-04-07 05:19:57</td>\n",
       "      <td>@nationwideclass no, it's not behaving at all....</td>\n",
       "      <td>2009-04</td>\n",
       "      <td>22</td>\n",
       "      <td>111</td>\n",
       "      <td>4.285714</td>\n",
       "      <td>10</td>\n",
       "      <td>0</td>\n",
       "      <td>1</td>\n",
       "      <td>0</td>\n",
       "      <td>1</td>\n",
       "      <td>no its not behaving at all im mad why am i her...</td>\n",
       "      <td>behaving im mad cant see</td>\n",
       "      <td>behaving im mad cant see</td>\n",
       "      <td>-0.625</td>\n",
       "    </tr>\n",
       "  </tbody>\n",
       "</table>\n",
       "</div>"
      ],
      "text/plain": [
       "                   date                                               text  \\\n",
       "271 2009-04-07 05:19:45  @switchfoot http://twitpic.com/2y1zl - Awww, t...   \n",
       "275 2009-04-07 05:19:49  is upset that he can't update his Facebook by ...   \n",
       "277 2009-04-07 05:19:53  @Kenichan I dived many times for the ball. Man...   \n",
       "279 2009-04-07 05:19:57    my whole body feels itchy and like its on fire    \n",
       "281 2009-04-07 05:19:57  @nationwideclass no, it's not behaving at all....   \n",
       "\n",
       "       month  word_count  char_count  avg_word  stopwords  hashtags  at_sign  \\\n",
       "271  2009-04          20         115  5.052632          4         0        1   \n",
       "275  2009-04          22         111  4.285714          8         0        0   \n",
       "277  2009-04          19          89  3.944444          5         0        1   \n",
       "279  2009-04          11          47  3.700000          4         0        0   \n",
       "281  2009-04          22         111  4.285714         10         0        1   \n",
       "\n",
       "     numerics  upper                                              text1  \\\n",
       "271         0      1  awww thats a bummer you shoulda got david carr...   \n",
       "275         0      0  is upset that he cant update his facebook by t...   \n",
       "277         0      1  i dived many times for the ball managed to sav...   \n",
       "279         0      0     my whole body feels itchy and like its on fire   \n",
       "281         0      1  no its not behaving at all im mad why am i her...   \n",
       "\n",
       "                                        tokenized_text  \\\n",
       "271  awww thats bummer shoulda got david carr third...   \n",
       "275  upset cant update facebook texting might cry r...   \n",
       "277  dived many times ball managed save 50 rest go ...   \n",
       "279                   whole body feels itchy like fire   \n",
       "281                           behaving im mad cant see   \n",
       "\n",
       "                                     preprocessed_text  polarity_score  \n",
       "271  awww thats bummer shoulda got david carr third...           0.200  \n",
       "275  upset cant update facebook texting might cry r...           0.000  \n",
       "277  dived many time ball managed save 50 rest go b...           0.500  \n",
       "279                    whole body feel itchy like fire           0.200  \n",
       "281                           behaving im mad cant see          -0.625  "
      ]
     },
     "execution_count": 55,
     "metadata": {},
     "output_type": "execute_result"
    }
   ],
   "source": [
    "#View the df, first 5 observations\n",
    "df.head(5)"
   ]
  },
  {
   "cell_type": "code",
   "execution_count": 56,
   "id": "addca82f",
   "metadata": {},
   "outputs": [
    {
     "name": "stdout",
     "output_type": "stream",
     "text": [
      "<class 'pandas.core.frame.DataFrame'>\n",
      "Int64Index: 1600000 entries, 271 to 1546305\n",
      "Data columns (total 15 columns):\n",
      " #   Column             Non-Null Count    Dtype         \n",
      "---  ------             --------------    -----         \n",
      " 0   date               1600000 non-null  datetime64[ns]\n",
      " 1   text               1600000 non-null  object        \n",
      " 2   month              1600000 non-null  period[M]     \n",
      " 3   word_count         1600000 non-null  int64         \n",
      " 4   char_count         1600000 non-null  int64         \n",
      " 5   avg_word           1600000 non-null  float64       \n",
      " 6   stopwords          1600000 non-null  int64         \n",
      " 7   hashtags           1600000 non-null  int64         \n",
      " 8   at_sign            1600000 non-null  int64         \n",
      " 9   numerics           1600000 non-null  int64         \n",
      " 10  upper              1600000 non-null  int64         \n",
      " 11  text1              1600000 non-null  object        \n",
      " 12  tokenized_text     1600000 non-null  object        \n",
      " 13  preprocessed_text  1600000 non-null  object        \n",
      " 14  polarity_score     1600000 non-null  float64       \n",
      "dtypes: datetime64[ns](1), float64(2), int64(7), object(4), period[M](1)\n",
      "memory usage: 195.3+ MB\n"
     ]
    }
   ],
   "source": [
    "#View data types of the variables\n",
    "df.info()"
   ]
  },
  {
   "cell_type": "code",
   "execution_count": 57,
   "id": "0953792e",
   "metadata": {},
   "outputs": [
    {
     "name": "stdout",
     "output_type": "stream",
     "text": [
      "                                     preprocessed_text  polarity_score  \\\n",
      "271  awww thats bummer shoulda got david carr third...           0.200   \n",
      "275  upset cant update facebook texting might cry r...           0.000   \n",
      "277  dived many time ball managed save 50 rest go b...           0.500   \n",
      "279                    whole body feel itchy like fire           0.200   \n",
      "281                           behaving im mad cant see          -0.625   \n",
      "\n",
      "    textblob_sentiment  \n",
      "271           Positive  \n",
      "275            Neutral  \n",
      "277           Positive  \n",
      "279           Positive  \n",
      "281           Negative  \n"
     ]
    }
   ],
   "source": [
    "# Function to categorize sentiment polarities\n",
    "def categorize_sentiment(polarity):\n",
    "    if polarity > 0:\n",
    "        return 'Positive'\n",
    "    elif polarity < 0:\n",
    "        return 'Negative'\n",
    "    else:\n",
    "        return 'Neutral'\n",
    "\n",
    "# Apply the function to classify polarity scores and store the result in 'textblob_sentiment' column\n",
    "df['textblob_sentiment'] = df['polarity_score'].apply(categorize_sentiment)\n",
    "\n",
    "# Print the first few rows of the DataFrame with 'textblob_sentiment' column\n",
    "print(df[['preprocessed_text', 'polarity_score', 'textblob_sentiment']].head())"
   ]
  },
  {
   "cell_type": "code",
   "execution_count": 58,
   "id": "6a8b016a",
   "metadata": {},
   "outputs": [
    {
     "data": {
      "text/html": [
       "<div>\n",
       "<style scoped>\n",
       "    .dataframe tbody tr th:only-of-type {\n",
       "        vertical-align: middle;\n",
       "    }\n",
       "\n",
       "    .dataframe tbody tr th {\n",
       "        vertical-align: top;\n",
       "    }\n",
       "\n",
       "    .dataframe thead th {\n",
       "        text-align: right;\n",
       "    }\n",
       "</style>\n",
       "<table border=\"1\" class=\"dataframe\">\n",
       "  <thead>\n",
       "    <tr style=\"text-align: right;\">\n",
       "      <th></th>\n",
       "      <th>preprocessed_text</th>\n",
       "      <th>polarity_score</th>\n",
       "      <th>textblob_sentiment</th>\n",
       "      <th>textblobsentiment</th>\n",
       "    </tr>\n",
       "  </thead>\n",
       "  <tbody>\n",
       "    <tr>\n",
       "      <th>271</th>\n",
       "      <td>awww thats bummer shoulda got david carr third...</td>\n",
       "      <td>0.200</td>\n",
       "      <td>Positive</td>\n",
       "      <td>1</td>\n",
       "    </tr>\n",
       "    <tr>\n",
       "      <th>275</th>\n",
       "      <td>upset cant update facebook texting might cry r...</td>\n",
       "      <td>0.000</td>\n",
       "      <td>Neutral</td>\n",
       "      <td>0</td>\n",
       "    </tr>\n",
       "    <tr>\n",
       "      <th>277</th>\n",
       "      <td>dived many time ball managed save 50 rest go b...</td>\n",
       "      <td>0.500</td>\n",
       "      <td>Positive</td>\n",
       "      <td>1</td>\n",
       "    </tr>\n",
       "    <tr>\n",
       "      <th>279</th>\n",
       "      <td>whole body feel itchy like fire</td>\n",
       "      <td>0.200</td>\n",
       "      <td>Positive</td>\n",
       "      <td>1</td>\n",
       "    </tr>\n",
       "    <tr>\n",
       "      <th>281</th>\n",
       "      <td>behaving im mad cant see</td>\n",
       "      <td>-0.625</td>\n",
       "      <td>Negative</td>\n",
       "      <td>-1</td>\n",
       "    </tr>\n",
       "  </tbody>\n",
       "</table>\n",
       "</div>"
      ],
      "text/plain": [
       "                                     preprocessed_text  polarity_score  \\\n",
       "271  awww thats bummer shoulda got david carr third...           0.200   \n",
       "275  upset cant update facebook texting might cry r...           0.000   \n",
       "277  dived many time ball managed save 50 rest go b...           0.500   \n",
       "279                    whole body feel itchy like fire           0.200   \n",
       "281                           behaving im mad cant see          -0.625   \n",
       "\n",
       "    textblob_sentiment  textblobsentiment  \n",
       "271           Positive                  1  \n",
       "275            Neutral                  0  \n",
       "277           Positive                  1  \n",
       "279           Positive                  1  \n",
       "281           Negative                 -1  "
      ]
     },
     "execution_count": 58,
     "metadata": {},
     "output_type": "execute_result"
    }
   ],
   "source": [
    "# Function to categorize sentiment polarities\n",
    "# Categorize sentiment polarities\n",
    "def categorize_sentiment(polarity):\n",
    "    if polarity > 0:\n",
    "        return 1  # Positive\n",
    "    elif polarity < 0:\n",
    "        return -1  # Negative\n",
    "    else:\n",
    "        return 0  # Neutral\n",
    "\n",
    "# Apply the function to classify polarity scores and store the result in 'textblob_sentiment' column\n",
    "df['textblobsentiment'] = df['polarity_score'].apply(categorize_sentiment)\n",
    "\n",
    "#View the first few rows of the DataFrame with 'textblob_sentiment' column\n",
    "df[['preprocessed_text', 'polarity_score', 'textblob_sentiment','textblobsentiment']].head(5)"
   ]
  },
  {
   "cell_type": "markdown",
   "id": "0f2cc4b4",
   "metadata": {},
   "source": [
    "# USING VADER SENTIMENT ANALYSIS"
   ]
  },
  {
   "cell_type": "code",
   "execution_count": 59,
   "id": "b412ffba",
   "metadata": {},
   "outputs": [
    {
     "name": "stderr",
     "output_type": "stream",
     "text": [
      "[nltk_data] Downloading package vader_lexicon to\n",
      "[nltk_data]     C:\\Users\\Diana\\AppData\\Roaming\\nltk_data...\n",
      "[nltk_data]   Package vader_lexicon is already up-to-date!\n"
     ]
    },
    {
     "data": {
      "text/plain": [
       "True"
      ]
     },
     "execution_count": 59,
     "metadata": {},
     "output_type": "execute_result"
    }
   ],
   "source": [
    "from nltk.sentiment.vader import SentimentIntensityAnalyzer\n",
    "import nltk\n",
    "nltk.download('vader_lexicon')"
   ]
  },
  {
   "cell_type": "code",
   "execution_count": 60,
   "id": "b59864cf",
   "metadata": {},
   "outputs": [
    {
     "name": "stdout",
     "output_type": "stream",
     "text": [
      "                                         preprocessed_text  vader_compound  \\\n",
      "271      awww thats bummer shoulda got david carr third...         -0.3818   \n",
      "275      upset cant update facebook texting might cry r...         -0.7269   \n",
      "277      dived many time ball managed save 50 rest go b...          0.4939   \n",
      "279                        whole body feel itchy like fire         -0.2500   \n",
      "281                               behaving im mad cant see         -0.4939   \n",
      "...                                                    ...             ...   \n",
      "1546301             sick spending day laying bed listening         -0.5106   \n",
      "1546302                                              gmail          0.0000   \n",
      "1546303                              rest peace farrah sad          0.1027   \n",
      "1546304           sound like rival flagging ad much though          0.3612   \n",
      "1546305  resit exam summer wish worked harder first yea...          0.4019   \n",
      "\n",
      "        sentiment_vader  \n",
      "271            negative  \n",
      "275            negative  \n",
      "277            positive  \n",
      "279            negative  \n",
      "281            negative  \n",
      "...                 ...  \n",
      "1546301        negative  \n",
      "1546302         neutral  \n",
      "1546303        positive  \n",
      "1546304        positive  \n",
      "1546305        positive  \n",
      "\n",
      "[1600000 rows x 3 columns]\n"
     ]
    }
   ],
   "source": [
    "#Create a VADER SentimentIntensityAnalyzer instance\n",
    "twitter_sentiment = SentimentIntensityAnalyzer()\n",
    "\n",
    "#Create a function to get compound sentiment score using VADER\n",
    "def get_sentiment_scores(text):\n",
    "    return twitter_sentiment.polarity_scores(text)\n",
    "\n",
    "#Apply the function to get the compound scores and store the values in vader_sentiment\n",
    "df['vader_sentiment'] = df['preprocessed_text'].apply(get_sentiment_scores)\n",
    "\n",
    "#Extract the 'neg', 'neu', 'pos', 'compound' scores from 'vader_sentiment'\n",
    "df['vader_neg'] = df['vader_sentiment'].apply(lambda x: x['neg'])\n",
    "df['vader_neu'] = df['vader_sentiment'].apply(lambda x: x['neu'])\n",
    "df['vader_pos'] = df['vader_sentiment'].apply(lambda x: x['pos'])\n",
    "df['vader_compound'] = df['vader_sentiment'].apply(lambda x: x['compound'])\n",
    "\n",
    "#Create a function to categorize sentiments based on compound scores\n",
    "def categorize_sentiment(vader_compound):\n",
    "    if vader_compound >= 0.05:\n",
    "        return 'positive'\n",
    "    elif vader_compound <= -0.05:\n",
    "        return 'negative'\n",
    "    else:\n",
    "        return 'neutral'\n",
    "\n",
    "#Apply the categorization function to create the 'sentiment' column\n",
    "df['sentiment_vader'] = df['vader_compound'].apply(categorize_sentiment)\n",
    "\n",
    "#Display the updated DataFrame with the 'sentiment' column\n",
    "print(df[['preprocessed_text','vader_compound','sentiment_vader']])"
   ]
  },
  {
   "cell_type": "code",
   "execution_count": 61,
   "id": "27c258aa",
   "metadata": {
    "scrolled": true
   },
   "outputs": [
    {
     "data": {
      "text/html": [
       "<div>\n",
       "<style scoped>\n",
       "    .dataframe tbody tr th:only-of-type {\n",
       "        vertical-align: middle;\n",
       "    }\n",
       "\n",
       "    .dataframe tbody tr th {\n",
       "        vertical-align: top;\n",
       "    }\n",
       "\n",
       "    .dataframe thead th {\n",
       "        text-align: right;\n",
       "    }\n",
       "</style>\n",
       "<table border=\"1\" class=\"dataframe\">\n",
       "  <thead>\n",
       "    <tr style=\"text-align: right;\">\n",
       "      <th></th>\n",
       "      <th>date</th>\n",
       "      <th>text</th>\n",
       "      <th>month</th>\n",
       "      <th>word_count</th>\n",
       "      <th>char_count</th>\n",
       "      <th>avg_word</th>\n",
       "      <th>stopwords</th>\n",
       "      <th>hashtags</th>\n",
       "      <th>at_sign</th>\n",
       "      <th>numerics</th>\n",
       "      <th>...</th>\n",
       "      <th>preprocessed_text</th>\n",
       "      <th>polarity_score</th>\n",
       "      <th>textblob_sentiment</th>\n",
       "      <th>textblobsentiment</th>\n",
       "      <th>vader_sentiment</th>\n",
       "      <th>vader_neg</th>\n",
       "      <th>vader_neu</th>\n",
       "      <th>vader_pos</th>\n",
       "      <th>vader_compound</th>\n",
       "      <th>sentiment_vader</th>\n",
       "    </tr>\n",
       "  </thead>\n",
       "  <tbody>\n",
       "    <tr>\n",
       "      <th>271</th>\n",
       "      <td>2009-04-07 05:19:45</td>\n",
       "      <td>@switchfoot http://twitpic.com/2y1zl - Awww, t...</td>\n",
       "      <td>2009-04</td>\n",
       "      <td>20</td>\n",
       "      <td>115</td>\n",
       "      <td>5.052632</td>\n",
       "      <td>4</td>\n",
       "      <td>0</td>\n",
       "      <td>1</td>\n",
       "      <td>0</td>\n",
       "      <td>...</td>\n",
       "      <td>awww thats bummer shoulda got david carr third...</td>\n",
       "      <td>0.200</td>\n",
       "      <td>Positive</td>\n",
       "      <td>1</td>\n",
       "      <td>{'neg': 0.245, 'neu': 0.755, 'pos': 0.0, 'comp...</td>\n",
       "      <td>0.245</td>\n",
       "      <td>0.755</td>\n",
       "      <td>0.000</td>\n",
       "      <td>-0.3818</td>\n",
       "      <td>negative</td>\n",
       "    </tr>\n",
       "    <tr>\n",
       "      <th>275</th>\n",
       "      <td>2009-04-07 05:19:49</td>\n",
       "      <td>is upset that he can't update his Facebook by ...</td>\n",
       "      <td>2009-04</td>\n",
       "      <td>22</td>\n",
       "      <td>111</td>\n",
       "      <td>4.285714</td>\n",
       "      <td>8</td>\n",
       "      <td>0</td>\n",
       "      <td>0</td>\n",
       "      <td>0</td>\n",
       "      <td>...</td>\n",
       "      <td>upset cant update facebook texting might cry r...</td>\n",
       "      <td>0.000</td>\n",
       "      <td>Neutral</td>\n",
       "      <td>0</td>\n",
       "      <td>{'neg': 0.441, 'neu': 0.559, 'pos': 0.0, 'comp...</td>\n",
       "      <td>0.441</td>\n",
       "      <td>0.559</td>\n",
       "      <td>0.000</td>\n",
       "      <td>-0.7269</td>\n",
       "      <td>negative</td>\n",
       "    </tr>\n",
       "    <tr>\n",
       "      <th>277</th>\n",
       "      <td>2009-04-07 05:19:53</td>\n",
       "      <td>@Kenichan I dived many times for the ball. Man...</td>\n",
       "      <td>2009-04</td>\n",
       "      <td>19</td>\n",
       "      <td>89</td>\n",
       "      <td>3.944444</td>\n",
       "      <td>5</td>\n",
       "      <td>0</td>\n",
       "      <td>1</td>\n",
       "      <td>0</td>\n",
       "      <td>...</td>\n",
       "      <td>dived many time ball managed save 50 rest go b...</td>\n",
       "      <td>0.500</td>\n",
       "      <td>Positive</td>\n",
       "      <td>1</td>\n",
       "      <td>{'neg': 0.0, 'neu': 0.738, 'pos': 0.262, 'comp...</td>\n",
       "      <td>0.000</td>\n",
       "      <td>0.738</td>\n",
       "      <td>0.262</td>\n",
       "      <td>0.4939</td>\n",
       "      <td>positive</td>\n",
       "    </tr>\n",
       "    <tr>\n",
       "      <th>279</th>\n",
       "      <td>2009-04-07 05:19:57</td>\n",
       "      <td>my whole body feels itchy and like its on fire</td>\n",
       "      <td>2009-04</td>\n",
       "      <td>11</td>\n",
       "      <td>47</td>\n",
       "      <td>3.700000</td>\n",
       "      <td>4</td>\n",
       "      <td>0</td>\n",
       "      <td>0</td>\n",
       "      <td>0</td>\n",
       "      <td>...</td>\n",
       "      <td>whole body feel itchy like fire</td>\n",
       "      <td>0.200</td>\n",
       "      <td>Positive</td>\n",
       "      <td>1</td>\n",
       "      <td>{'neg': 0.45, 'neu': 0.3, 'pos': 0.25, 'compou...</td>\n",
       "      <td>0.450</td>\n",
       "      <td>0.300</td>\n",
       "      <td>0.250</td>\n",
       "      <td>-0.2500</td>\n",
       "      <td>negative</td>\n",
       "    </tr>\n",
       "    <tr>\n",
       "      <th>281</th>\n",
       "      <td>2009-04-07 05:19:57</td>\n",
       "      <td>@nationwideclass no, it's not behaving at all....</td>\n",
       "      <td>2009-04</td>\n",
       "      <td>22</td>\n",
       "      <td>111</td>\n",
       "      <td>4.285714</td>\n",
       "      <td>10</td>\n",
       "      <td>0</td>\n",
       "      <td>1</td>\n",
       "      <td>0</td>\n",
       "      <td>...</td>\n",
       "      <td>behaving im mad cant see</td>\n",
       "      <td>-0.625</td>\n",
       "      <td>Negative</td>\n",
       "      <td>-1</td>\n",
       "      <td>{'neg': 0.444, 'neu': 0.556, 'pos': 0.0, 'comp...</td>\n",
       "      <td>0.444</td>\n",
       "      <td>0.556</td>\n",
       "      <td>0.000</td>\n",
       "      <td>-0.4939</td>\n",
       "      <td>negative</td>\n",
       "    </tr>\n",
       "  </tbody>\n",
       "</table>\n",
       "<p>5 rows × 23 columns</p>\n",
       "</div>"
      ],
      "text/plain": [
       "                   date                                               text  \\\n",
       "271 2009-04-07 05:19:45  @switchfoot http://twitpic.com/2y1zl - Awww, t...   \n",
       "275 2009-04-07 05:19:49  is upset that he can't update his Facebook by ...   \n",
       "277 2009-04-07 05:19:53  @Kenichan I dived many times for the ball. Man...   \n",
       "279 2009-04-07 05:19:57    my whole body feels itchy and like its on fire    \n",
       "281 2009-04-07 05:19:57  @nationwideclass no, it's not behaving at all....   \n",
       "\n",
       "       month  word_count  char_count  avg_word  stopwords  hashtags  at_sign  \\\n",
       "271  2009-04          20         115  5.052632          4         0        1   \n",
       "275  2009-04          22         111  4.285714          8         0        0   \n",
       "277  2009-04          19          89  3.944444          5         0        1   \n",
       "279  2009-04          11          47  3.700000          4         0        0   \n",
       "281  2009-04          22         111  4.285714         10         0        1   \n",
       "\n",
       "     numerics  ...                                  preprocessed_text  \\\n",
       "271         0  ...  awww thats bummer shoulda got david carr third...   \n",
       "275         0  ...  upset cant update facebook texting might cry r...   \n",
       "277         0  ...  dived many time ball managed save 50 rest go b...   \n",
       "279         0  ...                    whole body feel itchy like fire   \n",
       "281         0  ...                           behaving im mad cant see   \n",
       "\n",
       "    polarity_score textblob_sentiment textblobsentiment  \\\n",
       "271          0.200           Positive                 1   \n",
       "275          0.000            Neutral                 0   \n",
       "277          0.500           Positive                 1   \n",
       "279          0.200           Positive                 1   \n",
       "281         -0.625           Negative                -1   \n",
       "\n",
       "                                       vader_sentiment vader_neg  vader_neu  \\\n",
       "271  {'neg': 0.245, 'neu': 0.755, 'pos': 0.0, 'comp...     0.245      0.755   \n",
       "275  {'neg': 0.441, 'neu': 0.559, 'pos': 0.0, 'comp...     0.441      0.559   \n",
       "277  {'neg': 0.0, 'neu': 0.738, 'pos': 0.262, 'comp...     0.000      0.738   \n",
       "279  {'neg': 0.45, 'neu': 0.3, 'pos': 0.25, 'compou...     0.450      0.300   \n",
       "281  {'neg': 0.444, 'neu': 0.556, 'pos': 0.0, 'comp...     0.444      0.556   \n",
       "\n",
       "    vader_pos  vader_compound  sentiment_vader  \n",
       "271     0.000         -0.3818         negative  \n",
       "275     0.000         -0.7269         negative  \n",
       "277     0.262          0.4939         positive  \n",
       "279     0.250         -0.2500         negative  \n",
       "281     0.000         -0.4939         negative  \n",
       "\n",
       "[5 rows x 23 columns]"
      ]
     },
     "execution_count": 61,
     "metadata": {},
     "output_type": "execute_result"
    }
   ],
   "source": [
    "#View the first 5 observations\n",
    "df.head(5)"
   ]
  },
  {
   "cell_type": "markdown",
   "id": "635ead0c",
   "metadata": {},
   "source": [
    "# Determine which one to use between vader and textblob by evaluating their performance using "
   ]
  },
  {
   "cell_type": "markdown",
   "id": "07c07492",
   "metadata": {},
   "source": [
    "# Using TfidfVectorizer, countvectorizer AND MNB "
   ]
  },
  {
   "cell_type": "markdown",
   "id": "58a14a0e",
   "metadata": {},
   "source": [
    "## Textblob sentiments"
   ]
  },
  {
   "cell_type": "code",
   "execution_count": 62,
   "id": "2d9d1840",
   "metadata": {},
   "outputs": [
    {
     "name": "stdout",
     "output_type": "stream",
     "text": [
      "              precision    recall  f1-score   support\n",
      "\n",
      "    Negative       0.95      0.65      0.77     65507\n",
      "     Neutral       0.82      0.81      0.82    118524\n",
      "    Positive       0.78      0.91      0.84    135969\n",
      "\n",
      "    accuracy                           0.82    320000\n",
      "   macro avg       0.85      0.79      0.81    320000\n",
      "weighted avg       0.83      0.82      0.82    320000\n",
      "\n"
     ]
    }
   ],
   "source": [
    "from sklearn.feature_extraction.text import TfidfVectorizer\n",
    "from sklearn.model_selection import train_test_split\n",
    "from sklearn.naive_bayes import MultinomialNB\n",
    "from sklearn.metrics import classification_report\n",
    "\n",
    "#Vectorize the Text Data using TF-IDF\n",
    "tfidf = TfidfVectorizer(max_features=1000, lowercase=True, analyzer='word',\n",
    "                        stop_words='english', ngram_range=(1,1))\n",
    "X = tfidf.fit_transform(df['preprocessed_text'])\n",
    "y = df['textblob_sentiment']\n",
    "\n",
    "#Split the data into Train-Test\n",
    "X_train, X_test, y_train, y_test = train_test_split(X, y, test_size=0.2, random_state=42)\n",
    "\n",
    "#Create a classifier for MNB\n",
    "classifier = MultinomialNB()\n",
    "\n",
    "#Train the Classifier\n",
    "classifier.fit(X_train, y_train)\n",
    "\n",
    "#Evaluate the Model\n",
    "y_pred = classifier.predict(X_test)\n",
    "print(classification_report(y_test, y_pred))"
   ]
  },
  {
   "cell_type": "markdown",
   "id": "83241110",
   "metadata": {},
   "source": [
    "## vader sentiment"
   ]
  },
  {
   "cell_type": "code",
   "execution_count": 63,
   "id": "2dcd4167",
   "metadata": {},
   "outputs": [
    {
     "name": "stdout",
     "output_type": "stream",
     "text": [
      "              precision    recall  f1-score   support\n",
      "\n",
      "    negative       0.88      0.58      0.70     77743\n",
      "     neutral       0.75      0.58      0.65     89026\n",
      "    positive       0.70      0.92      0.80    153231\n",
      "\n",
      "    accuracy                           0.74    320000\n",
      "   macro avg       0.78      0.69      0.72    320000\n",
      "weighted avg       0.76      0.74      0.73    320000\n",
      "\n"
     ]
    }
   ],
   "source": [
    "#Vectorize the Text Data using TF-IDF\n",
    "tfidf = TfidfVectorizer(max_features=1000, lowercase=True, analyzer='word',\n",
    "                        stop_words='english', ngram_range=(1,1))\n",
    "X = tfidf.fit_transform(df['preprocessed_text'])\n",
    "y = df['sentiment_vader']\n",
    "\n",
    "#Split the data into Train-Test\n",
    "X_train, X_test, y_train, y_test = train_test_split(X, y, test_size=0.2, random_state=42)\n",
    "\n",
    "#Create a classifier for MNB\n",
    "classifier = MultinomialNB()\n",
    "\n",
    "#Train the Classifier\n",
    "classifier.fit(X_train, y_train)\n",
    "\n",
    "#Evaluate the Model\n",
    "y_pred = classifier.predict(X_test)\n",
    "print(classification_report(y_test, y_pred))"
   ]
  },
  {
   "cell_type": "markdown",
   "id": "06692d6a",
   "metadata": {},
   "source": [
    "## USING COUNTVECTORIZER"
   ]
  },
  {
   "cell_type": "code",
   "execution_count": 64,
   "id": "9ef3ece2",
   "metadata": {},
   "outputs": [
    {
     "name": "stderr",
     "output_type": "stream",
     "text": [
      "C:\\Users\\Diana\\anaconda3\\Lib\\site-packages\\sklearn\\feature_extraction\\text.py:525: UserWarning: The parameter 'token_pattern' will not be used since 'tokenizer' is not None'\n",
      "  warnings.warn(\n"
     ]
    }
   ],
   "source": [
    "#Pre-Processing using Count Vectorizer\n",
    "from sklearn.feature_extraction.text import CountVectorizer\n",
    "from nltk.tokenize import RegexpTokenizer\n",
    "\n",
    "token = RegexpTokenizer(r'[a-zA-Z0-9]+')\n",
    "cv    = CountVectorizer(stop_words = 'english',ngram_range = (1, 1),tokenizer = token.tokenize)\n",
    "text_counts = cv.fit_transform(df['text'])"
   ]
  },
  {
   "cell_type": "markdown",
   "id": "6915952d",
   "metadata": {},
   "source": [
    "## textblob sentiments using count vectorizer"
   ]
  },
  {
   "cell_type": "code",
   "execution_count": 65,
   "id": "fd928b95",
   "metadata": {},
   "outputs": [
    {
     "name": "stdout",
     "output_type": "stream",
     "text": [
      "Accuracy Score:  0.833203125\n"
     ]
    }
   ],
   "source": [
    "#Split the data into training and testing\n",
    "from sklearn.model_selection import train_test_split\n",
    "X_train, X_test, Y_train, Y_test = train_test_split(text_counts, df['textblob_sentiment'], test_size=0.2, random_state=42)\n",
    "\n",
    "#Training the model\n",
    "from sklearn.naive_bayes import MultinomialNB\n",
    "MNB = MultinomialNB()\n",
    "MNB.fit(X_train, Y_train)\n",
    "\n",
    "#Caluclate the accuracy score of the model\n",
    "from sklearn import metrics\n",
    "predicted = MNB.predict(X_test)\n",
    "accuracy_score = metrics.accuracy_score(predicted, Y_test)\n",
    "print(\"Accuracy Score: \",accuracy_score)"
   ]
  },
  {
   "cell_type": "markdown",
   "id": "0793e625",
   "metadata": {},
   "source": [
    "## vader sentiments using count vectorizer"
   ]
  },
  {
   "cell_type": "code",
   "execution_count": 66,
   "id": "6504f585",
   "metadata": {},
   "outputs": [
    {
     "name": "stdout",
     "output_type": "stream",
     "text": [
      "Accuracy Score:  0.76886\n"
     ]
    }
   ],
   "source": [
    "#Split the data into training and testing\n",
    "from sklearn.model_selection import train_test_split\n",
    "X_train, X_test, Y_train, Y_test = train_test_split(text_counts, df['sentiment_vader'], test_size=0.25, random_state=5)\n",
    "\n",
    "#Training the model\n",
    "from sklearn.naive_bayes import MultinomialNB\n",
    "MNB = MultinomialNB()\n",
    "MNB.fit(X_train, Y_train)\n",
    "\n",
    "#Caluclate the accuracy score of the model\n",
    "from sklearn import metrics\n",
    "predicted = MNB.predict(X_test)\n",
    "accuracy_score = metrics.accuracy_score(predicted, Y_test)\n",
    "print(\"Accuracy Score: \",accuracy_score)"
   ]
  },
  {
   "cell_type": "markdown",
   "id": "cc47448b",
   "metadata": {},
   "source": [
    "Since the accuracy of sentiments extracted by textblob is higher sentiments extracted by textblob will be used"
   ]
  },
  {
   "cell_type": "code",
   "execution_count": 67,
   "id": "79053494",
   "metadata": {},
   "outputs": [
    {
     "name": "stdout",
     "output_type": "stream",
     "text": [
      "<class 'pandas.core.frame.DataFrame'>\n",
      "Int64Index: 1600000 entries, 271 to 1546305\n",
      "Data columns (total 23 columns):\n",
      " #   Column              Non-Null Count    Dtype         \n",
      "---  ------              --------------    -----         \n",
      " 0   date                1600000 non-null  datetime64[ns]\n",
      " 1   text                1600000 non-null  object        \n",
      " 2   month               1600000 non-null  period[M]     \n",
      " 3   word_count          1600000 non-null  int64         \n",
      " 4   char_count          1600000 non-null  int64         \n",
      " 5   avg_word            1600000 non-null  float64       \n",
      " 6   stopwords           1600000 non-null  int64         \n",
      " 7   hashtags            1600000 non-null  int64         \n",
      " 8   at_sign             1600000 non-null  int64         \n",
      " 9   numerics            1600000 non-null  int64         \n",
      " 10  upper               1600000 non-null  int64         \n",
      " 11  text1               1600000 non-null  object        \n",
      " 12  tokenized_text      1600000 non-null  object        \n",
      " 13  preprocessed_text   1600000 non-null  object        \n",
      " 14  polarity_score      1600000 non-null  float64       \n",
      " 15  textblob_sentiment  1600000 non-null  object        \n",
      " 16  textblobsentiment   1600000 non-null  int64         \n",
      " 17  vader_sentiment     1600000 non-null  object        \n",
      " 18  vader_neg           1600000 non-null  float64       \n",
      " 19  vader_neu           1600000 non-null  float64       \n",
      " 20  vader_pos           1600000 non-null  float64       \n",
      " 21  vader_compound      1600000 non-null  float64       \n",
      " 22  sentiment_vader     1600000 non-null  object        \n",
      "dtypes: datetime64[ns](1), float64(6), int64(8), object(7), period[M](1)\n",
      "memory usage: 293.0+ MB\n"
     ]
    }
   ],
   "source": [
    "#Check the variables data type\n",
    "df.info()"
   ]
  },
  {
   "cell_type": "markdown",
   "id": "f800c857",
   "metadata": {},
   "source": [
    "# Visualization"
   ]
  },
  {
   "cell_type": "code",
   "execution_count": 68,
   "id": "0f6e8873",
   "metadata": {},
   "outputs": [
    {
     "data": {
      "image/png": "[encoded data removed]",
      "text/plain": [
       "<Figure size 800x600 with 1 Axes>"
      ]
     },
     "metadata": {},
     "output_type": "display_data"
    }
   ],
   "source": [
    "import matplotlib.pyplot as plt\n",
    "import seaborn as sns\n",
    "\n",
    "# Count the occurrences of each sentiment class\n",
    "sentiment_counts = df['sentiment_vader'].value_counts()\n",
    "\n",
    "# Create a bar plot\n",
    "plt.figure(figsize=(8, 6))\n",
    "sns.barplot(x=sentiment_counts.index, y=sentiment_counts.values, palette='viridis')\n",
    "plt.title('Sentiment Class Distribution')\n",
    "plt.xlabel('Sentiment Class')\n",
    "plt.ylabel('Count')\n",
    "plt.xticks(rotation=45)\n",
    "plt.show()\n"
   ]
  },
  {
   "cell_type": "markdown",
   "id": "3d08d1cb",
   "metadata": {},
   "source": [
    "## Encode the Sentiments\n",
    "Try \n",
    "label and one hot and see which one performs better"
   ]
  },
  {
   "cell_type": "markdown",
   "id": "5faf6e0e",
   "metadata": {},
   "source": [
    "## Label Encoder"
   ]
  },
  {
   "cell_type": "code",
   "execution_count": 69,
   "id": "c94e51b3",
   "metadata": {},
   "outputs": [],
   "source": [
    "from sklearn.preprocessing import LabelEncoder\n",
    "\n",
    "# Create a LabelEncoder object\n",
    "label_encoder = LabelEncoder()\n",
    "\n",
    "# Fit and transform the 'textblob_sentiment' column\n",
    "df['label_text_encoded'] = label_encoder.fit_transform(df['textblob_sentiment'])\n"
   ]
  },
  {
   "cell_type": "markdown",
   "id": "ffedaa8e",
   "metadata": {},
   "source": [
    "## One-hot encoder"
   ]
  },
  {
   "cell_type": "code",
   "execution_count": 70,
   "id": "934c3875",
   "metadata": {},
   "outputs": [],
   "source": [
    "from sklearn.preprocessing import OneHotEncoder\n",
    "\n",
    "# Create a OneHotEncoder object\n",
    "onehot_encoder = OneHotEncoder()\n",
    "\n",
    "# Fit and transform the 'sentiment' column\n",
    "textblob_onehot = onehot_encoder.fit_transform(df['textblob_sentiment'].values.reshape(-1, 1))\n",
    "\n",
    "# Convert the one-hot encoded result to a DataFrame\n",
    "textblob_onehot_df = pd.DataFrame(textblob_onehot.toarray(), columns=onehot_encoder.categories_[0])\n",
    "\n",
    "# Concatenate the one-hot encoded DataFrame with the original DataFrame\n",
    "df = pd.concat([df, textblob_onehot_df], axis=1)\n"
   ]
  },
  {
   "cell_type": "code",
   "execution_count": 71,
   "id": "6e25d731",
   "metadata": {},
   "outputs": [
    {
     "name": "stdout",
     "output_type": "stream",
     "text": [
      "<class 'pandas.core.frame.DataFrame'>\n",
      "Int64Index: 1600000 entries, 271 to 1546305\n",
      "Data columns (total 27 columns):\n",
      " #   Column              Non-Null Count    Dtype         \n",
      "---  ------              --------------    -----         \n",
      " 0   date                1600000 non-null  datetime64[ns]\n",
      " 1   text                1600000 non-null  object        \n",
      " 2   month               1600000 non-null  period[M]     \n",
      " 3   word_count          1600000 non-null  int64         \n",
      " 4   char_count          1600000 non-null  int64         \n",
      " 5   avg_word            1600000 non-null  float64       \n",
      " 6   stopwords           1600000 non-null  int64         \n",
      " 7   hashtags            1600000 non-null  int64         \n",
      " 8   at_sign             1600000 non-null  int64         \n",
      " 9   numerics            1600000 non-null  int64         \n",
      " 10  upper               1600000 non-null  int64         \n",
      " 11  text1               1600000 non-null  object        \n",
      " 12  tokenized_text      1600000 non-null  object        \n",
      " 13  preprocessed_text   1600000 non-null  object        \n",
      " 14  polarity_score      1600000 non-null  float64       \n",
      " 15  textblob_sentiment  1600000 non-null  object        \n",
      " 16  textblobsentiment   1600000 non-null  int64         \n",
      " 17  vader_sentiment     1600000 non-null  object        \n",
      " 18  vader_neg           1600000 non-null  float64       \n",
      " 19  vader_neu           1600000 non-null  float64       \n",
      " 20  vader_pos           1600000 non-null  float64       \n",
      " 21  vader_compound      1600000 non-null  float64       \n",
      " 22  sentiment_vader     1600000 non-null  object        \n",
      " 23  label_text_encoded  1600000 non-null  int32         \n",
      " 24  Negative            1600000 non-null  float64       \n",
      " 25  Neutral             1600000 non-null  float64       \n",
      " 26  Positive            1600000 non-null  float64       \n",
      "dtypes: datetime64[ns](1), float64(9), int32(1), int64(8), object(7), period[M](1)\n",
      "memory usage: 335.7+ MB\n"
     ]
    }
   ],
   "source": [
    "df.info()"
   ]
  },
  {
   "cell_type": "code",
   "execution_count": 77,
   "id": "8a4d7291",
   "metadata": {},
   "outputs": [],
   "source": [
    "from sklearn.preprocessing import LabelEncoder\n",
    "\n",
    "# Create a LabelEncoder object\n",
    "vader_encoder = LabelEncoder()\n",
    "\n",
    "# Fit and transform the 'textblob_sentiment' column\n",
    "df['vader_encoded'] = label_encoder.fit_transform(df['sentiment_vader'])"
   ]
  },
  {
   "cell_type": "code",
   "execution_count": 81,
   "id": "b7d75685",
   "metadata": {},
   "outputs": [
    {
     "name": "stdout",
     "output_type": "stream",
     "text": [
      "Textblob Sentiment Counts:\n",
      "Positive    679250\n",
      "Neutral     593796\n",
      "Negative    326954\n",
      "Name: textblob_sentiment, dtype: int64\n",
      "Vader Sentiment Counts:\n",
      "positive    766016\n",
      "neutral     446665\n",
      "negative    387319\n",
      "Name: sentiment_vader, dtype: int64\n"
     ]
    }
   ],
   "source": [
    "#Count occurrences of each sentiment class\n",
    "sentiment_textblob = df['textblob_sentiment'].value_counts()\n",
    "\n",
    "# Display the result as a table\n",
    "print(\"Textblob Sentiment Counts:\")\n",
    "print(sentiment_textblob)\n",
    "\n",
    "\n",
    "#Count occurrences of each sentiment class\n",
    "sentiment_vader = df['sentiment_vader'].value_counts()\n",
    "\n",
    "# Display the result as a table\n",
    "print(\"Vader Sentiment Counts:\")\n",
    "print(sentiment_vader)"
   ]
  },
  {
   "cell_type": "markdown",
   "id": "a9cc1af8",
   "metadata": {},
   "source": [
    "There is class imbalance, in the sentiment data. Class imbalance occurs when one class (or classes) has significantly more samples than the other classes. In this case, the counts of sentiment classes are as follows:\n",
    "\n",
    "for textblob sentiments\n",
    "\n",
    "Class positive: 679,250 samples\n",
    "\n",
    "Class neutral: 593,796 samples\n",
    "\n",
    "Class negative: 326,954 samples\n",
    "\n",
    "\n",
    "Vader Sentiments\n",
    "\n",
    "class positive    766,016 samples\n",
    "\n",
    "class neutral     446,665 samples\n",
    "\n",
    "class negative    387,319 samples\n",
    "\n",
    "\n",
    "The class imbalance can potentially affect the performance of the machine learning model, especially if the minority class (in this case, class negative) in textblob\n",
    "\n",
    "The class imbalance can potentially affect the performance of the machine learning model, especially if the minority class (in this case, class positive) in vader\n",
    "\n",
    "To address class imbalance here are some techniques to be considered:-\n",
    "\n",
    "- Resampling: Either oversampling the minority class (creating more samples of the minority class) or undersampling the majority class (removing samples from the majority class).\n",
    "\n",
    "- Class weights: Assigning higher weights to the minority class during model training to give it more importance.\n",
    "\n",
    "- Synthetic data generation: Generating synthetic samples for the minority class using techniques like SMOTE (Synthetic Minority Over-sampling Technique).\n",
    "\n",
    "- Different algorithms: Using algorithms that are less sensitive to class imbalance, such as decision trees or random forests.\n",
    "\n",
    "    \n"
   ]
  },
  {
   "cell_type": "markdown",
   "id": "a48450fe",
   "metadata": {},
   "source": [
    "# LSTM for sentiment analysis with imbalanced data\n",
    "The steps to be considered include:-\n",
    "\n",
    "- Preprocess the text data- i am using already preprocessed text data\n",
    "- Tokenize the preprocessed data\n",
    "- Prepare data for training\n",
    "- split the data into training and test set\n",
    "- define and train the LSTM model\n",
    "- Evaluate the model"
   ]
  },
  {
   "cell_type": "code",
   "execution_count": 82,
   "id": "d4f262c0",
   "metadata": {},
   "outputs": [],
   "source": [
    "import numpy as np\n",
    "from keras.preprocessing.text import Tokenizer\n",
    "from keras.preprocessing.sequence import pad_sequences\n",
    "from keras.models import Sequential\n",
    "from keras.layers import LSTM, Dense, Embedding\n",
    "from sklearn.model_selection import train_test_split"
   ]
  },
  {
   "cell_type": "markdown",
   "id": "5f544b06",
   "metadata": {},
   "source": [
    "### LSTM FOR TEXTBLOB SENTIMENT"
   ]
  },
  {
   "cell_type": "code",
   "execution_count": 87,
   "id": "b057b5db",
   "metadata": {},
   "outputs": [],
   "source": [
    "#tokenize the preprocessed text\n",
    "tokenizer = Tokenizer()\n",
    "tokenizer.fit_on_texts(df['preprocessed_text'])\n",
    "sequences = tokenizer.texts_to_sequences(df['preprocessed_text'])"
   ]
  },
  {
   "cell_type": "code",
   "execution_count": 121,
   "id": "e8d81cc6",
   "metadata": {},
   "outputs": [
    {
     "name": "stdout",
     "output_type": "stream",
     "text": [
      "Maximum sequence length: 37\n"
     ]
    }
   ],
   "source": [
    "#Find the maximum sequence length\n",
    "max_sequence_length = max(len(seq) for seq in sequences)\n",
    "\n",
    "print(\"Maximum sequence length:\", max_sequence_length)"
   ]
  },
  {
   "cell_type": "code",
   "execution_count": 122,
   "id": "580d9306",
   "metadata": {},
   "outputs": [],
   "source": [
    "#Prepare the data for training with label encoder\n",
    "max_len = 37  # Max sequence length\n",
    "X_label = pad_sequences(sequences, maxlen=max_len)\n",
    "y_label = df2['label_text_encoded'].values"
   ]
  },
  {
   "cell_type": "code",
   "execution_count": 123,
   "id": "b9653125",
   "metadata": {},
   "outputs": [
    {
     "name": "stdout",
     "output_type": "stream",
     "text": [
      "[[   0    0    0 ... 9052 1724    2]\n",
      " [   0    0    0 ...   12  179 1069]\n",
      " [   0    0    0 ...  369    6 2984]\n",
      " ...\n",
      " [   0    0    0 ...  954 2414   49]\n",
      " [   0    0    0 ... 1359   36   66]\n",
      " [   0    0    0 ...   99  104 1321]]\n"
     ]
    }
   ],
   "source": [
    "print(X_label)"
   ]
  },
  {
   "cell_type": "code",
   "execution_count": 124,
   "id": "1a892365",
   "metadata": {},
   "outputs": [
    {
     "name": "stdout",
     "output_type": "stream",
     "text": [
      "[2 1 2 ... 0 2 2]\n"
     ]
    }
   ],
   "source": [
    "print(y_label)"
   ]
  },
  {
   "cell_type": "code",
   "execution_count": 125,
   "id": "ac06be1c",
   "metadata": {},
   "outputs": [
    {
     "data": {
      "text/plain": [
       "(1600000, 37)"
      ]
     },
     "execution_count": 125,
     "metadata": {},
     "output_type": "execute_result"
    }
   ],
   "source": [
    "X_label.shape"
   ]
  },
  {
   "cell_type": "code",
   "execution_count": 126,
   "id": "491dc735",
   "metadata": {},
   "outputs": [
    {
     "data": {
      "text/plain": [
       "(1600000,)"
      ]
     },
     "execution_count": 126,
     "metadata": {},
     "output_type": "execute_result"
    }
   ],
   "source": [
    "y_label.shape"
   ]
  },
  {
   "cell_type": "code",
   "execution_count": null,
   "id": "09d21f11",
   "metadata": {},
   "outputs": [],
   "source": [
    "from imblearn.over_sampling import SMOTE\n",
    "\n",
    "# Initialize SMOTE\n",
    "smote = SMOTE(random_state=42)\n",
    "\n",
    "# Resample the data using SMOTE\n",
    "X_resampled, y_resampled = smote.fit_resample(X_label, y_label)\n"
   ]
  },
  {
   "cell_type": "code",
   "execution_count": 127,
   "id": "40ecfa14",
   "metadata": {},
   "outputs": [
    {
     "data": {
      "text/plain": [
       "((1280000, 37), (320000, 37), (1280000,), (320000,))"
      ]
     },
     "execution_count": 127,
     "metadata": {},
     "output_type": "execute_result"
    }
   ],
   "source": [
    "#Split the data into training and testing sets\n",
    "X_train, X_test, y_train, y_test = train_test_split(X_label, y_label, test_size=0.2, random_state=42)\n",
    "X_train.shape, X_test.shape, y_train.shape,y_test.shape"
   ]
  },
  {
   "cell_type": "code",
   "execution_count": 128,
   "id": "d970a556",
   "metadata": {},
   "outputs": [
    {
     "name": "stdout",
     "output_type": "stream",
     "text": [
      "X_train dtype: int32\n",
      "y_train dtype: int32\n"
     ]
    }
   ],
   "source": [
    "print(\"X_train dtype:\", X_train.dtype)\n",
    "print(\"y_train dtype:\", y_train.dtype)"
   ]
  },
  {
   "cell_type": "code",
   "execution_count": 129,
   "id": "a4f304d4",
   "metadata": {},
   "outputs": [],
   "source": [
    "from sklearn.model_selection import train_test_split\n",
    "from sklearn.utils.class_weight import compute_class_weight\n",
    "from tensorflow.keras.preprocessing.sequence import pad_sequences\n",
    "from tensorflow.keras.models import Sequential\n",
    "from tensorflow.keras.layers import Embedding, LSTM, Dense, SpatialDropout1D\n",
    "from tensorflow.keras.utils import to_categorical\n",
    "import numpy as np"
   ]
  },
  {
   "cell_type": "code",
   "execution_count": null,
   "id": "c4308a3b",
   "metadata": {},
   "outputs": [],
   "source": []
  },
  {
   "cell_type": "code",
   "execution_count": 130,
   "id": "d7e7d122",
   "metadata": {},
   "outputs": [
    {
     "name": "stdout",
     "output_type": "stream",
     "text": [
      "Model: \"sequential_2\"\n",
      "_________________________________________________________________\n",
      " Layer (type)                Output Shape              Param #   \n",
      "=================================================================\n",
      " embedding_1 (Embedding)     (None, 37, 128)           55743360  \n",
      "                                                                 \n",
      " spatial_dropout1d_1 (Spati  (None, 37, 128)           0         \n",
      " alDropout1D)                                                    \n",
      "                                                                 \n",
      " lstm_2 (LSTM)               (None, 37, 128)           131584    \n",
      "                                                                 \n",
      " lstm_3 (LSTM)               (None, 64)                49408     \n",
      "                                                                 \n",
      " dense_1 (Dense)             (None, 3)                 195       \n",
      "                                                                 \n",
      "=================================================================\n",
      "Total params: 55924547 (213.34 MB)\n",
      "Trainable params: 55924547 (213.34 MB)\n",
      "Non-trainable params: 0 (0.00 Byte)\n",
      "_________________________________________________________________\n"
     ]
    }
   ],
   "source": [
    "from tensorflow.keras.layers import SpatialDropout1D\n",
    "\n",
    "# Define and train the LSTM model\n",
    "model = Sequential()\n",
    "model.add(Embedding(input_dim=len(tokenizer.word_index) + 1, output_dim=128, input_length=max_len))\n",
    "model.add(SpatialDropout1D(0.2))  # Adding Spatial Dropout for better regularization\n",
    "model.add(LSTM(128, dropout=0.2, recurrent_dropout=0.2, return_sequences=True))  # Return sequences to stack LSTM layers\n",
    "model.add(LSTM(64, dropout=0.2, recurrent_dropout=0.2))\n",
    "model.add(Dense(3, activation='softmax'))  # Output layer with 3 units for 3 sentiment classes\n",
    "\n",
    "# Compiling the model\n",
    "model.compile(loss='categorical_crossentropy', optimizer='adam', metrics=['accuracy'])\n",
    "model.summary()"
   ]
  },
  {
   "cell_type": "code",
   "execution_count": null,
   "id": "c7cfdf72",
   "metadata": {},
   "outputs": [],
   "source": [
    "# Training the model\n",
    "history = model.fit(X_train, y_train, epochs=10, batch_size=128, validation_split=0.2)\n"
   ]
  },
  {
   "cell_type": "code",
   "execution_count": 92,
   "id": "d5e9cedb",
   "metadata": {},
   "outputs": [
    {
     "name": "stdout",
     "output_type": "stream",
     "text": [
      "Epoch 1/10\n",
      "6400/6400 [==============================] - 7595s 1s/step - loss: 0.0661 - accuracy: 0.9784 - val_loss: 0.0275 - val_accuracy: 0.9916\n",
      "Epoch 2/10\n",
      "2728/6400 [===========>..................] - ETA: 4:21:28 - loss: 0.0217 - accuracy: 0.9930"
     ]
    },
    {
     "name": "stderr",
     "output_type": "stream",
     "text": [
      "Exception ignored in: <function AtomicFunction.__del__ at 0x00000257EA8F1080>\n",
      "Traceback (most recent call last):\n",
      "  File \"C:\\Users\\Diana\\anaconda3\\Lib\\site-packages\\tensorflow\\python\\eager\\polymorphic_function\\atomic_function.py\", line 282, in __del__\n",
      "  File \"C:\\Users\\Diana\\anaconda3\\Lib\\site-packages\\tensorflow\\python\\eager\\context.py\", line 1464, in function_scope_id\n",
      "KeyboardInterrupt: \n"
     ]
    },
    {
     "ename": "KeyboardInterrupt",
     "evalue": "",
     "output_type": "error",
     "traceback": [
      "\u001b[1;31m---------------------------------------------------------------------------\u001b[0m",
      "\u001b[1;31mKeyboardInterrupt\u001b[0m                         Traceback (most recent call last)",
      "Cell \u001b[1;32mIn[92], line 3\u001b[0m\n\u001b[0;32m      1\u001b[0m \u001b[38;5;66;03m#Model compilation and training\u001b[39;00m\n\u001b[0;32m      2\u001b[0m model\u001b[38;5;241m.\u001b[39mcompile(loss\u001b[38;5;241m=\u001b[39m\u001b[38;5;124m'\u001b[39m\u001b[38;5;124msparse_categorical_crossentropy\u001b[39m\u001b[38;5;124m'\u001b[39m, optimizer\u001b[38;5;241m=\u001b[39m\u001b[38;5;124m'\u001b[39m\u001b[38;5;124madam\u001b[39m\u001b[38;5;124m'\u001b[39m, metrics\u001b[38;5;241m=\u001b[39m[\u001b[38;5;124m'\u001b[39m\u001b[38;5;124maccuracy\u001b[39m\u001b[38;5;124m'\u001b[39m])\n\u001b[1;32m----> 3\u001b[0m model\u001b[38;5;241m.\u001b[39mfit(X_train, y_train, batch_size\u001b[38;5;241m=\u001b[39m\u001b[38;5;241m200\u001b[39m, epochs\u001b[38;5;241m=\u001b[39m\u001b[38;5;241m10\u001b[39m, validation_data\u001b[38;5;241m=\u001b[39m(X_test, y_test))\n",
      "File \u001b[1;32m~\\anaconda3\\Lib\\site-packages\\keras\\src\\utils\\traceback_utils.py:65\u001b[0m, in \u001b[0;36mfilter_traceback.<locals>.error_handler\u001b[1;34m(*args, **kwargs)\u001b[0m\n\u001b[0;32m     63\u001b[0m filtered_tb \u001b[38;5;241m=\u001b[39m \u001b[38;5;28;01mNone\u001b[39;00m\n\u001b[0;32m     64\u001b[0m \u001b[38;5;28;01mtry\u001b[39;00m:\n\u001b[1;32m---> 65\u001b[0m     \u001b[38;5;28;01mreturn\u001b[39;00m fn(\u001b[38;5;241m*\u001b[39margs, \u001b[38;5;241m*\u001b[39m\u001b[38;5;241m*\u001b[39mkwargs)\n\u001b[0;32m     66\u001b[0m \u001b[38;5;28;01mexcept\u001b[39;00m \u001b[38;5;167;01mException\u001b[39;00m \u001b[38;5;28;01mas\u001b[39;00m e:\n\u001b[0;32m     67\u001b[0m     filtered_tb \u001b[38;5;241m=\u001b[39m _process_traceback_frames(e\u001b[38;5;241m.\u001b[39m__traceback__)\n",
      "File \u001b[1;32m~\\anaconda3\\Lib\\site-packages\\keras\\src\\engine\\training.py:1783\u001b[0m, in \u001b[0;36mModel.fit\u001b[1;34m(self, x, y, batch_size, epochs, verbose, callbacks, validation_split, validation_data, shuffle, class_weight, sample_weight, initial_epoch, steps_per_epoch, validation_steps, validation_batch_size, validation_freq, max_queue_size, workers, use_multiprocessing)\u001b[0m\n\u001b[0;32m   1775\u001b[0m \u001b[38;5;28;01mwith\u001b[39;00m tf\u001b[38;5;241m.\u001b[39mprofiler\u001b[38;5;241m.\u001b[39mexperimental\u001b[38;5;241m.\u001b[39mTrace(\n\u001b[0;32m   1776\u001b[0m     \u001b[38;5;124m\"\u001b[39m\u001b[38;5;124mtrain\u001b[39m\u001b[38;5;124m\"\u001b[39m,\n\u001b[0;32m   1777\u001b[0m     epoch_num\u001b[38;5;241m=\u001b[39mepoch,\n\u001b[1;32m   (...)\u001b[0m\n\u001b[0;32m   1780\u001b[0m     _r\u001b[38;5;241m=\u001b[39m\u001b[38;5;241m1\u001b[39m,\n\u001b[0;32m   1781\u001b[0m ):\n\u001b[0;32m   1782\u001b[0m     callbacks\u001b[38;5;241m.\u001b[39mon_train_batch_begin(step)\n\u001b[1;32m-> 1783\u001b[0m     tmp_logs \u001b[38;5;241m=\u001b[39m \u001b[38;5;28mself\u001b[39m\u001b[38;5;241m.\u001b[39mtrain_function(iterator)\n\u001b[0;32m   1784\u001b[0m     \u001b[38;5;28;01mif\u001b[39;00m data_handler\u001b[38;5;241m.\u001b[39mshould_sync:\n\u001b[0;32m   1785\u001b[0m         context\u001b[38;5;241m.\u001b[39masync_wait()\n",
      "File \u001b[1;32m~\\anaconda3\\Lib\\site-packages\\tensorflow\\python\\util\\traceback_utils.py:150\u001b[0m, in \u001b[0;36mfilter_traceback.<locals>.error_handler\u001b[1;34m(*args, **kwargs)\u001b[0m\n\u001b[0;32m    148\u001b[0m filtered_tb \u001b[38;5;241m=\u001b[39m \u001b[38;5;28;01mNone\u001b[39;00m\n\u001b[0;32m    149\u001b[0m \u001b[38;5;28;01mtry\u001b[39;00m:\n\u001b[1;32m--> 150\u001b[0m   \u001b[38;5;28;01mreturn\u001b[39;00m fn(\u001b[38;5;241m*\u001b[39margs, \u001b[38;5;241m*\u001b[39m\u001b[38;5;241m*\u001b[39mkwargs)\n\u001b[0;32m    151\u001b[0m \u001b[38;5;28;01mexcept\u001b[39;00m \u001b[38;5;167;01mException\u001b[39;00m \u001b[38;5;28;01mas\u001b[39;00m e:\n\u001b[0;32m    152\u001b[0m   filtered_tb \u001b[38;5;241m=\u001b[39m _process_traceback_frames(e\u001b[38;5;241m.\u001b[39m__traceback__)\n",
      "File \u001b[1;32m~\\anaconda3\\Lib\\site-packages\\tensorflow\\python\\eager\\polymorphic_function\\polymorphic_function.py:831\u001b[0m, in \u001b[0;36mFunction.__call__\u001b[1;34m(self, *args, **kwds)\u001b[0m\n\u001b[0;32m    828\u001b[0m compiler \u001b[38;5;241m=\u001b[39m \u001b[38;5;124m\"\u001b[39m\u001b[38;5;124mxla\u001b[39m\u001b[38;5;124m\"\u001b[39m \u001b[38;5;28;01mif\u001b[39;00m \u001b[38;5;28mself\u001b[39m\u001b[38;5;241m.\u001b[39m_jit_compile \u001b[38;5;28;01melse\u001b[39;00m \u001b[38;5;124m\"\u001b[39m\u001b[38;5;124mnonXla\u001b[39m\u001b[38;5;124m\"\u001b[39m\n\u001b[0;32m    830\u001b[0m \u001b[38;5;28;01mwith\u001b[39;00m OptionalXlaContext(\u001b[38;5;28mself\u001b[39m\u001b[38;5;241m.\u001b[39m_jit_compile):\n\u001b[1;32m--> 831\u001b[0m   result \u001b[38;5;241m=\u001b[39m \u001b[38;5;28mself\u001b[39m\u001b[38;5;241m.\u001b[39m_call(\u001b[38;5;241m*\u001b[39margs, \u001b[38;5;241m*\u001b[39m\u001b[38;5;241m*\u001b[39mkwds)\n\u001b[0;32m    833\u001b[0m new_tracing_count \u001b[38;5;241m=\u001b[39m \u001b[38;5;28mself\u001b[39m\u001b[38;5;241m.\u001b[39mexperimental_get_tracing_count()\n\u001b[0;32m    834\u001b[0m without_tracing \u001b[38;5;241m=\u001b[39m (tracing_count \u001b[38;5;241m==\u001b[39m new_tracing_count)\n",
      "File \u001b[1;32m~\\anaconda3\\Lib\\site-packages\\tensorflow\\python\\eager\\polymorphic_function\\polymorphic_function.py:867\u001b[0m, in \u001b[0;36mFunction._call\u001b[1;34m(self, *args, **kwds)\u001b[0m\n\u001b[0;32m    864\u001b[0m   \u001b[38;5;28mself\u001b[39m\u001b[38;5;241m.\u001b[39m_lock\u001b[38;5;241m.\u001b[39mrelease()\n\u001b[0;32m    865\u001b[0m   \u001b[38;5;66;03m# In this case we have created variables on the first call, so we run the\u001b[39;00m\n\u001b[0;32m    866\u001b[0m   \u001b[38;5;66;03m# defunned version which is guaranteed to never create variables.\u001b[39;00m\n\u001b[1;32m--> 867\u001b[0m   \u001b[38;5;28;01mreturn\u001b[39;00m tracing_compilation\u001b[38;5;241m.\u001b[39mcall_function(\n\u001b[0;32m    868\u001b[0m       args, kwds, \u001b[38;5;28mself\u001b[39m\u001b[38;5;241m.\u001b[39m_no_variable_creation_config\n\u001b[0;32m    869\u001b[0m   )\n\u001b[0;32m    870\u001b[0m \u001b[38;5;28;01melif\u001b[39;00m \u001b[38;5;28mself\u001b[39m\u001b[38;5;241m.\u001b[39m_variable_creation_config \u001b[38;5;129;01mis\u001b[39;00m \u001b[38;5;129;01mnot\u001b[39;00m \u001b[38;5;28;01mNone\u001b[39;00m:\n\u001b[0;32m    871\u001b[0m   \u001b[38;5;66;03m# Release the lock early so that multiple threads can perform the call\u001b[39;00m\n\u001b[0;32m    872\u001b[0m   \u001b[38;5;66;03m# in parallel.\u001b[39;00m\n\u001b[0;32m    873\u001b[0m   \u001b[38;5;28mself\u001b[39m\u001b[38;5;241m.\u001b[39m_lock\u001b[38;5;241m.\u001b[39mrelease()\n",
      "File \u001b[1;32m~\\anaconda3\\Lib\\site-packages\\tensorflow\\python\\eager\\polymorphic_function\\tracing_compilation.py:139\u001b[0m, in \u001b[0;36mcall_function\u001b[1;34m(args, kwargs, tracing_options)\u001b[0m\n\u001b[0;32m    137\u001b[0m bound_args \u001b[38;5;241m=\u001b[39m function\u001b[38;5;241m.\u001b[39mfunction_type\u001b[38;5;241m.\u001b[39mbind(\u001b[38;5;241m*\u001b[39margs, \u001b[38;5;241m*\u001b[39m\u001b[38;5;241m*\u001b[39mkwargs)\n\u001b[0;32m    138\u001b[0m flat_inputs \u001b[38;5;241m=\u001b[39m function\u001b[38;5;241m.\u001b[39mfunction_type\u001b[38;5;241m.\u001b[39munpack_inputs(bound_args)\n\u001b[1;32m--> 139\u001b[0m \u001b[38;5;28;01mreturn\u001b[39;00m function\u001b[38;5;241m.\u001b[39m_call_flat(  \u001b[38;5;66;03m# pylint: disable=protected-access\u001b[39;00m\n\u001b[0;32m    140\u001b[0m     flat_inputs, captured_inputs\u001b[38;5;241m=\u001b[39mfunction\u001b[38;5;241m.\u001b[39mcaptured_inputs\n\u001b[0;32m    141\u001b[0m )\n",
      "File \u001b[1;32m~\\anaconda3\\Lib\\site-packages\\tensorflow\\python\\eager\\polymorphic_function\\concrete_function.py:1264\u001b[0m, in \u001b[0;36mConcreteFunction._call_flat\u001b[1;34m(self, tensor_inputs, captured_inputs)\u001b[0m\n\u001b[0;32m   1260\u001b[0m possible_gradient_type \u001b[38;5;241m=\u001b[39m gradients_util\u001b[38;5;241m.\u001b[39mPossibleTapeGradientTypes(args)\n\u001b[0;32m   1261\u001b[0m \u001b[38;5;28;01mif\u001b[39;00m (possible_gradient_type \u001b[38;5;241m==\u001b[39m gradients_util\u001b[38;5;241m.\u001b[39mPOSSIBLE_GRADIENT_TYPES_NONE\n\u001b[0;32m   1262\u001b[0m     \u001b[38;5;129;01mand\u001b[39;00m executing_eagerly):\n\u001b[0;32m   1263\u001b[0m   \u001b[38;5;66;03m# No tape is watching; skip to running the function.\u001b[39;00m\n\u001b[1;32m-> 1264\u001b[0m   \u001b[38;5;28;01mreturn\u001b[39;00m \u001b[38;5;28mself\u001b[39m\u001b[38;5;241m.\u001b[39m_inference_function\u001b[38;5;241m.\u001b[39mflat_call(args)\n\u001b[0;32m   1265\u001b[0m forward_backward \u001b[38;5;241m=\u001b[39m \u001b[38;5;28mself\u001b[39m\u001b[38;5;241m.\u001b[39m_select_forward_and_backward_functions(\n\u001b[0;32m   1266\u001b[0m     args,\n\u001b[0;32m   1267\u001b[0m     possible_gradient_type,\n\u001b[0;32m   1268\u001b[0m     executing_eagerly)\n\u001b[0;32m   1269\u001b[0m forward_function, args_with_tangents \u001b[38;5;241m=\u001b[39m forward_backward\u001b[38;5;241m.\u001b[39mforward()\n",
      "File \u001b[1;32m~\\anaconda3\\Lib\\site-packages\\tensorflow\\python\\eager\\polymorphic_function\\atomic_function.py:217\u001b[0m, in \u001b[0;36mAtomicFunction.flat_call\u001b[1;34m(self, args)\u001b[0m\n\u001b[0;32m    215\u001b[0m \u001b[38;5;28;01mdef\u001b[39;00m \u001b[38;5;21mflat_call\u001b[39m(\u001b[38;5;28mself\u001b[39m, args: Sequence[core\u001b[38;5;241m.\u001b[39mTensor]) \u001b[38;5;241m-\u001b[39m\u001b[38;5;241m>\u001b[39m Any:\n\u001b[0;32m    216\u001b[0m \u001b[38;5;250m  \u001b[39m\u001b[38;5;124;03m\"\"\"Calls with tensor inputs and returns the structured output.\"\"\"\u001b[39;00m\n\u001b[1;32m--> 217\u001b[0m   flat_outputs \u001b[38;5;241m=\u001b[39m \u001b[38;5;28mself\u001b[39m(\u001b[38;5;241m*\u001b[39margs)\n\u001b[0;32m    218\u001b[0m   \u001b[38;5;28;01mreturn\u001b[39;00m \u001b[38;5;28mself\u001b[39m\u001b[38;5;241m.\u001b[39mfunction_type\u001b[38;5;241m.\u001b[39mpack_output(flat_outputs)\n",
      "File \u001b[1;32m~\\anaconda3\\Lib\\site-packages\\tensorflow\\python\\eager\\polymorphic_function\\atomic_function.py:252\u001b[0m, in \u001b[0;36mAtomicFunction.__call__\u001b[1;34m(self, *args)\u001b[0m\n\u001b[0;32m    250\u001b[0m \u001b[38;5;28;01mwith\u001b[39;00m record\u001b[38;5;241m.\u001b[39mstop_recording():\n\u001b[0;32m    251\u001b[0m   \u001b[38;5;28;01mif\u001b[39;00m \u001b[38;5;28mself\u001b[39m\u001b[38;5;241m.\u001b[39m_bound_context\u001b[38;5;241m.\u001b[39mexecuting_eagerly():\n\u001b[1;32m--> 252\u001b[0m     outputs \u001b[38;5;241m=\u001b[39m \u001b[38;5;28mself\u001b[39m\u001b[38;5;241m.\u001b[39m_bound_context\u001b[38;5;241m.\u001b[39mcall_function(\n\u001b[0;32m    253\u001b[0m         \u001b[38;5;28mself\u001b[39m\u001b[38;5;241m.\u001b[39mname,\n\u001b[0;32m    254\u001b[0m         \u001b[38;5;28mlist\u001b[39m(args),\n\u001b[0;32m    255\u001b[0m         \u001b[38;5;28mlen\u001b[39m(\u001b[38;5;28mself\u001b[39m\u001b[38;5;241m.\u001b[39mfunction_type\u001b[38;5;241m.\u001b[39mflat_outputs),\n\u001b[0;32m    256\u001b[0m     )\n\u001b[0;32m    257\u001b[0m   \u001b[38;5;28;01melse\u001b[39;00m:\n\u001b[0;32m    258\u001b[0m     outputs \u001b[38;5;241m=\u001b[39m make_call_op_in_graph(\n\u001b[0;32m    259\u001b[0m         \u001b[38;5;28mself\u001b[39m,\n\u001b[0;32m    260\u001b[0m         \u001b[38;5;28mlist\u001b[39m(args),\n\u001b[0;32m    261\u001b[0m         \u001b[38;5;28mself\u001b[39m\u001b[38;5;241m.\u001b[39m_bound_context\u001b[38;5;241m.\u001b[39mfunction_call_options\u001b[38;5;241m.\u001b[39mas_attrs(),\n\u001b[0;32m    262\u001b[0m     )\n",
      "File \u001b[1;32m~\\anaconda3\\Lib\\site-packages\\tensorflow\\python\\eager\\context.py:1479\u001b[0m, in \u001b[0;36mContext.call_function\u001b[1;34m(self, name, tensor_inputs, num_outputs)\u001b[0m\n\u001b[0;32m   1477\u001b[0m cancellation_context \u001b[38;5;241m=\u001b[39m cancellation\u001b[38;5;241m.\u001b[39mcontext()\n\u001b[0;32m   1478\u001b[0m \u001b[38;5;28;01mif\u001b[39;00m cancellation_context \u001b[38;5;129;01mis\u001b[39;00m \u001b[38;5;28;01mNone\u001b[39;00m:\n\u001b[1;32m-> 1479\u001b[0m   outputs \u001b[38;5;241m=\u001b[39m execute\u001b[38;5;241m.\u001b[39mexecute(\n\u001b[0;32m   1480\u001b[0m       name\u001b[38;5;241m.\u001b[39mdecode(\u001b[38;5;124m\"\u001b[39m\u001b[38;5;124mutf-8\u001b[39m\u001b[38;5;124m\"\u001b[39m),\n\u001b[0;32m   1481\u001b[0m       num_outputs\u001b[38;5;241m=\u001b[39mnum_outputs,\n\u001b[0;32m   1482\u001b[0m       inputs\u001b[38;5;241m=\u001b[39mtensor_inputs,\n\u001b[0;32m   1483\u001b[0m       attrs\u001b[38;5;241m=\u001b[39mattrs,\n\u001b[0;32m   1484\u001b[0m       ctx\u001b[38;5;241m=\u001b[39m\u001b[38;5;28mself\u001b[39m,\n\u001b[0;32m   1485\u001b[0m   )\n\u001b[0;32m   1486\u001b[0m \u001b[38;5;28;01melse\u001b[39;00m:\n\u001b[0;32m   1487\u001b[0m   outputs \u001b[38;5;241m=\u001b[39m execute\u001b[38;5;241m.\u001b[39mexecute_with_cancellation(\n\u001b[0;32m   1488\u001b[0m       name\u001b[38;5;241m.\u001b[39mdecode(\u001b[38;5;124m\"\u001b[39m\u001b[38;5;124mutf-8\u001b[39m\u001b[38;5;124m\"\u001b[39m),\n\u001b[0;32m   1489\u001b[0m       num_outputs\u001b[38;5;241m=\u001b[39mnum_outputs,\n\u001b[1;32m   (...)\u001b[0m\n\u001b[0;32m   1493\u001b[0m       cancellation_manager\u001b[38;5;241m=\u001b[39mcancellation_context,\n\u001b[0;32m   1494\u001b[0m   )\n",
      "File \u001b[1;32m~\\anaconda3\\Lib\\site-packages\\tensorflow\\python\\eager\\execute.py:60\u001b[0m, in \u001b[0;36mquick_execute\u001b[1;34m(op_name, num_outputs, inputs, attrs, ctx, name)\u001b[0m\n\u001b[0;32m     53\u001b[0m   \u001b[38;5;66;03m# Convert any objects of type core_types.Tensor to Tensor.\u001b[39;00m\n\u001b[0;32m     54\u001b[0m   inputs \u001b[38;5;241m=\u001b[39m [\n\u001b[0;32m     55\u001b[0m       tensor_conversion_registry\u001b[38;5;241m.\u001b[39mconvert(t)\n\u001b[0;32m     56\u001b[0m       \u001b[38;5;28;01mif\u001b[39;00m \u001b[38;5;28misinstance\u001b[39m(t, core_types\u001b[38;5;241m.\u001b[39mTensor)\n\u001b[0;32m     57\u001b[0m       \u001b[38;5;28;01melse\u001b[39;00m t\n\u001b[0;32m     58\u001b[0m       \u001b[38;5;28;01mfor\u001b[39;00m t \u001b[38;5;129;01min\u001b[39;00m inputs\n\u001b[0;32m     59\u001b[0m   ]\n\u001b[1;32m---> 60\u001b[0m   tensors \u001b[38;5;241m=\u001b[39m pywrap_tfe\u001b[38;5;241m.\u001b[39mTFE_Py_Execute(ctx\u001b[38;5;241m.\u001b[39m_handle, device_name, op_name,\n\u001b[0;32m     61\u001b[0m                                       inputs, attrs, num_outputs)\n\u001b[0;32m     62\u001b[0m \u001b[38;5;28;01mexcept\u001b[39;00m core\u001b[38;5;241m.\u001b[39m_NotOkStatusException \u001b[38;5;28;01mas\u001b[39;00m e:\n\u001b[0;32m     63\u001b[0m   \u001b[38;5;28;01mif\u001b[39;00m name \u001b[38;5;129;01mis\u001b[39;00m \u001b[38;5;129;01mnot\u001b[39;00m \u001b[38;5;28;01mNone\u001b[39;00m:\n",
      "\u001b[1;31mKeyboardInterrupt\u001b[0m: "
     ]
    }
   ],
   "source": [
    "#Model compilation and training\n",
    "model.compile(loss='sparse_categorical_crossentropy', optimizer='adam', metrics=['accuracy'])\n",
    "model.fit(X_train, y_train, batch_size=200, epochs=10, validation_data=(X_test, y_test))"
   ]
  },
  {
   "cell_type": "code",
   "execution_count": 80,
   "id": "b576557b",
   "metadata": {},
   "outputs": [
    {
     "ename": "MemoryError",
     "evalue": "Unable to allocate 17.9 GiB for an array with shape (1600000, 3000) and data type int32",
     "output_type": "error",
     "traceback": [
      "\u001b[1;31m---------------------------------------------------------------------------\u001b[0m",
      "\u001b[1;31mMemoryError\u001b[0m                               Traceback (most recent call last)",
      "Cell \u001b[1;32mIn[80], line 10\u001b[0m\n\u001b[0;32m      8\u001b[0m \u001b[38;5;66;03m#Prepare the data for training\u001b[39;00m\n\u001b[0;32m      9\u001b[0m max_len \u001b[38;5;241m=\u001b[39m \u001b[38;5;241m3000\u001b[39m  \u001b[38;5;66;03m# Max sequence length\u001b[39;00m\n\u001b[1;32m---> 10\u001b[0m X \u001b[38;5;241m=\u001b[39m pad_sequences(sequences, maxlen\u001b[38;5;241m=\u001b[39mmax_len)\n\u001b[0;32m     11\u001b[0m y \u001b[38;5;241m=\u001b[39m df2[\u001b[38;5;124m'\u001b[39m\u001b[38;5;124mtextblob_sentiment\u001b[39m\u001b[38;5;124m'\u001b[39m]\u001b[38;5;241m.\u001b[39mvalues\n\u001b[0;32m     13\u001b[0m \u001b[38;5;66;03m#Split the data into training and testing sets\u001b[39;00m\n",
      "File \u001b[1;32m~\\anaconda3\\Lib\\site-packages\\keras\\src\\utils\\data_utils.py:1120\u001b[0m, in \u001b[0;36mpad_sequences\u001b[1;34m(sequences, maxlen, dtype, padding, truncating, value)\u001b[0m\n\u001b[0;32m   1113\u001b[0m \u001b[38;5;28;01mif\u001b[39;00m \u001b[38;5;28misinstance\u001b[39m(value, \u001b[38;5;28mstr\u001b[39m) \u001b[38;5;129;01mand\u001b[39;00m dtype \u001b[38;5;241m!=\u001b[39m \u001b[38;5;28mobject\u001b[39m \u001b[38;5;129;01mand\u001b[39;00m \u001b[38;5;129;01mnot\u001b[39;00m is_dtype_str:\n\u001b[0;32m   1114\u001b[0m     \u001b[38;5;28;01mraise\u001b[39;00m \u001b[38;5;167;01mValueError\u001b[39;00m(\n\u001b[0;32m   1115\u001b[0m         \u001b[38;5;124mf\u001b[39m\u001b[38;5;124m\"\u001b[39m\u001b[38;5;124m`dtype` \u001b[39m\u001b[38;5;132;01m{\u001b[39;00mdtype\u001b[38;5;132;01m}\u001b[39;00m\u001b[38;5;124m is not compatible with `value`\u001b[39m\u001b[38;5;124m'\u001b[39m\u001b[38;5;124ms type: \u001b[39m\u001b[38;5;124m\"\u001b[39m\n\u001b[0;32m   1116\u001b[0m         \u001b[38;5;124mf\u001b[39m\u001b[38;5;124m\"\u001b[39m\u001b[38;5;132;01m{\u001b[39;00m\u001b[38;5;28mtype\u001b[39m(value)\u001b[38;5;132;01m}\u001b[39;00m\u001b[38;5;130;01m\\n\u001b[39;00m\u001b[38;5;124mYou should set `dtype=object` for variable length \u001b[39m\u001b[38;5;124m\"\u001b[39m\n\u001b[0;32m   1117\u001b[0m         \u001b[38;5;124m\"\u001b[39m\u001b[38;5;124mstrings.\u001b[39m\u001b[38;5;124m\"\u001b[39m\n\u001b[0;32m   1118\u001b[0m     )\n\u001b[1;32m-> 1120\u001b[0m x \u001b[38;5;241m=\u001b[39m np\u001b[38;5;241m.\u001b[39mfull((num_samples, maxlen) \u001b[38;5;241m+\u001b[39m sample_shape, value, dtype\u001b[38;5;241m=\u001b[39mdtype)\n\u001b[0;32m   1121\u001b[0m \u001b[38;5;28;01mfor\u001b[39;00m idx, s \u001b[38;5;129;01min\u001b[39;00m \u001b[38;5;28menumerate\u001b[39m(sequences):\n\u001b[0;32m   1122\u001b[0m     \u001b[38;5;28;01mif\u001b[39;00m \u001b[38;5;129;01mnot\u001b[39;00m \u001b[38;5;28mlen\u001b[39m(s):\n",
      "File \u001b[1;32m~\\anaconda3\\Lib\\site-packages\\numpy\\core\\numeric.py:344\u001b[0m, in \u001b[0;36mfull\u001b[1;34m(shape, fill_value, dtype, order, like)\u001b[0m\n\u001b[0;32m    342\u001b[0m     fill_value \u001b[38;5;241m=\u001b[39m asarray(fill_value)\n\u001b[0;32m    343\u001b[0m     dtype \u001b[38;5;241m=\u001b[39m fill_value\u001b[38;5;241m.\u001b[39mdtype\n\u001b[1;32m--> 344\u001b[0m a \u001b[38;5;241m=\u001b[39m empty(shape, dtype, order)\n\u001b[0;32m    345\u001b[0m multiarray\u001b[38;5;241m.\u001b[39mcopyto(a, fill_value, casting\u001b[38;5;241m=\u001b[39m\u001b[38;5;124m'\u001b[39m\u001b[38;5;124munsafe\u001b[39m\u001b[38;5;124m'\u001b[39m)\n\u001b[0;32m    346\u001b[0m \u001b[38;5;28;01mreturn\u001b[39;00m a\n",
      "\u001b[1;31mMemoryError\u001b[0m: Unable to allocate 17.9 GiB for an array with shape (1600000, 3000) and data type int32"
     ]
    }
   ],
   "source": [
    "#Evaluate the model on the testing set\n",
    "loss, accuracy = model.evaluate(X_test, y_test)\n",
    "print('Test Accuracy:', accuracy)\n"
   ]
  },
  {
   "cell_type": "code",
   "execution_count": null,
   "id": "9ab45bd0",
   "metadata": {},
   "outputs": [],
   "source": [
    "#Check shape of train and test df\n",
    "train.shape, test.shape"
   ]
  },
  {
   "cell_type": "markdown",
   "id": "4a8be47a",
   "metadata": {},
   "source": [
    "# ONE -HOT ENCODING"
   ]
  },
  {
   "cell_type": "code",
   "execution_count": 94,
   "id": "05c7ee6e",
   "metadata": {},
   "outputs": [
    {
     "data": {
      "text/html": [
       "<div>\n",
       "<style scoped>\n",
       "    .dataframe tbody tr th:only-of-type {\n",
       "        vertical-align: middle;\n",
       "    }\n",
       "\n",
       "    .dataframe tbody tr th {\n",
       "        vertical-align: top;\n",
       "    }\n",
       "\n",
       "    .dataframe thead th {\n",
       "        text-align: right;\n",
       "    }\n",
       "</style>\n",
       "<table border=\"1\" class=\"dataframe\">\n",
       "  <thead>\n",
       "    <tr style=\"text-align: right;\">\n",
       "      <th></th>\n",
       "      <th>preprocessed_text</th>\n",
       "      <th>label_encoded</th>\n",
       "      <th>textblob_sentiment</th>\n",
       "      <th>Negative</th>\n",
       "      <th>Neutral</th>\n",
       "      <th>Positive</th>\n",
       "      <th>Negative</th>\n",
       "      <th>Neutral</th>\n",
       "      <th>Positive</th>\n",
       "    </tr>\n",
       "  </thead>\n",
       "  <tbody>\n",
       "    <tr>\n",
       "      <th>271</th>\n",
       "      <td>awww thats bummer shoulda got david carr third...</td>\n",
       "      <td>2</td>\n",
       "      <td>Positive</td>\n",
       "      <td>0.0</td>\n",
       "      <td>1.0</td>\n",
       "      <td>0.0</td>\n",
       "      <td>0</td>\n",
       "      <td>0</td>\n",
       "      <td>1</td>\n",
       "    </tr>\n",
       "    <tr>\n",
       "      <th>275</th>\n",
       "      <td>upset cant update facebook texting might cry r...</td>\n",
       "      <td>1</td>\n",
       "      <td>Neutral</td>\n",
       "      <td>0.0</td>\n",
       "      <td>1.0</td>\n",
       "      <td>0.0</td>\n",
       "      <td>0</td>\n",
       "      <td>1</td>\n",
       "      <td>0</td>\n",
       "    </tr>\n",
       "    <tr>\n",
       "      <th>277</th>\n",
       "      <td>dived many time ball managed save 50 rest go b...</td>\n",
       "      <td>2</td>\n",
       "      <td>Positive</td>\n",
       "      <td>0.0</td>\n",
       "      <td>0.0</td>\n",
       "      <td>1.0</td>\n",
       "      <td>0</td>\n",
       "      <td>0</td>\n",
       "      <td>1</td>\n",
       "    </tr>\n",
       "    <tr>\n",
       "      <th>279</th>\n",
       "      <td>whole body feel itchy like fire</td>\n",
       "      <td>2</td>\n",
       "      <td>Positive</td>\n",
       "      <td>0.0</td>\n",
       "      <td>0.0</td>\n",
       "      <td>1.0</td>\n",
       "      <td>0</td>\n",
       "      <td>0</td>\n",
       "      <td>1</td>\n",
       "    </tr>\n",
       "    <tr>\n",
       "      <th>281</th>\n",
       "      <td>behaving im mad cant see</td>\n",
       "      <td>0</td>\n",
       "      <td>Negative</td>\n",
       "      <td>1.0</td>\n",
       "      <td>0.0</td>\n",
       "      <td>0.0</td>\n",
       "      <td>1</td>\n",
       "      <td>0</td>\n",
       "      <td>0</td>\n",
       "    </tr>\n",
       "  </tbody>\n",
       "</table>\n",
       "</div>"
      ],
      "text/plain": [
       "                                     preprocessed_text  label_encoded  \\\n",
       "271  awww thats bummer shoulda got david carr third...              2   \n",
       "275  upset cant update facebook texting might cry r...              1   \n",
       "277  dived many time ball managed save 50 rest go b...              2   \n",
       "279                    whole body feel itchy like fire              2   \n",
       "281                           behaving im mad cant see              0   \n",
       "\n",
       "    textblob_sentiment  Negative  Neutral  Positive  Negative  Neutral  \\\n",
       "271           Positive       0.0      1.0       0.0         0        0   \n",
       "275            Neutral       0.0      1.0       0.0         0        1   \n",
       "277           Positive       0.0      0.0       1.0         0        0   \n",
       "279           Positive       0.0      0.0       1.0         0        0   \n",
       "281           Negative       1.0      0.0       0.0         1        0   \n",
       "\n",
       "     Positive  \n",
       "271         1  \n",
       "275         0  \n",
       "277         1  \n",
       "279         1  \n",
       "281         0  "
      ]
     },
     "execution_count": 94,
     "metadata": {},
     "output_type": "execute_result"
    }
   ],
   "source": [
    "one_hot = pd.get_dummies(df2[\"textblob_sentiment\"])\n",
    "df2 = pd.concat([df2, one_hot], axis=1)\n",
    "df2.head(5) "
   ]
  },
  {
   "cell_type": "code",
   "execution_count": 95,
   "id": "1de71e85",
   "metadata": {},
   "outputs": [
    {
     "data": {
      "text/html": [
       "<div>\n",
       "<style scoped>\n",
       "    .dataframe tbody tr th:only-of-type {\n",
       "        vertical-align: middle;\n",
       "    }\n",
       "\n",
       "    .dataframe tbody tr th {\n",
       "        vertical-align: top;\n",
       "    }\n",
       "\n",
       "    .dataframe thead th {\n",
       "        text-align: right;\n",
       "    }\n",
       "</style>\n",
       "<table border=\"1\" class=\"dataframe\">\n",
       "  <thead>\n",
       "    <tr style=\"text-align: right;\">\n",
       "      <th></th>\n",
       "      <th>preprocessed_text</th>\n",
       "      <th>label_encoded</th>\n",
       "      <th>textblob_sentiment</th>\n",
       "    </tr>\n",
       "  </thead>\n",
       "  <tbody>\n",
       "    <tr>\n",
       "      <th>271</th>\n",
       "      <td>awww thats bummer shoulda got david carr third...</td>\n",
       "      <td>2</td>\n",
       "      <td>Positive</td>\n",
       "    </tr>\n",
       "    <tr>\n",
       "      <th>275</th>\n",
       "      <td>upset cant update facebook texting might cry r...</td>\n",
       "      <td>1</td>\n",
       "      <td>Neutral</td>\n",
       "    </tr>\n",
       "    <tr>\n",
       "      <th>277</th>\n",
       "      <td>dived many time ball managed save 50 rest go b...</td>\n",
       "      <td>2</td>\n",
       "      <td>Positive</td>\n",
       "    </tr>\n",
       "    <tr>\n",
       "      <th>279</th>\n",
       "      <td>whole body feel itchy like fire</td>\n",
       "      <td>2</td>\n",
       "      <td>Positive</td>\n",
       "    </tr>\n",
       "    <tr>\n",
       "      <th>281</th>\n",
       "      <td>behaving im mad cant see</td>\n",
       "      <td>0</td>\n",
       "      <td>Negative</td>\n",
       "    </tr>\n",
       "  </tbody>\n",
       "</table>\n",
       "</div>"
      ],
      "text/plain": [
       "                                     preprocessed_text  label_encoded  \\\n",
       "271  awww thats bummer shoulda got david carr third...              2   \n",
       "275  upset cant update facebook texting might cry r...              1   \n",
       "277  dived many time ball managed save 50 rest go b...              2   \n",
       "279                    whole body feel itchy like fire              2   \n",
       "281                           behaving im mad cant see              0   \n",
       "\n",
       "    textblob_sentiment  \n",
       "271           Positive  \n",
       "275            Neutral  \n",
       "277           Positive  \n",
       "279           Positive  \n",
       "281           Negative  "
      ]
     },
     "execution_count": 95,
     "metadata": {},
     "output_type": "execute_result"
    }
   ],
   "source": [
    "# Drop all columns that are unused\n",
    "df2 = df[['preprocessed_text','label_encoded','textblob_sentiment']]\n",
    "\n",
    "# Display the resulting DataFrame\n",
    "df2.head(5)"
   ]
  },
  {
   "cell_type": "code",
   "execution_count": 97,
   "id": "01acc649",
   "metadata": {},
   "outputs": [
    {
     "data": {
      "text/html": [
       "<div>\n",
       "<style scoped>\n",
       "    .dataframe tbody tr th:only-of-type {\n",
       "        vertical-align: middle;\n",
       "    }\n",
       "\n",
       "    .dataframe tbody tr th {\n",
       "        vertical-align: top;\n",
       "    }\n",
       "\n",
       "    .dataframe thead th {\n",
       "        text-align: right;\n",
       "    }\n",
       "</style>\n",
       "<table border=\"1\" class=\"dataframe\">\n",
       "  <thead>\n",
       "    <tr style=\"text-align: right;\">\n",
       "      <th></th>\n",
       "      <th>preprocessed_text</th>\n",
       "      <th>label_encoded</th>\n",
       "      <th>textblob_sentiment</th>\n",
       "      <th>Negative</th>\n",
       "      <th>Neutral</th>\n",
       "      <th>Positive</th>\n",
       "    </tr>\n",
       "  </thead>\n",
       "  <tbody>\n",
       "    <tr>\n",
       "      <th>271</th>\n",
       "      <td>awww thats bummer shoulda got david carr third...</td>\n",
       "      <td>2</td>\n",
       "      <td>Positive</td>\n",
       "      <td>0</td>\n",
       "      <td>0</td>\n",
       "      <td>1</td>\n",
       "    </tr>\n",
       "    <tr>\n",
       "      <th>275</th>\n",
       "      <td>upset cant update facebook texting might cry r...</td>\n",
       "      <td>1</td>\n",
       "      <td>Neutral</td>\n",
       "      <td>0</td>\n",
       "      <td>1</td>\n",
       "      <td>0</td>\n",
       "    </tr>\n",
       "    <tr>\n",
       "      <th>277</th>\n",
       "      <td>dived many time ball managed save 50 rest go b...</td>\n",
       "      <td>2</td>\n",
       "      <td>Positive</td>\n",
       "      <td>0</td>\n",
       "      <td>0</td>\n",
       "      <td>1</td>\n",
       "    </tr>\n",
       "    <tr>\n",
       "      <th>279</th>\n",
       "      <td>whole body feel itchy like fire</td>\n",
       "      <td>2</td>\n",
       "      <td>Positive</td>\n",
       "      <td>0</td>\n",
       "      <td>0</td>\n",
       "      <td>1</td>\n",
       "    </tr>\n",
       "    <tr>\n",
       "      <th>281</th>\n",
       "      <td>behaving im mad cant see</td>\n",
       "      <td>0</td>\n",
       "      <td>Negative</td>\n",
       "      <td>1</td>\n",
       "      <td>0</td>\n",
       "      <td>0</td>\n",
       "    </tr>\n",
       "  </tbody>\n",
       "</table>\n",
       "</div>"
      ],
      "text/plain": [
       "                                     preprocessed_text  label_encoded  \\\n",
       "271  awww thats bummer shoulda got david carr third...              2   \n",
       "275  upset cant update facebook texting might cry r...              1   \n",
       "277  dived many time ball managed save 50 rest go b...              2   \n",
       "279                    whole body feel itchy like fire              2   \n",
       "281                           behaving im mad cant see              0   \n",
       "\n",
       "    textblob_sentiment  Negative  Neutral  Positive  \n",
       "271           Positive         0        0         1  \n",
       "275            Neutral         0        1         0  \n",
       "277           Positive         0        0         1  \n",
       "279           Positive         0        0         1  \n",
       "281           Negative         1        0         0  "
      ]
     },
     "execution_count": 97,
     "metadata": {},
     "output_type": "execute_result"
    }
   ],
   "source": [
    "one_hot = pd.get_dummies(df2[\"textblob_sentiment\"])\n",
    "df2 = pd.concat([df2, one_hot], axis=1)\n",
    "df2.head(5)"
   ]
  },
  {
   "cell_type": "code",
   "execution_count": 98,
   "id": "d8053806",
   "metadata": {},
   "outputs": [],
   "source": [
    "from sklearn.model_selection import train_test_split\n",
    "\n",
    "# Define features (X) and target (y)\n",
    "X = df2[\"preprocessed_text\"].values\n",
    "y = df.drop([\"preprocessed_text\", \"label_encoded\", \"textblob_sentiment\"], axis=1).values\n",
    "\n",
    "# Split the data into training and testing sets\n",
    "X_train, X_test, y_train, y_test = train_test_split(X, y, test_size=0.20, random_state=42)\n"
   ]
  },
  {
   "cell_type": "code",
   "execution_count": 99,
   "id": "b08d064c",
   "metadata": {},
   "outputs": [
    {
     "data": {
      "text/plain": [
       "((1280000,), (1280000, 28), (320000,), (320000, 28))"
      ]
     },
     "execution_count": 99,
     "metadata": {},
     "output_type": "execute_result"
    }
   ],
   "source": [
    "X_train.shape, y_train.shape, X_test.shape, y_test.shape"
   ]
  },
  {
   "cell_type": "code",
   "execution_count": 100,
   "id": "647a18a0",
   "metadata": {},
   "outputs": [],
   "source": [
    "vect = CountVectorizer()\n",
    "X_train = vect.fit_transform(X_train)\n",
    "X_test = vect.transform(X_test) "
   ]
  },
  {
   "cell_type": "code",
   "execution_count": 103,
   "id": "ca922eeb",
   "metadata": {},
   "outputs": [
    {
     "name": "stderr",
     "output_type": "stream",
     "text": [
      "[nltk_data] Downloading package stopwords to\n",
      "[nltk_data]     C:\\Users\\Diana\\AppData\\Roaming\\nltk_data...\n",
      "[nltk_data]   Package stopwords is already up-to-date!\n"
     ]
    }
   ],
   "source": [
    "import pandas as pd\n",
    "import numpy as np\n",
    "import seaborn as sns\n",
    "import re\n",
    "import string\n",
    "from string import punctuation\n",
    "import nltk\n",
    "from nltk.corpus import stopwords\n",
    "nltk.download(\"stopwords\")\n",
    "import matplotlib.pyplot as plt\n",
    "from sklearn.model_selection import train_test_split\n",
    "from sklearn.feature_extraction.text import CountVectorizer\n",
    "from sklearn.feature_extraction.text import TfidfTransformer\n",
    "import tensorflow as tf\n",
    "from tensorflow.keras.models import Sequential\n",
    "from tensorflow.keras.layers import Dense, Activation, Dropout\n",
    "from tensorflow.keras.callbacks import EarlyStopping"
   ]
  },
  {
   "cell_type": "code",
   "execution_count": 104,
   "id": "fdedc5dd",
   "metadata": {},
   "outputs": [
    {
     "ename": "MemoryError",
     "evalue": "Unable to allocate 3.46 TiB for an array with shape (1280000, 371686) and data type float64",
     "output_type": "error",
     "traceback": [
      "\u001b[1;31m---------------------------------------------------------------------------\u001b[0m",
      "\u001b[1;31mMemoryError\u001b[0m                               Traceback (most recent call last)",
      "Cell \u001b[1;32mIn[104], line 4\u001b[0m\n\u001b[0;32m      2\u001b[0m X_train \u001b[38;5;241m=\u001b[39m tfidf\u001b[38;5;241m.\u001b[39mfit_transform(X_train)\n\u001b[0;32m      3\u001b[0m X_test \u001b[38;5;241m=\u001b[39m tfidf\u001b[38;5;241m.\u001b[39mtransform(X_test)\n\u001b[1;32m----> 4\u001b[0m X_train \u001b[38;5;241m=\u001b[39m X_train\u001b[38;5;241m.\u001b[39mtoarray()\n\u001b[0;32m      5\u001b[0m X_test \u001b[38;5;241m=\u001b[39m X_test\u001b[38;5;241m.\u001b[39mtoarray()\n",
      "File \u001b[1;32m~\\anaconda3\\Lib\\site-packages\\scipy\\sparse\\_compressed.py:1051\u001b[0m, in \u001b[0;36m_cs_matrix.toarray\u001b[1;34m(self, order, out)\u001b[0m\n\u001b[0;32m   1049\u001b[0m \u001b[38;5;28;01mif\u001b[39;00m out \u001b[38;5;129;01mis\u001b[39;00m \u001b[38;5;28;01mNone\u001b[39;00m \u001b[38;5;129;01mand\u001b[39;00m order \u001b[38;5;129;01mis\u001b[39;00m \u001b[38;5;28;01mNone\u001b[39;00m:\n\u001b[0;32m   1050\u001b[0m     order \u001b[38;5;241m=\u001b[39m \u001b[38;5;28mself\u001b[39m\u001b[38;5;241m.\u001b[39m_swap(\u001b[38;5;124m'\u001b[39m\u001b[38;5;124mcf\u001b[39m\u001b[38;5;124m'\u001b[39m)[\u001b[38;5;241m0\u001b[39m]\n\u001b[1;32m-> 1051\u001b[0m out \u001b[38;5;241m=\u001b[39m \u001b[38;5;28mself\u001b[39m\u001b[38;5;241m.\u001b[39m_process_toarray_args(order, out)\n\u001b[0;32m   1052\u001b[0m \u001b[38;5;28;01mif\u001b[39;00m \u001b[38;5;129;01mnot\u001b[39;00m (out\u001b[38;5;241m.\u001b[39mflags\u001b[38;5;241m.\u001b[39mc_contiguous \u001b[38;5;129;01mor\u001b[39;00m out\u001b[38;5;241m.\u001b[39mflags\u001b[38;5;241m.\u001b[39mf_contiguous):\n\u001b[0;32m   1053\u001b[0m     \u001b[38;5;28;01mraise\u001b[39;00m \u001b[38;5;167;01mValueError\u001b[39;00m(\u001b[38;5;124m'\u001b[39m\u001b[38;5;124mOutput array must be C or F contiguous\u001b[39m\u001b[38;5;124m'\u001b[39m)\n",
      "File \u001b[1;32m~\\anaconda3\\Lib\\site-packages\\scipy\\sparse\\_base.py:1298\u001b[0m, in \u001b[0;36mspmatrix._process_toarray_args\u001b[1;34m(self, order, out)\u001b[0m\n\u001b[0;32m   1296\u001b[0m     \u001b[38;5;28;01mreturn\u001b[39;00m out\n\u001b[0;32m   1297\u001b[0m \u001b[38;5;28;01melse\u001b[39;00m:\n\u001b[1;32m-> 1298\u001b[0m     \u001b[38;5;28;01mreturn\u001b[39;00m np\u001b[38;5;241m.\u001b[39mzeros(\u001b[38;5;28mself\u001b[39m\u001b[38;5;241m.\u001b[39mshape, dtype\u001b[38;5;241m=\u001b[39m\u001b[38;5;28mself\u001b[39m\u001b[38;5;241m.\u001b[39mdtype, order\u001b[38;5;241m=\u001b[39morder)\n",
      "\u001b[1;31mMemoryError\u001b[0m: Unable to allocate 3.46 TiB for an array with shape (1280000, 371686) and data type float64"
     ]
    }
   ],
   "source": [
    "tfidf = TfidfTransformer()\n",
    "X_train = tfidf.fit_transform(X_train)\n",
    "X_test = tfidf.transform(X_test)\n",
    "X_train = X_train.toarray()\n",
    "X_test = X_test.toarray() "
   ]
  },
  {
   "cell_type": "code",
   "execution_count": null,
   "id": "fb7040f1",
   "metadata": {},
   "outputs": [],
   "source": []
  }
 ],
 "metadata": {
  "kernelspec": {
   "display_name": "Python 3 (ipykernel)",
   "language": "python",
   "name": "python3"
  },
  "language_info": {
   "codemirror_mode": {
    "name": "ipython",
    "version": 3
   },
   "file_extension": ".py",
   "mimetype": "text/x-python",
   "name": "python",
   "nbconvert_exporter": "python",
   "pygments_lexer": "ipython3",
   "version": "3.11.4"
  }
 },
 "nbformat": 4,
 "nbformat_minor": 5
}
