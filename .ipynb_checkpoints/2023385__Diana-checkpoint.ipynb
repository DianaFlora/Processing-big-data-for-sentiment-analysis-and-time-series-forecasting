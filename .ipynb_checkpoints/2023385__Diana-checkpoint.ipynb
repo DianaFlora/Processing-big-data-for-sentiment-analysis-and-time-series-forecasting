{
 "cells": [
  {
   "cell_type": "markdown",
   "id": "98a691eb-491c-4cbd-acfd-363055534da4",
   "metadata": {},
   "source": [
    "# TIME SERIES FORECASTING OF PROJECT TWEETS BIG DATA PROCESSED WITH SPARK AND STORED IN MONGODB"
   ]
  },
  {
   "cell_type": "markdown",
   "id": "74cf4c2b-41fe-4f80-a139-066374224315",
   "metadata": {},
   "source": [
    "# Dataset\n",
    "The dataste is a large dataset gleaned from the twitter API that is called ProjectTweets.csv.\n",
    "\n",
    "This dataset contains 1,600,000 tweets extracted using the twitter api. \n",
    "\n",
    "\n",
    "Content\n",
    "It contains the following 5 fields:\n",
    "- ids: The id of the tweet (eg. 4587)\n",
    "- date: the date of the tweet (eg. Sat May 16 23:58:44 UTC 2009)\n",
    "- flag: The query (eg. lyx). If there is no query, then this value is NO_QUERY.\n",
    "- user: the user that tweeted (eg. bobthebuilder)\n",
    "- text: the text of the tweet (eg. Lyx is cool)"
   ]
  },
  {
   "cell_type": "markdown",
   "id": "84c402ab-f73e-44fa-9bcb-3cd3686a1d6e",
   "metadata": {},
   "source": [
    "## Install all Required Libraries"
   ]
  },
  {
   "cell_type": "code",
   "execution_count": 1,
   "id": "05a43f76-594a-4b56-88e2-fa2bb26f45cd",
   "metadata": {
    "scrolled": true
   },
   "outputs": [],
   "source": [
    "import pandas as pd\n",
    "import matplotlib.pyplot as plt\n",
    "import numpy as np\n",
    "from pyspark.sql import SparkSession\n",
    "from pyspark.sql.functions import regexp_extract\n",
    "from pyspark.sql.functions import col, lower, regexp_replace, trim, split, udf\n",
    "from pyspark.sql.functions import isnull, to_timestamp\n",
    "from pyspark.sql.functions import udf\n",
    "from pyspark.sql.functions import to_timestamp\n",
    "from pyspark.sql.types import StructType, StringType, TimestampType\n",
    "from pyspark.sql.functions import col\n",
    "import warnings\n",
    "warnings.filterwarnings('ignore') # We can suppress the warnings"
   ]
  },
  {
   "cell_type": "code",
   "execution_count": 2,
   "id": "2e7dfddb-3db1-4417-8904-25e89ff1daf2",
   "metadata": {},
   "outputs": [],
   "source": [
    "# Creating a pyspark session connecting to mongodb\n",
    "uri = \"mongodb://172.17.0.8:27017/dianaCATwo.Tweets\"\n",
    "\n",
    "spark = SparkSession.builder.appName(\"Write into MongoDB\")\\\n",
    "    .config(\"spark.mongodb.input.uri\", uri)\\\n",
    "    .config(\"spark.mongodb.output.uri\", uri)\\\n",
    "    .config('spark.jars.packages','org.mongodb.spark:mongo-spark-connector_2.12:2.4.2')\\\n",
    "    .getOrCreate()"
   ]
  },
  {
   "cell_type": "code",
   "execution_count": 3,
   "id": "e1b77330-d443-4ce3-b6c4-2dd938b1284c",
   "metadata": {},
   "outputs": [
    {
     "data": {
      "text/html": [
       "\n",
       "            <div>\n",
       "                <p><b>SparkSession - in-memory</b></p>\n",
       "                \n",
       "        <div>\n",
       "            <p><b>SparkContext</b></p>\n",
       "\n",
       "            <p><a href=\"http://4dde10a4171c:4040\">Spark UI</a></p>\n",
       "\n",
       "            <dl>\n",
       "              <dt>Version</dt>\n",
       "                <dd><code>v3.5.1</code></dd>\n",
       "              <dt>Master</dt>\n",
       "                <dd><code>local[*]</code></dd>\n",
       "              <dt>AppName</dt>\n",
       "                <dd><code>Write into MongoDB</code></dd>\n",
       "            </dl>\n",
       "        </div>\n",
       "        \n",
       "            </div>\n",
       "        "
      ],
      "text/plain": [
       "<pyspark.sql.session.SparkSession at 0xffff45fb4090>"
      ]
     },
     "execution_count": 3,
     "metadata": {},
     "output_type": "execute_result"
    }
   ],
   "source": [
    "spark"
   ]
  },
  {
   "cell_type": "markdown",
   "id": "be404393-e422-421b-afb3-c7d4f3a4cb02",
   "metadata": {},
   "source": [
    "# Working with MongoDB Using SPark for Processing and Storing Project Tweets Dataset\n",
    "- Processing data in MongoDB involves performing the CRUD operations. This include:-\n",
    "- Creating/Inserting data in MongoDB\n",
    "- -Reading data from MongoDB\n",
    "- Updating data in MongoDB\n",
    "- Deleting data from MongoDB\n",
    "All this operations are performed by spark\n",
    "- After all this operations the processed data can be stored as a pandas/csv for further analysis"
   ]
  },
  {
   "cell_type": "markdown",
   "id": "31398c42-136d-4ff4-b665-0932e06a61f7",
   "metadata": {},
   "source": [
    "## Loading data from local machine to SParkSQL"
   ]
  },
  {
   "cell_type": "code",
   "execution_count": 4,
   "id": "55462fc4-56f4-4222-a185-b00572045103",
   "metadata": {},
   "outputs": [
    {
     "name": "stdout",
     "output_type": "stream",
     "text": [
      "root\n",
      " |-- PRIMARY KEY: string (nullable = true)\n",
      " |-- ID: string (nullable = true)\n",
      " |-- date: timestamp (nullable = true)\n",
      " |-- flag: string (nullable = true)\n",
      " |-- user: string (nullable = true)\n",
      " |-- text: string (nullable = true)\n",
      "\n",
      "+-----------+----------+-------------------+--------+---------------+--------------------+\n",
      "|PRIMARY KEY|        ID|               date|    flag|           user|                text|\n",
      "+-----------+----------+-------------------+--------+---------------+--------------------+\n",
      "|          0|1467810369|2009-04-07 05:19:45|NO_QUERY|_TheSpecialOne_|@switchfoot http:...|\n",
      "|          1|1467810672|2009-04-07 05:19:49|NO_QUERY|  scotthamilton|is upset that he ...|\n",
      "|          2|1467810917|2009-04-07 05:19:53|NO_QUERY|       mattycus|@Kenichan I dived...|\n",
      "|          3|1467811184|2009-04-07 05:19:57|NO_QUERY|        ElleCTF|my whole body fee...|\n",
      "|          4|1467811193|2009-04-07 05:19:57|NO_QUERY|         Karoli|@nationwideclass ...|\n",
      "+-----------+----------+-------------------+--------+---------------+--------------------+\n",
      "only showing top 5 rows\n",
      "\n"
     ]
    }
   ],
   "source": [
    "# Set legacy timeParserPolicy\n",
    "spark.conf.set(\"spark.sql.legacy.timeParserPolicy\", \"LEGACY\")\n",
    "\n",
    "# Define the schema for the csv file \n",
    "schema = StructType().add(\"_c0\", StringType(), True).add(\"_c1\", StringType(), True).add(\"_c2\", StringType(), True).add(\"_c3\", StringType(), True).add(\"_c4\", StringType(), True).add(\"_c5\", StringType(), True)\n",
    "\n",
    "# Read the CSV into a DataFrame called df\n",
    "df = spark.read.format(\"csv\").option(\"header\", False).schema(schema).load(\"file:///home/jovyan/Diana/ProjectTweets.csv\")\n",
    "\n",
    "# Rename the headers\n",
    "df = df.withColumnRenamed(\"_c0\", \"PRIMARY KEY\").withColumnRenamed(\"_c1\", \"ID\").withColumnRenamed(\"_c2\", \"date\").withColumnRenamed(\"_c3\", \"flag\").withColumnRenamed(\"_c4\", \"user\").withColumnRenamed(\"_c5\", \"text\")\n",
    "\n",
    "# Convert string date to TimestampType\n",
    "df = df.withColumn(\"date\", to_timestamp(df[\"date\"], \"EEE MMM dd HH:mm:ss zzzz yyyy\"))\n",
    "\n",
    "# Print schema\n",
    "df.printSchema()\n",
    "\n",
    "# Show DataFrame\n",
    "df.show(5)\n"
   ]
  },
  {
   "cell_type": "markdown",
   "id": "3cb8ff2d",
   "metadata": {},
   "source": [
    "# PERFORMING CRUD OPERATIONS"
   ]
  },
  {
   "cell_type": "markdown",
   "id": "566df067-a314-47b2-a4a4-ca03159f58c0",
   "metadata": {},
   "source": [
    "## Step One: Creating/Inserting the project tweets data from spark to MongoDB"
   ]
  },
  {
   "cell_type": "code",
   "execution_count": 5,
   "id": "d25ea7c1-ebd1-4d4a-88d9-a03a091d224e",
   "metadata": {},
   "outputs": [],
   "source": [
    "df.write.format(\"com.mongodb.spark.sql.DefaultSource\").mode(\"append\").option(\"uri\", uri).save()"
   ]
  },
  {
   "cell_type": "markdown",
   "id": "c1058c99-28db-47dd-9276-f51419737644",
   "metadata": {},
   "source": [
    "## Step Two: Reading/loading the Project tweets Data from MongoDB to SparkSQL Dataframe"
   ]
  },
  {
   "cell_type": "code",
   "execution_count": 6,
   "id": "d8e81c22-f29d-45c9-98bf-f2dcc2585c84",
   "metadata": {},
   "outputs": [
    {
     "name": "stdout",
     "output_type": "stream",
     "text": [
      "(1600000, 7)\n",
      "root\n",
      " |-- ID: string (nullable = true)\n",
      " |-- PRIMARY KEY: string (nullable = true)\n",
      " |-- _id: struct (nullable = true)\n",
      " |    |-- oid: string (nullable = true)\n",
      " |-- date: timestamp (nullable = true)\n",
      " |-- flag: string (nullable = true)\n",
      " |-- text: string (nullable = true)\n",
      " |-- user: string (nullable = true)\n",
      "\n",
      "+----------+-----------+--------------------+-------------------+--------+--------------------+------------+\n",
      "|        ID|PRIMARY KEY|                 _id|               date|    flag|                text|        user|\n",
      "+----------+-----------+--------------------+-------------------+--------+--------------------+------------+\n",
      "|1990436550|    1223636|{6640f2c548788c04...|2009-06-01 11:52:03|NO_QUERY|@karinhoegh  Didn...|        kmdk|\n",
      "|1990436582|    1223637|{6640f2c548788c04...|2009-06-01 11:52:03|NO_QUERY|Need more FPS.......|jflinchbaugh|\n",
      "|1990436614|    1223638|{6640f2c548788c04...|2009-06-01 11:52:04|NO_QUERY|@SteveOGallagher ...|   kittaykat|\n",
      "|1990436651|    1223639|{6640f2c548788c04...|2009-06-01 11:52:04|NO_QUERY|Can't wait for th...|       Mm_Ka|\n",
      "|1990436707|    1223640|{6640f2c548788c04...|2009-06-01 11:52:04|NO_QUERY|@nickayre Lol. Bu...| bryancheung|\n",
      "+----------+-----------+--------------------+-------------------+--------+--------------------+------------+\n",
      "only showing top 5 rows\n",
      "\n"
     ]
    }
   ],
   "source": [
    "from_mongo = spark.read.format('com.mongodb.spark.sql.DefaultSource').load()\n",
    "print((from_mongo.count(), len(from_mongo.columns)))\n",
    "from_mongo.printSchema()\n",
    "from_mongo.show(5)"
   ]
  },
  {
   "cell_type": "markdown",
   "id": "d90e3bdf-eed2-442b-815b-bf2375d0c84d",
   "metadata": {},
   "source": [
    "# EXPLORATORY DATA ANALYSIS\n",
    "EDA involved, the follwoing:-\n",
    "- Checking for duplicates\n",
    "- Checking for Missing data/dates"
   ]
  },
  {
   "cell_type": "markdown",
   "id": "e2fbf0a7-9366-41bc-9a1b-bff77cf5d2db",
   "metadata": {},
   "source": [
    "## i) Checking for Duplicates (based on ID, user and text)"
   ]
  },
  {
   "cell_type": "code",
   "execution_count": 7,
   "id": "1a032720-a556-4c8a-874d-0dc77a8b0f19",
   "metadata": {},
   "outputs": [
    {
     "name": "stdout",
     "output_type": "stream",
     "text": [
      "Duplicate rows based on user, date, and text:\n",
      "+---------------+-------------------+--------------------+-----+\n",
      "|           user|               date|                text|count|\n",
      "+---------------+-------------------+--------------------+-----+\n",
      "|    corewarrior|2009-05-18 14:15:43|#Chuck: Renewed! ...|    2|\n",
      "|   vanillabelle|2009-06-01 08:51:08|Wifi net connecti...|    2|\n",
      "| nyc_specialist|2009-06-06 14:17:20|@conchordgirl he ...|    2|\n",
      "|         jtjazz|2009-04-20 13:04:33|@goodenufmother  ...|    2|\n",
      "|       rdawkins|2009-04-20 14:34:42|Finally awake. Go...|    2|\n",
      "|         _maisy|2009-05-02 11:52:06|@lil_stephanie co...|    2|\n",
      "|     VixieManic|2009-05-10 13:58:39|Hopes you feel be...|    2|\n",
      "|        MsKelz7|2009-05-17 08:10:16|@RunwayJ I defini...|    2|\n",
      "|  Jeff_Hardyfan|2009-06-01 10:18:25|&quot;@mileycyrus...|    2|\n",
      "|PARISnHOLLYWOOD|2009-06-06 06:15:14|@OGOchoCinco okok...|    2|\n",
      "|  SweetestSin_S|2009-04-19 07:53:24|goodmorning every...|    2|\n",
      "|       HEYtasha|2009-04-19 16:10:16|watching law &amp...|    2|\n",
      "|  LAURENpoynter|2009-05-03 08:31:19|@tommcfly Ahhh, I...|    2|\n",
      "|   unwritten_99|2009-05-04 09:27:23|@RubyRose1 you mu...|    2|\n",
      "|  jessesgirl760|2009-05-29 05:47:00|I wish I was a gu...|    2|\n",
      "|         gillat|2009-05-31 03:49:24|@lizasperling exc...|    2|\n",
      "| iwouldbecallie|2009-05-31 12:51:18|@imightbedanni hi...|    2|\n",
      "|        limeice|2009-06-01 10:04:58|@ChitraChaudhuri ...|    2|\n",
      "|HarassmentPanda|2009-06-02 08:48:43|@TheSims3 Not for...|    2|\n",
      "|      thisisjoo|2009-06-03 12:12:04|@ekaa17 @Mawiyel3...|    2|\n",
      "+---------------+-------------------+--------------------+-----+\n",
      "only showing top 20 rows\n",
      "\n"
     ]
    }
   ],
   "source": [
    "from pyspark.sql.functions import col\n",
    "\n",
    "#Check for duplicates based on user, date, and text\n",
    "duplicates = df.groupBy(\"user\", \"date\", \"text\").count().where(col(\"count\") > 1)\n",
    "\n",
    "if duplicates.count() > 0:\n",
    "    print(\"Duplicate rows based on user, date, and text:\")\n",
    "    duplicates.show()\n",
    "else:\n",
    "    print(\"No duplicates found.\")"
   ]
  },
  {
   "cell_type": "code",
   "execution_count": 8,
   "id": "959719f2-4aec-4cd3-ab38-7bf46487722a",
   "metadata": {},
   "outputs": [],
   "source": [
    "#Count the total number of duplicates\n",
    "total_duplicates = duplicates.count()"
   ]
  },
  {
   "cell_type": "code",
   "execution_count": 9,
   "id": "a2078e25-ced8-493d-ba77-ead8c5fa22de",
   "metadata": {},
   "outputs": [
    {
     "name": "stdout",
     "output_type": "stream",
     "text": [
      "1865\n"
     ]
    }
   ],
   "source": [
    "#Print the number of duplicates\n",
    "print(total_duplicates)"
   ]
  },
  {
   "cell_type": "markdown",
   "id": "043b95ba-2e97-4381-91a4-9de78b82ab44",
   "metadata": {},
   "source": [
    "## ii) Checking for missing data\n",
    "Checking missing data involves:-\n",
    "- checking if the dates have any missing dates\n",
    "- check if the other variables have missing data"
   ]
  },
  {
   "cell_type": "markdown",
   "id": "220e7e35-7250-4930-b083-540ef048cfe8",
   "metadata": {},
   "source": [
    "### Checking missing dates"
   ]
  },
  {
   "cell_type": "code",
   "execution_count": 10,
   "id": "be2e8074-6e1a-4af7-954c-9c76c5a4280d",
   "metadata": {},
   "outputs": [
    {
     "name": "stdout",
     "output_type": "stream",
     "text": [
      "Number of missing dates: 72\n",
      "Actual missing dates:\n",
      "+-------------------+\n",
      "|               date|\n",
      "+-------------------+\n",
      "|2009-04-10 05:19:45|\n",
      "|2009-04-25 05:19:45|\n",
      "|2009-05-05 05:19:45|\n",
      "|2009-05-06 05:19:45|\n",
      "|2009-05-09 05:19:45|\n",
      "|2009-05-28 05:19:45|\n",
      "|2009-05-30 05:19:45|\n",
      "|2009-06-01 05:19:45|\n",
      "|2009-06-04 05:19:45|\n",
      "|2009-06-18 05:19:45|\n",
      "|2009-06-22 05:19:45|\n",
      "|2009-04-08 05:19:45|\n",
      "|2009-04-15 05:19:45|\n",
      "|2009-04-19 05:19:45|\n",
      "|2009-04-23 05:19:45|\n",
      "|2009-04-24 05:19:45|\n",
      "|2009-04-28 05:19:45|\n",
      "|2009-04-30 05:19:45|\n",
      "|2009-05-01 05:19:45|\n",
      "|2009-05-12 05:19:45|\n",
      "+-------------------+\n",
      "only showing top 20 rows\n",
      "\n"
     ]
    }
   ],
   "source": [
    "from pyspark.sql.functions import col, date_format\n",
    "from pyspark.sql.types import DateType\n",
    "from datetime import datetime, timedelta\n",
    "\n",
    "#Find min and max dates\n",
    "min_date = df.selectExpr(\"min(date)\").first()[0]\n",
    "max_date = df.selectExpr(\"max(date)\").first()[0]\n",
    "\n",
    "#Generate DataFrame with all dates within the range\n",
    "date_range = [min_date + timedelta(days=x) for x in range((max_date - min_date).days + 1)]\n",
    "date_df = spark.createDataFrame([(date,) for date in date_range], [\"date\"])\n",
    "\n",
    "# Left join with the original DataFrame to find missing dates\n",
    "missing_dates_df = date_df.join(df, \"date\", \"left_anti\")\n",
    "\n",
    "missing_dates_count = missing_dates_df.count()\n",
    "\n",
    "if missing_dates_count > 0:\n",
    "    print(\"Number of missing dates:\", missing_dates_count)\n",
    "    print(\"Actual missing dates:\")\n",
    "    missing_dates_df.show()\n",
    "else:\n",
    "    print(\"No missing dates found.\")\n"
   ]
  },
  {
   "cell_type": "code",
   "execution_count": 11,
   "id": "281b344b-c5f5-40af-87f2-5c4f40057947",
   "metadata": {},
   "outputs": [
    {
     "name": "stdout",
     "output_type": "stream",
     "text": [
      "Number of missing dates: 85\n",
      "Actual missing dates:\n",
      "+----------+\n",
      "|      date|\n",
      "+----------+\n",
      "|2009-04-10|\n",
      "|2009-04-13|\n",
      "|2009-04-17|\n",
      "|2009-04-18|\n",
      "|2009-04-21|\n",
      "|2009-04-26|\n",
      "|2009-04-27|\n",
      "|2009-04-28|\n",
      "|2009-05-07|\n",
      "|2009-05-11|\n",
      "|2009-05-14|\n",
      "|2009-05-15|\n",
      "|2009-05-17|\n",
      "|2009-05-18|\n",
      "|2009-05-20|\n",
      "|2009-05-21|\n",
      "|2009-05-23|\n",
      "|2009-05-24|\n",
      "|2009-05-26|\n",
      "|2009-05-27|\n",
      "+----------+\n",
      "only showing top 20 rows\n",
      "\n"
     ]
    }
   ],
   "source": [
    "from pyspark.sql.functions import col\n",
    "from pyspark.sql.types import DateType\n",
    "from datetime import datetime, timedelta\n",
    "\n",
    "# Define start date and end date\n",
    "start_date = datetime.strptime(\"2009-04-01\", \"%Y-%m-%d\").date()\n",
    "end_date = datetime.strptime(\"2009-06-30\", \"%Y-%m-%d\").date()\n",
    "\n",
    "# Generate DataFrame with all dates within the range\n",
    "date_range = [start_date + timedelta(days=x) for x in range((end_date - start_date).days + 1)]\n",
    "date_df = spark.createDataFrame([(date,) for date in date_range], [\"date\"])\n",
    "\n",
    "# Left join with the original DataFrame to find missing dates\n",
    "missing_dates_df = date_df.join(df, \"date\", \"left_anti\")\n",
    "\n",
    "missing_dates_count = missing_dates_df.count()\n",
    "\n",
    "if missing_dates_count > 0:\n",
    "    print(\"Number of missing dates:\", missing_dates_count)\n",
    "    print(\"Actual missing dates:\")\n",
    "    missing_dates_df.show()\n",
    "else:\n",
    "    print(\"No missing dates found.\")\n"
   ]
  },
  {
   "cell_type": "markdown",
   "id": "0434c55c-c286-4dc3-808d-2238fe7857aa",
   "metadata": {},
   "source": [
    "# EXTRACTING TIME COMPONENTS"
   ]
  },
  {
   "cell_type": "code",
   "execution_count": 12,
   "id": "fe21863a-1658-407e-911a-1fda5e8dde90",
   "metadata": {},
   "outputs": [],
   "source": [
    "from pyspark.sql.functions import year, month, dayofmonth, hour, minute, second\n",
    "\n",
    "\n",
    "#Initialize Spark Session\n",
    "spark = SparkSession.builder.appName(\"DateTime Visualization\").getOrCreate()\n",
    "\n",
    "# Extract relevant time components including hours, minutes, and seconds\n",
    "df = from_mongo.withColumn(\"year\", year(\"date\")).withColumn(\"month\", month(\"date\")).withColumn(\"day\", dayofmonth(\"date\")).withColumn(\"hour\", hour(\"date\")).withColumn(\"minute\", minute(\"date\")).withColumn(\"second\", second(\"date\"))\n",
    "\n",
    "# Aggregate data\n",
    "time_series_data = df.groupBy(\"date\",\"year\", \"month\", \"day\", \"hour\", \"minute\", \"second\").count().orderBy(\"year\", \"month\", \"day\", \"hour\", \"minute\", \"second\")"
   ]
  },
  {
   "cell_type": "code",
   "execution_count": 13,
   "id": "6abfb12d-a4e9-42f9-a369-0da22a65198c",
   "metadata": {},
   "outputs": [
    {
     "name": "stdout",
     "output_type": "stream",
     "text": [
      "+----------+-----------+--------------------+-------------------+--------+--------------------+------------+----+-----+---+----+------+------+\n",
      "|        ID|PRIMARY KEY|                 _id|               date|    flag|                text|        user|year|month|day|hour|minute|second|\n",
      "+----------+-----------+--------------------+-------------------+--------+--------------------+------------+----+-----+---+----+------+------+\n",
      "|1990436550|    1223636|{6640f2c548788c04...|2009-06-01 11:52:03|NO_QUERY|@karinhoegh  Didn...|        kmdk|2009|    6|  1|  11|    52|     3|\n",
      "|1990436582|    1223637|{6640f2c548788c04...|2009-06-01 11:52:03|NO_QUERY|Need more FPS.......|jflinchbaugh|2009|    6|  1|  11|    52|     3|\n",
      "|1990436614|    1223638|{6640f2c548788c04...|2009-06-01 11:52:04|NO_QUERY|@SteveOGallagher ...|   kittaykat|2009|    6|  1|  11|    52|     4|\n",
      "|1990436651|    1223639|{6640f2c548788c04...|2009-06-01 11:52:04|NO_QUERY|Can't wait for th...|       Mm_Ka|2009|    6|  1|  11|    52|     4|\n",
      "|1990436707|    1223640|{6640f2c548788c04...|2009-06-01 11:52:04|NO_QUERY|@nickayre Lol. Bu...| bryancheung|2009|    6|  1|  11|    52|     4|\n",
      "+----------+-----------+--------------------+-------------------+--------+--------------------+------------+----+-----+---+----+------+------+\n",
      "only showing top 5 rows\n",
      "\n"
     ]
    }
   ],
   "source": [
    "#View the df DataFrame after extracting time components\n",
    "df.show(5)"
   ]
  },
  {
   "cell_type": "code",
   "execution_count": 14,
   "id": "5f5ddeaa-d79e-4072-bc25-b5a199762d14",
   "metadata": {},
   "outputs": [
    {
     "name": "stdout",
     "output_type": "stream",
     "text": [
      "root\n",
      " |-- ID: string (nullable = true)\n",
      " |-- PRIMARY KEY: string (nullable = true)\n",
      " |-- _id: struct (nullable = true)\n",
      " |    |-- oid: string (nullable = true)\n",
      " |-- date: timestamp (nullable = true)\n",
      " |-- flag: string (nullable = true)\n",
      " |-- text: string (nullable = true)\n",
      " |-- user: string (nullable = true)\n",
      " |-- year: integer (nullable = true)\n",
      " |-- month: integer (nullable = true)\n",
      " |-- day: integer (nullable = true)\n",
      " |-- hour: integer (nullable = true)\n",
      " |-- minute: integer (nullable = true)\n",
      " |-- second: integer (nullable = true)\n",
      "\n"
     ]
    }
   ],
   "source": [
    "df.printSchema()"
   ]
  },
  {
   "cell_type": "code",
   "execution_count": 15,
   "id": "7bdc1db1-372d-4a9c-b0d6-f349f16c28d7",
   "metadata": {},
   "outputs": [
    {
     "name": "stdout",
     "output_type": "stream",
     "text": [
      "+----+-------+\n",
      "|year|  count|\n",
      "+----+-------+\n",
      "|2009|1600000|\n",
      "+----+-------+\n",
      "\n"
     ]
    }
   ],
   "source": [
    "from pyspark.sql.functions import count\n",
    "\n",
    "# Group by the year variable and count the occurrences\n",
    "year_counts = df.groupBy(\"year\").agg(count(\"*\").alias(\"count\")).orderBy(\"year\")\n",
    "\n",
    "# Show the tabulated counts\n",
    "year_counts.show()"
   ]
  },
  {
   "cell_type": "code",
   "execution_count": 16,
   "id": "8fd43d47-9889-4b8a-bd4c-0d21769af583",
   "metadata": {},
   "outputs": [
    {
     "name": "stdout",
     "output_type": "stream",
     "text": [
      "+-----+------+\n",
      "|month| count|\n",
      "+-----+------+\n",
      "|    4|100025|\n",
      "|    5|559073|\n",
      "|    6|940902|\n",
      "+-----+------+\n",
      "\n"
     ]
    }
   ],
   "source": [
    "from pyspark.sql.functions import count\n",
    "\n",
    "# Group by the month variable and count the occurrences\n",
    "month_counts = df.groupBy(\"month\").agg(count(\"*\").alias(\"count\")).orderBy(\"month\")\n",
    "\n",
    "# Show the tabulated counts\n",
    "month_counts.show()"
   ]
  },
  {
   "cell_type": "code",
   "execution_count": 17,
   "id": "acf0b81c-185e-4e34-9015-bfa8daf9ff9b",
   "metadata": {},
   "outputs": [
    {
     "name": "stdout",
     "output_type": "stream",
     "text": [
      "+-----+---+------+\n",
      "|month|day| count|\n",
      "+-----+---+------+\n",
      "|    4|  7| 20671|\n",
      "|    4| 18| 17154|\n",
      "|    4| 19| 32648|\n",
      "|    4| 20| 18447|\n",
      "|    4| 21| 11105|\n",
      "|    5|  2| 31096|\n",
      "|    5|  3| 26568|\n",
      "|    5|  4| 28300|\n",
      "|    5| 10| 31551|\n",
      "|    5| 11|  6217|\n",
      "|    5| 12|  4186|\n",
      "|    5| 14| 21526|\n",
      "|    5| 17| 41205|\n",
      "|    5| 18| 44564|\n",
      "|    5| 22| 41206|\n",
      "|    5| 24|   169|\n",
      "|    5| 25|   169|\n",
      "|    5| 27| 11619|\n",
      "|    5| 29| 60227|\n",
      "|    5| 30|104484|\n",
      "+-----+---+------+\n",
      "only showing top 20 rows\n",
      "\n"
     ]
    }
   ],
   "source": [
    "from pyspark.sql.functions import count\n",
    "\n",
    "# Group by month and day and count the occurrences\n",
    "month_day_counts = df.groupBy(\"month\", \"day\").agg(count(\"*\").alias(\"count\")).orderBy(\"month\", \"day\")\n",
    "\n",
    "# Show the tabulated counts\n",
    "month_day_counts.show()"
   ]
  },
  {
   "cell_type": "code",
   "execution_count": 18,
   "id": "e5363f5b-5885-4097-8cb6-05ee4d0bea80",
   "metadata": {},
   "outputs": [
    {
     "data": {
      "text/plain": [
       "pyspark.sql.dataframe.DataFrame"
      ]
     },
     "execution_count": 18,
     "metadata": {},
     "output_type": "execute_result"
    }
   ],
   "source": [
    "#Check the df type\n",
    "type(df)"
   ]
  },
  {
   "cell_type": "code",
   "execution_count": 19,
   "id": "888f4542-a27e-4089-b039-42b85b778464",
   "metadata": {},
   "outputs": [
    {
     "name": "stdout",
     "output_type": "stream",
     "text": [
      "+----------+-----------+--------------------+-------------------+--------+--------------------+------------+----+-----+---+----+------+------+\n",
      "|        ID|PRIMARY KEY|                 _id|               date|    flag|                text|        user|year|month|day|hour|minute|second|\n",
      "+----------+-----------+--------------------+-------------------+--------+--------------------+------------+----+-----+---+----+------+------+\n",
      "|1990436550|    1223636|{6640f2c548788c04...|2009-06-01 11:52:03|NO_QUERY|@karinhoegh  Didn...|        kmdk|2009|    6|  1|  11|    52|     3|\n",
      "|1990436582|    1223637|{6640f2c548788c04...|2009-06-01 11:52:03|NO_QUERY|Need more FPS.......|jflinchbaugh|2009|    6|  1|  11|    52|     3|\n",
      "|1990436614|    1223638|{6640f2c548788c04...|2009-06-01 11:52:04|NO_QUERY|@SteveOGallagher ...|   kittaykat|2009|    6|  1|  11|    52|     4|\n",
      "|1990436651|    1223639|{6640f2c548788c04...|2009-06-01 11:52:04|NO_QUERY|Can't wait for th...|       Mm_Ka|2009|    6|  1|  11|    52|     4|\n",
      "|1990436707|    1223640|{6640f2c548788c04...|2009-06-01 11:52:04|NO_QUERY|@nickayre Lol. Bu...| bryancheung|2009|    6|  1|  11|    52|     4|\n",
      "+----------+-----------+--------------------+-------------------+--------+--------------------+------------+----+-----+---+----+------+------+\n",
      "only showing top 5 rows\n",
      "\n"
     ]
    }
   ],
   "source": [
    "#Check the first 5 observations\n",
    "df.show(5)"
   ]
  },
  {
   "cell_type": "code",
   "execution_count": 20,
   "id": "0c454c80-e4e2-4dc9-aa0a-24c70f313ed5",
   "metadata": {},
   "outputs": [],
   "source": [
    "#Drop the _id, ID and PRIMARY KEY\n",
    "df = df.drop(\"_id\", \"ID\", \"PRIMARY KEY\")"
   ]
  },
  {
   "cell_type": "code",
   "execution_count": 21,
   "id": "31d4a827-9c5c-40f1-ac43-113524c40842",
   "metadata": {
    "scrolled": true
   },
   "outputs": [
    {
     "name": "stdout",
     "output_type": "stream",
     "text": [
      "+-------------------+--------+--------------------+--------------+----+-----+---+----+------+------+\n",
      "|               date|    flag|                text|          user|year|month|day|hour|minute|second|\n",
      "+-------------------+--------+--------------------+--------------+----+-----+---+----+------+------+\n",
      "|2009-06-01 11:52:03|NO_QUERY|@karinhoegh  Didn...|          kmdk|2009|    6|  1|  11|    52|     3|\n",
      "|2009-06-01 11:52:03|NO_QUERY|Need more FPS.......|  jflinchbaugh|2009|    6|  1|  11|    52|     3|\n",
      "|2009-06-01 11:52:04|NO_QUERY|@SteveOGallagher ...|     kittaykat|2009|    6|  1|  11|    52|     4|\n",
      "|2009-06-01 11:52:04|NO_QUERY|Can't wait for th...|         Mm_Ka|2009|    6|  1|  11|    52|     4|\n",
      "|2009-06-01 11:52:04|NO_QUERY|@nickayre Lol. Bu...|   bryancheung|2009|    6|  1|  11|    52|     4|\n",
      "|2009-06-01 11:52:05|NO_QUERY|I love it when I ...|     videohive|2009|    6|  1|  11|    52|     5|\n",
      "|2009-06-01 11:52:05|NO_QUERY|http://twitpic.co...|    kayepintac|2009|    6|  1|  11|    52|     5|\n",
      "|2009-06-01 11:52:05|NO_QUERY|@STARBUCK_NOLA Wh...|    Dayewalker|2009|    6|  1|  11|    52|     5|\n",
      "|2009-06-01 11:52:06|NO_QUERY|Taking down the t...|         padrg|2009|    6|  1|  11|    52|     6|\n",
      "|2009-06-01 11:52:06|NO_QUERY|@Jon_W_Turner i k...|electronichaze|2009|    6|  1|  11|    52|     6|\n",
      "|2009-06-01 11:52:08|NO_QUERY|@freshleafdesign ...| runwaycrochet|2009|    6|  1|  11|    52|     8|\n",
      "|2009-06-01 11:52:08|NO_QUERY|ewan mcgregor is ...|      tiarrara|2009|    6|  1|  11|    52|     8|\n",
      "|2009-06-01 11:52:08|NO_QUERY|In the garden lis...|racheldohertyy|2009|    6|  1|  11|    52|     8|\n",
      "|2009-06-01 11:52:08|NO_QUERY|i go back and sta...| nananadelonge|2009|    6|  1|  11|    52|     8|\n",
      "|2009-06-01 11:52:08|NO_QUERY|       back to life |     Scorp2004|2009|    6|  1|  11|    52|     8|\n",
      "|2009-06-01 11:52:08|NO_QUERY|      power is back |           vpj|2009|    6|  1|  11|    52|     8|\n",
      "|2009-06-01 11:52:09|NO_QUERY|2hr drive to Ikea...|     curlydena|2009|    6|  1|  11|    52|     9|\n",
      "|2009-06-01 11:53:27|NO_QUERY|@MayaKibble1 june...| madyxjonas123|2009|    6|  1|  11|    53|    27|\n",
      "|2009-06-01 11:53:28|NO_QUERY|@MyMarrakesh BTW,...|      condontm|2009|    6|  1|  11|    53|    28|\n",
      "|2009-06-01 11:53:28|NO_QUERY|@mikejstott good ...|    KatConnell|2009|    6|  1|  11|    53|    28|\n",
      "+-------------------+--------+--------------------+--------------+----+-----+---+----+------+------+\n",
      "only showing top 20 rows\n",
      "\n"
     ]
    }
   ],
   "source": [
    "#Check if they variables have been dropped\n",
    "df.show()"
   ]
  },
  {
   "cell_type": "markdown",
   "id": "b9b49bf0-0140-4c92-83f3-21c15fce5d0c",
   "metadata": {},
   "source": [
    "# Step Three: Update the Processed data in MongoDB\n"
   ]
  },
  {
   "cell_type": "code",
   "execution_count": 22,
   "id": "96016b82-3370-48d0-8aaa-5d3436d4633c",
   "metadata": {},
   "outputs": [],
   "source": [
    "#Write the processed df to MongoDB (overwrite mode to update existing data)\n",
    "df.write.format(\"com.mongodb.spark.sql.DefaultSource\").mode(\"overwrite\").option(\"uri\", uri).save()"
   ]
  },
  {
   "cell_type": "markdown",
   "id": "30ecc310-b4f0-4cd9-912a-b8fc930f56c9",
   "metadata": {},
   "source": [
    "# Step Four: Delete data from MongoDB"
   ]
  },
  {
   "cell_type": "code",
   "execution_count": 23,
   "id": "42ded679-ee37-4a41-9515-c3e9d46c1296",
   "metadata": {},
   "outputs": [],
   "source": [
    "#Drop the year from the df\n",
    "variable_to_delete = \"year\"\n",
    "df = df.drop(variable_to_delete)\n",
    "\n",
    "#Write the modified df back to MongoDB\n",
    "df.write.format(\"com.mongodb.spark.sql.DefaultSource\").mode(\"overwrite\").option(\"uri\", uri).save()"
   ]
  },
  {
   "cell_type": "markdown",
   "id": "0fb62b62",
   "metadata": {},
   "source": [
    "# Save the df Dataframe as a Pandas"
   ]
  },
  {
   "cell_type": "code",
   "execution_count": 24,
   "id": "c1c79181-cf3f-4a96-b13e-250d46b8f9a4",
   "metadata": {},
   "outputs": [],
   "source": [
    "data = df.collect()"
   ]
  },
  {
   "cell_type": "code",
   "execution_count": 25,
   "id": "a3048845",
   "metadata": {},
   "outputs": [],
   "source": [
    "#import pandas as pd\n",
    "#Create pandas DataFrame from the list of rows\n",
    "pandas_df = pd.DataFrame(data)"
   ]
  },
  {
   "cell_type": "code",
   "execution_count": 26,
   "id": "5b8585ee",
   "metadata": {},
   "outputs": [],
   "source": [
    "pandas_df.columns = df.columns "
   ]
  },
  {
   "cell_type": "code",
   "execution_count": 27,
   "id": "4961add6",
   "metadata": {},
   "outputs": [],
   "source": [
    "#file path where you want to save the CSV file\n",
    "file_path = \"pandas_data.csv\"\n",
    "\n",
    "# Save the DataFrame to a CSV file\n",
    "pandas_df.to_csv(file_path)"
   ]
  },
  {
   "cell_type": "markdown",
   "id": "9de3abeb",
   "metadata": {},
   "source": [
    "# SENTIMENT ANALYSIS COMPARING VADER VS TEXTBLOB, THEN TIME SERIES FORECASTING"
   ]
  },
  {
   "cell_type": "markdown",
   "id": "e41f9433",
   "metadata": {},
   "source": [
    "## Text/Tweets Processing\n",
    "This includes the following steps:-\n",
    "- Read and Load the Dataset\n",
    "- Exploratory Data Analysis\n",
    "- Data Visualization of Target Variables\n",
    "- Data Preprocessing\n",
    "- Splitting our data into Train and Test sets.\n",
    "- Transforming Dataset using TF-IDF Vectorizer\n",
    "- Function for Model Evaluation\n",
    "- Model Building\n",
    "- Model Evaluation"
   ]
  },
  {
   "cell_type": "markdown",
   "id": "952284c1",
   "metadata": {},
   "source": [
    "# Read the pandas_data as a csv"
   ]
  },
  {
   "cell_type": "code",
   "execution_count": 1,
   "id": "888a458e",
   "metadata": {},
   "outputs": [],
   "source": [
    "import pandas as pd\n",
    "\n",
    "#Load the data\n",
    "df = pd.read_csv(\"C:/Users/Diana/Documents/Semester 2/sem two ca 2/pandas_data.csv\")"
   ]
  },
  {
   "cell_type": "markdown",
   "id": "995ce0cd",
   "metadata": {},
   "source": [
    "## Exploratory Data Analysis\n",
    "\n",
    "This process involves:-\n",
    "\n",
    "a) View the first and last few observations of the df dataframe\n",
    "\n",
    "b) View the number of observations and variables the df dataframe has\n",
    "\n",
    "c) View the entire df dataframe to check the data types and any missing data in a particluar variable.\n",
    " \n",
    "d) Checking for missing data/dates\n"
   ]
  },
  {
   "cell_type": "code",
   "execution_count": 2,
   "id": "acbe7526",
   "metadata": {},
   "outputs": [
    {
     "data": {
      "text/html": [
       "<div>\n",
       "<style scoped>\n",
       "    .dataframe tbody tr th:only-of-type {\n",
       "        vertical-align: middle;\n",
       "    }\n",
       "\n",
       "    .dataframe tbody tr th {\n",
       "        vertical-align: top;\n",
       "    }\n",
       "\n",
       "    .dataframe thead th {\n",
       "        text-align: right;\n",
       "    }\n",
       "</style>\n",
       "<table border=\"1\" class=\"dataframe\">\n",
       "  <thead>\n",
       "    <tr style=\"text-align: right;\">\n",
       "      <th></th>\n",
       "      <th>Unnamed: 0</th>\n",
       "      <th>date</th>\n",
       "      <th>flag</th>\n",
       "      <th>text</th>\n",
       "      <th>user</th>\n",
       "      <th>year</th>\n",
       "      <th>month</th>\n",
       "      <th>day</th>\n",
       "      <th>hour</th>\n",
       "      <th>minute</th>\n",
       "      <th>second</th>\n",
       "    </tr>\n",
       "  </thead>\n",
       "  <tbody>\n",
       "    <tr>\n",
       "      <th>0</th>\n",
       "      <td>0</td>\n",
       "      <td>2009-04-18 15:51:40</td>\n",
       "      <td>NO_QUERY</td>\n",
       "      <td>@ctribe I hope you are having a great day.</td>\n",
       "      <td>prosario_2000</td>\n",
       "      <td>2009</td>\n",
       "      <td>4</td>\n",
       "      <td>18</td>\n",
       "      <td>15</td>\n",
       "      <td>51</td>\n",
       "      <td>40</td>\n",
       "    </tr>\n",
       "    <tr>\n",
       "      <th>1</th>\n",
       "      <td>1</td>\n",
       "      <td>2009-06-07 00:02:45</td>\n",
       "      <td>NO_QUERY</td>\n",
       "      <td>Kinda scared to sleep alone in this house toni...</td>\n",
       "      <td>l7l7v</td>\n",
       "      <td>2009</td>\n",
       "      <td>6</td>\n",
       "      <td>7</td>\n",
       "      <td>0</td>\n",
       "      <td>2</td>\n",
       "      <td>45</td>\n",
       "    </tr>\n",
       "    <tr>\n",
       "      <th>2</th>\n",
       "      <td>2</td>\n",
       "      <td>2009-06-01 11:52:03</td>\n",
       "      <td>NO_QUERY</td>\n",
       "      <td>@karinhoegh  Didn't think of national holidays...</td>\n",
       "      <td>kmdk</td>\n",
       "      <td>2009</td>\n",
       "      <td>6</td>\n",
       "      <td>1</td>\n",
       "      <td>11</td>\n",
       "      <td>52</td>\n",
       "      <td>3</td>\n",
       "    </tr>\n",
       "    <tr>\n",
       "      <th>3</th>\n",
       "      <td>3</td>\n",
       "      <td>2009-06-01 11:52:03</td>\n",
       "      <td>NO_QUERY</td>\n",
       "      <td>Need more FPS....time to shop for a new camera...</td>\n",
       "      <td>jflinchbaugh</td>\n",
       "      <td>2009</td>\n",
       "      <td>6</td>\n",
       "      <td>1</td>\n",
       "      <td>11</td>\n",
       "      <td>52</td>\n",
       "      <td>3</td>\n",
       "    </tr>\n",
       "    <tr>\n",
       "      <th>4</th>\n",
       "      <td>4</td>\n",
       "      <td>2009-06-01 11:52:04</td>\n",
       "      <td>NO_QUERY</td>\n",
       "      <td>@SteveOGallagher take me with u</td>\n",
       "      <td>kittaykat</td>\n",
       "      <td>2009</td>\n",
       "      <td>6</td>\n",
       "      <td>1</td>\n",
       "      <td>11</td>\n",
       "      <td>52</td>\n",
       "      <td>4</td>\n",
       "    </tr>\n",
       "  </tbody>\n",
       "</table>\n",
       "</div>"
      ],
      "text/plain": [
       "   Unnamed: 0                 date      flag  \\\n",
       "0           0  2009-04-18 15:51:40  NO_QUERY   \n",
       "1           1  2009-06-07 00:02:45  NO_QUERY   \n",
       "2           2  2009-06-01 11:52:03  NO_QUERY   \n",
       "3           3  2009-06-01 11:52:03  NO_QUERY   \n",
       "4           4  2009-06-01 11:52:04  NO_QUERY   \n",
       "\n",
       "                                                text           user  year  \\\n",
       "0        @ctribe I hope you are having a great day.   prosario_2000  2009   \n",
       "1  Kinda scared to sleep alone in this house toni...          l7l7v  2009   \n",
       "2  @karinhoegh  Didn't think of national holidays...           kmdk  2009   \n",
       "3  Need more FPS....time to shop for a new camera...   jflinchbaugh  2009   \n",
       "4                   @SteveOGallagher take me with u       kittaykat  2009   \n",
       "\n",
       "   month  day  hour  minute  second  \n",
       "0      4   18    15      51      40  \n",
       "1      6    7     0       2      45  \n",
       "2      6    1    11      52       3  \n",
       "3      6    1    11      52       3  \n",
       "4      6    1    11      52       4  "
      ]
     },
     "execution_count": 2,
     "metadata": {},
     "output_type": "execute_result"
    }
   ],
   "source": [
    "#View the first few observations of the df DataFrame\n",
    "df.head(5)"
   ]
  },
  {
   "cell_type": "code",
   "execution_count": 3,
   "id": "3d8eb009",
   "metadata": {},
   "outputs": [
    {
     "data": {
      "text/html": [
       "<div>\n",
       "<style scoped>\n",
       "    .dataframe tbody tr th:only-of-type {\n",
       "        vertical-align: middle;\n",
       "    }\n",
       "\n",
       "    .dataframe tbody tr th {\n",
       "        vertical-align: top;\n",
       "    }\n",
       "\n",
       "    .dataframe thead th {\n",
       "        text-align: right;\n",
       "    }\n",
       "</style>\n",
       "<table border=\"1\" class=\"dataframe\">\n",
       "  <thead>\n",
       "    <tr style=\"text-align: right;\">\n",
       "      <th></th>\n",
       "      <th>Unnamed: 0</th>\n",
       "      <th>date</th>\n",
       "      <th>flag</th>\n",
       "      <th>text</th>\n",
       "      <th>user</th>\n",
       "      <th>year</th>\n",
       "      <th>month</th>\n",
       "      <th>day</th>\n",
       "      <th>hour</th>\n",
       "      <th>minute</th>\n",
       "      <th>second</th>\n",
       "    </tr>\n",
       "  </thead>\n",
       "  <tbody>\n",
       "    <tr>\n",
       "      <th>1599995</th>\n",
       "      <td>1599995</td>\n",
       "      <td>2009-06-07 00:02:36</td>\n",
       "      <td>NO_QUERY</td>\n",
       "      <td>I just got a bunch of money for graduation, bu...</td>\n",
       "      <td>chichi7391</td>\n",
       "      <td>2009</td>\n",
       "      <td>6</td>\n",
       "      <td>7</td>\n",
       "      <td>0</td>\n",
       "      <td>2</td>\n",
       "      <td>36</td>\n",
       "    </tr>\n",
       "    <tr>\n",
       "      <th>1599996</th>\n",
       "      <td>1599996</td>\n",
       "      <td>2009-06-07 00:02:40</td>\n",
       "      <td>NO_QUERY</td>\n",
       "      <td>were is my pic</td>\n",
       "      <td>lambrinilesley</td>\n",
       "      <td>2009</td>\n",
       "      <td>6</td>\n",
       "      <td>7</td>\n",
       "      <td>0</td>\n",
       "      <td>2</td>\n",
       "      <td>40</td>\n",
       "    </tr>\n",
       "    <tr>\n",
       "      <th>1599997</th>\n",
       "      <td>1599997</td>\n",
       "      <td>2009-06-07 00:02:41</td>\n",
       "      <td>NO_QUERY</td>\n",
       "      <td>@sar_88 you had to wait 2 hours for the foood</td>\n",
       "      <td>sweetmash</td>\n",
       "      <td>2009</td>\n",
       "      <td>6</td>\n",
       "      <td>7</td>\n",
       "      <td>0</td>\n",
       "      <td>2</td>\n",
       "      <td>41</td>\n",
       "    </tr>\n",
       "    <tr>\n",
       "      <th>1599998</th>\n",
       "      <td>1599998</td>\n",
       "      <td>2009-06-07 00:02:41</td>\n",
       "      <td>NO_QUERY</td>\n",
       "      <td>@pollyyy by the way i hate you for seeing bran...</td>\n",
       "      <td>LittleBirkett</td>\n",
       "      <td>2009</td>\n",
       "      <td>6</td>\n",
       "      <td>7</td>\n",
       "      <td>0</td>\n",
       "      <td>2</td>\n",
       "      <td>41</td>\n",
       "    </tr>\n",
       "    <tr>\n",
       "      <th>1599999</th>\n",
       "      <td>1599999</td>\n",
       "      <td>2009-06-07 00:02:41</td>\n",
       "      <td>NO_QUERY</td>\n",
       "      <td>Not looking forward to a good 9 hours at One P...</td>\n",
       "      <td>paul_hauffe</td>\n",
       "      <td>2009</td>\n",
       "      <td>6</td>\n",
       "      <td>7</td>\n",
       "      <td>0</td>\n",
       "      <td>2</td>\n",
       "      <td>41</td>\n",
       "    </tr>\n",
       "  </tbody>\n",
       "</table>\n",
       "</div>"
      ],
      "text/plain": [
       "         Unnamed: 0                 date      flag  \\\n",
       "1599995     1599995  2009-06-07 00:02:36  NO_QUERY   \n",
       "1599996     1599996  2009-06-07 00:02:40  NO_QUERY   \n",
       "1599997     1599997  2009-06-07 00:02:41  NO_QUERY   \n",
       "1599998     1599998  2009-06-07 00:02:41  NO_QUERY   \n",
       "1599999     1599999  2009-06-07 00:02:41  NO_QUERY   \n",
       "\n",
       "                                                      text            user  \\\n",
       "1599995  I just got a bunch of money for graduation, bu...      chichi7391   \n",
       "1599996                                    were is my pic   lambrinilesley   \n",
       "1599997     @sar_88 you had to wait 2 hours for the foood        sweetmash   \n",
       "1599998  @pollyyy by the way i hate you for seeing bran...   LittleBirkett   \n",
       "1599999  Not looking forward to a good 9 hours at One P...     paul_hauffe   \n",
       "\n",
       "         year  month  day  hour  minute  second  \n",
       "1599995  2009      6    7     0       2      36  \n",
       "1599996  2009      6    7     0       2      40  \n",
       "1599997  2009      6    7     0       2      41  \n",
       "1599998  2009      6    7     0       2      41  \n",
       "1599999  2009      6    7     0       2      41  "
      ]
     },
     "execution_count": 3,
     "metadata": {},
     "output_type": "execute_result"
    }
   ],
   "source": [
    "#View the last few observations of the df DataFrame\n",
    "df.tail(5)"
   ]
  },
  {
   "cell_type": "code",
   "execution_count": 4,
   "id": "fd981d22",
   "metadata": {},
   "outputs": [
    {
     "data": {
      "text/plain": [
       "(1600000, 11)"
      ]
     },
     "execution_count": 4,
     "metadata": {},
     "output_type": "execute_result"
    }
   ],
   "source": [
    "#View the shape of the df DataFrame\n",
    "df.shape"
   ]
  },
  {
   "cell_type": "code",
   "execution_count": 5,
   "id": "21b261e1",
   "metadata": {},
   "outputs": [
    {
     "name": "stdout",
     "output_type": "stream",
     "text": [
      "<class 'pandas.core.frame.DataFrame'>\n",
      "RangeIndex: 1600000 entries, 0 to 1599999\n",
      "Data columns (total 11 columns):\n",
      " #   Column      Non-Null Count    Dtype \n",
      "---  ------      --------------    ----- \n",
      " 0   Unnamed: 0  1600000 non-null  int64 \n",
      " 1   date        1600000 non-null  object\n",
      " 2   flag        1600000 non-null  object\n",
      " 3   text        1600000 non-null  object\n",
      " 4   user        1600000 non-null  object\n",
      " 5   year        1600000 non-null  int64 \n",
      " 6   month       1600000 non-null  int64 \n",
      " 7   day         1600000 non-null  int64 \n",
      " 8   hour        1600000 non-null  int64 \n",
      " 9   minute      1600000 non-null  int64 \n",
      " 10  second      1600000 non-null  int64 \n",
      "dtypes: int64(7), object(4)\n",
      "memory usage: 134.3+ MB\n"
     ]
    }
   ],
   "source": [
    "#View the features\n",
    "df.info()"
   ]
  },
  {
   "cell_type": "code",
   "execution_count": 6,
   "id": "2657c631",
   "metadata": {},
   "outputs": [],
   "source": [
    "# Convert the 'date_column' to datetime datatype\n",
    "df['date'] = pd.to_datetime(df['date'])"
   ]
  },
  {
   "cell_type": "code",
   "execution_count": 7,
   "id": "de32071b",
   "metadata": {},
   "outputs": [
    {
     "name": "stdout",
     "output_type": "stream",
     "text": [
      "<class 'pandas.core.frame.DataFrame'>\n",
      "RangeIndex: 1600000 entries, 0 to 1599999\n",
      "Data columns (total 11 columns):\n",
      " #   Column      Non-Null Count    Dtype         \n",
      "---  ------      --------------    -----         \n",
      " 0   Unnamed: 0  1600000 non-null  int64         \n",
      " 1   date        1600000 non-null  datetime64[ns]\n",
      " 2   flag        1600000 non-null  object        \n",
      " 3   text        1600000 non-null  object        \n",
      " 4   user        1600000 non-null  object        \n",
      " 5   year        1600000 non-null  int64         \n",
      " 6   month       1600000 non-null  int64         \n",
      " 7   day         1600000 non-null  int64         \n",
      " 8   hour        1600000 non-null  int64         \n",
      " 9   minute      1600000 non-null  int64         \n",
      " 10  second      1600000 non-null  int64         \n",
      "dtypes: datetime64[ns](1), int64(7), object(3)\n",
      "memory usage: 134.3+ MB\n"
     ]
    }
   ],
   "source": [
    "#Check if the date has been changed to date time\n",
    "df.info()"
   ]
  },
  {
   "cell_type": "code",
   "execution_count": 8,
   "id": "e5631595",
   "metadata": {},
   "outputs": [
    {
     "data": {
      "text/html": [
       "<div>\n",
       "<style scoped>\n",
       "    .dataframe tbody tr th:only-of-type {\n",
       "        vertical-align: middle;\n",
       "    }\n",
       "\n",
       "    .dataframe tbody tr th {\n",
       "        vertical-align: top;\n",
       "    }\n",
       "\n",
       "    .dataframe thead th {\n",
       "        text-align: right;\n",
       "    }\n",
       "</style>\n",
       "<table border=\"1\" class=\"dataframe\">\n",
       "  <thead>\n",
       "    <tr style=\"text-align: right;\">\n",
       "      <th></th>\n",
       "      <th>Unnamed: 0</th>\n",
       "      <th>date</th>\n",
       "      <th>flag</th>\n",
       "      <th>text</th>\n",
       "      <th>user</th>\n",
       "      <th>year</th>\n",
       "      <th>month</th>\n",
       "      <th>day</th>\n",
       "      <th>hour</th>\n",
       "      <th>minute</th>\n",
       "      <th>second</th>\n",
       "    </tr>\n",
       "  </thead>\n",
       "  <tbody>\n",
       "    <tr>\n",
       "      <th>0</th>\n",
       "      <td>0</td>\n",
       "      <td>2009-04-18 15:51:40</td>\n",
       "      <td>NO_QUERY</td>\n",
       "      <td>@ctribe I hope you are having a great day.</td>\n",
       "      <td>prosario_2000</td>\n",
       "      <td>2009</td>\n",
       "      <td>4</td>\n",
       "      <td>18</td>\n",
       "      <td>15</td>\n",
       "      <td>51</td>\n",
       "      <td>40</td>\n",
       "    </tr>\n",
       "    <tr>\n",
       "      <th>1</th>\n",
       "      <td>1</td>\n",
       "      <td>2009-06-07 00:02:45</td>\n",
       "      <td>NO_QUERY</td>\n",
       "      <td>Kinda scared to sleep alone in this house toni...</td>\n",
       "      <td>l7l7v</td>\n",
       "      <td>2009</td>\n",
       "      <td>6</td>\n",
       "      <td>7</td>\n",
       "      <td>0</td>\n",
       "      <td>2</td>\n",
       "      <td>45</td>\n",
       "    </tr>\n",
       "    <tr>\n",
       "      <th>2</th>\n",
       "      <td>2</td>\n",
       "      <td>2009-06-01 11:52:03</td>\n",
       "      <td>NO_QUERY</td>\n",
       "      <td>@karinhoegh  Didn't think of national holidays...</td>\n",
       "      <td>kmdk</td>\n",
       "      <td>2009</td>\n",
       "      <td>6</td>\n",
       "      <td>1</td>\n",
       "      <td>11</td>\n",
       "      <td>52</td>\n",
       "      <td>3</td>\n",
       "    </tr>\n",
       "    <tr>\n",
       "      <th>3</th>\n",
       "      <td>3</td>\n",
       "      <td>2009-06-01 11:52:03</td>\n",
       "      <td>NO_QUERY</td>\n",
       "      <td>Need more FPS....time to shop for a new camera...</td>\n",
       "      <td>jflinchbaugh</td>\n",
       "      <td>2009</td>\n",
       "      <td>6</td>\n",
       "      <td>1</td>\n",
       "      <td>11</td>\n",
       "      <td>52</td>\n",
       "      <td>3</td>\n",
       "    </tr>\n",
       "    <tr>\n",
       "      <th>4</th>\n",
       "      <td>4</td>\n",
       "      <td>2009-06-01 11:52:04</td>\n",
       "      <td>NO_QUERY</td>\n",
       "      <td>@SteveOGallagher take me with u</td>\n",
       "      <td>kittaykat</td>\n",
       "      <td>2009</td>\n",
       "      <td>6</td>\n",
       "      <td>1</td>\n",
       "      <td>11</td>\n",
       "      <td>52</td>\n",
       "      <td>4</td>\n",
       "    </tr>\n",
       "  </tbody>\n",
       "</table>\n",
       "</div>"
      ],
      "text/plain": [
       "   Unnamed: 0                date      flag  \\\n",
       "0           0 2009-04-18 15:51:40  NO_QUERY   \n",
       "1           1 2009-06-07 00:02:45  NO_QUERY   \n",
       "2           2 2009-06-01 11:52:03  NO_QUERY   \n",
       "3           3 2009-06-01 11:52:03  NO_QUERY   \n",
       "4           4 2009-06-01 11:52:04  NO_QUERY   \n",
       "\n",
       "                                                text           user  year  \\\n",
       "0        @ctribe I hope you are having a great day.   prosario_2000  2009   \n",
       "1  Kinda scared to sleep alone in this house toni...          l7l7v  2009   \n",
       "2  @karinhoegh  Didn't think of national holidays...           kmdk  2009   \n",
       "3  Need more FPS....time to shop for a new camera...   jflinchbaugh  2009   \n",
       "4                   @SteveOGallagher take me with u       kittaykat  2009   \n",
       "\n",
       "   month  day  hour  minute  second  \n",
       "0      4   18    15      51      40  \n",
       "1      6    7     0       2      45  \n",
       "2      6    1    11      52       3  \n",
       "3      6    1    11      52       3  \n",
       "4      6    1    11      52       4  "
      ]
     },
     "execution_count": 8,
     "metadata": {},
     "output_type": "execute_result"
    }
   ],
   "source": [
    "#Check the df\n",
    "df.head(5)"
   ]
  },
  {
   "cell_type": "markdown",
   "id": "caa0fa5e",
   "metadata": {},
   "source": [
    "## Drop Variables that will not be used"
   ]
  },
  {
   "cell_type": "code",
   "execution_count": 9,
   "id": "8f2510fb",
   "metadata": {},
   "outputs": [],
   "source": [
    "# Drop all columns except 'date' and 'text'\n",
    "df = df[['date', 'text','user','day','month']]"
   ]
  },
  {
   "cell_type": "code",
   "execution_count": 10,
   "id": "bd28abcb",
   "metadata": {},
   "outputs": [
    {
     "data": {
      "text/html": [
       "<div>\n",
       "<style scoped>\n",
       "    .dataframe tbody tr th:only-of-type {\n",
       "        vertical-align: middle;\n",
       "    }\n",
       "\n",
       "    .dataframe tbody tr th {\n",
       "        vertical-align: top;\n",
       "    }\n",
       "\n",
       "    .dataframe thead th {\n",
       "        text-align: right;\n",
       "    }\n",
       "</style>\n",
       "<table border=\"1\" class=\"dataframe\">\n",
       "  <thead>\n",
       "    <tr style=\"text-align: right;\">\n",
       "      <th></th>\n",
       "      <th>date</th>\n",
       "      <th>text</th>\n",
       "      <th>user</th>\n",
       "      <th>day</th>\n",
       "      <th>month</th>\n",
       "    </tr>\n",
       "  </thead>\n",
       "  <tbody>\n",
       "    <tr>\n",
       "      <th>0</th>\n",
       "      <td>2009-04-18 15:51:40</td>\n",
       "      <td>@ctribe I hope you are having a great day.</td>\n",
       "      <td>prosario_2000</td>\n",
       "      <td>18</td>\n",
       "      <td>4</td>\n",
       "    </tr>\n",
       "    <tr>\n",
       "      <th>1</th>\n",
       "      <td>2009-06-07 00:02:45</td>\n",
       "      <td>Kinda scared to sleep alone in this house toni...</td>\n",
       "      <td>l7l7v</td>\n",
       "      <td>7</td>\n",
       "      <td>6</td>\n",
       "    </tr>\n",
       "    <tr>\n",
       "      <th>2</th>\n",
       "      <td>2009-06-01 11:52:03</td>\n",
       "      <td>@karinhoegh  Didn't think of national holidays...</td>\n",
       "      <td>kmdk</td>\n",
       "      <td>1</td>\n",
       "      <td>6</td>\n",
       "    </tr>\n",
       "    <tr>\n",
       "      <th>3</th>\n",
       "      <td>2009-06-01 11:52:03</td>\n",
       "      <td>Need more FPS....time to shop for a new camera...</td>\n",
       "      <td>jflinchbaugh</td>\n",
       "      <td>1</td>\n",
       "      <td>6</td>\n",
       "    </tr>\n",
       "    <tr>\n",
       "      <th>4</th>\n",
       "      <td>2009-06-01 11:52:04</td>\n",
       "      <td>@SteveOGallagher take me with u</td>\n",
       "      <td>kittaykat</td>\n",
       "      <td>1</td>\n",
       "      <td>6</td>\n",
       "    </tr>\n",
       "  </tbody>\n",
       "</table>\n",
       "</div>"
      ],
      "text/plain": [
       "                 date                                               text  \\\n",
       "0 2009-04-18 15:51:40        @ctribe I hope you are having a great day.    \n",
       "1 2009-06-07 00:02:45  Kinda scared to sleep alone in this house toni...   \n",
       "2 2009-06-01 11:52:03  @karinhoegh  Didn't think of national holidays...   \n",
       "3 2009-06-01 11:52:03  Need more FPS....time to shop for a new camera...   \n",
       "4 2009-06-01 11:52:04                   @SteveOGallagher take me with u    \n",
       "\n",
       "            user  day  month  \n",
       "0  prosario_2000   18      4  \n",
       "1          l7l7v    7      6  \n",
       "2           kmdk    1      6  \n",
       "3   jflinchbaugh    1      6  \n",
       "4      kittaykat    1      6  "
      ]
     },
     "execution_count": 10,
     "metadata": {},
     "output_type": "execute_result"
    }
   ],
   "source": [
    "#Check if they have been dropped\n",
    "df.head(5)"
   ]
  },
  {
   "cell_type": "code",
   "execution_count": 11,
   "id": "aaa23e39",
   "metadata": {},
   "outputs": [],
   "source": [
    "# Sort the DataFrame by the 'date' column in ascending order\n",
    "df = df.sort_values(by='date', ascending=True)"
   ]
  },
  {
   "cell_type": "code",
   "execution_count": 12,
   "id": "d4461783",
   "metadata": {},
   "outputs": [
    {
     "data": {
      "text/html": [
       "<div>\n",
       "<style scoped>\n",
       "    .dataframe tbody tr th:only-of-type {\n",
       "        vertical-align: middle;\n",
       "    }\n",
       "\n",
       "    .dataframe tbody tr th {\n",
       "        vertical-align: top;\n",
       "    }\n",
       "\n",
       "    .dataframe thead th {\n",
       "        text-align: right;\n",
       "    }\n",
       "</style>\n",
       "<table border=\"1\" class=\"dataframe\">\n",
       "  <thead>\n",
       "    <tr style=\"text-align: right;\">\n",
       "      <th></th>\n",
       "      <th>date</th>\n",
       "      <th>text</th>\n",
       "      <th>user</th>\n",
       "      <th>day</th>\n",
       "      <th>month</th>\n",
       "    </tr>\n",
       "  </thead>\n",
       "  <tbody>\n",
       "    <tr>\n",
       "      <th>271</th>\n",
       "      <td>2009-04-07 05:19:45</td>\n",
       "      <td>@switchfoot http://twitpic.com/2y1zl - Awww, t...</td>\n",
       "      <td>_TheSpecialOne_</td>\n",
       "      <td>7</td>\n",
       "      <td>4</td>\n",
       "    </tr>\n",
       "    <tr>\n",
       "      <th>275</th>\n",
       "      <td>2009-04-07 05:19:49</td>\n",
       "      <td>is upset that he can't update his Facebook by ...</td>\n",
       "      <td>scotthamilton</td>\n",
       "      <td>7</td>\n",
       "      <td>4</td>\n",
       "    </tr>\n",
       "    <tr>\n",
       "      <th>277</th>\n",
       "      <td>2009-04-07 05:19:53</td>\n",
       "      <td>@Kenichan I dived many times for the ball. Man...</td>\n",
       "      <td>mattycus</td>\n",
       "      <td>7</td>\n",
       "      <td>4</td>\n",
       "    </tr>\n",
       "    <tr>\n",
       "      <th>279</th>\n",
       "      <td>2009-04-07 05:19:57</td>\n",
       "      <td>my whole body feels itchy and like its on fire</td>\n",
       "      <td>ElleCTF</td>\n",
       "      <td>7</td>\n",
       "      <td>4</td>\n",
       "    </tr>\n",
       "    <tr>\n",
       "      <th>281</th>\n",
       "      <td>2009-04-07 05:19:57</td>\n",
       "      <td>@nationwideclass no, it's not behaving at all....</td>\n",
       "      <td>Karoli</td>\n",
       "      <td>7</td>\n",
       "      <td>4</td>\n",
       "    </tr>\n",
       "  </tbody>\n",
       "</table>\n",
       "</div>"
      ],
      "text/plain": [
       "                   date                                               text  \\\n",
       "271 2009-04-07 05:19:45  @switchfoot http://twitpic.com/2y1zl - Awww, t...   \n",
       "275 2009-04-07 05:19:49  is upset that he can't update his Facebook by ...   \n",
       "277 2009-04-07 05:19:53  @Kenichan I dived many times for the ball. Man...   \n",
       "279 2009-04-07 05:19:57    my whole body feels itchy and like its on fire    \n",
       "281 2009-04-07 05:19:57  @nationwideclass no, it's not behaving at all....   \n",
       "\n",
       "                user  day  month  \n",
       "271  _TheSpecialOne_    7      4  \n",
       "275    scotthamilton    7      4  \n",
       "277         mattycus    7      4  \n",
       "279          ElleCTF    7      4  \n",
       "281           Karoli    7      4  "
      ]
     },
     "execution_count": 12,
     "metadata": {},
     "output_type": "execute_result"
    }
   ],
   "source": [
    "#Check if the date is sorted\n",
    "df.head(5)"
   ]
  },
  {
   "cell_type": "code",
   "execution_count": 13,
   "id": "9770fb01",
   "metadata": {},
   "outputs": [
    {
     "name": "stdout",
     "output_type": "stream",
     "text": [
      "<class 'pandas.core.frame.DataFrame'>\n",
      "Int64Index: 1600000 entries, 271 to 1546305\n",
      "Data columns (total 5 columns):\n",
      " #   Column  Non-Null Count    Dtype         \n",
      "---  ------  --------------    -----         \n",
      " 0   date    1600000 non-null  datetime64[ns]\n",
      " 1   text    1600000 non-null  object        \n",
      " 2   user    1600000 non-null  object        \n",
      " 3   day     1600000 non-null  int64         \n",
      " 4   month   1600000 non-null  int64         \n",
      "dtypes: datetime64[ns](1), int64(2), object(2)\n",
      "memory usage: 73.2+ MB\n"
     ]
    }
   ],
   "source": [
    "df.info()"
   ]
  },
  {
   "cell_type": "code",
   "execution_count": 14,
   "id": "b2d3f74f",
   "metadata": {},
   "outputs": [
    {
     "name": "stdout",
     "output_type": "stream",
     "text": [
      "                      min                 max\n",
      "month                                        \n",
      "4     2009-04-07 05:19:45 2009-04-21 11:22:15\n",
      "5     2009-05-02 03:08:46 2009-05-31 23:59:59\n",
      "6     2009-06-01 00:00:00 2009-06-25 17:28:31\n"
     ]
    }
   ],
   "source": [
    "#Group by month and find minimum and maximum date for each month\n",
    "monthly_date_range = df.groupby('month')['date'].agg([min, max])\n",
    "\n",
    "#Display the result\n",
    "print(monthly_date_range)"
   ]
  },
  {
   "cell_type": "markdown",
   "id": "6759668a",
   "metadata": {},
   "source": [
    "## The dates have some missing dates\n",
    "- The data is for 3 months, April, May, June\n",
    "- April (7/4/2009 - 21/4/2009)\n",
    "- May (2/5/2009) - 31/5/2009\n",
    "- June (1/6/2009 -25/6/2009)"
   ]
  },
  {
   "cell_type": "code",
   "execution_count": 15,
   "id": "4f554d16",
   "metadata": {},
   "outputs": [
    {
     "data": {
      "text/html": [
       "<div>\n",
       "<style scoped>\n",
       "    .dataframe tbody tr th:only-of-type {\n",
       "        vertical-align: middle;\n",
       "    }\n",
       "\n",
       "    .dataframe tbody tr th {\n",
       "        vertical-align: top;\n",
       "    }\n",
       "\n",
       "    .dataframe thead th {\n",
       "        text-align: right;\n",
       "    }\n",
       "</style>\n",
       "<table border=\"1\" class=\"dataframe\">\n",
       "  <thead>\n",
       "    <tr style=\"text-align: right;\">\n",
       "      <th></th>\n",
       "      <th>date</th>\n",
       "      <th>text</th>\n",
       "      <th>user</th>\n",
       "      <th>day</th>\n",
       "      <th>month</th>\n",
       "    </tr>\n",
       "  </thead>\n",
       "  <tbody>\n",
       "    <tr>\n",
       "      <th>271</th>\n",
       "      <td>2009-04-07 05:19:45</td>\n",
       "      <td>@switchfoot http://twitpic.com/2y1zl - Awww, t...</td>\n",
       "      <td>_TheSpecialOne_</td>\n",
       "      <td>7</td>\n",
       "      <td>4</td>\n",
       "    </tr>\n",
       "    <tr>\n",
       "      <th>275</th>\n",
       "      <td>2009-04-07 05:19:49</td>\n",
       "      <td>is upset that he can't update his Facebook by ...</td>\n",
       "      <td>scotthamilton</td>\n",
       "      <td>7</td>\n",
       "      <td>4</td>\n",
       "    </tr>\n",
       "    <tr>\n",
       "      <th>277</th>\n",
       "      <td>2009-04-07 05:19:53</td>\n",
       "      <td>@Kenichan I dived many times for the ball. Man...</td>\n",
       "      <td>mattycus</td>\n",
       "      <td>7</td>\n",
       "      <td>4</td>\n",
       "    </tr>\n",
       "    <tr>\n",
       "      <th>279</th>\n",
       "      <td>2009-04-07 05:19:57</td>\n",
       "      <td>my whole body feels itchy and like its on fire</td>\n",
       "      <td>ElleCTF</td>\n",
       "      <td>7</td>\n",
       "      <td>4</td>\n",
       "    </tr>\n",
       "    <tr>\n",
       "      <th>281</th>\n",
       "      <td>2009-04-07 05:19:57</td>\n",
       "      <td>@nationwideclass no, it's not behaving at all....</td>\n",
       "      <td>Karoli</td>\n",
       "      <td>7</td>\n",
       "      <td>4</td>\n",
       "    </tr>\n",
       "  </tbody>\n",
       "</table>\n",
       "</div>"
      ],
      "text/plain": [
       "                   date                                               text  \\\n",
       "271 2009-04-07 05:19:45  @switchfoot http://twitpic.com/2y1zl - Awww, t...   \n",
       "275 2009-04-07 05:19:49  is upset that he can't update his Facebook by ...   \n",
       "277 2009-04-07 05:19:53  @Kenichan I dived many times for the ball. Man...   \n",
       "279 2009-04-07 05:19:57    my whole body feels itchy and like its on fire    \n",
       "281 2009-04-07 05:19:57  @nationwideclass no, it's not behaving at all....   \n",
       "\n",
       "                user  day  month  \n",
       "271  _TheSpecialOne_    7      4  \n",
       "275    scotthamilton    7      4  \n",
       "277         mattycus    7      4  \n",
       "279          ElleCTF    7      4  \n",
       "281           Karoli    7      4  "
      ]
     },
     "execution_count": 15,
     "metadata": {},
     "output_type": "execute_result"
    }
   ],
   "source": [
    "#Check if date has been set as index\n",
    "df.head(5)"
   ]
  },
  {
   "cell_type": "code",
   "execution_count": 16,
   "id": "2a6c9aa5",
   "metadata": {},
   "outputs": [
    {
     "name": "stdout",
     "output_type": "stream",
     "text": [
      "DatetimeIndex(['2009-04-01', '2009-04-02', '2009-04-03', '2009-04-04',\n",
      "               '2009-04-05', '2009-04-06', '2009-04-07', '2009-04-08',\n",
      "               '2009-04-09', '2009-04-10', '2009-04-11', '2009-04-12',\n",
      "               '2009-04-13', '2009-04-14', '2009-04-15', '2009-04-16',\n",
      "               '2009-04-17', '2009-04-18', '2009-04-19', '2009-04-20',\n",
      "               '2009-04-21', '2009-04-22', '2009-04-23', '2009-04-24',\n",
      "               '2009-04-25', '2009-04-26', '2009-04-27', '2009-04-28',\n",
      "               '2009-04-29', '2009-04-30', '2009-05-01', '2009-05-02',\n",
      "               '2009-05-03', '2009-05-04', '2009-05-05', '2009-05-06',\n",
      "               '2009-05-07', '2009-05-08', '2009-05-09', '2009-05-10',\n",
      "               '2009-05-11', '2009-05-12', '2009-05-13', '2009-05-14',\n",
      "               '2009-05-15', '2009-05-16', '2009-05-17', '2009-05-18',\n",
      "               '2009-05-19', '2009-05-20', '2009-05-21', '2009-05-22',\n",
      "               '2009-05-23', '2009-05-24', '2009-05-25', '2009-05-26',\n",
      "               '2009-05-27', '2009-05-28', '2009-05-29', '2009-05-30',\n",
      "               '2009-05-31', '2009-06-01', '2009-06-02', '2009-06-03',\n",
      "               '2009-06-04', '2009-06-05', '2009-06-06', '2009-06-07',\n",
      "               '2009-06-08', '2009-06-09', '2009-06-10', '2009-06-11',\n",
      "               '2009-06-12', '2009-06-13', '2009-06-14', '2009-06-15',\n",
      "               '2009-06-16', '2009-06-17', '2009-06-18', '2009-06-19',\n",
      "               '2009-06-20', '2009-06-21', '2009-06-22', '2009-06-23',\n",
      "               '2009-06-24', '2009-06-25', '2009-06-26', '2009-06-27',\n",
      "               '2009-06-28', '2009-06-29', '2009-06-30'],\n",
      "              dtype='datetime64[ns]', freq='D')\n",
      "91\n"
     ]
    }
   ],
   "source": [
    "import pandas as pd\n",
    "\n",
    "#Define date range with correct formatting\n",
    "date_range = pd.date_range(start=\"2009-04-01\", end=\"2009-06-30\", freq=\"D\")\n",
    "\n",
    "#Find missing dates\n",
    "missing_dates = date_range[~date_range.isin(df.index)]\n",
    "print(missing_dates)\n",
    "print(len(missing_dates))"
   ]
  },
  {
   "cell_type": "code",
   "execution_count": 17,
   "id": "04bef33d",
   "metadata": {},
   "outputs": [
    {
     "name": "stdout",
     "output_type": "stream",
     "text": [
      "month\n",
      "4    100025\n",
      "5    559073\n",
      "6    940902\n",
      "dtype: int64\n"
     ]
    }
   ],
   "source": [
    "# Count the number of dates by month\n",
    "monthly_date_counts = df.groupby('month').size()\n",
    "\n",
    "# Display the result\n",
    "print(monthly_date_counts)\n"
   ]
  },
  {
   "cell_type": "code",
   "execution_count": 18,
   "id": "1a73ab92",
   "metadata": {},
   "outputs": [
    {
     "data": {
      "text/html": [
       "<div>\n",
       "<style scoped>\n",
       "    .dataframe tbody tr th:only-of-type {\n",
       "        vertical-align: middle;\n",
       "    }\n",
       "\n",
       "    .dataframe tbody tr th {\n",
       "        vertical-align: top;\n",
       "    }\n",
       "\n",
       "    .dataframe thead th {\n",
       "        text-align: right;\n",
       "    }\n",
       "</style>\n",
       "<table border=\"1\" class=\"dataframe\">\n",
       "  <thead>\n",
       "    <tr style=\"text-align: right;\">\n",
       "      <th></th>\n",
       "      <th>date</th>\n",
       "      <th>text</th>\n",
       "      <th>user</th>\n",
       "      <th>day</th>\n",
       "      <th>month</th>\n",
       "    </tr>\n",
       "  </thead>\n",
       "  <tbody>\n",
       "    <tr>\n",
       "      <th>271</th>\n",
       "      <td>2009-04-07 05:19:45</td>\n",
       "      <td>@switchfoot http://twitpic.com/2y1zl - Awww, t...</td>\n",
       "      <td>_TheSpecialOne_</td>\n",
       "      <td>7</td>\n",
       "      <td>4</td>\n",
       "    </tr>\n",
       "    <tr>\n",
       "      <th>275</th>\n",
       "      <td>2009-04-07 05:19:49</td>\n",
       "      <td>is upset that he can't update his Facebook by ...</td>\n",
       "      <td>scotthamilton</td>\n",
       "      <td>7</td>\n",
       "      <td>4</td>\n",
       "    </tr>\n",
       "    <tr>\n",
       "      <th>277</th>\n",
       "      <td>2009-04-07 05:19:53</td>\n",
       "      <td>@Kenichan I dived many times for the ball. Man...</td>\n",
       "      <td>mattycus</td>\n",
       "      <td>7</td>\n",
       "      <td>4</td>\n",
       "    </tr>\n",
       "    <tr>\n",
       "      <th>279</th>\n",
       "      <td>2009-04-07 05:19:57</td>\n",
       "      <td>my whole body feels itchy and like its on fire</td>\n",
       "      <td>ElleCTF</td>\n",
       "      <td>7</td>\n",
       "      <td>4</td>\n",
       "    </tr>\n",
       "    <tr>\n",
       "      <th>281</th>\n",
       "      <td>2009-04-07 05:19:57</td>\n",
       "      <td>@nationwideclass no, it's not behaving at all....</td>\n",
       "      <td>Karoli</td>\n",
       "      <td>7</td>\n",
       "      <td>4</td>\n",
       "    </tr>\n",
       "  </tbody>\n",
       "</table>\n",
       "</div>"
      ],
      "text/plain": [
       "                   date                                               text  \\\n",
       "271 2009-04-07 05:19:45  @switchfoot http://twitpic.com/2y1zl - Awww, t...   \n",
       "275 2009-04-07 05:19:49  is upset that he can't update his Facebook by ...   \n",
       "277 2009-04-07 05:19:53  @Kenichan I dived many times for the ball. Man...   \n",
       "279 2009-04-07 05:19:57    my whole body feels itchy and like its on fire    \n",
       "281 2009-04-07 05:19:57  @nationwideclass no, it's not behaving at all....   \n",
       "\n",
       "                user  day  month  \n",
       "271  _TheSpecialOne_    7      4  \n",
       "275    scotthamilton    7      4  \n",
       "277         mattycus    7      4  \n",
       "279          ElleCTF    7      4  \n",
       "281           Karoli    7      4  "
      ]
     },
     "execution_count": 18,
     "metadata": {},
     "output_type": "execute_result"
    }
   ],
   "source": [
    "#View the df\n",
    "df.head(5)"
   ]
  },
  {
   "cell_type": "markdown",
   "id": "c6a28087",
   "metadata": {},
   "source": [
    "## Visualize the count of each day"
   ]
  },
  {
   "cell_type": "code",
   "execution_count": 19,
   "id": "083bd4fa",
   "metadata": {},
   "outputs": [
    {
     "data": {
      "image/png": "[encoded data removed]",
      "text/plain": [
       "<Figure size 1000x600 with 1 Axes>"
      ]
     },
     "metadata": {},
     "output_type": "display_data"
    }
   ],
   "source": [
    "import matplotlib.pyplot as plt\n",
    "#plot the graph of the days\n",
    "sorted_days = df['day'].value_counts().sort_index()\n",
    "\n",
    "# Plotting count of each unique day\n",
    "plt.figure(figsize=(10, 6))\n",
    "sorted_days.plot(kind='bar', color='skyblue')\n",
    "plt.title('Count of Each Unique Day')\n",
    "plt.xlabel('Day')\n",
    "plt.ylabel('Count')\n",
    "plt.xticks(rotation=45)\n",
    "plt.grid(axis='y', linestyle='--', alpha=0.7)\n",
    "plt.tight_layout()\n",
    "plt.show()\n"
   ]
  },
  {
   "cell_type": "code",
   "execution_count": 20,
   "id": "e5346885",
   "metadata": {},
   "outputs": [
    {
     "name": "stdout",
     "output_type": "stream",
     "text": [
      "month  date               \n",
      "4      2009-04-18 04:57:42    12\n",
      "       2009-04-19 00:14:13    11\n",
      "       2009-04-19 04:22:31    11\n",
      "       2009-04-19 15:34:51    11\n",
      "       2009-04-19 17:50:35    11\n",
      "                              ..\n",
      "6      2009-06-25 17:28:18     1\n",
      "       2009-06-25 17:28:19     1\n",
      "       2009-06-25 17:28:22     1\n",
      "       2009-06-25 17:28:24     1\n",
      "       2009-06-25 17:28:31     1\n",
      "Name: date, Length: 774363, dtype: int64\n"
     ]
    }
   ],
   "source": [
    "#Group by month and count the frequency of each unique date within each month\n",
    "unique_dates_by_month = df.groupby('month')['date'].value_counts()\n",
    "\n",
    "#Display the result\n",
    "print(unique_dates_by_month)"
   ]
  },
  {
   "cell_type": "markdown",
   "id": "39ff096a",
   "metadata": {},
   "source": [
    "## Check for duplicates based on date, user and text"
   ]
  },
  {
   "cell_type": "code",
   "execution_count": 21,
   "id": "7b0b8578",
   "metadata": {},
   "outputs": [
    {
     "name": "stdout",
     "output_type": "stream",
     "text": [
      "Duplicate rows based on user, date, and text:\n",
      "                       date  \\\n",
      "1546567 2009-04-07 05:33:35   \n",
      "1749    2009-04-07 05:33:35   \n",
      "1811    2009-04-07 05:38:04   \n",
      "1546606 2009-04-07 05:38:04   \n",
      "3037    2009-04-07 06:28:09   \n",
      "...                     ...   \n",
      "1446558 2009-06-23 23:11:03   \n",
      "1522602 2009-06-25 13:26:14   \n",
      "1522601 2009-06-25 13:26:14   \n",
      "1525010 2009-06-25 13:51:59   \n",
      "1525009 2009-06-25 13:51:59   \n",
      "\n",
      "                                                      text           user  \\\n",
      "1546567  Awwh babs... you look so sad underneith that s...       DjGundam   \n",
      "1749     Awwh babs... you look so sad underneith that s...       DjGundam   \n",
      "1811     Haven't tweeted nearly all day  Posted my webs...        iCalvin   \n",
      "1546606  Haven't tweeted nearly all day  Posted my webs...        iCalvin   \n",
      "3037     @hellobebe I also send some updates in plurk b...    mariejamora   \n",
      "...                                                    ...            ...   \n",
      "1446558  I effin locked my keys in my house and I'm stu...     Susanluann   \n",
      "1522602  @Ashley_Cashen Yes! I have to see you before y...  AlexandraG730   \n",
      "1522601  @Ashley_Cashen Yes! I have to see you before y...  AlexandraG730   \n",
      "1525010  Records retention policies are a PITA. 21 CFR ...   noTHINGfaced   \n",
      "1525009  Records retention policies are a PITA. 21 CFR ...   noTHINGfaced   \n",
      "\n",
      "         day  month  \n",
      "1546567    7      4  \n",
      "1749       7      4  \n",
      "1811       7      4  \n",
      "1546606    7      4  \n",
      "3037       7      4  \n",
      "...      ...    ...  \n",
      "1446558   23      6  \n",
      "1522602   25      6  \n",
      "1522601   25      6  \n",
      "1525010   25      6  \n",
      "1525009   25      6  \n",
      "\n",
      "[3738 rows x 5 columns]\n"
     ]
    }
   ],
   "source": [
    "import pandas as pd\n",
    "\n",
    "# Check for duplicates based on user, date, and text\n",
    "duplicates = df.duplicated(subset=['user', 'date', 'text'], keep=False)\n",
    "\n",
    "# Filter the DataFrame to show only the duplicate rows\n",
    "duplicate_rows = df[duplicates]\n",
    "\n",
    "print(\"Duplicate rows based on user, date, and text:\")\n",
    "print(duplicate_rows)"
   ]
  },
  {
   "cell_type": "markdown",
   "id": "251624b0",
   "metadata": {},
   "source": [
    "# DATA PREPARATION"
   ]
  },
  {
   "cell_type": "markdown",
   "id": "76283d5b",
   "metadata": {},
   "source": [
    "## Drop Duplicates"
   ]
  },
  {
   "cell_type": "code",
   "execution_count": 22,
   "id": "ed57bc7f",
   "metadata": {},
   "outputs": [
    {
     "name": "stdout",
     "output_type": "stream",
     "text": [
      "DataFrame after dropping duplicates based on user, text, and date:\n"
     ]
    },
    {
     "data": {
      "text/html": [
       "<div>\n",
       "<style scoped>\n",
       "    .dataframe tbody tr th:only-of-type {\n",
       "        vertical-align: middle;\n",
       "    }\n",
       "\n",
       "    .dataframe tbody tr th {\n",
       "        vertical-align: top;\n",
       "    }\n",
       "\n",
       "    .dataframe thead th {\n",
       "        text-align: right;\n",
       "    }\n",
       "</style>\n",
       "<table border=\"1\" class=\"dataframe\">\n",
       "  <thead>\n",
       "    <tr style=\"text-align: right;\">\n",
       "      <th></th>\n",
       "      <th>date</th>\n",
       "      <th>text</th>\n",
       "      <th>user</th>\n",
       "      <th>day</th>\n",
       "      <th>month</th>\n",
       "    </tr>\n",
       "  </thead>\n",
       "  <tbody>\n",
       "    <tr>\n",
       "      <th>271</th>\n",
       "      <td>2009-04-07 05:19:45</td>\n",
       "      <td>@switchfoot http://twitpic.com/2y1zl - Awww, t...</td>\n",
       "      <td>_TheSpecialOne_</td>\n",
       "      <td>7</td>\n",
       "      <td>4</td>\n",
       "    </tr>\n",
       "    <tr>\n",
       "      <th>275</th>\n",
       "      <td>2009-04-07 05:19:49</td>\n",
       "      <td>is upset that he can't update his Facebook by ...</td>\n",
       "      <td>scotthamilton</td>\n",
       "      <td>7</td>\n",
       "      <td>4</td>\n",
       "    </tr>\n",
       "    <tr>\n",
       "      <th>277</th>\n",
       "      <td>2009-04-07 05:19:53</td>\n",
       "      <td>@Kenichan I dived many times for the ball. Man...</td>\n",
       "      <td>mattycus</td>\n",
       "      <td>7</td>\n",
       "      <td>4</td>\n",
       "    </tr>\n",
       "    <tr>\n",
       "      <th>279</th>\n",
       "      <td>2009-04-07 05:19:57</td>\n",
       "      <td>my whole body feels itchy and like its on fire</td>\n",
       "      <td>ElleCTF</td>\n",
       "      <td>7</td>\n",
       "      <td>4</td>\n",
       "    </tr>\n",
       "    <tr>\n",
       "      <th>281</th>\n",
       "      <td>2009-04-07 05:19:57</td>\n",
       "      <td>@nationwideclass no, it's not behaving at all....</td>\n",
       "      <td>Karoli</td>\n",
       "      <td>7</td>\n",
       "      <td>4</td>\n",
       "    </tr>\n",
       "    <tr>\n",
       "      <th>...</th>\n",
       "      <td>...</td>\n",
       "      <td>...</td>\n",
       "      <td>...</td>\n",
       "      <td>...</td>\n",
       "      <td>...</td>\n",
       "    </tr>\n",
       "    <tr>\n",
       "      <th>1546301</th>\n",
       "      <td>2009-06-25 17:28:28</td>\n",
       "      <td>Sick  Spending my day laying in bed listening ...</td>\n",
       "      <td>dandykim</td>\n",
       "      <td>25</td>\n",
       "      <td>6</td>\n",
       "    </tr>\n",
       "    <tr>\n",
       "      <th>1546302</th>\n",
       "      <td>2009-06-25 17:28:28</td>\n",
       "      <td>Gmail is down?</td>\n",
       "      <td>bigenya</td>\n",
       "      <td>25</td>\n",
       "      <td>6</td>\n",
       "    </tr>\n",
       "    <tr>\n",
       "      <th>1546303</th>\n",
       "      <td>2009-06-25 17:28:30</td>\n",
       "      <td>rest in peace Farrah! So sad</td>\n",
       "      <td>LeeLHoke</td>\n",
       "      <td>25</td>\n",
       "      <td>6</td>\n",
       "    </tr>\n",
       "    <tr>\n",
       "      <th>1546304</th>\n",
       "      <td>2009-06-25 17:28:30</td>\n",
       "      <td>@Eric_Urbane Sounds like a rival is flagging y...</td>\n",
       "      <td>davidlmulder</td>\n",
       "      <td>25</td>\n",
       "      <td>6</td>\n",
       "    </tr>\n",
       "    <tr>\n",
       "      <th>1546305</th>\n",
       "      <td>2009-06-25 17:28:31</td>\n",
       "      <td>has to resit exams over summer...  wishes he w...</td>\n",
       "      <td>tpchandler</td>\n",
       "      <td>25</td>\n",
       "      <td>6</td>\n",
       "    </tr>\n",
       "  </tbody>\n",
       "</table>\n",
       "<p>1598127 rows × 5 columns</p>\n",
       "</div>"
      ],
      "text/plain": [
       "                       date  \\\n",
       "271     2009-04-07 05:19:45   \n",
       "275     2009-04-07 05:19:49   \n",
       "277     2009-04-07 05:19:53   \n",
       "279     2009-04-07 05:19:57   \n",
       "281     2009-04-07 05:19:57   \n",
       "...                     ...   \n",
       "1546301 2009-06-25 17:28:28   \n",
       "1546302 2009-06-25 17:28:28   \n",
       "1546303 2009-06-25 17:28:30   \n",
       "1546304 2009-06-25 17:28:30   \n",
       "1546305 2009-06-25 17:28:31   \n",
       "\n",
       "                                                      text             user  \\\n",
       "271      @switchfoot http://twitpic.com/2y1zl - Awww, t...  _TheSpecialOne_   \n",
       "275      is upset that he can't update his Facebook by ...    scotthamilton   \n",
       "277      @Kenichan I dived many times for the ball. Man...         mattycus   \n",
       "279        my whole body feels itchy and like its on fire           ElleCTF   \n",
       "281      @nationwideclass no, it's not behaving at all....           Karoli   \n",
       "...                                                    ...              ...   \n",
       "1546301  Sick  Spending my day laying in bed listening ...         dandykim   \n",
       "1546302                                    Gmail is down?           bigenya   \n",
       "1546303                      rest in peace Farrah! So sad          LeeLHoke   \n",
       "1546304  @Eric_Urbane Sounds like a rival is flagging y...     davidlmulder   \n",
       "1546305  has to resit exams over summer...  wishes he w...       tpchandler   \n",
       "\n",
       "         day  month  \n",
       "271        7      4  \n",
       "275        7      4  \n",
       "277        7      4  \n",
       "279        7      4  \n",
       "281        7      4  \n",
       "...      ...    ...  \n",
       "1546301   25      6  \n",
       "1546302   25      6  \n",
       "1546303   25      6  \n",
       "1546304   25      6  \n",
       "1546305   25      6  \n",
       "\n",
       "[1598127 rows x 5 columns]"
      ]
     },
     "execution_count": 22,
     "metadata": {},
     "output_type": "execute_result"
    }
   ],
   "source": [
    "#Drop duplicates based on user, text, and date\n",
    "df = df.drop_duplicates(subset=['user', 'text', 'date'])\n",
    "\n",
    "print(\"DataFrame after dropping duplicates based on user, text, and date:\")\n",
    "df"
   ]
  },
  {
   "cell_type": "code",
   "execution_count": 23,
   "id": "84b3d873",
   "metadata": {},
   "outputs": [
    {
     "data": {
      "text/plain": [
       "(1598127, 5)"
      ]
     },
     "execution_count": 23,
     "metadata": {},
     "output_type": "execute_result"
    }
   ],
   "source": [
    "#Check size of dataset after dropping duplicates\n",
    "df.shape"
   ]
  },
  {
   "cell_type": "code",
   "execution_count": 24,
   "id": "a1f69b71",
   "metadata": {},
   "outputs": [
    {
     "data": {
      "text/plain": [
       "date     0\n",
       "text     0\n",
       "user     0\n",
       "day      0\n",
       "month    0\n",
       "dtype: int64"
      ]
     },
     "execution_count": 24,
     "metadata": {},
     "output_type": "execute_result"
    }
   ],
   "source": [
    "#Check for Null Rows\n",
    "df.isnull().sum()"
   ]
  },
  {
   "cell_type": "markdown",
   "id": "1ce6867a",
   "metadata": {},
   "source": [
    "# EDA of the Texts"
   ]
  },
  {
   "cell_type": "code",
   "execution_count": 25,
   "id": "4b3ad5ad",
   "metadata": {},
   "outputs": [],
   "source": [
    "#Count the number of words in the text\n",
    "df['word_count'] = df['text'].apply(lambda x: len(str(x).split(\" \")))"
   ]
  },
  {
   "cell_type": "code",
   "execution_count": 26,
   "id": "018914ee",
   "metadata": {},
   "outputs": [
    {
     "data": {
      "text/html": [
       "<div>\n",
       "<style scoped>\n",
       "    .dataframe tbody tr th:only-of-type {\n",
       "        vertical-align: middle;\n",
       "    }\n",
       "\n",
       "    .dataframe tbody tr th {\n",
       "        vertical-align: top;\n",
       "    }\n",
       "\n",
       "    .dataframe thead th {\n",
       "        text-align: right;\n",
       "    }\n",
       "</style>\n",
       "<table border=\"1\" class=\"dataframe\">\n",
       "  <thead>\n",
       "    <tr style=\"text-align: right;\">\n",
       "      <th></th>\n",
       "      <th>text</th>\n",
       "      <th>word_count</th>\n",
       "    </tr>\n",
       "  </thead>\n",
       "  <tbody>\n",
       "    <tr>\n",
       "      <th>271</th>\n",
       "      <td>@switchfoot http://twitpic.com/2y1zl - Awww, t...</td>\n",
       "      <td>20</td>\n",
       "    </tr>\n",
       "    <tr>\n",
       "      <th>275</th>\n",
       "      <td>is upset that he can't update his Facebook by ...</td>\n",
       "      <td>22</td>\n",
       "    </tr>\n",
       "    <tr>\n",
       "      <th>277</th>\n",
       "      <td>@Kenichan I dived many times for the ball. Man...</td>\n",
       "      <td>19</td>\n",
       "    </tr>\n",
       "    <tr>\n",
       "      <th>279</th>\n",
       "      <td>my whole body feels itchy and like its on fire</td>\n",
       "      <td>11</td>\n",
       "    </tr>\n",
       "    <tr>\n",
       "      <th>281</th>\n",
       "      <td>@nationwideclass no, it's not behaving at all....</td>\n",
       "      <td>22</td>\n",
       "    </tr>\n",
       "  </tbody>\n",
       "</table>\n",
       "</div>"
      ],
      "text/plain": [
       "                                                  text  word_count\n",
       "271  @switchfoot http://twitpic.com/2y1zl - Awww, t...          20\n",
       "275  is upset that he can't update his Facebook by ...          22\n",
       "277  @Kenichan I dived many times for the ball. Man...          19\n",
       "279    my whole body feels itchy and like its on fire           11\n",
       "281  @nationwideclass no, it's not behaving at all....          22"
      ]
     },
     "execution_count": 26,
     "metadata": {},
     "output_type": "execute_result"
    }
   ],
   "source": [
    "df[[\"text\",\"word_count\"]].head(5)"
   ]
  },
  {
   "cell_type": "code",
   "execution_count": 27,
   "id": "65ad9cdc",
   "metadata": {},
   "outputs": [
    {
     "data": {
      "text/plain": [
       "110"
      ]
     },
     "execution_count": 27,
     "metadata": {},
     "output_type": "execute_result"
    }
   ],
   "source": [
    "#Find the maximum number of words in the 'word_count' variable of the 'df' DataFrame\n",
    "largest_word_count = df[\"word_count\"].max()\n",
    "largest_word_count"
   ]
  },
  {
   "cell_type": "code",
   "execution_count": 28,
   "id": "3b909d09",
   "metadata": {},
   "outputs": [],
   "source": [
    "#Count the number of characters in the text variable\n",
    "df['char_count'] = df['text'].str.len() "
   ]
  },
  {
   "cell_type": "code",
   "execution_count": 29,
   "id": "87c5384e",
   "metadata": {},
   "outputs": [
    {
     "data": {
      "text/html": [
       "<div>\n",
       "<style scoped>\n",
       "    .dataframe tbody tr th:only-of-type {\n",
       "        vertical-align: middle;\n",
       "    }\n",
       "\n",
       "    .dataframe tbody tr th {\n",
       "        vertical-align: top;\n",
       "    }\n",
       "\n",
       "    .dataframe thead th {\n",
       "        text-align: right;\n",
       "    }\n",
       "</style>\n",
       "<table border=\"1\" class=\"dataframe\">\n",
       "  <thead>\n",
       "    <tr style=\"text-align: right;\">\n",
       "      <th></th>\n",
       "      <th>text</th>\n",
       "      <th>char_count</th>\n",
       "    </tr>\n",
       "  </thead>\n",
       "  <tbody>\n",
       "    <tr>\n",
       "      <th>271</th>\n",
       "      <td>@switchfoot http://twitpic.com/2y1zl - Awww, t...</td>\n",
       "      <td>115</td>\n",
       "    </tr>\n",
       "    <tr>\n",
       "      <th>275</th>\n",
       "      <td>is upset that he can't update his Facebook by ...</td>\n",
       "      <td>111</td>\n",
       "    </tr>\n",
       "    <tr>\n",
       "      <th>277</th>\n",
       "      <td>@Kenichan I dived many times for the ball. Man...</td>\n",
       "      <td>89</td>\n",
       "    </tr>\n",
       "    <tr>\n",
       "      <th>279</th>\n",
       "      <td>my whole body feels itchy and like its on fire</td>\n",
       "      <td>47</td>\n",
       "    </tr>\n",
       "    <tr>\n",
       "      <th>281</th>\n",
       "      <td>@nationwideclass no, it's not behaving at all....</td>\n",
       "      <td>111</td>\n",
       "    </tr>\n",
       "  </tbody>\n",
       "</table>\n",
       "</div>"
      ],
      "text/plain": [
       "                                                  text  char_count\n",
       "271  @switchfoot http://twitpic.com/2y1zl - Awww, t...         115\n",
       "275  is upset that he can't update his Facebook by ...         111\n",
       "277  @Kenichan I dived many times for the ball. Man...          89\n",
       "279    my whole body feels itchy and like its on fire           47\n",
       "281  @nationwideclass no, it's not behaving at all....         111"
      ]
     },
     "execution_count": 29,
     "metadata": {},
     "output_type": "execute_result"
    }
   ],
   "source": [
    "#View the head of the char_count and text\n",
    "df[[\"text\",\"char_count\"]].head(5)"
   ]
  },
  {
   "cell_type": "code",
   "execution_count": 30,
   "id": "680c9175",
   "metadata": {},
   "outputs": [
    {
     "data": {
      "text/plain": [
       "374"
      ]
     },
     "execution_count": 30,
     "metadata": {},
     "output_type": "execute_result"
    }
   ],
   "source": [
    "#Find the maximum number of characters in the 'char_count' variable of the 'df' DataFrame\n",
    "largest_char_count = df[\"char_count\"].max()\n",
    "largest_char_count"
   ]
  },
  {
   "cell_type": "code",
   "execution_count": 31,
   "id": "0beff2af",
   "metadata": {},
   "outputs": [],
   "source": [
    "#define a function to calculate the average length of words in a sentence\n",
    "def avg_word(sentence):\n",
    "  words = sentence.split()\n",
    "  return (sum(len(word) for word in words)/len(words))"
   ]
  },
  {
   "cell_type": "code",
   "execution_count": 32,
   "id": "42fcb0d6",
   "metadata": {},
   "outputs": [],
   "source": [
    "#Apply the avg_word function on text\n",
    "df['avg_word'] = df['text'].apply(lambda x: avg_word(x))"
   ]
  },
  {
   "cell_type": "code",
   "execution_count": 33,
   "id": "a999cf82",
   "metadata": {},
   "outputs": [
    {
     "data": {
      "text/html": [
       "<div>\n",
       "<style scoped>\n",
       "    .dataframe tbody tr th:only-of-type {\n",
       "        vertical-align: middle;\n",
       "    }\n",
       "\n",
       "    .dataframe tbody tr th {\n",
       "        vertical-align: top;\n",
       "    }\n",
       "\n",
       "    .dataframe thead th {\n",
       "        text-align: right;\n",
       "    }\n",
       "</style>\n",
       "<table border=\"1\" class=\"dataframe\">\n",
       "  <thead>\n",
       "    <tr style=\"text-align: right;\">\n",
       "      <th></th>\n",
       "      <th>text</th>\n",
       "      <th>avg_word</th>\n",
       "    </tr>\n",
       "  </thead>\n",
       "  <tbody>\n",
       "    <tr>\n",
       "      <th>271</th>\n",
       "      <td>@switchfoot http://twitpic.com/2y1zl - Awww, t...</td>\n",
       "      <td>5.052632</td>\n",
       "    </tr>\n",
       "    <tr>\n",
       "      <th>275</th>\n",
       "      <td>is upset that he can't update his Facebook by ...</td>\n",
       "      <td>4.285714</td>\n",
       "    </tr>\n",
       "    <tr>\n",
       "      <th>277</th>\n",
       "      <td>@Kenichan I dived many times for the ball. Man...</td>\n",
       "      <td>3.944444</td>\n",
       "    </tr>\n",
       "    <tr>\n",
       "      <th>279</th>\n",
       "      <td>my whole body feels itchy and like its on fire</td>\n",
       "      <td>3.700000</td>\n",
       "    </tr>\n",
       "    <tr>\n",
       "      <th>281</th>\n",
       "      <td>@nationwideclass no, it's not behaving at all....</td>\n",
       "      <td>4.285714</td>\n",
       "    </tr>\n",
       "  </tbody>\n",
       "</table>\n",
       "</div>"
      ],
      "text/plain": [
       "                                                  text  avg_word\n",
       "271  @switchfoot http://twitpic.com/2y1zl - Awww, t...  5.052632\n",
       "275  is upset that he can't update his Facebook by ...  4.285714\n",
       "277  @Kenichan I dived many times for the ball. Man...  3.944444\n",
       "279    my whole body feels itchy and like its on fire   3.700000\n",
       "281  @nationwideclass no, it's not behaving at all....  4.285714"
      ]
     },
     "execution_count": 33,
     "metadata": {},
     "output_type": "execute_result"
    }
   ],
   "source": [
    "#View text and avg_word\n",
    "df[['text','avg_word']].head()"
   ]
  },
  {
   "cell_type": "code",
   "execution_count": 34,
   "id": "6f92a8d3",
   "metadata": {},
   "outputs": [
    {
     "data": {
      "text/plain": [
       "137.0"
      ]
     },
     "execution_count": 34,
     "metadata": {},
     "output_type": "execute_result"
    }
   ],
   "source": [
    "#Find the highest average word count of the 'df' DataFrame\n",
    "highest_avg_word = df[\"avg_word\"].max()\n",
    "highest_avg_word"
   ]
  },
  {
   "cell_type": "code",
   "execution_count": 35,
   "id": "e6ba8f00",
   "metadata": {},
   "outputs": [],
   "source": [
    "import nltk\n",
    "from nltk.corpus import stopwords\n",
    "stop = stopwords.words('english')"
   ]
  },
  {
   "cell_type": "code",
   "execution_count": 36,
   "id": "73ae7115",
   "metadata": {},
   "outputs": [
    {
     "data": {
      "text/html": [
       "<div>\n",
       "<style scoped>\n",
       "    .dataframe tbody tr th:only-of-type {\n",
       "        vertical-align: middle;\n",
       "    }\n",
       "\n",
       "    .dataframe tbody tr th {\n",
       "        vertical-align: top;\n",
       "    }\n",
       "\n",
       "    .dataframe thead th {\n",
       "        text-align: right;\n",
       "    }\n",
       "</style>\n",
       "<table border=\"1\" class=\"dataframe\">\n",
       "  <thead>\n",
       "    <tr style=\"text-align: right;\">\n",
       "      <th></th>\n",
       "      <th>text</th>\n",
       "      <th>stopwords</th>\n",
       "    </tr>\n",
       "  </thead>\n",
       "  <tbody>\n",
       "    <tr>\n",
       "      <th>271</th>\n",
       "      <td>@switchfoot http://twitpic.com/2y1zl - Awww, t...</td>\n",
       "      <td>4</td>\n",
       "    </tr>\n",
       "    <tr>\n",
       "      <th>275</th>\n",
       "      <td>is upset that he can't update his Facebook by ...</td>\n",
       "      <td>8</td>\n",
       "    </tr>\n",
       "    <tr>\n",
       "      <th>277</th>\n",
       "      <td>@Kenichan I dived many times for the ball. Man...</td>\n",
       "      <td>5</td>\n",
       "    </tr>\n",
       "    <tr>\n",
       "      <th>279</th>\n",
       "      <td>my whole body feels itchy and like its on fire</td>\n",
       "      <td>4</td>\n",
       "    </tr>\n",
       "    <tr>\n",
       "      <th>281</th>\n",
       "      <td>@nationwideclass no, it's not behaving at all....</td>\n",
       "      <td>10</td>\n",
       "    </tr>\n",
       "  </tbody>\n",
       "</table>\n",
       "</div>"
      ],
      "text/plain": [
       "                                                  text  stopwords\n",
       "271  @switchfoot http://twitpic.com/2y1zl - Awww, t...          4\n",
       "275  is upset that he can't update his Facebook by ...          8\n",
       "277  @Kenichan I dived many times for the ball. Man...          5\n",
       "279    my whole body feels itchy and like its on fire           4\n",
       "281  @nationwideclass no, it's not behaving at all....         10"
      ]
     },
     "execution_count": 36,
     "metadata": {},
     "output_type": "execute_result"
    }
   ],
   "source": [
    "#count number of stopwords in each text and store in a variable called stopwords\n",
    "df['stopwords'] = df['text'].apply(lambda x: len([x for x in x.split() if x in stop]))\n",
    "df[['text','stopwords']].head(5)"
   ]
  },
  {
   "cell_type": "code",
   "execution_count": 37,
   "id": "36e433a8",
   "metadata": {},
   "outputs": [
    {
     "data": {
      "text/plain": [
       "25"
      ]
     },
     "execution_count": 37,
     "metadata": {},
     "output_type": "execute_result"
    }
   ],
   "source": [
    "#Find the maximum number of stopwords in the 'df' DataFrame\n",
    "maximum_no_stopwords = df[\"stopwords\"].max()\n",
    "maximum_no_stopwords"
   ]
  },
  {
   "cell_type": "code",
   "execution_count": 38,
   "id": "3867b8b1",
   "metadata": {},
   "outputs": [
    {
     "data": {
      "text/html": [
       "<div>\n",
       "<style scoped>\n",
       "    .dataframe tbody tr th:only-of-type {\n",
       "        vertical-align: middle;\n",
       "    }\n",
       "\n",
       "    .dataframe tbody tr th {\n",
       "        vertical-align: top;\n",
       "    }\n",
       "\n",
       "    .dataframe thead th {\n",
       "        text-align: right;\n",
       "    }\n",
       "</style>\n",
       "<table border=\"1\" class=\"dataframe\">\n",
       "  <thead>\n",
       "    <tr style=\"text-align: right;\">\n",
       "      <th></th>\n",
       "      <th>text</th>\n",
       "      <th>hashtags</th>\n",
       "    </tr>\n",
       "  </thead>\n",
       "  <tbody>\n",
       "    <tr>\n",
       "      <th>271</th>\n",
       "      <td>@switchfoot http://twitpic.com/2y1zl - Awww, t...</td>\n",
       "      <td>0</td>\n",
       "    </tr>\n",
       "    <tr>\n",
       "      <th>275</th>\n",
       "      <td>is upset that he can't update his Facebook by ...</td>\n",
       "      <td>0</td>\n",
       "    </tr>\n",
       "    <tr>\n",
       "      <th>277</th>\n",
       "      <td>@Kenichan I dived many times for the ball. Man...</td>\n",
       "      <td>0</td>\n",
       "    </tr>\n",
       "    <tr>\n",
       "      <th>279</th>\n",
       "      <td>my whole body feels itchy and like its on fire</td>\n",
       "      <td>0</td>\n",
       "    </tr>\n",
       "    <tr>\n",
       "      <th>281</th>\n",
       "      <td>@nationwideclass no, it's not behaving at all....</td>\n",
       "      <td>0</td>\n",
       "    </tr>\n",
       "  </tbody>\n",
       "</table>\n",
       "</div>"
      ],
      "text/plain": [
       "                                                  text  hashtags\n",
       "271  @switchfoot http://twitpic.com/2y1zl - Awww, t...         0\n",
       "275  is upset that he can't update his Facebook by ...         0\n",
       "277  @Kenichan I dived many times for the ball. Man...         0\n",
       "279    my whole body feels itchy and like its on fire          0\n",
       "281  @nationwideclass no, it's not behaving at all....         0"
      ]
     },
     "execution_count": 38,
     "metadata": {},
     "output_type": "execute_result"
    }
   ],
   "source": [
    "#Count number of hashtags in each text and store in a variable called hastags\n",
    "df['hashtags'] = df['text'].apply(lambda x: len([x for x in x.split() if x.startswith('#')]))\n",
    "df[['text','hashtags']].head(5)"
   ]
  },
  {
   "cell_type": "code",
   "execution_count": 39,
   "id": "d8af1d96",
   "metadata": {},
   "outputs": [
    {
     "data": {
      "text/plain": [
       "24"
      ]
     },
     "execution_count": 39,
     "metadata": {},
     "output_type": "execute_result"
    }
   ],
   "source": [
    "#Find the maximum number of hashtags in the 'df' DataFrame\n",
    "maximum_no_hashtags = df[\"hashtags\"].max()\n",
    "maximum_no_hashtags"
   ]
  },
  {
   "cell_type": "code",
   "execution_count": 40,
   "id": "215f58b6",
   "metadata": {},
   "outputs": [
    {
     "data": {
      "text/html": [
       "<div>\n",
       "<style scoped>\n",
       "    .dataframe tbody tr th:only-of-type {\n",
       "        vertical-align: middle;\n",
       "    }\n",
       "\n",
       "    .dataframe tbody tr th {\n",
       "        vertical-align: top;\n",
       "    }\n",
       "\n",
       "    .dataframe thead th {\n",
       "        text-align: right;\n",
       "    }\n",
       "</style>\n",
       "<table border=\"1\" class=\"dataframe\">\n",
       "  <thead>\n",
       "    <tr style=\"text-align: right;\">\n",
       "      <th></th>\n",
       "      <th>text</th>\n",
       "      <th>at_sign</th>\n",
       "    </tr>\n",
       "  </thead>\n",
       "  <tbody>\n",
       "    <tr>\n",
       "      <th>271</th>\n",
       "      <td>@switchfoot http://twitpic.com/2y1zl - Awww, t...</td>\n",
       "      <td>1</td>\n",
       "    </tr>\n",
       "    <tr>\n",
       "      <th>275</th>\n",
       "      <td>is upset that he can't update his Facebook by ...</td>\n",
       "      <td>0</td>\n",
       "    </tr>\n",
       "    <tr>\n",
       "      <th>277</th>\n",
       "      <td>@Kenichan I dived many times for the ball. Man...</td>\n",
       "      <td>1</td>\n",
       "    </tr>\n",
       "    <tr>\n",
       "      <th>279</th>\n",
       "      <td>my whole body feels itchy and like its on fire</td>\n",
       "      <td>0</td>\n",
       "    </tr>\n",
       "    <tr>\n",
       "      <th>281</th>\n",
       "      <td>@nationwideclass no, it's not behaving at all....</td>\n",
       "      <td>1</td>\n",
       "    </tr>\n",
       "  </tbody>\n",
       "</table>\n",
       "</div>"
      ],
      "text/plain": [
       "                                                  text  at_sign\n",
       "271  @switchfoot http://twitpic.com/2y1zl - Awww, t...        1\n",
       "275  is upset that he can't update his Facebook by ...        0\n",
       "277  @Kenichan I dived many times for the ball. Man...        1\n",
       "279    my whole body feels itchy and like its on fire         0\n",
       "281  @nationwideclass no, it's not behaving at all....        1"
      ]
     },
     "execution_count": 40,
     "metadata": {},
     "output_type": "execute_result"
    }
   ],
   "source": [
    "#count number of @ signs in text variable and store the value in a variable called at_sign\n",
    "df['at_sign'] = df['text'].apply(lambda x: len([x for x in x.split() if x.startswith('@')]))\n",
    "df[['text','at_sign']].head(5)"
   ]
  },
  {
   "cell_type": "code",
   "execution_count": 41,
   "id": "6ddf8416",
   "metadata": {},
   "outputs": [
    {
     "data": {
      "text/plain": [
       "12"
      ]
     },
     "execution_count": 41,
     "metadata": {},
     "output_type": "execute_result"
    }
   ],
   "source": [
    "#Find the maximum number of at_sign in the 'df' DataFrame\n",
    "maximum_no_atsign = df[\"at_sign\"].max()\n",
    "maximum_no_atsign"
   ]
  },
  {
   "cell_type": "code",
   "execution_count": 42,
   "id": "97dc763c",
   "metadata": {},
   "outputs": [
    {
     "data": {
      "text/html": [
       "<div>\n",
       "<style scoped>\n",
       "    .dataframe tbody tr th:only-of-type {\n",
       "        vertical-align: middle;\n",
       "    }\n",
       "\n",
       "    .dataframe tbody tr th {\n",
       "        vertical-align: top;\n",
       "    }\n",
       "\n",
       "    .dataframe thead th {\n",
       "        text-align: right;\n",
       "    }\n",
       "</style>\n",
       "<table border=\"1\" class=\"dataframe\">\n",
       "  <thead>\n",
       "    <tr style=\"text-align: right;\">\n",
       "      <th></th>\n",
       "      <th>text</th>\n",
       "      <th>numerics</th>\n",
       "    </tr>\n",
       "  </thead>\n",
       "  <tbody>\n",
       "    <tr>\n",
       "      <th>271</th>\n",
       "      <td>@switchfoot http://twitpic.com/2y1zl - Awww, t...</td>\n",
       "      <td>0</td>\n",
       "    </tr>\n",
       "    <tr>\n",
       "      <th>275</th>\n",
       "      <td>is upset that he can't update his Facebook by ...</td>\n",
       "      <td>0</td>\n",
       "    </tr>\n",
       "    <tr>\n",
       "      <th>277</th>\n",
       "      <td>@Kenichan I dived many times for the ball. Man...</td>\n",
       "      <td>0</td>\n",
       "    </tr>\n",
       "    <tr>\n",
       "      <th>279</th>\n",
       "      <td>my whole body feels itchy and like its on fire</td>\n",
       "      <td>0</td>\n",
       "    </tr>\n",
       "    <tr>\n",
       "      <th>281</th>\n",
       "      <td>@nationwideclass no, it's not behaving at all....</td>\n",
       "      <td>0</td>\n",
       "    </tr>\n",
       "  </tbody>\n",
       "</table>\n",
       "</div>"
      ],
      "text/plain": [
       "                                                  text  numerics\n",
       "271  @switchfoot http://twitpic.com/2y1zl - Awww, t...         0\n",
       "275  is upset that he can't update his Facebook by ...         0\n",
       "277  @Kenichan I dived many times for the ball. Man...         0\n",
       "279    my whole body feels itchy and like its on fire          0\n",
       "281  @nationwideclass no, it's not behaving at all....         0"
      ]
     },
     "execution_count": 42,
     "metadata": {},
     "output_type": "execute_result"
    }
   ],
   "source": [
    "#count number of numerics in the text variable and store the value in a variable called numeric\n",
    "df['numerics'] = df['text'].apply(lambda x: len([x for x in x.split() if x.isdigit()]))\n",
    "df[['text','numerics']].head(5)"
   ]
  },
  {
   "cell_type": "code",
   "execution_count": 43,
   "id": "257d31fb",
   "metadata": {},
   "outputs": [
    {
     "data": {
      "text/plain": [
       "13"
      ]
     },
     "execution_count": 43,
     "metadata": {},
     "output_type": "execute_result"
    }
   ],
   "source": [
    "#Find the maximum number of numerics in the 'df' DataFrame\n",
    "maximum_no_numerics = df[\"numerics\"].max()\n",
    "maximum_no_numerics"
   ]
  },
  {
   "cell_type": "code",
   "execution_count": 44,
   "id": "357e2bef",
   "metadata": {},
   "outputs": [
    {
     "data": {
      "text/html": [
       "<div>\n",
       "<style scoped>\n",
       "    .dataframe tbody tr th:only-of-type {\n",
       "        vertical-align: middle;\n",
       "    }\n",
       "\n",
       "    .dataframe tbody tr th {\n",
       "        vertical-align: top;\n",
       "    }\n",
       "\n",
       "    .dataframe thead th {\n",
       "        text-align: right;\n",
       "    }\n",
       "</style>\n",
       "<table border=\"1\" class=\"dataframe\">\n",
       "  <thead>\n",
       "    <tr style=\"text-align: right;\">\n",
       "      <th></th>\n",
       "      <th>text</th>\n",
       "      <th>upper</th>\n",
       "    </tr>\n",
       "  </thead>\n",
       "  <tbody>\n",
       "    <tr>\n",
       "      <th>271</th>\n",
       "      <td>@switchfoot http://twitpic.com/2y1zl - Awww, t...</td>\n",
       "      <td>1</td>\n",
       "    </tr>\n",
       "    <tr>\n",
       "      <th>275</th>\n",
       "      <td>is upset that he can't update his Facebook by ...</td>\n",
       "      <td>0</td>\n",
       "    </tr>\n",
       "    <tr>\n",
       "      <th>277</th>\n",
       "      <td>@Kenichan I dived many times for the ball. Man...</td>\n",
       "      <td>1</td>\n",
       "    </tr>\n",
       "    <tr>\n",
       "      <th>279</th>\n",
       "      <td>my whole body feels itchy and like its on fire</td>\n",
       "      <td>0</td>\n",
       "    </tr>\n",
       "    <tr>\n",
       "      <th>281</th>\n",
       "      <td>@nationwideclass no, it's not behaving at all....</td>\n",
       "      <td>1</td>\n",
       "    </tr>\n",
       "  </tbody>\n",
       "</table>\n",
       "</div>"
      ],
      "text/plain": [
       "                                                  text  upper\n",
       "271  @switchfoot http://twitpic.com/2y1zl - Awww, t...      1\n",
       "275  is upset that he can't update his Facebook by ...      0\n",
       "277  @Kenichan I dived many times for the ball. Man...      1\n",
       "279    my whole body feels itchy and like its on fire       0\n",
       "281  @nationwideclass no, it's not behaving at all....      1"
      ]
     },
     "execution_count": 44,
     "metadata": {},
     "output_type": "execute_result"
    }
   ],
   "source": [
    "#count number of uppercases in the text variable and store the value in a variable called upper\n",
    "df['upper'] = df['text'].apply(lambda x: len([x for x in x.split() if x.isupper()]))\n",
    "df[['text','upper']].head(5)"
   ]
  },
  {
   "cell_type": "code",
   "execution_count": 45,
   "id": "bfaf7b04",
   "metadata": {},
   "outputs": [
    {
     "data": {
      "text/plain": [
       "40"
      ]
     },
     "execution_count": 45,
     "metadata": {},
     "output_type": "execute_result"
    }
   ],
   "source": [
    "#Find the maximum number of uppercases in the 'df' DataFrame\n",
    "maximum_no_uppercases = df[\"upper\"].max()\n",
    "maximum_no_uppercases"
   ]
  },
  {
   "cell_type": "code",
   "execution_count": 46,
   "id": "067877a7",
   "metadata": {},
   "outputs": [
    {
     "data": {
      "text/plain": [
       "date          0\n",
       "text          0\n",
       "user          0\n",
       "day           0\n",
       "month         0\n",
       "word_count    0\n",
       "char_count    0\n",
       "avg_word      0\n",
       "stopwords     0\n",
       "hashtags      0\n",
       "at_sign       0\n",
       "numerics      0\n",
       "upper         0\n",
       "dtype: int64"
      ]
     },
     "execution_count": 46,
     "metadata": {},
     "output_type": "execute_result"
    }
   ],
   "source": [
    "df.isnull().sum()"
   ]
  },
  {
   "cell_type": "code",
   "execution_count": 47,
   "id": "7577f454",
   "metadata": {},
   "outputs": [
    {
     "name": "stdout",
     "output_type": "stream",
     "text": [
      "Number of duplicate rows: 0\n"
     ]
    }
   ],
   "source": [
    "# Count the duplicate rows in the DataFrame\n",
    "duplicate_count = df.duplicated().sum()\n",
    "\n",
    "print(\"Number of duplicate rows:\", duplicate_count)"
   ]
  },
  {
   "cell_type": "markdown",
   "id": "032a4fed",
   "metadata": {},
   "source": [
    "## Tweets Processing\n",
    "Tweet/text processing involves:-\n",
    "\n",
    "a) Text Normalization \n",
    "- Remove special characters\n",
    "- Change the upper cases to lower cases\n",
    "- Remove numbers/integers\n",
    "- Remove punctuations\n",
    "- Remove white space\n",
    "- Remove URLS/links\n",
    "\n",
    "b) Tokenization\n",
    "- Tokenization\n",
    "\n",
    "c) Remove stopwords\n",
    "\n",
    "d) Stemming/ lemmatization"
   ]
  },
  {
   "cell_type": "markdown",
   "id": "c6259fe3",
   "metadata": {},
   "source": [
    "## Text Normalization"
   ]
  },
  {
   "cell_type": "markdown",
   "id": "62f8d621",
   "metadata": {},
   "source": [
    "### Remove user name from text @username"
   ]
  },
  {
   "cell_type": "code",
   "execution_count": 48,
   "id": "0897a6a0",
   "metadata": {},
   "outputs": [
    {
     "name": "stdout",
     "output_type": "stream",
     "text": [
      "271     http://twitpic.com/2y1zl - Awww, that's a bum...\n",
      "275    is upset that he can't update his Facebook by ...\n",
      "277     I dived many times for the ball. Managed to s...\n",
      "279      my whole body feels itchy and like its on fire \n",
      "281     no, it's not behaving at all. i'm mad. why am...\n",
      "Name: text1, dtype: object\n"
     ]
    }
   ],
   "source": [
    "import re\n",
    "\n",
    "#Define a function to remove user names from text\n",
    "def remove_usernames(text):\n",
    "    return re.sub(r'@\\w+', '', text)\n",
    "\n",
    "#Apply the function to the 'text' variable\n",
    "df['text1'] = df['text'].apply(remove_usernames)\n",
    "\n",
    "# Print the first few rows of the DataFrame with user names removed from text\n",
    "print(df['text1'].head())\n"
   ]
  },
  {
   "cell_type": "markdown",
   "id": "0367d5f5",
   "metadata": {},
   "source": [
    "### Remove url/www.links"
   ]
  },
  {
   "cell_type": "code",
   "execution_count": 49,
   "id": "b9af8b72",
   "metadata": {},
   "outputs": [],
   "source": [
    "import re\n",
    "\n",
    "def remove_urls(df):\n",
    "    #Define regex pattern to match URLs\n",
    "    url_pattern = r'https?://\\S+|www\\.\\S+'\n",
    "    \n",
    "    #Apply regex substitution to each row of the 'text' column\n",
    "    df['text1'] = df['text1'].apply(lambda text: re.sub(url_pattern, '', text))\n",
    "    \n",
    "    return df\n",
    "\n",
    "# remove a url\n",
    "df = remove_urls(df)\n"
   ]
  },
  {
   "cell_type": "code",
   "execution_count": 50,
   "id": "5b5fcfc9",
   "metadata": {},
   "outputs": [
    {
     "data": {
      "text/html": [
       "<div>\n",
       "<style scoped>\n",
       "    .dataframe tbody tr th:only-of-type {\n",
       "        vertical-align: middle;\n",
       "    }\n",
       "\n",
       "    .dataframe tbody tr th {\n",
       "        vertical-align: top;\n",
       "    }\n",
       "\n",
       "    .dataframe thead th {\n",
       "        text-align: right;\n",
       "    }\n",
       "</style>\n",
       "<table border=\"1\" class=\"dataframe\">\n",
       "  <thead>\n",
       "    <tr style=\"text-align: right;\">\n",
       "      <th></th>\n",
       "      <th>date</th>\n",
       "      <th>text</th>\n",
       "      <th>user</th>\n",
       "      <th>day</th>\n",
       "      <th>month</th>\n",
       "      <th>word_count</th>\n",
       "      <th>char_count</th>\n",
       "      <th>avg_word</th>\n",
       "      <th>stopwords</th>\n",
       "      <th>hashtags</th>\n",
       "      <th>at_sign</th>\n",
       "      <th>numerics</th>\n",
       "      <th>upper</th>\n",
       "      <th>text1</th>\n",
       "    </tr>\n",
       "  </thead>\n",
       "  <tbody>\n",
       "    <tr>\n",
       "      <th>271</th>\n",
       "      <td>2009-04-07 05:19:45</td>\n",
       "      <td>@switchfoot http://twitpic.com/2y1zl - Awww, t...</td>\n",
       "      <td>_TheSpecialOne_</td>\n",
       "      <td>7</td>\n",
       "      <td>4</td>\n",
       "      <td>20</td>\n",
       "      <td>115</td>\n",
       "      <td>5.052632</td>\n",
       "      <td>4</td>\n",
       "      <td>0</td>\n",
       "      <td>1</td>\n",
       "      <td>0</td>\n",
       "      <td>1</td>\n",
       "      <td>- Awww, that's a bummer.  You shoulda got Da...</td>\n",
       "    </tr>\n",
       "    <tr>\n",
       "      <th>275</th>\n",
       "      <td>2009-04-07 05:19:49</td>\n",
       "      <td>is upset that he can't update his Facebook by ...</td>\n",
       "      <td>scotthamilton</td>\n",
       "      <td>7</td>\n",
       "      <td>4</td>\n",
       "      <td>22</td>\n",
       "      <td>111</td>\n",
       "      <td>4.285714</td>\n",
       "      <td>8</td>\n",
       "      <td>0</td>\n",
       "      <td>0</td>\n",
       "      <td>0</td>\n",
       "      <td>0</td>\n",
       "      <td>is upset that he can't update his Facebook by ...</td>\n",
       "    </tr>\n",
       "    <tr>\n",
       "      <th>277</th>\n",
       "      <td>2009-04-07 05:19:53</td>\n",
       "      <td>@Kenichan I dived many times for the ball. Man...</td>\n",
       "      <td>mattycus</td>\n",
       "      <td>7</td>\n",
       "      <td>4</td>\n",
       "      <td>19</td>\n",
       "      <td>89</td>\n",
       "      <td>3.944444</td>\n",
       "      <td>5</td>\n",
       "      <td>0</td>\n",
       "      <td>1</td>\n",
       "      <td>0</td>\n",
       "      <td>1</td>\n",
       "      <td>I dived many times for the ball. Managed to s...</td>\n",
       "    </tr>\n",
       "    <tr>\n",
       "      <th>279</th>\n",
       "      <td>2009-04-07 05:19:57</td>\n",
       "      <td>my whole body feels itchy and like its on fire</td>\n",
       "      <td>ElleCTF</td>\n",
       "      <td>7</td>\n",
       "      <td>4</td>\n",
       "      <td>11</td>\n",
       "      <td>47</td>\n",
       "      <td>3.700000</td>\n",
       "      <td>4</td>\n",
       "      <td>0</td>\n",
       "      <td>0</td>\n",
       "      <td>0</td>\n",
       "      <td>0</td>\n",
       "      <td>my whole body feels itchy and like its on fire</td>\n",
       "    </tr>\n",
       "    <tr>\n",
       "      <th>281</th>\n",
       "      <td>2009-04-07 05:19:57</td>\n",
       "      <td>@nationwideclass no, it's not behaving at all....</td>\n",
       "      <td>Karoli</td>\n",
       "      <td>7</td>\n",
       "      <td>4</td>\n",
       "      <td>22</td>\n",
       "      <td>111</td>\n",
       "      <td>4.285714</td>\n",
       "      <td>10</td>\n",
       "      <td>0</td>\n",
       "      <td>1</td>\n",
       "      <td>0</td>\n",
       "      <td>1</td>\n",
       "      <td>no, it's not behaving at all. i'm mad. why am...</td>\n",
       "    </tr>\n",
       "  </tbody>\n",
       "</table>\n",
       "</div>"
      ],
      "text/plain": [
       "                   date                                               text  \\\n",
       "271 2009-04-07 05:19:45  @switchfoot http://twitpic.com/2y1zl - Awww, t...   \n",
       "275 2009-04-07 05:19:49  is upset that he can't update his Facebook by ...   \n",
       "277 2009-04-07 05:19:53  @Kenichan I dived many times for the ball. Man...   \n",
       "279 2009-04-07 05:19:57    my whole body feels itchy and like its on fire    \n",
       "281 2009-04-07 05:19:57  @nationwideclass no, it's not behaving at all....   \n",
       "\n",
       "                user  day  month  word_count  char_count  avg_word  stopwords  \\\n",
       "271  _TheSpecialOne_    7      4          20         115  5.052632          4   \n",
       "275    scotthamilton    7      4          22         111  4.285714          8   \n",
       "277         mattycus    7      4          19          89  3.944444          5   \n",
       "279          ElleCTF    7      4          11          47  3.700000          4   \n",
       "281           Karoli    7      4          22         111  4.285714         10   \n",
       "\n",
       "     hashtags  at_sign  numerics  upper  \\\n",
       "271         0        1         0      1   \n",
       "275         0        0         0      0   \n",
       "277         0        1         0      1   \n",
       "279         0        0         0      0   \n",
       "281         0        1         0      1   \n",
       "\n",
       "                                                 text1  \n",
       "271    - Awww, that's a bummer.  You shoulda got Da...  \n",
       "275  is upset that he can't update his Facebook by ...  \n",
       "277   I dived many times for the ball. Managed to s...  \n",
       "279    my whole body feels itchy and like its on fire   \n",
       "281   no, it's not behaving at all. i'm mad. why am...  "
      ]
     },
     "execution_count": 50,
     "metadata": {},
     "output_type": "execute_result"
    }
   ],
   "source": [
    "df.head(5)"
   ]
  },
  {
   "cell_type": "markdown",
   "id": "05504883",
   "metadata": {},
   "source": [
    "### Remove all special characters"
   ]
  },
  {
   "cell_type": "code",
   "execution_count": 51,
   "id": "e0ae0c61",
   "metadata": {},
   "outputs": [
    {
     "name": "stderr",
     "output_type": "stream",
     "text": [
      "C:\\Users\\Diana\\AppData\\Local\\Temp\\ipykernel_16916\\1096157190.py:2: FutureWarning: The default value of regex will change from True to False in a future version.\n",
      "  df['text1'] = df['text1'].str.replace('[^\\w\\s]','')\n"
     ]
    },
    {
     "data": {
      "text/plain": [
       "271       Awww thats a bummer  You shoulda got David ...\n",
       "275    is upset that he cant update his Facebook by t...\n",
       "277     I dived many times for the ball Managed to sa...\n",
       "279      my whole body feels itchy and like its on fire \n",
       "281     no its not behaving at all im mad why am i he...\n",
       "Name: text1, dtype: object"
      ]
     },
     "execution_count": 51,
     "metadata": {},
     "output_type": "execute_result"
    }
   ],
   "source": [
    "#Remove all special characters\n",
    "df['text1'] = df['text1'].str.replace('[^\\w\\s]','')\n",
    "df['text1'].head(5)"
   ]
  },
  {
   "cell_type": "markdown",
   "id": "b24c471b",
   "metadata": {},
   "source": [
    "### Remove punctuations"
   ]
  },
  {
   "cell_type": "code",
   "execution_count": 52,
   "id": "e96dc770",
   "metadata": {},
   "outputs": [],
   "source": [
    "#Remove punctuations\n",
    "import string\n",
    "\n",
    "def remove_punctuation(text):\n",
    "    translator = str.maketrans('', '', string.punctuation)\n",
    "    return text.translate(translator)\n",
    "\n",
    "#Apply remove_punctuation function to the 'text' column\n",
    "df['text1'] = df['text1'].apply(remove_punctuation)\n"
   ]
  },
  {
   "cell_type": "code",
   "execution_count": 53,
   "id": "d48d8151",
   "metadata": {},
   "outputs": [
    {
     "data": {
      "text/html": [
       "<div>\n",
       "<style scoped>\n",
       "    .dataframe tbody tr th:only-of-type {\n",
       "        vertical-align: middle;\n",
       "    }\n",
       "\n",
       "    .dataframe tbody tr th {\n",
       "        vertical-align: top;\n",
       "    }\n",
       "\n",
       "    .dataframe thead th {\n",
       "        text-align: right;\n",
       "    }\n",
       "</style>\n",
       "<table border=\"1\" class=\"dataframe\">\n",
       "  <thead>\n",
       "    <tr style=\"text-align: right;\">\n",
       "      <th></th>\n",
       "      <th>date</th>\n",
       "      <th>text</th>\n",
       "      <th>user</th>\n",
       "      <th>day</th>\n",
       "      <th>month</th>\n",
       "      <th>word_count</th>\n",
       "      <th>char_count</th>\n",
       "      <th>avg_word</th>\n",
       "      <th>stopwords</th>\n",
       "      <th>hashtags</th>\n",
       "      <th>at_sign</th>\n",
       "      <th>numerics</th>\n",
       "      <th>upper</th>\n",
       "      <th>text1</th>\n",
       "    </tr>\n",
       "  </thead>\n",
       "  <tbody>\n",
       "    <tr>\n",
       "      <th>271</th>\n",
       "      <td>2009-04-07 05:19:45</td>\n",
       "      <td>@switchfoot http://twitpic.com/2y1zl - Awww, t...</td>\n",
       "      <td>_TheSpecialOne_</td>\n",
       "      <td>7</td>\n",
       "      <td>4</td>\n",
       "      <td>20</td>\n",
       "      <td>115</td>\n",
       "      <td>5.052632</td>\n",
       "      <td>4</td>\n",
       "      <td>0</td>\n",
       "      <td>1</td>\n",
       "      <td>0</td>\n",
       "      <td>1</td>\n",
       "      <td>Awww thats a bummer  You shoulda got David ...</td>\n",
       "    </tr>\n",
       "    <tr>\n",
       "      <th>275</th>\n",
       "      <td>2009-04-07 05:19:49</td>\n",
       "      <td>is upset that he can't update his Facebook by ...</td>\n",
       "      <td>scotthamilton</td>\n",
       "      <td>7</td>\n",
       "      <td>4</td>\n",
       "      <td>22</td>\n",
       "      <td>111</td>\n",
       "      <td>4.285714</td>\n",
       "      <td>8</td>\n",
       "      <td>0</td>\n",
       "      <td>0</td>\n",
       "      <td>0</td>\n",
       "      <td>0</td>\n",
       "      <td>is upset that he cant update his Facebook by t...</td>\n",
       "    </tr>\n",
       "    <tr>\n",
       "      <th>277</th>\n",
       "      <td>2009-04-07 05:19:53</td>\n",
       "      <td>@Kenichan I dived many times for the ball. Man...</td>\n",
       "      <td>mattycus</td>\n",
       "      <td>7</td>\n",
       "      <td>4</td>\n",
       "      <td>19</td>\n",
       "      <td>89</td>\n",
       "      <td>3.944444</td>\n",
       "      <td>5</td>\n",
       "      <td>0</td>\n",
       "      <td>1</td>\n",
       "      <td>0</td>\n",
       "      <td>1</td>\n",
       "      <td>I dived many times for the ball Managed to sa...</td>\n",
       "    </tr>\n",
       "    <tr>\n",
       "      <th>279</th>\n",
       "      <td>2009-04-07 05:19:57</td>\n",
       "      <td>my whole body feels itchy and like its on fire</td>\n",
       "      <td>ElleCTF</td>\n",
       "      <td>7</td>\n",
       "      <td>4</td>\n",
       "      <td>11</td>\n",
       "      <td>47</td>\n",
       "      <td>3.700000</td>\n",
       "      <td>4</td>\n",
       "      <td>0</td>\n",
       "      <td>0</td>\n",
       "      <td>0</td>\n",
       "      <td>0</td>\n",
       "      <td>my whole body feels itchy and like its on fire</td>\n",
       "    </tr>\n",
       "    <tr>\n",
       "      <th>281</th>\n",
       "      <td>2009-04-07 05:19:57</td>\n",
       "      <td>@nationwideclass no, it's not behaving at all....</td>\n",
       "      <td>Karoli</td>\n",
       "      <td>7</td>\n",
       "      <td>4</td>\n",
       "      <td>22</td>\n",
       "      <td>111</td>\n",
       "      <td>4.285714</td>\n",
       "      <td>10</td>\n",
       "      <td>0</td>\n",
       "      <td>1</td>\n",
       "      <td>0</td>\n",
       "      <td>1</td>\n",
       "      <td>no its not behaving at all im mad why am i he...</td>\n",
       "    </tr>\n",
       "  </tbody>\n",
       "</table>\n",
       "</div>"
      ],
      "text/plain": [
       "                   date                                               text  \\\n",
       "271 2009-04-07 05:19:45  @switchfoot http://twitpic.com/2y1zl - Awww, t...   \n",
       "275 2009-04-07 05:19:49  is upset that he can't update his Facebook by ...   \n",
       "277 2009-04-07 05:19:53  @Kenichan I dived many times for the ball. Man...   \n",
       "279 2009-04-07 05:19:57    my whole body feels itchy and like its on fire    \n",
       "281 2009-04-07 05:19:57  @nationwideclass no, it's not behaving at all....   \n",
       "\n",
       "                user  day  month  word_count  char_count  avg_word  stopwords  \\\n",
       "271  _TheSpecialOne_    7      4          20         115  5.052632          4   \n",
       "275    scotthamilton    7      4          22         111  4.285714          8   \n",
       "277         mattycus    7      4          19          89  3.944444          5   \n",
       "279          ElleCTF    7      4          11          47  3.700000          4   \n",
       "281           Karoli    7      4          22         111  4.285714         10   \n",
       "\n",
       "     hashtags  at_sign  numerics  upper  \\\n",
       "271         0        1         0      1   \n",
       "275         0        0         0      0   \n",
       "277         0        1         0      1   \n",
       "279         0        0         0      0   \n",
       "281         0        1         0      1   \n",
       "\n",
       "                                                 text1  \n",
       "271     Awww thats a bummer  You shoulda got David ...  \n",
       "275  is upset that he cant update his Facebook by t...  \n",
       "277   I dived many times for the ball Managed to sa...  \n",
       "279    my whole body feels itchy and like its on fire   \n",
       "281   no its not behaving at all im mad why am i he...  "
      ]
     },
     "execution_count": 53,
     "metadata": {},
     "output_type": "execute_result"
    }
   ],
   "source": [
    "df.head(5)"
   ]
  },
  {
   "cell_type": "markdown",
   "id": "c082be72",
   "metadata": {},
   "source": [
    "### Convert all upper cases to lower"
   ]
  },
  {
   "cell_type": "code",
   "execution_count": 54,
   "id": "54b1f659",
   "metadata": {},
   "outputs": [
    {
     "data": {
      "text/plain": [
       "271    awww thats a bummer you shoulda got david carr...\n",
       "275    is upset that he cant update his facebook by t...\n",
       "277    i dived many times for the ball managed to sav...\n",
       "279       my whole body feels itchy and like its on fire\n",
       "281    no its not behaving at all im mad why am i her...\n",
       "Name: text1, dtype: object"
      ]
     },
     "execution_count": 54,
     "metadata": {},
     "output_type": "execute_result"
    }
   ],
   "source": [
    "#Convert all uppercases to lower cases\n",
    "df['text1'] = df['text1'].apply(lambda x: \" \".join(x.lower() for x in x.split()))\n",
    "df['text1'].head(5)"
   ]
  },
  {
   "cell_type": "markdown",
   "id": "88f00493",
   "metadata": {},
   "source": [
    "## Handling numerics "
   ]
  },
  {
   "cell_type": "code",
   "execution_count": 55,
   "id": "e916d994",
   "metadata": {},
   "outputs": [
    {
     "data": {
      "text/plain": [
       "271    awww thats a bummer you shoulda got david carr...\n",
       "275    is upset that he cant update his facebook by t...\n",
       "277    i dived many times for the ball managed to sav...\n",
       "279       my whole body feels itchy and like its on fire\n",
       "281    no its not behaving at all im mad why am i her...\n",
       "Name: text1, dtype: object"
      ]
     },
     "execution_count": 55,
     "metadata": {},
     "output_type": "execute_result"
    }
   ],
   "source": [
    "import re\n",
    "import pandas as pd\n",
    "\n",
    "#Function to remove numbers from text1\n",
    "def remove_numbers(text):\n",
    "    return re.sub(r'\\d+', '', text)\n",
    "\n",
    "# Apply the function to remove numbers to the 'text1\n",
    "df['text1'] = df['text1'].apply(lambda x: remove_numbers(x))\n",
    "df['text1'].head(5)"
   ]
  },
  {
   "cell_type": "markdown",
   "id": "50a2a1ff",
   "metadata": {},
   "source": [
    "## Tokenization"
   ]
  },
  {
   "cell_type": "code",
   "execution_count": 56,
   "id": "0051aa22",
   "metadata": {},
   "outputs": [
    {
     "name": "stderr",
     "output_type": "stream",
     "text": [
      "[nltk_data] Downloading package punkt to\n",
      "[nltk_data]     C:\\Users\\Diana\\AppData\\Roaming\\nltk_data...\n",
      "[nltk_data]   Package punkt is already up-to-date!\n",
      "[nltk_data] Downloading package stopwords to\n",
      "[nltk_data]     C:\\Users\\Diana\\AppData\\Roaming\\nltk_data...\n",
      "[nltk_data]   Package stopwords is already up-to-date!\n",
      "[nltk_data] Downloading package wordnet to\n",
      "[nltk_data]     C:\\Users\\Diana\\AppData\\Roaming\\nltk_data...\n",
      "[nltk_data]   Package wordnet is already up-to-date!\n",
      "[nltk_data] Downloading package averaged_perceptron_tagger to\n",
      "[nltk_data]     C:\\Users\\Diana\\AppData\\Roaming\\nltk_data...\n",
      "[nltk_data]   Package averaged_perceptron_tagger is already up-to-\n",
      "[nltk_data]       date!\n"
     ]
    },
    {
     "data": {
      "text/plain": [
       "True"
      ]
     },
     "execution_count": 56,
     "metadata": {},
     "output_type": "execute_result"
    }
   ],
   "source": [
    "import nltk\n",
    "nltk.download('punkt')\n",
    "nltk.download('stopwords')\n",
    "nltk.download('wordnet')\n",
    "nltk.download('averaged_perceptron_tagger')"
   ]
  },
  {
   "cell_type": "markdown",
   "id": "9822d4c2",
   "metadata": {},
   "source": [
    "## Word Tokenization"
   ]
  },
  {
   "cell_type": "code",
   "execution_count": 57,
   "id": "5ce71f81",
   "metadata": {},
   "outputs": [
    {
     "data": {
      "text/html": [
       "<div>\n",
       "<style scoped>\n",
       "    .dataframe tbody tr th:only-of-type {\n",
       "        vertical-align: middle;\n",
       "    }\n",
       "\n",
       "    .dataframe tbody tr th {\n",
       "        vertical-align: top;\n",
       "    }\n",
       "\n",
       "    .dataframe thead th {\n",
       "        text-align: right;\n",
       "    }\n",
       "</style>\n",
       "<table border=\"1\" class=\"dataframe\">\n",
       "  <thead>\n",
       "    <tr style=\"text-align: right;\">\n",
       "      <th></th>\n",
       "      <th>text1</th>\n",
       "      <th>tokenized_text</th>\n",
       "    </tr>\n",
       "  </thead>\n",
       "  <tbody>\n",
       "    <tr>\n",
       "      <th>271</th>\n",
       "      <td>awww thats a bummer you shoulda got david carr...</td>\n",
       "      <td>awww thats a bummer you shoulda got david carr...</td>\n",
       "    </tr>\n",
       "    <tr>\n",
       "      <th>275</th>\n",
       "      <td>is upset that he cant update his facebook by t...</td>\n",
       "      <td>is upset that he cant update his facebook by t...</td>\n",
       "    </tr>\n",
       "    <tr>\n",
       "      <th>277</th>\n",
       "      <td>i dived many times for the ball managed to sav...</td>\n",
       "      <td>i dived many times for the ball managed to sav...</td>\n",
       "    </tr>\n",
       "    <tr>\n",
       "      <th>279</th>\n",
       "      <td>my whole body feels itchy and like its on fire</td>\n",
       "      <td>my whole body feels itchy and like its on fire</td>\n",
       "    </tr>\n",
       "    <tr>\n",
       "      <th>281</th>\n",
       "      <td>no its not behaving at all im mad why am i her...</td>\n",
       "      <td>no its not behaving at all im mad why am i her...</td>\n",
       "    </tr>\n",
       "  </tbody>\n",
       "</table>\n",
       "</div>"
      ],
      "text/plain": [
       "                                                 text1  \\\n",
       "271  awww thats a bummer you shoulda got david carr...   \n",
       "275  is upset that he cant update his facebook by t...   \n",
       "277  i dived many times for the ball managed to sav...   \n",
       "279     my whole body feels itchy and like its on fire   \n",
       "281  no its not behaving at all im mad why am i her...   \n",
       "\n",
       "                                        tokenized_text  \n",
       "271  awww thats a bummer you shoulda got david carr...  \n",
       "275  is upset that he cant update his facebook by t...  \n",
       "277  i dived many times for the ball managed to sav...  \n",
       "279     my whole body feels itchy and like its on fire  \n",
       "281  no its not behaving at all im mad why am i her...  "
      ]
     },
     "execution_count": 57,
     "metadata": {},
     "output_type": "execute_result"
    }
   ],
   "source": [
    "from nltk.tokenize import word_tokenize\n",
    "\n",
    "#Tokenize the text using NLTK's word tokenizer\n",
    "df['tokenized_text'] = df['text1'].apply(lambda x: ' '.join(word_tokenize(x.lower())))\n",
    "\n",
    "#Print the first few rows of the DataFrame with tokenized text\n",
    "df[['text1', 'tokenized_text']].head(5)"
   ]
  },
  {
   "cell_type": "markdown",
   "id": "e6955a99",
   "metadata": {},
   "source": [
    "## Remove stopwords"
   ]
  },
  {
   "cell_type": "code",
   "execution_count": 58,
   "id": "d8a4322f",
   "metadata": {},
   "outputs": [
    {
     "name": "stderr",
     "output_type": "stream",
     "text": [
      "[nltk_data] Downloading package stopwords to\n",
      "[nltk_data]     C:\\Users\\Diana\\AppData\\Roaming\\nltk_data...\n",
      "[nltk_data]   Package stopwords is already up-to-date!\n"
     ]
    },
    {
     "name": "stdout",
     "output_type": "stream",
     "text": [
      "                                                 text1  \\\n",
      "271  awww thats a bummer you shoulda got david carr...   \n",
      "275  is upset that he cant update his facebook by t...   \n",
      "277  i dived many times for the ball managed to sav...   \n",
      "279     my whole body feels itchy and like its on fire   \n",
      "281  no its not behaving at all im mad why am i her...   \n",
      "\n",
      "                                        tokenized_text  \n",
      "271  awww thats bummer shoulda got david carr third...  \n",
      "275  upset cant update facebook texting might cry r...  \n",
      "277  dived many times ball managed save rest go bounds  \n",
      "279                   whole body feels itchy like fire  \n",
      "281                           behaving im mad cant see  \n"
     ]
    }
   ],
   "source": [
    "from nltk.corpus import stopwords\n",
    "\n",
    "#Download NLTK resources for the first time\n",
    "nltk.download('stopwords')\n",
    "\n",
    "#Get the English stopwords list\n",
    "stop_words = set(stopwords.words('english'))\n",
    "\n",
    "#Function to remove stopwords\n",
    "def remove_stopwords(tokenized_text):\n",
    "    return ' '.join([word for word in tokenized_text.split() if word.lower() not in stop_words])\n",
    "\n",
    "#Remove stopwords from the tokenized text column\n",
    "df['tokenized_text'] = df['tokenized_text'].apply(remove_stopwords)\n",
    "\n",
    "# Print the first few rows of the DataFrame with stopwords removed\n",
    "print(df[['text1', 'tokenized_text']].head())"
   ]
  },
  {
   "cell_type": "code",
   "execution_count": 59,
   "id": "f4e94130",
   "metadata": {},
   "outputs": [],
   "source": [
    "#Create a Frequency Distribution of the tokenized words\n",
    "#Import Frequency Distribution\n",
    "from nltk.probability import FreqDist\n",
    "\n",
    "#Find frequency distribution of tokenized_text\n",
    "fdist = FreqDist(df['tokenized_text'])"
   ]
  },
  {
   "cell_type": "code",
   "execution_count": 60,
   "id": "608040c9",
   "metadata": {},
   "outputs": [
    {
     "data": {
      "text/plain": [
       "[('', 7083),\n",
       " ('thanks', 2334),\n",
       " ('thank', 1576),\n",
       " ('get followers day using add everyone train pay vip', 1484),\n",
       " ('good morning', 1144)]"
      ]
     },
     "execution_count": 60,
     "metadata": {},
     "output_type": "execute_result"
    }
   ],
   "source": [
    "#Check top 5 common words\n",
    "fdist.most_common(5)"
   ]
  },
  {
   "cell_type": "code",
   "execution_count": 61,
   "id": "69c195b3",
   "metadata": {},
   "outputs": [
    {
     "data": {
      "image/png": "[encoded data removed]",
      "text/plain": [
       "<Figure size 640x480 with 1 Axes>"
      ]
     },
     "metadata": {},
     "output_type": "display_data"
    }
   ],
   "source": [
    "#Create a frequency distribution plot\n",
    "import matplotlib.pyplot as plt\n",
    "\n",
    "#Plot Frequency Distribution\n",
    "fdist.plot(20,cumulative=False)\n",
    "plt.show()"
   ]
  },
  {
   "cell_type": "markdown",
   "id": "2693fbd5",
   "metadata": {},
   "source": [
    "# Stemming/ lemmatization"
   ]
  },
  {
   "cell_type": "code",
   "execution_count": 62,
   "id": "e657cda5",
   "metadata": {},
   "outputs": [
    {
     "name": "stdout",
     "output_type": "stream",
     "text": [
      "                                        tokenized_text  \\\n",
      "271  awww thats bummer shoulda got david carr third...   \n",
      "275  upset cant update facebook texting might cry r...   \n",
      "277  dived many times ball managed save rest go bounds   \n",
      "279                   whole body feels itchy like fire   \n",
      "281                           behaving im mad cant see   \n",
      "\n",
      "                                     preprocessed_text  \n",
      "271  awww thats bummer shoulda got david carr third...  \n",
      "275  upset cant update facebook texting might cry r...  \n",
      "277    dived many time ball managed save rest go bound  \n",
      "279                    whole body feel itchy like fire  \n",
      "281                           behaving im mad cant see  \n"
     ]
    }
   ],
   "source": [
    "from nltk.stem import WordNetLemmatizer\n",
    "\n",
    "# Initialize WordNet Lemmatizer\n",
    "lemmatizer = WordNetLemmatizer()\n",
    "\n",
    "# Function to lemmatize text\n",
    "def lemmatize_text(tokenized_text):\n",
    "    #Lemmatize the tokens\n",
    "    lemmatized_tokens = [lemmatizer.lemmatize(word) for word in tokenized_text.split()]\n",
    "    \n",
    "    #Join the lemmatized tokens back into a string\n",
    "    lemmatized_text = ' '.join(lemmatized_tokens)\n",
    "    \n",
    "    return lemmatized_text\n",
    "\n",
    "#Apply lemmatization to 'tokenized_text' column in DataFrame df\n",
    "df['preprocessed_text'] = df['tokenized_text'].apply(lemmatize_text)\n",
    "\n",
    "#Print the first few rows of the DataFrame with lemmatized text\n",
    "print(df[['tokenized_text', 'preprocessed_text']].head(5))"
   ]
  },
  {
   "cell_type": "code",
   "execution_count": 63,
   "id": "b10bdd4b",
   "metadata": {},
   "outputs": [
    {
     "data": {
      "text/plain": [
       "date                 0\n",
       "text                 0\n",
       "user                 0\n",
       "day                  0\n",
       "month                0\n",
       "word_count           0\n",
       "char_count           0\n",
       "avg_word             0\n",
       "stopwords            0\n",
       "hashtags             0\n",
       "at_sign              0\n",
       "numerics             0\n",
       "upper                0\n",
       "text1                0\n",
       "tokenized_text       0\n",
       "preprocessed_text    0\n",
       "dtype: int64"
      ]
     },
     "execution_count": 63,
     "metadata": {},
     "output_type": "execute_result"
    }
   ],
   "source": [
    "df.isnull().sum()"
   ]
  },
  {
   "cell_type": "code",
   "execution_count": 64,
   "id": "a36a65aa",
   "metadata": {},
   "outputs": [
    {
     "name": "stdout",
     "output_type": "stream",
     "text": [
      "Number of duplicate rows: 0\n"
     ]
    }
   ],
   "source": [
    "# Count the duplicate rows in the DataFrame\n",
    "duplicate_count = df.duplicated().sum()\n",
    "\n",
    "print(\"Number of duplicate rows:\", duplicate_count)\n"
   ]
  },
  {
   "cell_type": "markdown",
   "id": "0ef209c0",
   "metadata": {},
   "source": [
    "# SENTIMENT ANALYSIS\n",
    "There are various ways to perform sentiment analysis. These include:-\n",
    "- Using Text Blob\n",
    "- Using Vader\n",
    "- Using Bag of Words Vectorization-based Models\n",
    "- Using LSTM-based Models\n",
    "- Using Transformer-based Models"
   ]
  },
  {
   "cell_type": "markdown",
   "id": "4153590f",
   "metadata": {},
   "source": [
    "## USING TEXTBLOB\n",
    "-  It takes text as an input and can return polarity and subjectivity as outputs.\n",
    "\n",
    "- Polarity determines the sentiment of the text. Its values lie in [-1,1] where -1 denotes a highly negative sentiment and 1 denotes a highly positive sentiment.\n",
    "\n",
    "- Subjectivity determines whether a text input is factual information or a personal opinion. Its value lies between [0,1] where a value closer to 0 denotes a piece of factual information and a value closer to 1 denotes a personal opinion."
   ]
  },
  {
   "cell_type": "code",
   "execution_count": 65,
   "id": "d44e35f6",
   "metadata": {},
   "outputs": [
    {
     "data": {
      "text/html": [
       "<div>\n",
       "<style scoped>\n",
       "    .dataframe tbody tr th:only-of-type {\n",
       "        vertical-align: middle;\n",
       "    }\n",
       "\n",
       "    .dataframe tbody tr th {\n",
       "        vertical-align: top;\n",
       "    }\n",
       "\n",
       "    .dataframe thead th {\n",
       "        text-align: right;\n",
       "    }\n",
       "</style>\n",
       "<table border=\"1\" class=\"dataframe\">\n",
       "  <thead>\n",
       "    <tr style=\"text-align: right;\">\n",
       "      <th></th>\n",
       "      <th>preprocessed_text</th>\n",
       "      <th>polarity_score</th>\n",
       "    </tr>\n",
       "  </thead>\n",
       "  <tbody>\n",
       "    <tr>\n",
       "      <th>271</th>\n",
       "      <td>awww thats bummer shoulda got david carr third...</td>\n",
       "      <td>0.200</td>\n",
       "    </tr>\n",
       "    <tr>\n",
       "      <th>275</th>\n",
       "      <td>upset cant update facebook texting might cry r...</td>\n",
       "      <td>0.000</td>\n",
       "    </tr>\n",
       "    <tr>\n",
       "      <th>277</th>\n",
       "      <td>dived many time ball managed save rest go bound</td>\n",
       "      <td>0.500</td>\n",
       "    </tr>\n",
       "    <tr>\n",
       "      <th>279</th>\n",
       "      <td>whole body feel itchy like fire</td>\n",
       "      <td>0.200</td>\n",
       "    </tr>\n",
       "    <tr>\n",
       "      <th>281</th>\n",
       "      <td>behaving im mad cant see</td>\n",
       "      <td>-0.625</td>\n",
       "    </tr>\n",
       "  </tbody>\n",
       "</table>\n",
       "</div>"
      ],
      "text/plain": [
       "                                     preprocessed_text  polarity_score\n",
       "271  awww thats bummer shoulda got david carr third...           0.200\n",
       "275  upset cant update facebook texting might cry r...           0.000\n",
       "277    dived many time ball managed save rest go bound           0.500\n",
       "279                    whole body feel itchy like fire           0.200\n",
       "281                           behaving im mad cant see          -0.625"
      ]
     },
     "execution_count": 65,
     "metadata": {},
     "output_type": "execute_result"
    }
   ],
   "source": [
    "from textblob import TextBlob\n",
    "\n",
    "#Apply sentiment analysis using TextBlob to the 'text' column and storing the polarity score\n",
    "df['polarity_score'] = df['preprocessed_text'].apply(lambda x: TextBlob(x).sentiment[0] )\n",
    "df[['preprocessed_text','polarity_score']].head(5)"
   ]
  },
  {
   "cell_type": "code",
   "execution_count": 66,
   "id": "55f4dd80",
   "metadata": {},
   "outputs": [
    {
     "data": {
      "text/html": [
       "<div>\n",
       "<style scoped>\n",
       "    .dataframe tbody tr th:only-of-type {\n",
       "        vertical-align: middle;\n",
       "    }\n",
       "\n",
       "    .dataframe tbody tr th {\n",
       "        vertical-align: top;\n",
       "    }\n",
       "\n",
       "    .dataframe thead th {\n",
       "        text-align: right;\n",
       "    }\n",
       "</style>\n",
       "<table border=\"1\" class=\"dataframe\">\n",
       "  <thead>\n",
       "    <tr style=\"text-align: right;\">\n",
       "      <th></th>\n",
       "      <th>date</th>\n",
       "      <th>text</th>\n",
       "      <th>user</th>\n",
       "      <th>day</th>\n",
       "      <th>month</th>\n",
       "      <th>word_count</th>\n",
       "      <th>char_count</th>\n",
       "      <th>avg_word</th>\n",
       "      <th>stopwords</th>\n",
       "      <th>hashtags</th>\n",
       "      <th>at_sign</th>\n",
       "      <th>numerics</th>\n",
       "      <th>upper</th>\n",
       "      <th>text1</th>\n",
       "      <th>tokenized_text</th>\n",
       "      <th>preprocessed_text</th>\n",
       "      <th>polarity_score</th>\n",
       "    </tr>\n",
       "  </thead>\n",
       "  <tbody>\n",
       "    <tr>\n",
       "      <th>271</th>\n",
       "      <td>2009-04-07 05:19:45</td>\n",
       "      <td>@switchfoot http://twitpic.com/2y1zl - Awww, t...</td>\n",
       "      <td>_TheSpecialOne_</td>\n",
       "      <td>7</td>\n",
       "      <td>4</td>\n",
       "      <td>20</td>\n",
       "      <td>115</td>\n",
       "      <td>5.052632</td>\n",
       "      <td>4</td>\n",
       "      <td>0</td>\n",
       "      <td>1</td>\n",
       "      <td>0</td>\n",
       "      <td>1</td>\n",
       "      <td>awww thats a bummer you shoulda got david carr...</td>\n",
       "      <td>awww thats bummer shoulda got david carr third...</td>\n",
       "      <td>awww thats bummer shoulda got david carr third...</td>\n",
       "      <td>0.200</td>\n",
       "    </tr>\n",
       "    <tr>\n",
       "      <th>275</th>\n",
       "      <td>2009-04-07 05:19:49</td>\n",
       "      <td>is upset that he can't update his Facebook by ...</td>\n",
       "      <td>scotthamilton</td>\n",
       "      <td>7</td>\n",
       "      <td>4</td>\n",
       "      <td>22</td>\n",
       "      <td>111</td>\n",
       "      <td>4.285714</td>\n",
       "      <td>8</td>\n",
       "      <td>0</td>\n",
       "      <td>0</td>\n",
       "      <td>0</td>\n",
       "      <td>0</td>\n",
       "      <td>is upset that he cant update his facebook by t...</td>\n",
       "      <td>upset cant update facebook texting might cry r...</td>\n",
       "      <td>upset cant update facebook texting might cry r...</td>\n",
       "      <td>0.000</td>\n",
       "    </tr>\n",
       "    <tr>\n",
       "      <th>277</th>\n",
       "      <td>2009-04-07 05:19:53</td>\n",
       "      <td>@Kenichan I dived many times for the ball. Man...</td>\n",
       "      <td>mattycus</td>\n",
       "      <td>7</td>\n",
       "      <td>4</td>\n",
       "      <td>19</td>\n",
       "      <td>89</td>\n",
       "      <td>3.944444</td>\n",
       "      <td>5</td>\n",
       "      <td>0</td>\n",
       "      <td>1</td>\n",
       "      <td>0</td>\n",
       "      <td>1</td>\n",
       "      <td>i dived many times for the ball managed to sav...</td>\n",
       "      <td>dived many times ball managed save rest go bounds</td>\n",
       "      <td>dived many time ball managed save rest go bound</td>\n",
       "      <td>0.500</td>\n",
       "    </tr>\n",
       "    <tr>\n",
       "      <th>279</th>\n",
       "      <td>2009-04-07 05:19:57</td>\n",
       "      <td>my whole body feels itchy and like its on fire</td>\n",
       "      <td>ElleCTF</td>\n",
       "      <td>7</td>\n",
       "      <td>4</td>\n",
       "      <td>11</td>\n",
       "      <td>47</td>\n",
       "      <td>3.700000</td>\n",
       "      <td>4</td>\n",
       "      <td>0</td>\n",
       "      <td>0</td>\n",
       "      <td>0</td>\n",
       "      <td>0</td>\n",
       "      <td>my whole body feels itchy and like its on fire</td>\n",
       "      <td>whole body feels itchy like fire</td>\n",
       "      <td>whole body feel itchy like fire</td>\n",
       "      <td>0.200</td>\n",
       "    </tr>\n",
       "    <tr>\n",
       "      <th>281</th>\n",
       "      <td>2009-04-07 05:19:57</td>\n",
       "      <td>@nationwideclass no, it's not behaving at all....</td>\n",
       "      <td>Karoli</td>\n",
       "      <td>7</td>\n",
       "      <td>4</td>\n",
       "      <td>22</td>\n",
       "      <td>111</td>\n",
       "      <td>4.285714</td>\n",
       "      <td>10</td>\n",
       "      <td>0</td>\n",
       "      <td>1</td>\n",
       "      <td>0</td>\n",
       "      <td>1</td>\n",
       "      <td>no its not behaving at all im mad why am i her...</td>\n",
       "      <td>behaving im mad cant see</td>\n",
       "      <td>behaving im mad cant see</td>\n",
       "      <td>-0.625</td>\n",
       "    </tr>\n",
       "  </tbody>\n",
       "</table>\n",
       "</div>"
      ],
      "text/plain": [
       "                   date                                               text  \\\n",
       "271 2009-04-07 05:19:45  @switchfoot http://twitpic.com/2y1zl - Awww, t...   \n",
       "275 2009-04-07 05:19:49  is upset that he can't update his Facebook by ...   \n",
       "277 2009-04-07 05:19:53  @Kenichan I dived many times for the ball. Man...   \n",
       "279 2009-04-07 05:19:57    my whole body feels itchy and like its on fire    \n",
       "281 2009-04-07 05:19:57  @nationwideclass no, it's not behaving at all....   \n",
       "\n",
       "                user  day  month  word_count  char_count  avg_word  stopwords  \\\n",
       "271  _TheSpecialOne_    7      4          20         115  5.052632          4   \n",
       "275    scotthamilton    7      4          22         111  4.285714          8   \n",
       "277         mattycus    7      4          19          89  3.944444          5   \n",
       "279          ElleCTF    7      4          11          47  3.700000          4   \n",
       "281           Karoli    7      4          22         111  4.285714         10   \n",
       "\n",
       "     hashtags  at_sign  numerics  upper  \\\n",
       "271         0        1         0      1   \n",
       "275         0        0         0      0   \n",
       "277         0        1         0      1   \n",
       "279         0        0         0      0   \n",
       "281         0        1         0      1   \n",
       "\n",
       "                                                 text1  \\\n",
       "271  awww thats a bummer you shoulda got david carr...   \n",
       "275  is upset that he cant update his facebook by t...   \n",
       "277  i dived many times for the ball managed to sav...   \n",
       "279     my whole body feels itchy and like its on fire   \n",
       "281  no its not behaving at all im mad why am i her...   \n",
       "\n",
       "                                        tokenized_text  \\\n",
       "271  awww thats bummer shoulda got david carr third...   \n",
       "275  upset cant update facebook texting might cry r...   \n",
       "277  dived many times ball managed save rest go bounds   \n",
       "279                   whole body feels itchy like fire   \n",
       "281                           behaving im mad cant see   \n",
       "\n",
       "                                     preprocessed_text  polarity_score  \n",
       "271  awww thats bummer shoulda got david carr third...           0.200  \n",
       "275  upset cant update facebook texting might cry r...           0.000  \n",
       "277    dived many time ball managed save rest go bound           0.500  \n",
       "279                    whole body feel itchy like fire           0.200  \n",
       "281                           behaving im mad cant see          -0.625  "
      ]
     },
     "execution_count": 66,
     "metadata": {},
     "output_type": "execute_result"
    }
   ],
   "source": [
    "#View the df, first 5 observations\n",
    "df.head(5)"
   ]
  },
  {
   "cell_type": "code",
   "execution_count": 67,
   "id": "69a35be0",
   "metadata": {},
   "outputs": [
    {
     "name": "stdout",
     "output_type": "stream",
     "text": [
      "<class 'pandas.core.frame.DataFrame'>\n",
      "Int64Index: 1598127 entries, 271 to 1546305\n",
      "Data columns (total 17 columns):\n",
      " #   Column             Non-Null Count    Dtype         \n",
      "---  ------             --------------    -----         \n",
      " 0   date               1598127 non-null  datetime64[ns]\n",
      " 1   text               1598127 non-null  object        \n",
      " 2   user               1598127 non-null  object        \n",
      " 3   day                1598127 non-null  int64         \n",
      " 4   month              1598127 non-null  int64         \n",
      " 5   word_count         1598127 non-null  int64         \n",
      " 6   char_count         1598127 non-null  int64         \n",
      " 7   avg_word           1598127 non-null  float64       \n",
      " 8   stopwords          1598127 non-null  int64         \n",
      " 9   hashtags           1598127 non-null  int64         \n",
      " 10  at_sign            1598127 non-null  int64         \n",
      " 11  numerics           1598127 non-null  int64         \n",
      " 12  upper              1598127 non-null  int64         \n",
      " 13  text1              1598127 non-null  object        \n",
      " 14  tokenized_text     1598127 non-null  object        \n",
      " 15  preprocessed_text  1598127 non-null  object        \n",
      " 16  polarity_score     1598127 non-null  float64       \n",
      "dtypes: datetime64[ns](1), float64(2), int64(9), object(5)\n",
      "memory usage: 219.5+ MB\n"
     ]
    }
   ],
   "source": [
    "#View data types of the variables\n",
    "df.info()"
   ]
  },
  {
   "cell_type": "code",
   "execution_count": 68,
   "id": "19fd0487",
   "metadata": {},
   "outputs": [
    {
     "name": "stdout",
     "output_type": "stream",
     "text": [
      "                                     preprocessed_text  polarity_score  \\\n",
      "271  awww thats bummer shoulda got david carr third...           0.200   \n",
      "275  upset cant update facebook texting might cry r...           0.000   \n",
      "277    dived many time ball managed save rest go bound           0.500   \n",
      "279                    whole body feel itchy like fire           0.200   \n",
      "281                           behaving im mad cant see          -0.625   \n",
      "\n",
      "    textblob_sentiment  \n",
      "271           Positive  \n",
      "275            Neutral  \n",
      "277           Positive  \n",
      "279           Positive  \n",
      "281           Negative  \n"
     ]
    }
   ],
   "source": [
    "# Function to categorize sentiment polarities\n",
    "def categorize_sentiment(polarity):\n",
    "    if polarity > 0:\n",
    "        return 'Positive'\n",
    "    elif polarity < 0:\n",
    "        return 'Negative'\n",
    "    else:\n",
    "        return 'Neutral'\n",
    "\n",
    "# Apply the function to classify polarity scores and store the result in 'textblob_sentiment' column\n",
    "df['textblob_sentiment'] = df['polarity_score'].apply(categorize_sentiment)\n",
    "\n",
    "# Print the first few rows of the DataFrame with 'textblob_sentiment' column\n",
    "print(df[['preprocessed_text', 'polarity_score', 'textblob_sentiment']].head())"
   ]
  },
  {
   "cell_type": "code",
   "execution_count": 69,
   "id": "c66407ef",
   "metadata": {},
   "outputs": [
    {
     "data": {
      "text/html": [
       "<div>\n",
       "<style scoped>\n",
       "    .dataframe tbody tr th:only-of-type {\n",
       "        vertical-align: middle;\n",
       "    }\n",
       "\n",
       "    .dataframe tbody tr th {\n",
       "        vertical-align: top;\n",
       "    }\n",
       "\n",
       "    .dataframe thead th {\n",
       "        text-align: right;\n",
       "    }\n",
       "</style>\n",
       "<table border=\"1\" class=\"dataframe\">\n",
       "  <thead>\n",
       "    <tr style=\"text-align: right;\">\n",
       "      <th></th>\n",
       "      <th>preprocessed_text</th>\n",
       "      <th>polarity_score</th>\n",
       "      <th>textblob_sentiment</th>\n",
       "      <th>textblobsentiment</th>\n",
       "    </tr>\n",
       "  </thead>\n",
       "  <tbody>\n",
       "    <tr>\n",
       "      <th>271</th>\n",
       "      <td>awww thats bummer shoulda got david carr third...</td>\n",
       "      <td>0.200</td>\n",
       "      <td>Positive</td>\n",
       "      <td>2</td>\n",
       "    </tr>\n",
       "    <tr>\n",
       "      <th>275</th>\n",
       "      <td>upset cant update facebook texting might cry r...</td>\n",
       "      <td>0.000</td>\n",
       "      <td>Neutral</td>\n",
       "      <td>0</td>\n",
       "    </tr>\n",
       "    <tr>\n",
       "      <th>277</th>\n",
       "      <td>dived many time ball managed save rest go bound</td>\n",
       "      <td>0.500</td>\n",
       "      <td>Positive</td>\n",
       "      <td>2</td>\n",
       "    </tr>\n",
       "    <tr>\n",
       "      <th>279</th>\n",
       "      <td>whole body feel itchy like fire</td>\n",
       "      <td>0.200</td>\n",
       "      <td>Positive</td>\n",
       "      <td>2</td>\n",
       "    </tr>\n",
       "    <tr>\n",
       "      <th>281</th>\n",
       "      <td>behaving im mad cant see</td>\n",
       "      <td>-0.625</td>\n",
       "      <td>Negative</td>\n",
       "      <td>1</td>\n",
       "    </tr>\n",
       "  </tbody>\n",
       "</table>\n",
       "</div>"
      ],
      "text/plain": [
       "                                     preprocessed_text  polarity_score  \\\n",
       "271  awww thats bummer shoulda got david carr third...           0.200   \n",
       "275  upset cant update facebook texting might cry r...           0.000   \n",
       "277    dived many time ball managed save rest go bound           0.500   \n",
       "279                    whole body feel itchy like fire           0.200   \n",
       "281                           behaving im mad cant see          -0.625   \n",
       "\n",
       "    textblob_sentiment  textblobsentiment  \n",
       "271           Positive                  2  \n",
       "275            Neutral                  0  \n",
       "277           Positive                  2  \n",
       "279           Positive                  2  \n",
       "281           Negative                  1  "
      ]
     },
     "execution_count": 69,
     "metadata": {},
     "output_type": "execute_result"
    }
   ],
   "source": [
    "# Function to categorize sentiment polarities\n",
    "# Categorize sentiment polarities\n",
    "def categorize_sentiment(polarity):\n",
    "    if polarity > 0:\n",
    "        return 2  # Positive\n",
    "    elif polarity < 0:\n",
    "        return 1  # Negative\n",
    "    else:\n",
    "        return 0  # Neutral\n",
    "\n",
    "# Apply the function to classify polarity scores and store the result in 'textblob_sentiment' column\n",
    "df['textblobsentiment'] = df['polarity_score'].apply(categorize_sentiment)\n",
    "\n",
    "#View the first few rows of the DataFrame with 'textblob_sentiment' column\n",
    "df[['preprocessed_text', 'polarity_score', 'textblob_sentiment','textblobsentiment']].head(5)"
   ]
  },
  {
   "cell_type": "markdown",
   "id": "42c229ef",
   "metadata": {},
   "source": [
    "# USING VADER SENTIMENT ANALYSIS"
   ]
  },
  {
   "cell_type": "code",
   "execution_count": 70,
   "id": "d777cc8b",
   "metadata": {},
   "outputs": [
    {
     "name": "stderr",
     "output_type": "stream",
     "text": [
      "[nltk_data] Downloading package vader_lexicon to\n",
      "[nltk_data]     C:\\Users\\Diana\\AppData\\Roaming\\nltk_data...\n",
      "[nltk_data]   Package vader_lexicon is already up-to-date!\n"
     ]
    },
    {
     "data": {
      "text/plain": [
       "True"
      ]
     },
     "execution_count": 70,
     "metadata": {},
     "output_type": "execute_result"
    }
   ],
   "source": [
    "from nltk.sentiment.vader import SentimentIntensityAnalyzer\n",
    "import nltk\n",
    "nltk.download('vader_lexicon')"
   ]
  },
  {
   "cell_type": "code",
   "execution_count": 71,
   "id": "7e671bbf",
   "metadata": {},
   "outputs": [
    {
     "name": "stdout",
     "output_type": "stream",
     "text": [
      "                                         preprocessed_text  vader_compound  \\\n",
      "271      awww thats bummer shoulda got david carr third...         -0.3818   \n",
      "275      upset cant update facebook texting might cry r...         -0.7269   \n",
      "277        dived many time ball managed save rest go bound          0.4939   \n",
      "279                        whole body feel itchy like fire         -0.2500   \n",
      "281                               behaving im mad cant see         -0.4939   \n",
      "...                                                    ...             ...   \n",
      "1546301             sick spending day laying bed listening         -0.5106   \n",
      "1546302                                              gmail          0.0000   \n",
      "1546303                              rest peace farrah sad          0.1027   \n",
      "1546304           sound like rival flagging ad much though          0.3612   \n",
      "1546305  resit exam summer wish worked harder first yea...          0.4019   \n",
      "\n",
      "        sentiment_vader  \n",
      "271            negative  \n",
      "275            negative  \n",
      "277            positive  \n",
      "279            negative  \n",
      "281            negative  \n",
      "...                 ...  \n",
      "1546301        negative  \n",
      "1546302         neutral  \n",
      "1546303        positive  \n",
      "1546304        positive  \n",
      "1546305        positive  \n",
      "\n",
      "[1598127 rows x 3 columns]\n"
     ]
    }
   ],
   "source": [
    "#Create a VADER SentimentIntensityAnalyzer instance\n",
    "twitter_sentiment = SentimentIntensityAnalyzer()\n",
    "\n",
    "#Create a function to get compound sentiment score using VADER\n",
    "def get_sentiment_scores(text):\n",
    "    return twitter_sentiment.polarity_scores(text)\n",
    "\n",
    "#Apply the function to get the compound scores and store the values in vader_sentiment\n",
    "df['vader_sentiment'] = df['preprocessed_text'].apply(get_sentiment_scores)\n",
    "\n",
    "#Extract the 'neg', 'neu', 'pos', 'compound' scores from 'vader_sentiment'\n",
    "df['vader_neg'] = df['vader_sentiment'].apply(lambda x: x['neg'])\n",
    "df['vader_neu'] = df['vader_sentiment'].apply(lambda x: x['neu'])\n",
    "df['vader_pos'] = df['vader_sentiment'].apply(lambda x: x['pos'])\n",
    "df['vader_compound'] = df['vader_sentiment'].apply(lambda x: x['compound'])\n",
    "\n",
    "#Create a function to categorize sentiments based on compound scores\n",
    "def categorize_sentiment(vader_compound):\n",
    "    if vader_compound >= 0.05:\n",
    "        return 'positive'\n",
    "    elif vader_compound <= -0.05:\n",
    "        return 'negative'\n",
    "    else:\n",
    "        return 'neutral'\n",
    "\n",
    "#Apply the categorization function to create the 'sentiment' column\n",
    "df['sentiment_vader'] = df['vader_compound'].apply(categorize_sentiment)\n",
    "\n",
    "#Display the updated DataFrame with the 'sentiment' column\n",
    "print(df[['preprocessed_text','vader_compound','sentiment_vader']])"
   ]
  },
  {
   "cell_type": "code",
   "execution_count": 72,
   "id": "c5042240",
   "metadata": {},
   "outputs": [
    {
     "data": {
      "text/html": [
       "<div>\n",
       "<style scoped>\n",
       "    .dataframe tbody tr th:only-of-type {\n",
       "        vertical-align: middle;\n",
       "    }\n",
       "\n",
       "    .dataframe tbody tr th {\n",
       "        vertical-align: top;\n",
       "    }\n",
       "\n",
       "    .dataframe thead th {\n",
       "        text-align: right;\n",
       "    }\n",
       "</style>\n",
       "<table border=\"1\" class=\"dataframe\">\n",
       "  <thead>\n",
       "    <tr style=\"text-align: right;\">\n",
       "      <th></th>\n",
       "      <th>date</th>\n",
       "      <th>text</th>\n",
       "      <th>user</th>\n",
       "      <th>day</th>\n",
       "      <th>month</th>\n",
       "      <th>word_count</th>\n",
       "      <th>char_count</th>\n",
       "      <th>avg_word</th>\n",
       "      <th>stopwords</th>\n",
       "      <th>hashtags</th>\n",
       "      <th>...</th>\n",
       "      <th>preprocessed_text</th>\n",
       "      <th>polarity_score</th>\n",
       "      <th>textblob_sentiment</th>\n",
       "      <th>textblobsentiment</th>\n",
       "      <th>vader_sentiment</th>\n",
       "      <th>vader_neg</th>\n",
       "      <th>vader_neu</th>\n",
       "      <th>vader_pos</th>\n",
       "      <th>vader_compound</th>\n",
       "      <th>sentiment_vader</th>\n",
       "    </tr>\n",
       "  </thead>\n",
       "  <tbody>\n",
       "    <tr>\n",
       "      <th>271</th>\n",
       "      <td>2009-04-07 05:19:45</td>\n",
       "      <td>@switchfoot http://twitpic.com/2y1zl - Awww, t...</td>\n",
       "      <td>_TheSpecialOne_</td>\n",
       "      <td>7</td>\n",
       "      <td>4</td>\n",
       "      <td>20</td>\n",
       "      <td>115</td>\n",
       "      <td>5.052632</td>\n",
       "      <td>4</td>\n",
       "      <td>0</td>\n",
       "      <td>...</td>\n",
       "      <td>awww thats bummer shoulda got david carr third...</td>\n",
       "      <td>0.200</td>\n",
       "      <td>Positive</td>\n",
       "      <td>2</td>\n",
       "      <td>{'neg': 0.245, 'neu': 0.755, 'pos': 0.0, 'comp...</td>\n",
       "      <td>0.245</td>\n",
       "      <td>0.755</td>\n",
       "      <td>0.000</td>\n",
       "      <td>-0.3818</td>\n",
       "      <td>negative</td>\n",
       "    </tr>\n",
       "    <tr>\n",
       "      <th>275</th>\n",
       "      <td>2009-04-07 05:19:49</td>\n",
       "      <td>is upset that he can't update his Facebook by ...</td>\n",
       "      <td>scotthamilton</td>\n",
       "      <td>7</td>\n",
       "      <td>4</td>\n",
       "      <td>22</td>\n",
       "      <td>111</td>\n",
       "      <td>4.285714</td>\n",
       "      <td>8</td>\n",
       "      <td>0</td>\n",
       "      <td>...</td>\n",
       "      <td>upset cant update facebook texting might cry r...</td>\n",
       "      <td>0.000</td>\n",
       "      <td>Neutral</td>\n",
       "      <td>0</td>\n",
       "      <td>{'neg': 0.441, 'neu': 0.559, 'pos': 0.0, 'comp...</td>\n",
       "      <td>0.441</td>\n",
       "      <td>0.559</td>\n",
       "      <td>0.000</td>\n",
       "      <td>-0.7269</td>\n",
       "      <td>negative</td>\n",
       "    </tr>\n",
       "    <tr>\n",
       "      <th>277</th>\n",
       "      <td>2009-04-07 05:19:53</td>\n",
       "      <td>@Kenichan I dived many times for the ball. Man...</td>\n",
       "      <td>mattycus</td>\n",
       "      <td>7</td>\n",
       "      <td>4</td>\n",
       "      <td>19</td>\n",
       "      <td>89</td>\n",
       "      <td>3.944444</td>\n",
       "      <td>5</td>\n",
       "      <td>0</td>\n",
       "      <td>...</td>\n",
       "      <td>dived many time ball managed save rest go bound</td>\n",
       "      <td>0.500</td>\n",
       "      <td>Positive</td>\n",
       "      <td>2</td>\n",
       "      <td>{'neg': 0.0, 'neu': 0.714, 'pos': 0.286, 'comp...</td>\n",
       "      <td>0.000</td>\n",
       "      <td>0.714</td>\n",
       "      <td>0.286</td>\n",
       "      <td>0.4939</td>\n",
       "      <td>positive</td>\n",
       "    </tr>\n",
       "    <tr>\n",
       "      <th>279</th>\n",
       "      <td>2009-04-07 05:19:57</td>\n",
       "      <td>my whole body feels itchy and like its on fire</td>\n",
       "      <td>ElleCTF</td>\n",
       "      <td>7</td>\n",
       "      <td>4</td>\n",
       "      <td>11</td>\n",
       "      <td>47</td>\n",
       "      <td>3.700000</td>\n",
       "      <td>4</td>\n",
       "      <td>0</td>\n",
       "      <td>...</td>\n",
       "      <td>whole body feel itchy like fire</td>\n",
       "      <td>0.200</td>\n",
       "      <td>Positive</td>\n",
       "      <td>2</td>\n",
       "      <td>{'neg': 0.45, 'neu': 0.3, 'pos': 0.25, 'compou...</td>\n",
       "      <td>0.450</td>\n",
       "      <td>0.300</td>\n",
       "      <td>0.250</td>\n",
       "      <td>-0.2500</td>\n",
       "      <td>negative</td>\n",
       "    </tr>\n",
       "    <tr>\n",
       "      <th>281</th>\n",
       "      <td>2009-04-07 05:19:57</td>\n",
       "      <td>@nationwideclass no, it's not behaving at all....</td>\n",
       "      <td>Karoli</td>\n",
       "      <td>7</td>\n",
       "      <td>4</td>\n",
       "      <td>22</td>\n",
       "      <td>111</td>\n",
       "      <td>4.285714</td>\n",
       "      <td>10</td>\n",
       "      <td>0</td>\n",
       "      <td>...</td>\n",
       "      <td>behaving im mad cant see</td>\n",
       "      <td>-0.625</td>\n",
       "      <td>Negative</td>\n",
       "      <td>1</td>\n",
       "      <td>{'neg': 0.444, 'neu': 0.556, 'pos': 0.0, 'comp...</td>\n",
       "      <td>0.444</td>\n",
       "      <td>0.556</td>\n",
       "      <td>0.000</td>\n",
       "      <td>-0.4939</td>\n",
       "      <td>negative</td>\n",
       "    </tr>\n",
       "  </tbody>\n",
       "</table>\n",
       "<p>5 rows × 25 columns</p>\n",
       "</div>"
      ],
      "text/plain": [
       "                   date                                               text  \\\n",
       "271 2009-04-07 05:19:45  @switchfoot http://twitpic.com/2y1zl - Awww, t...   \n",
       "275 2009-04-07 05:19:49  is upset that he can't update his Facebook by ...   \n",
       "277 2009-04-07 05:19:53  @Kenichan I dived many times for the ball. Man...   \n",
       "279 2009-04-07 05:19:57    my whole body feels itchy and like its on fire    \n",
       "281 2009-04-07 05:19:57  @nationwideclass no, it's not behaving at all....   \n",
       "\n",
       "                user  day  month  word_count  char_count  avg_word  stopwords  \\\n",
       "271  _TheSpecialOne_    7      4          20         115  5.052632          4   \n",
       "275    scotthamilton    7      4          22         111  4.285714          8   \n",
       "277         mattycus    7      4          19          89  3.944444          5   \n",
       "279          ElleCTF    7      4          11          47  3.700000          4   \n",
       "281           Karoli    7      4          22         111  4.285714         10   \n",
       "\n",
       "     hashtags  ...                                  preprocessed_text  \\\n",
       "271         0  ...  awww thats bummer shoulda got david carr third...   \n",
       "275         0  ...  upset cant update facebook texting might cry r...   \n",
       "277         0  ...    dived many time ball managed save rest go bound   \n",
       "279         0  ...                    whole body feel itchy like fire   \n",
       "281         0  ...                           behaving im mad cant see   \n",
       "\n",
       "     polarity_score  textblob_sentiment textblobsentiment  \\\n",
       "271           0.200            Positive                 2   \n",
       "275           0.000             Neutral                 0   \n",
       "277           0.500            Positive                 2   \n",
       "279           0.200            Positive                 2   \n",
       "281          -0.625            Negative                 1   \n",
       "\n",
       "                                       vader_sentiment vader_neg  vader_neu  \\\n",
       "271  {'neg': 0.245, 'neu': 0.755, 'pos': 0.0, 'comp...     0.245      0.755   \n",
       "275  {'neg': 0.441, 'neu': 0.559, 'pos': 0.0, 'comp...     0.441      0.559   \n",
       "277  {'neg': 0.0, 'neu': 0.714, 'pos': 0.286, 'comp...     0.000      0.714   \n",
       "279  {'neg': 0.45, 'neu': 0.3, 'pos': 0.25, 'compou...     0.450      0.300   \n",
       "281  {'neg': 0.444, 'neu': 0.556, 'pos': 0.0, 'comp...     0.444      0.556   \n",
       "\n",
       "    vader_pos  vader_compound sentiment_vader  \n",
       "271     0.000         -0.3818        negative  \n",
       "275     0.000         -0.7269        negative  \n",
       "277     0.286          0.4939        positive  \n",
       "279     0.250         -0.2500        negative  \n",
       "281     0.000         -0.4939        negative  \n",
       "\n",
       "[5 rows x 25 columns]"
      ]
     },
     "execution_count": 72,
     "metadata": {},
     "output_type": "execute_result"
    }
   ],
   "source": [
    "#View the first 5 observations\n",
    "df.head(5)"
   ]
  },
  {
   "cell_type": "markdown",
   "id": "fd1f5c29",
   "metadata": {},
   "source": [
    "# Determine which one to use between vader and textblob by evaluating their performance using "
   ]
  },
  {
   "cell_type": "markdown",
   "id": "f672e0b9",
   "metadata": {},
   "source": [
    "# Using TfidfVectorizer, countvectorizer AND MNB "
   ]
  },
  {
   "cell_type": "markdown",
   "id": "e0cec963",
   "metadata": {},
   "source": [
    "### Textblob sentiments"
   ]
  },
  {
   "cell_type": "code",
   "execution_count": 73,
   "id": "8531105d",
   "metadata": {},
   "outputs": [
    {
     "name": "stdout",
     "output_type": "stream",
     "text": [
      "              precision    recall  f1-score   support\n",
      "\n",
      "    Negative       0.96      0.65      0.77     65410\n",
      "     Neutral       0.82      0.81      0.82    118744\n",
      "    Positive       0.78      0.91      0.84    135472\n",
      "\n",
      "    accuracy                           0.82    319626\n",
      "   macro avg       0.85      0.79      0.81    319626\n",
      "weighted avg       0.83      0.82      0.82    319626\n",
      "\n"
     ]
    }
   ],
   "source": [
    "from sklearn.feature_extraction.text import TfidfVectorizer\n",
    "from sklearn.model_selection import train_test_split\n",
    "from sklearn.naive_bayes import MultinomialNB\n",
    "from sklearn.metrics import classification_report\n",
    "\n",
    "#Vectorize the Text Data using TF-IDF\n",
    "tfidf = TfidfVectorizer(max_features=1000, lowercase=True, analyzer='word',\n",
    "                        stop_words='english', ngram_range=(1,1))\n",
    "X = tfidf.fit_transform(df['preprocessed_text'])\n",
    "y = df['textblob_sentiment']\n",
    "\n",
    "#Split the data into Train-Test\n",
    "X_train, X_test, y_train, y_test = train_test_split(X, y, test_size=0.2, random_state=42)\n",
    "\n",
    "#Create a classifier for MNB\n",
    "classifier = MultinomialNB()\n",
    "\n",
    "#Train the Classifier\n",
    "classifier.fit(X_train, y_train)\n",
    "\n",
    "#Evaluate the Model\n",
    "y_pred = classifier.predict(X_test)\n",
    "print(classification_report(y_test, y_pred))"
   ]
  },
  {
   "cell_type": "markdown",
   "id": "6e3850c6",
   "metadata": {},
   "source": [
    "# vader sentiment"
   ]
  },
  {
   "cell_type": "code",
   "execution_count": 74,
   "id": "689793f3",
   "metadata": {},
   "outputs": [
    {
     "name": "stdout",
     "output_type": "stream",
     "text": [
      "              precision    recall  f1-score   support\n",
      "\n",
      "    negative       0.88      0.58      0.70     77131\n",
      "     neutral       0.75      0.58      0.66     89589\n",
      "    positive       0.70      0.92      0.80    152906\n",
      "\n",
      "    accuracy                           0.74    319626\n",
      "   macro avg       0.78      0.69      0.72    319626\n",
      "weighted avg       0.76      0.74      0.73    319626\n",
      "\n"
     ]
    }
   ],
   "source": [
    "#Vectorize the Text Data using TF-IDF\n",
    "tfidf = TfidfVectorizer(max_features=1000, lowercase=True, analyzer='word',\n",
    "                        stop_words='english', ngram_range=(1,1))\n",
    "X = tfidf.fit_transform(df['preprocessed_text'])\n",
    "y = df['sentiment_vader']\n",
    "\n",
    "#Split the data into Train-Test\n",
    "X_train, X_test, y_train, y_test = train_test_split(X, y, test_size=0.2, random_state=42)\n",
    "\n",
    "#Create a classifier for MNB\n",
    "classifier = MultinomialNB()\n",
    "\n",
    "#Train the Classifier\n",
    "classifier.fit(X_train, y_train)\n",
    "\n",
    "#Evaluate the Model\n",
    "y_pred = classifier.predict(X_test)\n",
    "print(classification_report(y_test, y_pred))"
   ]
  },
  {
   "cell_type": "markdown",
   "id": "8e4a5f46",
   "metadata": {},
   "source": [
    "# USING COUNTVECTORIZER"
   ]
  },
  {
   "cell_type": "code",
   "execution_count": 75,
   "id": "f4fbc686",
   "metadata": {},
   "outputs": [
    {
     "name": "stderr",
     "output_type": "stream",
     "text": [
      "C:\\Users\\Diana\\anaconda3\\Lib\\site-packages\\sklearn\\feature_extraction\\text.py:525: UserWarning: The parameter 'token_pattern' will not be used since 'tokenizer' is not None'\n",
      "  warnings.warn(\n"
     ]
    }
   ],
   "source": [
    "#Pre-Processing using Count Vectorizer\n",
    "from sklearn.feature_extraction.text import CountVectorizer\n",
    "from nltk.tokenize import RegexpTokenizer\n",
    "\n",
    "token = RegexpTokenizer(r'[a-zA-Z0-9]+')\n",
    "cv    = CountVectorizer(stop_words = 'english',ngram_range = (1, 1),tokenizer = token.tokenize)\n",
    "text_counts = cv.fit_transform(df['text'])"
   ]
  },
  {
   "cell_type": "markdown",
   "id": "e14451a1",
   "metadata": {},
   "source": [
    "## textblob sentiments using count vectorizer"
   ]
  },
  {
   "cell_type": "code",
   "execution_count": 76,
   "id": "bf47151b",
   "metadata": {},
   "outputs": [
    {
     "name": "stdout",
     "output_type": "stream",
     "text": [
      "Accuracy Score:  0.8343000882281166\n"
     ]
    }
   ],
   "source": [
    "#Split the data into training and testing\n",
    "from sklearn.model_selection import train_test_split\n",
    "X_train, X_test, Y_train, Y_test = train_test_split(text_counts, df['textblob_sentiment'], test_size=0.2, random_state=42)\n",
    "\n",
    "#Training the model\n",
    "from sklearn.naive_bayes import MultinomialNB\n",
    "MNB = MultinomialNB()\n",
    "MNB.fit(X_train, Y_train)\n",
    "\n",
    "#Caluclate the accuracy score of the model\n",
    "from sklearn import metrics\n",
    "predicted = MNB.predict(X_test)\n",
    "accuracy_score = metrics.accuracy_score(predicted, Y_test)\n",
    "print(\"Accuracy Score: \",accuracy_score)"
   ]
  },
  {
   "cell_type": "markdown",
   "id": "183d31dd",
   "metadata": {},
   "source": [
    "## vader sentiments using count vectorizer"
   ]
  },
  {
   "cell_type": "code",
   "execution_count": 77,
   "id": "8ec33ae3",
   "metadata": {},
   "outputs": [
    {
     "name": "stdout",
     "output_type": "stream",
     "text": [
      "Accuracy Score:  0.7684565942152318\n"
     ]
    }
   ],
   "source": [
    "#Split the data into training and testing\n",
    "from sklearn.model_selection import train_test_split\n",
    "X_train, X_test, Y_train, Y_test = train_test_split(text_counts, df['sentiment_vader'], test_size=0.25, random_state=5)\n",
    "\n",
    "#Training the model\n",
    "from sklearn.naive_bayes import MultinomialNB\n",
    "MNB = MultinomialNB()\n",
    "MNB.fit(X_train, Y_train)\n",
    "\n",
    "#Caluclate the accuracy score of the model\n",
    "from sklearn import metrics\n",
    "predicted = MNB.predict(X_test)\n",
    "accuracy_score = metrics.accuracy_score(predicted, Y_test)\n",
    "print(\"Accuracy Score: \",accuracy_score)"
   ]
  },
  {
   "cell_type": "markdown",
   "id": "7749e521",
   "metadata": {},
   "source": [
    "## Since the accuracy of sentiments extracted by textblob in both countvectorizer and TDIF is higher sentiments extracted by textblob will be used"
   ]
  },
  {
   "cell_type": "code",
   "execution_count": 78,
   "id": "1b6d5929",
   "metadata": {},
   "outputs": [
    {
     "name": "stdout",
     "output_type": "stream",
     "text": [
      "<class 'pandas.core.frame.DataFrame'>\n",
      "Int64Index: 1598127 entries, 271 to 1546305\n",
      "Data columns (total 25 columns):\n",
      " #   Column              Non-Null Count    Dtype         \n",
      "---  ------              --------------    -----         \n",
      " 0   date                1598127 non-null  datetime64[ns]\n",
      " 1   text                1598127 non-null  object        \n",
      " 2   user                1598127 non-null  object        \n",
      " 3   day                 1598127 non-null  int64         \n",
      " 4   month               1598127 non-null  int64         \n",
      " 5   word_count          1598127 non-null  int64         \n",
      " 6   char_count          1598127 non-null  int64         \n",
      " 7   avg_word            1598127 non-null  float64       \n",
      " 8   stopwords           1598127 non-null  int64         \n",
      " 9   hashtags            1598127 non-null  int64         \n",
      " 10  at_sign             1598127 non-null  int64         \n",
      " 11  numerics            1598127 non-null  int64         \n",
      " 12  upper               1598127 non-null  int64         \n",
      " 13  text1               1598127 non-null  object        \n",
      " 14  tokenized_text      1598127 non-null  object        \n",
      " 15  preprocessed_text   1598127 non-null  object        \n",
      " 16  polarity_score      1598127 non-null  float64       \n",
      " 17  textblob_sentiment  1598127 non-null  object        \n",
      " 18  textblobsentiment   1598127 non-null  int64         \n",
      " 19  vader_sentiment     1598127 non-null  object        \n",
      " 20  vader_neg           1598127 non-null  float64       \n",
      " 21  vader_neu           1598127 non-null  float64       \n",
      " 22  vader_pos           1598127 non-null  float64       \n",
      " 23  vader_compound      1598127 non-null  float64       \n",
      " 24  sentiment_vader     1598127 non-null  object        \n",
      "dtypes: datetime64[ns](1), float64(6), int64(10), object(8)\n",
      "memory usage: 317.0+ MB\n"
     ]
    }
   ],
   "source": [
    "#Check the variables data type\n",
    "df.info()"
   ]
  },
  {
   "cell_type": "markdown",
   "id": "3b405944",
   "metadata": {},
   "source": [
    "# Visualization"
   ]
  },
  {
   "cell_type": "code",
   "execution_count": 79,
   "id": "9c407c7f",
   "metadata": {},
   "outputs": [
    {
     "data": {
      "image/png": "[encoded data removed]",
      "text/plain": [
       "<Figure size 800x600 with 1 Axes>"
      ]
     },
     "metadata": {},
     "output_type": "display_data"
    }
   ],
   "source": [
    "import matplotlib.pyplot as plt\n",
    "import seaborn as sns\n",
    "\n",
    "# Count the occurrences of each sentiment class\n",
    "sentiment_counts = df['textblob_sentiment'].value_counts()\n",
    "\n",
    "# Create a bar plot\n",
    "plt.figure(figsize=(8, 6))\n",
    "sns.barplot(x=sentiment_counts.index, y=sentiment_counts.values, palette='viridis')\n",
    "plt.title('Sentiment Class Distribution')\n",
    "plt.xlabel('Sentiment Class')\n",
    "plt.ylabel('Count')\n",
    "plt.xticks(rotation=45)\n",
    "plt.show()\n"
   ]
  },
  {
   "cell_type": "code",
   "execution_count": 80,
   "id": "c3ae6447",
   "metadata": {},
   "outputs": [
    {
     "data": {
      "text/html": [
       "<div>\n",
       "<style scoped>\n",
       "    .dataframe tbody tr th:only-of-type {\n",
       "        vertical-align: middle;\n",
       "    }\n",
       "\n",
       "    .dataframe tbody tr th {\n",
       "        vertical-align: top;\n",
       "    }\n",
       "\n",
       "    .dataframe thead th {\n",
       "        text-align: right;\n",
       "    }\n",
       "</style>\n",
       "<table border=\"1\" class=\"dataframe\">\n",
       "  <thead>\n",
       "    <tr style=\"text-align: right;\">\n",
       "      <th></th>\n",
       "      <th>date</th>\n",
       "      <th>text</th>\n",
       "      <th>user</th>\n",
       "      <th>day</th>\n",
       "      <th>month</th>\n",
       "      <th>word_count</th>\n",
       "      <th>char_count</th>\n",
       "      <th>avg_word</th>\n",
       "      <th>stopwords</th>\n",
       "      <th>hashtags</th>\n",
       "      <th>...</th>\n",
       "      <th>preprocessed_text</th>\n",
       "      <th>polarity_score</th>\n",
       "      <th>textblob_sentiment</th>\n",
       "      <th>textblobsentiment</th>\n",
       "      <th>vader_sentiment</th>\n",
       "      <th>vader_neg</th>\n",
       "      <th>vader_neu</th>\n",
       "      <th>vader_pos</th>\n",
       "      <th>vader_compound</th>\n",
       "      <th>sentiment_vader</th>\n",
       "    </tr>\n",
       "  </thead>\n",
       "  <tbody>\n",
       "    <tr>\n",
       "      <th>271</th>\n",
       "      <td>2009-04-07 05:19:45</td>\n",
       "      <td>@switchfoot http://twitpic.com/2y1zl - Awww, t...</td>\n",
       "      <td>_TheSpecialOne_</td>\n",
       "      <td>7</td>\n",
       "      <td>4</td>\n",
       "      <td>20</td>\n",
       "      <td>115</td>\n",
       "      <td>5.052632</td>\n",
       "      <td>4</td>\n",
       "      <td>0</td>\n",
       "      <td>...</td>\n",
       "      <td>awww thats bummer shoulda got david carr third...</td>\n",
       "      <td>0.200</td>\n",
       "      <td>Positive</td>\n",
       "      <td>2</td>\n",
       "      <td>{'neg': 0.245, 'neu': 0.755, 'pos': 0.0, 'comp...</td>\n",
       "      <td>0.245</td>\n",
       "      <td>0.755</td>\n",
       "      <td>0.000</td>\n",
       "      <td>-0.3818</td>\n",
       "      <td>negative</td>\n",
       "    </tr>\n",
       "    <tr>\n",
       "      <th>275</th>\n",
       "      <td>2009-04-07 05:19:49</td>\n",
       "      <td>is upset that he can't update his Facebook by ...</td>\n",
       "      <td>scotthamilton</td>\n",
       "      <td>7</td>\n",
       "      <td>4</td>\n",
       "      <td>22</td>\n",
       "      <td>111</td>\n",
       "      <td>4.285714</td>\n",
       "      <td>8</td>\n",
       "      <td>0</td>\n",
       "      <td>...</td>\n",
       "      <td>upset cant update facebook texting might cry r...</td>\n",
       "      <td>0.000</td>\n",
       "      <td>Neutral</td>\n",
       "      <td>0</td>\n",
       "      <td>{'neg': 0.441, 'neu': 0.559, 'pos': 0.0, 'comp...</td>\n",
       "      <td>0.441</td>\n",
       "      <td>0.559</td>\n",
       "      <td>0.000</td>\n",
       "      <td>-0.7269</td>\n",
       "      <td>negative</td>\n",
       "    </tr>\n",
       "    <tr>\n",
       "      <th>277</th>\n",
       "      <td>2009-04-07 05:19:53</td>\n",
       "      <td>@Kenichan I dived many times for the ball. Man...</td>\n",
       "      <td>mattycus</td>\n",
       "      <td>7</td>\n",
       "      <td>4</td>\n",
       "      <td>19</td>\n",
       "      <td>89</td>\n",
       "      <td>3.944444</td>\n",
       "      <td>5</td>\n",
       "      <td>0</td>\n",
       "      <td>...</td>\n",
       "      <td>dived many time ball managed save rest go bound</td>\n",
       "      <td>0.500</td>\n",
       "      <td>Positive</td>\n",
       "      <td>2</td>\n",
       "      <td>{'neg': 0.0, 'neu': 0.714, 'pos': 0.286, 'comp...</td>\n",
       "      <td>0.000</td>\n",
       "      <td>0.714</td>\n",
       "      <td>0.286</td>\n",
       "      <td>0.4939</td>\n",
       "      <td>positive</td>\n",
       "    </tr>\n",
       "    <tr>\n",
       "      <th>279</th>\n",
       "      <td>2009-04-07 05:19:57</td>\n",
       "      <td>my whole body feels itchy and like its on fire</td>\n",
       "      <td>ElleCTF</td>\n",
       "      <td>7</td>\n",
       "      <td>4</td>\n",
       "      <td>11</td>\n",
       "      <td>47</td>\n",
       "      <td>3.700000</td>\n",
       "      <td>4</td>\n",
       "      <td>0</td>\n",
       "      <td>...</td>\n",
       "      <td>whole body feel itchy like fire</td>\n",
       "      <td>0.200</td>\n",
       "      <td>Positive</td>\n",
       "      <td>2</td>\n",
       "      <td>{'neg': 0.45, 'neu': 0.3, 'pos': 0.25, 'compou...</td>\n",
       "      <td>0.450</td>\n",
       "      <td>0.300</td>\n",
       "      <td>0.250</td>\n",
       "      <td>-0.2500</td>\n",
       "      <td>negative</td>\n",
       "    </tr>\n",
       "    <tr>\n",
       "      <th>281</th>\n",
       "      <td>2009-04-07 05:19:57</td>\n",
       "      <td>@nationwideclass no, it's not behaving at all....</td>\n",
       "      <td>Karoli</td>\n",
       "      <td>7</td>\n",
       "      <td>4</td>\n",
       "      <td>22</td>\n",
       "      <td>111</td>\n",
       "      <td>4.285714</td>\n",
       "      <td>10</td>\n",
       "      <td>0</td>\n",
       "      <td>...</td>\n",
       "      <td>behaving im mad cant see</td>\n",
       "      <td>-0.625</td>\n",
       "      <td>Negative</td>\n",
       "      <td>1</td>\n",
       "      <td>{'neg': 0.444, 'neu': 0.556, 'pos': 0.0, 'comp...</td>\n",
       "      <td>0.444</td>\n",
       "      <td>0.556</td>\n",
       "      <td>0.000</td>\n",
       "      <td>-0.4939</td>\n",
       "      <td>negative</td>\n",
       "    </tr>\n",
       "  </tbody>\n",
       "</table>\n",
       "<p>5 rows × 25 columns</p>\n",
       "</div>"
      ],
      "text/plain": [
       "                   date                                               text  \\\n",
       "271 2009-04-07 05:19:45  @switchfoot http://twitpic.com/2y1zl - Awww, t...   \n",
       "275 2009-04-07 05:19:49  is upset that he can't update his Facebook by ...   \n",
       "277 2009-04-07 05:19:53  @Kenichan I dived many times for the ball. Man...   \n",
       "279 2009-04-07 05:19:57    my whole body feels itchy and like its on fire    \n",
       "281 2009-04-07 05:19:57  @nationwideclass no, it's not behaving at all....   \n",
       "\n",
       "                user  day  month  word_count  char_count  avg_word  stopwords  \\\n",
       "271  _TheSpecialOne_    7      4          20         115  5.052632          4   \n",
       "275    scotthamilton    7      4          22         111  4.285714          8   \n",
       "277         mattycus    7      4          19          89  3.944444          5   \n",
       "279          ElleCTF    7      4          11          47  3.700000          4   \n",
       "281           Karoli    7      4          22         111  4.285714         10   \n",
       "\n",
       "     hashtags  ...                                  preprocessed_text  \\\n",
       "271         0  ...  awww thats bummer shoulda got david carr third...   \n",
       "275         0  ...  upset cant update facebook texting might cry r...   \n",
       "277         0  ...    dived many time ball managed save rest go bound   \n",
       "279         0  ...                    whole body feel itchy like fire   \n",
       "281         0  ...                           behaving im mad cant see   \n",
       "\n",
       "     polarity_score  textblob_sentiment textblobsentiment  \\\n",
       "271           0.200            Positive                 2   \n",
       "275           0.000             Neutral                 0   \n",
       "277           0.500            Positive                 2   \n",
       "279           0.200            Positive                 2   \n",
       "281          -0.625            Negative                 1   \n",
       "\n",
       "                                       vader_sentiment vader_neg  vader_neu  \\\n",
       "271  {'neg': 0.245, 'neu': 0.755, 'pos': 0.0, 'comp...     0.245      0.755   \n",
       "275  {'neg': 0.441, 'neu': 0.559, 'pos': 0.0, 'comp...     0.441      0.559   \n",
       "277  {'neg': 0.0, 'neu': 0.714, 'pos': 0.286, 'comp...     0.000      0.714   \n",
       "279  {'neg': 0.45, 'neu': 0.3, 'pos': 0.25, 'compou...     0.450      0.300   \n",
       "281  {'neg': 0.444, 'neu': 0.556, 'pos': 0.0, 'comp...     0.444      0.556   \n",
       "\n",
       "    vader_pos  vader_compound sentiment_vader  \n",
       "271     0.000         -0.3818        negative  \n",
       "275     0.000         -0.7269        negative  \n",
       "277     0.286          0.4939        positive  \n",
       "279     0.250         -0.2500        negative  \n",
       "281     0.000         -0.4939        negative  \n",
       "\n",
       "[5 rows x 25 columns]"
      ]
     },
     "execution_count": 80,
     "metadata": {},
     "output_type": "execute_result"
    }
   ],
   "source": [
    "df.head(5)"
   ]
  },
  {
   "cell_type": "code",
   "execution_count": 81,
   "id": "ca4bd056",
   "metadata": {},
   "outputs": [
    {
     "name": "stdout",
     "output_type": "stream",
     "text": [
      "<class 'pandas.core.frame.DataFrame'>\n",
      "Int64Index: 1598127 entries, 271 to 1546305\n",
      "Data columns (total 25 columns):\n",
      " #   Column              Non-Null Count    Dtype         \n",
      "---  ------              --------------    -----         \n",
      " 0   date                1598127 non-null  datetime64[ns]\n",
      " 1   text                1598127 non-null  object        \n",
      " 2   user                1598127 non-null  object        \n",
      " 3   day                 1598127 non-null  int64         \n",
      " 4   month               1598127 non-null  int64         \n",
      " 5   word_count          1598127 non-null  int64         \n",
      " 6   char_count          1598127 non-null  int64         \n",
      " 7   avg_word            1598127 non-null  float64       \n",
      " 8   stopwords           1598127 non-null  int64         \n",
      " 9   hashtags            1598127 non-null  int64         \n",
      " 10  at_sign             1598127 non-null  int64         \n",
      " 11  numerics            1598127 non-null  int64         \n",
      " 12  upper               1598127 non-null  int64         \n",
      " 13  text1               1598127 non-null  object        \n",
      " 14  tokenized_text      1598127 non-null  object        \n",
      " 15  preprocessed_text   1598127 non-null  object        \n",
      " 16  polarity_score      1598127 non-null  float64       \n",
      " 17  textblob_sentiment  1598127 non-null  object        \n",
      " 18  textblobsentiment   1598127 non-null  int64         \n",
      " 19  vader_sentiment     1598127 non-null  object        \n",
      " 20  vader_neg           1598127 non-null  float64       \n",
      " 21  vader_neu           1598127 non-null  float64       \n",
      " 22  vader_pos           1598127 non-null  float64       \n",
      " 23  vader_compound      1598127 non-null  float64       \n",
      " 24  sentiment_vader     1598127 non-null  object        \n",
      "dtypes: datetime64[ns](1), float64(6), int64(10), object(8)\n",
      "memory usage: 317.0+ MB\n"
     ]
    }
   ],
   "source": [
    "df.info()"
   ]
  },
  {
   "cell_type": "markdown",
   "id": "f1707404",
   "metadata": {},
   "source": [
    "## Encode the Sentiments\n",
    "Try \n",
    "label and one hot and see which one performs better"
   ]
  },
  {
   "cell_type": "markdown",
   "id": "b69e26f4",
   "metadata": {},
   "source": [
    "## Label Encoder"
   ]
  },
  {
   "cell_type": "code",
   "execution_count": 82,
   "id": "7bcab16d",
   "metadata": {},
   "outputs": [],
   "source": [
    "from sklearn.preprocessing import LabelEncoder\n",
    "\n",
    "# Create a LabelEncoder object\n",
    "label_encoder = LabelEncoder()\n",
    "\n",
    "# Fit and transform the 'textblob_sentiment' column\n",
    "df['label_encoded'] = label_encoder.fit_transform(df['textblob_sentiment'])"
   ]
  },
  {
   "cell_type": "code",
   "execution_count": 83,
   "id": "6a7a1b19",
   "metadata": {},
   "outputs": [
    {
     "name": "stdout",
     "output_type": "stream",
     "text": [
      "Textblob Sentiment Counts:\n",
      "Positive    678483\n",
      "Neutral     593056\n",
      "Negative    326588\n",
      "Name: textblob_sentiment, dtype: int64\n"
     ]
    }
   ],
   "source": [
    "#Count occurrences of each sentiment class\n",
    "sentiment_textblob = df['textblob_sentiment'].value_counts()\n",
    "\n",
    "# Display the result as a table\n",
    "print(\"Textblob Sentiment Counts:\")\n",
    "print(sentiment_textblob)"
   ]
  },
  {
   "cell_type": "markdown",
   "id": "73a4ab4a",
   "metadata": {},
   "source": [
    "There is class imbalance, in the sentiment data. Class imbalance occurs when one class (or classes) has significantly more samples than the other classes. In this case, the counts of sentiment classes are as follows:\n",
    "\n",
    "for textblob sentiments\n",
    "\n",
    "Class positive: 679,250 samples\n",
    "\n",
    "Class neutral: 593,796 samples\n",
    "\n",
    "Class negative: 326,954 samples\n",
    "\n",
    "\n",
    "The class imbalance can potentially affect the performance of the machine learning model, especially if the minority class (in this case, class negative) in textblob\n",
    "\n",
    "To address class imbalance here are some techniques to be considered:-\n",
    "\n",
    "- Resampling: Either oversampling the minority class (creating more samples of the minority class) or undersampling the majority class (removing samples from the majority class).\n",
    "\n",
    "- Class weights: Assigning higher weights to the minority class during model training to give it more importance.\n",
    "\n",
    "- Synthetic data generation: Generating synthetic samples for the minority class using techniques like SMOTE (Synthetic Minority Over-sampling Technique).\n",
    "\n",
    "- Different algorithms: Using algorithms that are less sensitive to class imbalance, such as decision trees or random forests.\n",
    "\n",
    "    \n"
   ]
  },
  {
   "cell_type": "code",
   "execution_count": 84,
   "id": "81008085",
   "metadata": {},
   "outputs": [
    {
     "name": "stdout",
     "output_type": "stream",
     "text": [
      "<class 'pandas.core.frame.DataFrame'>\n",
      "Int64Index: 1598127 entries, 271 to 1546305\n",
      "Data columns (total 26 columns):\n",
      " #   Column              Non-Null Count    Dtype         \n",
      "---  ------              --------------    -----         \n",
      " 0   date                1598127 non-null  datetime64[ns]\n",
      " 1   text                1598127 non-null  object        \n",
      " 2   user                1598127 non-null  object        \n",
      " 3   day                 1598127 non-null  int64         \n",
      " 4   month               1598127 non-null  int64         \n",
      " 5   word_count          1598127 non-null  int64         \n",
      " 6   char_count          1598127 non-null  int64         \n",
      " 7   avg_word            1598127 non-null  float64       \n",
      " 8   stopwords           1598127 non-null  int64         \n",
      " 9   hashtags            1598127 non-null  int64         \n",
      " 10  at_sign             1598127 non-null  int64         \n",
      " 11  numerics            1598127 non-null  int64         \n",
      " 12  upper               1598127 non-null  int64         \n",
      " 13  text1               1598127 non-null  object        \n",
      " 14  tokenized_text      1598127 non-null  object        \n",
      " 15  preprocessed_text   1598127 non-null  object        \n",
      " 16  polarity_score      1598127 non-null  float64       \n",
      " 17  textblob_sentiment  1598127 non-null  object        \n",
      " 18  textblobsentiment   1598127 non-null  int64         \n",
      " 19  vader_sentiment     1598127 non-null  object        \n",
      " 20  vader_neg           1598127 non-null  float64       \n",
      " 21  vader_neu           1598127 non-null  float64       \n",
      " 22  vader_pos           1598127 non-null  float64       \n",
      " 23  vader_compound      1598127 non-null  float64       \n",
      " 24  sentiment_vader     1598127 non-null  object        \n",
      " 25  label_encoded       1598127 non-null  int32         \n",
      "dtypes: datetime64[ns](1), float64(6), int32(1), int64(10), object(8)\n",
      "memory usage: 323.1+ MB\n"
     ]
    }
   ],
   "source": [
    "df.info()"
   ]
  },
  {
   "cell_type": "code",
   "execution_count": 85,
   "id": "e88ead92",
   "metadata": {},
   "outputs": [],
   "source": [
    "#Create a copy of the df\n",
    "df_two = df"
   ]
  },
  {
   "cell_type": "code",
   "execution_count": 86,
   "id": "8f1eda98",
   "metadata": {},
   "outputs": [
    {
     "name": "stdout",
     "output_type": "stream",
     "text": [
      "<class 'pandas.core.frame.DataFrame'>\n",
      "Int64Index: 1598127 entries, 271 to 1546305\n",
      "Data columns (total 26 columns):\n",
      " #   Column              Non-Null Count    Dtype         \n",
      "---  ------              --------------    -----         \n",
      " 0   date                1598127 non-null  datetime64[ns]\n",
      " 1   text                1598127 non-null  object        \n",
      " 2   user                1598127 non-null  object        \n",
      " 3   day                 1598127 non-null  int64         \n",
      " 4   month               1598127 non-null  int64         \n",
      " 5   word_count          1598127 non-null  int64         \n",
      " 6   char_count          1598127 non-null  int64         \n",
      " 7   avg_word            1598127 non-null  float64       \n",
      " 8   stopwords           1598127 non-null  int64         \n",
      " 9   hashtags            1598127 non-null  int64         \n",
      " 10  at_sign             1598127 non-null  int64         \n",
      " 11  numerics            1598127 non-null  int64         \n",
      " 12  upper               1598127 non-null  int64         \n",
      " 13  text1               1598127 non-null  object        \n",
      " 14  tokenized_text      1598127 non-null  object        \n",
      " 15  preprocessed_text   1598127 non-null  object        \n",
      " 16  polarity_score      1598127 non-null  float64       \n",
      " 17  textblob_sentiment  1598127 non-null  object        \n",
      " 18  textblobsentiment   1598127 non-null  int64         \n",
      " 19  vader_sentiment     1598127 non-null  object        \n",
      " 20  vader_neg           1598127 non-null  float64       \n",
      " 21  vader_neu           1598127 non-null  float64       \n",
      " 22  vader_pos           1598127 non-null  float64       \n",
      " 23  vader_compound      1598127 non-null  float64       \n",
      " 24  sentiment_vader     1598127 non-null  object        \n",
      " 25  label_encoded       1598127 non-null  int32         \n",
      "dtypes: datetime64[ns](1), float64(6), int32(1), int64(10), object(8)\n",
      "memory usage: 323.1+ MB\n"
     ]
    }
   ],
   "source": [
    "#View the df_two df\n",
    "df_two.info()"
   ]
  },
  {
   "cell_type": "code",
   "execution_count": 87,
   "id": "9d3d5a8d",
   "metadata": {},
   "outputs": [],
   "source": [
    "import pandas as pd\n",
    "import numpy as np\n",
    "from sklearn.model_selection import train_test_split\n",
    "from imblearn.over_sampling import SMOTE\n",
    "import tensorflow as tf"
   ]
  },
  {
   "cell_type": "code",
   "execution_count": 97,
   "id": "bc49100b",
   "metadata": {},
   "outputs": [],
   "source": [
    "# Handle missing dates\n",
    "start_date = df.index.min()\n",
    "end_date = df.index.max()\n",
    "all_dates = pd.date_range(start=start_date, end=end_date, freq='D')\n",
    "missing_dates = all_dates.difference(df.index)\n",
    "if not missing_dates.empty:\n",
    "    for date in missing_dates:\n",
    "        df.loc[date] = np.nan\n",
    "\n",
    "# Interpolate missing values\n",
    "df.interpolate(method='linear', inplace=True)"
   ]
  },
  {
   "cell_type": "code",
   "execution_count": 88,
   "id": "e732781d",
   "metadata": {},
   "outputs": [
    {
     "data": {
      "text/html": [
       "<div>\n",
       "<style scoped>\n",
       "    .dataframe tbody tr th:only-of-type {\n",
       "        vertical-align: middle;\n",
       "    }\n",
       "\n",
       "    .dataframe tbody tr th {\n",
       "        vertical-align: top;\n",
       "    }\n",
       "\n",
       "    .dataframe thead th {\n",
       "        text-align: right;\n",
       "    }\n",
       "</style>\n",
       "<table border=\"1\" class=\"dataframe\">\n",
       "  <thead>\n",
       "    <tr style=\"text-align: right;\">\n",
       "      <th></th>\n",
       "      <th>date</th>\n",
       "      <th>text</th>\n",
       "      <th>user</th>\n",
       "      <th>day</th>\n",
       "      <th>month</th>\n",
       "      <th>word_count</th>\n",
       "      <th>char_count</th>\n",
       "      <th>avg_word</th>\n",
       "      <th>stopwords</th>\n",
       "      <th>hashtags</th>\n",
       "      <th>...</th>\n",
       "      <th>polarity_score</th>\n",
       "      <th>textblob_sentiment</th>\n",
       "      <th>textblobsentiment</th>\n",
       "      <th>vader_sentiment</th>\n",
       "      <th>vader_neg</th>\n",
       "      <th>vader_neu</th>\n",
       "      <th>vader_pos</th>\n",
       "      <th>vader_compound</th>\n",
       "      <th>sentiment_vader</th>\n",
       "      <th>label_encoded</th>\n",
       "    </tr>\n",
       "  </thead>\n",
       "  <tbody>\n",
       "    <tr>\n",
       "      <th>271</th>\n",
       "      <td>2009-04-07 05:19:45</td>\n",
       "      <td>@switchfoot http://twitpic.com/2y1zl - Awww, t...</td>\n",
       "      <td>_TheSpecialOne_</td>\n",
       "      <td>7</td>\n",
       "      <td>4</td>\n",
       "      <td>20</td>\n",
       "      <td>115</td>\n",
       "      <td>5.052632</td>\n",
       "      <td>4</td>\n",
       "      <td>0</td>\n",
       "      <td>...</td>\n",
       "      <td>0.200</td>\n",
       "      <td>Positive</td>\n",
       "      <td>2</td>\n",
       "      <td>{'neg': 0.245, 'neu': 0.755, 'pos': 0.0, 'comp...</td>\n",
       "      <td>0.245</td>\n",
       "      <td>0.755</td>\n",
       "      <td>0.000</td>\n",
       "      <td>-0.3818</td>\n",
       "      <td>negative</td>\n",
       "      <td>2</td>\n",
       "    </tr>\n",
       "    <tr>\n",
       "      <th>275</th>\n",
       "      <td>2009-04-07 05:19:49</td>\n",
       "      <td>is upset that he can't update his Facebook by ...</td>\n",
       "      <td>scotthamilton</td>\n",
       "      <td>7</td>\n",
       "      <td>4</td>\n",
       "      <td>22</td>\n",
       "      <td>111</td>\n",
       "      <td>4.285714</td>\n",
       "      <td>8</td>\n",
       "      <td>0</td>\n",
       "      <td>...</td>\n",
       "      <td>0.000</td>\n",
       "      <td>Neutral</td>\n",
       "      <td>0</td>\n",
       "      <td>{'neg': 0.441, 'neu': 0.559, 'pos': 0.0, 'comp...</td>\n",
       "      <td>0.441</td>\n",
       "      <td>0.559</td>\n",
       "      <td>0.000</td>\n",
       "      <td>-0.7269</td>\n",
       "      <td>negative</td>\n",
       "      <td>1</td>\n",
       "    </tr>\n",
       "    <tr>\n",
       "      <th>277</th>\n",
       "      <td>2009-04-07 05:19:53</td>\n",
       "      <td>@Kenichan I dived many times for the ball. Man...</td>\n",
       "      <td>mattycus</td>\n",
       "      <td>7</td>\n",
       "      <td>4</td>\n",
       "      <td>19</td>\n",
       "      <td>89</td>\n",
       "      <td>3.944444</td>\n",
       "      <td>5</td>\n",
       "      <td>0</td>\n",
       "      <td>...</td>\n",
       "      <td>0.500</td>\n",
       "      <td>Positive</td>\n",
       "      <td>2</td>\n",
       "      <td>{'neg': 0.0, 'neu': 0.714, 'pos': 0.286, 'comp...</td>\n",
       "      <td>0.000</td>\n",
       "      <td>0.714</td>\n",
       "      <td>0.286</td>\n",
       "      <td>0.4939</td>\n",
       "      <td>positive</td>\n",
       "      <td>2</td>\n",
       "    </tr>\n",
       "    <tr>\n",
       "      <th>279</th>\n",
       "      <td>2009-04-07 05:19:57</td>\n",
       "      <td>my whole body feels itchy and like its on fire</td>\n",
       "      <td>ElleCTF</td>\n",
       "      <td>7</td>\n",
       "      <td>4</td>\n",
       "      <td>11</td>\n",
       "      <td>47</td>\n",
       "      <td>3.700000</td>\n",
       "      <td>4</td>\n",
       "      <td>0</td>\n",
       "      <td>...</td>\n",
       "      <td>0.200</td>\n",
       "      <td>Positive</td>\n",
       "      <td>2</td>\n",
       "      <td>{'neg': 0.45, 'neu': 0.3, 'pos': 0.25, 'compou...</td>\n",
       "      <td>0.450</td>\n",
       "      <td>0.300</td>\n",
       "      <td>0.250</td>\n",
       "      <td>-0.2500</td>\n",
       "      <td>negative</td>\n",
       "      <td>2</td>\n",
       "    </tr>\n",
       "    <tr>\n",
       "      <th>281</th>\n",
       "      <td>2009-04-07 05:19:57</td>\n",
       "      <td>@nationwideclass no, it's not behaving at all....</td>\n",
       "      <td>Karoli</td>\n",
       "      <td>7</td>\n",
       "      <td>4</td>\n",
       "      <td>22</td>\n",
       "      <td>111</td>\n",
       "      <td>4.285714</td>\n",
       "      <td>10</td>\n",
       "      <td>0</td>\n",
       "      <td>...</td>\n",
       "      <td>-0.625</td>\n",
       "      <td>Negative</td>\n",
       "      <td>1</td>\n",
       "      <td>{'neg': 0.444, 'neu': 0.556, 'pos': 0.0, 'comp...</td>\n",
       "      <td>0.444</td>\n",
       "      <td>0.556</td>\n",
       "      <td>0.000</td>\n",
       "      <td>-0.4939</td>\n",
       "      <td>negative</td>\n",
       "      <td>0</td>\n",
       "    </tr>\n",
       "  </tbody>\n",
       "</table>\n",
       "<p>5 rows × 26 columns</p>\n",
       "</div>"
      ],
      "text/plain": [
       "                   date                                               text  \\\n",
       "271 2009-04-07 05:19:45  @switchfoot http://twitpic.com/2y1zl - Awww, t...   \n",
       "275 2009-04-07 05:19:49  is upset that he can't update his Facebook by ...   \n",
       "277 2009-04-07 05:19:53  @Kenichan I dived many times for the ball. Man...   \n",
       "279 2009-04-07 05:19:57    my whole body feels itchy and like its on fire    \n",
       "281 2009-04-07 05:19:57  @nationwideclass no, it's not behaving at all....   \n",
       "\n",
       "                user  day  month  word_count  char_count  avg_word  stopwords  \\\n",
       "271  _TheSpecialOne_    7      4          20         115  5.052632          4   \n",
       "275    scotthamilton    7      4          22         111  4.285714          8   \n",
       "277         mattycus    7      4          19          89  3.944444          5   \n",
       "279          ElleCTF    7      4          11          47  3.700000          4   \n",
       "281           Karoli    7      4          22         111  4.285714         10   \n",
       "\n",
       "     hashtags  ...  polarity_score  textblob_sentiment  textblobsentiment  \\\n",
       "271         0  ...           0.200            Positive                  2   \n",
       "275         0  ...           0.000             Neutral                  0   \n",
       "277         0  ...           0.500            Positive                  2   \n",
       "279         0  ...           0.200            Positive                  2   \n",
       "281         0  ...          -0.625            Negative                  1   \n",
       "\n",
       "                                       vader_sentiment vader_neg vader_neu  \\\n",
       "271  {'neg': 0.245, 'neu': 0.755, 'pos': 0.0, 'comp...     0.245     0.755   \n",
       "275  {'neg': 0.441, 'neu': 0.559, 'pos': 0.0, 'comp...     0.441     0.559   \n",
       "277  {'neg': 0.0, 'neu': 0.714, 'pos': 0.286, 'comp...     0.000     0.714   \n",
       "279  {'neg': 0.45, 'neu': 0.3, 'pos': 0.25, 'compou...     0.450     0.300   \n",
       "281  {'neg': 0.444, 'neu': 0.556, 'pos': 0.0, 'comp...     0.444     0.556   \n",
       "\n",
       "     vader_pos vader_compound  sentiment_vader label_encoded  \n",
       "271      0.000        -0.3818         negative             2  \n",
       "275      0.000        -0.7269         negative             1  \n",
       "277      0.286         0.4939         positive             2  \n",
       "279      0.250        -0.2500         negative             2  \n",
       "281      0.000        -0.4939         negative             0  \n",
       "\n",
       "[5 rows x 26 columns]"
      ]
     },
     "execution_count": 88,
     "metadata": {},
     "output_type": "execute_result"
    }
   ],
   "source": [
    "df.head(5)"
   ]
  },
  {
   "cell_type": "code",
   "execution_count": 93,
   "id": "d61a5ec7",
   "metadata": {},
   "outputs": [
    {
     "data": {
      "image/png": "[encoded data removed]",
      "text/plain": [
       "<Figure size 1000x600 with 1 Axes>"
      ]
     },
     "metadata": {},
     "output_type": "display_data"
    }
   ],
   "source": [
    "import matplotlib.pyplot as plt\n",
    "plt.figure(figsize=(10, 6))\n",
    "plt.bar(missing_dates, [1] * len(missing_dates))\n",
    "plt.title(\"Missing Dates\")\n",
    "plt.xlabel(\"Date\")\n",
    "plt.ylabel(\"Count\")\n",
    "plt.xticks(rotation=45)\n",
    "plt.show()"
   ]
  },
  {
   "cell_type": "code",
   "execution_count": null,
   "id": "440d5fc8",
   "metadata": {},
   "outputs": [],
   "source": [
    "merged_data = df.reindex(date_range)\n",
    "text_sentiment = merged_data[\"textblob_sentiment\"]\n",
    "missing_dates_mask = closing_prices.isna()\n",
    "# Plotting the sentiments with breaks for missing dates\n",
    "plt.plot(.index, cl)\n",
    "plt.title(\"Reliance Closing Prices\")\n",
    "plt.xlabel(\"Date\")\n",
    "plt.ylabel(\"Closing Price\")\n",
    "plt.grid(True)\n",
    "if missing_dates_mask[i]:\n",
    "plt.axvline(closing_prices.index[i], color=\"red\", linestyle=\" - \")\n",
    "plt.show()"
   ]
  },
  {
   "cell_type": "code",
   "execution_count": 106,
   "id": "032241bc",
   "metadata": {},
   "outputs": [],
   "source": [
    "# Split the data into features (X) and target variable (y)\n",
    "X = df['preprocessed_text']  # Features\n",
    "y = df['textblob_sentiment']  # Labels"
   ]
  },
  {
   "cell_type": "code",
   "execution_count": 108,
   "id": "b49d3c23",
   "metadata": {},
   "outputs": [],
   "source": [
    "import numpy as np\n",
    "import tensorflow as tf\n",
    "from sklearn.model_selection import train_test_split\n",
    "from sklearn.preprocessing import OneHotEncoder"
   ]
  },
  {
   "cell_type": "code",
   "execution_count": 109,
   "id": "459a77a6",
   "metadata": {},
   "outputs": [],
   "source": [
    "# Split the data into training and testing sets\n",
    "X_train, X_test, y_train, y_test = train_test_split(X, y, test_size=0.2, random_state=42)"
   ]
  },
  {
   "cell_type": "code",
   "execution_count": 110,
   "id": "485daeb7",
   "metadata": {},
   "outputs": [
    {
     "ename": "ValueError",
     "evalue": "Found unknown categories [nan] in column 0 during transform",
     "output_type": "error",
     "traceback": [
      "\u001b[1;31m---------------------------------------------------------------------------\u001b[0m",
      "\u001b[1;31mValueError\u001b[0m                                Traceback (most recent call last)",
      "Cell \u001b[1;32mIn[110], line 4\u001b[0m\n\u001b[0;32m      2\u001b[0m onehot_encoder \u001b[38;5;241m=\u001b[39m OneHotEncoder()\n\u001b[0;32m      3\u001b[0m y_train_encoded \u001b[38;5;241m=\u001b[39m onehot_encoder\u001b[38;5;241m.\u001b[39mfit_transform(y_train\u001b[38;5;241m.\u001b[39mvalues\u001b[38;5;241m.\u001b[39mreshape(\u001b[38;5;241m-\u001b[39m\u001b[38;5;241m1\u001b[39m, \u001b[38;5;241m1\u001b[39m))\u001b[38;5;241m.\u001b[39mtoarray()\n\u001b[1;32m----> 4\u001b[0m y_test_encoded \u001b[38;5;241m=\u001b[39m onehot_encoder\u001b[38;5;241m.\u001b[39mtransform(y_test\u001b[38;5;241m.\u001b[39mvalues\u001b[38;5;241m.\u001b[39mreshape(\u001b[38;5;241m-\u001b[39m\u001b[38;5;241m1\u001b[39m, \u001b[38;5;241m1\u001b[39m))\u001b[38;5;241m.\u001b[39mtoarray()\n",
      "File \u001b[1;32m~\\anaconda3\\Lib\\site-packages\\sklearn\\utils\\_set_output.py:140\u001b[0m, in \u001b[0;36m_wrap_method_output.<locals>.wrapped\u001b[1;34m(self, X, *args, **kwargs)\u001b[0m\n\u001b[0;32m    138\u001b[0m \u001b[38;5;129m@wraps\u001b[39m(f)\n\u001b[0;32m    139\u001b[0m \u001b[38;5;28;01mdef\u001b[39;00m \u001b[38;5;21mwrapped\u001b[39m(\u001b[38;5;28mself\u001b[39m, X, \u001b[38;5;241m*\u001b[39margs, \u001b[38;5;241m*\u001b[39m\u001b[38;5;241m*\u001b[39mkwargs):\n\u001b[1;32m--> 140\u001b[0m     data_to_wrap \u001b[38;5;241m=\u001b[39m f(\u001b[38;5;28mself\u001b[39m, X, \u001b[38;5;241m*\u001b[39margs, \u001b[38;5;241m*\u001b[39m\u001b[38;5;241m*\u001b[39mkwargs)\n\u001b[0;32m    141\u001b[0m     \u001b[38;5;28;01mif\u001b[39;00m \u001b[38;5;28misinstance\u001b[39m(data_to_wrap, \u001b[38;5;28mtuple\u001b[39m):\n\u001b[0;32m    142\u001b[0m         \u001b[38;5;66;03m# only wrap the first output for cross decomposition\u001b[39;00m\n\u001b[0;32m    143\u001b[0m         return_tuple \u001b[38;5;241m=\u001b[39m (\n\u001b[0;32m    144\u001b[0m             _wrap_data_with_container(method, data_to_wrap[\u001b[38;5;241m0\u001b[39m], X, \u001b[38;5;28mself\u001b[39m),\n\u001b[0;32m    145\u001b[0m             \u001b[38;5;241m*\u001b[39mdata_to_wrap[\u001b[38;5;241m1\u001b[39m:],\n\u001b[0;32m    146\u001b[0m         )\n",
      "File \u001b[1;32m~\\anaconda3\\Lib\\site-packages\\sklearn\\preprocessing\\_encoders.py:1016\u001b[0m, in \u001b[0;36mOneHotEncoder.transform\u001b[1;34m(self, X)\u001b[0m\n\u001b[0;32m   1011\u001b[0m \u001b[38;5;66;03m# validation of X happens in _check_X called by _transform\u001b[39;00m\n\u001b[0;32m   1012\u001b[0m warn_on_unknown \u001b[38;5;241m=\u001b[39m \u001b[38;5;28mself\u001b[39m\u001b[38;5;241m.\u001b[39mdrop \u001b[38;5;129;01mis\u001b[39;00m \u001b[38;5;129;01mnot\u001b[39;00m \u001b[38;5;28;01mNone\u001b[39;00m \u001b[38;5;129;01mand\u001b[39;00m \u001b[38;5;28mself\u001b[39m\u001b[38;5;241m.\u001b[39mhandle_unknown \u001b[38;5;129;01min\u001b[39;00m {\n\u001b[0;32m   1013\u001b[0m     \u001b[38;5;124m\"\u001b[39m\u001b[38;5;124mignore\u001b[39m\u001b[38;5;124m\"\u001b[39m,\n\u001b[0;32m   1014\u001b[0m     \u001b[38;5;124m\"\u001b[39m\u001b[38;5;124minfrequent_if_exist\u001b[39m\u001b[38;5;124m\"\u001b[39m,\n\u001b[0;32m   1015\u001b[0m }\n\u001b[1;32m-> 1016\u001b[0m X_int, X_mask \u001b[38;5;241m=\u001b[39m \u001b[38;5;28mself\u001b[39m\u001b[38;5;241m.\u001b[39m_transform(\n\u001b[0;32m   1017\u001b[0m     X,\n\u001b[0;32m   1018\u001b[0m     handle_unknown\u001b[38;5;241m=\u001b[39m\u001b[38;5;28mself\u001b[39m\u001b[38;5;241m.\u001b[39mhandle_unknown,\n\u001b[0;32m   1019\u001b[0m     force_all_finite\u001b[38;5;241m=\u001b[39m\u001b[38;5;124m\"\u001b[39m\u001b[38;5;124mallow-nan\u001b[39m\u001b[38;5;124m\"\u001b[39m,\n\u001b[0;32m   1020\u001b[0m     warn_on_unknown\u001b[38;5;241m=\u001b[39mwarn_on_unknown,\n\u001b[0;32m   1021\u001b[0m )\n\u001b[0;32m   1023\u001b[0m n_samples, n_features \u001b[38;5;241m=\u001b[39m X_int\u001b[38;5;241m.\u001b[39mshape\n\u001b[0;32m   1025\u001b[0m \u001b[38;5;28;01mif\u001b[39;00m \u001b[38;5;28mself\u001b[39m\u001b[38;5;241m.\u001b[39m_drop_idx_after_grouping \u001b[38;5;129;01mis\u001b[39;00m \u001b[38;5;129;01mnot\u001b[39;00m \u001b[38;5;28;01mNone\u001b[39;00m:\n",
      "File \u001b[1;32m~\\anaconda3\\Lib\\site-packages\\sklearn\\preprocessing\\_encoders.py:199\u001b[0m, in \u001b[0;36m_BaseEncoder._transform\u001b[1;34m(self, X, handle_unknown, force_all_finite, warn_on_unknown, ignore_category_indices)\u001b[0m\n\u001b[0;32m    194\u001b[0m \u001b[38;5;28;01mif\u001b[39;00m handle_unknown \u001b[38;5;241m==\u001b[39m \u001b[38;5;124m\"\u001b[39m\u001b[38;5;124merror\u001b[39m\u001b[38;5;124m\"\u001b[39m:\n\u001b[0;32m    195\u001b[0m     msg \u001b[38;5;241m=\u001b[39m (\n\u001b[0;32m    196\u001b[0m         \u001b[38;5;124m\"\u001b[39m\u001b[38;5;124mFound unknown categories \u001b[39m\u001b[38;5;132;01m{0}\u001b[39;00m\u001b[38;5;124m in column \u001b[39m\u001b[38;5;132;01m{1}\u001b[39;00m\u001b[38;5;124m\"\u001b[39m\n\u001b[0;32m    197\u001b[0m         \u001b[38;5;124m\"\u001b[39m\u001b[38;5;124m during transform\u001b[39m\u001b[38;5;124m\"\u001b[39m\u001b[38;5;241m.\u001b[39mformat(diff, i)\n\u001b[0;32m    198\u001b[0m     )\n\u001b[1;32m--> 199\u001b[0m     \u001b[38;5;28;01mraise\u001b[39;00m \u001b[38;5;167;01mValueError\u001b[39;00m(msg)\n\u001b[0;32m    200\u001b[0m \u001b[38;5;28;01melse\u001b[39;00m:\n\u001b[0;32m    201\u001b[0m     \u001b[38;5;28;01mif\u001b[39;00m warn_on_unknown:\n",
      "\u001b[1;31mValueError\u001b[0m: Found unknown categories [nan] in column 0 during transform"
     ]
    }
   ],
   "source": [
    "# Convert class labels to one-hot encoded vectors\n",
    "onehot_encoder = OneHotEncoder()\n",
    "y_train_encoded = onehot_encoder.fit_transform(y_train.values.reshape(-1, 1)).toarray()\n",
    "y_test_encoded = onehot_encoder.transform(y_test.values.reshape(-1, 1)).toarray()\n"
   ]
  },
  {
   "cell_type": "code",
   "execution_count": null,
   "id": "3cf809f0",
   "metadata": {},
   "outputs": [],
   "source": [
    "\n",
    "\n",
    "\n",
    "# Calculate class weights to handle imbalance\n",
    "class_counts = np.bincount(y_train)\n",
    "total_samples = np.sum(class_counts)\n",
    "class_weights = {i: total_samples / class_counts[i] for i in range(len(class_counts))}\n",
    "\n",
    "# Define and compile the RNN model with weighted cross-entropy loss\n",
    "model = tf.keras.Sequential([\n",
    "    tf.keras.layers.LSTM(64),\n",
    "    tf.keras.layers.Dense(3, activation='softmax')  # Output layer with three units for three classes\n",
    "])\n",
    "\n",
    "model.compile(optimizer='adam',\n",
    "              loss='categorical_crossentropy',  # Use categorical cross-entropy for multiple classes\n",
    "              metrics=['accuracy'])\n",
    "\n",
    "# Train the model with weighted loss\n",
    "model.fit(X_train, y_train_encoded, epochs=10, class_weight=class_weights)\n",
    "\n",
    "# Evaluate the model\n",
    "loss, accuracy = model.evaluate(X_test, y_test_encoded)\n",
    "print(\"Test Loss:\", loss)\n",
    "print(\"Test Accuracy:\", accuracy)\n"
   ]
  },
  {
   "cell_type": "markdown",
   "id": "eda375ba",
   "metadata": {},
   "source": [
    "# LSTM for sentiment analysis with imbalanced data\n",
    "The steps to be considered include:-\n",
    "\n",
    "- Preprocess the text data- i am using already preprocessed text data\n",
    "- Tokenize the preprocessed data\n",
    "- Prepare data for training\n",
    "- split the data into training and test set\n",
    "- define and train the LSTM model\n",
    "- Evaluate the model"
   ]
  },
  {
   "cell_type": "code",
   "execution_count": 79,
   "id": "7ece8fe5",
   "metadata": {},
   "outputs": [],
   "source": [
    "import numpy as np\n",
    "from keras.preprocessing.text import Tokenizer\n",
    "from keras.preprocessing.sequence import pad_sequences\n",
    "from keras.models import Sequential\n",
    "from keras.layers import LSTM, Dense, Embedding\n",
    "from sklearn.model_selection import train_test_split"
   ]
  },
  {
   "cell_type": "markdown",
   "id": "6411679a",
   "metadata": {},
   "source": [
    "# Visualize the trends of the sentiments"
   ]
  },
  {
   "cell_type": "code",
   "execution_count": 80,
   "id": "63dae47c",
   "metadata": {},
   "outputs": [
    {
     "data": {
      "image/png": "[encoded data removed]",
      "text/plain": [
       "<Figure size 1000x600 with 1 Axes>"
      ]
     },
     "metadata": {},
     "output_type": "display_data"
    }
   ],
   "source": [
    "import pandas as pd\n",
    "import matplotlib.pyplot as plt\n",
    "\n",
    "# Set 'date' column as index\n",
    "df.set_index('date', inplace=True)\n",
    "\n",
    "# Plot time series of sentiment classes\n",
    "plt.figure(figsize=(10, 6))\n",
    "\n",
    "# Group by sentiment classes and count occurrences for each date\n",
    "sentiment_counts = df.groupby([df.index.date, 'sentiment_vader']).size().unstack(fill_value=0)\n",
    "\n",
    "# Plot each sentiment class\n",
    "for sentiment_class in sentiment_counts.columns:\n",
    "    plt.plot(sentiment_counts.index, sentiment_counts[sentiment_class], label=sentiment_class)\n",
    "\n",
    "plt.title('Sentiment Classes Over Time')\n",
    "plt.xlabel('Date')\n",
    "plt.ylabel('Count')\n",
    "plt.legend(title='Sentiment Class')\n",
    "plt.grid(True)\n",
    "plt.show()\n"
   ]
  },
  {
   "cell_type": "code",
   "execution_count": 81,
   "id": "6422ebd2",
   "metadata": {},
   "outputs": [
    {
     "name": "stdout",
     "output_type": "stream",
     "text": [
      "<class 'pandas.core.frame.DataFrame'>\n",
      "DatetimeIndex: 1600000 entries, 2009-04-07 05:19:45 to NaT\n",
      "Data columns (total 33 columns):\n",
      " #   Column              Non-Null Count    Dtype  \n",
      "---  ------              --------------    -----  \n",
      " 0   text                1598127 non-null  object \n",
      " 1   user                1598127 non-null  object \n",
      " 2   day                 1598127 non-null  float64\n",
      " 3   month               1598127 non-null  float64\n",
      " 4   word_count          1598127 non-null  float64\n",
      " 5   char_count          1598127 non-null  float64\n",
      " 6   avg_word            1598127 non-null  float64\n",
      " 7   stopwords           1598127 non-null  float64\n",
      " 8   hashtags            1598127 non-null  float64\n",
      " 9   at_sign             1598127 non-null  float64\n",
      " 10  numerics            1598127 non-null  float64\n",
      " 11  upper               1598127 non-null  float64\n",
      " 12  text1               1598127 non-null  object \n",
      " 13  tokenized_text      1598127 non-null  object \n",
      " 14  preprocessed_text   1598127 non-null  object \n",
      " 15  polarity_score      1598127 non-null  float64\n",
      " 16  textblob_sentiment  1598127 non-null  object \n",
      " 17  textblobsentiment   1598127 non-null  float64\n",
      " 18  vader_sentiment     1598127 non-null  object \n",
      " 19  vader_neg           1598127 non-null  float64\n",
      " 20  vader_neu           1598127 non-null  float64\n",
      " 21  vader_pos           1598127 non-null  float64\n",
      " 22  vader_compound      1598127 non-null  float64\n",
      " 23  sentiment_vader     1598127 non-null  object \n",
      " 24  label_text_encoded  1598127 non-null  float64\n",
      " 25  vader_encoded       1598127 non-null  float64\n",
      " 26  Negative            1598127 non-null  float64\n",
      " 27  Neutral             1598127 non-null  float64\n",
      " 28  Positive            1598127 non-null  float64\n",
      " 29  negative            1599999 non-null  float64\n",
      " 30  neutral             1599999 non-null  float64\n",
      " 31  positive            1599999 non-null  float64\n",
      " 32  nan                 1599999 non-null  float64\n",
      "dtypes: float64(25), object(8)\n",
      "memory usage: 415.0+ MB\n"
     ]
    }
   ],
   "source": [
    "df.info()"
   ]
  },
  {
   "cell_type": "markdown",
   "id": "98db4bb8",
   "metadata": {},
   "source": [
    "# Findings from EDA\n",
    "- The date variable has duplicate indices for some observations, the dates are similar but not duplicacte in terms of observations\n",
    "- The sentiments have class imbalance"
   ]
  },
  {
   "cell_type": "markdown",
   "id": "163de44d",
   "metadata": {},
   "source": [
    "# LSTM MODEL FOR FORECASTING OF THE SENTIMENTS\n",
    "- With unbalanced data (vader vs textblob, label encoded, one-hot encoded)\n",
    "- With balanced data (vader vs textblob, label encoded, one hot encoded)"
   ]
  },
  {
   "cell_type": "markdown",
   "id": "6f9dc77b",
   "metadata": {},
   "source": [
    "## 1. Unbalanced class from Vader sentiment when data is label encoded"
   ]
  },
  {
   "cell_type": "markdown",
   "id": "17d74d60",
   "metadata": {},
   "source": [
    "Check the maximum length of the texts"
   ]
  },
  {
   "cell_type": "code",
   "execution_count": 82,
   "id": "c32882c7",
   "metadata": {},
   "outputs": [
    {
     "name": "stdout",
     "output_type": "stream",
     "text": [
      "Maximum sequence length: 179\n"
     ]
    }
   ],
   "source": [
    "#Calculate the maximum length of the text\n",
    "max_len = max([len(str(text)) for text in df['preprocessed_text']])\n",
    "\n",
    "print(\"Maximum sequence length:\", max_len)"
   ]
  },
  {
   "cell_type": "code",
   "execution_count": 83,
   "id": "476bcc4a",
   "metadata": {},
   "outputs": [],
   "source": [
    "import numpy as np\n",
    "import pandas as pd\n",
    "from sklearn.model_selection import train_test_split\n",
    "from keras.models import Sequential\n",
    "from keras.layers import LSTM, Dense, Embedding, SpatialDropout1D\n",
    "from keras.preprocessing.sequence import pad_sequences\n",
    "from sklearn.preprocessing import LabelEncoder"
   ]
  },
  {
   "cell_type": "code",
   "execution_count": 84,
   "id": "d4f095f1",
   "metadata": {},
   "outputs": [],
   "source": [
    "# Define X (features) and y (labels)\n",
    "X = df['tokenized_text'] \n",
    "y = df['label_text_encoded']"
   ]
  },
  {
   "cell_type": "code",
   "execution_count": 87,
   "id": "554473b7",
   "metadata": {},
   "outputs": [
    {
     "data": {
      "text/plain": [
       "((1600000,), (1600000,))"
      ]
     },
     "execution_count": 87,
     "metadata": {},
     "output_type": "execute_result"
    }
   ],
   "source": [
    "X.shape, y.shape"
   ]
  },
  {
   "cell_type": "code",
   "execution_count": 88,
   "id": "2400f88d",
   "metadata": {},
   "outputs": [
    {
     "data": {
      "text/plain": [
       "date\n",
       "2009-04-07 05:19:45    awww thats bummer shoulda got david carr third...\n",
       "2009-04-07 05:19:49    upset cant update facebook texting might cry r...\n",
       "2009-04-07 05:19:53    dived many times ball managed save rest go bounds\n",
       "2009-04-07 05:19:57                     whole body feels itchy like fire\n",
       "2009-04-07 05:19:57                             behaving im mad cant see\n",
       "Name: tokenized_text, dtype: object"
      ]
     },
     "execution_count": 88,
     "metadata": {},
     "output_type": "execute_result"
    }
   ],
   "source": [
    "X.head(5)"
   ]
  },
  {
   "cell_type": "code",
   "execution_count": 90,
   "id": "a10c565b",
   "metadata": {},
   "outputs": [
    {
     "data": {
      "text/plain": [
       "1873"
      ]
     },
     "execution_count": 90,
     "metadata": {},
     "output_type": "execute_result"
    }
   ],
   "source": [
    "X.isnull().sum()"
   ]
  },
  {
   "cell_type": "code",
   "execution_count": 91,
   "id": "ea0fca41",
   "metadata": {},
   "outputs": [
    {
     "data": {
      "text/plain": [
       "text                  1873\n",
       "user                  1873\n",
       "day                   1873\n",
       "month                 1873\n",
       "word_count            1873\n",
       "char_count            1873\n",
       "avg_word              1873\n",
       "stopwords             1873\n",
       "hashtags              1873\n",
       "at_sign               1873\n",
       "numerics              1873\n",
       "upper                 1873\n",
       "text1                 1873\n",
       "tokenized_text        1873\n",
       "preprocessed_text     1873\n",
       "polarity_score        1873\n",
       "textblob_sentiment    1873\n",
       "textblobsentiment     1873\n",
       "vader_sentiment       1873\n",
       "vader_neg             1873\n",
       "vader_neu             1873\n",
       "vader_pos             1873\n",
       "vader_compound        1873\n",
       "sentiment_vader       1873\n",
       "label_text_encoded    1873\n",
       "vader_encoded         1873\n",
       "Negative              1873\n",
       "Neutral               1873\n",
       "Positive              1873\n",
       "negative                 1\n",
       "neutral                  1\n",
       "positive                 1\n",
       "NaN                      1\n",
       "dtype: int64"
      ]
     },
     "execution_count": 91,
     "metadata": {},
     "output_type": "execute_result"
    }
   ],
   "source": [
    "df.isnull().sum()"
   ]
  },
  {
   "cell_type": "code",
   "execution_count": 89,
   "id": "9aeb9e4a",
   "metadata": {},
   "outputs": [
    {
     "ename": "ValueError",
     "evalue": "`sequences` must be a list of iterables. Found non-iterable: nan",
     "output_type": "error",
     "traceback": [
      "\u001b[1;31m---------------------------------------------------------------------------\u001b[0m",
      "\u001b[1;31mTypeError\u001b[0m                                 Traceback (most recent call last)",
      "File \u001b[1;32m~\\anaconda3\\Lib\\site-packages\\keras\\src\\utils\\data_utils.py:1097\u001b[0m, in \u001b[0;36mpad_sequences\u001b[1;34m(sequences, maxlen, dtype, padding, truncating, value)\u001b[0m\n\u001b[0;32m   1096\u001b[0m \u001b[38;5;28;01mtry\u001b[39;00m:\n\u001b[1;32m-> 1097\u001b[0m     lengths\u001b[38;5;241m.\u001b[39mappend(\u001b[38;5;28mlen\u001b[39m(x))\n\u001b[0;32m   1098\u001b[0m     \u001b[38;5;28;01mif\u001b[39;00m flag \u001b[38;5;129;01mand\u001b[39;00m \u001b[38;5;28mlen\u001b[39m(x):\n",
      "\u001b[1;31mTypeError\u001b[0m: object of type 'float' has no len()",
      "\nThe above exception was the direct cause of the following exception:\n",
      "\u001b[1;31mValueError\u001b[0m                                Traceback (most recent call last)",
      "Cell \u001b[1;32mIn[89], line 3\u001b[0m\n\u001b[0;32m      1\u001b[0m \u001b[38;5;66;03m#Pad the tokenized text\u001b[39;00m\n\u001b[0;32m      2\u001b[0m max_len \u001b[38;5;241m=\u001b[39m \u001b[38;5;241m37\u001b[39m  \u001b[38;5;66;03m# Define maximum sequence length\u001b[39;00m\n\u001b[1;32m----> 3\u001b[0m X \u001b[38;5;241m=\u001b[39m pad_sequences(X, maxlen\u001b[38;5;241m=\u001b[39mmax_len, padding\u001b[38;5;241m=\u001b[39m\u001b[38;5;124m'\u001b[39m\u001b[38;5;124mpost\u001b[39m\u001b[38;5;124m'\u001b[39m)\n",
      "File \u001b[1;32m~\\anaconda3\\Lib\\site-packages\\keras\\src\\utils\\data_utils.py:1102\u001b[0m, in \u001b[0;36mpad_sequences\u001b[1;34m(sequences, maxlen, dtype, padding, truncating, value)\u001b[0m\n\u001b[0;32m   1100\u001b[0m             flag \u001b[38;5;241m=\u001b[39m \u001b[38;5;28;01mFalse\u001b[39;00m\n\u001b[0;32m   1101\u001b[0m     \u001b[38;5;28;01mexcept\u001b[39;00m \u001b[38;5;167;01mTypeError\u001b[39;00m \u001b[38;5;28;01mas\u001b[39;00m e:\n\u001b[1;32m-> 1102\u001b[0m         \u001b[38;5;28;01mraise\u001b[39;00m \u001b[38;5;167;01mValueError\u001b[39;00m(\n\u001b[0;32m   1103\u001b[0m             \u001b[38;5;124m\"\u001b[39m\u001b[38;5;124m`sequences` must be a list of iterables. \u001b[39m\u001b[38;5;124m\"\u001b[39m\n\u001b[0;32m   1104\u001b[0m             \u001b[38;5;124mf\u001b[39m\u001b[38;5;124m\"\u001b[39m\u001b[38;5;124mFound non-iterable: \u001b[39m\u001b[38;5;132;01m{\u001b[39;00m\u001b[38;5;28mstr\u001b[39m(x)\u001b[38;5;132;01m}\u001b[39;00m\u001b[38;5;124m\"\u001b[39m\n\u001b[0;32m   1105\u001b[0m         ) \u001b[38;5;28;01mfrom\u001b[39;00m \u001b[38;5;21;01me\u001b[39;00m\n\u001b[0;32m   1107\u001b[0m \u001b[38;5;28;01mif\u001b[39;00m maxlen \u001b[38;5;129;01mis\u001b[39;00m \u001b[38;5;28;01mNone\u001b[39;00m:\n\u001b[0;32m   1108\u001b[0m     maxlen \u001b[38;5;241m=\u001b[39m np\u001b[38;5;241m.\u001b[39mmax(lengths)\n",
      "\u001b[1;31mValueError\u001b[0m: `sequences` must be a list of iterables. Found non-iterable: nan"
     ]
    }
   ],
   "source": [
    "#Pad the tokenized text\n",
    "max_len = 37  # Define maximum sequence length\n",
    "X = pad_sequences(X, maxlen=max_len, padding='post')"
   ]
  },
  {
   "cell_type": "code",
   "execution_count": null,
   "id": "d097f9b5",
   "metadata": {},
   "outputs": [],
   "source": [
    "\n",
    "\n",
    "\n",
    "\n",
    "\n",
    "\n",
    "# Split the data into training and testing sets\n",
    "X_train, X_test, y_train, y_test = train_test_split(X, y, test_size=0.2, random_state=42)\n",
    "\n",
    "# Define LSTM model architecture\n",
    "model = Sequential()\n",
    "model.add(Embedding(input_dim=vocab_size, output_dim=128, input_length=max_len))\n",
    "model.add(SpatialDropout1D(0.2))\n",
    "model.add(LSTM(100, dropout=0.2, recurrent_dropout=0.2))\n",
    "model.add(Dense(3, activation='softmax'))  # 3 categories for sentiment classification\n",
    "\n",
    "# Compile the model\n",
    "model.compile(loss='sparse_categorical_crossentropy', optimizer='adam', metrics=['accuracy'])\n",
    "\n",
    "# Train the model\n",
    "model.fit(X_train, y_train, epochs=5, batch_size=32)\n",
    "\n",
    "# Evaluate the model\n",
    "loss, accuracy = model.evaluate(X_test, y_test)\n",
    "print(\"Test Loss:\", loss)\n",
    "print(\"Test Accuracy:\", accuracy)\n",
    "\n",
    "# Forecasting sentiment for day 1, 3, and 7\n",
    "# Assuming you have the tokenized and encoded data for day 1, 3, and 7\n",
    "day1_data = pad_sequences(day1_tokenized_text, maxlen=max_len, padding='post')\n",
    "day3_data = pad_sequences(day3_tokenized_text, maxlen=max_len, padding='post')\n",
    "day7_data = pad_sequences(day7_tokenized_text, maxlen=max_len, padding='post')\n",
    "\n",
    "# Predict sentiment for day 1, 3, and 7\n",
    "day1_sentiment = model.predict_classes(day1_data)\n",
    "day3_sentiment = model.predict_classes(day3_data)\n",
    "day7_sentiment = model.predict_classes(day7_data)\n",
    "\n",
    "print(\"Sentiment for day 1:\", day1_sentiment)\n",
    "print(\"Sentiment for day 3:\", day3_sentiment)\n",
    "print(\"Sentiment for day 7:\", day7_sentiment)\n"
   ]
  },
  {
   "cell_type": "code",
   "execution_count": 92,
   "id": "303cad47",
   "metadata": {},
   "outputs": [
    {
     "name": "stdout",
     "output_type": "stream",
     "text": [
      "                                                     preprocessed_text  \\\n",
      "date                                                                     \n",
      "2009-04-07 05:19:45  awww thats bummer shoulda got david carr third...   \n",
      "2009-04-07 05:19:49  upset cant update facebook texting might cry r...   \n",
      "2009-04-07 05:19:53  dived many time ball managed save 50 rest go b...   \n",
      "2009-04-07 05:19:57                    whole body feel itchy like fire   \n",
      "2009-04-07 05:19:57                           behaving im mad cant see   \n",
      "\n",
      "                    sentiment_vader textblob_sentiment  label_text_encoded  \\\n",
      "date                                                                         \n",
      "2009-04-07 05:19:45        negative           Positive                 2.0   \n",
      "2009-04-07 05:19:49        negative            Neutral                 1.0   \n",
      "2009-04-07 05:19:53        positive           Positive                 2.0   \n",
      "2009-04-07 05:19:57        negative           Positive                 2.0   \n",
      "2009-04-07 05:19:57        negative           Negative                 0.0   \n",
      "\n",
      "                     vader_encoded  \n",
      "date                                \n",
      "2009-04-07 05:19:45            0.0  \n",
      "2009-04-07 05:19:49            0.0  \n",
      "2009-04-07 05:19:53            2.0  \n",
      "2009-04-07 05:19:57            0.0  \n",
      "2009-04-07 05:19:57            0.0  \n"
     ]
    }
   ],
   "source": [
    "#Select specific columns from the original DataFrame\n",
    "LSTM_data = df[['preprocessed_text', 'sentiment_vader', 'textblob_sentiment', 'label_text_encoded', 'vader_encoded']]\n",
    "\n",
    "# Display the first 5 rows of the new DataFrame\n",
    "print(LSTM_data.head(5))"
   ]
  },
  {
   "cell_type": "code",
   "execution_count": 89,
   "id": "14901aa2",
   "metadata": {},
   "outputs": [
    {
     "ename": "AttributeError",
     "evalue": "'float' object has no attribute 'lower'",
     "output_type": "error",
     "traceback": [
      "\u001b[1;31m---------------------------------------------------------------------------\u001b[0m",
      "\u001b[1;31mAttributeError\u001b[0m                            Traceback (most recent call last)",
      "Cell \u001b[1;32mIn[89], line 7\u001b[0m\n\u001b[0;32m      4\u001b[0m tokenizer \u001b[38;5;241m=\u001b[39m Tokenizer()\n\u001b[0;32m      6\u001b[0m \u001b[38;5;66;03m#Fit the tokenizer on the text data\u001b[39;00m\n\u001b[1;32m----> 7\u001b[0m tokenizer\u001b[38;5;241m.\u001b[39mfit_on_texts(df[\u001b[38;5;124m'\u001b[39m\u001b[38;5;124mpreprocessed_text\u001b[39m\u001b[38;5;124m'\u001b[39m])\n\u001b[0;32m      9\u001b[0m \u001b[38;5;66;03m#Vocabulary size\u001b[39;00m\n\u001b[0;32m     10\u001b[0m vocab_size \u001b[38;5;241m=\u001b[39m \u001b[38;5;28mlen\u001b[39m(tokenizer\u001b[38;5;241m.\u001b[39mword_index) \u001b[38;5;241m+\u001b[39m \u001b[38;5;241m1\u001b[39m  \u001b[38;5;66;03m# Adding 1 for <UNK> token\u001b[39;00m\n",
      "File \u001b[1;32m~\\anaconda3\\Lib\\site-packages\\keras\\src\\preprocessing\\text.py:293\u001b[0m, in \u001b[0;36mTokenizer.fit_on_texts\u001b[1;34m(self, texts)\u001b[0m\n\u001b[0;32m    291\u001b[0m \u001b[38;5;28;01melse\u001b[39;00m:\n\u001b[0;32m    292\u001b[0m     \u001b[38;5;28;01mif\u001b[39;00m \u001b[38;5;28mself\u001b[39m\u001b[38;5;241m.\u001b[39manalyzer \u001b[38;5;129;01mis\u001b[39;00m \u001b[38;5;28;01mNone\u001b[39;00m:\n\u001b[1;32m--> 293\u001b[0m         seq \u001b[38;5;241m=\u001b[39m text_to_word_sequence(\n\u001b[0;32m    294\u001b[0m             text,\n\u001b[0;32m    295\u001b[0m             filters\u001b[38;5;241m=\u001b[39m\u001b[38;5;28mself\u001b[39m\u001b[38;5;241m.\u001b[39mfilters,\n\u001b[0;32m    296\u001b[0m             lower\u001b[38;5;241m=\u001b[39m\u001b[38;5;28mself\u001b[39m\u001b[38;5;241m.\u001b[39mlower,\n\u001b[0;32m    297\u001b[0m             split\u001b[38;5;241m=\u001b[39m\u001b[38;5;28mself\u001b[39m\u001b[38;5;241m.\u001b[39msplit,\n\u001b[0;32m    298\u001b[0m         )\n\u001b[0;32m    299\u001b[0m     \u001b[38;5;28;01melse\u001b[39;00m:\n\u001b[0;32m    300\u001b[0m         seq \u001b[38;5;241m=\u001b[39m \u001b[38;5;28mself\u001b[39m\u001b[38;5;241m.\u001b[39manalyzer(text)\n",
      "File \u001b[1;32m~\\anaconda3\\Lib\\site-packages\\keras\\src\\preprocessing\\text.py:74\u001b[0m, in \u001b[0;36mtext_to_word_sequence\u001b[1;34m(input_text, filters, lower, split)\u001b[0m\n\u001b[0;32m     46\u001b[0m \u001b[38;5;250m\u001b[39m\u001b[38;5;124mr\u001b[39m\u001b[38;5;124;03m\"\"\"Converts a text to a sequence of words (or tokens).\u001b[39;00m\n\u001b[0;32m     47\u001b[0m \n\u001b[0;32m     48\u001b[0m \u001b[38;5;124;03mDeprecated: `tf.keras.preprocessing.text.text_to_word_sequence` does not\u001b[39;00m\n\u001b[1;32m   (...)\u001b[0m\n\u001b[0;32m     71\u001b[0m \u001b[38;5;124;03m    A list of words (or tokens).\u001b[39;00m\n\u001b[0;32m     72\u001b[0m \u001b[38;5;124;03m\"\"\"\u001b[39;00m\n\u001b[0;32m     73\u001b[0m \u001b[38;5;28;01mif\u001b[39;00m lower:\n\u001b[1;32m---> 74\u001b[0m     input_text \u001b[38;5;241m=\u001b[39m input_text\u001b[38;5;241m.\u001b[39mlower()\n\u001b[0;32m     76\u001b[0m translate_dict \u001b[38;5;241m=\u001b[39m {c: split \u001b[38;5;28;01mfor\u001b[39;00m c \u001b[38;5;129;01min\u001b[39;00m filters}\n\u001b[0;32m     77\u001b[0m translate_map \u001b[38;5;241m=\u001b[39m \u001b[38;5;28mstr\u001b[39m\u001b[38;5;241m.\u001b[39mmaketrans(translate_dict)\n",
      "\u001b[1;31mAttributeError\u001b[0m: 'float' object has no attribute 'lower'"
     ]
    }
   ],
   "source": [
    "from keras.preprocessing.text import Tokenizer\n",
    "\n",
    "# Create a Tokenizer instance\n",
    "tokenizer = Tokenizer()\n",
    "\n",
    "#Fit the tokenizer on the text data\n",
    "tokenizer.fit_on_texts(df['preprocessed_text'])\n",
    "\n",
    "#Vocabulary size\n",
    "vocab_size = len(tokenizer.word_index) + 1  # Adding 1 for <UNK> token\n",
    "\n",
    "#Maximum sequence length\n",
    "max_len = max([len(seq.split()) for seq in df['preprocessed_text']])\n",
    "\n",
    "print(\"Maximum vocabulary size:\", vocab_size)\n",
    "print(\"Maximum sequence length:\", max_len)\n"
   ]
  },
  {
   "cell_type": "code",
   "execution_count": null,
   "id": "93b6d3f3",
   "metadata": {},
   "outputs": [],
   "source": [
    "import numpy as np\n",
    "import pandas as pd\n",
    "from sklearn.model_selection import train_test_split\n",
    "from keras.preprocessing.sequence import pad_sequences\n",
    "from keras.models import Sequential\n",
    "from keras.layers import LSTM, Dense, Embedding\n",
    "\n",
    "\n",
    "#Prepare the data\n",
    "X = df['preprocessed_text']  # Input features\n",
    "y = df['label_text_encoded']  # Labels\n",
    "\n",
    "#Split the data into training and testing sets\n",
    "X_train, X_test, y_train, y_test = train_test_split(X, y, test_size=0.2, random_state=42)\n",
    "\n",
    "#Define the LSTM model architecture\n",
    "vocab_size = 10000  # Adjust as per your vocabulary size\n",
    "max_len = 100  # Adjust as per your maximum sequence length\n",
    "\n",
    "model = Sequential()\n",
    "model.add(Embedding(input_dim=vocab_size, output_dim=128, input_length=max_len))\n",
    "model.add(LSTM(units=64, dropout=0.2, recurrent_dropout=0.2))\n",
    "model.add(Dense(1, activation='sigmoid'))\n",
    "\n",
    "#Compile the model\n",
    "model.compile(optimizer='adam', loss='binary_crossentropy', metrics=['accuracy'])\n",
    "\n",
    "#Train the model\n",
    "# Tokenize and pad sequences\n",
    "# Example tokenization and padding:\n",
    "# tokenizer = Tokenizer(num_words=vocab_size)\n",
    "# tokenizer.fit_on_texts(X_train)\n",
    "# X_train_seq = tokenizer.texts_to_sequences(X_train)\n",
    "# X_test_seq = tokenizer.texts_to_sequences(X_test)\n",
    "# X_train_pad = pad_sequences(X_train_seq, maxlen=max_len)\n",
    "# X_test_pad = pad_sequences(X_test_seq, maxlen=max_len)\n",
    "\n",
    "# Since tokenization and padding process is not shown, you need to perform it as per your data preprocessing\n",
    "# You can uncomment and adjust the above lines accordingly\n",
    "\n",
    "# Example training:\n",
    "# model.fit(X_train_pad, y_train, epochs=5, batch_size=32)\n",
    "\n",
    "# Step 6: Evaluate the model\n",
    "# Example evaluation:\n",
    "# loss, accuracy = model.evaluate(X_test_pad, y_test)\n",
    "# print(\"Test Loss:\", loss)\n",
    "# print(\"Test Accuracy:\", accuracy)\n",
    "\n",
    "# After training and evaluation, you can use this model to predict sentiments on new data\n"
   ]
  },
  {
   "cell_type": "markdown",
   "id": "bf82c0db",
   "metadata": {},
   "source": [
    "# TIME SERIES ANALYSIS"
   ]
  },
  {
   "cell_type": "code",
   "execution_count": null,
   "id": "13933fcc",
   "metadata": {},
   "outputs": [],
   "source": []
  },
  {
   "cell_type": "markdown",
   "id": "5c22d408",
   "metadata": {},
   "source": [
    "### STL Decomposition"
   ]
  },
  {
   "cell_type": "code",
   "execution_count": null,
   "id": "eeb629b3",
   "metadata": {},
   "outputs": [],
   "source": []
  },
  {
   "cell_type": "code",
   "execution_count": 87,
   "id": "28443b8b",
   "metadata": {},
   "outputs": [
    {
     "data": {
      "text/html": [
       "<div>\n",
       "<style scoped>\n",
       "    .dataframe tbody tr th:only-of-type {\n",
       "        vertical-align: middle;\n",
       "    }\n",
       "\n",
       "    .dataframe tbody tr th {\n",
       "        vertical-align: top;\n",
       "    }\n",
       "\n",
       "    .dataframe thead th {\n",
       "        text-align: right;\n",
       "    }\n",
       "</style>\n",
       "<table border=\"1\" class=\"dataframe\">\n",
       "  <thead>\n",
       "    <tr style=\"text-align: right;\">\n",
       "      <th></th>\n",
       "      <th>label_text_encoded</th>\n",
       "    </tr>\n",
       "    <tr>\n",
       "      <th>date</th>\n",
       "      <th></th>\n",
       "    </tr>\n",
       "  </thead>\n",
       "  <tbody>\n",
       "    <tr>\n",
       "      <th>2009-04-07 05:19:45</th>\n",
       "      <td>2.0</td>\n",
       "    </tr>\n",
       "    <tr>\n",
       "      <th>2009-04-07 05:19:49</th>\n",
       "      <td>1.0</td>\n",
       "    </tr>\n",
       "    <tr>\n",
       "      <th>2009-04-07 05:19:53</th>\n",
       "      <td>2.0</td>\n",
       "    </tr>\n",
       "    <tr>\n",
       "      <th>2009-04-07 05:19:57</th>\n",
       "      <td>2.0</td>\n",
       "    </tr>\n",
       "    <tr>\n",
       "      <th>2009-04-07 05:19:57</th>\n",
       "      <td>0.0</td>\n",
       "    </tr>\n",
       "  </tbody>\n",
       "</table>\n",
       "</div>"
      ],
      "text/plain": [
       "                     label_text_encoded\n",
       "date                                   \n",
       "2009-04-07 05:19:45                 2.0\n",
       "2009-04-07 05:19:49                 1.0\n",
       "2009-04-07 05:19:53                 2.0\n",
       "2009-04-07 05:19:57                 2.0\n",
       "2009-04-07 05:19:57                 0.0"
      ]
     },
     "execution_count": 87,
     "metadata": {},
     "output_type": "execute_result"
    }
   ],
   "source": [
    "#filter the date and sentiment to plot the graph\n",
    "stl_data = df[['label_text_encoded']]\n",
    "stl_data.head(5)"
   ]
  },
  {
   "cell_type": "markdown",
   "id": "068a500c",
   "metadata": {},
   "source": [
    "## Multiplicative"
   ]
  },
  {
   "cell_type": "code",
   "execution_count": 88,
   "id": "cf1cba13",
   "metadata": {},
   "outputs": [
    {
     "ename": "ValueError",
     "evalue": "This function does not handle missing values",
     "output_type": "error",
     "traceback": [
      "\u001b[1;31m---------------------------------------------------------------------------\u001b[0m",
      "\u001b[1;31mValueError\u001b[0m                                Traceback (most recent call last)",
      "Cell \u001b[1;32mIn[88], line 3\u001b[0m\n\u001b[0;32m      1\u001b[0m \u001b[38;5;28;01mfrom\u001b[39;00m \u001b[38;5;21;01mstatsmodels\u001b[39;00m\u001b[38;5;21;01m.\u001b[39;00m\u001b[38;5;21;01mtsa\u001b[39;00m\u001b[38;5;21;01m.\u001b[39;00m\u001b[38;5;21;01mseasonal\u001b[39;00m \u001b[38;5;28;01mimport\u001b[39;00m seasonal_decompose\n\u001b[0;32m      2\u001b[0m \u001b[38;5;66;03m#Decompose the data\u001b[39;00m\n\u001b[1;32m----> 3\u001b[0m decomposed_data \u001b[38;5;241m=\u001b[39m seasonal_decompose(stl_data, model \u001b[38;5;241m=\u001b[39m \u001b[38;5;124m'\u001b[39m\u001b[38;5;124mmultiplicative\u001b[39m\u001b[38;5;124m'\u001b[39m)\n\u001b[0;32m      5\u001b[0m \u001b[38;5;66;03m#plot decomposed data\u001b[39;00m\n\u001b[0;32m      6\u001b[0m decomposed_data\u001b[38;5;241m.\u001b[39mplot()\n",
      "File \u001b[1;32m~\\anaconda3\\Lib\\site-packages\\statsmodels\\tsa\\seasonal.py:153\u001b[0m, in \u001b[0;36mseasonal_decompose\u001b[1;34m(x, model, filt, period, two_sided, extrapolate_trend)\u001b[0m\n\u001b[0;32m    150\u001b[0m nobs \u001b[38;5;241m=\u001b[39m \u001b[38;5;28mlen\u001b[39m(x)\n\u001b[0;32m    152\u001b[0m \u001b[38;5;28;01mif\u001b[39;00m \u001b[38;5;129;01mnot\u001b[39;00m np\u001b[38;5;241m.\u001b[39mall(np\u001b[38;5;241m.\u001b[39misfinite(x)):\n\u001b[1;32m--> 153\u001b[0m     \u001b[38;5;28;01mraise\u001b[39;00m \u001b[38;5;167;01mValueError\u001b[39;00m(\u001b[38;5;124m\"\u001b[39m\u001b[38;5;124mThis function does not handle missing values\u001b[39m\u001b[38;5;124m\"\u001b[39m)\n\u001b[0;32m    154\u001b[0m \u001b[38;5;28;01mif\u001b[39;00m model\u001b[38;5;241m.\u001b[39mstartswith(\u001b[38;5;124m\"\u001b[39m\u001b[38;5;124mm\u001b[39m\u001b[38;5;124m\"\u001b[39m):\n\u001b[0;32m    155\u001b[0m     \u001b[38;5;28;01mif\u001b[39;00m np\u001b[38;5;241m.\u001b[39many(x \u001b[38;5;241m<\u001b[39m\u001b[38;5;241m=\u001b[39m \u001b[38;5;241m0\u001b[39m):\n",
      "\u001b[1;31mValueError\u001b[0m: This function does not handle missing values"
     ]
    }
   ],
   "source": [
    "from statsmodels.tsa.seasonal import seasonal_decompose\n",
    "#Decompose the data\n",
    "decomposed_data = seasonal_decompose(stl_data, model = 'multiplicative')\n",
    "\n",
    "#plot decomposed data\n",
    "decomposed_data.plot()\n",
    "\n",
    "#Display the plot\n",
    "plt.show()"
   ]
  },
  {
   "cell_type": "markdown",
   "id": "263c45d4",
   "metadata": {},
   "source": [
    "## Additive"
   ]
  },
  {
   "cell_type": "code",
   "execution_count": null,
   "id": "7fc0c186",
   "metadata": {},
   "outputs": [],
   "source": [
    "from statsmodels.tsa.seasonal import seasonal_decompose\n",
    "#Decompose the data\n",
    "decomposed_data = seasonal_decompose(stl_data, model = 'additive')\n",
    "\n",
    "#plot decomposed data\n",
    "decomposed_data.plot()\n",
    "\n",
    "#Display the plot\n",
    "plt.show()"
   ]
  },
  {
   "cell_type": "markdown",
   "id": "feea2c89",
   "metadata": {},
   "source": [
    "# LSTM FOR TEXTBLOB SENTIMENT"
   ]
  },
  {
   "cell_type": "code",
   "execution_count": 120,
   "id": "5221344c",
   "metadata": {},
   "outputs": [],
   "source": [
    "# Hyperparameters \n",
    "max_words = 1000 # max number of words to use in the vocabulary\n",
    "max_len = 37 # max length of each text (in terms of number of words)\n",
    "embedding_dim = 100 # dimension of word embeddings\n",
    "lstm_units = 64 # number of units in the LSTM layer\n",
    "num_classes = len(set(df['vader_encoded'])) # number of classes\n"
   ]
  },
  {
   "cell_type": "code",
   "execution_count": null,
   "id": "2d1e2b93",
   "metadata": {},
   "outputs": [],
   "source": [
    "import keras.preprocessing.text Tokenizer\n",
    "from keras.preprocessing.sequence import pad_sequences\n",
    "from keras.layers import Embedding, LSTM, Dense\n",
    "from keras.models import Sequential\n",
    "\n",
    "# Tokenize the texts and create a vocabulary\n",
    "tokenizer = Tokenizer(num_words=max_words)\n",
    "tokenizer.fit_on_texts(texts)\n",
    "sequences = tokenizer.texts_to_sequences(texts)"
   ]
  },
  {
   "cell_type": "code",
   "execution_count": 119,
   "id": "4e39df9f",
   "metadata": {},
   "outputs": [
    {
     "name": "stderr",
     "output_type": "stream",
     "text": [
      "C:\\Users\\Diana\\anaconda3\\Lib\\site-packages\\keras\\src\\utils\\np_utils.py:62: RuntimeWarning: invalid value encountered in cast\n",
      "  y = np.array(y, dtype=\"int\")\n"
     ]
    },
    {
     "ename": "IndexError",
     "evalue": "index -2147483648 is out of bounds for axis 1 with size 3",
     "output_type": "error",
     "traceback": [
      "\u001b[1;31m---------------------------------------------------------------------------\u001b[0m",
      "\u001b[1;31mIndexError\u001b[0m                                Traceback (most recent call last)",
      "Cell \u001b[1;32mIn[119], line 23\u001b[0m\n\u001b[0;32m     20\u001b[0m X, y \u001b[38;5;241m=\u001b[39m create_sequences(df[\u001b[38;5;124m'\u001b[39m\u001b[38;5;124mvader_encoded\u001b[39m\u001b[38;5;124m'\u001b[39m], window_size)\n\u001b[0;32m     22\u001b[0m \u001b[38;5;66;03m# Convert sentiment labels to categorical format\u001b[39;00m\n\u001b[1;32m---> 23\u001b[0m y \u001b[38;5;241m=\u001b[39m to_categorical(y, num_classes\u001b[38;5;241m=\u001b[39m\u001b[38;5;28mlen\u001b[39m(label_encoder\u001b[38;5;241m.\u001b[39mclasses_))\n\u001b[0;32m     25\u001b[0m \u001b[38;5;66;03m# Split the data into training and testing sets\u001b[39;00m\n\u001b[0;32m     26\u001b[0m split_index \u001b[38;5;241m=\u001b[39m \u001b[38;5;28mint\u001b[39m(\u001b[38;5;241m0.8\u001b[39m \u001b[38;5;241m*\u001b[39m \u001b[38;5;28mlen\u001b[39m(X))\n",
      "File \u001b[1;32m~\\anaconda3\\Lib\\site-packages\\keras\\src\\utils\\np_utils.py:74\u001b[0m, in \u001b[0;36mto_categorical\u001b[1;34m(y, num_classes, dtype)\u001b[0m\n\u001b[0;32m     72\u001b[0m n \u001b[38;5;241m=\u001b[39m y\u001b[38;5;241m.\u001b[39mshape[\u001b[38;5;241m0\u001b[39m]\n\u001b[0;32m     73\u001b[0m categorical \u001b[38;5;241m=\u001b[39m np\u001b[38;5;241m.\u001b[39mzeros((n, num_classes), dtype\u001b[38;5;241m=\u001b[39mdtype)\n\u001b[1;32m---> 74\u001b[0m categorical[np\u001b[38;5;241m.\u001b[39marange(n), y] \u001b[38;5;241m=\u001b[39m \u001b[38;5;241m1\u001b[39m\n\u001b[0;32m     75\u001b[0m output_shape \u001b[38;5;241m=\u001b[39m input_shape \u001b[38;5;241m+\u001b[39m (num_classes,)\n\u001b[0;32m     76\u001b[0m categorical \u001b[38;5;241m=\u001b[39m np\u001b[38;5;241m.\u001b[39mreshape(categorical, output_shape)\n",
      "\u001b[1;31mIndexError\u001b[0m: index -2147483648 is out of bounds for axis 1 with size 3"
     ]
    }
   ],
   "source": [
    "import pandas as pd\n",
    "import numpy as np\n",
    "from keras.models import Sequential\n",
    "from keras.layers import LSTM, Dense, Dropout\n",
    "from keras.utils import to_categorical\n",
    "from sklearn.preprocessing import LabelEncoder, MinMaxScaler\n",
    "\n",
    "# Define window size for LSTM model\n",
    "window_size = 7  \n",
    "\n",
    "# Convert dataset into sequences of fixed length\n",
    "def create_sequences(data, window_size):\n",
    "    X, y = [], []\n",
    "    for i in range(len(data) - window_size):\n",
    "        X.append(data[i:i+window_size])\n",
    "        y.append(data[i+window_size])\n",
    "    return np.array(X), np.array(y)\n",
    "\n",
    "# Create sequences for LSTM model\n",
    "X, y = create_sequences(df['vader_encoded'], window_size)\n",
    "\n",
    "# Convert sentiment labels to categorical format\n",
    "y = to_categorical(y, num_classes=len(label_encoder.classes_))\n",
    "\n",
    "# Split the data into training and testing sets\n",
    "split_index = int(0.8 * len(X))\n",
    "X_train, X_test = X[:split_index], X[split_index:]\n",
    "y_train, y_test = y[:split_index], y[split_index:]\n",
    "\n",
    "# Define LSTM model\n",
    "model = Sequential([\n",
    "    LSTM(units=64, input_shape=(window_size, 1)),\n",
    "    Dropout(0.2),\n",
    "    Dense(units=len(label_encoder.classes_), activation='softmax')\n",
    "])\n",
    "\n",
    "# Compile the model\n",
    "model.compile(optimizer='adam', loss='categorical_crossentropy', metrics=['accuracy'])\n",
    "\n",
    "# Train the model\n",
    "model.fit(X_train, y_train, epochs=50, batch_size=32, validation_split=0.1)\n",
    "\n",
    "# Evaluate the model\n",
    "loss, accuracy = model.evaluate(X_test, y_test)\n",
    "print(\"Test Loss:\", loss)\n",
    "print(\"Test Accuracy:\", accuracy)\n"
   ]
  },
  {
   "cell_type": "code",
   "execution_count": 118,
   "id": "7ac2aa53",
   "metadata": {},
   "outputs": [
    {
     "name": "stderr",
     "output_type": "stream",
     "text": [
      "C:\\Users\\Diana\\anaconda3\\Lib\\site-packages\\statsmodels\\tsa\\base\\tsa_model.py:473: ValueWarning: No frequency information was provided, so inferred frequency D will be used.\n",
      "  self._init_dates(dates, freq)\n",
      "C:\\Users\\Diana\\anaconda3\\Lib\\site-packages\\statsmodels\\tsa\\base\\tsa_model.py:473: ValueWarning: No frequency information was provided, so inferred frequency D will be used.\n",
      "  self._init_dates(dates, freq)\n",
      "C:\\Users\\Diana\\anaconda3\\Lib\\site-packages\\statsmodels\\tsa\\base\\tsa_model.py:473: ValueWarning: No frequency information was provided, so inferred frequency D will be used.\n",
      "  self._init_dates(dates, freq)\n"
     ]
    },
    {
     "ename": "IndexError",
     "evalue": "invalid index to scalar variable.",
     "output_type": "error",
     "traceback": [
      "\u001b[1;31m---------------------------------------------------------------------------\u001b[0m",
      "\u001b[1;31mIndexError\u001b[0m                                Traceback (most recent call last)",
      "Cell \u001b[1;32mIn[118], line 16\u001b[0m\n\u001b[0;32m     13\u001b[0m arima_model \u001b[38;5;241m=\u001b[39m model\u001b[38;5;241m.\u001b[39mfit()\n\u001b[0;32m     15\u001b[0m \u001b[38;5;66;03m# Make predictions\u001b[39;00m\n\u001b[1;32m---> 16\u001b[0m forecast_1day \u001b[38;5;241m=\u001b[39m arima_model\u001b[38;5;241m.\u001b[39mforecast(steps\u001b[38;5;241m=\u001b[39m\u001b[38;5;241m1\u001b[39m)[\u001b[38;5;241m0\u001b[39m][\u001b[38;5;241m0\u001b[39m]\n\u001b[0;32m     17\u001b[0m forecast_3days \u001b[38;5;241m=\u001b[39m arima_model\u001b[38;5;241m.\u001b[39mforecast(steps\u001b[38;5;241m=\u001b[39m\u001b[38;5;241m3\u001b[39m)[\u001b[38;5;241m0\u001b[39m][\u001b[38;5;241m-\u001b[39m\u001b[38;5;241m1\u001b[39m]\n\u001b[0;32m     18\u001b[0m forecast_7days \u001b[38;5;241m=\u001b[39m arima_model\u001b[38;5;241m.\u001b[39mforecast(steps\u001b[38;5;241m=\u001b[39m\u001b[38;5;241m7\u001b[39m)[\u001b[38;5;241m0\u001b[39m][\u001b[38;5;241m-\u001b[39m\u001b[38;5;241m1\u001b[39m]\n",
      "\u001b[1;31mIndexError\u001b[0m: invalid index to scalar variable."
     ]
    }
   ],
   "source": [
    "from statsmodels.tsa.arima.model import ARIMA\n",
    "import numpy as np\n",
    "\n",
    "# Resample data to daily frequency\n",
    "time_series_data = df.resample('D')['vader_encoded'].mean()\n",
    "\n",
    "# Split the data into train and test sets\n",
    "train_size = int(len(time_series_data) * 0.8)\n",
    "train_data, test_data = time_series_data[:train_size], time_series_data[train_size:]\n",
    "\n",
    "# Train ARIMA model\n",
    "model = ARIMA(train_data, order=(5,1,0))\n",
    "arima_model = model.fit()\n",
    "\n",
    "# Make predictions\n",
    "forecast_1day = arima_model.forecast(steps=1)[0][0]\n",
    "forecast_3days = arima_model.forecast(steps=3)[0][-1]\n",
    "forecast_7days = arima_model.forecast(steps=7)[0][-1]\n",
    "\n",
    "print(\"Forecast for 1 day ahead:\", forecast_1day)\n",
    "print(\"Forecast for 3 days ahead:\", forecast_3days)\n",
    "print(\"Forecast for 7 days ahead:\", forecast_7days)\n"
   ]
  },
  {
   "cell_type": "code",
   "execution_count": null,
   "id": "58345bcb",
   "metadata": {},
   "outputs": [],
   "source": []
  }
 ],
 "metadata": {
  "kernelspec": {
   "display_name": "Python 3 (ipykernel)",
   "language": "python",
   "name": "python3"
  },
  "language_info": {
   "codemirror_mode": {
    "name": "ipython",
    "version": 3
   },
   "file_extension": ".py",
   "mimetype": "text/x-python",
   "name": "python",
   "nbconvert_exporter": "python",
   "pygments_lexer": "ipython3",
   "version": "3.11.4"
  }
 },
 "nbformat": 4,
 "nbformat_minor": 5
}
