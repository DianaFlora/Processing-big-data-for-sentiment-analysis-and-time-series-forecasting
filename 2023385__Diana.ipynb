{
 "cells": [
  {
   "cell_type": "markdown",
   "id": "98a691eb-491c-4cbd-acfd-363055534da4",
   "metadata": {},
   "source": [
    "# TIME SERIES FORECASTING OF PROJECT TWEETS BIG DATA PROCESSED WITH SPARK AND STORED IN MONGODB"
   ]
  },
  {
   "cell_type": "markdown",
   "id": "74cf4c2b-41fe-4f80-a139-066374224315",
   "metadata": {},
   "source": [
    "# Dataset\n",
    "The dataste is a large dataset gleaned from the twitter API that is called ProjectTweets.csv.\n",
    "\n",
    "This dataset contains 1,600,000 tweets extracted using the twitter api. \n",
    "\n",
    "\n",
    "Content\n",
    "It contains the following 5 fields:\n",
    "- ids: The id of the tweet (eg. 4587)\n",
    "- date: the date of the tweet (eg. Sat May 16 23:58:44 UTC 2009)\n",
    "- flag: The query (eg. lyx). If there is no query, then this value is NO_QUERY.\n",
    "- user: the user that tweeted (eg. bobthebuilder)\n",
    "- text: the text of the tweet (eg. Lyx is cool)"
   ]
  },
  {
   "cell_type": "markdown",
   "id": "84c402ab-f73e-44fa-9bcb-3cd3686a1d6e",
   "metadata": {},
   "source": [
    "## Install all Required Libraries"
   ]
  },
  {
   "cell_type": "code",
   "execution_count": 1,
   "id": "05a43f76-594a-4b56-88e2-fa2bb26f45cd",
   "metadata": {
    "scrolled": true
   },
   "outputs": [],
   "source": [
    "import pandas as pd\n",
    "import matplotlib.pyplot as plt\n",
    "import numpy as np\n",
    "from pyspark.sql import SparkSession\n",
    "from pyspark.sql.functions import regexp_extract\n",
    "from pyspark.sql.functions import col, lower, regexp_replace, trim, split, udf\n",
    "from pyspark.sql.functions import isnull, to_timestamp\n",
    "from pyspark.sql.functions import udf\n",
    "from pyspark.sql.functions import to_timestamp\n",
    "from pyspark.sql.types import StructType, StringType, TimestampType\n",
    "from pyspark.sql.functions import col\n",
    "import warnings\n",
    "warnings.filterwarnings('ignore') # We can suppress the warnings"
   ]
  },
  {
   "cell_type": "code",
   "execution_count": 2,
   "id": "2e7dfddb-3db1-4417-8904-25e89ff1daf2",
   "metadata": {},
   "outputs": [],
   "source": [
    "# Creating a pyspark session connecting to mongodb\n",
    "uri = \"mongodb://172.17.0.8:27017/dianaCATwo.Tweets\"\n",
    "\n",
    "spark = SparkSession.builder.appName(\"Write into MongoDB\")\\\n",
    "    .config(\"spark.mongodb.input.uri\", uri)\\\n",
    "    .config(\"spark.mongodb.output.uri\", uri)\\\n",
    "    .config('spark.jars.packages','org.mongodb.spark:mongo-spark-connector_2.12:2.4.2')\\\n",
    "    .getOrCreate()"
   ]
  },
  {
   "cell_type": "code",
   "execution_count": 3,
   "id": "e1b77330-d443-4ce3-b6c4-2dd938b1284c",
   "metadata": {},
   "outputs": [
    {
     "data": {
      "text/html": [
       "\n",
       "            <div>\n",
       "                <p><b>SparkSession - in-memory</b></p>\n",
       "                \n",
       "        <div>\n",
       "            <p><b>SparkContext</b></p>\n",
       "\n",
       "            <p><a href=\"http://4dde10a4171c:4040\">Spark UI</a></p>\n",
       "\n",
       "            <dl>\n",
       "              <dt>Version</dt>\n",
       "                <dd><code>v3.5.1</code></dd>\n",
       "              <dt>Master</dt>\n",
       "                <dd><code>local[*]</code></dd>\n",
       "              <dt>AppName</dt>\n",
       "                <dd><code>Write into MongoDB</code></dd>\n",
       "            </dl>\n",
       "        </div>\n",
       "        \n",
       "            </div>\n",
       "        "
      ],
      "text/plain": [
       "<pyspark.sql.session.SparkSession at 0xffff45fb4090>"
      ]
     },
     "execution_count": 3,
     "metadata": {},
     "output_type": "execute_result"
    }
   ],
   "source": [
    "spark"
   ]
  },
  {
   "cell_type": "markdown",
   "id": "be404393-e422-421b-afb3-c7d4f3a4cb02",
   "metadata": {},
   "source": [
    "# Working with MongoDB Using SPark for Processing and Storing Project Tweets Dataset\n",
    "- Processing data in MongoDB involves performing the CRUD operations. This include:-\n",
    "- Creating/Inserting data in MongoDB\n",
    "- -Reading data from MongoDB\n",
    "- Updating data in MongoDB\n",
    "- Deleting data from MongoDB\n",
    "All this operations are performed by spark\n",
    "- After all this operations the processed data can be stored as a pandas/csv for further analysis"
   ]
  },
  {
   "cell_type": "markdown",
   "id": "31398c42-136d-4ff4-b665-0932e06a61f7",
   "metadata": {},
   "source": [
    "## Loading data from local machine to SParkSQL"
   ]
  },
  {
   "cell_type": "code",
   "execution_count": 4,
   "id": "55462fc4-56f4-4222-a185-b00572045103",
   "metadata": {},
   "outputs": [
    {
     "name": "stdout",
     "output_type": "stream",
     "text": [
      "root\n",
      " |-- PRIMARY KEY: string (nullable = true)\n",
      " |-- ID: string (nullable = true)\n",
      " |-- date: timestamp (nullable = true)\n",
      " |-- flag: string (nullable = true)\n",
      " |-- user: string (nullable = true)\n",
      " |-- text: string (nullable = true)\n",
      "\n",
      "+-----------+----------+-------------------+--------+---------------+--------------------+\n",
      "|PRIMARY KEY|        ID|               date|    flag|           user|                text|\n",
      "+-----------+----------+-------------------+--------+---------------+--------------------+\n",
      "|          0|1467810369|2009-04-07 05:19:45|NO_QUERY|_TheSpecialOne_|@switchfoot http:...|\n",
      "|          1|1467810672|2009-04-07 05:19:49|NO_QUERY|  scotthamilton|is upset that he ...|\n",
      "|          2|1467810917|2009-04-07 05:19:53|NO_QUERY|       mattycus|@Kenichan I dived...|\n",
      "|          3|1467811184|2009-04-07 05:19:57|NO_QUERY|        ElleCTF|my whole body fee...|\n",
      "|          4|1467811193|2009-04-07 05:19:57|NO_QUERY|         Karoli|@nationwideclass ...|\n",
      "+-----------+----------+-------------------+--------+---------------+--------------------+\n",
      "only showing top 5 rows\n",
      "\n"
     ]
    }
   ],
   "source": [
    "# Set legacy timeParserPolicy\n",
    "spark.conf.set(\"spark.sql.legacy.timeParserPolicy\", \"LEGACY\")\n",
    "\n",
    "# Define the schema for the csv file \n",
    "schema = StructType().add(\"_c0\", StringType(), True).add(\"_c1\", StringType(), True).add(\"_c2\", StringType(), True).add(\"_c3\", StringType(), True).add(\"_c4\", StringType(), True).add(\"_c5\", StringType(), True)\n",
    "\n",
    "# Read the CSV into a DataFrame called df\n",
    "df = spark.read.format(\"csv\").option(\"header\", False).schema(schema).load(\"file:///home/jovyan/Diana/ProjectTweets.csv\")\n",
    "\n",
    "# Rename the headers\n",
    "df = df.withColumnRenamed(\"_c0\", \"PRIMARY KEY\").withColumnRenamed(\"_c1\", \"ID\").withColumnRenamed(\"_c2\", \"date\").withColumnRenamed(\"_c3\", \"flag\").withColumnRenamed(\"_c4\", \"user\").withColumnRenamed(\"_c5\", \"text\")\n",
    "\n",
    "# Convert string date to TimestampType\n",
    "df = df.withColumn(\"date\", to_timestamp(df[\"date\"], \"EEE MMM dd HH:mm:ss zzzz yyyy\"))\n",
    "\n",
    "# Print schema\n",
    "df.printSchema()\n",
    "\n",
    "# Show DataFrame\n",
    "df.show(5)\n"
   ]
  },
  {
   "cell_type": "markdown",
   "id": "3cb8ff2d",
   "metadata": {},
   "source": [
    "# PERFORMING CRUD OPERATIONS"
   ]
  },
  {
   "cell_type": "markdown",
   "id": "566df067-a314-47b2-a4a4-ca03159f58c0",
   "metadata": {},
   "source": [
    "## Step One: Creating/Inserting the project tweets data from spark to MongoDB"
   ]
  },
  {
   "cell_type": "code",
   "execution_count": 5,
   "id": "d25ea7c1-ebd1-4d4a-88d9-a03a091d224e",
   "metadata": {},
   "outputs": [],
   "source": [
    "df.write.format(\"com.mongodb.spark.sql.DefaultSource\").mode(\"append\").option(\"uri\", uri).save()"
   ]
  },
  {
   "cell_type": "markdown",
   "id": "c1058c99-28db-47dd-9276-f51419737644",
   "metadata": {},
   "source": [
    "## Step Two: Reading/loading the Project tweets Data from MongoDB to SparkSQL Dataframe"
   ]
  },
  {
   "cell_type": "code",
   "execution_count": 6,
   "id": "d8e81c22-f29d-45c9-98bf-f2dcc2585c84",
   "metadata": {},
   "outputs": [
    {
     "name": "stdout",
     "output_type": "stream",
     "text": [
      "(1600000, 7)\n",
      "root\n",
      " |-- ID: string (nullable = true)\n",
      " |-- PRIMARY KEY: string (nullable = true)\n",
      " |-- _id: struct (nullable = true)\n",
      " |    |-- oid: string (nullable = true)\n",
      " |-- date: timestamp (nullable = true)\n",
      " |-- flag: string (nullable = true)\n",
      " |-- text: string (nullable = true)\n",
      " |-- user: string (nullable = true)\n",
      "\n",
      "+----------+-----------+--------------------+-------------------+--------+--------------------+------------+\n",
      "|        ID|PRIMARY KEY|                 _id|               date|    flag|                text|        user|\n",
      "+----------+-----------+--------------------+-------------------+--------+--------------------+------------+\n",
      "|1990436550|    1223636|{6640f2c548788c04...|2009-06-01 11:52:03|NO_QUERY|@karinhoegh  Didn...|        kmdk|\n",
      "|1990436582|    1223637|{6640f2c548788c04...|2009-06-01 11:52:03|NO_QUERY|Need more FPS.......|jflinchbaugh|\n",
      "|1990436614|    1223638|{6640f2c548788c04...|2009-06-01 11:52:04|NO_QUERY|@SteveOGallagher ...|   kittaykat|\n",
      "|1990436651|    1223639|{6640f2c548788c04...|2009-06-01 11:52:04|NO_QUERY|Can't wait for th...|       Mm_Ka|\n",
      "|1990436707|    1223640|{6640f2c548788c04...|2009-06-01 11:52:04|NO_QUERY|@nickayre Lol. Bu...| bryancheung|\n",
      "+----------+-----------+--------------------+-------------------+--------+--------------------+------------+\n",
      "only showing top 5 rows\n",
      "\n"
     ]
    }
   ],
   "source": [
    "from_mongo = spark.read.format('com.mongodb.spark.sql.DefaultSource').load()\n",
    "print((from_mongo.count(), len(from_mongo.columns)))\n",
    "from_mongo.printSchema()\n",
    "from_mongo.show(5)"
   ]
  },
  {
   "cell_type": "markdown",
   "id": "d90e3bdf-eed2-442b-815b-bf2375d0c84d",
   "metadata": {},
   "source": [
    "# EXPLORATORY DATA ANALYSIS\n",
    "EDA involved, the follwoing:-\n",
    "- Checking for duplicates\n",
    "- Checking for Missing data/dates"
   ]
  },
  {
   "cell_type": "markdown",
   "id": "e2fbf0a7-9366-41bc-9a1b-bff77cf5d2db",
   "metadata": {},
   "source": [
    "## i) Checking for Duplicates (based on ID, user and text)"
   ]
  },
  {
   "cell_type": "code",
   "execution_count": 7,
   "id": "1a032720-a556-4c8a-874d-0dc77a8b0f19",
   "metadata": {},
   "outputs": [
    {
     "name": "stdout",
     "output_type": "stream",
     "text": [
      "Duplicate rows based on user, date, and text:\n",
      "+---------------+-------------------+--------------------+-----+\n",
      "|           user|               date|                text|count|\n",
      "+---------------+-------------------+--------------------+-----+\n",
      "|    corewarrior|2009-05-18 14:15:43|#Chuck: Renewed! ...|    2|\n",
      "|   vanillabelle|2009-06-01 08:51:08|Wifi net connecti...|    2|\n",
      "| nyc_specialist|2009-06-06 14:17:20|@conchordgirl he ...|    2|\n",
      "|         jtjazz|2009-04-20 13:04:33|@goodenufmother  ...|    2|\n",
      "|       rdawkins|2009-04-20 14:34:42|Finally awake. Go...|    2|\n",
      "|         _maisy|2009-05-02 11:52:06|@lil_stephanie co...|    2|\n",
      "|     VixieManic|2009-05-10 13:58:39|Hopes you feel be...|    2|\n",
      "|        MsKelz7|2009-05-17 08:10:16|@RunwayJ I defini...|    2|\n",
      "|  Jeff_Hardyfan|2009-06-01 10:18:25|&quot;@mileycyrus...|    2|\n",
      "|PARISnHOLLYWOOD|2009-06-06 06:15:14|@OGOchoCinco okok...|    2|\n",
      "|  SweetestSin_S|2009-04-19 07:53:24|goodmorning every...|    2|\n",
      "|       HEYtasha|2009-04-19 16:10:16|watching law &amp...|    2|\n",
      "|  LAURENpoynter|2009-05-03 08:31:19|@tommcfly Ahhh, I...|    2|\n",
      "|   unwritten_99|2009-05-04 09:27:23|@RubyRose1 you mu...|    2|\n",
      "|  jessesgirl760|2009-05-29 05:47:00|I wish I was a gu...|    2|\n",
      "|         gillat|2009-05-31 03:49:24|@lizasperling exc...|    2|\n",
      "| iwouldbecallie|2009-05-31 12:51:18|@imightbedanni hi...|    2|\n",
      "|        limeice|2009-06-01 10:04:58|@ChitraChaudhuri ...|    2|\n",
      "|HarassmentPanda|2009-06-02 08:48:43|@TheSims3 Not for...|    2|\n",
      "|      thisisjoo|2009-06-03 12:12:04|@ekaa17 @Mawiyel3...|    2|\n",
      "+---------------+-------------------+--------------------+-----+\n",
      "only showing top 20 rows\n",
      "\n"
     ]
    }
   ],
   "source": [
    "from pyspark.sql.functions import col\n",
    "\n",
    "#Check for duplicates based on user, date, and text\n",
    "duplicates = df.groupBy(\"user\", \"date\", \"text\").count().where(col(\"count\") > 1)\n",
    "\n",
    "if duplicates.count() > 0:\n",
    "    print(\"Duplicate rows based on user, date, and text:\")\n",
    "    duplicates.show()\n",
    "else:\n",
    "    print(\"No duplicates found.\")"
   ]
  },
  {
   "cell_type": "code",
   "execution_count": 8,
   "id": "959719f2-4aec-4cd3-ab38-7bf46487722a",
   "metadata": {},
   "outputs": [],
   "source": [
    "#Count the total number of duplicates\n",
    "total_duplicates = duplicates.count()"
   ]
  },
  {
   "cell_type": "code",
   "execution_count": 9,
   "id": "a2078e25-ced8-493d-ba77-ead8c5fa22de",
   "metadata": {},
   "outputs": [
    {
     "name": "stdout",
     "output_type": "stream",
     "text": [
      "1865\n"
     ]
    }
   ],
   "source": [
    "#Print the number of duplicates\n",
    "print(total_duplicates)"
   ]
  },
  {
   "cell_type": "markdown",
   "id": "043b95ba-2e97-4381-91a4-9de78b82ab44",
   "metadata": {},
   "source": [
    "## ii) Checking for missing data\n",
    "Checking missing data involves:-\n",
    "- checking if the dates have any missing dates\n",
    "- check if the other variables have missing data"
   ]
  },
  {
   "cell_type": "markdown",
   "id": "220e7e35-7250-4930-b083-540ef048cfe8",
   "metadata": {},
   "source": [
    "### Checking missing dates"
   ]
  },
  {
   "cell_type": "code",
   "execution_count": 10,
   "id": "be2e8074-6e1a-4af7-954c-9c76c5a4280d",
   "metadata": {},
   "outputs": [
    {
     "name": "stdout",
     "output_type": "stream",
     "text": [
      "Number of missing dates: 72\n",
      "Actual missing dates:\n",
      "+-------------------+\n",
      "|               date|\n",
      "+-------------------+\n",
      "|2009-04-10 05:19:45|\n",
      "|2009-04-25 05:19:45|\n",
      "|2009-05-05 05:19:45|\n",
      "|2009-05-06 05:19:45|\n",
      "|2009-05-09 05:19:45|\n",
      "|2009-05-28 05:19:45|\n",
      "|2009-05-30 05:19:45|\n",
      "|2009-06-01 05:19:45|\n",
      "|2009-06-04 05:19:45|\n",
      "|2009-06-18 05:19:45|\n",
      "|2009-06-22 05:19:45|\n",
      "|2009-04-08 05:19:45|\n",
      "|2009-04-15 05:19:45|\n",
      "|2009-04-19 05:19:45|\n",
      "|2009-04-23 05:19:45|\n",
      "|2009-04-24 05:19:45|\n",
      "|2009-04-28 05:19:45|\n",
      "|2009-04-30 05:19:45|\n",
      "|2009-05-01 05:19:45|\n",
      "|2009-05-12 05:19:45|\n",
      "+-------------------+\n",
      "only showing top 20 rows\n",
      "\n"
     ]
    }
   ],
   "source": [
    "from pyspark.sql.functions import col, date_format\n",
    "from pyspark.sql.types import DateType\n",
    "from datetime import datetime, timedelta\n",
    "\n",
    "#Find min and max dates\n",
    "min_date = df.selectExpr(\"min(date)\").first()[0]\n",
    "max_date = df.selectExpr(\"max(date)\").first()[0]\n",
    "\n",
    "#Generate DataFrame with all dates within the range\n",
    "date_range = [min_date + timedelta(days=x) for x in range((max_date - min_date).days + 1)]\n",
    "date_df = spark.createDataFrame([(date,) for date in date_range], [\"date\"])\n",
    "\n",
    "# Left join with the original DataFrame to find missing dates\n",
    "missing_dates_df = date_df.join(df, \"date\", \"left_anti\")\n",
    "\n",
    "missing_dates_count = missing_dates_df.count()\n",
    "\n",
    "if missing_dates_count > 0:\n",
    "    print(\"Number of missing dates:\", missing_dates_count)\n",
    "    print(\"Actual missing dates:\")\n",
    "    missing_dates_df.show()\n",
    "else:\n",
    "    print(\"No missing dates found.\")\n"
   ]
  },
  {
   "cell_type": "code",
   "execution_count": 11,
   "id": "281b344b-c5f5-40af-87f2-5c4f40057947",
   "metadata": {},
   "outputs": [
    {
     "name": "stdout",
     "output_type": "stream",
     "text": [
      "Number of missing dates: 85\n",
      "Actual missing dates:\n",
      "+----------+\n",
      "|      date|\n",
      "+----------+\n",
      "|2009-04-10|\n",
      "|2009-04-13|\n",
      "|2009-04-17|\n",
      "|2009-04-18|\n",
      "|2009-04-21|\n",
      "|2009-04-26|\n",
      "|2009-04-27|\n",
      "|2009-04-28|\n",
      "|2009-05-07|\n",
      "|2009-05-11|\n",
      "|2009-05-14|\n",
      "|2009-05-15|\n",
      "|2009-05-17|\n",
      "|2009-05-18|\n",
      "|2009-05-20|\n",
      "|2009-05-21|\n",
      "|2009-05-23|\n",
      "|2009-05-24|\n",
      "|2009-05-26|\n",
      "|2009-05-27|\n",
      "+----------+\n",
      "only showing top 20 rows\n",
      "\n"
     ]
    }
   ],
   "source": [
    "from pyspark.sql.functions import col\n",
    "from pyspark.sql.types import DateType\n",
    "from datetime import datetime, timedelta\n",
    "\n",
    "# Define start date and end date\n",
    "start_date = datetime.strptime(\"2009-04-01\", \"%Y-%m-%d\").date()\n",
    "end_date = datetime.strptime(\"2009-06-30\", \"%Y-%m-%d\").date()\n",
    "\n",
    "# Generate DataFrame with all dates within the range\n",
    "date_range = [start_date + timedelta(days=x) for x in range((end_date - start_date).days + 1)]\n",
    "date_df = spark.createDataFrame([(date,) for date in date_range], [\"date\"])\n",
    "\n",
    "# Left join with the original DataFrame to find missing dates\n",
    "missing_dates_df = date_df.join(df, \"date\", \"left_anti\")\n",
    "\n",
    "missing_dates_count = missing_dates_df.count()\n",
    "\n",
    "if missing_dates_count > 0:\n",
    "    print(\"Number of missing dates:\", missing_dates_count)\n",
    "    print(\"Actual missing dates:\")\n",
    "    missing_dates_df.show()\n",
    "else:\n",
    "    print(\"No missing dates found.\")\n"
   ]
  },
  {
   "cell_type": "markdown",
   "id": "0434c55c-c286-4dc3-808d-2238fe7857aa",
   "metadata": {},
   "source": [
    "# EXTRACTING TIME COMPONENTS"
   ]
  },
  {
   "cell_type": "code",
   "execution_count": 12,
   "id": "fe21863a-1658-407e-911a-1fda5e8dde90",
   "metadata": {},
   "outputs": [],
   "source": [
    "from pyspark.sql.functions import year, month, dayofmonth, hour, minute, second\n",
    "\n",
    "\n",
    "#Initialize Spark Session\n",
    "spark = SparkSession.builder.appName(\"DateTime Visualization\").getOrCreate()\n",
    "\n",
    "# Extract relevant time components including hours, minutes, and seconds\n",
    "df = from_mongo.withColumn(\"year\", year(\"date\")).withColumn(\"month\", month(\"date\")).withColumn(\"day\", dayofmonth(\"date\")).withColumn(\"hour\", hour(\"date\")).withColumn(\"minute\", minute(\"date\")).withColumn(\"second\", second(\"date\"))\n",
    "\n",
    "# Aggregate data\n",
    "time_series_data = df.groupBy(\"date\",\"year\", \"month\", \"day\", \"hour\", \"minute\", \"second\").count().orderBy(\"year\", \"month\", \"day\", \"hour\", \"minute\", \"second\")"
   ]
  },
  {
   "cell_type": "code",
   "execution_count": 13,
   "id": "6abfb12d-a4e9-42f9-a369-0da22a65198c",
   "metadata": {},
   "outputs": [
    {
     "name": "stdout",
     "output_type": "stream",
     "text": [
      "+----------+-----------+--------------------+-------------------+--------+--------------------+------------+----+-----+---+----+------+------+\n",
      "|        ID|PRIMARY KEY|                 _id|               date|    flag|                text|        user|year|month|day|hour|minute|second|\n",
      "+----------+-----------+--------------------+-------------------+--------+--------------------+------------+----+-----+---+----+------+------+\n",
      "|1990436550|    1223636|{6640f2c548788c04...|2009-06-01 11:52:03|NO_QUERY|@karinhoegh  Didn...|        kmdk|2009|    6|  1|  11|    52|     3|\n",
      "|1990436582|    1223637|{6640f2c548788c04...|2009-06-01 11:52:03|NO_QUERY|Need more FPS.......|jflinchbaugh|2009|    6|  1|  11|    52|     3|\n",
      "|1990436614|    1223638|{6640f2c548788c04...|2009-06-01 11:52:04|NO_QUERY|@SteveOGallagher ...|   kittaykat|2009|    6|  1|  11|    52|     4|\n",
      "|1990436651|    1223639|{6640f2c548788c04...|2009-06-01 11:52:04|NO_QUERY|Can't wait for th...|       Mm_Ka|2009|    6|  1|  11|    52|     4|\n",
      "|1990436707|    1223640|{6640f2c548788c04...|2009-06-01 11:52:04|NO_QUERY|@nickayre Lol. Bu...| bryancheung|2009|    6|  1|  11|    52|     4|\n",
      "+----------+-----------+--------------------+-------------------+--------+--------------------+------------+----+-----+---+----+------+------+\n",
      "only showing top 5 rows\n",
      "\n"
     ]
    }
   ],
   "source": [
    "#View the df DataFrame after extracting time components\n",
    "df.show(5)"
   ]
  },
  {
   "cell_type": "code",
   "execution_count": 14,
   "id": "5f5ddeaa-d79e-4072-bc25-b5a199762d14",
   "metadata": {},
   "outputs": [
    {
     "name": "stdout",
     "output_type": "stream",
     "text": [
      "root\n",
      " |-- ID: string (nullable = true)\n",
      " |-- PRIMARY KEY: string (nullable = true)\n",
      " |-- _id: struct (nullable = true)\n",
      " |    |-- oid: string (nullable = true)\n",
      " |-- date: timestamp (nullable = true)\n",
      " |-- flag: string (nullable = true)\n",
      " |-- text: string (nullable = true)\n",
      " |-- user: string (nullable = true)\n",
      " |-- year: integer (nullable = true)\n",
      " |-- month: integer (nullable = true)\n",
      " |-- day: integer (nullable = true)\n",
      " |-- hour: integer (nullable = true)\n",
      " |-- minute: integer (nullable = true)\n",
      " |-- second: integer (nullable = true)\n",
      "\n"
     ]
    }
   ],
   "source": [
    "df.printSchema()"
   ]
  },
  {
   "cell_type": "code",
   "execution_count": 15,
   "id": "7bdc1db1-372d-4a9c-b0d6-f349f16c28d7",
   "metadata": {},
   "outputs": [
    {
     "name": "stdout",
     "output_type": "stream",
     "text": [
      "+----+-------+\n",
      "|year|  count|\n",
      "+----+-------+\n",
      "|2009|1600000|\n",
      "+----+-------+\n",
      "\n"
     ]
    }
   ],
   "source": [
    "from pyspark.sql.functions import count\n",
    "\n",
    "# Group by the year variable and count the occurrences\n",
    "year_counts = df.groupBy(\"year\").agg(count(\"*\").alias(\"count\")).orderBy(\"year\")\n",
    "\n",
    "# Show the tabulated counts\n",
    "year_counts.show()"
   ]
  },
  {
   "cell_type": "code",
   "execution_count": 16,
   "id": "8fd43d47-9889-4b8a-bd4c-0d21769af583",
   "metadata": {},
   "outputs": [
    {
     "name": "stdout",
     "output_type": "stream",
     "text": [
      "+-----+------+\n",
      "|month| count|\n",
      "+-----+------+\n",
      "|    4|100025|\n",
      "|    5|559073|\n",
      "|    6|940902|\n",
      "+-----+------+\n",
      "\n"
     ]
    }
   ],
   "source": [
    "from pyspark.sql.functions import count\n",
    "\n",
    "# Group by the month variable and count the occurrences\n",
    "month_counts = df.groupBy(\"month\").agg(count(\"*\").alias(\"count\")).orderBy(\"month\")\n",
    "\n",
    "# Show the tabulated counts\n",
    "month_counts.show()"
   ]
  },
  {
   "cell_type": "code",
   "execution_count": 17,
   "id": "acf0b81c-185e-4e34-9015-bfa8daf9ff9b",
   "metadata": {},
   "outputs": [
    {
     "name": "stdout",
     "output_type": "stream",
     "text": [
      "+-----+---+------+\n",
      "|month|day| count|\n",
      "+-----+---+------+\n",
      "|    4|  7| 20671|\n",
      "|    4| 18| 17154|\n",
      "|    4| 19| 32648|\n",
      "|    4| 20| 18447|\n",
      "|    4| 21| 11105|\n",
      "|    5|  2| 31096|\n",
      "|    5|  3| 26568|\n",
      "|    5|  4| 28300|\n",
      "|    5| 10| 31551|\n",
      "|    5| 11|  6217|\n",
      "|    5| 12|  4186|\n",
      "|    5| 14| 21526|\n",
      "|    5| 17| 41205|\n",
      "|    5| 18| 44564|\n",
      "|    5| 22| 41206|\n",
      "|    5| 24|   169|\n",
      "|    5| 25|   169|\n",
      "|    5| 27| 11619|\n",
      "|    5| 29| 60227|\n",
      "|    5| 30|104484|\n",
      "+-----+---+------+\n",
      "only showing top 20 rows\n",
      "\n"
     ]
    }
   ],
   "source": [
    "from pyspark.sql.functions import count\n",
    "\n",
    "# Group by month and day and count the occurrences\n",
    "month_day_counts = df.groupBy(\"month\", \"day\").agg(count(\"*\").alias(\"count\")).orderBy(\"month\", \"day\")\n",
    "\n",
    "# Show the tabulated counts\n",
    "month_day_counts.show()"
   ]
  },
  {
   "cell_type": "code",
   "execution_count": 18,
   "id": "e5363f5b-5885-4097-8cb6-05ee4d0bea80",
   "metadata": {},
   "outputs": [
    {
     "data": {
      "text/plain": [
       "pyspark.sql.dataframe.DataFrame"
      ]
     },
     "execution_count": 18,
     "metadata": {},
     "output_type": "execute_result"
    }
   ],
   "source": [
    "#Check the df type\n",
    "type(df)"
   ]
  },
  {
   "cell_type": "code",
   "execution_count": 19,
   "id": "888f4542-a27e-4089-b039-42b85b778464",
   "metadata": {},
   "outputs": [
    {
     "name": "stdout",
     "output_type": "stream",
     "text": [
      "+----------+-----------+--------------------+-------------------+--------+--------------------+------------+----+-----+---+----+------+------+\n",
      "|        ID|PRIMARY KEY|                 _id|               date|    flag|                text|        user|year|month|day|hour|minute|second|\n",
      "+----------+-----------+--------------------+-------------------+--------+--------------------+------------+----+-----+---+----+------+------+\n",
      "|1990436550|    1223636|{6640f2c548788c04...|2009-06-01 11:52:03|NO_QUERY|@karinhoegh  Didn...|        kmdk|2009|    6|  1|  11|    52|     3|\n",
      "|1990436582|    1223637|{6640f2c548788c04...|2009-06-01 11:52:03|NO_QUERY|Need more FPS.......|jflinchbaugh|2009|    6|  1|  11|    52|     3|\n",
      "|1990436614|    1223638|{6640f2c548788c04...|2009-06-01 11:52:04|NO_QUERY|@SteveOGallagher ...|   kittaykat|2009|    6|  1|  11|    52|     4|\n",
      "|1990436651|    1223639|{6640f2c548788c04...|2009-06-01 11:52:04|NO_QUERY|Can't wait for th...|       Mm_Ka|2009|    6|  1|  11|    52|     4|\n",
      "|1990436707|    1223640|{6640f2c548788c04...|2009-06-01 11:52:04|NO_QUERY|@nickayre Lol. Bu...| bryancheung|2009|    6|  1|  11|    52|     4|\n",
      "+----------+-----------+--------------------+-------------------+--------+--------------------+------------+----+-----+---+----+------+------+\n",
      "only showing top 5 rows\n",
      "\n"
     ]
    }
   ],
   "source": [
    "#Check the first 5 observations\n",
    "df.show(5)"
   ]
  },
  {
   "cell_type": "code",
   "execution_count": 20,
   "id": "0c454c80-e4e2-4dc9-aa0a-24c70f313ed5",
   "metadata": {},
   "outputs": [],
   "source": [
    "#Drop the _id, ID and PRIMARY KEY\n",
    "df = df.drop(\"_id\", \"ID\", \"PRIMARY KEY\")"
   ]
  },
  {
   "cell_type": "code",
   "execution_count": 21,
   "id": "31d4a827-9c5c-40f1-ac43-113524c40842",
   "metadata": {
    "scrolled": true
   },
   "outputs": [
    {
     "name": "stdout",
     "output_type": "stream",
     "text": [
      "+-------------------+--------+--------------------+--------------+----+-----+---+----+------+------+\n",
      "|               date|    flag|                text|          user|year|month|day|hour|minute|second|\n",
      "+-------------------+--------+--------------------+--------------+----+-----+---+----+------+------+\n",
      "|2009-06-01 11:52:03|NO_QUERY|@karinhoegh  Didn...|          kmdk|2009|    6|  1|  11|    52|     3|\n",
      "|2009-06-01 11:52:03|NO_QUERY|Need more FPS.......|  jflinchbaugh|2009|    6|  1|  11|    52|     3|\n",
      "|2009-06-01 11:52:04|NO_QUERY|@SteveOGallagher ...|     kittaykat|2009|    6|  1|  11|    52|     4|\n",
      "|2009-06-01 11:52:04|NO_QUERY|Can't wait for th...|         Mm_Ka|2009|    6|  1|  11|    52|     4|\n",
      "|2009-06-01 11:52:04|NO_QUERY|@nickayre Lol. Bu...|   bryancheung|2009|    6|  1|  11|    52|     4|\n",
      "|2009-06-01 11:52:05|NO_QUERY|I love it when I ...|     videohive|2009|    6|  1|  11|    52|     5|\n",
      "|2009-06-01 11:52:05|NO_QUERY|http://twitpic.co...|    kayepintac|2009|    6|  1|  11|    52|     5|\n",
      "|2009-06-01 11:52:05|NO_QUERY|@STARBUCK_NOLA Wh...|    Dayewalker|2009|    6|  1|  11|    52|     5|\n",
      "|2009-06-01 11:52:06|NO_QUERY|Taking down the t...|         padrg|2009|    6|  1|  11|    52|     6|\n",
      "|2009-06-01 11:52:06|NO_QUERY|@Jon_W_Turner i k...|electronichaze|2009|    6|  1|  11|    52|     6|\n",
      "|2009-06-01 11:52:08|NO_QUERY|@freshleafdesign ...| runwaycrochet|2009|    6|  1|  11|    52|     8|\n",
      "|2009-06-01 11:52:08|NO_QUERY|ewan mcgregor is ...|      tiarrara|2009|    6|  1|  11|    52|     8|\n",
      "|2009-06-01 11:52:08|NO_QUERY|In the garden lis...|racheldohertyy|2009|    6|  1|  11|    52|     8|\n",
      "|2009-06-01 11:52:08|NO_QUERY|i go back and sta...| nananadelonge|2009|    6|  1|  11|    52|     8|\n",
      "|2009-06-01 11:52:08|NO_QUERY|       back to life |     Scorp2004|2009|    6|  1|  11|    52|     8|\n",
      "|2009-06-01 11:52:08|NO_QUERY|      power is back |           vpj|2009|    6|  1|  11|    52|     8|\n",
      "|2009-06-01 11:52:09|NO_QUERY|2hr drive to Ikea...|     curlydena|2009|    6|  1|  11|    52|     9|\n",
      "|2009-06-01 11:53:27|NO_QUERY|@MayaKibble1 june...| madyxjonas123|2009|    6|  1|  11|    53|    27|\n",
      "|2009-06-01 11:53:28|NO_QUERY|@MyMarrakesh BTW,...|      condontm|2009|    6|  1|  11|    53|    28|\n",
      "|2009-06-01 11:53:28|NO_QUERY|@mikejstott good ...|    KatConnell|2009|    6|  1|  11|    53|    28|\n",
      "+-------------------+--------+--------------------+--------------+----+-----+---+----+------+------+\n",
      "only showing top 20 rows\n",
      "\n"
     ]
    }
   ],
   "source": [
    "#Check if they variables have been dropped\n",
    "df.show()"
   ]
  },
  {
   "cell_type": "markdown",
   "id": "b9b49bf0-0140-4c92-83f3-21c15fce5d0c",
   "metadata": {},
   "source": [
    "# Step Three: Update the Processed data in MongoDB\n"
   ]
  },
  {
   "cell_type": "code",
   "execution_count": 22,
   "id": "96016b82-3370-48d0-8aaa-5d3436d4633c",
   "metadata": {},
   "outputs": [],
   "source": [
    "#Write the processed df to MongoDB (overwrite mode to update existing data)\n",
    "df.write.format(\"com.mongodb.spark.sql.DefaultSource\").mode(\"overwrite\").option(\"uri\", uri).save()"
   ]
  },
  {
   "cell_type": "markdown",
   "id": "30ecc310-b4f0-4cd9-912a-b8fc930f56c9",
   "metadata": {},
   "source": [
    "# Step Four: Delete data from MongoDB"
   ]
  },
  {
   "cell_type": "code",
   "execution_count": 23,
   "id": "42ded679-ee37-4a41-9515-c3e9d46c1296",
   "metadata": {},
   "outputs": [],
   "source": [
    "#Drop the year from the df\n",
    "variable_to_delete = \"year\"\n",
    "df = df.drop(variable_to_delete)\n",
    "\n",
    "#Write the modified df back to MongoDB\n",
    "df.write.format(\"com.mongodb.spark.sql.DefaultSource\").mode(\"overwrite\").option(\"uri\", uri).save()"
   ]
  },
  {
   "cell_type": "markdown",
   "id": "0fb62b62",
   "metadata": {},
   "source": [
    "# Save the df Dataframe as a Pandas"
   ]
  },
  {
   "cell_type": "code",
   "execution_count": 24,
   "id": "c1c79181-cf3f-4a96-b13e-250d46b8f9a4",
   "metadata": {},
   "outputs": [],
   "source": [
    "data = df.collect()"
   ]
  },
  {
   "cell_type": "code",
   "execution_count": 25,
   "id": "a3048845",
   "metadata": {},
   "outputs": [],
   "source": [
    "#import pandas as pd\n",
    "#Create pandas DataFrame from the list of rows\n",
    "pandas_df = pd.DataFrame(data)"
   ]
  },
  {
   "cell_type": "code",
   "execution_count": 26,
   "id": "5b8585ee",
   "metadata": {},
   "outputs": [],
   "source": [
    "pandas_df.columns = df.columns "
   ]
  },
  {
   "cell_type": "code",
   "execution_count": 27,
   "id": "4961add6",
   "metadata": {},
   "outputs": [],
   "source": [
    "#file path where you want to save the CSV file\n",
    "file_path = \"pandas_data.csv\"\n",
    "\n",
    "# Save the DataFrame to a CSV file\n",
    "pandas_df.to_csv(file_path)"
   ]
  },
  {
   "cell_type": "markdown",
   "id": "9de3abeb",
   "metadata": {},
   "source": [
    "# SENTIMENT ANALYSIS COMPARING VADER VS TEXTBLOB, THEN TIME SERIES FORECASTING"
   ]
  },
  {
   "cell_type": "markdown",
   "id": "e41f9433",
   "metadata": {},
   "source": [
    "## Text/Tweets Analysis\n",
    "This includes the following steps:-\n",
    "- Read and Load the Dataset\n",
    "- Exploratory Data Analysis\n",
    "- Data Visualization of Target Variables\n",
    "- Data Preprocessing\n",
    "- Splitting our data into Train and Test sets.\n",
    "- Transforming Dataset using TF-IDF Vectorizer\n",
    "- Function for Model Evaluation\n",
    "- Model Building\n",
    "- Model Evaluation"
   ]
  },
  {
   "cell_type": "markdown",
   "id": "952284c1",
   "metadata": {},
   "source": [
    "# Read the pandas_data as a csv"
   ]
  },
  {
   "cell_type": "code",
   "execution_count": 1,
   "id": "888a458e",
   "metadata": {},
   "outputs": [],
   "source": [
    "import pandas as pd\n",
    "\n",
    "#Load the data\n",
    "df = pd.read_csv(\"C:/Users/Diana/Documents/Semester 2/sem two ca 2/pandas_data.csv\")"
   ]
  },
  {
   "cell_type": "markdown",
   "id": "995ce0cd",
   "metadata": {},
   "source": [
    "## Exploratory Data Analysis\n",
    "\n",
    "This process involves:-\n",
    "\n",
    "a) View the first and last few observations of the df dataframe\n",
    "\n",
    "b) View the number of observations and variables the df dataframe has\n",
    "\n",
    "c) View the entire df dataframe to check the data types and any missing data in a particluar variable.\n",
    " \n",
    "d) Checking for missing data/dates\n"
   ]
  },
  {
   "cell_type": "code",
   "execution_count": 2,
   "id": "acbe7526",
   "metadata": {},
   "outputs": [
    {
     "data": {
      "text/html": [
       "<div>\n",
       "<style scoped>\n",
       "    .dataframe tbody tr th:only-of-type {\n",
       "        vertical-align: middle;\n",
       "    }\n",
       "\n",
       "    .dataframe tbody tr th {\n",
       "        vertical-align: top;\n",
       "    }\n",
       "\n",
       "    .dataframe thead th {\n",
       "        text-align: right;\n",
       "    }\n",
       "</style>\n",
       "<table border=\"1\" class=\"dataframe\">\n",
       "  <thead>\n",
       "    <tr style=\"text-align: right;\">\n",
       "      <th></th>\n",
       "      <th>Unnamed: 0</th>\n",
       "      <th>date</th>\n",
       "      <th>flag</th>\n",
       "      <th>text</th>\n",
       "      <th>user</th>\n",
       "      <th>year</th>\n",
       "      <th>month</th>\n",
       "      <th>day</th>\n",
       "      <th>hour</th>\n",
       "      <th>minute</th>\n",
       "      <th>second</th>\n",
       "    </tr>\n",
       "  </thead>\n",
       "  <tbody>\n",
       "    <tr>\n",
       "      <th>0</th>\n",
       "      <td>0</td>\n",
       "      <td>2009-04-18 15:51:40</td>\n",
       "      <td>NO_QUERY</td>\n",
       "      <td>@ctribe I hope you are having a great day.</td>\n",
       "      <td>prosario_2000</td>\n",
       "      <td>2009</td>\n",
       "      <td>4</td>\n",
       "      <td>18</td>\n",
       "      <td>15</td>\n",
       "      <td>51</td>\n",
       "      <td>40</td>\n",
       "    </tr>\n",
       "    <tr>\n",
       "      <th>1</th>\n",
       "      <td>1</td>\n",
       "      <td>2009-06-07 00:02:45</td>\n",
       "      <td>NO_QUERY</td>\n",
       "      <td>Kinda scared to sleep alone in this house toni...</td>\n",
       "      <td>l7l7v</td>\n",
       "      <td>2009</td>\n",
       "      <td>6</td>\n",
       "      <td>7</td>\n",
       "      <td>0</td>\n",
       "      <td>2</td>\n",
       "      <td>45</td>\n",
       "    </tr>\n",
       "    <tr>\n",
       "      <th>2</th>\n",
       "      <td>2</td>\n",
       "      <td>2009-06-01 11:52:03</td>\n",
       "      <td>NO_QUERY</td>\n",
       "      <td>@karinhoegh  Didn't think of national holidays...</td>\n",
       "      <td>kmdk</td>\n",
       "      <td>2009</td>\n",
       "      <td>6</td>\n",
       "      <td>1</td>\n",
       "      <td>11</td>\n",
       "      <td>52</td>\n",
       "      <td>3</td>\n",
       "    </tr>\n",
       "    <tr>\n",
       "      <th>3</th>\n",
       "      <td>3</td>\n",
       "      <td>2009-06-01 11:52:03</td>\n",
       "      <td>NO_QUERY</td>\n",
       "      <td>Need more FPS....time to shop for a new camera...</td>\n",
       "      <td>jflinchbaugh</td>\n",
       "      <td>2009</td>\n",
       "      <td>6</td>\n",
       "      <td>1</td>\n",
       "      <td>11</td>\n",
       "      <td>52</td>\n",
       "      <td>3</td>\n",
       "    </tr>\n",
       "    <tr>\n",
       "      <th>4</th>\n",
       "      <td>4</td>\n",
       "      <td>2009-06-01 11:52:04</td>\n",
       "      <td>NO_QUERY</td>\n",
       "      <td>@SteveOGallagher take me with u</td>\n",
       "      <td>kittaykat</td>\n",
       "      <td>2009</td>\n",
       "      <td>6</td>\n",
       "      <td>1</td>\n",
       "      <td>11</td>\n",
       "      <td>52</td>\n",
       "      <td>4</td>\n",
       "    </tr>\n",
       "  </tbody>\n",
       "</table>\n",
       "</div>"
      ],
      "text/plain": [
       "   Unnamed: 0                 date      flag  \\\n",
       "0           0  2009-04-18 15:51:40  NO_QUERY   \n",
       "1           1  2009-06-07 00:02:45  NO_QUERY   \n",
       "2           2  2009-06-01 11:52:03  NO_QUERY   \n",
       "3           3  2009-06-01 11:52:03  NO_QUERY   \n",
       "4           4  2009-06-01 11:52:04  NO_QUERY   \n",
       "\n",
       "                                                text           user  year  \\\n",
       "0        @ctribe I hope you are having a great day.   prosario_2000  2009   \n",
       "1  Kinda scared to sleep alone in this house toni...          l7l7v  2009   \n",
       "2  @karinhoegh  Didn't think of national holidays...           kmdk  2009   \n",
       "3  Need more FPS....time to shop for a new camera...   jflinchbaugh  2009   \n",
       "4                   @SteveOGallagher take me with u       kittaykat  2009   \n",
       "\n",
       "   month  day  hour  minute  second  \n",
       "0      4   18    15      51      40  \n",
       "1      6    7     0       2      45  \n",
       "2      6    1    11      52       3  \n",
       "3      6    1    11      52       3  \n",
       "4      6    1    11      52       4  "
      ]
     },
     "execution_count": 2,
     "metadata": {},
     "output_type": "execute_result"
    }
   ],
   "source": [
    "#View the first few observations of the df DataFrame\n",
    "df.head(5)"
   ]
  },
  {
   "cell_type": "code",
   "execution_count": 3,
   "id": "3d8eb009",
   "metadata": {},
   "outputs": [
    {
     "data": {
      "text/html": [
       "<div>\n",
       "<style scoped>\n",
       "    .dataframe tbody tr th:only-of-type {\n",
       "        vertical-align: middle;\n",
       "    }\n",
       "\n",
       "    .dataframe tbody tr th {\n",
       "        vertical-align: top;\n",
       "    }\n",
       "\n",
       "    .dataframe thead th {\n",
       "        text-align: right;\n",
       "    }\n",
       "</style>\n",
       "<table border=\"1\" class=\"dataframe\">\n",
       "  <thead>\n",
       "    <tr style=\"text-align: right;\">\n",
       "      <th></th>\n",
       "      <th>Unnamed: 0</th>\n",
       "      <th>date</th>\n",
       "      <th>flag</th>\n",
       "      <th>text</th>\n",
       "      <th>user</th>\n",
       "      <th>year</th>\n",
       "      <th>month</th>\n",
       "      <th>day</th>\n",
       "      <th>hour</th>\n",
       "      <th>minute</th>\n",
       "      <th>second</th>\n",
       "    </tr>\n",
       "  </thead>\n",
       "  <tbody>\n",
       "    <tr>\n",
       "      <th>1599995</th>\n",
       "      <td>1599995</td>\n",
       "      <td>2009-06-07 00:02:36</td>\n",
       "      <td>NO_QUERY</td>\n",
       "      <td>I just got a bunch of money for graduation, bu...</td>\n",
       "      <td>chichi7391</td>\n",
       "      <td>2009</td>\n",
       "      <td>6</td>\n",
       "      <td>7</td>\n",
       "      <td>0</td>\n",
       "      <td>2</td>\n",
       "      <td>36</td>\n",
       "    </tr>\n",
       "    <tr>\n",
       "      <th>1599996</th>\n",
       "      <td>1599996</td>\n",
       "      <td>2009-06-07 00:02:40</td>\n",
       "      <td>NO_QUERY</td>\n",
       "      <td>were is my pic</td>\n",
       "      <td>lambrinilesley</td>\n",
       "      <td>2009</td>\n",
       "      <td>6</td>\n",
       "      <td>7</td>\n",
       "      <td>0</td>\n",
       "      <td>2</td>\n",
       "      <td>40</td>\n",
       "    </tr>\n",
       "    <tr>\n",
       "      <th>1599997</th>\n",
       "      <td>1599997</td>\n",
       "      <td>2009-06-07 00:02:41</td>\n",
       "      <td>NO_QUERY</td>\n",
       "      <td>@sar_88 you had to wait 2 hours for the foood</td>\n",
       "      <td>sweetmash</td>\n",
       "      <td>2009</td>\n",
       "      <td>6</td>\n",
       "      <td>7</td>\n",
       "      <td>0</td>\n",
       "      <td>2</td>\n",
       "      <td>41</td>\n",
       "    </tr>\n",
       "    <tr>\n",
       "      <th>1599998</th>\n",
       "      <td>1599998</td>\n",
       "      <td>2009-06-07 00:02:41</td>\n",
       "      <td>NO_QUERY</td>\n",
       "      <td>@pollyyy by the way i hate you for seeing bran...</td>\n",
       "      <td>LittleBirkett</td>\n",
       "      <td>2009</td>\n",
       "      <td>6</td>\n",
       "      <td>7</td>\n",
       "      <td>0</td>\n",
       "      <td>2</td>\n",
       "      <td>41</td>\n",
       "    </tr>\n",
       "    <tr>\n",
       "      <th>1599999</th>\n",
       "      <td>1599999</td>\n",
       "      <td>2009-06-07 00:02:41</td>\n",
       "      <td>NO_QUERY</td>\n",
       "      <td>Not looking forward to a good 9 hours at One P...</td>\n",
       "      <td>paul_hauffe</td>\n",
       "      <td>2009</td>\n",
       "      <td>6</td>\n",
       "      <td>7</td>\n",
       "      <td>0</td>\n",
       "      <td>2</td>\n",
       "      <td>41</td>\n",
       "    </tr>\n",
       "  </tbody>\n",
       "</table>\n",
       "</div>"
      ],
      "text/plain": [
       "         Unnamed: 0                 date      flag  \\\n",
       "1599995     1599995  2009-06-07 00:02:36  NO_QUERY   \n",
       "1599996     1599996  2009-06-07 00:02:40  NO_QUERY   \n",
       "1599997     1599997  2009-06-07 00:02:41  NO_QUERY   \n",
       "1599998     1599998  2009-06-07 00:02:41  NO_QUERY   \n",
       "1599999     1599999  2009-06-07 00:02:41  NO_QUERY   \n",
       "\n",
       "                                                      text            user  \\\n",
       "1599995  I just got a bunch of money for graduation, bu...      chichi7391   \n",
       "1599996                                    were is my pic   lambrinilesley   \n",
       "1599997     @sar_88 you had to wait 2 hours for the foood        sweetmash   \n",
       "1599998  @pollyyy by the way i hate you for seeing bran...   LittleBirkett   \n",
       "1599999  Not looking forward to a good 9 hours at One P...     paul_hauffe   \n",
       "\n",
       "         year  month  day  hour  minute  second  \n",
       "1599995  2009      6    7     0       2      36  \n",
       "1599996  2009      6    7     0       2      40  \n",
       "1599997  2009      6    7     0       2      41  \n",
       "1599998  2009      6    7     0       2      41  \n",
       "1599999  2009      6    7     0       2      41  "
      ]
     },
     "execution_count": 3,
     "metadata": {},
     "output_type": "execute_result"
    }
   ],
   "source": [
    "#View the last few observations of the df DataFrame\n",
    "df.tail(5)"
   ]
  },
  {
   "cell_type": "code",
   "execution_count": 4,
   "id": "fd981d22",
   "metadata": {},
   "outputs": [
    {
     "data": {
      "text/plain": [
       "(1600000, 11)"
      ]
     },
     "execution_count": 4,
     "metadata": {},
     "output_type": "execute_result"
    }
   ],
   "source": [
    "#View the shape of the df DataFrame\n",
    "df.shape"
   ]
  },
  {
   "cell_type": "code",
   "execution_count": 5,
   "id": "21b261e1",
   "metadata": {},
   "outputs": [
    {
     "name": "stdout",
     "output_type": "stream",
     "text": [
      "<class 'pandas.core.frame.DataFrame'>\n",
      "RangeIndex: 1600000 entries, 0 to 1599999\n",
      "Data columns (total 11 columns):\n",
      " #   Column      Non-Null Count    Dtype \n",
      "---  ------      --------------    ----- \n",
      " 0   Unnamed: 0  1600000 non-null  int64 \n",
      " 1   date        1600000 non-null  object\n",
      " 2   flag        1600000 non-null  object\n",
      " 3   text        1600000 non-null  object\n",
      " 4   user        1600000 non-null  object\n",
      " 5   year        1600000 non-null  int64 \n",
      " 6   month       1600000 non-null  int64 \n",
      " 7   day         1600000 non-null  int64 \n",
      " 8   hour        1600000 non-null  int64 \n",
      " 9   minute      1600000 non-null  int64 \n",
      " 10  second      1600000 non-null  int64 \n",
      "dtypes: int64(7), object(4)\n",
      "memory usage: 134.3+ MB\n"
     ]
    }
   ],
   "source": [
    "#View the features\n",
    "df.info()"
   ]
  },
  {
   "cell_type": "code",
   "execution_count": 6,
   "id": "2657c631",
   "metadata": {},
   "outputs": [],
   "source": [
    "# Convert the 'date_column' to datetime datatype\n",
    "df['date'] = pd.to_datetime(df['date'])"
   ]
  },
  {
   "cell_type": "code",
   "execution_count": 7,
   "id": "de32071b",
   "metadata": {},
   "outputs": [
    {
     "name": "stdout",
     "output_type": "stream",
     "text": [
      "<class 'pandas.core.frame.DataFrame'>\n",
      "RangeIndex: 1600000 entries, 0 to 1599999\n",
      "Data columns (total 11 columns):\n",
      " #   Column      Non-Null Count    Dtype         \n",
      "---  ------      --------------    -----         \n",
      " 0   Unnamed: 0  1600000 non-null  int64         \n",
      " 1   date        1600000 non-null  datetime64[ns]\n",
      " 2   flag        1600000 non-null  object        \n",
      " 3   text        1600000 non-null  object        \n",
      " 4   user        1600000 non-null  object        \n",
      " 5   year        1600000 non-null  int64         \n",
      " 6   month       1600000 non-null  int64         \n",
      " 7   day         1600000 non-null  int64         \n",
      " 8   hour        1600000 non-null  int64         \n",
      " 9   minute      1600000 non-null  int64         \n",
      " 10  second      1600000 non-null  int64         \n",
      "dtypes: datetime64[ns](1), int64(7), object(3)\n",
      "memory usage: 134.3+ MB\n"
     ]
    }
   ],
   "source": [
    "#Check if the date has been changed to date time\n",
    "df.info()"
   ]
  },
  {
   "cell_type": "markdown",
   "id": "caa0fa5e",
   "metadata": {},
   "source": [
    "## Drop Variables that will not be used"
   ]
  },
  {
   "cell_type": "code",
   "execution_count": 8,
   "id": "8f2510fb",
   "metadata": {},
   "outputs": [],
   "source": [
    "# Drop all columns except 'date' and 'text'\n",
    "df = df[['date', 'text','user','day','month']]"
   ]
  },
  {
   "cell_type": "code",
   "execution_count": 9,
   "id": "bd28abcb",
   "metadata": {},
   "outputs": [
    {
     "data": {
      "text/html": [
       "<div>\n",
       "<style scoped>\n",
       "    .dataframe tbody tr th:only-of-type {\n",
       "        vertical-align: middle;\n",
       "    }\n",
       "\n",
       "    .dataframe tbody tr th {\n",
       "        vertical-align: top;\n",
       "    }\n",
       "\n",
       "    .dataframe thead th {\n",
       "        text-align: right;\n",
       "    }\n",
       "</style>\n",
       "<table border=\"1\" class=\"dataframe\">\n",
       "  <thead>\n",
       "    <tr style=\"text-align: right;\">\n",
       "      <th></th>\n",
       "      <th>date</th>\n",
       "      <th>text</th>\n",
       "      <th>user</th>\n",
       "      <th>day</th>\n",
       "      <th>month</th>\n",
       "    </tr>\n",
       "  </thead>\n",
       "  <tbody>\n",
       "    <tr>\n",
       "      <th>0</th>\n",
       "      <td>2009-04-18 15:51:40</td>\n",
       "      <td>@ctribe I hope you are having a great day.</td>\n",
       "      <td>prosario_2000</td>\n",
       "      <td>18</td>\n",
       "      <td>4</td>\n",
       "    </tr>\n",
       "    <tr>\n",
       "      <th>1</th>\n",
       "      <td>2009-06-07 00:02:45</td>\n",
       "      <td>Kinda scared to sleep alone in this house toni...</td>\n",
       "      <td>l7l7v</td>\n",
       "      <td>7</td>\n",
       "      <td>6</td>\n",
       "    </tr>\n",
       "    <tr>\n",
       "      <th>2</th>\n",
       "      <td>2009-06-01 11:52:03</td>\n",
       "      <td>@karinhoegh  Didn't think of national holidays...</td>\n",
       "      <td>kmdk</td>\n",
       "      <td>1</td>\n",
       "      <td>6</td>\n",
       "    </tr>\n",
       "    <tr>\n",
       "      <th>3</th>\n",
       "      <td>2009-06-01 11:52:03</td>\n",
       "      <td>Need more FPS....time to shop for a new camera...</td>\n",
       "      <td>jflinchbaugh</td>\n",
       "      <td>1</td>\n",
       "      <td>6</td>\n",
       "    </tr>\n",
       "    <tr>\n",
       "      <th>4</th>\n",
       "      <td>2009-06-01 11:52:04</td>\n",
       "      <td>@SteveOGallagher take me with u</td>\n",
       "      <td>kittaykat</td>\n",
       "      <td>1</td>\n",
       "      <td>6</td>\n",
       "    </tr>\n",
       "  </tbody>\n",
       "</table>\n",
       "</div>"
      ],
      "text/plain": [
       "                 date                                               text  \\\n",
       "0 2009-04-18 15:51:40        @ctribe I hope you are having a great day.    \n",
       "1 2009-06-07 00:02:45  Kinda scared to sleep alone in this house toni...   \n",
       "2 2009-06-01 11:52:03  @karinhoegh  Didn't think of national holidays...   \n",
       "3 2009-06-01 11:52:03  Need more FPS....time to shop for a new camera...   \n",
       "4 2009-06-01 11:52:04                   @SteveOGallagher take me with u    \n",
       "\n",
       "            user  day  month  \n",
       "0  prosario_2000   18      4  \n",
       "1          l7l7v    7      6  \n",
       "2           kmdk    1      6  \n",
       "3   jflinchbaugh    1      6  \n",
       "4      kittaykat    1      6  "
      ]
     },
     "execution_count": 9,
     "metadata": {},
     "output_type": "execute_result"
    }
   ],
   "source": [
    "#Check if they have been dropped\n",
    "df.head(5)"
   ]
  },
  {
   "cell_type": "code",
   "execution_count": 10,
   "id": "aaa23e39",
   "metadata": {},
   "outputs": [],
   "source": [
    "# Sort the DataFrame by the 'date' column in ascending order\n",
    "df = df.sort_values(by='date', ascending=True)"
   ]
  },
  {
   "cell_type": "code",
   "execution_count": 11,
   "id": "d4461783",
   "metadata": {},
   "outputs": [
    {
     "data": {
      "text/html": [
       "<div>\n",
       "<style scoped>\n",
       "    .dataframe tbody tr th:only-of-type {\n",
       "        vertical-align: middle;\n",
       "    }\n",
       "\n",
       "    .dataframe tbody tr th {\n",
       "        vertical-align: top;\n",
       "    }\n",
       "\n",
       "    .dataframe thead th {\n",
       "        text-align: right;\n",
       "    }\n",
       "</style>\n",
       "<table border=\"1\" class=\"dataframe\">\n",
       "  <thead>\n",
       "    <tr style=\"text-align: right;\">\n",
       "      <th></th>\n",
       "      <th>date</th>\n",
       "      <th>text</th>\n",
       "      <th>user</th>\n",
       "      <th>day</th>\n",
       "      <th>month</th>\n",
       "    </tr>\n",
       "  </thead>\n",
       "  <tbody>\n",
       "    <tr>\n",
       "      <th>271</th>\n",
       "      <td>2009-04-07 05:19:45</td>\n",
       "      <td>@switchfoot http://twitpic.com/2y1zl - Awww, t...</td>\n",
       "      <td>_TheSpecialOne_</td>\n",
       "      <td>7</td>\n",
       "      <td>4</td>\n",
       "    </tr>\n",
       "    <tr>\n",
       "      <th>275</th>\n",
       "      <td>2009-04-07 05:19:49</td>\n",
       "      <td>is upset that he can't update his Facebook by ...</td>\n",
       "      <td>scotthamilton</td>\n",
       "      <td>7</td>\n",
       "      <td>4</td>\n",
       "    </tr>\n",
       "    <tr>\n",
       "      <th>277</th>\n",
       "      <td>2009-04-07 05:19:53</td>\n",
       "      <td>@Kenichan I dived many times for the ball. Man...</td>\n",
       "      <td>mattycus</td>\n",
       "      <td>7</td>\n",
       "      <td>4</td>\n",
       "    </tr>\n",
       "    <tr>\n",
       "      <th>279</th>\n",
       "      <td>2009-04-07 05:19:57</td>\n",
       "      <td>my whole body feels itchy and like its on fire</td>\n",
       "      <td>ElleCTF</td>\n",
       "      <td>7</td>\n",
       "      <td>4</td>\n",
       "    </tr>\n",
       "    <tr>\n",
       "      <th>281</th>\n",
       "      <td>2009-04-07 05:19:57</td>\n",
       "      <td>@nationwideclass no, it's not behaving at all....</td>\n",
       "      <td>Karoli</td>\n",
       "      <td>7</td>\n",
       "      <td>4</td>\n",
       "    </tr>\n",
       "  </tbody>\n",
       "</table>\n",
       "</div>"
      ],
      "text/plain": [
       "                   date                                               text  \\\n",
       "271 2009-04-07 05:19:45  @switchfoot http://twitpic.com/2y1zl - Awww, t...   \n",
       "275 2009-04-07 05:19:49  is upset that he can't update his Facebook by ...   \n",
       "277 2009-04-07 05:19:53  @Kenichan I dived many times for the ball. Man...   \n",
       "279 2009-04-07 05:19:57    my whole body feels itchy and like its on fire    \n",
       "281 2009-04-07 05:19:57  @nationwideclass no, it's not behaving at all....   \n",
       "\n",
       "                user  day  month  \n",
       "271  _TheSpecialOne_    7      4  \n",
       "275    scotthamilton    7      4  \n",
       "277         mattycus    7      4  \n",
       "279          ElleCTF    7      4  \n",
       "281           Karoli    7      4  "
      ]
     },
     "execution_count": 11,
     "metadata": {},
     "output_type": "execute_result"
    }
   ],
   "source": [
    "#Check if the date is sorted\n",
    "df.head(5)"
   ]
  },
  {
   "cell_type": "code",
   "execution_count": 12,
   "id": "96d8006a",
   "metadata": {},
   "outputs": [],
   "source": [
    "#Reset the index\n",
    "df = df.reset_index(drop=True)"
   ]
  },
  {
   "cell_type": "code",
   "execution_count": 13,
   "id": "9770fb01",
   "metadata": {},
   "outputs": [
    {
     "data": {
      "text/html": [
       "<div>\n",
       "<style scoped>\n",
       "    .dataframe tbody tr th:only-of-type {\n",
       "        vertical-align: middle;\n",
       "    }\n",
       "\n",
       "    .dataframe tbody tr th {\n",
       "        vertical-align: top;\n",
       "    }\n",
       "\n",
       "    .dataframe thead th {\n",
       "        text-align: right;\n",
       "    }\n",
       "</style>\n",
       "<table border=\"1\" class=\"dataframe\">\n",
       "  <thead>\n",
       "    <tr style=\"text-align: right;\">\n",
       "      <th></th>\n",
       "      <th>date</th>\n",
       "      <th>text</th>\n",
       "      <th>user</th>\n",
       "      <th>day</th>\n",
       "      <th>month</th>\n",
       "    </tr>\n",
       "  </thead>\n",
       "  <tbody>\n",
       "    <tr>\n",
       "      <th>0</th>\n",
       "      <td>2009-04-07 05:19:45</td>\n",
       "      <td>@switchfoot http://twitpic.com/2y1zl - Awww, t...</td>\n",
       "      <td>_TheSpecialOne_</td>\n",
       "      <td>7</td>\n",
       "      <td>4</td>\n",
       "    </tr>\n",
       "    <tr>\n",
       "      <th>1</th>\n",
       "      <td>2009-04-07 05:19:49</td>\n",
       "      <td>is upset that he can't update his Facebook by ...</td>\n",
       "      <td>scotthamilton</td>\n",
       "      <td>7</td>\n",
       "      <td>4</td>\n",
       "    </tr>\n",
       "    <tr>\n",
       "      <th>2</th>\n",
       "      <td>2009-04-07 05:19:53</td>\n",
       "      <td>@Kenichan I dived many times for the ball. Man...</td>\n",
       "      <td>mattycus</td>\n",
       "      <td>7</td>\n",
       "      <td>4</td>\n",
       "    </tr>\n",
       "    <tr>\n",
       "      <th>3</th>\n",
       "      <td>2009-04-07 05:19:57</td>\n",
       "      <td>my whole body feels itchy and like its on fire</td>\n",
       "      <td>ElleCTF</td>\n",
       "      <td>7</td>\n",
       "      <td>4</td>\n",
       "    </tr>\n",
       "    <tr>\n",
       "      <th>4</th>\n",
       "      <td>2009-04-07 05:19:57</td>\n",
       "      <td>@nationwideclass no, it's not behaving at all....</td>\n",
       "      <td>Karoli</td>\n",
       "      <td>7</td>\n",
       "      <td>4</td>\n",
       "    </tr>\n",
       "  </tbody>\n",
       "</table>\n",
       "</div>"
      ],
      "text/plain": [
       "                 date                                               text  \\\n",
       "0 2009-04-07 05:19:45  @switchfoot http://twitpic.com/2y1zl - Awww, t...   \n",
       "1 2009-04-07 05:19:49  is upset that he can't update his Facebook by ...   \n",
       "2 2009-04-07 05:19:53  @Kenichan I dived many times for the ball. Man...   \n",
       "3 2009-04-07 05:19:57    my whole body feels itchy and like its on fire    \n",
       "4 2009-04-07 05:19:57  @nationwideclass no, it's not behaving at all....   \n",
       "\n",
       "              user  day  month  \n",
       "0  _TheSpecialOne_    7      4  \n",
       "1    scotthamilton    7      4  \n",
       "2         mattycus    7      4  \n",
       "3          ElleCTF    7      4  \n",
       "4           Karoli    7      4  "
      ]
     },
     "execution_count": 13,
     "metadata": {},
     "output_type": "execute_result"
    }
   ],
   "source": [
    "#Check if the index has been reset\n",
    "df.head(5)"
   ]
  },
  {
   "cell_type": "code",
   "execution_count": 14,
   "id": "b2d3f74f",
   "metadata": {},
   "outputs": [
    {
     "name": "stdout",
     "output_type": "stream",
     "text": [
      "                      min                 max\n",
      "month                                        \n",
      "4     2009-04-07 05:19:45 2009-04-21 11:22:15\n",
      "5     2009-05-02 03:08:46 2009-05-31 23:59:59\n",
      "6     2009-06-01 00:00:00 2009-06-25 17:28:31\n"
     ]
    }
   ],
   "source": [
    "#Group by month and find minimum and maximum date for each month\n",
    "monthly_date_range = df.groupby('month')['date'].agg([min, max])\n",
    "\n",
    "#Display the result\n",
    "print(monthly_date_range)"
   ]
  },
  {
   "cell_type": "markdown",
   "id": "6759668a",
   "metadata": {},
   "source": [
    "## The dates have some missing dates\n",
    "- The data is for 3 months, April, May, June\n",
    "- April (7/4/2009 - 21/4/2009)\n",
    "- May (2/5/2009) - 31/5/2009\n",
    "- June (1/6/2009 -25/6/2009)"
   ]
  },
  {
   "cell_type": "markdown",
   "id": "852796cb",
   "metadata": {},
   "source": [
    "## EDA OF DATE VARIABLE"
   ]
  },
  {
   "cell_type": "code",
   "execution_count": 15,
   "id": "88cfc444",
   "metadata": {},
   "outputs": [
    {
     "name": "stderr",
     "output_type": "stream",
     "text": [
      "C:\\Users\\Diana\\AppData\\Local\\Temp\\ipykernel_20992\\801468514.py:1: FutureWarning: Treating datetime data as categorical rather than numeric in `.describe` is deprecated and will be removed in a future version of pandas. Specify `datetime_is_numeric=True` to silence this warning and adopt the future behavior now.\n",
      "  df['date'].describe()\n"
     ]
    },
    {
     "data": {
      "text/plain": [
       "count                 1600000\n",
       "unique                 774363\n",
       "top       2009-06-15 19:53:14\n",
       "freq                       20\n",
       "first     2009-04-07 05:19:45\n",
       "last      2009-06-25 17:28:31\n",
       "Name: date, dtype: object"
      ]
     },
     "execution_count": 15,
     "metadata": {},
     "output_type": "execute_result"
    }
   ],
   "source": [
    "df['date'].describe()"
   ]
  },
  {
   "cell_type": "markdown",
   "id": "b0f6b163",
   "metadata": {},
   "source": [
    "## Findings\n",
    "The first date is 7/4/2009 and the last dat is 25/06/2009"
   ]
  },
  {
   "cell_type": "code",
   "execution_count": 16,
   "id": "bca86bb0",
   "metadata": {},
   "outputs": [
    {
     "data": {
      "image/png": "[encoded data removed]",
      "text/plain": [
       "<Figure size 1000x600 with 1 Axes>"
      ]
     },
     "metadata": {},
     "output_type": "display_data"
    }
   ],
   "source": [
    "#Histogram\n",
    "import matplotlib.pyplot as plt\n",
    "plt.figure(figsize=(10, 6))\n",
    "plt.hist(df['date'], bins=50, color='skyblue', edgecolor='black')\n",
    "plt.title('Histogram of Date Variable')\n",
    "plt.xlabel('Date')\n",
    "plt.ylabel('Frequency')\n",
    "plt.show()"
   ]
  },
  {
   "cell_type": "markdown",
   "id": "77ce1721",
   "metadata": {},
   "source": [
    "## Findings\n",
    "There are missing days "
   ]
  },
  {
   "cell_type": "code",
   "execution_count": 17,
   "id": "7a25a6f1",
   "metadata": {},
   "outputs": [
    {
     "data": {
      "image/png": "[encoded data removed]",
      "text/plain": [
       "<Figure size 1200x600 with 4 Axes>"
      ]
     },
     "metadata": {},
     "output_type": "display_data"
    }
   ],
   "source": [
    "import seaborn as sns\n",
    "#Extract additional date features for analysis\n",
    "df['day_of_week'] = df['date'].dt.dayofweek\n",
    "df['month'] = df['date'].dt.month\n",
    "df['quarter'] = df['date'].dt.quarter\n",
    "df['year'] = df['date'].dt.year\n",
    "\n",
    "# Plotting distribution of date features\n",
    "plt.figure(figsize=(12, 6))\n",
    "\n",
    "plt.subplot(2, 2, 1)\n",
    "sns.countplot(x='day_of_week', data=df, palette='viridis')\n",
    "plt.title('Distribution of Days of Week')\n",
    "\n",
    "plt.subplot(2, 2, 2)\n",
    "sns.countplot(x='month', data=df, palette='viridis')\n",
    "plt.title('Distribution of Months')\n",
    "\n",
    "plt.subplot(2, 2, 3)\n",
    "sns.countplot(x='quarter', data=df, palette='viridis')\n",
    "plt.title('Distribution of Quarters')\n",
    "\n",
    "plt.subplot(2, 2, 4)\n",
    "sns.countplot(x='year', data=df, palette='viridis')\n",
    "plt.title('Distribution of Years')\n",
    "\n",
    "plt.tight_layout()\n",
    "plt.show()"
   ]
  },
  {
   "cell_type": "code",
   "execution_count": 18,
   "id": "e02dae0d",
   "metadata": {},
   "outputs": [
    {
     "name": "stdout",
     "output_type": "stream",
     "text": [
      "Common sequences among all months without missing days:\n"
     ]
    }
   ],
   "source": [
    "# Extract month from date\n",
    "df['month'] = df['date'].dt.month\n",
    "\n",
    "# Group by month and extract sequences\n",
    "sequences_by_month = {}\n",
    "for month, group in df.groupby('month'):\n",
    "    sequences = []\n",
    "    current_sequence = []\n",
    "    prev_date = None\n",
    "    for date in group['date']:\n",
    "        if prev_date is None or (date - prev_date).days == 1:\n",
    "            current_sequence.append(date)\n",
    "        else:\n",
    "            if len(current_sequence) > 1:\n",
    "                sequences.append(tuple(current_sequence))  # Convert list to tuple\n",
    "            current_sequence = [date]\n",
    "        prev_date = date\n",
    "    if len(current_sequence) > 1:\n",
    "        sequences.append(tuple(current_sequence))  # Convert list to tuple\n",
    "    sequences_by_month[month] = sequences\n",
    "\n",
    "# Find common sequences among the months\n",
    "common_sequences = None\n",
    "for month_sequences in sequences_by_month.values():\n",
    "    if common_sequences is None:\n",
    "        common_sequences = set(month_sequences)\n",
    "    else:\n",
    "        common_sequences.intersection_update(month_sequences)\n",
    "\n",
    "# Filter sequences with no missing days\n",
    "common_sequences_no_missing = []\n",
    "for seq in common_sequences:\n",
    "    if pd.date_range(start=seq[0], end=seq[-1]).tolist() == list(seq):  # Convert tuple back to list\n",
    "        common_sequences_no_missing.append(seq)\n",
    "\n",
    "# Visualize or return common sequences without missing days\n",
    "print(\"Common sequences among all months without missing days:\")\n",
    "for seq in common_sequences_no_missing:\n",
    "    print(seq)"
   ]
  },
  {
   "cell_type": "code",
   "execution_count": 19,
   "id": "2a6c9aa5",
   "metadata": {},
   "outputs": [
    {
     "name": "stdout",
     "output_type": "stream",
     "text": [
      "DatetimeIndex(['2009-04-07', '2009-04-08', '2009-04-09', '2009-04-10',\n",
      "               '2009-04-11', '2009-04-12', '2009-04-13', '2009-04-14',\n",
      "               '2009-04-15', '2009-04-16', '2009-04-17', '2009-04-18',\n",
      "               '2009-04-19', '2009-04-20', '2009-04-21', '2009-04-22',\n",
      "               '2009-04-23', '2009-04-24', '2009-04-25', '2009-04-26',\n",
      "               '2009-04-27', '2009-04-28', '2009-04-29', '2009-04-30',\n",
      "               '2009-05-01', '2009-05-02', '2009-05-03', '2009-05-04',\n",
      "               '2009-05-05', '2009-05-06', '2009-05-07', '2009-05-08',\n",
      "               '2009-05-09', '2009-05-10', '2009-05-11', '2009-05-12',\n",
      "               '2009-05-13', '2009-05-14', '2009-05-15', '2009-05-16',\n",
      "               '2009-05-17', '2009-05-18', '2009-05-19', '2009-05-20',\n",
      "               '2009-05-21', '2009-05-22', '2009-05-23', '2009-05-24',\n",
      "               '2009-05-25', '2009-05-26', '2009-05-27', '2009-05-28',\n",
      "               '2009-05-29', '2009-05-30', '2009-05-31', '2009-06-01',\n",
      "               '2009-06-02', '2009-06-03', '2009-06-04', '2009-06-05',\n",
      "               '2009-06-06', '2009-06-07', '2009-06-08', '2009-06-09',\n",
      "               '2009-06-10', '2009-06-11', '2009-06-12', '2009-06-13',\n",
      "               '2009-06-14', '2009-06-15', '2009-06-16', '2009-06-17',\n",
      "               '2009-06-18', '2009-06-19', '2009-06-20', '2009-06-21',\n",
      "               '2009-06-22', '2009-06-23', '2009-06-24', '2009-06-25'],\n",
      "              dtype='datetime64[ns]', freq='D')\n",
      "80\n"
     ]
    }
   ],
   "source": [
    "import pandas as pd\n",
    "\n",
    "#Define date range with correct formatting\n",
    "date_range = pd.date_range(start=\"2009-04-07\", end=\"2009-06-25\", freq=\"D\")\n",
    "\n",
    "#Find missing dates\n",
    "missing_dates = date_range[~date_range.isin(df.index)]\n",
    "print(missing_dates)\n",
    "print(len(missing_dates))"
   ]
  },
  {
   "cell_type": "code",
   "execution_count": 20,
   "id": "04bef33d",
   "metadata": {},
   "outputs": [
    {
     "name": "stdout",
     "output_type": "stream",
     "text": [
      "month\n",
      "4    100025\n",
      "5    559073\n",
      "6    940902\n",
      "dtype: int64\n"
     ]
    }
   ],
   "source": [
    "# Count the number of dates by month\n",
    "monthly_date_counts = df.groupby('month').size()\n",
    "\n",
    "# Display the result\n",
    "print(monthly_date_counts)\n"
   ]
  },
  {
   "cell_type": "code",
   "execution_count": 21,
   "id": "1a73ab92",
   "metadata": {},
   "outputs": [
    {
     "data": {
      "text/html": [
       "<div>\n",
       "<style scoped>\n",
       "    .dataframe tbody tr th:only-of-type {\n",
       "        vertical-align: middle;\n",
       "    }\n",
       "\n",
       "    .dataframe tbody tr th {\n",
       "        vertical-align: top;\n",
       "    }\n",
       "\n",
       "    .dataframe thead th {\n",
       "        text-align: right;\n",
       "    }\n",
       "</style>\n",
       "<table border=\"1\" class=\"dataframe\">\n",
       "  <thead>\n",
       "    <tr style=\"text-align: right;\">\n",
       "      <th></th>\n",
       "      <th>date</th>\n",
       "      <th>text</th>\n",
       "      <th>user</th>\n",
       "      <th>day</th>\n",
       "      <th>month</th>\n",
       "      <th>day_of_week</th>\n",
       "      <th>quarter</th>\n",
       "      <th>year</th>\n",
       "    </tr>\n",
       "  </thead>\n",
       "  <tbody>\n",
       "    <tr>\n",
       "      <th>0</th>\n",
       "      <td>2009-04-07 05:19:45</td>\n",
       "      <td>@switchfoot http://twitpic.com/2y1zl - Awww, t...</td>\n",
       "      <td>_TheSpecialOne_</td>\n",
       "      <td>7</td>\n",
       "      <td>4</td>\n",
       "      <td>1</td>\n",
       "      <td>2</td>\n",
       "      <td>2009</td>\n",
       "    </tr>\n",
       "    <tr>\n",
       "      <th>1</th>\n",
       "      <td>2009-04-07 05:19:49</td>\n",
       "      <td>is upset that he can't update his Facebook by ...</td>\n",
       "      <td>scotthamilton</td>\n",
       "      <td>7</td>\n",
       "      <td>4</td>\n",
       "      <td>1</td>\n",
       "      <td>2</td>\n",
       "      <td>2009</td>\n",
       "    </tr>\n",
       "    <tr>\n",
       "      <th>2</th>\n",
       "      <td>2009-04-07 05:19:53</td>\n",
       "      <td>@Kenichan I dived many times for the ball. Man...</td>\n",
       "      <td>mattycus</td>\n",
       "      <td>7</td>\n",
       "      <td>4</td>\n",
       "      <td>1</td>\n",
       "      <td>2</td>\n",
       "      <td>2009</td>\n",
       "    </tr>\n",
       "    <tr>\n",
       "      <th>3</th>\n",
       "      <td>2009-04-07 05:19:57</td>\n",
       "      <td>my whole body feels itchy and like its on fire</td>\n",
       "      <td>ElleCTF</td>\n",
       "      <td>7</td>\n",
       "      <td>4</td>\n",
       "      <td>1</td>\n",
       "      <td>2</td>\n",
       "      <td>2009</td>\n",
       "    </tr>\n",
       "    <tr>\n",
       "      <th>4</th>\n",
       "      <td>2009-04-07 05:19:57</td>\n",
       "      <td>@nationwideclass no, it's not behaving at all....</td>\n",
       "      <td>Karoli</td>\n",
       "      <td>7</td>\n",
       "      <td>4</td>\n",
       "      <td>1</td>\n",
       "      <td>2</td>\n",
       "      <td>2009</td>\n",
       "    </tr>\n",
       "  </tbody>\n",
       "</table>\n",
       "</div>"
      ],
      "text/plain": [
       "                 date                                               text  \\\n",
       "0 2009-04-07 05:19:45  @switchfoot http://twitpic.com/2y1zl - Awww, t...   \n",
       "1 2009-04-07 05:19:49  is upset that he can't update his Facebook by ...   \n",
       "2 2009-04-07 05:19:53  @Kenichan I dived many times for the ball. Man...   \n",
       "3 2009-04-07 05:19:57    my whole body feels itchy and like its on fire    \n",
       "4 2009-04-07 05:19:57  @nationwideclass no, it's not behaving at all....   \n",
       "\n",
       "              user  day  month  day_of_week  quarter  year  \n",
       "0  _TheSpecialOne_    7      4            1        2  2009  \n",
       "1    scotthamilton    7      4            1        2  2009  \n",
       "2         mattycus    7      4            1        2  2009  \n",
       "3          ElleCTF    7      4            1        2  2009  \n",
       "4           Karoli    7      4            1        2  2009  "
      ]
     },
     "execution_count": 21,
     "metadata": {},
     "output_type": "execute_result"
    }
   ],
   "source": [
    "#View the df\n",
    "df.head(5)"
   ]
  },
  {
   "cell_type": "markdown",
   "id": "c6a28087",
   "metadata": {},
   "source": [
    "## Visualize the count of each day"
   ]
  },
  {
   "cell_type": "code",
   "execution_count": 22,
   "id": "083bd4fa",
   "metadata": {},
   "outputs": [
    {
     "data": {
      "image/png": "[encoded data removed]",
      "text/plain": [
       "<Figure size 1000x600 with 1 Axes>"
      ]
     },
     "metadata": {},
     "output_type": "display_data"
    }
   ],
   "source": [
    "import matplotlib.pyplot as plt\n",
    "#plot the graph of the days\n",
    "sorted_days = df['day'].value_counts().sort_index()\n",
    "\n",
    "# Plotting count of each unique day\n",
    "plt.figure(figsize=(10, 6))\n",
    "sorted_days.plot(kind='bar', color='skyblue')\n",
    "plt.title('Count of Each Unique Day')\n",
    "plt.xlabel('Day')\n",
    "plt.ylabel('Count')\n",
    "plt.xticks(rotation=45)\n",
    "plt.grid(axis='y', linestyle='--', alpha=0.7)\n",
    "plt.tight_layout()\n",
    "plt.show()\n"
   ]
  },
  {
   "cell_type": "code",
   "execution_count": 23,
   "id": "e5346885",
   "metadata": {},
   "outputs": [
    {
     "name": "stdout",
     "output_type": "stream",
     "text": [
      "month  date               \n",
      "4      2009-04-18 04:57:42    12\n",
      "       2009-04-19 00:14:13    11\n",
      "       2009-04-19 04:22:31    11\n",
      "       2009-04-19 15:34:51    11\n",
      "       2009-04-19 17:50:35    11\n",
      "                              ..\n",
      "6      2009-06-25 17:28:18     1\n",
      "       2009-06-25 17:28:19     1\n",
      "       2009-06-25 17:28:22     1\n",
      "       2009-06-25 17:28:24     1\n",
      "       2009-06-25 17:28:31     1\n",
      "Name: date, Length: 774363, dtype: int64\n"
     ]
    }
   ],
   "source": [
    "#Group by month and count the frequency of each unique date within each month\n",
    "unique_dates_by_month = df.groupby('month')['date'].value_counts()\n",
    "\n",
    "#Display the result\n",
    "print(unique_dates_by_month)"
   ]
  },
  {
   "cell_type": "markdown",
   "id": "39ff096a",
   "metadata": {},
   "source": [
    "## Check for duplicates based on date, user and text"
   ]
  },
  {
   "cell_type": "code",
   "execution_count": 24,
   "id": "7b0b8578",
   "metadata": {},
   "outputs": [
    {
     "name": "stdout",
     "output_type": "stream",
     "text": [
      "Duplicate rows based on user, date, and text:\n",
      "                       date  \\\n",
      "474     2009-04-07 05:33:35   \n",
      "480     2009-04-07 05:33:35   \n",
      "575     2009-04-07 05:38:04   \n",
      "577     2009-04-07 05:38:04   \n",
      "2267    2009-04-07 06:28:09   \n",
      "...                     ...   \n",
      "1570440 2009-06-23 23:11:03   \n",
      "1591655 2009-06-25 13:26:14   \n",
      "1591656 2009-06-25 13:26:14   \n",
      "1592527 2009-06-25 13:51:59   \n",
      "1592528 2009-06-25 13:51:59   \n",
      "\n",
      "                                                      text           user  \\\n",
      "474      Awwh babs... you look so sad underneith that s...       DjGundam   \n",
      "480      Awwh babs... you look so sad underneith that s...       DjGundam   \n",
      "575      Haven't tweeted nearly all day  Posted my webs...        iCalvin   \n",
      "577      Haven't tweeted nearly all day  Posted my webs...        iCalvin   \n",
      "2267     @hellobebe I also send some updates in plurk b...    mariejamora   \n",
      "...                                                    ...            ...   \n",
      "1570440  I effin locked my keys in my house and I'm stu...     Susanluann   \n",
      "1591655  @Ashley_Cashen Yes! I have to see you before y...  AlexandraG730   \n",
      "1591656  @Ashley_Cashen Yes! I have to see you before y...  AlexandraG730   \n",
      "1592527  Records retention policies are a PITA. 21 CFR ...   noTHINGfaced   \n",
      "1592528  Records retention policies are a PITA. 21 CFR ...   noTHINGfaced   \n",
      "\n",
      "         day  month  day_of_week  quarter  year  \n",
      "474        7      4            1        2  2009  \n",
      "480        7      4            1        2  2009  \n",
      "575        7      4            1        2  2009  \n",
      "577        7      4            1        2  2009  \n",
      "2267       7      4            1        2  2009  \n",
      "...      ...    ...          ...      ...   ...  \n",
      "1570440   23      6            1        2  2009  \n",
      "1591655   25      6            3        2  2009  \n",
      "1591656   25      6            3        2  2009  \n",
      "1592527   25      6            3        2  2009  \n",
      "1592528   25      6            3        2  2009  \n",
      "\n",
      "[3738 rows x 8 columns]\n"
     ]
    }
   ],
   "source": [
    "import pandas as pd\n",
    "\n",
    "# Check for duplicates based on user, date, and text\n",
    "duplicates = df.duplicated(subset=['user', 'date', 'text'], keep=False)\n",
    "\n",
    "# Filter the DataFrame to show only the duplicate rows\n",
    "duplicate_rows = df[duplicates]\n",
    "\n",
    "print(\"Duplicate rows based on user, date, and text:\")\n",
    "print(duplicate_rows)"
   ]
  },
  {
   "cell_type": "markdown",
   "id": "251624b0",
   "metadata": {},
   "source": [
    "# DATA PREPARATION"
   ]
  },
  {
   "cell_type": "markdown",
   "id": "76283d5b",
   "metadata": {},
   "source": [
    "## Drop Duplicates"
   ]
  },
  {
   "cell_type": "code",
   "execution_count": 25,
   "id": "ed57bc7f",
   "metadata": {},
   "outputs": [
    {
     "name": "stdout",
     "output_type": "stream",
     "text": [
      "DataFrame after dropping duplicates based on user, text, and date:\n"
     ]
    },
    {
     "data": {
      "text/html": [
       "<div>\n",
       "<style scoped>\n",
       "    .dataframe tbody tr th:only-of-type {\n",
       "        vertical-align: middle;\n",
       "    }\n",
       "\n",
       "    .dataframe tbody tr th {\n",
       "        vertical-align: top;\n",
       "    }\n",
       "\n",
       "    .dataframe thead th {\n",
       "        text-align: right;\n",
       "    }\n",
       "</style>\n",
       "<table border=\"1\" class=\"dataframe\">\n",
       "  <thead>\n",
       "    <tr style=\"text-align: right;\">\n",
       "      <th></th>\n",
       "      <th>date</th>\n",
       "      <th>text</th>\n",
       "      <th>user</th>\n",
       "      <th>day</th>\n",
       "      <th>month</th>\n",
       "      <th>day_of_week</th>\n",
       "      <th>quarter</th>\n",
       "      <th>year</th>\n",
       "    </tr>\n",
       "  </thead>\n",
       "  <tbody>\n",
       "    <tr>\n",
       "      <th>0</th>\n",
       "      <td>2009-04-07 05:19:45</td>\n",
       "      <td>@switchfoot http://twitpic.com/2y1zl - Awww, t...</td>\n",
       "      <td>_TheSpecialOne_</td>\n",
       "      <td>7</td>\n",
       "      <td>4</td>\n",
       "      <td>1</td>\n",
       "      <td>2</td>\n",
       "      <td>2009</td>\n",
       "    </tr>\n",
       "    <tr>\n",
       "      <th>1</th>\n",
       "      <td>2009-04-07 05:19:49</td>\n",
       "      <td>is upset that he can't update his Facebook by ...</td>\n",
       "      <td>scotthamilton</td>\n",
       "      <td>7</td>\n",
       "      <td>4</td>\n",
       "      <td>1</td>\n",
       "      <td>2</td>\n",
       "      <td>2009</td>\n",
       "    </tr>\n",
       "    <tr>\n",
       "      <th>2</th>\n",
       "      <td>2009-04-07 05:19:53</td>\n",
       "      <td>@Kenichan I dived many times for the ball. Man...</td>\n",
       "      <td>mattycus</td>\n",
       "      <td>7</td>\n",
       "      <td>4</td>\n",
       "      <td>1</td>\n",
       "      <td>2</td>\n",
       "      <td>2009</td>\n",
       "    </tr>\n",
       "    <tr>\n",
       "      <th>3</th>\n",
       "      <td>2009-04-07 05:19:57</td>\n",
       "      <td>my whole body feels itchy and like its on fire</td>\n",
       "      <td>ElleCTF</td>\n",
       "      <td>7</td>\n",
       "      <td>4</td>\n",
       "      <td>1</td>\n",
       "      <td>2</td>\n",
       "      <td>2009</td>\n",
       "    </tr>\n",
       "    <tr>\n",
       "      <th>4</th>\n",
       "      <td>2009-04-07 05:19:57</td>\n",
       "      <td>@nationwideclass no, it's not behaving at all....</td>\n",
       "      <td>Karoli</td>\n",
       "      <td>7</td>\n",
       "      <td>4</td>\n",
       "      <td>1</td>\n",
       "      <td>2</td>\n",
       "      <td>2009</td>\n",
       "    </tr>\n",
       "    <tr>\n",
       "      <th>...</th>\n",
       "      <td>...</td>\n",
       "      <td>...</td>\n",
       "      <td>...</td>\n",
       "      <td>...</td>\n",
       "      <td>...</td>\n",
       "      <td>...</td>\n",
       "      <td>...</td>\n",
       "      <td>...</td>\n",
       "    </tr>\n",
       "    <tr>\n",
       "      <th>1599995</th>\n",
       "      <td>2009-06-25 17:28:28</td>\n",
       "      <td>Sick  Spending my day laying in bed listening ...</td>\n",
       "      <td>dandykim</td>\n",
       "      <td>25</td>\n",
       "      <td>6</td>\n",
       "      <td>3</td>\n",
       "      <td>2</td>\n",
       "      <td>2009</td>\n",
       "    </tr>\n",
       "    <tr>\n",
       "      <th>1599996</th>\n",
       "      <td>2009-06-25 17:28:28</td>\n",
       "      <td>Gmail is down?</td>\n",
       "      <td>bigenya</td>\n",
       "      <td>25</td>\n",
       "      <td>6</td>\n",
       "      <td>3</td>\n",
       "      <td>2</td>\n",
       "      <td>2009</td>\n",
       "    </tr>\n",
       "    <tr>\n",
       "      <th>1599997</th>\n",
       "      <td>2009-06-25 17:28:30</td>\n",
       "      <td>rest in peace Farrah! So sad</td>\n",
       "      <td>LeeLHoke</td>\n",
       "      <td>25</td>\n",
       "      <td>6</td>\n",
       "      <td>3</td>\n",
       "      <td>2</td>\n",
       "      <td>2009</td>\n",
       "    </tr>\n",
       "    <tr>\n",
       "      <th>1599998</th>\n",
       "      <td>2009-06-25 17:28:30</td>\n",
       "      <td>@Eric_Urbane Sounds like a rival is flagging y...</td>\n",
       "      <td>davidlmulder</td>\n",
       "      <td>25</td>\n",
       "      <td>6</td>\n",
       "      <td>3</td>\n",
       "      <td>2</td>\n",
       "      <td>2009</td>\n",
       "    </tr>\n",
       "    <tr>\n",
       "      <th>1599999</th>\n",
       "      <td>2009-06-25 17:28:31</td>\n",
       "      <td>has to resit exams over summer...  wishes he w...</td>\n",
       "      <td>tpchandler</td>\n",
       "      <td>25</td>\n",
       "      <td>6</td>\n",
       "      <td>3</td>\n",
       "      <td>2</td>\n",
       "      <td>2009</td>\n",
       "    </tr>\n",
       "  </tbody>\n",
       "</table>\n",
       "<p>1598127 rows × 8 columns</p>\n",
       "</div>"
      ],
      "text/plain": [
       "                       date  \\\n",
       "0       2009-04-07 05:19:45   \n",
       "1       2009-04-07 05:19:49   \n",
       "2       2009-04-07 05:19:53   \n",
       "3       2009-04-07 05:19:57   \n",
       "4       2009-04-07 05:19:57   \n",
       "...                     ...   \n",
       "1599995 2009-06-25 17:28:28   \n",
       "1599996 2009-06-25 17:28:28   \n",
       "1599997 2009-06-25 17:28:30   \n",
       "1599998 2009-06-25 17:28:30   \n",
       "1599999 2009-06-25 17:28:31   \n",
       "\n",
       "                                                      text             user  \\\n",
       "0        @switchfoot http://twitpic.com/2y1zl - Awww, t...  _TheSpecialOne_   \n",
       "1        is upset that he can't update his Facebook by ...    scotthamilton   \n",
       "2        @Kenichan I dived many times for the ball. Man...         mattycus   \n",
       "3          my whole body feels itchy and like its on fire           ElleCTF   \n",
       "4        @nationwideclass no, it's not behaving at all....           Karoli   \n",
       "...                                                    ...              ...   \n",
       "1599995  Sick  Spending my day laying in bed listening ...         dandykim   \n",
       "1599996                                    Gmail is down?           bigenya   \n",
       "1599997                      rest in peace Farrah! So sad          LeeLHoke   \n",
       "1599998  @Eric_Urbane Sounds like a rival is flagging y...     davidlmulder   \n",
       "1599999  has to resit exams over summer...  wishes he w...       tpchandler   \n",
       "\n",
       "         day  month  day_of_week  quarter  year  \n",
       "0          7      4            1        2  2009  \n",
       "1          7      4            1        2  2009  \n",
       "2          7      4            1        2  2009  \n",
       "3          7      4            1        2  2009  \n",
       "4          7      4            1        2  2009  \n",
       "...      ...    ...          ...      ...   ...  \n",
       "1599995   25      6            3        2  2009  \n",
       "1599996   25      6            3        2  2009  \n",
       "1599997   25      6            3        2  2009  \n",
       "1599998   25      6            3        2  2009  \n",
       "1599999   25      6            3        2  2009  \n",
       "\n",
       "[1598127 rows x 8 columns]"
      ]
     },
     "execution_count": 25,
     "metadata": {},
     "output_type": "execute_result"
    }
   ],
   "source": [
    "#Drop duplicates based on user, text, and date\n",
    "df = df.drop_duplicates(subset=['user', 'text', 'date'])\n",
    "\n",
    "print(\"DataFrame after dropping duplicates based on user, text, and date:\")\n",
    "df"
   ]
  },
  {
   "cell_type": "code",
   "execution_count": 26,
   "id": "84b3d873",
   "metadata": {},
   "outputs": [
    {
     "data": {
      "text/plain": [
       "(1598127, 8)"
      ]
     },
     "execution_count": 26,
     "metadata": {},
     "output_type": "execute_result"
    }
   ],
   "source": [
    "#Check size of dataset after dropping duplicates\n",
    "df.shape"
   ]
  },
  {
   "cell_type": "code",
   "execution_count": 27,
   "id": "e4b7199a",
   "metadata": {},
   "outputs": [
    {
     "name": "stdout",
     "output_type": "stream",
     "text": [
      "Duplicate rows based on user, date, and text:\n",
      "Empty DataFrame\n",
      "Columns: [date, text, user, day, month, day_of_week, quarter, year]\n",
      "Index: []\n"
     ]
    }
   ],
   "source": [
    "#Check if the duplicates based on user, date, and text have been dropped\n",
    "duplicates = df.duplicated(subset=['user', 'date', 'text'], keep=False)\n",
    "\n",
    "# Filter the DataFrame to show only the duplicate rows\n",
    "duplicate_rows = df[duplicates]\n",
    "\n",
    "print(\"Duplicate rows based on user, date, and text:\")\n",
    "print(duplicate_rows)"
   ]
  },
  {
   "cell_type": "markdown",
   "id": "7f687dcd",
   "metadata": {},
   "source": [
    "## Findings\n",
    "Duplicates have been dropped."
   ]
  },
  {
   "cell_type": "code",
   "execution_count": 28,
   "id": "a1f69b71",
   "metadata": {},
   "outputs": [
    {
     "data": {
      "text/plain": [
       "date           0\n",
       "text           0\n",
       "user           0\n",
       "day            0\n",
       "month          0\n",
       "day_of_week    0\n",
       "quarter        0\n",
       "year           0\n",
       "dtype: int64"
      ]
     },
     "execution_count": 28,
     "metadata": {},
     "output_type": "execute_result"
    }
   ],
   "source": [
    "#Check for Null Rows\n",
    "df.isnull().sum()"
   ]
  },
  {
   "cell_type": "code",
   "execution_count": 29,
   "id": "7fe6ba1c",
   "metadata": {},
   "outputs": [
    {
     "data": {
      "text/html": [
       "<div>\n",
       "<style scoped>\n",
       "    .dataframe tbody tr th:only-of-type {\n",
       "        vertical-align: middle;\n",
       "    }\n",
       "\n",
       "    .dataframe tbody tr th {\n",
       "        vertical-align: top;\n",
       "    }\n",
       "\n",
       "    .dataframe thead th {\n",
       "        text-align: right;\n",
       "    }\n",
       "</style>\n",
       "<table border=\"1\" class=\"dataframe\">\n",
       "  <thead>\n",
       "    <tr style=\"text-align: right;\">\n",
       "      <th></th>\n",
       "      <th>date</th>\n",
       "      <th>text</th>\n",
       "      <th>user</th>\n",
       "      <th>day</th>\n",
       "      <th>month</th>\n",
       "      <th>day_of_week</th>\n",
       "      <th>quarter</th>\n",
       "      <th>year</th>\n",
       "    </tr>\n",
       "  </thead>\n",
       "  <tbody>\n",
       "    <tr>\n",
       "      <th>0</th>\n",
       "      <td>2009-04-07 05:19:45</td>\n",
       "      <td>@switchfoot http://twitpic.com/2y1zl - Awww, t...</td>\n",
       "      <td>_TheSpecialOne_</td>\n",
       "      <td>7</td>\n",
       "      <td>4</td>\n",
       "      <td>1</td>\n",
       "      <td>2</td>\n",
       "      <td>2009</td>\n",
       "    </tr>\n",
       "    <tr>\n",
       "      <th>1</th>\n",
       "      <td>2009-04-07 05:19:49</td>\n",
       "      <td>is upset that he can't update his Facebook by ...</td>\n",
       "      <td>scotthamilton</td>\n",
       "      <td>7</td>\n",
       "      <td>4</td>\n",
       "      <td>1</td>\n",
       "      <td>2</td>\n",
       "      <td>2009</td>\n",
       "    </tr>\n",
       "    <tr>\n",
       "      <th>2</th>\n",
       "      <td>2009-04-07 05:19:53</td>\n",
       "      <td>@Kenichan I dived many times for the ball. Man...</td>\n",
       "      <td>mattycus</td>\n",
       "      <td>7</td>\n",
       "      <td>4</td>\n",
       "      <td>1</td>\n",
       "      <td>2</td>\n",
       "      <td>2009</td>\n",
       "    </tr>\n",
       "    <tr>\n",
       "      <th>3</th>\n",
       "      <td>2009-04-07 05:19:57</td>\n",
       "      <td>my whole body feels itchy and like its on fire</td>\n",
       "      <td>ElleCTF</td>\n",
       "      <td>7</td>\n",
       "      <td>4</td>\n",
       "      <td>1</td>\n",
       "      <td>2</td>\n",
       "      <td>2009</td>\n",
       "    </tr>\n",
       "    <tr>\n",
       "      <th>4</th>\n",
       "      <td>2009-04-07 05:19:57</td>\n",
       "      <td>@nationwideclass no, it's not behaving at all....</td>\n",
       "      <td>Karoli</td>\n",
       "      <td>7</td>\n",
       "      <td>4</td>\n",
       "      <td>1</td>\n",
       "      <td>2</td>\n",
       "      <td>2009</td>\n",
       "    </tr>\n",
       "  </tbody>\n",
       "</table>\n",
       "</div>"
      ],
      "text/plain": [
       "                 date                                               text  \\\n",
       "0 2009-04-07 05:19:45  @switchfoot http://twitpic.com/2y1zl - Awww, t...   \n",
       "1 2009-04-07 05:19:49  is upset that he can't update his Facebook by ...   \n",
       "2 2009-04-07 05:19:53  @Kenichan I dived many times for the ball. Man...   \n",
       "3 2009-04-07 05:19:57    my whole body feels itchy and like its on fire    \n",
       "4 2009-04-07 05:19:57  @nationwideclass no, it's not behaving at all....   \n",
       "\n",
       "              user  day  month  day_of_week  quarter  year  \n",
       "0  _TheSpecialOne_    7      4            1        2  2009  \n",
       "1    scotthamilton    7      4            1        2  2009  \n",
       "2         mattycus    7      4            1        2  2009  \n",
       "3          ElleCTF    7      4            1        2  2009  \n",
       "4           Karoli    7      4            1        2  2009  "
      ]
     },
     "execution_count": 29,
     "metadata": {},
     "output_type": "execute_result"
    }
   ],
   "source": [
    "df.head(5)"
   ]
  },
  {
   "cell_type": "code",
   "execution_count": 30,
   "id": "94fbc238",
   "metadata": {},
   "outputs": [],
   "source": [
    "#reset the index after dropping duplicates\n",
    "df = df.reset_index(drop=True)"
   ]
  },
  {
   "cell_type": "markdown",
   "id": "1ce6867a",
   "metadata": {},
   "source": [
    "# EDA of the Texts"
   ]
  },
  {
   "cell_type": "code",
   "execution_count": 31,
   "id": "4b3ad5ad",
   "metadata": {},
   "outputs": [],
   "source": [
    "#Count the number of words in the text\n",
    "df['word_count'] = df['text'].apply(lambda x: len(str(x).split(\" \")))"
   ]
  },
  {
   "cell_type": "code",
   "execution_count": 32,
   "id": "018914ee",
   "metadata": {},
   "outputs": [
    {
     "data": {
      "text/html": [
       "<div>\n",
       "<style scoped>\n",
       "    .dataframe tbody tr th:only-of-type {\n",
       "        vertical-align: middle;\n",
       "    }\n",
       "\n",
       "    .dataframe tbody tr th {\n",
       "        vertical-align: top;\n",
       "    }\n",
       "\n",
       "    .dataframe thead th {\n",
       "        text-align: right;\n",
       "    }\n",
       "</style>\n",
       "<table border=\"1\" class=\"dataframe\">\n",
       "  <thead>\n",
       "    <tr style=\"text-align: right;\">\n",
       "      <th></th>\n",
       "      <th>text</th>\n",
       "      <th>word_count</th>\n",
       "    </tr>\n",
       "  </thead>\n",
       "  <tbody>\n",
       "    <tr>\n",
       "      <th>0</th>\n",
       "      <td>@switchfoot http://twitpic.com/2y1zl - Awww, t...</td>\n",
       "      <td>20</td>\n",
       "    </tr>\n",
       "    <tr>\n",
       "      <th>1</th>\n",
       "      <td>is upset that he can't update his Facebook by ...</td>\n",
       "      <td>22</td>\n",
       "    </tr>\n",
       "    <tr>\n",
       "      <th>2</th>\n",
       "      <td>@Kenichan I dived many times for the ball. Man...</td>\n",
       "      <td>19</td>\n",
       "    </tr>\n",
       "    <tr>\n",
       "      <th>3</th>\n",
       "      <td>my whole body feels itchy and like its on fire</td>\n",
       "      <td>11</td>\n",
       "    </tr>\n",
       "    <tr>\n",
       "      <th>4</th>\n",
       "      <td>@nationwideclass no, it's not behaving at all....</td>\n",
       "      <td>22</td>\n",
       "    </tr>\n",
       "  </tbody>\n",
       "</table>\n",
       "</div>"
      ],
      "text/plain": [
       "                                                text  word_count\n",
       "0  @switchfoot http://twitpic.com/2y1zl - Awww, t...          20\n",
       "1  is upset that he can't update his Facebook by ...          22\n",
       "2  @Kenichan I dived many times for the ball. Man...          19\n",
       "3    my whole body feels itchy and like its on fire           11\n",
       "4  @nationwideclass no, it's not behaving at all....          22"
      ]
     },
     "execution_count": 32,
     "metadata": {},
     "output_type": "execute_result"
    }
   ],
   "source": [
    "df[[\"text\",\"word_count\"]].head(5)"
   ]
  },
  {
   "cell_type": "code",
   "execution_count": 33,
   "id": "65ad9cdc",
   "metadata": {},
   "outputs": [
    {
     "data": {
      "text/plain": [
       "110"
      ]
     },
     "execution_count": 33,
     "metadata": {},
     "output_type": "execute_result"
    }
   ],
   "source": [
    "#Find the maximum number of words in the 'word_count' variable of the 'df' DataFrame\n",
    "largest_word_count = df[\"word_count\"].max()\n",
    "largest_word_count"
   ]
  },
  {
   "cell_type": "code",
   "execution_count": 34,
   "id": "3b909d09",
   "metadata": {},
   "outputs": [],
   "source": [
    "#Count the number of characters in the text variable\n",
    "df['char_count'] = df['text'].str.len() "
   ]
  },
  {
   "cell_type": "code",
   "execution_count": 35,
   "id": "87c5384e",
   "metadata": {},
   "outputs": [
    {
     "data": {
      "text/html": [
       "<div>\n",
       "<style scoped>\n",
       "    .dataframe tbody tr th:only-of-type {\n",
       "        vertical-align: middle;\n",
       "    }\n",
       "\n",
       "    .dataframe tbody tr th {\n",
       "        vertical-align: top;\n",
       "    }\n",
       "\n",
       "    .dataframe thead th {\n",
       "        text-align: right;\n",
       "    }\n",
       "</style>\n",
       "<table border=\"1\" class=\"dataframe\">\n",
       "  <thead>\n",
       "    <tr style=\"text-align: right;\">\n",
       "      <th></th>\n",
       "      <th>text</th>\n",
       "      <th>char_count</th>\n",
       "    </tr>\n",
       "  </thead>\n",
       "  <tbody>\n",
       "    <tr>\n",
       "      <th>0</th>\n",
       "      <td>@switchfoot http://twitpic.com/2y1zl - Awww, t...</td>\n",
       "      <td>115</td>\n",
       "    </tr>\n",
       "    <tr>\n",
       "      <th>1</th>\n",
       "      <td>is upset that he can't update his Facebook by ...</td>\n",
       "      <td>111</td>\n",
       "    </tr>\n",
       "    <tr>\n",
       "      <th>2</th>\n",
       "      <td>@Kenichan I dived many times for the ball. Man...</td>\n",
       "      <td>89</td>\n",
       "    </tr>\n",
       "    <tr>\n",
       "      <th>3</th>\n",
       "      <td>my whole body feels itchy and like its on fire</td>\n",
       "      <td>47</td>\n",
       "    </tr>\n",
       "    <tr>\n",
       "      <th>4</th>\n",
       "      <td>@nationwideclass no, it's not behaving at all....</td>\n",
       "      <td>111</td>\n",
       "    </tr>\n",
       "  </tbody>\n",
       "</table>\n",
       "</div>"
      ],
      "text/plain": [
       "                                                text  char_count\n",
       "0  @switchfoot http://twitpic.com/2y1zl - Awww, t...         115\n",
       "1  is upset that he can't update his Facebook by ...         111\n",
       "2  @Kenichan I dived many times for the ball. Man...          89\n",
       "3    my whole body feels itchy and like its on fire           47\n",
       "4  @nationwideclass no, it's not behaving at all....         111"
      ]
     },
     "execution_count": 35,
     "metadata": {},
     "output_type": "execute_result"
    }
   ],
   "source": [
    "#View the head of the char_count and text\n",
    "df[[\"text\",\"char_count\"]].head(5)"
   ]
  },
  {
   "cell_type": "code",
   "execution_count": 36,
   "id": "680c9175",
   "metadata": {},
   "outputs": [
    {
     "data": {
      "text/plain": [
       "374"
      ]
     },
     "execution_count": 36,
     "metadata": {},
     "output_type": "execute_result"
    }
   ],
   "source": [
    "#Find the maximum number of characters in the 'char_count' variable of the 'df' DataFrame\n",
    "largest_char_count = df[\"char_count\"].max()\n",
    "largest_char_count"
   ]
  },
  {
   "cell_type": "code",
   "execution_count": 37,
   "id": "0beff2af",
   "metadata": {},
   "outputs": [],
   "source": [
    "#define a function to calculate the average length of words in a sentence\n",
    "def avg_word(sentence):\n",
    "  words = sentence.split()\n",
    "  return (sum(len(word) for word in words)/len(words))"
   ]
  },
  {
   "cell_type": "code",
   "execution_count": 38,
   "id": "42fcb0d6",
   "metadata": {},
   "outputs": [],
   "source": [
    "#Apply the avg_word function on text\n",
    "df['avg_word'] = df['text'].apply(lambda x: avg_word(x))"
   ]
  },
  {
   "cell_type": "code",
   "execution_count": 39,
   "id": "a999cf82",
   "metadata": {},
   "outputs": [
    {
     "data": {
      "text/html": [
       "<div>\n",
       "<style scoped>\n",
       "    .dataframe tbody tr th:only-of-type {\n",
       "        vertical-align: middle;\n",
       "    }\n",
       "\n",
       "    .dataframe tbody tr th {\n",
       "        vertical-align: top;\n",
       "    }\n",
       "\n",
       "    .dataframe thead th {\n",
       "        text-align: right;\n",
       "    }\n",
       "</style>\n",
       "<table border=\"1\" class=\"dataframe\">\n",
       "  <thead>\n",
       "    <tr style=\"text-align: right;\">\n",
       "      <th></th>\n",
       "      <th>text</th>\n",
       "      <th>avg_word</th>\n",
       "    </tr>\n",
       "  </thead>\n",
       "  <tbody>\n",
       "    <tr>\n",
       "      <th>0</th>\n",
       "      <td>@switchfoot http://twitpic.com/2y1zl - Awww, t...</td>\n",
       "      <td>5.052632</td>\n",
       "    </tr>\n",
       "    <tr>\n",
       "      <th>1</th>\n",
       "      <td>is upset that he can't update his Facebook by ...</td>\n",
       "      <td>4.285714</td>\n",
       "    </tr>\n",
       "    <tr>\n",
       "      <th>2</th>\n",
       "      <td>@Kenichan I dived many times for the ball. Man...</td>\n",
       "      <td>3.944444</td>\n",
       "    </tr>\n",
       "    <tr>\n",
       "      <th>3</th>\n",
       "      <td>my whole body feels itchy and like its on fire</td>\n",
       "      <td>3.700000</td>\n",
       "    </tr>\n",
       "    <tr>\n",
       "      <th>4</th>\n",
       "      <td>@nationwideclass no, it's not behaving at all....</td>\n",
       "      <td>4.285714</td>\n",
       "    </tr>\n",
       "  </tbody>\n",
       "</table>\n",
       "</div>"
      ],
      "text/plain": [
       "                                                text  avg_word\n",
       "0  @switchfoot http://twitpic.com/2y1zl - Awww, t...  5.052632\n",
       "1  is upset that he can't update his Facebook by ...  4.285714\n",
       "2  @Kenichan I dived many times for the ball. Man...  3.944444\n",
       "3    my whole body feels itchy and like its on fire   3.700000\n",
       "4  @nationwideclass no, it's not behaving at all....  4.285714"
      ]
     },
     "execution_count": 39,
     "metadata": {},
     "output_type": "execute_result"
    }
   ],
   "source": [
    "#View text and avg_word\n",
    "df[['text','avg_word']].head()"
   ]
  },
  {
   "cell_type": "code",
   "execution_count": 40,
   "id": "6f92a8d3",
   "metadata": {},
   "outputs": [
    {
     "data": {
      "text/plain": [
       "137.0"
      ]
     },
     "execution_count": 40,
     "metadata": {},
     "output_type": "execute_result"
    }
   ],
   "source": [
    "#Find the highest average word count of the 'df' DataFrame\n",
    "highest_avg_word = df[\"avg_word\"].max()\n",
    "highest_avg_word"
   ]
  },
  {
   "cell_type": "code",
   "execution_count": 41,
   "id": "e6ba8f00",
   "metadata": {},
   "outputs": [],
   "source": [
    "import nltk\n",
    "from nltk.corpus import stopwords\n",
    "stop = stopwords.words('english')"
   ]
  },
  {
   "cell_type": "code",
   "execution_count": 42,
   "id": "73ae7115",
   "metadata": {},
   "outputs": [
    {
     "data": {
      "text/html": [
       "<div>\n",
       "<style scoped>\n",
       "    .dataframe tbody tr th:only-of-type {\n",
       "        vertical-align: middle;\n",
       "    }\n",
       "\n",
       "    .dataframe tbody tr th {\n",
       "        vertical-align: top;\n",
       "    }\n",
       "\n",
       "    .dataframe thead th {\n",
       "        text-align: right;\n",
       "    }\n",
       "</style>\n",
       "<table border=\"1\" class=\"dataframe\">\n",
       "  <thead>\n",
       "    <tr style=\"text-align: right;\">\n",
       "      <th></th>\n",
       "      <th>text</th>\n",
       "      <th>stopwords</th>\n",
       "    </tr>\n",
       "  </thead>\n",
       "  <tbody>\n",
       "    <tr>\n",
       "      <th>0</th>\n",
       "      <td>@switchfoot http://twitpic.com/2y1zl - Awww, t...</td>\n",
       "      <td>4</td>\n",
       "    </tr>\n",
       "    <tr>\n",
       "      <th>1</th>\n",
       "      <td>is upset that he can't update his Facebook by ...</td>\n",
       "      <td>8</td>\n",
       "    </tr>\n",
       "    <tr>\n",
       "      <th>2</th>\n",
       "      <td>@Kenichan I dived many times for the ball. Man...</td>\n",
       "      <td>5</td>\n",
       "    </tr>\n",
       "    <tr>\n",
       "      <th>3</th>\n",
       "      <td>my whole body feels itchy and like its on fire</td>\n",
       "      <td>4</td>\n",
       "    </tr>\n",
       "    <tr>\n",
       "      <th>4</th>\n",
       "      <td>@nationwideclass no, it's not behaving at all....</td>\n",
       "      <td>10</td>\n",
       "    </tr>\n",
       "  </tbody>\n",
       "</table>\n",
       "</div>"
      ],
      "text/plain": [
       "                                                text  stopwords\n",
       "0  @switchfoot http://twitpic.com/2y1zl - Awww, t...          4\n",
       "1  is upset that he can't update his Facebook by ...          8\n",
       "2  @Kenichan I dived many times for the ball. Man...          5\n",
       "3    my whole body feels itchy and like its on fire           4\n",
       "4  @nationwideclass no, it's not behaving at all....         10"
      ]
     },
     "execution_count": 42,
     "metadata": {},
     "output_type": "execute_result"
    }
   ],
   "source": [
    "#count number of stopwords in each text and store in a variable called stopwords\n",
    "df['stopwords'] = df['text'].apply(lambda x: len([x for x in x.split() if x in stop]))\n",
    "df[['text','stopwords']].head(5)"
   ]
  },
  {
   "cell_type": "code",
   "execution_count": 43,
   "id": "36e433a8",
   "metadata": {},
   "outputs": [
    {
     "data": {
      "text/plain": [
       "25"
      ]
     },
     "execution_count": 43,
     "metadata": {},
     "output_type": "execute_result"
    }
   ],
   "source": [
    "#Find the maximum number of stopwords in the 'df' DataFrame\n",
    "maximum_no_stopwords = df[\"stopwords\"].max()\n",
    "maximum_no_stopwords"
   ]
  },
  {
   "cell_type": "code",
   "execution_count": 44,
   "id": "3867b8b1",
   "metadata": {},
   "outputs": [
    {
     "data": {
      "text/html": [
       "<div>\n",
       "<style scoped>\n",
       "    .dataframe tbody tr th:only-of-type {\n",
       "        vertical-align: middle;\n",
       "    }\n",
       "\n",
       "    .dataframe tbody tr th {\n",
       "        vertical-align: top;\n",
       "    }\n",
       "\n",
       "    .dataframe thead th {\n",
       "        text-align: right;\n",
       "    }\n",
       "</style>\n",
       "<table border=\"1\" class=\"dataframe\">\n",
       "  <thead>\n",
       "    <tr style=\"text-align: right;\">\n",
       "      <th></th>\n",
       "      <th>text</th>\n",
       "      <th>hashtags</th>\n",
       "    </tr>\n",
       "  </thead>\n",
       "  <tbody>\n",
       "    <tr>\n",
       "      <th>0</th>\n",
       "      <td>@switchfoot http://twitpic.com/2y1zl - Awww, t...</td>\n",
       "      <td>0</td>\n",
       "    </tr>\n",
       "    <tr>\n",
       "      <th>1</th>\n",
       "      <td>is upset that he can't update his Facebook by ...</td>\n",
       "      <td>0</td>\n",
       "    </tr>\n",
       "    <tr>\n",
       "      <th>2</th>\n",
       "      <td>@Kenichan I dived many times for the ball. Man...</td>\n",
       "      <td>0</td>\n",
       "    </tr>\n",
       "    <tr>\n",
       "      <th>3</th>\n",
       "      <td>my whole body feels itchy and like its on fire</td>\n",
       "      <td>0</td>\n",
       "    </tr>\n",
       "    <tr>\n",
       "      <th>4</th>\n",
       "      <td>@nationwideclass no, it's not behaving at all....</td>\n",
       "      <td>0</td>\n",
       "    </tr>\n",
       "  </tbody>\n",
       "</table>\n",
       "</div>"
      ],
      "text/plain": [
       "                                                text  hashtags\n",
       "0  @switchfoot http://twitpic.com/2y1zl - Awww, t...         0\n",
       "1  is upset that he can't update his Facebook by ...         0\n",
       "2  @Kenichan I dived many times for the ball. Man...         0\n",
       "3    my whole body feels itchy and like its on fire          0\n",
       "4  @nationwideclass no, it's not behaving at all....         0"
      ]
     },
     "execution_count": 44,
     "metadata": {},
     "output_type": "execute_result"
    }
   ],
   "source": [
    "#Count number of hashtags in each text and store in a variable called hastags\n",
    "df['hashtags'] = df['text'].apply(lambda x: len([x for x in x.split() if x.startswith('#')]))\n",
    "df[['text','hashtags']].head(5)"
   ]
  },
  {
   "cell_type": "code",
   "execution_count": 45,
   "id": "d8af1d96",
   "metadata": {},
   "outputs": [
    {
     "data": {
      "text/plain": [
       "24"
      ]
     },
     "execution_count": 45,
     "metadata": {},
     "output_type": "execute_result"
    }
   ],
   "source": [
    "#Find the maximum number of hashtags in the 'df' DataFrame\n",
    "maximum_no_hashtags = df[\"hashtags\"].max()\n",
    "maximum_no_hashtags"
   ]
  },
  {
   "cell_type": "code",
   "execution_count": 46,
   "id": "215f58b6",
   "metadata": {},
   "outputs": [
    {
     "data": {
      "text/html": [
       "<div>\n",
       "<style scoped>\n",
       "    .dataframe tbody tr th:only-of-type {\n",
       "        vertical-align: middle;\n",
       "    }\n",
       "\n",
       "    .dataframe tbody tr th {\n",
       "        vertical-align: top;\n",
       "    }\n",
       "\n",
       "    .dataframe thead th {\n",
       "        text-align: right;\n",
       "    }\n",
       "</style>\n",
       "<table border=\"1\" class=\"dataframe\">\n",
       "  <thead>\n",
       "    <tr style=\"text-align: right;\">\n",
       "      <th></th>\n",
       "      <th>text</th>\n",
       "      <th>at_sign</th>\n",
       "    </tr>\n",
       "  </thead>\n",
       "  <tbody>\n",
       "    <tr>\n",
       "      <th>0</th>\n",
       "      <td>@switchfoot http://twitpic.com/2y1zl - Awww, t...</td>\n",
       "      <td>1</td>\n",
       "    </tr>\n",
       "    <tr>\n",
       "      <th>1</th>\n",
       "      <td>is upset that he can't update his Facebook by ...</td>\n",
       "      <td>0</td>\n",
       "    </tr>\n",
       "    <tr>\n",
       "      <th>2</th>\n",
       "      <td>@Kenichan I dived many times for the ball. Man...</td>\n",
       "      <td>1</td>\n",
       "    </tr>\n",
       "    <tr>\n",
       "      <th>3</th>\n",
       "      <td>my whole body feels itchy and like its on fire</td>\n",
       "      <td>0</td>\n",
       "    </tr>\n",
       "    <tr>\n",
       "      <th>4</th>\n",
       "      <td>@nationwideclass no, it's not behaving at all....</td>\n",
       "      <td>1</td>\n",
       "    </tr>\n",
       "  </tbody>\n",
       "</table>\n",
       "</div>"
      ],
      "text/plain": [
       "                                                text  at_sign\n",
       "0  @switchfoot http://twitpic.com/2y1zl - Awww, t...        1\n",
       "1  is upset that he can't update his Facebook by ...        0\n",
       "2  @Kenichan I dived many times for the ball. Man...        1\n",
       "3    my whole body feels itchy and like its on fire         0\n",
       "4  @nationwideclass no, it's not behaving at all....        1"
      ]
     },
     "execution_count": 46,
     "metadata": {},
     "output_type": "execute_result"
    }
   ],
   "source": [
    "#count number of @ signs in text variable and store the value in a variable called at_sign\n",
    "df['at_sign'] = df['text'].apply(lambda x: len([x for x in x.split() if x.startswith('@')]))\n",
    "df[['text','at_sign']].head(5)"
   ]
  },
  {
   "cell_type": "code",
   "execution_count": 47,
   "id": "6ddf8416",
   "metadata": {},
   "outputs": [
    {
     "data": {
      "text/plain": [
       "12"
      ]
     },
     "execution_count": 47,
     "metadata": {},
     "output_type": "execute_result"
    }
   ],
   "source": [
    "#Find the maximum number of at_sign in the 'df' DataFrame\n",
    "maximum_no_atsign = df[\"at_sign\"].max()\n",
    "maximum_no_atsign"
   ]
  },
  {
   "cell_type": "code",
   "execution_count": 48,
   "id": "97dc763c",
   "metadata": {},
   "outputs": [
    {
     "data": {
      "text/html": [
       "<div>\n",
       "<style scoped>\n",
       "    .dataframe tbody tr th:only-of-type {\n",
       "        vertical-align: middle;\n",
       "    }\n",
       "\n",
       "    .dataframe tbody tr th {\n",
       "        vertical-align: top;\n",
       "    }\n",
       "\n",
       "    .dataframe thead th {\n",
       "        text-align: right;\n",
       "    }\n",
       "</style>\n",
       "<table border=\"1\" class=\"dataframe\">\n",
       "  <thead>\n",
       "    <tr style=\"text-align: right;\">\n",
       "      <th></th>\n",
       "      <th>text</th>\n",
       "      <th>numerics</th>\n",
       "    </tr>\n",
       "  </thead>\n",
       "  <tbody>\n",
       "    <tr>\n",
       "      <th>0</th>\n",
       "      <td>@switchfoot http://twitpic.com/2y1zl - Awww, t...</td>\n",
       "      <td>0</td>\n",
       "    </tr>\n",
       "    <tr>\n",
       "      <th>1</th>\n",
       "      <td>is upset that he can't update his Facebook by ...</td>\n",
       "      <td>0</td>\n",
       "    </tr>\n",
       "    <tr>\n",
       "      <th>2</th>\n",
       "      <td>@Kenichan I dived many times for the ball. Man...</td>\n",
       "      <td>0</td>\n",
       "    </tr>\n",
       "    <tr>\n",
       "      <th>3</th>\n",
       "      <td>my whole body feels itchy and like its on fire</td>\n",
       "      <td>0</td>\n",
       "    </tr>\n",
       "    <tr>\n",
       "      <th>4</th>\n",
       "      <td>@nationwideclass no, it's not behaving at all....</td>\n",
       "      <td>0</td>\n",
       "    </tr>\n",
       "  </tbody>\n",
       "</table>\n",
       "</div>"
      ],
      "text/plain": [
       "                                                text  numerics\n",
       "0  @switchfoot http://twitpic.com/2y1zl - Awww, t...         0\n",
       "1  is upset that he can't update his Facebook by ...         0\n",
       "2  @Kenichan I dived many times for the ball. Man...         0\n",
       "3    my whole body feels itchy and like its on fire          0\n",
       "4  @nationwideclass no, it's not behaving at all....         0"
      ]
     },
     "execution_count": 48,
     "metadata": {},
     "output_type": "execute_result"
    }
   ],
   "source": [
    "#count number of numerics in the text variable and store the value in a variable called numeric\n",
    "df['numerics'] = df['text'].apply(lambda x: len([x for x in x.split() if x.isdigit()]))\n",
    "df[['text','numerics']].head(5)"
   ]
  },
  {
   "cell_type": "code",
   "execution_count": 49,
   "id": "257d31fb",
   "metadata": {},
   "outputs": [
    {
     "data": {
      "text/plain": [
       "13"
      ]
     },
     "execution_count": 49,
     "metadata": {},
     "output_type": "execute_result"
    }
   ],
   "source": [
    "#Find the maximum number of numerics in the 'df' DataFrame\n",
    "maximum_no_numerics = df[\"numerics\"].max()\n",
    "maximum_no_numerics"
   ]
  },
  {
   "cell_type": "code",
   "execution_count": 50,
   "id": "357e2bef",
   "metadata": {},
   "outputs": [
    {
     "data": {
      "text/html": [
       "<div>\n",
       "<style scoped>\n",
       "    .dataframe tbody tr th:only-of-type {\n",
       "        vertical-align: middle;\n",
       "    }\n",
       "\n",
       "    .dataframe tbody tr th {\n",
       "        vertical-align: top;\n",
       "    }\n",
       "\n",
       "    .dataframe thead th {\n",
       "        text-align: right;\n",
       "    }\n",
       "</style>\n",
       "<table border=\"1\" class=\"dataframe\">\n",
       "  <thead>\n",
       "    <tr style=\"text-align: right;\">\n",
       "      <th></th>\n",
       "      <th>text</th>\n",
       "      <th>upper</th>\n",
       "    </tr>\n",
       "  </thead>\n",
       "  <tbody>\n",
       "    <tr>\n",
       "      <th>0</th>\n",
       "      <td>@switchfoot http://twitpic.com/2y1zl - Awww, t...</td>\n",
       "      <td>1</td>\n",
       "    </tr>\n",
       "    <tr>\n",
       "      <th>1</th>\n",
       "      <td>is upset that he can't update his Facebook by ...</td>\n",
       "      <td>0</td>\n",
       "    </tr>\n",
       "    <tr>\n",
       "      <th>2</th>\n",
       "      <td>@Kenichan I dived many times for the ball. Man...</td>\n",
       "      <td>1</td>\n",
       "    </tr>\n",
       "    <tr>\n",
       "      <th>3</th>\n",
       "      <td>my whole body feels itchy and like its on fire</td>\n",
       "      <td>0</td>\n",
       "    </tr>\n",
       "    <tr>\n",
       "      <th>4</th>\n",
       "      <td>@nationwideclass no, it's not behaving at all....</td>\n",
       "      <td>1</td>\n",
       "    </tr>\n",
       "  </tbody>\n",
       "</table>\n",
       "</div>"
      ],
      "text/plain": [
       "                                                text  upper\n",
       "0  @switchfoot http://twitpic.com/2y1zl - Awww, t...      1\n",
       "1  is upset that he can't update his Facebook by ...      0\n",
       "2  @Kenichan I dived many times for the ball. Man...      1\n",
       "3    my whole body feels itchy and like its on fire       0\n",
       "4  @nationwideclass no, it's not behaving at all....      1"
      ]
     },
     "execution_count": 50,
     "metadata": {},
     "output_type": "execute_result"
    }
   ],
   "source": [
    "#count number of uppercases in the text variable and store the value in a variable called upper\n",
    "df['upper'] = df['text'].apply(lambda x: len([x for x in x.split() if x.isupper()]))\n",
    "df[['text','upper']].head(5)"
   ]
  },
  {
   "cell_type": "code",
   "execution_count": 51,
   "id": "bfaf7b04",
   "metadata": {},
   "outputs": [
    {
     "data": {
      "text/plain": [
       "40"
      ]
     },
     "execution_count": 51,
     "metadata": {},
     "output_type": "execute_result"
    }
   ],
   "source": [
    "#Find the maximum number of uppercases in the 'df' DataFrame\n",
    "maximum_no_uppercases = df[\"upper\"].max()\n",
    "maximum_no_uppercases"
   ]
  },
  {
   "cell_type": "code",
   "execution_count": 52,
   "id": "067877a7",
   "metadata": {},
   "outputs": [
    {
     "data": {
      "text/plain": [
       "date           0\n",
       "text           0\n",
       "user           0\n",
       "day            0\n",
       "month          0\n",
       "day_of_week    0\n",
       "quarter        0\n",
       "year           0\n",
       "word_count     0\n",
       "char_count     0\n",
       "avg_word       0\n",
       "stopwords      0\n",
       "hashtags       0\n",
       "at_sign        0\n",
       "numerics       0\n",
       "upper          0\n",
       "dtype: int64"
      ]
     },
     "execution_count": 52,
     "metadata": {},
     "output_type": "execute_result"
    }
   ],
   "source": [
    "df.isnull().sum()"
   ]
  },
  {
   "cell_type": "code",
   "execution_count": 53,
   "id": "7577f454",
   "metadata": {},
   "outputs": [
    {
     "name": "stdout",
     "output_type": "stream",
     "text": [
      "Number of duplicate rows: 0\n"
     ]
    }
   ],
   "source": [
    "# Count the duplicate rows in the DataFrame\n",
    "duplicate_count = df.duplicated().sum()\n",
    "\n",
    "print(\"Number of duplicate rows:\", duplicate_count)"
   ]
  },
  {
   "cell_type": "markdown",
   "id": "032a4fed",
   "metadata": {},
   "source": [
    "## Tweets Processing\n",
    "Tweet/text processing involves:-\n",
    "\n",
    "a) Text Normalization \n",
    "- Remove special characters\n",
    "- Change the upper cases to lower cases\n",
    "- Remove numbers/integers\n",
    "- Remove punctuations\n",
    "- Remove white space\n",
    "- Remove URLS/links\n",
    "\n",
    "b) Tokenization\n",
    "- Tokenization\n",
    "\n",
    "c) Remove stopwords\n",
    "\n",
    "d) Stemming/ lemmatization"
   ]
  },
  {
   "cell_type": "markdown",
   "id": "c6259fe3",
   "metadata": {},
   "source": [
    "## Text Normalization"
   ]
  },
  {
   "cell_type": "markdown",
   "id": "62f8d621",
   "metadata": {},
   "source": [
    "### Remove user name from text @username"
   ]
  },
  {
   "cell_type": "code",
   "execution_count": 54,
   "id": "0897a6a0",
   "metadata": {},
   "outputs": [
    {
     "name": "stdout",
     "output_type": "stream",
     "text": [
      "0     http://twitpic.com/2y1zl - Awww, that's a bum...\n",
      "1    is upset that he can't update his Facebook by ...\n",
      "2     I dived many times for the ball. Managed to s...\n",
      "3      my whole body feels itchy and like its on fire \n",
      "4     no, it's not behaving at all. i'm mad. why am...\n",
      "Name: text1, dtype: object\n"
     ]
    }
   ],
   "source": [
    "import re\n",
    "\n",
    "#Define a function to remove user names from text\n",
    "def remove_usernames(text):\n",
    "    return re.sub(r'@\\w+', '', text)\n",
    "\n",
    "#Apply the function to the 'text' variable\n",
    "df['text1'] = df['text'].apply(remove_usernames)\n",
    "\n",
    "# Print the first few rows of the DataFrame with user names removed from text\n",
    "print(df['text1'].head())\n"
   ]
  },
  {
   "cell_type": "markdown",
   "id": "0367d5f5",
   "metadata": {},
   "source": [
    "### Remove url/www.links"
   ]
  },
  {
   "cell_type": "code",
   "execution_count": 55,
   "id": "b9af8b72",
   "metadata": {},
   "outputs": [],
   "source": [
    "import re\n",
    "\n",
    "def remove_urls(df):\n",
    "    #Define regex pattern to match URLs\n",
    "    url_pattern = r'https?://\\S+|www\\.\\S+'\n",
    "    \n",
    "    #Apply regex substitution to each row of the 'text' column\n",
    "    df['text1'] = df['text1'].apply(lambda text: re.sub(url_pattern, '', text))\n",
    "    \n",
    "    return df\n",
    "\n",
    "# remove a url\n",
    "df = remove_urls(df)\n"
   ]
  },
  {
   "cell_type": "code",
   "execution_count": 56,
   "id": "5b5fcfc9",
   "metadata": {},
   "outputs": [
    {
     "data": {
      "text/html": [
       "<div>\n",
       "<style scoped>\n",
       "    .dataframe tbody tr th:only-of-type {\n",
       "        vertical-align: middle;\n",
       "    }\n",
       "\n",
       "    .dataframe tbody tr th {\n",
       "        vertical-align: top;\n",
       "    }\n",
       "\n",
       "    .dataframe thead th {\n",
       "        text-align: right;\n",
       "    }\n",
       "</style>\n",
       "<table border=\"1\" class=\"dataframe\">\n",
       "  <thead>\n",
       "    <tr style=\"text-align: right;\">\n",
       "      <th></th>\n",
       "      <th>date</th>\n",
       "      <th>text</th>\n",
       "      <th>user</th>\n",
       "      <th>day</th>\n",
       "      <th>month</th>\n",
       "      <th>day_of_week</th>\n",
       "      <th>quarter</th>\n",
       "      <th>year</th>\n",
       "      <th>word_count</th>\n",
       "      <th>char_count</th>\n",
       "      <th>avg_word</th>\n",
       "      <th>stopwords</th>\n",
       "      <th>hashtags</th>\n",
       "      <th>at_sign</th>\n",
       "      <th>numerics</th>\n",
       "      <th>upper</th>\n",
       "      <th>text1</th>\n",
       "    </tr>\n",
       "  </thead>\n",
       "  <tbody>\n",
       "    <tr>\n",
       "      <th>0</th>\n",
       "      <td>2009-04-07 05:19:45</td>\n",
       "      <td>@switchfoot http://twitpic.com/2y1zl - Awww, t...</td>\n",
       "      <td>_TheSpecialOne_</td>\n",
       "      <td>7</td>\n",
       "      <td>4</td>\n",
       "      <td>1</td>\n",
       "      <td>2</td>\n",
       "      <td>2009</td>\n",
       "      <td>20</td>\n",
       "      <td>115</td>\n",
       "      <td>5.052632</td>\n",
       "      <td>4</td>\n",
       "      <td>0</td>\n",
       "      <td>1</td>\n",
       "      <td>0</td>\n",
       "      <td>1</td>\n",
       "      <td>- Awww, that's a bummer.  You shoulda got Da...</td>\n",
       "    </tr>\n",
       "    <tr>\n",
       "      <th>1</th>\n",
       "      <td>2009-04-07 05:19:49</td>\n",
       "      <td>is upset that he can't update his Facebook by ...</td>\n",
       "      <td>scotthamilton</td>\n",
       "      <td>7</td>\n",
       "      <td>4</td>\n",
       "      <td>1</td>\n",
       "      <td>2</td>\n",
       "      <td>2009</td>\n",
       "      <td>22</td>\n",
       "      <td>111</td>\n",
       "      <td>4.285714</td>\n",
       "      <td>8</td>\n",
       "      <td>0</td>\n",
       "      <td>0</td>\n",
       "      <td>0</td>\n",
       "      <td>0</td>\n",
       "      <td>is upset that he can't update his Facebook by ...</td>\n",
       "    </tr>\n",
       "    <tr>\n",
       "      <th>2</th>\n",
       "      <td>2009-04-07 05:19:53</td>\n",
       "      <td>@Kenichan I dived many times for the ball. Man...</td>\n",
       "      <td>mattycus</td>\n",
       "      <td>7</td>\n",
       "      <td>4</td>\n",
       "      <td>1</td>\n",
       "      <td>2</td>\n",
       "      <td>2009</td>\n",
       "      <td>19</td>\n",
       "      <td>89</td>\n",
       "      <td>3.944444</td>\n",
       "      <td>5</td>\n",
       "      <td>0</td>\n",
       "      <td>1</td>\n",
       "      <td>0</td>\n",
       "      <td>1</td>\n",
       "      <td>I dived many times for the ball. Managed to s...</td>\n",
       "    </tr>\n",
       "    <tr>\n",
       "      <th>3</th>\n",
       "      <td>2009-04-07 05:19:57</td>\n",
       "      <td>my whole body feels itchy and like its on fire</td>\n",
       "      <td>ElleCTF</td>\n",
       "      <td>7</td>\n",
       "      <td>4</td>\n",
       "      <td>1</td>\n",
       "      <td>2</td>\n",
       "      <td>2009</td>\n",
       "      <td>11</td>\n",
       "      <td>47</td>\n",
       "      <td>3.700000</td>\n",
       "      <td>4</td>\n",
       "      <td>0</td>\n",
       "      <td>0</td>\n",
       "      <td>0</td>\n",
       "      <td>0</td>\n",
       "      <td>my whole body feels itchy and like its on fire</td>\n",
       "    </tr>\n",
       "    <tr>\n",
       "      <th>4</th>\n",
       "      <td>2009-04-07 05:19:57</td>\n",
       "      <td>@nationwideclass no, it's not behaving at all....</td>\n",
       "      <td>Karoli</td>\n",
       "      <td>7</td>\n",
       "      <td>4</td>\n",
       "      <td>1</td>\n",
       "      <td>2</td>\n",
       "      <td>2009</td>\n",
       "      <td>22</td>\n",
       "      <td>111</td>\n",
       "      <td>4.285714</td>\n",
       "      <td>10</td>\n",
       "      <td>0</td>\n",
       "      <td>1</td>\n",
       "      <td>0</td>\n",
       "      <td>1</td>\n",
       "      <td>no, it's not behaving at all. i'm mad. why am...</td>\n",
       "    </tr>\n",
       "  </tbody>\n",
       "</table>\n",
       "</div>"
      ],
      "text/plain": [
       "                 date                                               text  \\\n",
       "0 2009-04-07 05:19:45  @switchfoot http://twitpic.com/2y1zl - Awww, t...   \n",
       "1 2009-04-07 05:19:49  is upset that he can't update his Facebook by ...   \n",
       "2 2009-04-07 05:19:53  @Kenichan I dived many times for the ball. Man...   \n",
       "3 2009-04-07 05:19:57    my whole body feels itchy and like its on fire    \n",
       "4 2009-04-07 05:19:57  @nationwideclass no, it's not behaving at all....   \n",
       "\n",
       "              user  day  month  day_of_week  quarter  year  word_count  \\\n",
       "0  _TheSpecialOne_    7      4            1        2  2009          20   \n",
       "1    scotthamilton    7      4            1        2  2009          22   \n",
       "2         mattycus    7      4            1        2  2009          19   \n",
       "3          ElleCTF    7      4            1        2  2009          11   \n",
       "4           Karoli    7      4            1        2  2009          22   \n",
       "\n",
       "   char_count  avg_word  stopwords  hashtags  at_sign  numerics  upper  \\\n",
       "0         115  5.052632          4         0        1         0      1   \n",
       "1         111  4.285714          8         0        0         0      0   \n",
       "2          89  3.944444          5         0        1         0      1   \n",
       "3          47  3.700000          4         0        0         0      0   \n",
       "4         111  4.285714         10         0        1         0      1   \n",
       "\n",
       "                                               text1  \n",
       "0    - Awww, that's a bummer.  You shoulda got Da...  \n",
       "1  is upset that he can't update his Facebook by ...  \n",
       "2   I dived many times for the ball. Managed to s...  \n",
       "3    my whole body feels itchy and like its on fire   \n",
       "4   no, it's not behaving at all. i'm mad. why am...  "
      ]
     },
     "execution_count": 56,
     "metadata": {},
     "output_type": "execute_result"
    }
   ],
   "source": [
    "df.head(5)"
   ]
  },
  {
   "cell_type": "markdown",
   "id": "05504883",
   "metadata": {},
   "source": [
    "### Remove all special characters"
   ]
  },
  {
   "cell_type": "code",
   "execution_count": 57,
   "id": "e0ae0c61",
   "metadata": {},
   "outputs": [
    {
     "name": "stderr",
     "output_type": "stream",
     "text": [
      "C:\\Users\\Diana\\AppData\\Local\\Temp\\ipykernel_20992\\1096157190.py:2: FutureWarning: The default value of regex will change from True to False in a future version.\n",
      "  df['text1'] = df['text1'].str.replace('[^\\w\\s]','')\n"
     ]
    },
    {
     "data": {
      "text/plain": [
       "0       Awww thats a bummer  You shoulda got David ...\n",
       "1    is upset that he cant update his Facebook by t...\n",
       "2     I dived many times for the ball Managed to sa...\n",
       "3      my whole body feels itchy and like its on fire \n",
       "4     no its not behaving at all im mad why am i he...\n",
       "Name: text1, dtype: object"
      ]
     },
     "execution_count": 57,
     "metadata": {},
     "output_type": "execute_result"
    }
   ],
   "source": [
    "#Remove all special characters\n",
    "df['text1'] = df['text1'].str.replace('[^\\w\\s]','')\n",
    "df['text1'].head(5)"
   ]
  },
  {
   "cell_type": "markdown",
   "id": "b24c471b",
   "metadata": {},
   "source": [
    "### Remove punctuations"
   ]
  },
  {
   "cell_type": "code",
   "execution_count": 58,
   "id": "e96dc770",
   "metadata": {},
   "outputs": [],
   "source": [
    "#Remove punctuations\n",
    "import string\n",
    "\n",
    "def remove_punctuation(text):\n",
    "    translator = str.maketrans('', '', string.punctuation)\n",
    "    return text.translate(translator)\n",
    "\n",
    "#Apply remove_punctuation function to the 'text' column\n",
    "df['text1'] = df['text1'].apply(remove_punctuation)\n"
   ]
  },
  {
   "cell_type": "code",
   "execution_count": 59,
   "id": "d48d8151",
   "metadata": {},
   "outputs": [
    {
     "data": {
      "text/html": [
       "<div>\n",
       "<style scoped>\n",
       "    .dataframe tbody tr th:only-of-type {\n",
       "        vertical-align: middle;\n",
       "    }\n",
       "\n",
       "    .dataframe tbody tr th {\n",
       "        vertical-align: top;\n",
       "    }\n",
       "\n",
       "    .dataframe thead th {\n",
       "        text-align: right;\n",
       "    }\n",
       "</style>\n",
       "<table border=\"1\" class=\"dataframe\">\n",
       "  <thead>\n",
       "    <tr style=\"text-align: right;\">\n",
       "      <th></th>\n",
       "      <th>date</th>\n",
       "      <th>text</th>\n",
       "      <th>user</th>\n",
       "      <th>day</th>\n",
       "      <th>month</th>\n",
       "      <th>day_of_week</th>\n",
       "      <th>quarter</th>\n",
       "      <th>year</th>\n",
       "      <th>word_count</th>\n",
       "      <th>char_count</th>\n",
       "      <th>avg_word</th>\n",
       "      <th>stopwords</th>\n",
       "      <th>hashtags</th>\n",
       "      <th>at_sign</th>\n",
       "      <th>numerics</th>\n",
       "      <th>upper</th>\n",
       "      <th>text1</th>\n",
       "    </tr>\n",
       "  </thead>\n",
       "  <tbody>\n",
       "    <tr>\n",
       "      <th>0</th>\n",
       "      <td>2009-04-07 05:19:45</td>\n",
       "      <td>@switchfoot http://twitpic.com/2y1zl - Awww, t...</td>\n",
       "      <td>_TheSpecialOne_</td>\n",
       "      <td>7</td>\n",
       "      <td>4</td>\n",
       "      <td>1</td>\n",
       "      <td>2</td>\n",
       "      <td>2009</td>\n",
       "      <td>20</td>\n",
       "      <td>115</td>\n",
       "      <td>5.052632</td>\n",
       "      <td>4</td>\n",
       "      <td>0</td>\n",
       "      <td>1</td>\n",
       "      <td>0</td>\n",
       "      <td>1</td>\n",
       "      <td>Awww thats a bummer  You shoulda got David ...</td>\n",
       "    </tr>\n",
       "    <tr>\n",
       "      <th>1</th>\n",
       "      <td>2009-04-07 05:19:49</td>\n",
       "      <td>is upset that he can't update his Facebook by ...</td>\n",
       "      <td>scotthamilton</td>\n",
       "      <td>7</td>\n",
       "      <td>4</td>\n",
       "      <td>1</td>\n",
       "      <td>2</td>\n",
       "      <td>2009</td>\n",
       "      <td>22</td>\n",
       "      <td>111</td>\n",
       "      <td>4.285714</td>\n",
       "      <td>8</td>\n",
       "      <td>0</td>\n",
       "      <td>0</td>\n",
       "      <td>0</td>\n",
       "      <td>0</td>\n",
       "      <td>is upset that he cant update his Facebook by t...</td>\n",
       "    </tr>\n",
       "    <tr>\n",
       "      <th>2</th>\n",
       "      <td>2009-04-07 05:19:53</td>\n",
       "      <td>@Kenichan I dived many times for the ball. Man...</td>\n",
       "      <td>mattycus</td>\n",
       "      <td>7</td>\n",
       "      <td>4</td>\n",
       "      <td>1</td>\n",
       "      <td>2</td>\n",
       "      <td>2009</td>\n",
       "      <td>19</td>\n",
       "      <td>89</td>\n",
       "      <td>3.944444</td>\n",
       "      <td>5</td>\n",
       "      <td>0</td>\n",
       "      <td>1</td>\n",
       "      <td>0</td>\n",
       "      <td>1</td>\n",
       "      <td>I dived many times for the ball Managed to sa...</td>\n",
       "    </tr>\n",
       "    <tr>\n",
       "      <th>3</th>\n",
       "      <td>2009-04-07 05:19:57</td>\n",
       "      <td>my whole body feels itchy and like its on fire</td>\n",
       "      <td>ElleCTF</td>\n",
       "      <td>7</td>\n",
       "      <td>4</td>\n",
       "      <td>1</td>\n",
       "      <td>2</td>\n",
       "      <td>2009</td>\n",
       "      <td>11</td>\n",
       "      <td>47</td>\n",
       "      <td>3.700000</td>\n",
       "      <td>4</td>\n",
       "      <td>0</td>\n",
       "      <td>0</td>\n",
       "      <td>0</td>\n",
       "      <td>0</td>\n",
       "      <td>my whole body feels itchy and like its on fire</td>\n",
       "    </tr>\n",
       "    <tr>\n",
       "      <th>4</th>\n",
       "      <td>2009-04-07 05:19:57</td>\n",
       "      <td>@nationwideclass no, it's not behaving at all....</td>\n",
       "      <td>Karoli</td>\n",
       "      <td>7</td>\n",
       "      <td>4</td>\n",
       "      <td>1</td>\n",
       "      <td>2</td>\n",
       "      <td>2009</td>\n",
       "      <td>22</td>\n",
       "      <td>111</td>\n",
       "      <td>4.285714</td>\n",
       "      <td>10</td>\n",
       "      <td>0</td>\n",
       "      <td>1</td>\n",
       "      <td>0</td>\n",
       "      <td>1</td>\n",
       "      <td>no its not behaving at all im mad why am i he...</td>\n",
       "    </tr>\n",
       "  </tbody>\n",
       "</table>\n",
       "</div>"
      ],
      "text/plain": [
       "                 date                                               text  \\\n",
       "0 2009-04-07 05:19:45  @switchfoot http://twitpic.com/2y1zl - Awww, t...   \n",
       "1 2009-04-07 05:19:49  is upset that he can't update his Facebook by ...   \n",
       "2 2009-04-07 05:19:53  @Kenichan I dived many times for the ball. Man...   \n",
       "3 2009-04-07 05:19:57    my whole body feels itchy and like its on fire    \n",
       "4 2009-04-07 05:19:57  @nationwideclass no, it's not behaving at all....   \n",
       "\n",
       "              user  day  month  day_of_week  quarter  year  word_count  \\\n",
       "0  _TheSpecialOne_    7      4            1        2  2009          20   \n",
       "1    scotthamilton    7      4            1        2  2009          22   \n",
       "2         mattycus    7      4            1        2  2009          19   \n",
       "3          ElleCTF    7      4            1        2  2009          11   \n",
       "4           Karoli    7      4            1        2  2009          22   \n",
       "\n",
       "   char_count  avg_word  stopwords  hashtags  at_sign  numerics  upper  \\\n",
       "0         115  5.052632          4         0        1         0      1   \n",
       "1         111  4.285714          8         0        0         0      0   \n",
       "2          89  3.944444          5         0        1         0      1   \n",
       "3          47  3.700000          4         0        0         0      0   \n",
       "4         111  4.285714         10         0        1         0      1   \n",
       "\n",
       "                                               text1  \n",
       "0     Awww thats a bummer  You shoulda got David ...  \n",
       "1  is upset that he cant update his Facebook by t...  \n",
       "2   I dived many times for the ball Managed to sa...  \n",
       "3    my whole body feels itchy and like its on fire   \n",
       "4   no its not behaving at all im mad why am i he...  "
      ]
     },
     "execution_count": 59,
     "metadata": {},
     "output_type": "execute_result"
    }
   ],
   "source": [
    "df.head(5)"
   ]
  },
  {
   "cell_type": "markdown",
   "id": "c082be72",
   "metadata": {},
   "source": [
    "### Convert all upper cases to lower"
   ]
  },
  {
   "cell_type": "code",
   "execution_count": 60,
   "id": "54b1f659",
   "metadata": {},
   "outputs": [
    {
     "data": {
      "text/plain": [
       "0    awww thats a bummer you shoulda got david carr...\n",
       "1    is upset that he cant update his facebook by t...\n",
       "2    i dived many times for the ball managed to sav...\n",
       "3       my whole body feels itchy and like its on fire\n",
       "4    no its not behaving at all im mad why am i her...\n",
       "Name: text1, dtype: object"
      ]
     },
     "execution_count": 60,
     "metadata": {},
     "output_type": "execute_result"
    }
   ],
   "source": [
    "#Convert all uppercases to lower cases\n",
    "df['text1'] = df['text1'].apply(lambda x: \" \".join(x.lower() for x in x.split()))\n",
    "df['text1'].head(5)"
   ]
  },
  {
   "cell_type": "markdown",
   "id": "88f00493",
   "metadata": {},
   "source": [
    "## Handling numerics "
   ]
  },
  {
   "cell_type": "code",
   "execution_count": 61,
   "id": "e916d994",
   "metadata": {},
   "outputs": [
    {
     "data": {
      "text/plain": [
       "0    awww thats a bummer you shoulda got david carr...\n",
       "1    is upset that he cant update his facebook by t...\n",
       "2    i dived many times for the ball managed to sav...\n",
       "3       my whole body feels itchy and like its on fire\n",
       "4    no its not behaving at all im mad why am i her...\n",
       "Name: text1, dtype: object"
      ]
     },
     "execution_count": 61,
     "metadata": {},
     "output_type": "execute_result"
    }
   ],
   "source": [
    "import re\n",
    "import pandas as pd\n",
    "\n",
    "#Function to remove numbers from text1\n",
    "def remove_numbers(text):\n",
    "    return re.sub(r'\\d+', '', text)\n",
    "\n",
    "# Apply the function to remove numbers to the 'text1\n",
    "df['text1'] = df['text1'].apply(lambda x: remove_numbers(x))\n",
    "df['text1'].head(5)"
   ]
  },
  {
   "cell_type": "markdown",
   "id": "50a2a1ff",
   "metadata": {},
   "source": [
    "## Tokenization"
   ]
  },
  {
   "cell_type": "code",
   "execution_count": 62,
   "id": "0051aa22",
   "metadata": {},
   "outputs": [
    {
     "name": "stderr",
     "output_type": "stream",
     "text": [
      "[nltk_data] Downloading package punkt to\n",
      "[nltk_data]     C:\\Users\\Diana\\AppData\\Roaming\\nltk_data...\n",
      "[nltk_data]   Package punkt is already up-to-date!\n",
      "[nltk_data] Downloading package stopwords to\n",
      "[nltk_data]     C:\\Users\\Diana\\AppData\\Roaming\\nltk_data...\n",
      "[nltk_data]   Package stopwords is already up-to-date!\n",
      "[nltk_data] Downloading package wordnet to\n",
      "[nltk_data]     C:\\Users\\Diana\\AppData\\Roaming\\nltk_data...\n",
      "[nltk_data]   Package wordnet is already up-to-date!\n",
      "[nltk_data] Downloading package averaged_perceptron_tagger to\n",
      "[nltk_data]     C:\\Users\\Diana\\AppData\\Roaming\\nltk_data...\n",
      "[nltk_data]   Package averaged_perceptron_tagger is already up-to-\n",
      "[nltk_data]       date!\n"
     ]
    },
    {
     "data": {
      "text/plain": [
       "True"
      ]
     },
     "execution_count": 62,
     "metadata": {},
     "output_type": "execute_result"
    }
   ],
   "source": [
    "import nltk\n",
    "nltk.download('punkt')\n",
    "nltk.download('stopwords')\n",
    "nltk.download('wordnet')\n",
    "nltk.download('averaged_perceptron_tagger')"
   ]
  },
  {
   "cell_type": "markdown",
   "id": "9822d4c2",
   "metadata": {},
   "source": [
    "## Word Tokenization"
   ]
  },
  {
   "cell_type": "code",
   "execution_count": 63,
   "id": "5ce71f81",
   "metadata": {},
   "outputs": [
    {
     "data": {
      "text/html": [
       "<div>\n",
       "<style scoped>\n",
       "    .dataframe tbody tr th:only-of-type {\n",
       "        vertical-align: middle;\n",
       "    }\n",
       "\n",
       "    .dataframe tbody tr th {\n",
       "        vertical-align: top;\n",
       "    }\n",
       "\n",
       "    .dataframe thead th {\n",
       "        text-align: right;\n",
       "    }\n",
       "</style>\n",
       "<table border=\"1\" class=\"dataframe\">\n",
       "  <thead>\n",
       "    <tr style=\"text-align: right;\">\n",
       "      <th></th>\n",
       "      <th>text1</th>\n",
       "      <th>tokenized_text</th>\n",
       "    </tr>\n",
       "  </thead>\n",
       "  <tbody>\n",
       "    <tr>\n",
       "      <th>0</th>\n",
       "      <td>awww thats a bummer you shoulda got david carr...</td>\n",
       "      <td>awww thats a bummer you shoulda got david carr...</td>\n",
       "    </tr>\n",
       "    <tr>\n",
       "      <th>1</th>\n",
       "      <td>is upset that he cant update his facebook by t...</td>\n",
       "      <td>is upset that he cant update his facebook by t...</td>\n",
       "    </tr>\n",
       "    <tr>\n",
       "      <th>2</th>\n",
       "      <td>i dived many times for the ball managed to sav...</td>\n",
       "      <td>i dived many times for the ball managed to sav...</td>\n",
       "    </tr>\n",
       "    <tr>\n",
       "      <th>3</th>\n",
       "      <td>my whole body feels itchy and like its on fire</td>\n",
       "      <td>my whole body feels itchy and like its on fire</td>\n",
       "    </tr>\n",
       "    <tr>\n",
       "      <th>4</th>\n",
       "      <td>no its not behaving at all im mad why am i her...</td>\n",
       "      <td>no its not behaving at all im mad why am i her...</td>\n",
       "    </tr>\n",
       "  </tbody>\n",
       "</table>\n",
       "</div>"
      ],
      "text/plain": [
       "                                               text1  \\\n",
       "0  awww thats a bummer you shoulda got david carr...   \n",
       "1  is upset that he cant update his facebook by t...   \n",
       "2  i dived many times for the ball managed to sav...   \n",
       "3     my whole body feels itchy and like its on fire   \n",
       "4  no its not behaving at all im mad why am i her...   \n",
       "\n",
       "                                      tokenized_text  \n",
       "0  awww thats a bummer you shoulda got david carr...  \n",
       "1  is upset that he cant update his facebook by t...  \n",
       "2  i dived many times for the ball managed to sav...  \n",
       "3     my whole body feels itchy and like its on fire  \n",
       "4  no its not behaving at all im mad why am i her...  "
      ]
     },
     "execution_count": 63,
     "metadata": {},
     "output_type": "execute_result"
    }
   ],
   "source": [
    "from nltk.tokenize import word_tokenize\n",
    "\n",
    "#Tokenize the text using NLTK's word tokenizer\n",
    "df['tokenized_text'] = df['text1'].apply(lambda x: ' '.join(word_tokenize(x.lower())))\n",
    "\n",
    "#Print the first few rows of the DataFrame with tokenized text\n",
    "df[['text1', 'tokenized_text']].head(5)"
   ]
  },
  {
   "cell_type": "markdown",
   "id": "e6955a99",
   "metadata": {},
   "source": [
    "## Remove stopwords"
   ]
  },
  {
   "cell_type": "code",
   "execution_count": 65,
   "id": "d8a4322f",
   "metadata": {},
   "outputs": [
    {
     "name": "stderr",
     "output_type": "stream",
     "text": [
      "[nltk_data] Downloading package stopwords to\n",
      "[nltk_data]     C:\\Users\\Diana\\AppData\\Roaming\\nltk_data...\n",
      "[nltk_data]   Package stopwords is already up-to-date!\n"
     ]
    },
    {
     "name": "stdout",
     "output_type": "stream",
     "text": [
      "                                               text1  \\\n",
      "0  awww thats a bummer you shoulda got david carr...   \n",
      "1  is upset that he cant update his facebook by t...   \n",
      "2  i dived many times for the ball managed to sav...   \n",
      "3     my whole body feels itchy and like its on fire   \n",
      "4  no its not behaving at all im mad why am i her...   \n",
      "\n",
      "                                      tokenized_text  \n",
      "0  awww thats bummer shoulda got david carr third...  \n",
      "1  upset cant update facebook texting might cry r...  \n",
      "2  dived many times ball managed save rest go bounds  \n",
      "3                   whole body feels itchy like fire  \n",
      "4                           behaving im mad cant see  \n"
     ]
    }
   ],
   "source": [
    "from nltk.corpus import stopwords\n",
    "\n",
    "#Download NLTK resources for the first time\n",
    "nltk.download('stopwords')\n",
    "\n",
    "#Get the English stopwords list\n",
    "stop_words = set(stopwords.words('english'))\n",
    "\n",
    "#Function to remove stopwords\n",
    "def remove_stopwords(tokenized_text):\n",
    "    return ' '.join([word for word in tokenized_text.split() if word.lower() not in stop_words])\n",
    "\n",
    "#Remove stopwords from the tokenized text column\n",
    "df['tokenized_text'] = df['tokenized_text'].apply(remove_stopwords)\n",
    "\n",
    "# Print the first few rows of the DataFrame with stopwords removed\n",
    "print(df[['text1', 'tokenized_text']].head())"
   ]
  },
  {
   "cell_type": "code",
   "execution_count": 66,
   "id": "f4e94130",
   "metadata": {},
   "outputs": [],
   "source": [
    "#Create a Frequency Distribution of the tokenized words\n",
    "#Import Frequency Distribution\n",
    "from nltk.probability import FreqDist\n",
    "\n",
    "#Find frequency distribution of tokenized_text\n",
    "fdist = FreqDist(df['tokenized_text'])"
   ]
  },
  {
   "cell_type": "code",
   "execution_count": 67,
   "id": "608040c9",
   "metadata": {},
   "outputs": [
    {
     "data": {
      "text/plain": [
       "[('', 7083),\n",
       " ('thanks', 2334),\n",
       " ('thank', 1576),\n",
       " ('get followers day using add everyone train pay vip', 1484),\n",
       " ('good morning', 1144)]"
      ]
     },
     "execution_count": 67,
     "metadata": {},
     "output_type": "execute_result"
    }
   ],
   "source": [
    "#Check top 5 common words\n",
    "fdist.most_common(5)"
   ]
  },
  {
   "cell_type": "code",
   "execution_count": 68,
   "id": "69c195b3",
   "metadata": {},
   "outputs": [
    {
     "data": {
      "image/png": "[encoded data removed]",
      "text/plain": [
       "<Figure size 640x480 with 1 Axes>"
      ]
     },
     "metadata": {},
     "output_type": "display_data"
    }
   ],
   "source": [
    "#Create a frequency distribution plot\n",
    "import matplotlib.pyplot as plt\n",
    "\n",
    "#Plot Frequency Distribution\n",
    "fdist.plot(20,cumulative=False)\n",
    "plt.show()"
   ]
  },
  {
   "cell_type": "markdown",
   "id": "2693fbd5",
   "metadata": {},
   "source": [
    "# Stemming/ lemmatization"
   ]
  },
  {
   "cell_type": "code",
   "execution_count": 69,
   "id": "e657cda5",
   "metadata": {},
   "outputs": [
    {
     "name": "stdout",
     "output_type": "stream",
     "text": [
      "                                      tokenized_text  \\\n",
      "0  awww thats bummer shoulda got david carr third...   \n",
      "1  upset cant update facebook texting might cry r...   \n",
      "2  dived many times ball managed save rest go bounds   \n",
      "3                   whole body feels itchy like fire   \n",
      "4                           behaving im mad cant see   \n",
      "\n",
      "                                   preprocessed_text  \n",
      "0  awww thats bummer shoulda got david carr third...  \n",
      "1  upset cant update facebook texting might cry r...  \n",
      "2    dived many time ball managed save rest go bound  \n",
      "3                    whole body feel itchy like fire  \n",
      "4                           behaving im mad cant see  \n"
     ]
    }
   ],
   "source": [
    "from nltk.stem import WordNetLemmatizer\n",
    "\n",
    "# Initialize WordNet Lemmatizer\n",
    "lemmatizer = WordNetLemmatizer()\n",
    "\n",
    "# Function to lemmatize text\n",
    "def lemmatize_text(tokenized_text):\n",
    "    #Lemmatize the tokens\n",
    "    lemmatized_tokens = [lemmatizer.lemmatize(word) for word in tokenized_text.split()]\n",
    "    \n",
    "    #Join the lemmatized tokens back into a string\n",
    "    lemmatized_text = ' '.join(lemmatized_tokens)\n",
    "    \n",
    "    return lemmatized_text\n",
    "\n",
    "#Apply lemmatization to 'tokenized_text' column in DataFrame df\n",
    "df['preprocessed_text'] = df['tokenized_text'].apply(lemmatize_text)\n",
    "\n",
    "#Print the first few rows of the DataFrame with lemmatized text\n",
    "print(df[['tokenized_text', 'preprocessed_text']].head(5))"
   ]
  },
  {
   "cell_type": "code",
   "execution_count": 70,
   "id": "b10bdd4b",
   "metadata": {},
   "outputs": [
    {
     "data": {
      "text/plain": [
       "date                 0\n",
       "text                 0\n",
       "user                 0\n",
       "day                  0\n",
       "month                0\n",
       "day_of_week          0\n",
       "quarter              0\n",
       "year                 0\n",
       "word_count           0\n",
       "char_count           0\n",
       "avg_word             0\n",
       "stopwords            0\n",
       "hashtags             0\n",
       "at_sign              0\n",
       "numerics             0\n",
       "upper                0\n",
       "text1                0\n",
       "tokenized_text       0\n",
       "preprocessed_text    0\n",
       "dtype: int64"
      ]
     },
     "execution_count": 70,
     "metadata": {},
     "output_type": "execute_result"
    }
   ],
   "source": [
    "df.isnull().sum()"
   ]
  },
  {
   "cell_type": "code",
   "execution_count": 71,
   "id": "a36a65aa",
   "metadata": {},
   "outputs": [
    {
     "name": "stdout",
     "output_type": "stream",
     "text": [
      "Number of duplicate rows: 0\n"
     ]
    }
   ],
   "source": [
    "# Count the duplicate rows in the DataFrame\n",
    "duplicate_count = df.duplicated().sum()\n",
    "\n",
    "print(\"Number of duplicate rows:\", duplicate_count)\n"
   ]
  },
  {
   "cell_type": "markdown",
   "id": "0ef209c0",
   "metadata": {},
   "source": [
    "# SENTIMENT ANALYSIS\n",
    "There are various ways to perform sentiment analysis. These include:-\n",
    "- Using Text Blob\n",
    "- Using Vader\n",
    "- Using Bag of Words Vectorization-based Models\n",
    "- Using LSTM-based Models\n",
    "- Using Transformer-based Models"
   ]
  },
  {
   "cell_type": "markdown",
   "id": "4153590f",
   "metadata": {},
   "source": [
    "## USING TEXTBLOB\n",
    "-  It takes text as an input and can return polarity and subjectivity as outputs.\n",
    "\n",
    "- Polarity determines the sentiment of the text. Its values lie in [-1,1] where -1 denotes a highly negative sentiment and 1 denotes a highly positive sentiment.\n",
    "\n",
    "- Subjectivity determines whether a text input is factual information or a personal opinion. Its value lies between [0,1] where a value closer to 0 denotes a piece of factual information and a value closer to 1 denotes a personal opinion."
   ]
  },
  {
   "cell_type": "code",
   "execution_count": 72,
   "id": "d44e35f6",
   "metadata": {},
   "outputs": [
    {
     "data": {
      "text/html": [
       "<div>\n",
       "<style scoped>\n",
       "    .dataframe tbody tr th:only-of-type {\n",
       "        vertical-align: middle;\n",
       "    }\n",
       "\n",
       "    .dataframe tbody tr th {\n",
       "        vertical-align: top;\n",
       "    }\n",
       "\n",
       "    .dataframe thead th {\n",
       "        text-align: right;\n",
       "    }\n",
       "</style>\n",
       "<table border=\"1\" class=\"dataframe\">\n",
       "  <thead>\n",
       "    <tr style=\"text-align: right;\">\n",
       "      <th></th>\n",
       "      <th>preprocessed_text</th>\n",
       "      <th>polarity_score</th>\n",
       "    </tr>\n",
       "  </thead>\n",
       "  <tbody>\n",
       "    <tr>\n",
       "      <th>0</th>\n",
       "      <td>awww thats bummer shoulda got david carr third...</td>\n",
       "      <td>0.200</td>\n",
       "    </tr>\n",
       "    <tr>\n",
       "      <th>1</th>\n",
       "      <td>upset cant update facebook texting might cry r...</td>\n",
       "      <td>0.000</td>\n",
       "    </tr>\n",
       "    <tr>\n",
       "      <th>2</th>\n",
       "      <td>dived many time ball managed save rest go bound</td>\n",
       "      <td>0.500</td>\n",
       "    </tr>\n",
       "    <tr>\n",
       "      <th>3</th>\n",
       "      <td>whole body feel itchy like fire</td>\n",
       "      <td>0.200</td>\n",
       "    </tr>\n",
       "    <tr>\n",
       "      <th>4</th>\n",
       "      <td>behaving im mad cant see</td>\n",
       "      <td>-0.625</td>\n",
       "    </tr>\n",
       "  </tbody>\n",
       "</table>\n",
       "</div>"
      ],
      "text/plain": [
       "                                   preprocessed_text  polarity_score\n",
       "0  awww thats bummer shoulda got david carr third...           0.200\n",
       "1  upset cant update facebook texting might cry r...           0.000\n",
       "2    dived many time ball managed save rest go bound           0.500\n",
       "3                    whole body feel itchy like fire           0.200\n",
       "4                           behaving im mad cant see          -0.625"
      ]
     },
     "execution_count": 72,
     "metadata": {},
     "output_type": "execute_result"
    }
   ],
   "source": [
    "from textblob import TextBlob\n",
    "\n",
    "#Apply sentiment analysis using TextBlob to the 'text' column and storing the polarity score\n",
    "df['polarity_score'] = df['preprocessed_text'].apply(lambda x: TextBlob(x).sentiment[0] )\n",
    "df[['preprocessed_text','polarity_score']].head(5)"
   ]
  },
  {
   "cell_type": "code",
   "execution_count": 73,
   "id": "55f4dd80",
   "metadata": {},
   "outputs": [
    {
     "data": {
      "text/html": [
       "<div>\n",
       "<style scoped>\n",
       "    .dataframe tbody tr th:only-of-type {\n",
       "        vertical-align: middle;\n",
       "    }\n",
       "\n",
       "    .dataframe tbody tr th {\n",
       "        vertical-align: top;\n",
       "    }\n",
       "\n",
       "    .dataframe thead th {\n",
       "        text-align: right;\n",
       "    }\n",
       "</style>\n",
       "<table border=\"1\" class=\"dataframe\">\n",
       "  <thead>\n",
       "    <tr style=\"text-align: right;\">\n",
       "      <th></th>\n",
       "      <th>date</th>\n",
       "      <th>text</th>\n",
       "      <th>user</th>\n",
       "      <th>day</th>\n",
       "      <th>month</th>\n",
       "      <th>day_of_week</th>\n",
       "      <th>quarter</th>\n",
       "      <th>year</th>\n",
       "      <th>word_count</th>\n",
       "      <th>char_count</th>\n",
       "      <th>avg_word</th>\n",
       "      <th>stopwords</th>\n",
       "      <th>hashtags</th>\n",
       "      <th>at_sign</th>\n",
       "      <th>numerics</th>\n",
       "      <th>upper</th>\n",
       "      <th>text1</th>\n",
       "      <th>tokenized_text</th>\n",
       "      <th>preprocessed_text</th>\n",
       "      <th>polarity_score</th>\n",
       "    </tr>\n",
       "  </thead>\n",
       "  <tbody>\n",
       "    <tr>\n",
       "      <th>0</th>\n",
       "      <td>2009-04-07 05:19:45</td>\n",
       "      <td>@switchfoot http://twitpic.com/2y1zl - Awww, t...</td>\n",
       "      <td>_TheSpecialOne_</td>\n",
       "      <td>7</td>\n",
       "      <td>4</td>\n",
       "      <td>1</td>\n",
       "      <td>2</td>\n",
       "      <td>2009</td>\n",
       "      <td>20</td>\n",
       "      <td>115</td>\n",
       "      <td>5.052632</td>\n",
       "      <td>4</td>\n",
       "      <td>0</td>\n",
       "      <td>1</td>\n",
       "      <td>0</td>\n",
       "      <td>1</td>\n",
       "      <td>awww thats a bummer you shoulda got david carr...</td>\n",
       "      <td>awww thats bummer shoulda got david carr third...</td>\n",
       "      <td>awww thats bummer shoulda got david carr third...</td>\n",
       "      <td>0.200</td>\n",
       "    </tr>\n",
       "    <tr>\n",
       "      <th>1</th>\n",
       "      <td>2009-04-07 05:19:49</td>\n",
       "      <td>is upset that he can't update his Facebook by ...</td>\n",
       "      <td>scotthamilton</td>\n",
       "      <td>7</td>\n",
       "      <td>4</td>\n",
       "      <td>1</td>\n",
       "      <td>2</td>\n",
       "      <td>2009</td>\n",
       "      <td>22</td>\n",
       "      <td>111</td>\n",
       "      <td>4.285714</td>\n",
       "      <td>8</td>\n",
       "      <td>0</td>\n",
       "      <td>0</td>\n",
       "      <td>0</td>\n",
       "      <td>0</td>\n",
       "      <td>is upset that he cant update his facebook by t...</td>\n",
       "      <td>upset cant update facebook texting might cry r...</td>\n",
       "      <td>upset cant update facebook texting might cry r...</td>\n",
       "      <td>0.000</td>\n",
       "    </tr>\n",
       "    <tr>\n",
       "      <th>2</th>\n",
       "      <td>2009-04-07 05:19:53</td>\n",
       "      <td>@Kenichan I dived many times for the ball. Man...</td>\n",
       "      <td>mattycus</td>\n",
       "      <td>7</td>\n",
       "      <td>4</td>\n",
       "      <td>1</td>\n",
       "      <td>2</td>\n",
       "      <td>2009</td>\n",
       "      <td>19</td>\n",
       "      <td>89</td>\n",
       "      <td>3.944444</td>\n",
       "      <td>5</td>\n",
       "      <td>0</td>\n",
       "      <td>1</td>\n",
       "      <td>0</td>\n",
       "      <td>1</td>\n",
       "      <td>i dived many times for the ball managed to sav...</td>\n",
       "      <td>dived many times ball managed save rest go bounds</td>\n",
       "      <td>dived many time ball managed save rest go bound</td>\n",
       "      <td>0.500</td>\n",
       "    </tr>\n",
       "    <tr>\n",
       "      <th>3</th>\n",
       "      <td>2009-04-07 05:19:57</td>\n",
       "      <td>my whole body feels itchy and like its on fire</td>\n",
       "      <td>ElleCTF</td>\n",
       "      <td>7</td>\n",
       "      <td>4</td>\n",
       "      <td>1</td>\n",
       "      <td>2</td>\n",
       "      <td>2009</td>\n",
       "      <td>11</td>\n",
       "      <td>47</td>\n",
       "      <td>3.700000</td>\n",
       "      <td>4</td>\n",
       "      <td>0</td>\n",
       "      <td>0</td>\n",
       "      <td>0</td>\n",
       "      <td>0</td>\n",
       "      <td>my whole body feels itchy and like its on fire</td>\n",
       "      <td>whole body feels itchy like fire</td>\n",
       "      <td>whole body feel itchy like fire</td>\n",
       "      <td>0.200</td>\n",
       "    </tr>\n",
       "    <tr>\n",
       "      <th>4</th>\n",
       "      <td>2009-04-07 05:19:57</td>\n",
       "      <td>@nationwideclass no, it's not behaving at all....</td>\n",
       "      <td>Karoli</td>\n",
       "      <td>7</td>\n",
       "      <td>4</td>\n",
       "      <td>1</td>\n",
       "      <td>2</td>\n",
       "      <td>2009</td>\n",
       "      <td>22</td>\n",
       "      <td>111</td>\n",
       "      <td>4.285714</td>\n",
       "      <td>10</td>\n",
       "      <td>0</td>\n",
       "      <td>1</td>\n",
       "      <td>0</td>\n",
       "      <td>1</td>\n",
       "      <td>no its not behaving at all im mad why am i her...</td>\n",
       "      <td>behaving im mad cant see</td>\n",
       "      <td>behaving im mad cant see</td>\n",
       "      <td>-0.625</td>\n",
       "    </tr>\n",
       "  </tbody>\n",
       "</table>\n",
       "</div>"
      ],
      "text/plain": [
       "                 date                                               text  \\\n",
       "0 2009-04-07 05:19:45  @switchfoot http://twitpic.com/2y1zl - Awww, t...   \n",
       "1 2009-04-07 05:19:49  is upset that he can't update his Facebook by ...   \n",
       "2 2009-04-07 05:19:53  @Kenichan I dived many times for the ball. Man...   \n",
       "3 2009-04-07 05:19:57    my whole body feels itchy and like its on fire    \n",
       "4 2009-04-07 05:19:57  @nationwideclass no, it's not behaving at all....   \n",
       "\n",
       "              user  day  month  day_of_week  quarter  year  word_count  \\\n",
       "0  _TheSpecialOne_    7      4            1        2  2009          20   \n",
       "1    scotthamilton    7      4            1        2  2009          22   \n",
       "2         mattycus    7      4            1        2  2009          19   \n",
       "3          ElleCTF    7      4            1        2  2009          11   \n",
       "4           Karoli    7      4            1        2  2009          22   \n",
       "\n",
       "   char_count  avg_word  stopwords  hashtags  at_sign  numerics  upper  \\\n",
       "0         115  5.052632          4         0        1         0      1   \n",
       "1         111  4.285714          8         0        0         0      0   \n",
       "2          89  3.944444          5         0        1         0      1   \n",
       "3          47  3.700000          4         0        0         0      0   \n",
       "4         111  4.285714         10         0        1         0      1   \n",
       "\n",
       "                                               text1  \\\n",
       "0  awww thats a bummer you shoulda got david carr...   \n",
       "1  is upset that he cant update his facebook by t...   \n",
       "2  i dived many times for the ball managed to sav...   \n",
       "3     my whole body feels itchy and like its on fire   \n",
       "4  no its not behaving at all im mad why am i her...   \n",
       "\n",
       "                                      tokenized_text  \\\n",
       "0  awww thats bummer shoulda got david carr third...   \n",
       "1  upset cant update facebook texting might cry r...   \n",
       "2  dived many times ball managed save rest go bounds   \n",
       "3                   whole body feels itchy like fire   \n",
       "4                           behaving im mad cant see   \n",
       "\n",
       "                                   preprocessed_text  polarity_score  \n",
       "0  awww thats bummer shoulda got david carr third...           0.200  \n",
       "1  upset cant update facebook texting might cry r...           0.000  \n",
       "2    dived many time ball managed save rest go bound           0.500  \n",
       "3                    whole body feel itchy like fire           0.200  \n",
       "4                           behaving im mad cant see          -0.625  "
      ]
     },
     "execution_count": 73,
     "metadata": {},
     "output_type": "execute_result"
    }
   ],
   "source": [
    "#View the df, first 5 observations\n",
    "df.head(5)"
   ]
  },
  {
   "cell_type": "code",
   "execution_count": 74,
   "id": "69a35be0",
   "metadata": {},
   "outputs": [
    {
     "name": "stdout",
     "output_type": "stream",
     "text": [
      "<class 'pandas.core.frame.DataFrame'>\n",
      "RangeIndex: 1598127 entries, 0 to 1598126\n",
      "Data columns (total 20 columns):\n",
      " #   Column             Non-Null Count    Dtype         \n",
      "---  ------             --------------    -----         \n",
      " 0   date               1598127 non-null  datetime64[ns]\n",
      " 1   text               1598127 non-null  object        \n",
      " 2   user               1598127 non-null  object        \n",
      " 3   day                1598127 non-null  int64         \n",
      " 4   month              1598127 non-null  int64         \n",
      " 5   day_of_week        1598127 non-null  int64         \n",
      " 6   quarter            1598127 non-null  int64         \n",
      " 7   year               1598127 non-null  int64         \n",
      " 8   word_count         1598127 non-null  int64         \n",
      " 9   char_count         1598127 non-null  int64         \n",
      " 10  avg_word           1598127 non-null  float64       \n",
      " 11  stopwords          1598127 non-null  int64         \n",
      " 12  hashtags           1598127 non-null  int64         \n",
      " 13  at_sign            1598127 non-null  int64         \n",
      " 14  numerics           1598127 non-null  int64         \n",
      " 15  upper              1598127 non-null  int64         \n",
      " 16  text1              1598127 non-null  object        \n",
      " 17  tokenized_text     1598127 non-null  object        \n",
      " 18  preprocessed_text  1598127 non-null  object        \n",
      " 19  polarity_score     1598127 non-null  float64       \n",
      "dtypes: datetime64[ns](1), float64(2), int64(12), object(5)\n",
      "memory usage: 243.9+ MB\n"
     ]
    }
   ],
   "source": [
    "#View data types of the variables\n",
    "df.info()"
   ]
  },
  {
   "cell_type": "code",
   "execution_count": 75,
   "id": "19fd0487",
   "metadata": {},
   "outputs": [
    {
     "name": "stdout",
     "output_type": "stream",
     "text": [
      "                                   preprocessed_text  polarity_score  \\\n",
      "0  awww thats bummer shoulda got david carr third...           0.200   \n",
      "1  upset cant update facebook texting might cry r...           0.000   \n",
      "2    dived many time ball managed save rest go bound           0.500   \n",
      "3                    whole body feel itchy like fire           0.200   \n",
      "4                           behaving im mad cant see          -0.625   \n",
      "\n",
      "  textblob_sentiment  \n",
      "0           Positive  \n",
      "1            Neutral  \n",
      "2           Positive  \n",
      "3           Positive  \n",
      "4           Negative  \n"
     ]
    }
   ],
   "source": [
    "# Function to categorize sentiment polarities\n",
    "def categorize_sentiment(polarity):\n",
    "    if polarity > 0:\n",
    "        return 'Positive'\n",
    "    elif polarity < 0:\n",
    "        return 'Negative'\n",
    "    else:\n",
    "        return 'Neutral'\n",
    "\n",
    "# Apply the function to classify polarity scores and store the result in 'textblob_sentiment' column\n",
    "df['textblob_sentiment'] = df['polarity_score'].apply(categorize_sentiment)\n",
    "\n",
    "# Print the first few rows of the DataFrame with 'textblob_sentiment' column\n",
    "print(df[['preprocessed_text', 'polarity_score', 'textblob_sentiment']].head())"
   ]
  },
  {
   "cell_type": "markdown",
   "id": "42c229ef",
   "metadata": {},
   "source": [
    "# USING VADER SENTIMENT ANALYSIS"
   ]
  },
  {
   "cell_type": "code",
   "execution_count": 76,
   "id": "d777cc8b",
   "metadata": {},
   "outputs": [
    {
     "name": "stderr",
     "output_type": "stream",
     "text": [
      "[nltk_data] Downloading package vader_lexicon to\n",
      "[nltk_data]     C:\\Users\\Diana\\AppData\\Roaming\\nltk_data...\n",
      "[nltk_data]   Package vader_lexicon is already up-to-date!\n"
     ]
    },
    {
     "data": {
      "text/plain": [
       "True"
      ]
     },
     "execution_count": 76,
     "metadata": {},
     "output_type": "execute_result"
    }
   ],
   "source": [
    "from nltk.sentiment.vader import SentimentIntensityAnalyzer\n",
    "import nltk\n",
    "nltk.download('vader_lexicon')"
   ]
  },
  {
   "cell_type": "code",
   "execution_count": 77,
   "id": "7e671bbf",
   "metadata": {},
   "outputs": [
    {
     "name": "stdout",
     "output_type": "stream",
     "text": [
      "                                         preprocessed_text  vader_compound  \\\n",
      "0        awww thats bummer shoulda got david carr third...         -0.3818   \n",
      "1        upset cant update facebook texting might cry r...         -0.7269   \n",
      "2          dived many time ball managed save rest go bound          0.4939   \n",
      "3                          whole body feel itchy like fire         -0.2500   \n",
      "4                                 behaving im mad cant see         -0.4939   \n",
      "...                                                    ...             ...   \n",
      "1598122             sick spending day laying bed listening         -0.5106   \n",
      "1598123                                              gmail          0.0000   \n",
      "1598124                              rest peace farrah sad          0.1027   \n",
      "1598125           sound like rival flagging ad much though          0.3612   \n",
      "1598126  resit exam summer wish worked harder first yea...          0.4019   \n",
      "\n",
      "        sentiment_vader  \n",
      "0              negative  \n",
      "1              negative  \n",
      "2              positive  \n",
      "3              negative  \n",
      "4              negative  \n",
      "...                 ...  \n",
      "1598122        negative  \n",
      "1598123         neutral  \n",
      "1598124        positive  \n",
      "1598125        positive  \n",
      "1598126        positive  \n",
      "\n",
      "[1598127 rows x 3 columns]\n"
     ]
    }
   ],
   "source": [
    "#Create a VADER SentimentIntensityAnalyzer instance\n",
    "twitter_sentiment = SentimentIntensityAnalyzer()\n",
    "\n",
    "#Create a function to get compound sentiment score using VADER\n",
    "def get_sentiment_scores(text):\n",
    "    return twitter_sentiment.polarity_scores(text)\n",
    "\n",
    "#Apply the function to get the compound scores and store the values in vader_sentiment\n",
    "df['vader_sentiment'] = df['preprocessed_text'].apply(get_sentiment_scores)\n",
    "\n",
    "#Extract the 'neg', 'neu', 'pos', 'compound' scores from 'vader_sentiment'\n",
    "df['vader_neg'] = df['vader_sentiment'].apply(lambda x: x['neg'])\n",
    "df['vader_neu'] = df['vader_sentiment'].apply(lambda x: x['neu'])\n",
    "df['vader_pos'] = df['vader_sentiment'].apply(lambda x: x['pos'])\n",
    "df['vader_compound'] = df['vader_sentiment'].apply(lambda x: x['compound'])\n",
    "\n",
    "#Create a function to categorize sentiments based on compound scores\n",
    "def categorize_sentiment(vader_compound):\n",
    "    if vader_compound >= 0.05:\n",
    "        return 'positive'\n",
    "    elif vader_compound <= -0.05:\n",
    "        return 'negative'\n",
    "    else:\n",
    "        return 'neutral'\n",
    "\n",
    "#Apply the categorization function to create the 'sentiment' column\n",
    "df['sentiment_vader'] = df['vader_compound'].apply(categorize_sentiment)\n",
    "\n",
    "#Display the updated DataFrame with the 'sentiment' column\n",
    "print(df[['preprocessed_text','vader_compound','sentiment_vader']])"
   ]
  },
  {
   "cell_type": "code",
   "execution_count": 78,
   "id": "c5042240",
   "metadata": {},
   "outputs": [
    {
     "data": {
      "text/html": [
       "<div>\n",
       "<style scoped>\n",
       "    .dataframe tbody tr th:only-of-type {\n",
       "        vertical-align: middle;\n",
       "    }\n",
       "\n",
       "    .dataframe tbody tr th {\n",
       "        vertical-align: top;\n",
       "    }\n",
       "\n",
       "    .dataframe thead th {\n",
       "        text-align: right;\n",
       "    }\n",
       "</style>\n",
       "<table border=\"1\" class=\"dataframe\">\n",
       "  <thead>\n",
       "    <tr style=\"text-align: right;\">\n",
       "      <th></th>\n",
       "      <th>date</th>\n",
       "      <th>text</th>\n",
       "      <th>user</th>\n",
       "      <th>day</th>\n",
       "      <th>month</th>\n",
       "      <th>day_of_week</th>\n",
       "      <th>quarter</th>\n",
       "      <th>year</th>\n",
       "      <th>word_count</th>\n",
       "      <th>char_count</th>\n",
       "      <th>...</th>\n",
       "      <th>tokenized_text</th>\n",
       "      <th>preprocessed_text</th>\n",
       "      <th>polarity_score</th>\n",
       "      <th>textblob_sentiment</th>\n",
       "      <th>vader_sentiment</th>\n",
       "      <th>vader_neg</th>\n",
       "      <th>vader_neu</th>\n",
       "      <th>vader_pos</th>\n",
       "      <th>vader_compound</th>\n",
       "      <th>sentiment_vader</th>\n",
       "    </tr>\n",
       "  </thead>\n",
       "  <tbody>\n",
       "    <tr>\n",
       "      <th>0</th>\n",
       "      <td>2009-04-07 05:19:45</td>\n",
       "      <td>@switchfoot http://twitpic.com/2y1zl - Awww, t...</td>\n",
       "      <td>_TheSpecialOne_</td>\n",
       "      <td>7</td>\n",
       "      <td>4</td>\n",
       "      <td>1</td>\n",
       "      <td>2</td>\n",
       "      <td>2009</td>\n",
       "      <td>20</td>\n",
       "      <td>115</td>\n",
       "      <td>...</td>\n",
       "      <td>awww thats bummer shoulda got david carr third...</td>\n",
       "      <td>awww thats bummer shoulda got david carr third...</td>\n",
       "      <td>0.200</td>\n",
       "      <td>Positive</td>\n",
       "      <td>{'neg': 0.245, 'neu': 0.755, 'pos': 0.0, 'comp...</td>\n",
       "      <td>0.245</td>\n",
       "      <td>0.755</td>\n",
       "      <td>0.000</td>\n",
       "      <td>-0.3818</td>\n",
       "      <td>negative</td>\n",
       "    </tr>\n",
       "    <tr>\n",
       "      <th>1</th>\n",
       "      <td>2009-04-07 05:19:49</td>\n",
       "      <td>is upset that he can't update his Facebook by ...</td>\n",
       "      <td>scotthamilton</td>\n",
       "      <td>7</td>\n",
       "      <td>4</td>\n",
       "      <td>1</td>\n",
       "      <td>2</td>\n",
       "      <td>2009</td>\n",
       "      <td>22</td>\n",
       "      <td>111</td>\n",
       "      <td>...</td>\n",
       "      <td>upset cant update facebook texting might cry r...</td>\n",
       "      <td>upset cant update facebook texting might cry r...</td>\n",
       "      <td>0.000</td>\n",
       "      <td>Neutral</td>\n",
       "      <td>{'neg': 0.441, 'neu': 0.559, 'pos': 0.0, 'comp...</td>\n",
       "      <td>0.441</td>\n",
       "      <td>0.559</td>\n",
       "      <td>0.000</td>\n",
       "      <td>-0.7269</td>\n",
       "      <td>negative</td>\n",
       "    </tr>\n",
       "    <tr>\n",
       "      <th>2</th>\n",
       "      <td>2009-04-07 05:19:53</td>\n",
       "      <td>@Kenichan I dived many times for the ball. Man...</td>\n",
       "      <td>mattycus</td>\n",
       "      <td>7</td>\n",
       "      <td>4</td>\n",
       "      <td>1</td>\n",
       "      <td>2</td>\n",
       "      <td>2009</td>\n",
       "      <td>19</td>\n",
       "      <td>89</td>\n",
       "      <td>...</td>\n",
       "      <td>dived many times ball managed save rest go bounds</td>\n",
       "      <td>dived many time ball managed save rest go bound</td>\n",
       "      <td>0.500</td>\n",
       "      <td>Positive</td>\n",
       "      <td>{'neg': 0.0, 'neu': 0.714, 'pos': 0.286, 'comp...</td>\n",
       "      <td>0.000</td>\n",
       "      <td>0.714</td>\n",
       "      <td>0.286</td>\n",
       "      <td>0.4939</td>\n",
       "      <td>positive</td>\n",
       "    </tr>\n",
       "    <tr>\n",
       "      <th>3</th>\n",
       "      <td>2009-04-07 05:19:57</td>\n",
       "      <td>my whole body feels itchy and like its on fire</td>\n",
       "      <td>ElleCTF</td>\n",
       "      <td>7</td>\n",
       "      <td>4</td>\n",
       "      <td>1</td>\n",
       "      <td>2</td>\n",
       "      <td>2009</td>\n",
       "      <td>11</td>\n",
       "      <td>47</td>\n",
       "      <td>...</td>\n",
       "      <td>whole body feels itchy like fire</td>\n",
       "      <td>whole body feel itchy like fire</td>\n",
       "      <td>0.200</td>\n",
       "      <td>Positive</td>\n",
       "      <td>{'neg': 0.45, 'neu': 0.3, 'pos': 0.25, 'compou...</td>\n",
       "      <td>0.450</td>\n",
       "      <td>0.300</td>\n",
       "      <td>0.250</td>\n",
       "      <td>-0.2500</td>\n",
       "      <td>negative</td>\n",
       "    </tr>\n",
       "    <tr>\n",
       "      <th>4</th>\n",
       "      <td>2009-04-07 05:19:57</td>\n",
       "      <td>@nationwideclass no, it's not behaving at all....</td>\n",
       "      <td>Karoli</td>\n",
       "      <td>7</td>\n",
       "      <td>4</td>\n",
       "      <td>1</td>\n",
       "      <td>2</td>\n",
       "      <td>2009</td>\n",
       "      <td>22</td>\n",
       "      <td>111</td>\n",
       "      <td>...</td>\n",
       "      <td>behaving im mad cant see</td>\n",
       "      <td>behaving im mad cant see</td>\n",
       "      <td>-0.625</td>\n",
       "      <td>Negative</td>\n",
       "      <td>{'neg': 0.444, 'neu': 0.556, 'pos': 0.0, 'comp...</td>\n",
       "      <td>0.444</td>\n",
       "      <td>0.556</td>\n",
       "      <td>0.000</td>\n",
       "      <td>-0.4939</td>\n",
       "      <td>negative</td>\n",
       "    </tr>\n",
       "  </tbody>\n",
       "</table>\n",
       "<p>5 rows × 27 columns</p>\n",
       "</div>"
      ],
      "text/plain": [
       "                 date                                               text  \\\n",
       "0 2009-04-07 05:19:45  @switchfoot http://twitpic.com/2y1zl - Awww, t...   \n",
       "1 2009-04-07 05:19:49  is upset that he can't update his Facebook by ...   \n",
       "2 2009-04-07 05:19:53  @Kenichan I dived many times for the ball. Man...   \n",
       "3 2009-04-07 05:19:57    my whole body feels itchy and like its on fire    \n",
       "4 2009-04-07 05:19:57  @nationwideclass no, it's not behaving at all....   \n",
       "\n",
       "              user  day  month  day_of_week  quarter  year  word_count  \\\n",
       "0  _TheSpecialOne_    7      4            1        2  2009          20   \n",
       "1    scotthamilton    7      4            1        2  2009          22   \n",
       "2         mattycus    7      4            1        2  2009          19   \n",
       "3          ElleCTF    7      4            1        2  2009          11   \n",
       "4           Karoli    7      4            1        2  2009          22   \n",
       "\n",
       "   char_count  ...                                     tokenized_text  \\\n",
       "0         115  ...  awww thats bummer shoulda got david carr third...   \n",
       "1         111  ...  upset cant update facebook texting might cry r...   \n",
       "2          89  ...  dived many times ball managed save rest go bounds   \n",
       "3          47  ...                   whole body feels itchy like fire   \n",
       "4         111  ...                           behaving im mad cant see   \n",
       "\n",
       "                                   preprocessed_text  polarity_score  \\\n",
       "0  awww thats bummer shoulda got david carr third...           0.200   \n",
       "1  upset cant update facebook texting might cry r...           0.000   \n",
       "2    dived many time ball managed save rest go bound           0.500   \n",
       "3                    whole body feel itchy like fire           0.200   \n",
       "4                           behaving im mad cant see          -0.625   \n",
       "\n",
       "   textblob_sentiment                                    vader_sentiment  \\\n",
       "0            Positive  {'neg': 0.245, 'neu': 0.755, 'pos': 0.0, 'comp...   \n",
       "1             Neutral  {'neg': 0.441, 'neu': 0.559, 'pos': 0.0, 'comp...   \n",
       "2            Positive  {'neg': 0.0, 'neu': 0.714, 'pos': 0.286, 'comp...   \n",
       "3            Positive  {'neg': 0.45, 'neu': 0.3, 'pos': 0.25, 'compou...   \n",
       "4            Negative  {'neg': 0.444, 'neu': 0.556, 'pos': 0.0, 'comp...   \n",
       "\n",
       "   vader_neg vader_neu vader_pos vader_compound  sentiment_vader  \n",
       "0      0.245     0.755     0.000        -0.3818         negative  \n",
       "1      0.441     0.559     0.000        -0.7269         negative  \n",
       "2      0.000     0.714     0.286         0.4939         positive  \n",
       "3      0.450     0.300     0.250        -0.2500         negative  \n",
       "4      0.444     0.556     0.000        -0.4939         negative  \n",
       "\n",
       "[5 rows x 27 columns]"
      ]
     },
     "execution_count": 78,
     "metadata": {},
     "output_type": "execute_result"
    }
   ],
   "source": [
    "#View the first 5 observations\n",
    "df.head(5)"
   ]
  },
  {
   "cell_type": "markdown",
   "id": "fd1f5c29",
   "metadata": {},
   "source": [
    "# Determine which one to use between vader and textblob by evaluating their performance using "
   ]
  },
  {
   "cell_type": "markdown",
   "id": "f672e0b9",
   "metadata": {},
   "source": [
    "# Using TfidfVectorizer, countvectorizer AND MNB "
   ]
  },
  {
   "cell_type": "markdown",
   "id": "e0cec963",
   "metadata": {},
   "source": [
    "### Textblob sentiments"
   ]
  },
  {
   "cell_type": "code",
   "execution_count": 79,
   "id": "8531105d",
   "metadata": {},
   "outputs": [
    {
     "name": "stdout",
     "output_type": "stream",
     "text": [
      "              precision    recall  f1-score   support\n",
      "\n",
      "    Negative       0.96      0.65      0.77     65410\n",
      "     Neutral       0.82      0.81      0.82    118744\n",
      "    Positive       0.78      0.91      0.84    135472\n",
      "\n",
      "    accuracy                           0.82    319626\n",
      "   macro avg       0.85      0.79      0.81    319626\n",
      "weighted avg       0.83      0.82      0.82    319626\n",
      "\n"
     ]
    }
   ],
   "source": [
    "from sklearn.feature_extraction.text import TfidfVectorizer\n",
    "from sklearn.model_selection import train_test_split\n",
    "from sklearn.naive_bayes import MultinomialNB\n",
    "from sklearn.metrics import classification_report\n",
    "\n",
    "#Vectorize the Text Data using TF-IDF\n",
    "tfidf = TfidfVectorizer(max_features=1000, lowercase=True, analyzer='word',\n",
    "                        stop_words='english', ngram_range=(1,1))\n",
    "X = tfidf.fit_transform(df['preprocessed_text'])\n",
    "y = df['textblob_sentiment']\n",
    "\n",
    "#Split the data into Train-Test\n",
    "X_train, X_test, y_train, y_test = train_test_split(X, y, test_size=0.2, random_state=42)\n",
    "\n",
    "#Create a classifier for MNB\n",
    "classifier = MultinomialNB()\n",
    "\n",
    "#Train the Classifier\n",
    "classifier.fit(X_train, y_train)\n",
    "\n",
    "#Evaluate the Model\n",
    "y_pred = classifier.predict(X_test)\n",
    "print(classification_report(y_test, y_pred))"
   ]
  },
  {
   "cell_type": "markdown",
   "id": "6e3850c6",
   "metadata": {},
   "source": [
    "# vader sentiment"
   ]
  },
  {
   "cell_type": "code",
   "execution_count": 80,
   "id": "689793f3",
   "metadata": {},
   "outputs": [
    {
     "name": "stdout",
     "output_type": "stream",
     "text": [
      "              precision    recall  f1-score   support\n",
      "\n",
      "    negative       0.88      0.58      0.70     77131\n",
      "     neutral       0.75      0.58      0.66     89589\n",
      "    positive       0.70      0.92      0.80    152906\n",
      "\n",
      "    accuracy                           0.74    319626\n",
      "   macro avg       0.78      0.69      0.72    319626\n",
      "weighted avg       0.76      0.74      0.73    319626\n",
      "\n"
     ]
    }
   ],
   "source": [
    "#Vectorize the Text Data using TF-IDF\n",
    "tfidf = TfidfVectorizer(max_features=1000, lowercase=True, analyzer='word',\n",
    "                        stop_words='english', ngram_range=(1,1))\n",
    "X = tfidf.fit_transform(df['preprocessed_text'])\n",
    "y = df['sentiment_vader']\n",
    "\n",
    "#Split the data into Train-Test\n",
    "X_train, X_test, y_train, y_test = train_test_split(X, y, test_size=0.2, random_state=42)\n",
    "\n",
    "#Create a classifier for MNB\n",
    "classifier = MultinomialNB()\n",
    "\n",
    "#Train the Classifier\n",
    "classifier.fit(X_train, y_train)\n",
    "\n",
    "#Evaluate the Model\n",
    "y_pred = classifier.predict(X_test)\n",
    "print(classification_report(y_test, y_pred))"
   ]
  },
  {
   "cell_type": "markdown",
   "id": "8e4a5f46",
   "metadata": {},
   "source": [
    "# USING COUNTVECTORIZER"
   ]
  },
  {
   "cell_type": "code",
   "execution_count": 81,
   "id": "f4fbc686",
   "metadata": {},
   "outputs": [
    {
     "name": "stderr",
     "output_type": "stream",
     "text": [
      "C:\\Users\\Diana\\anaconda3\\Lib\\site-packages\\sklearn\\feature_extraction\\text.py:525: UserWarning: The parameter 'token_pattern' will not be used since 'tokenizer' is not None'\n",
      "  warnings.warn(\n"
     ]
    }
   ],
   "source": [
    "#Pre-Processing using Count Vectorizer\n",
    "from sklearn.feature_extraction.text import CountVectorizer\n",
    "from nltk.tokenize import RegexpTokenizer\n",
    "\n",
    "token = RegexpTokenizer(r'[a-zA-Z0-9]+')\n",
    "cv    = CountVectorizer(stop_words = 'english',ngram_range = (1, 1),tokenizer = token.tokenize)\n",
    "text_counts = cv.fit_transform(df['text'])"
   ]
  },
  {
   "cell_type": "markdown",
   "id": "e14451a1",
   "metadata": {},
   "source": [
    "## textblob sentiments using count vectorizer"
   ]
  },
  {
   "cell_type": "code",
   "execution_count": 82,
   "id": "bf47151b",
   "metadata": {},
   "outputs": [
    {
     "name": "stdout",
     "output_type": "stream",
     "text": [
      "Accuracy Score:  0.8343000882281166\n"
     ]
    }
   ],
   "source": [
    "#Split the data into training and testing\n",
    "from sklearn.model_selection import train_test_split\n",
    "X_train, X_test, Y_train, Y_test = train_test_split(text_counts, df['textblob_sentiment'], test_size=0.2, random_state=42)\n",
    "\n",
    "#Training the model\n",
    "from sklearn.naive_bayes import MultinomialNB\n",
    "MNB = MultinomialNB()\n",
    "MNB.fit(X_train, Y_train)\n",
    "\n",
    "#Caluclate the accuracy score of the model\n",
    "from sklearn import metrics\n",
    "predicted = MNB.predict(X_test)\n",
    "accuracy_score = metrics.accuracy_score(predicted, Y_test)\n",
    "print(\"Accuracy Score: \",accuracy_score)"
   ]
  },
  {
   "cell_type": "markdown",
   "id": "183d31dd",
   "metadata": {},
   "source": [
    "## vader sentiments using count vectorizer"
   ]
  },
  {
   "cell_type": "code",
   "execution_count": 83,
   "id": "8ec33ae3",
   "metadata": {},
   "outputs": [
    {
     "name": "stdout",
     "output_type": "stream",
     "text": [
      "Accuracy Score:  0.7684565942152318\n"
     ]
    }
   ],
   "source": [
    "#Split the data into training and testing\n",
    "from sklearn.model_selection import train_test_split\n",
    "X_train, X_test, Y_train, Y_test = train_test_split(text_counts, df['sentiment_vader'], test_size=0.25, random_state=5)\n",
    "\n",
    "#Training the model\n",
    "from sklearn.naive_bayes import MultinomialNB\n",
    "MNB = MultinomialNB()\n",
    "MNB.fit(X_train, Y_train)\n",
    "\n",
    "#Caluclate the accuracy score of the model\n",
    "from sklearn import metrics\n",
    "predicted = MNB.predict(X_test)\n",
    "accuracy_score = metrics.accuracy_score(predicted, Y_test)\n",
    "print(\"Accuracy Score: \",accuracy_score)"
   ]
  },
  {
   "cell_type": "markdown",
   "id": "7749e521",
   "metadata": {},
   "source": [
    "## Since the accuracy of sentiments extracted by textblob in both countvectorizer and TDIF is higher sentiments extracted by textblob will be used"
   ]
  },
  {
   "cell_type": "code",
   "execution_count": 84,
   "id": "1b6d5929",
   "metadata": {},
   "outputs": [
    {
     "name": "stdout",
     "output_type": "stream",
     "text": [
      "<class 'pandas.core.frame.DataFrame'>\n",
      "RangeIndex: 1598127 entries, 0 to 1598126\n",
      "Data columns (total 27 columns):\n",
      " #   Column              Non-Null Count    Dtype         \n",
      "---  ------              --------------    -----         \n",
      " 0   date                1598127 non-null  datetime64[ns]\n",
      " 1   text                1598127 non-null  object        \n",
      " 2   user                1598127 non-null  object        \n",
      " 3   day                 1598127 non-null  int64         \n",
      " 4   month               1598127 non-null  int64         \n",
      " 5   day_of_week         1598127 non-null  int64         \n",
      " 6   quarter             1598127 non-null  int64         \n",
      " 7   year                1598127 non-null  int64         \n",
      " 8   word_count          1598127 non-null  int64         \n",
      " 9   char_count          1598127 non-null  int64         \n",
      " 10  avg_word            1598127 non-null  float64       \n",
      " 11  stopwords           1598127 non-null  int64         \n",
      " 12  hashtags            1598127 non-null  int64         \n",
      " 13  at_sign             1598127 non-null  int64         \n",
      " 14  numerics            1598127 non-null  int64         \n",
      " 15  upper               1598127 non-null  int64         \n",
      " 16  text1               1598127 non-null  object        \n",
      " 17  tokenized_text      1598127 non-null  object        \n",
      " 18  preprocessed_text   1598127 non-null  object        \n",
      " 19  polarity_score      1598127 non-null  float64       \n",
      " 20  textblob_sentiment  1598127 non-null  object        \n",
      " 21  vader_sentiment     1598127 non-null  object        \n",
      " 22  vader_neg           1598127 non-null  float64       \n",
      " 23  vader_neu           1598127 non-null  float64       \n",
      " 24  vader_pos           1598127 non-null  float64       \n",
      " 25  vader_compound      1598127 non-null  float64       \n",
      " 26  sentiment_vader     1598127 non-null  object        \n",
      "dtypes: datetime64[ns](1), float64(6), int64(12), object(8)\n",
      "memory usage: 329.2+ MB\n"
     ]
    }
   ],
   "source": [
    "#Check the variables data type\n",
    "df.info()"
   ]
  },
  {
   "cell_type": "markdown",
   "id": "3b405944",
   "metadata": {},
   "source": [
    "# Visualization"
   ]
  },
  {
   "cell_type": "code",
   "execution_count": 85,
   "id": "9c407c7f",
   "metadata": {},
   "outputs": [
    {
     "data": {
      "image/png": "[encoded data removed]",
      "text/plain": [
       "<Figure size 800x600 with 1 Axes>"
      ]
     },
     "metadata": {},
     "output_type": "display_data"
    }
   ],
   "source": [
    "import matplotlib.pyplot as plt\n",
    "import seaborn as sns\n",
    "\n",
    "# Count the occurrences of each sentiment class\n",
    "sentiment_counts = df['textblob_sentiment'].value_counts()\n",
    "\n",
    "# Create a bar plot\n",
    "plt.figure(figsize=(8, 6))\n",
    "sns.barplot(x=sentiment_counts.index, y=sentiment_counts.values, palette='viridis')\n",
    "plt.title('Sentiment Class Distribution')\n",
    "plt.xlabel('Sentiment Class')\n",
    "plt.ylabel('Count')\n",
    "plt.xticks(rotation=45)\n",
    "plt.show()\n"
   ]
  },
  {
   "cell_type": "code",
   "execution_count": 86,
   "id": "c3ae6447",
   "metadata": {},
   "outputs": [
    {
     "data": {
      "text/html": [
       "<div>\n",
       "<style scoped>\n",
       "    .dataframe tbody tr th:only-of-type {\n",
       "        vertical-align: middle;\n",
       "    }\n",
       "\n",
       "    .dataframe tbody tr th {\n",
       "        vertical-align: top;\n",
       "    }\n",
       "\n",
       "    .dataframe thead th {\n",
       "        text-align: right;\n",
       "    }\n",
       "</style>\n",
       "<table border=\"1\" class=\"dataframe\">\n",
       "  <thead>\n",
       "    <tr style=\"text-align: right;\">\n",
       "      <th></th>\n",
       "      <th>date</th>\n",
       "      <th>text</th>\n",
       "      <th>user</th>\n",
       "      <th>day</th>\n",
       "      <th>month</th>\n",
       "      <th>day_of_week</th>\n",
       "      <th>quarter</th>\n",
       "      <th>year</th>\n",
       "      <th>word_count</th>\n",
       "      <th>char_count</th>\n",
       "      <th>...</th>\n",
       "      <th>tokenized_text</th>\n",
       "      <th>preprocessed_text</th>\n",
       "      <th>polarity_score</th>\n",
       "      <th>textblob_sentiment</th>\n",
       "      <th>vader_sentiment</th>\n",
       "      <th>vader_neg</th>\n",
       "      <th>vader_neu</th>\n",
       "      <th>vader_pos</th>\n",
       "      <th>vader_compound</th>\n",
       "      <th>sentiment_vader</th>\n",
       "    </tr>\n",
       "  </thead>\n",
       "  <tbody>\n",
       "    <tr>\n",
       "      <th>0</th>\n",
       "      <td>2009-04-07 05:19:45</td>\n",
       "      <td>@switchfoot http://twitpic.com/2y1zl - Awww, t...</td>\n",
       "      <td>_TheSpecialOne_</td>\n",
       "      <td>7</td>\n",
       "      <td>4</td>\n",
       "      <td>1</td>\n",
       "      <td>2</td>\n",
       "      <td>2009</td>\n",
       "      <td>20</td>\n",
       "      <td>115</td>\n",
       "      <td>...</td>\n",
       "      <td>awww thats bummer shoulda got david carr third...</td>\n",
       "      <td>awww thats bummer shoulda got david carr third...</td>\n",
       "      <td>0.200</td>\n",
       "      <td>Positive</td>\n",
       "      <td>{'neg': 0.245, 'neu': 0.755, 'pos': 0.0, 'comp...</td>\n",
       "      <td>0.245</td>\n",
       "      <td>0.755</td>\n",
       "      <td>0.000</td>\n",
       "      <td>-0.3818</td>\n",
       "      <td>negative</td>\n",
       "    </tr>\n",
       "    <tr>\n",
       "      <th>1</th>\n",
       "      <td>2009-04-07 05:19:49</td>\n",
       "      <td>is upset that he can't update his Facebook by ...</td>\n",
       "      <td>scotthamilton</td>\n",
       "      <td>7</td>\n",
       "      <td>4</td>\n",
       "      <td>1</td>\n",
       "      <td>2</td>\n",
       "      <td>2009</td>\n",
       "      <td>22</td>\n",
       "      <td>111</td>\n",
       "      <td>...</td>\n",
       "      <td>upset cant update facebook texting might cry r...</td>\n",
       "      <td>upset cant update facebook texting might cry r...</td>\n",
       "      <td>0.000</td>\n",
       "      <td>Neutral</td>\n",
       "      <td>{'neg': 0.441, 'neu': 0.559, 'pos': 0.0, 'comp...</td>\n",
       "      <td>0.441</td>\n",
       "      <td>0.559</td>\n",
       "      <td>0.000</td>\n",
       "      <td>-0.7269</td>\n",
       "      <td>negative</td>\n",
       "    </tr>\n",
       "    <tr>\n",
       "      <th>2</th>\n",
       "      <td>2009-04-07 05:19:53</td>\n",
       "      <td>@Kenichan I dived many times for the ball. Man...</td>\n",
       "      <td>mattycus</td>\n",
       "      <td>7</td>\n",
       "      <td>4</td>\n",
       "      <td>1</td>\n",
       "      <td>2</td>\n",
       "      <td>2009</td>\n",
       "      <td>19</td>\n",
       "      <td>89</td>\n",
       "      <td>...</td>\n",
       "      <td>dived many times ball managed save rest go bounds</td>\n",
       "      <td>dived many time ball managed save rest go bound</td>\n",
       "      <td>0.500</td>\n",
       "      <td>Positive</td>\n",
       "      <td>{'neg': 0.0, 'neu': 0.714, 'pos': 0.286, 'comp...</td>\n",
       "      <td>0.000</td>\n",
       "      <td>0.714</td>\n",
       "      <td>0.286</td>\n",
       "      <td>0.4939</td>\n",
       "      <td>positive</td>\n",
       "    </tr>\n",
       "    <tr>\n",
       "      <th>3</th>\n",
       "      <td>2009-04-07 05:19:57</td>\n",
       "      <td>my whole body feels itchy and like its on fire</td>\n",
       "      <td>ElleCTF</td>\n",
       "      <td>7</td>\n",
       "      <td>4</td>\n",
       "      <td>1</td>\n",
       "      <td>2</td>\n",
       "      <td>2009</td>\n",
       "      <td>11</td>\n",
       "      <td>47</td>\n",
       "      <td>...</td>\n",
       "      <td>whole body feels itchy like fire</td>\n",
       "      <td>whole body feel itchy like fire</td>\n",
       "      <td>0.200</td>\n",
       "      <td>Positive</td>\n",
       "      <td>{'neg': 0.45, 'neu': 0.3, 'pos': 0.25, 'compou...</td>\n",
       "      <td>0.450</td>\n",
       "      <td>0.300</td>\n",
       "      <td>0.250</td>\n",
       "      <td>-0.2500</td>\n",
       "      <td>negative</td>\n",
       "    </tr>\n",
       "    <tr>\n",
       "      <th>4</th>\n",
       "      <td>2009-04-07 05:19:57</td>\n",
       "      <td>@nationwideclass no, it's not behaving at all....</td>\n",
       "      <td>Karoli</td>\n",
       "      <td>7</td>\n",
       "      <td>4</td>\n",
       "      <td>1</td>\n",
       "      <td>2</td>\n",
       "      <td>2009</td>\n",
       "      <td>22</td>\n",
       "      <td>111</td>\n",
       "      <td>...</td>\n",
       "      <td>behaving im mad cant see</td>\n",
       "      <td>behaving im mad cant see</td>\n",
       "      <td>-0.625</td>\n",
       "      <td>Negative</td>\n",
       "      <td>{'neg': 0.444, 'neu': 0.556, 'pos': 0.0, 'comp...</td>\n",
       "      <td>0.444</td>\n",
       "      <td>0.556</td>\n",
       "      <td>0.000</td>\n",
       "      <td>-0.4939</td>\n",
       "      <td>negative</td>\n",
       "    </tr>\n",
       "  </tbody>\n",
       "</table>\n",
       "<p>5 rows × 27 columns</p>\n",
       "</div>"
      ],
      "text/plain": [
       "                 date                                               text  \\\n",
       "0 2009-04-07 05:19:45  @switchfoot http://twitpic.com/2y1zl - Awww, t...   \n",
       "1 2009-04-07 05:19:49  is upset that he can't update his Facebook by ...   \n",
       "2 2009-04-07 05:19:53  @Kenichan I dived many times for the ball. Man...   \n",
       "3 2009-04-07 05:19:57    my whole body feels itchy and like its on fire    \n",
       "4 2009-04-07 05:19:57  @nationwideclass no, it's not behaving at all....   \n",
       "\n",
       "              user  day  month  day_of_week  quarter  year  word_count  \\\n",
       "0  _TheSpecialOne_    7      4            1        2  2009          20   \n",
       "1    scotthamilton    7      4            1        2  2009          22   \n",
       "2         mattycus    7      4            1        2  2009          19   \n",
       "3          ElleCTF    7      4            1        2  2009          11   \n",
       "4           Karoli    7      4            1        2  2009          22   \n",
       "\n",
       "   char_count  ...                                     tokenized_text  \\\n",
       "0         115  ...  awww thats bummer shoulda got david carr third...   \n",
       "1         111  ...  upset cant update facebook texting might cry r...   \n",
       "2          89  ...  dived many times ball managed save rest go bounds   \n",
       "3          47  ...                   whole body feels itchy like fire   \n",
       "4         111  ...                           behaving im mad cant see   \n",
       "\n",
       "                                   preprocessed_text  polarity_score  \\\n",
       "0  awww thats bummer shoulda got david carr third...           0.200   \n",
       "1  upset cant update facebook texting might cry r...           0.000   \n",
       "2    dived many time ball managed save rest go bound           0.500   \n",
       "3                    whole body feel itchy like fire           0.200   \n",
       "4                           behaving im mad cant see          -0.625   \n",
       "\n",
       "   textblob_sentiment                                    vader_sentiment  \\\n",
       "0            Positive  {'neg': 0.245, 'neu': 0.755, 'pos': 0.0, 'comp...   \n",
       "1             Neutral  {'neg': 0.441, 'neu': 0.559, 'pos': 0.0, 'comp...   \n",
       "2            Positive  {'neg': 0.0, 'neu': 0.714, 'pos': 0.286, 'comp...   \n",
       "3            Positive  {'neg': 0.45, 'neu': 0.3, 'pos': 0.25, 'compou...   \n",
       "4            Negative  {'neg': 0.444, 'neu': 0.556, 'pos': 0.0, 'comp...   \n",
       "\n",
       "   vader_neg vader_neu vader_pos vader_compound  sentiment_vader  \n",
       "0      0.245     0.755     0.000        -0.3818         negative  \n",
       "1      0.441     0.559     0.000        -0.7269         negative  \n",
       "2      0.000     0.714     0.286         0.4939         positive  \n",
       "3      0.450     0.300     0.250        -0.2500         negative  \n",
       "4      0.444     0.556     0.000        -0.4939         negative  \n",
       "\n",
       "[5 rows x 27 columns]"
      ]
     },
     "execution_count": 86,
     "metadata": {},
     "output_type": "execute_result"
    }
   ],
   "source": [
    "df.head(5)"
   ]
  },
  {
   "cell_type": "code",
   "execution_count": 87,
   "id": "ca4bd056",
   "metadata": {},
   "outputs": [
    {
     "name": "stdout",
     "output_type": "stream",
     "text": [
      "<class 'pandas.core.frame.DataFrame'>\n",
      "RangeIndex: 1598127 entries, 0 to 1598126\n",
      "Data columns (total 27 columns):\n",
      " #   Column              Non-Null Count    Dtype         \n",
      "---  ------              --------------    -----         \n",
      " 0   date                1598127 non-null  datetime64[ns]\n",
      " 1   text                1598127 non-null  object        \n",
      " 2   user                1598127 non-null  object        \n",
      " 3   day                 1598127 non-null  int64         \n",
      " 4   month               1598127 non-null  int64         \n",
      " 5   day_of_week         1598127 non-null  int64         \n",
      " 6   quarter             1598127 non-null  int64         \n",
      " 7   year                1598127 non-null  int64         \n",
      " 8   word_count          1598127 non-null  int64         \n",
      " 9   char_count          1598127 non-null  int64         \n",
      " 10  avg_word            1598127 non-null  float64       \n",
      " 11  stopwords           1598127 non-null  int64         \n",
      " 12  hashtags            1598127 non-null  int64         \n",
      " 13  at_sign             1598127 non-null  int64         \n",
      " 14  numerics            1598127 non-null  int64         \n",
      " 15  upper               1598127 non-null  int64         \n",
      " 16  text1               1598127 non-null  object        \n",
      " 17  tokenized_text      1598127 non-null  object        \n",
      " 18  preprocessed_text   1598127 non-null  object        \n",
      " 19  polarity_score      1598127 non-null  float64       \n",
      " 20  textblob_sentiment  1598127 non-null  object        \n",
      " 21  vader_sentiment     1598127 non-null  object        \n",
      " 22  vader_neg           1598127 non-null  float64       \n",
      " 23  vader_neu           1598127 non-null  float64       \n",
      " 24  vader_pos           1598127 non-null  float64       \n",
      " 25  vader_compound      1598127 non-null  float64       \n",
      " 26  sentiment_vader     1598127 non-null  object        \n",
      "dtypes: datetime64[ns](1), float64(6), int64(12), object(8)\n",
      "memory usage: 329.2+ MB\n"
     ]
    }
   ],
   "source": [
    "df.info()"
   ]
  },
  {
   "cell_type": "markdown",
   "id": "f384b907",
   "metadata": {},
   "source": [
    "# Drop all columns except date and sentiments"
   ]
  },
  {
   "cell_type": "code",
   "execution_count": 88,
   "id": "8782b11f",
   "metadata": {},
   "outputs": [],
   "source": [
    "df = df[['date','textblob_sentiment']]"
   ]
  },
  {
   "cell_type": "code",
   "execution_count": 89,
   "id": "3556cd08",
   "metadata": {},
   "outputs": [
    {
     "data": {
      "text/html": [
       "<div>\n",
       "<style scoped>\n",
       "    .dataframe tbody tr th:only-of-type {\n",
       "        vertical-align: middle;\n",
       "    }\n",
       "\n",
       "    .dataframe tbody tr th {\n",
       "        vertical-align: top;\n",
       "    }\n",
       "\n",
       "    .dataframe thead th {\n",
       "        text-align: right;\n",
       "    }\n",
       "</style>\n",
       "<table border=\"1\" class=\"dataframe\">\n",
       "  <thead>\n",
       "    <tr style=\"text-align: right;\">\n",
       "      <th></th>\n",
       "      <th>date</th>\n",
       "      <th>textblob_sentiment</th>\n",
       "    </tr>\n",
       "  </thead>\n",
       "  <tbody>\n",
       "    <tr>\n",
       "      <th>0</th>\n",
       "      <td>2009-04-07 05:19:45</td>\n",
       "      <td>Positive</td>\n",
       "    </tr>\n",
       "    <tr>\n",
       "      <th>1</th>\n",
       "      <td>2009-04-07 05:19:49</td>\n",
       "      <td>Neutral</td>\n",
       "    </tr>\n",
       "    <tr>\n",
       "      <th>2</th>\n",
       "      <td>2009-04-07 05:19:53</td>\n",
       "      <td>Positive</td>\n",
       "    </tr>\n",
       "    <tr>\n",
       "      <th>3</th>\n",
       "      <td>2009-04-07 05:19:57</td>\n",
       "      <td>Positive</td>\n",
       "    </tr>\n",
       "    <tr>\n",
       "      <th>4</th>\n",
       "      <td>2009-04-07 05:19:57</td>\n",
       "      <td>Negative</td>\n",
       "    </tr>\n",
       "  </tbody>\n",
       "</table>\n",
       "</div>"
      ],
      "text/plain": [
       "                 date textblob_sentiment\n",
       "0 2009-04-07 05:19:45           Positive\n",
       "1 2009-04-07 05:19:49            Neutral\n",
       "2 2009-04-07 05:19:53           Positive\n",
       "3 2009-04-07 05:19:57           Positive\n",
       "4 2009-04-07 05:19:57           Negative"
      ]
     },
     "execution_count": 89,
     "metadata": {},
     "output_type": "execute_result"
    }
   ],
   "source": [
    "df.head(5)"
   ]
  },
  {
   "cell_type": "markdown",
   "id": "f1707404",
   "metadata": {},
   "source": [
    "## Encode the Sentiments\n",
    "Try \n",
    "label and one hot and see which one performs better"
   ]
  },
  {
   "cell_type": "markdown",
   "id": "b69e26f4",
   "metadata": {},
   "source": [
    "## Label Encoder"
   ]
  },
  {
   "cell_type": "code",
   "execution_count": 90,
   "id": "7bcab16d",
   "metadata": {},
   "outputs": [],
   "source": [
    "from sklearn.preprocessing import LabelEncoder\n",
    "\n",
    "# Create a LabelEncoder object\n",
    "label_encoder = LabelEncoder()\n",
    "\n",
    "# Fit and transform the 'textblob_sentiment' column\n",
    "df.loc[:, 'label_encoded'] = label_encoder.fit_transform(df['textblob_sentiment'])"
   ]
  },
  {
   "cell_type": "code",
   "execution_count": 91,
   "id": "6a7a1b19",
   "metadata": {},
   "outputs": [
    {
     "name": "stdout",
     "output_type": "stream",
     "text": [
      "Textblob Sentiment Counts:\n",
      "Positive    678483\n",
      "Neutral     593056\n",
      "Negative    326588\n",
      "Name: textblob_sentiment, dtype: int64\n"
     ]
    }
   ],
   "source": [
    "#Count occurrences of each sentiment class\n",
    "sentiment_textblob = df['textblob_sentiment'].value_counts()\n",
    "\n",
    "# Display the result as a table\n",
    "print(\"Textblob Sentiment Counts:\")\n",
    "print(sentiment_textblob)"
   ]
  },
  {
   "cell_type": "markdown",
   "id": "73a4ab4a",
   "metadata": {},
   "source": [
    "There is class imbalance, in the sentiment data. Class imbalance occurs when one class (or classes) has significantly more samples than the other classes. In this case, the counts of sentiment classes are as follows:\n",
    "\n",
    "for textblob sentiments\n",
    "\n",
    "Class positive: 678,483 samples\n",
    "\n",
    "Class neutral: 593,056 samples\n",
    "\n",
    "Class negative: 326,588 samples\n",
    "\n",
    "\n",
    "The class imbalance can potentially affect the performance of the machine learning model, especially if the minority class (in this case, class negative) in textblob\n",
    "\n",
    "To address class imbalance here are some techniques to be considered:-\n",
    "\n",
    "- Resampling: Either oversampling the minority class (creating more samples of the minority class) or undersampling the majority class (removing samples from the majority class).\n",
    "\n",
    "- Class weights: Assigning higher weights to the minority class during model training to give it more importance.\n",
    "\n",
    "- Synthetic data generation: Generating synthetic samples for the minority class using techniques like SMOTE (Synthetic Minority Over-sampling Technique).\n",
    "\n",
    "- Different algorithms: Using algorithms that are less sensitive to class imbalance, such as decision trees or random forests.\n",
    "\n",
    "    \n"
   ]
  },
  {
   "cell_type": "markdown",
   "id": "23356759",
   "metadata": {},
   "source": [
    "# Handling Missing Dates\n",
    "- Forward-Filling Method\n",
    "- Backward-Filling Method\n",
    "- Linear Interpolation\n",
    "- Trend and Seasonal Decomposition"
   ]
  },
  {
   "cell_type": "code",
   "execution_count": 92,
   "id": "3438668c",
   "metadata": {},
   "outputs": [],
   "source": [
    "df_copy = df.copy()"
   ]
  },
  {
   "cell_type": "code",
   "execution_count": 93,
   "id": "5c4db294",
   "metadata": {},
   "outputs": [],
   "source": [
    "#Sort DataFrame by date in ascending order\n",
    "df_copy.sort_values(by='date', ascending=True, inplace=True)\n",
    "#Set 'date' variable as the index\n",
    "df_copy.set_index('date', inplace=True)  "
   ]
  },
  {
   "cell_type": "code",
   "execution_count": 94,
   "id": "e732781d",
   "metadata": {},
   "outputs": [],
   "source": [
    "import pandas as pd\n",
    "import numpy as np\n",
    "\n",
    "# Handle missing dates\n",
    "start_date = df_copy.index.min()\n",
    "end_date = df_copy.index.max()\n",
    "all_dates = pd.date_range(start=start_date, end=end_date, freq='D')\n",
    "missing_dates = all_dates.difference(df_copy.index)\n",
    "if not missing_dates.empty:\n",
    "    for date in missing_dates:\n",
    "        df_copy.loc[date] = np.nan\n",
    "\n",
    "# Interpolate missing values\n",
    "df_copy.interpolate(method='linear', inplace=True)"
   ]
  },
  {
   "cell_type": "code",
   "execution_count": 95,
   "id": "d61a5ec7",
   "metadata": {},
   "outputs": [
    {
     "data": {
      "image/png": "[encoded data removed]",
      "text/plain": [
       "<Figure size 1000x600 with 1 Axes>"
      ]
     },
     "metadata": {},
     "output_type": "display_data"
    }
   ],
   "source": [
    "import matplotlib.pyplot as plt\n",
    "plt.figure(figsize=(10, 6))\n",
    "plt.bar(missing_dates, [1] * len(missing_dates))\n",
    "plt.title(\"Missing Dates\")\n",
    "plt.xlabel(\"Date\")\n",
    "plt.ylabel(\"Count\")\n",
    "plt.xticks(rotation=45)\n",
    "plt.show()"
   ]
  },
  {
   "cell_type": "code",
   "execution_count": 96,
   "id": "64c9755c",
   "metadata": {},
   "outputs": [
    {
     "data": {
      "text/plain": [
       "(1598199, 2)"
      ]
     },
     "execution_count": 96,
     "metadata": {},
     "output_type": "execute_result"
    }
   ],
   "source": [
    "#Check shape of the df_copy after interporlation\n",
    "df_copy.shape"
   ]
  },
  {
   "cell_type": "code",
   "execution_count": 97,
   "id": "0c6c7acc",
   "metadata": {},
   "outputs": [
    {
     "data": {
      "text/plain": [
       "textblob_sentiment    72\n",
       "label_encoded          0\n",
       "dtype: int64"
      ]
     },
     "execution_count": 97,
     "metadata": {},
     "output_type": "execute_result"
    }
   ],
   "source": [
    "#Checking for missing data after interpolation\n",
    "df_copy.isnull().sum()\n"
   ]
  },
  {
   "cell_type": "markdown",
   "id": "26e165d8",
   "metadata": {},
   "source": [
    "# Filling the missing values generated after interpolation with modal class of each week"
   ]
  },
  {
   "cell_type": "code",
   "execution_count": 98,
   "id": "f7deddd2",
   "metadata": {},
   "outputs": [
    {
     "data": {
      "text/html": [
       "<div>\n",
       "<style scoped>\n",
       "    .dataframe tbody tr th:only-of-type {\n",
       "        vertical-align: middle;\n",
       "    }\n",
       "\n",
       "    .dataframe tbody tr th {\n",
       "        vertical-align: top;\n",
       "    }\n",
       "\n",
       "    .dataframe thead th {\n",
       "        text-align: right;\n",
       "    }\n",
       "</style>\n",
       "<table border=\"1\" class=\"dataframe\">\n",
       "  <thead>\n",
       "    <tr style=\"text-align: right;\">\n",
       "      <th></th>\n",
       "      <th>textblob_sentiment</th>\n",
       "      <th>label_encoded</th>\n",
       "    </tr>\n",
       "    <tr>\n",
       "      <th>date</th>\n",
       "      <th></th>\n",
       "      <th></th>\n",
       "    </tr>\n",
       "  </thead>\n",
       "  <tbody>\n",
       "    <tr>\n",
       "      <th>2009-04-07 05:19:45</th>\n",
       "      <td>Positive</td>\n",
       "      <td>2.0</td>\n",
       "    </tr>\n",
       "    <tr>\n",
       "      <th>2009-04-07 05:19:49</th>\n",
       "      <td>Neutral</td>\n",
       "      <td>1.0</td>\n",
       "    </tr>\n",
       "    <tr>\n",
       "      <th>2009-04-07 05:19:53</th>\n",
       "      <td>Positive</td>\n",
       "      <td>2.0</td>\n",
       "    </tr>\n",
       "    <tr>\n",
       "      <th>2009-04-07 05:19:57</th>\n",
       "      <td>Positive</td>\n",
       "      <td>2.0</td>\n",
       "    </tr>\n",
       "    <tr>\n",
       "      <th>2009-04-07 05:19:57</th>\n",
       "      <td>Negative</td>\n",
       "      <td>0.0</td>\n",
       "    </tr>\n",
       "  </tbody>\n",
       "</table>\n",
       "</div>"
      ],
      "text/plain": [
       "                    textblob_sentiment  label_encoded\n",
       "date                                                 \n",
       "2009-04-07 05:19:45           Positive            2.0\n",
       "2009-04-07 05:19:49            Neutral            1.0\n",
       "2009-04-07 05:19:53           Positive            2.0\n",
       "2009-04-07 05:19:57           Positive            2.0\n",
       "2009-04-07 05:19:57           Negative            0.0"
      ]
     },
     "execution_count": 98,
     "metadata": {},
     "output_type": "execute_result"
    }
   ],
   "source": [
    "df_copy.head(5)"
   ]
  },
  {
   "cell_type": "code",
   "execution_count": 99,
   "id": "6d1e1a5d",
   "metadata": {},
   "outputs": [
    {
     "name": "stdout",
     "output_type": "stream",
     "text": [
      "                 date textblob_sentiment  label_encoded\n",
      "0 2009-04-07 05:19:45           Positive            2.0\n",
      "1 2009-04-07 05:19:49            Neutral            1.0\n",
      "2 2009-04-07 05:19:53           Positive            2.0\n",
      "3 2009-04-07 05:19:57           Positive            2.0\n",
      "4 2009-04-07 05:19:57           Negative            0.0\n"
     ]
    }
   ],
   "source": [
    "df_copy = df_copy.reset_index()\n",
    "\n",
    "# Check if the index has been reset\n",
    "print(df_copy.head(5))"
   ]
  },
  {
   "cell_type": "code",
   "execution_count": 100,
   "id": "76075ef0",
   "metadata": {},
   "outputs": [
    {
     "name": "stdout",
     "output_type": "stream",
     "text": [
      "<class 'pandas.core.frame.DataFrame'>\n",
      "RangeIndex: 1598199 entries, 0 to 1598198\n",
      "Data columns (total 3 columns):\n",
      " #   Column              Non-Null Count    Dtype         \n",
      "---  ------              --------------    -----         \n",
      " 0   date                1598199 non-null  datetime64[ns]\n",
      " 1   textblob_sentiment  1598127 non-null  object        \n",
      " 2   label_encoded       1598199 non-null  float64       \n",
      "dtypes: datetime64[ns](1), float64(1), object(1)\n",
      "memory usage: 36.6+ MB\n"
     ]
    }
   ],
   "source": [
    "df_copy.info()"
   ]
  },
  {
   "cell_type": "code",
   "execution_count": 101,
   "id": "c4210d2f",
   "metadata": {},
   "outputs": [
    {
     "name": "stdout",
     "output_type": "stream",
     "text": [
      "                            date textblob_sentiment  label_encoded\n",
      "date                                                              \n",
      "2009 0       2009-04-07 05:19:45           Positive            2.0\n",
      "     1       2009-04-07 05:19:49            Neutral            1.0\n",
      "     2       2009-04-07 05:19:53           Positive            2.0\n",
      "     3       2009-04-07 05:19:57           Positive            2.0\n",
      "     4       2009-04-07 05:19:57           Negative            0.0\n",
      "...                          ...                ...            ...\n",
      "     1598194 2009-06-21 05:19:45            Neutral            2.0\n",
      "     1598195 2009-06-22 05:19:45            Neutral            2.0\n",
      "     1598196 2009-06-23 05:19:45            Neutral            2.0\n",
      "     1598197 2009-06-24 05:19:45            Neutral            2.0\n",
      "     1598198 2009-06-25 05:19:45            Neutral            2.0\n",
      "\n",
      "[1598199 rows x 3 columns]\n"
     ]
    }
   ],
   "source": [
    "import pandas as pd\n",
    "\n",
    "# Function to impute missing textblob_sentiment values by week\n",
    "def impute_sentiment_by_week(df_copy):\n",
    "    mode_sentiments = df_copy.groupby(df_copy['date'].dt.isocalendar().week)['textblob_sentiment'].apply(lambda x: x.mode()[0])\n",
    "    df_copy['textblob_sentiment'] = df_copy['textblob_sentiment'].fillna(df_copy['date'].dt.isocalendar().week.map(mode_sentiments))\n",
    "    return df_copy\n",
    "\n",
    "# Apply function to impute missing textblob_sentiment values\n",
    "df_copy = df_copy.groupby(df_copy['date'].dt.year, group_keys=True).apply(impute_sentiment_by_week)\n",
    "\n",
    "print(df_copy)\n",
    "\n"
   ]
  },
  {
   "cell_type": "code",
   "execution_count": 102,
   "id": "0689607e",
   "metadata": {},
   "outputs": [
    {
     "data": {
      "text/plain": [
       "date                  0\n",
       "textblob_sentiment    0\n",
       "label_encoded         0\n",
       "dtype: int64"
      ]
     },
     "execution_count": 102,
     "metadata": {},
     "output_type": "execute_result"
    }
   ],
   "source": [
    "#Checking for missing data after interpolation\n",
    "df_copy.isnull().sum()"
   ]
  },
  {
   "cell_type": "code",
   "execution_count": 103,
   "id": "720d5b07",
   "metadata": {},
   "outputs": [
    {
     "data": {
      "text/html": [
       "<div>\n",
       "<style scoped>\n",
       "    .dataframe tbody tr th:only-of-type {\n",
       "        vertical-align: middle;\n",
       "    }\n",
       "\n",
       "    .dataframe tbody tr th {\n",
       "        vertical-align: top;\n",
       "    }\n",
       "\n",
       "    .dataframe thead th {\n",
       "        text-align: right;\n",
       "    }\n",
       "</style>\n",
       "<table border=\"1\" class=\"dataframe\">\n",
       "  <thead>\n",
       "    <tr style=\"text-align: right;\">\n",
       "      <th></th>\n",
       "      <th></th>\n",
       "      <th>date</th>\n",
       "      <th>textblob_sentiment</th>\n",
       "      <th>label_encoded</th>\n",
       "    </tr>\n",
       "    <tr>\n",
       "      <th>date</th>\n",
       "      <th></th>\n",
       "      <th></th>\n",
       "      <th></th>\n",
       "      <th></th>\n",
       "    </tr>\n",
       "  </thead>\n",
       "  <tbody>\n",
       "    <tr>\n",
       "      <th rowspan=\"5\" valign=\"top\">2009</th>\n",
       "      <th>0</th>\n",
       "      <td>2009-04-07 05:19:45</td>\n",
       "      <td>Positive</td>\n",
       "      <td>2.0</td>\n",
       "    </tr>\n",
       "    <tr>\n",
       "      <th>1</th>\n",
       "      <td>2009-04-07 05:19:49</td>\n",
       "      <td>Neutral</td>\n",
       "      <td>1.0</td>\n",
       "    </tr>\n",
       "    <tr>\n",
       "      <th>2</th>\n",
       "      <td>2009-04-07 05:19:53</td>\n",
       "      <td>Positive</td>\n",
       "      <td>2.0</td>\n",
       "    </tr>\n",
       "    <tr>\n",
       "      <th>3</th>\n",
       "      <td>2009-04-07 05:19:57</td>\n",
       "      <td>Positive</td>\n",
       "      <td>2.0</td>\n",
       "    </tr>\n",
       "    <tr>\n",
       "      <th>4</th>\n",
       "      <td>2009-04-07 05:19:57</td>\n",
       "      <td>Negative</td>\n",
       "      <td>0.0</td>\n",
       "    </tr>\n",
       "  </tbody>\n",
       "</table>\n",
       "</div>"
      ],
      "text/plain": [
       "                      date textblob_sentiment  label_encoded\n",
       "date                                                        \n",
       "2009 0 2009-04-07 05:19:45           Positive            2.0\n",
       "     1 2009-04-07 05:19:49            Neutral            1.0\n",
       "     2 2009-04-07 05:19:53           Positive            2.0\n",
       "     3 2009-04-07 05:19:57           Positive            2.0\n",
       "     4 2009-04-07 05:19:57           Negative            0.0"
      ]
     },
     "execution_count": 103,
     "metadata": {},
     "output_type": "execute_result"
    }
   ],
   "source": [
    "df_copy.head(5)"
   ]
  },
  {
   "cell_type": "code",
   "execution_count": 104,
   "id": "e8ca4fd3",
   "metadata": {},
   "outputs": [
    {
     "data": {
      "image/png": "[encoded data removed]",
      "text/plain": [
       "<Figure size 1000x600 with 1 Axes>"
      ]
     },
     "metadata": {},
     "output_type": "display_data"
    }
   ],
   "source": [
    "# Set 'date' back to index\n",
    "df_copy = df_copy.set_index('date')\n",
    "\n",
    "# Plot time series of sentiment classes\n",
    "plt.figure(figsize=(10, 6))\n",
    "\n",
    "# Group by sentiment classes and count occurrences for each date\n",
    "sentiment_counts = df_copy.groupby([df_copy.index.date, 'textblob_sentiment']).size().unstack(fill_value=0)\n",
    "\n",
    "# Plot each sentiment class\n",
    "for sentiment_class in sentiment_counts.columns:\n",
    "    plt.plot(sentiment_counts.index, sentiment_counts[sentiment_class], label=sentiment_class)\n",
    "\n",
    "plt.title('Sentiment Classes Over Time')\n",
    "plt.xlabel('Date')\n",
    "plt.ylabel('Count')\n",
    "plt.legend(title='Sentiment Class')\n",
    "plt.grid(True)\n",
    "plt.show()\n"
   ]
  },
  {
   "cell_type": "code",
   "execution_count": 105,
   "id": "315c37b4",
   "metadata": {},
   "outputs": [
    {
     "data": {
      "image/png": "[encoded data removed]",
      "text/plain": [
       "<Figure size 800x600 with 1 Axes>"
      ]
     },
     "metadata": {},
     "output_type": "display_data"
    }
   ],
   "source": [
    "import matplotlib.pyplot as plt\n",
    "import seaborn as sns\n",
    "\n",
    "# Count the occurrences of each sentiment class\n",
    "sentiment_counts = df_copy['textblob_sentiment'].value_counts()\n",
    "\n",
    "# Create a bar plot\n",
    "plt.figure(figsize=(8, 6))\n",
    "sns.barplot(x=sentiment_counts.index, y=sentiment_counts.values, palette='viridis')\n",
    "plt.title('Sentiment Class Distribution')\n",
    "plt.xlabel('Sentiment Class')\n",
    "plt.ylabel('Count')\n",
    "plt.xticks(rotation=45)\n",
    "plt.show()"
   ]
  },
  {
   "cell_type": "code",
   "execution_count": 106,
   "id": "5827fdb5",
   "metadata": {},
   "outputs": [],
   "source": [
    "from sklearn.model_selection import train_test_split\n",
    "from sklearn.preprocessing import LabelEncoder\n",
    "from sklearn.utils.class_weight import compute_class_weight\n",
    "from keras.models import Sequential\n",
    "from keras.layers import LSTM, Dense\n",
    "from keras.callbacks import EarlyStopping\n",
    "import numpy as np"
   ]
  },
  {
   "cell_type": "code",
   "execution_count": 108,
   "id": "59da4b2e",
   "metadata": {},
   "outputs": [
    {
     "data": {
      "text/html": [
       "<div>\n",
       "<style scoped>\n",
       "    .dataframe tbody tr th:only-of-type {\n",
       "        vertical-align: middle;\n",
       "    }\n",
       "\n",
       "    .dataframe tbody tr th {\n",
       "        vertical-align: top;\n",
       "    }\n",
       "\n",
       "    .dataframe thead th {\n",
       "        text-align: right;\n",
       "    }\n",
       "</style>\n",
       "<table border=\"1\" class=\"dataframe\">\n",
       "  <thead>\n",
       "    <tr style=\"text-align: right;\">\n",
       "      <th></th>\n",
       "      <th>date</th>\n",
       "      <th>textblob_sentiment</th>\n",
       "      <th>label_encoded</th>\n",
       "    </tr>\n",
       "  </thead>\n",
       "  <tbody>\n",
       "    <tr>\n",
       "      <th>0</th>\n",
       "      <td>2009-04-07 05:19:45</td>\n",
       "      <td>Positive</td>\n",
       "      <td>2.0</td>\n",
       "    </tr>\n",
       "    <tr>\n",
       "      <th>1</th>\n",
       "      <td>2009-04-07 05:19:49</td>\n",
       "      <td>Neutral</td>\n",
       "      <td>1.0</td>\n",
       "    </tr>\n",
       "    <tr>\n",
       "      <th>2</th>\n",
       "      <td>2009-04-07 05:19:53</td>\n",
       "      <td>Positive</td>\n",
       "      <td>2.0</td>\n",
       "    </tr>\n",
       "    <tr>\n",
       "      <th>3</th>\n",
       "      <td>2009-04-07 05:19:57</td>\n",
       "      <td>Positive</td>\n",
       "      <td>2.0</td>\n",
       "    </tr>\n",
       "    <tr>\n",
       "      <th>4</th>\n",
       "      <td>2009-04-07 05:19:57</td>\n",
       "      <td>Negative</td>\n",
       "      <td>0.0</td>\n",
       "    </tr>\n",
       "  </tbody>\n",
       "</table>\n",
       "</div>"
      ],
      "text/plain": [
       "                 date textblob_sentiment  label_encoded\n",
       "0 2009-04-07 05:19:45           Positive            2.0\n",
       "1 2009-04-07 05:19:49            Neutral            1.0\n",
       "2 2009-04-07 05:19:53           Positive            2.0\n",
       "3 2009-04-07 05:19:57           Positive            2.0\n",
       "4 2009-04-07 05:19:57           Negative            0.0"
      ]
     },
     "execution_count": 108,
     "metadata": {},
     "output_type": "execute_result"
    }
   ],
   "source": [
    "df_copy.head(5)"
   ]
  },
  {
   "cell_type": "code",
   "execution_count": 114,
   "id": "aafbf421",
   "metadata": {},
   "outputs": [
    {
     "name": "stdout",
     "output_type": "stream",
     "text": [
      "<class 'pandas.core.frame.DataFrame'>\n",
      "RangeIndex: 1598199 entries, 0 to 1598198\n",
      "Data columns (total 3 columns):\n",
      " #   Column              Non-Null Count    Dtype         \n",
      "---  ------              --------------    -----         \n",
      " 0   date                1598199 non-null  datetime64[ns]\n",
      " 1   textblob_sentiment  1598199 non-null  object        \n",
      " 2   label_encoded       1598199 non-null  float64       \n",
      "dtypes: datetime64[ns](1), float64(1), object(1)\n",
      "memory usage: 36.6+ MB\n"
     ]
    }
   ],
   "source": [
    "df_copy.info()"
   ]
  },
  {
   "cell_type": "code",
   "execution_count": 115,
   "id": "0c217cc0",
   "metadata": {},
   "outputs": [],
   "source": [
    "# Aggregate data for each day\n",
    "df_grouped = df_copy.groupby([df_copy['date'].dt.date, 'textblob_sentiment']).size().unstack(fill_value=0)\n",
    "\n",
    "# Reset index to convert 'date' back to a column\n",
    "df_grouped = df_grouped.reset_index()"
   ]
  },
  {
   "cell_type": "code",
   "execution_count": 116,
   "id": "816d38b9",
   "metadata": {},
   "outputs": [
    {
     "name": "stdout",
     "output_type": "stream",
     "text": [
      "<class 'pandas.core.frame.DataFrame'>\n",
      "RangeIndex: 80 entries, 0 to 79\n",
      "Data columns (total 4 columns):\n",
      " #   Column    Non-Null Count  Dtype \n",
      "---  ------    --------------  ----- \n",
      " 0   date      80 non-null     object\n",
      " 1   Negative  80 non-null     int64 \n",
      " 2   Neutral   80 non-null     int64 \n",
      " 3   Positive  80 non-null     int64 \n",
      "dtypes: int64(3), object(1)\n",
      "memory usage: 2.6+ KB\n"
     ]
    }
   ],
   "source": [
    "df_grouped.info()"
   ]
  },
  {
   "cell_type": "code",
   "execution_count": 118,
   "id": "cf416f1c",
   "metadata": {
    "scrolled": true
   },
   "outputs": [
    {
     "data": {
      "text/html": [
       "<div>\n",
       "<style scoped>\n",
       "    .dataframe tbody tr th:only-of-type {\n",
       "        vertical-align: middle;\n",
       "    }\n",
       "\n",
       "    .dataframe tbody tr th {\n",
       "        vertical-align: top;\n",
       "    }\n",
       "\n",
       "    .dataframe thead th {\n",
       "        text-align: right;\n",
       "    }\n",
       "</style>\n",
       "<table border=\"1\" class=\"dataframe\">\n",
       "  <thead>\n",
       "    <tr style=\"text-align: right;\">\n",
       "      <th>textblob_sentiment</th>\n",
       "      <th>Negative</th>\n",
       "      <th>Neutral</th>\n",
       "      <th>Positive</th>\n",
       "    </tr>\n",
       "    <tr>\n",
       "      <th>date</th>\n",
       "      <th></th>\n",
       "      <th></th>\n",
       "      <th></th>\n",
       "    </tr>\n",
       "  </thead>\n",
       "  <tbody>\n",
       "    <tr>\n",
       "      <th>2009-04-07</th>\n",
       "      <td>4109</td>\n",
       "      <td>7526</td>\n",
       "      <td>9008</td>\n",
       "    </tr>\n",
       "    <tr>\n",
       "      <th>2009-04-08</th>\n",
       "      <td>0</td>\n",
       "      <td>0</td>\n",
       "      <td>1</td>\n",
       "    </tr>\n",
       "    <tr>\n",
       "      <th>2009-04-09</th>\n",
       "      <td>0</td>\n",
       "      <td>0</td>\n",
       "      <td>1</td>\n",
       "    </tr>\n",
       "    <tr>\n",
       "      <th>2009-04-10</th>\n",
       "      <td>0</td>\n",
       "      <td>0</td>\n",
       "      <td>1</td>\n",
       "    </tr>\n",
       "    <tr>\n",
       "      <th>2009-04-11</th>\n",
       "      <td>0</td>\n",
       "      <td>0</td>\n",
       "      <td>1</td>\n",
       "    </tr>\n",
       "  </tbody>\n",
       "</table>\n",
       "</div>"
      ],
      "text/plain": [
       "textblob_sentiment  Negative  Neutral  Positive\n",
       "date                                           \n",
       "2009-04-07              4109     7526      9008\n",
       "2009-04-08                 0        0         1\n",
       "2009-04-09                 0        0         1\n",
       "2009-04-10                 0        0         1\n",
       "2009-04-11                 0        0         1"
      ]
     },
     "execution_count": 118,
     "metadata": {},
     "output_type": "execute_result"
    }
   ],
   "source": [
    "df_grouped.head(5)"
   ]
  },
  {
   "cell_type": "code",
   "execution_count": 117,
   "id": "72a29337",
   "metadata": {},
   "outputs": [
    {
     "ename": "TypeError",
     "evalue": "Only valid with DatetimeIndex, TimedeltaIndex or PeriodIndex, but got an instance of 'Index'",
     "output_type": "error",
     "traceback": [
      "\u001b[1;31m---------------------------------------------------------------------------\u001b[0m",
      "\u001b[1;31mTypeError\u001b[0m                                 Traceback (most recent call last)",
      "Cell \u001b[1;32mIn[117], line 3\u001b[0m\n\u001b[0;32m      1\u001b[0m \u001b[38;5;66;03m# Resample data to daily frequency\u001b[39;00m\n\u001b[0;32m      2\u001b[0m df_grouped\u001b[38;5;241m.\u001b[39mset_index(\u001b[38;5;124m'\u001b[39m\u001b[38;5;124mdate\u001b[39m\u001b[38;5;124m'\u001b[39m, inplace\u001b[38;5;241m=\u001b[39m\u001b[38;5;28;01mTrue\u001b[39;00m)\n\u001b[1;32m----> 3\u001b[0m df_resampled \u001b[38;5;241m=\u001b[39m df_grouped\u001b[38;5;241m.\u001b[39mresample(\u001b[38;5;124m'\u001b[39m\u001b[38;5;124mD\u001b[39m\u001b[38;5;124m'\u001b[39m)\u001b[38;5;241m.\u001b[39mffill()\n",
      "File \u001b[1;32m~\\anaconda3\\Lib\\site-packages\\pandas\\core\\frame.py:11392\u001b[0m, in \u001b[0;36mDataFrame.resample\u001b[1;34m(self, rule, axis, closed, label, convention, kind, loffset, base, on, level, origin, offset, group_keys)\u001b[0m\n\u001b[0;32m  11375\u001b[0m \u001b[38;5;129m@doc\u001b[39m(NDFrame\u001b[38;5;241m.\u001b[39mresample, \u001b[38;5;241m*\u001b[39m\u001b[38;5;241m*\u001b[39m_shared_doc_kwargs)\n\u001b[0;32m  11376\u001b[0m \u001b[38;5;28;01mdef\u001b[39;00m \u001b[38;5;21mresample\u001b[39m(\n\u001b[0;32m  11377\u001b[0m     \u001b[38;5;28mself\u001b[39m,\n\u001b[1;32m   (...)\u001b[0m\n\u001b[0;32m  11390\u001b[0m     group_keys: \u001b[38;5;28mbool\u001b[39m \u001b[38;5;241m|\u001b[39m lib\u001b[38;5;241m.\u001b[39mNoDefault \u001b[38;5;241m=\u001b[39m no_default,\n\u001b[0;32m  11391\u001b[0m ) \u001b[38;5;241m-\u001b[39m\u001b[38;5;241m>\u001b[39m Resampler:\n\u001b[1;32m> 11392\u001b[0m     \u001b[38;5;28;01mreturn\u001b[39;00m \u001b[38;5;28msuper\u001b[39m()\u001b[38;5;241m.\u001b[39mresample(\n\u001b[0;32m  11393\u001b[0m         rule\u001b[38;5;241m=\u001b[39mrule,\n\u001b[0;32m  11394\u001b[0m         axis\u001b[38;5;241m=\u001b[39maxis,\n\u001b[0;32m  11395\u001b[0m         closed\u001b[38;5;241m=\u001b[39mclosed,\n\u001b[0;32m  11396\u001b[0m         label\u001b[38;5;241m=\u001b[39mlabel,\n\u001b[0;32m  11397\u001b[0m         convention\u001b[38;5;241m=\u001b[39mconvention,\n\u001b[0;32m  11398\u001b[0m         kind\u001b[38;5;241m=\u001b[39mkind,\n\u001b[0;32m  11399\u001b[0m         loffset\u001b[38;5;241m=\u001b[39mloffset,\n\u001b[0;32m  11400\u001b[0m         base\u001b[38;5;241m=\u001b[39mbase,\n\u001b[0;32m  11401\u001b[0m         on\u001b[38;5;241m=\u001b[39mon,\n\u001b[0;32m  11402\u001b[0m         level\u001b[38;5;241m=\u001b[39mlevel,\n\u001b[0;32m  11403\u001b[0m         origin\u001b[38;5;241m=\u001b[39morigin,\n\u001b[0;32m  11404\u001b[0m         offset\u001b[38;5;241m=\u001b[39moffset,\n\u001b[0;32m  11405\u001b[0m         group_keys\u001b[38;5;241m=\u001b[39mgroup_keys,\n\u001b[0;32m  11406\u001b[0m     )\n",
      "File \u001b[1;32m~\\anaconda3\\Lib\\site-packages\\pandas\\core\\generic.py:8858\u001b[0m, in \u001b[0;36mNDFrame.resample\u001b[1;34m(self, rule, axis, closed, label, convention, kind, loffset, base, on, level, origin, offset, group_keys)\u001b[0m\n\u001b[0;32m   8855\u001b[0m \u001b[38;5;28;01mfrom\u001b[39;00m \u001b[38;5;21;01mpandas\u001b[39;00m\u001b[38;5;21;01m.\u001b[39;00m\u001b[38;5;21;01mcore\u001b[39;00m\u001b[38;5;21;01m.\u001b[39;00m\u001b[38;5;21;01mresample\u001b[39;00m \u001b[38;5;28;01mimport\u001b[39;00m get_resampler\n\u001b[0;32m   8857\u001b[0m axis \u001b[38;5;241m=\u001b[39m \u001b[38;5;28mself\u001b[39m\u001b[38;5;241m.\u001b[39m_get_axis_number(axis)\n\u001b[1;32m-> 8858\u001b[0m \u001b[38;5;28;01mreturn\u001b[39;00m get_resampler(\n\u001b[0;32m   8859\u001b[0m     \u001b[38;5;28mself\u001b[39m,\n\u001b[0;32m   8860\u001b[0m     freq\u001b[38;5;241m=\u001b[39mrule,\n\u001b[0;32m   8861\u001b[0m     label\u001b[38;5;241m=\u001b[39mlabel,\n\u001b[0;32m   8862\u001b[0m     closed\u001b[38;5;241m=\u001b[39mclosed,\n\u001b[0;32m   8863\u001b[0m     axis\u001b[38;5;241m=\u001b[39maxis,\n\u001b[0;32m   8864\u001b[0m     kind\u001b[38;5;241m=\u001b[39mkind,\n\u001b[0;32m   8865\u001b[0m     loffset\u001b[38;5;241m=\u001b[39mloffset,\n\u001b[0;32m   8866\u001b[0m     convention\u001b[38;5;241m=\u001b[39mconvention,\n\u001b[0;32m   8867\u001b[0m     base\u001b[38;5;241m=\u001b[39mbase,\n\u001b[0;32m   8868\u001b[0m     key\u001b[38;5;241m=\u001b[39mon,\n\u001b[0;32m   8869\u001b[0m     level\u001b[38;5;241m=\u001b[39mlevel,\n\u001b[0;32m   8870\u001b[0m     origin\u001b[38;5;241m=\u001b[39morigin,\n\u001b[0;32m   8871\u001b[0m     offset\u001b[38;5;241m=\u001b[39moffset,\n\u001b[0;32m   8872\u001b[0m     group_keys\u001b[38;5;241m=\u001b[39mgroup_keys,\n\u001b[0;32m   8873\u001b[0m )\n",
      "File \u001b[1;32m~\\anaconda3\\Lib\\site-packages\\pandas\\core\\resample.py:1544\u001b[0m, in \u001b[0;36mget_resampler\u001b[1;34m(obj, kind, **kwds)\u001b[0m\n\u001b[0;32m   1540\u001b[0m \u001b[38;5;250m\u001b[39m\u001b[38;5;124;03m\"\"\"\u001b[39;00m\n\u001b[0;32m   1541\u001b[0m \u001b[38;5;124;03mCreate a TimeGrouper and return our resampler.\u001b[39;00m\n\u001b[0;32m   1542\u001b[0m \u001b[38;5;124;03m\"\"\"\u001b[39;00m\n\u001b[0;32m   1543\u001b[0m tg \u001b[38;5;241m=\u001b[39m TimeGrouper(\u001b[38;5;241m*\u001b[39m\u001b[38;5;241m*\u001b[39mkwds)\n\u001b[1;32m-> 1544\u001b[0m \u001b[38;5;28;01mreturn\u001b[39;00m tg\u001b[38;5;241m.\u001b[39m_get_resampler(obj, kind\u001b[38;5;241m=\u001b[39mkind)\n",
      "File \u001b[1;32m~\\anaconda3\\Lib\\site-packages\\pandas\\core\\resample.py:1725\u001b[0m, in \u001b[0;36mTimeGrouper._get_resampler\u001b[1;34m(self, obj, kind)\u001b[0m\n\u001b[0;32m   1720\u001b[0m \u001b[38;5;28;01melif\u001b[39;00m \u001b[38;5;28misinstance\u001b[39m(ax, TimedeltaIndex):\n\u001b[0;32m   1721\u001b[0m     \u001b[38;5;28;01mreturn\u001b[39;00m TimedeltaIndexResampler(\n\u001b[0;32m   1722\u001b[0m         obj, groupby\u001b[38;5;241m=\u001b[39m\u001b[38;5;28mself\u001b[39m, axis\u001b[38;5;241m=\u001b[39m\u001b[38;5;28mself\u001b[39m\u001b[38;5;241m.\u001b[39maxis, group_keys\u001b[38;5;241m=\u001b[39m\u001b[38;5;28mself\u001b[39m\u001b[38;5;241m.\u001b[39mgroup_keys\n\u001b[0;32m   1723\u001b[0m     )\n\u001b[1;32m-> 1725\u001b[0m \u001b[38;5;28;01mraise\u001b[39;00m \u001b[38;5;167;01mTypeError\u001b[39;00m(\n\u001b[0;32m   1726\u001b[0m     \u001b[38;5;124m\"\u001b[39m\u001b[38;5;124mOnly valid with DatetimeIndex, \u001b[39m\u001b[38;5;124m\"\u001b[39m\n\u001b[0;32m   1727\u001b[0m     \u001b[38;5;124m\"\u001b[39m\u001b[38;5;124mTimedeltaIndex or PeriodIndex, \u001b[39m\u001b[38;5;124m\"\u001b[39m\n\u001b[0;32m   1728\u001b[0m     \u001b[38;5;124mf\u001b[39m\u001b[38;5;124m\"\u001b[39m\u001b[38;5;124mbut got an instance of \u001b[39m\u001b[38;5;124m'\u001b[39m\u001b[38;5;132;01m{\u001b[39;00m\u001b[38;5;28mtype\u001b[39m(ax)\u001b[38;5;241m.\u001b[39m\u001b[38;5;18m__name__\u001b[39m\u001b[38;5;132;01m}\u001b[39;00m\u001b[38;5;124m'\u001b[39m\u001b[38;5;124m\"\u001b[39m\n\u001b[0;32m   1729\u001b[0m )\n",
      "\u001b[1;31mTypeError\u001b[0m: Only valid with DatetimeIndex, TimedeltaIndex or PeriodIndex, but got an instance of 'Index'"
     ]
    }
   ],
   "source": [
    "# Resample data to daily frequency\n",
    "\n",
    "df_resampled = df_grouped.resample('D').ffill()"
   ]
  },
  {
   "cell_type": "code",
   "execution_count": 111,
   "id": "8cccdd6f",
   "metadata": {},
   "outputs": [
    {
     "name": "stdout",
     "output_type": "stream",
     "text": [
      "textblob_sentiment  Negative  Neutral  Positive\n",
      "date                                           \n",
      "2009-04-07              4109     7526      9008\n",
      "2009-04-08                 0        0         1\n",
      "2009-04-09                 0        0         1\n",
      "2009-04-10                 0        0         1\n",
      "2009-04-11                 0        0         1\n",
      "...                      ...      ...       ...\n",
      "2009-06-21              9161    11921      9595\n",
      "2009-06-22              2588     3200      2523\n",
      "2009-06-23              5937     7120      5545\n",
      "2009-06-24               647      805       642\n",
      "2009-06-25              7942    10113      7937\n",
      "\n",
      "[80 rows x 3 columns]\n"
     ]
    }
   ],
   "source": [
    "print(df_grouped)"
   ]
  },
  {
   "cell_type": "code",
   "execution_count": 112,
   "id": "5d541fd7",
   "metadata": {},
   "outputs": [
    {
     "ename": "KeyError",
     "evalue": "\"None of ['date'] are in the columns\"",
     "output_type": "error",
     "traceback": [
      "\u001b[1;31m---------------------------------------------------------------------------\u001b[0m",
      "\u001b[1;31mKeyError\u001b[0m                                  Traceback (most recent call last)",
      "Cell \u001b[1;32mIn[112], line 1\u001b[0m\n\u001b[1;32m----> 1\u001b[0m df_grouped\u001b[38;5;241m.\u001b[39mset_index(\u001b[38;5;124m'\u001b[39m\u001b[38;5;124mdate\u001b[39m\u001b[38;5;124m'\u001b[39m, inplace\u001b[38;5;241m=\u001b[39m\u001b[38;5;28;01mTrue\u001b[39;00m)\n",
      "File \u001b[1;32m~\\anaconda3\\Lib\\site-packages\\pandas\\util\\_decorators.py:331\u001b[0m, in \u001b[0;36mdeprecate_nonkeyword_arguments.<locals>.decorate.<locals>.wrapper\u001b[1;34m(*args, **kwargs)\u001b[0m\n\u001b[0;32m    325\u001b[0m \u001b[38;5;28;01mif\u001b[39;00m \u001b[38;5;28mlen\u001b[39m(args) \u001b[38;5;241m>\u001b[39m num_allow_args:\n\u001b[0;32m    326\u001b[0m     warnings\u001b[38;5;241m.\u001b[39mwarn(\n\u001b[0;32m    327\u001b[0m         msg\u001b[38;5;241m.\u001b[39mformat(arguments\u001b[38;5;241m=\u001b[39m_format_argument_list(allow_args)),\n\u001b[0;32m    328\u001b[0m         \u001b[38;5;167;01mFutureWarning\u001b[39;00m,\n\u001b[0;32m    329\u001b[0m         stacklevel\u001b[38;5;241m=\u001b[39mfind_stack_level(),\n\u001b[0;32m    330\u001b[0m     )\n\u001b[1;32m--> 331\u001b[0m \u001b[38;5;28;01mreturn\u001b[39;00m func(\u001b[38;5;241m*\u001b[39margs, \u001b[38;5;241m*\u001b[39m\u001b[38;5;241m*\u001b[39mkwargs)\n",
      "File \u001b[1;32m~\\anaconda3\\Lib\\site-packages\\pandas\\core\\frame.py:6012\u001b[0m, in \u001b[0;36mDataFrame.set_index\u001b[1;34m(self, keys, drop, append, inplace, verify_integrity)\u001b[0m\n\u001b[0;32m   6009\u001b[0m                 missing\u001b[38;5;241m.\u001b[39mappend(col)\n\u001b[0;32m   6011\u001b[0m \u001b[38;5;28;01mif\u001b[39;00m missing:\n\u001b[1;32m-> 6012\u001b[0m     \u001b[38;5;28;01mraise\u001b[39;00m \u001b[38;5;167;01mKeyError\u001b[39;00m(\u001b[38;5;124mf\u001b[39m\u001b[38;5;124m\"\u001b[39m\u001b[38;5;124mNone of \u001b[39m\u001b[38;5;132;01m{\u001b[39;00mmissing\u001b[38;5;132;01m}\u001b[39;00m\u001b[38;5;124m are in the columns\u001b[39m\u001b[38;5;124m\"\u001b[39m)\n\u001b[0;32m   6014\u001b[0m \u001b[38;5;28;01mif\u001b[39;00m inplace:\n\u001b[0;32m   6015\u001b[0m     frame \u001b[38;5;241m=\u001b[39m \u001b[38;5;28mself\u001b[39m\n",
      "\u001b[1;31mKeyError\u001b[0m: \"None of ['date'] are in the columns\""
     ]
    }
   ],
   "source": [
    "df_grouped.set_index('date', inplace=True)"
   ]
  },
  {
   "cell_type": "code",
   "execution_count": 145,
   "id": "ff4b5897",
   "metadata": {},
   "outputs": [],
   "source": [
    "# Reset index to convert 'date' back to a column\n",
    "df_grouped = df_grouped.reset_index()"
   ]
  },
  {
   "cell_type": "code",
   "execution_count": 146,
   "id": "dadb09ef",
   "metadata": {},
   "outputs": [
    {
     "ename": "TypeError",
     "evalue": "Only valid with DatetimeIndex, TimedeltaIndex or PeriodIndex, but got an instance of 'Index'",
     "output_type": "error",
     "traceback": [
      "\u001b[1;31m---------------------------------------------------------------------------\u001b[0m",
      "\u001b[1;31mTypeError\u001b[0m                                 Traceback (most recent call last)",
      "Cell \u001b[1;32mIn[146], line 3\u001b[0m\n\u001b[0;32m      1\u001b[0m \u001b[38;5;66;03m# Resample data to daily frequency\u001b[39;00m\n\u001b[0;32m      2\u001b[0m df_grouped\u001b[38;5;241m.\u001b[39mset_index(\u001b[38;5;124m'\u001b[39m\u001b[38;5;124mdate\u001b[39m\u001b[38;5;124m'\u001b[39m, inplace\u001b[38;5;241m=\u001b[39m\u001b[38;5;28;01mTrue\u001b[39;00m)\n\u001b[1;32m----> 3\u001b[0m df_resampled \u001b[38;5;241m=\u001b[39m df_grouped\u001b[38;5;241m.\u001b[39mresample(\u001b[38;5;124m'\u001b[39m\u001b[38;5;124mD\u001b[39m\u001b[38;5;124m'\u001b[39m)\u001b[38;5;241m.\u001b[39mffill()\n",
      "File \u001b[1;32m~\\anaconda3\\Lib\\site-packages\\pandas\\core\\frame.py:11392\u001b[0m, in \u001b[0;36mDataFrame.resample\u001b[1;34m(self, rule, axis, closed, label, convention, kind, loffset, base, on, level, origin, offset, group_keys)\u001b[0m\n\u001b[0;32m  11375\u001b[0m \u001b[38;5;129m@doc\u001b[39m(NDFrame\u001b[38;5;241m.\u001b[39mresample, \u001b[38;5;241m*\u001b[39m\u001b[38;5;241m*\u001b[39m_shared_doc_kwargs)\n\u001b[0;32m  11376\u001b[0m \u001b[38;5;28;01mdef\u001b[39;00m \u001b[38;5;21mresample\u001b[39m(\n\u001b[0;32m  11377\u001b[0m     \u001b[38;5;28mself\u001b[39m,\n\u001b[1;32m   (...)\u001b[0m\n\u001b[0;32m  11390\u001b[0m     group_keys: \u001b[38;5;28mbool\u001b[39m \u001b[38;5;241m|\u001b[39m lib\u001b[38;5;241m.\u001b[39mNoDefault \u001b[38;5;241m=\u001b[39m no_default,\n\u001b[0;32m  11391\u001b[0m ) \u001b[38;5;241m-\u001b[39m\u001b[38;5;241m>\u001b[39m Resampler:\n\u001b[1;32m> 11392\u001b[0m     \u001b[38;5;28;01mreturn\u001b[39;00m \u001b[38;5;28msuper\u001b[39m()\u001b[38;5;241m.\u001b[39mresample(\n\u001b[0;32m  11393\u001b[0m         rule\u001b[38;5;241m=\u001b[39mrule,\n\u001b[0;32m  11394\u001b[0m         axis\u001b[38;5;241m=\u001b[39maxis,\n\u001b[0;32m  11395\u001b[0m         closed\u001b[38;5;241m=\u001b[39mclosed,\n\u001b[0;32m  11396\u001b[0m         label\u001b[38;5;241m=\u001b[39mlabel,\n\u001b[0;32m  11397\u001b[0m         convention\u001b[38;5;241m=\u001b[39mconvention,\n\u001b[0;32m  11398\u001b[0m         kind\u001b[38;5;241m=\u001b[39mkind,\n\u001b[0;32m  11399\u001b[0m         loffset\u001b[38;5;241m=\u001b[39mloffset,\n\u001b[0;32m  11400\u001b[0m         base\u001b[38;5;241m=\u001b[39mbase,\n\u001b[0;32m  11401\u001b[0m         on\u001b[38;5;241m=\u001b[39mon,\n\u001b[0;32m  11402\u001b[0m         level\u001b[38;5;241m=\u001b[39mlevel,\n\u001b[0;32m  11403\u001b[0m         origin\u001b[38;5;241m=\u001b[39morigin,\n\u001b[0;32m  11404\u001b[0m         offset\u001b[38;5;241m=\u001b[39moffset,\n\u001b[0;32m  11405\u001b[0m         group_keys\u001b[38;5;241m=\u001b[39mgroup_keys,\n\u001b[0;32m  11406\u001b[0m     )\n",
      "File \u001b[1;32m~\\anaconda3\\Lib\\site-packages\\pandas\\core\\generic.py:8858\u001b[0m, in \u001b[0;36mNDFrame.resample\u001b[1;34m(self, rule, axis, closed, label, convention, kind, loffset, base, on, level, origin, offset, group_keys)\u001b[0m\n\u001b[0;32m   8855\u001b[0m \u001b[38;5;28;01mfrom\u001b[39;00m \u001b[38;5;21;01mpandas\u001b[39;00m\u001b[38;5;21;01m.\u001b[39;00m\u001b[38;5;21;01mcore\u001b[39;00m\u001b[38;5;21;01m.\u001b[39;00m\u001b[38;5;21;01mresample\u001b[39;00m \u001b[38;5;28;01mimport\u001b[39;00m get_resampler\n\u001b[0;32m   8857\u001b[0m axis \u001b[38;5;241m=\u001b[39m \u001b[38;5;28mself\u001b[39m\u001b[38;5;241m.\u001b[39m_get_axis_number(axis)\n\u001b[1;32m-> 8858\u001b[0m \u001b[38;5;28;01mreturn\u001b[39;00m get_resampler(\n\u001b[0;32m   8859\u001b[0m     \u001b[38;5;28mself\u001b[39m,\n\u001b[0;32m   8860\u001b[0m     freq\u001b[38;5;241m=\u001b[39mrule,\n\u001b[0;32m   8861\u001b[0m     label\u001b[38;5;241m=\u001b[39mlabel,\n\u001b[0;32m   8862\u001b[0m     closed\u001b[38;5;241m=\u001b[39mclosed,\n\u001b[0;32m   8863\u001b[0m     axis\u001b[38;5;241m=\u001b[39maxis,\n\u001b[0;32m   8864\u001b[0m     kind\u001b[38;5;241m=\u001b[39mkind,\n\u001b[0;32m   8865\u001b[0m     loffset\u001b[38;5;241m=\u001b[39mloffset,\n\u001b[0;32m   8866\u001b[0m     convention\u001b[38;5;241m=\u001b[39mconvention,\n\u001b[0;32m   8867\u001b[0m     base\u001b[38;5;241m=\u001b[39mbase,\n\u001b[0;32m   8868\u001b[0m     key\u001b[38;5;241m=\u001b[39mon,\n\u001b[0;32m   8869\u001b[0m     level\u001b[38;5;241m=\u001b[39mlevel,\n\u001b[0;32m   8870\u001b[0m     origin\u001b[38;5;241m=\u001b[39morigin,\n\u001b[0;32m   8871\u001b[0m     offset\u001b[38;5;241m=\u001b[39moffset,\n\u001b[0;32m   8872\u001b[0m     group_keys\u001b[38;5;241m=\u001b[39mgroup_keys,\n\u001b[0;32m   8873\u001b[0m )\n",
      "File \u001b[1;32m~\\anaconda3\\Lib\\site-packages\\pandas\\core\\resample.py:1544\u001b[0m, in \u001b[0;36mget_resampler\u001b[1;34m(obj, kind, **kwds)\u001b[0m\n\u001b[0;32m   1540\u001b[0m \u001b[38;5;250m\u001b[39m\u001b[38;5;124;03m\"\"\"\u001b[39;00m\n\u001b[0;32m   1541\u001b[0m \u001b[38;5;124;03mCreate a TimeGrouper and return our resampler.\u001b[39;00m\n\u001b[0;32m   1542\u001b[0m \u001b[38;5;124;03m\"\"\"\u001b[39;00m\n\u001b[0;32m   1543\u001b[0m tg \u001b[38;5;241m=\u001b[39m TimeGrouper(\u001b[38;5;241m*\u001b[39m\u001b[38;5;241m*\u001b[39mkwds)\n\u001b[1;32m-> 1544\u001b[0m \u001b[38;5;28;01mreturn\u001b[39;00m tg\u001b[38;5;241m.\u001b[39m_get_resampler(obj, kind\u001b[38;5;241m=\u001b[39mkind)\n",
      "File \u001b[1;32m~\\anaconda3\\Lib\\site-packages\\pandas\\core\\resample.py:1725\u001b[0m, in \u001b[0;36mTimeGrouper._get_resampler\u001b[1;34m(self, obj, kind)\u001b[0m\n\u001b[0;32m   1720\u001b[0m \u001b[38;5;28;01melif\u001b[39;00m \u001b[38;5;28misinstance\u001b[39m(ax, TimedeltaIndex):\n\u001b[0;32m   1721\u001b[0m     \u001b[38;5;28;01mreturn\u001b[39;00m TimedeltaIndexResampler(\n\u001b[0;32m   1722\u001b[0m         obj, groupby\u001b[38;5;241m=\u001b[39m\u001b[38;5;28mself\u001b[39m, axis\u001b[38;5;241m=\u001b[39m\u001b[38;5;28mself\u001b[39m\u001b[38;5;241m.\u001b[39maxis, group_keys\u001b[38;5;241m=\u001b[39m\u001b[38;5;28mself\u001b[39m\u001b[38;5;241m.\u001b[39mgroup_keys\n\u001b[0;32m   1723\u001b[0m     )\n\u001b[1;32m-> 1725\u001b[0m \u001b[38;5;28;01mraise\u001b[39;00m \u001b[38;5;167;01mTypeError\u001b[39;00m(\n\u001b[0;32m   1726\u001b[0m     \u001b[38;5;124m\"\u001b[39m\u001b[38;5;124mOnly valid with DatetimeIndex, \u001b[39m\u001b[38;5;124m\"\u001b[39m\n\u001b[0;32m   1727\u001b[0m     \u001b[38;5;124m\"\u001b[39m\u001b[38;5;124mTimedeltaIndex or PeriodIndex, \u001b[39m\u001b[38;5;124m\"\u001b[39m\n\u001b[0;32m   1728\u001b[0m     \u001b[38;5;124mf\u001b[39m\u001b[38;5;124m\"\u001b[39m\u001b[38;5;124mbut got an instance of \u001b[39m\u001b[38;5;124m'\u001b[39m\u001b[38;5;132;01m{\u001b[39;00m\u001b[38;5;28mtype\u001b[39m(ax)\u001b[38;5;241m.\u001b[39m\u001b[38;5;18m__name__\u001b[39m\u001b[38;5;132;01m}\u001b[39;00m\u001b[38;5;124m'\u001b[39m\u001b[38;5;124m\"\u001b[39m\n\u001b[0;32m   1729\u001b[0m )\n",
      "\u001b[1;31mTypeError\u001b[0m: Only valid with DatetimeIndex, TimedeltaIndex or PeriodIndex, but got an instance of 'Index'"
     ]
    }
   ],
   "source": [
    "# Resample data to daily frequency\n",
    "df_grouped.set_index('date', inplace=True)\n",
    "df_resampled = df_grouped.resample('D').ffill()"
   ]
  },
  {
   "cell_type": "code",
   "execution_count": null,
   "id": "555da096",
   "metadata": {},
   "outputs": [],
   "source": [
    "# Calculate class weights for handling class imbalance\n",
    "class_weights = compute_class_weight('balanced', classes=np.unique(df_resampled['label_encoded']), y=df_resampled['label_encoded'])"
   ]
  },
  {
   "cell_type": "code",
   "execution_count": null,
   "id": "657894f9",
   "metadata": {},
   "outputs": [],
   "source": [
    "# Split data into features and target\n",
    "X = df_resampled.drop(columns=['textblob_sentiment', 'label_encoded'])\n",
    "y = df_resampled['label_encoded']"
   ]
  },
  {
   "cell_type": "code",
   "execution_count": null,
   "id": "5c4c617a",
   "metadata": {},
   "outputs": [],
   "source": [
    "# Split data into training and testing sets\n",
    "X_train, X_test, y_train, y_test = train_test_split(X, y, test_size=0.2, random_state=42)"
   ]
  },
  {
   "cell_type": "markdown",
   "id": "0741545a",
   "metadata": {},
   "source": [
    "# LSTM"
   ]
  },
  {
   "cell_type": "code",
   "execution_count": null,
   "id": "9c30c301",
   "metadata": {},
   "outputs": [],
   "source": [
    "# Define LSTM model\n",
    "model = Sequential()\n",
    "model.add(LSTM(50, input_shape=(X_train.shape[1], 1)))\n",
    "model.add(Dense(1, activation='sigmoid'))"
   ]
  },
  {
   "cell_type": "code",
   "execution_count": null,
   "id": "f03b359f",
   "metadata": {},
   "outputs": [],
   "source": [
    "# Compile the model with class weights\n",
    "model.compile(loss='binary_crossentropy', optimizer='adam', metrics=['accuracy'])"
   ]
  },
  {
   "cell_type": "code",
   "execution_count": null,
   "id": "52fecfb7",
   "metadata": {},
   "outputs": [],
   "source": [
    "# Train the model with class weights\n",
    "model.fit(np.expand_dims(X_train, axis=2), y_train, epochs=100, batch_size=32, class_weight=class_weights, validation_data=(np.expand_dims(X_test, axis=2), y_test), callbacks=[EarlyStopping(patience=5)])\n"
   ]
  },
  {
   "cell_type": "code",
   "execution_count": null,
   "id": "bbab8c20",
   "metadata": {},
   "outputs": [],
   "source": [
    "# Evaluate the model\n",
    "loss, accuracy = model.evaluate(np.expand_dims(X_test, axis=2), y_test)\n",
    "print(\"Test Accuracy:\", accuracy)"
   ]
  },
  {
   "cell_type": "code",
   "execution_count": null,
   "id": "365487a6",
   "metadata": {},
   "outputs": [],
   "source": []
  },
  {
   "cell_type": "code",
   "execution_count": null,
   "id": "433bc680",
   "metadata": {},
   "outputs": [],
   "source": []
  },
  {
   "cell_type": "code",
   "execution_count": 137,
   "id": "6a4bd0de",
   "metadata": {},
   "outputs": [
    {
     "ename": "TypeError",
     "evalue": "Only valid with DatetimeIndex, TimedeltaIndex or PeriodIndex, but got an instance of 'Index'",
     "output_type": "error",
     "traceback": [
      "\u001b[1;31m---------------------------------------------------------------------------\u001b[0m",
      "\u001b[1;31mTypeError\u001b[0m                                 Traceback (most recent call last)",
      "Cell \u001b[1;32mIn[137], line 6\u001b[0m\n\u001b[0;32m      4\u001b[0m \u001b[38;5;66;03m# Resample data to daily frequency\u001b[39;00m\n\u001b[0;32m      5\u001b[0m df_grouped\u001b[38;5;241m.\u001b[39mset_index(\u001b[38;5;124m'\u001b[39m\u001b[38;5;124mdate\u001b[39m\u001b[38;5;124m'\u001b[39m, inplace\u001b[38;5;241m=\u001b[39m\u001b[38;5;28;01mTrue\u001b[39;00m)\n\u001b[1;32m----> 6\u001b[0m df_resampled \u001b[38;5;241m=\u001b[39m df_grouped\u001b[38;5;241m.\u001b[39mresample(\u001b[38;5;124m'\u001b[39m\u001b[38;5;124mD\u001b[39m\u001b[38;5;124m'\u001b[39m)\u001b[38;5;241m.\u001b[39mffill()\n\u001b[0;32m      8\u001b[0m \u001b[38;5;66;03m# Encode 'textblob_sentiment' using LabelEncoder\u001b[39;00m\n\u001b[0;32m      9\u001b[0m label_encoder \u001b[38;5;241m=\u001b[39m LabelEncoder()\n",
      "File \u001b[1;32m~\\anaconda3\\Lib\\site-packages\\pandas\\core\\frame.py:11392\u001b[0m, in \u001b[0;36mDataFrame.resample\u001b[1;34m(self, rule, axis, closed, label, convention, kind, loffset, base, on, level, origin, offset, group_keys)\u001b[0m\n\u001b[0;32m  11375\u001b[0m \u001b[38;5;129m@doc\u001b[39m(NDFrame\u001b[38;5;241m.\u001b[39mresample, \u001b[38;5;241m*\u001b[39m\u001b[38;5;241m*\u001b[39m_shared_doc_kwargs)\n\u001b[0;32m  11376\u001b[0m \u001b[38;5;28;01mdef\u001b[39;00m \u001b[38;5;21mresample\u001b[39m(\n\u001b[0;32m  11377\u001b[0m     \u001b[38;5;28mself\u001b[39m,\n\u001b[1;32m   (...)\u001b[0m\n\u001b[0;32m  11390\u001b[0m     group_keys: \u001b[38;5;28mbool\u001b[39m \u001b[38;5;241m|\u001b[39m lib\u001b[38;5;241m.\u001b[39mNoDefault \u001b[38;5;241m=\u001b[39m no_default,\n\u001b[0;32m  11391\u001b[0m ) \u001b[38;5;241m-\u001b[39m\u001b[38;5;241m>\u001b[39m Resampler:\n\u001b[1;32m> 11392\u001b[0m     \u001b[38;5;28;01mreturn\u001b[39;00m \u001b[38;5;28msuper\u001b[39m()\u001b[38;5;241m.\u001b[39mresample(\n\u001b[0;32m  11393\u001b[0m         rule\u001b[38;5;241m=\u001b[39mrule,\n\u001b[0;32m  11394\u001b[0m         axis\u001b[38;5;241m=\u001b[39maxis,\n\u001b[0;32m  11395\u001b[0m         closed\u001b[38;5;241m=\u001b[39mclosed,\n\u001b[0;32m  11396\u001b[0m         label\u001b[38;5;241m=\u001b[39mlabel,\n\u001b[0;32m  11397\u001b[0m         convention\u001b[38;5;241m=\u001b[39mconvention,\n\u001b[0;32m  11398\u001b[0m         kind\u001b[38;5;241m=\u001b[39mkind,\n\u001b[0;32m  11399\u001b[0m         loffset\u001b[38;5;241m=\u001b[39mloffset,\n\u001b[0;32m  11400\u001b[0m         base\u001b[38;5;241m=\u001b[39mbase,\n\u001b[0;32m  11401\u001b[0m         on\u001b[38;5;241m=\u001b[39mon,\n\u001b[0;32m  11402\u001b[0m         level\u001b[38;5;241m=\u001b[39mlevel,\n\u001b[0;32m  11403\u001b[0m         origin\u001b[38;5;241m=\u001b[39morigin,\n\u001b[0;32m  11404\u001b[0m         offset\u001b[38;5;241m=\u001b[39moffset,\n\u001b[0;32m  11405\u001b[0m         group_keys\u001b[38;5;241m=\u001b[39mgroup_keys,\n\u001b[0;32m  11406\u001b[0m     )\n",
      "File \u001b[1;32m~\\anaconda3\\Lib\\site-packages\\pandas\\core\\generic.py:8858\u001b[0m, in \u001b[0;36mNDFrame.resample\u001b[1;34m(self, rule, axis, closed, label, convention, kind, loffset, base, on, level, origin, offset, group_keys)\u001b[0m\n\u001b[0;32m   8855\u001b[0m \u001b[38;5;28;01mfrom\u001b[39;00m \u001b[38;5;21;01mpandas\u001b[39;00m\u001b[38;5;21;01m.\u001b[39;00m\u001b[38;5;21;01mcore\u001b[39;00m\u001b[38;5;21;01m.\u001b[39;00m\u001b[38;5;21;01mresample\u001b[39;00m \u001b[38;5;28;01mimport\u001b[39;00m get_resampler\n\u001b[0;32m   8857\u001b[0m axis \u001b[38;5;241m=\u001b[39m \u001b[38;5;28mself\u001b[39m\u001b[38;5;241m.\u001b[39m_get_axis_number(axis)\n\u001b[1;32m-> 8858\u001b[0m \u001b[38;5;28;01mreturn\u001b[39;00m get_resampler(\n\u001b[0;32m   8859\u001b[0m     \u001b[38;5;28mself\u001b[39m,\n\u001b[0;32m   8860\u001b[0m     freq\u001b[38;5;241m=\u001b[39mrule,\n\u001b[0;32m   8861\u001b[0m     label\u001b[38;5;241m=\u001b[39mlabel,\n\u001b[0;32m   8862\u001b[0m     closed\u001b[38;5;241m=\u001b[39mclosed,\n\u001b[0;32m   8863\u001b[0m     axis\u001b[38;5;241m=\u001b[39maxis,\n\u001b[0;32m   8864\u001b[0m     kind\u001b[38;5;241m=\u001b[39mkind,\n\u001b[0;32m   8865\u001b[0m     loffset\u001b[38;5;241m=\u001b[39mloffset,\n\u001b[0;32m   8866\u001b[0m     convention\u001b[38;5;241m=\u001b[39mconvention,\n\u001b[0;32m   8867\u001b[0m     base\u001b[38;5;241m=\u001b[39mbase,\n\u001b[0;32m   8868\u001b[0m     key\u001b[38;5;241m=\u001b[39mon,\n\u001b[0;32m   8869\u001b[0m     level\u001b[38;5;241m=\u001b[39mlevel,\n\u001b[0;32m   8870\u001b[0m     origin\u001b[38;5;241m=\u001b[39morigin,\n\u001b[0;32m   8871\u001b[0m     offset\u001b[38;5;241m=\u001b[39moffset,\n\u001b[0;32m   8872\u001b[0m     group_keys\u001b[38;5;241m=\u001b[39mgroup_keys,\n\u001b[0;32m   8873\u001b[0m )\n",
      "File \u001b[1;32m~\\anaconda3\\Lib\\site-packages\\pandas\\core\\resample.py:1544\u001b[0m, in \u001b[0;36mget_resampler\u001b[1;34m(obj, kind, **kwds)\u001b[0m\n\u001b[0;32m   1540\u001b[0m \u001b[38;5;250m\u001b[39m\u001b[38;5;124;03m\"\"\"\u001b[39;00m\n\u001b[0;32m   1541\u001b[0m \u001b[38;5;124;03mCreate a TimeGrouper and return our resampler.\u001b[39;00m\n\u001b[0;32m   1542\u001b[0m \u001b[38;5;124;03m\"\"\"\u001b[39;00m\n\u001b[0;32m   1543\u001b[0m tg \u001b[38;5;241m=\u001b[39m TimeGrouper(\u001b[38;5;241m*\u001b[39m\u001b[38;5;241m*\u001b[39mkwds)\n\u001b[1;32m-> 1544\u001b[0m \u001b[38;5;28;01mreturn\u001b[39;00m tg\u001b[38;5;241m.\u001b[39m_get_resampler(obj, kind\u001b[38;5;241m=\u001b[39mkind)\n",
      "File \u001b[1;32m~\\anaconda3\\Lib\\site-packages\\pandas\\core\\resample.py:1725\u001b[0m, in \u001b[0;36mTimeGrouper._get_resampler\u001b[1;34m(self, obj, kind)\u001b[0m\n\u001b[0;32m   1720\u001b[0m \u001b[38;5;28;01melif\u001b[39;00m \u001b[38;5;28misinstance\u001b[39m(ax, TimedeltaIndex):\n\u001b[0;32m   1721\u001b[0m     \u001b[38;5;28;01mreturn\u001b[39;00m TimedeltaIndexResampler(\n\u001b[0;32m   1722\u001b[0m         obj, groupby\u001b[38;5;241m=\u001b[39m\u001b[38;5;28mself\u001b[39m, axis\u001b[38;5;241m=\u001b[39m\u001b[38;5;28mself\u001b[39m\u001b[38;5;241m.\u001b[39maxis, group_keys\u001b[38;5;241m=\u001b[39m\u001b[38;5;28mself\u001b[39m\u001b[38;5;241m.\u001b[39mgroup_keys\n\u001b[0;32m   1723\u001b[0m     )\n\u001b[1;32m-> 1725\u001b[0m \u001b[38;5;28;01mraise\u001b[39;00m \u001b[38;5;167;01mTypeError\u001b[39;00m(\n\u001b[0;32m   1726\u001b[0m     \u001b[38;5;124m\"\u001b[39m\u001b[38;5;124mOnly valid with DatetimeIndex, \u001b[39m\u001b[38;5;124m\"\u001b[39m\n\u001b[0;32m   1727\u001b[0m     \u001b[38;5;124m\"\u001b[39m\u001b[38;5;124mTimedeltaIndex or PeriodIndex, \u001b[39m\u001b[38;5;124m\"\u001b[39m\n\u001b[0;32m   1728\u001b[0m     \u001b[38;5;124mf\u001b[39m\u001b[38;5;124m\"\u001b[39m\u001b[38;5;124mbut got an instance of \u001b[39m\u001b[38;5;124m'\u001b[39m\u001b[38;5;132;01m{\u001b[39;00m\u001b[38;5;28mtype\u001b[39m(ax)\u001b[38;5;241m.\u001b[39m\u001b[38;5;18m__name__\u001b[39m\u001b[38;5;132;01m}\u001b[39;00m\u001b[38;5;124m'\u001b[39m\u001b[38;5;124m\"\u001b[39m\n\u001b[0;32m   1729\u001b[0m )\n",
      "\u001b[1;31mTypeError\u001b[0m: Only valid with DatetimeIndex, TimedeltaIndex or PeriodIndex, but got an instance of 'Index'"
     ]
    }
   ],
   "source": [
    "\n",
    "# Reset index to convert 'date' back to a column\n",
    "df_grouped = df_grouped.reset_index()\n",
    "\n",
    "# Resample data to daily frequency\n",
    "df_grouped.set_index('date', inplace=True)\n",
    "df_resampled = df_grouped.resample('D').ffill()\n",
    "\n",
    "# Encode 'textblob_sentiment' using LabelEncoder\n",
    "label_encoder = LabelEncoder()\n",
    "df_resampled['label_encoded'] = label_encoder.fit_transform(df_resampled['textblob_sentiment'])\n",
    "\n",
    "# Calculate class weights for handling class imbalance\n",
    "class_weights = compute_class_weight('balanced', classes=np.unique(df_resampled['label_encoded']), y=df_resampled['label_encoded'])\n",
    "\n",
    "# Split data into features and target\n",
    "X = df_resampled.drop(columns=['textblob_sentiment', 'label_encoded'])\n",
    "y = df_resampled['label_encoded']\n",
    "\n",
    "# Split data into training and testing sets\n",
    "X_train, X_test, y_train, y_test = train_test_split(X, y, test_size=0.2, random_state=42)\n",
    "\n",
    "# Define LSTM model\n",
    "model = Sequential()\n",
    "model.add(LSTM(50, input_shape=(X_train.shape[1], 1)))\n",
    "model.add(Dense(1, activation='sigmoid'))\n",
    "\n",
    "# Compile the model with class weights\n",
    "model.compile(loss='binary_crossentropy', optimizer='adam', metrics=['accuracy'])\n",
    "\n",
    "# Train the model with class weights\n",
    "model.fit(np.expand_dims(X_train, axis=2), y_train, epochs=100, batch_size=32, class_weight=class_weights, validation_data=(np.expand_dims(X_test, axis=2), y_test), callbacks=[EarlyStopping(patience=5)])\n",
    "\n",
    "# Evaluate the model\n",
    "loss, accuracy = model.evaluate(np.expand_dims(X_test, axis=2), y_test)\n",
    "print(\"Test Accuracy:\", accuracy)"
   ]
  },
  {
   "cell_type": "code",
   "execution_count": 133,
   "id": "76888c70",
   "metadata": {},
   "outputs": [
    {
     "ename": "ValueError",
     "evalue": "cannot reindex a non-unique index with a method or limit",
     "output_type": "error",
     "traceback": [
      "\u001b[1;31m---------------------------------------------------------------------------\u001b[0m",
      "\u001b[1;31mValueError\u001b[0m                                Traceback (most recent call last)",
      "Cell \u001b[1;32mIn[133], line 2\u001b[0m\n\u001b[0;32m      1\u001b[0m \u001b[38;5;66;03m# Resample data to daily frequency\u001b[39;00m\n\u001b[1;32m----> 2\u001b[0m df_resampled \u001b[38;5;241m=\u001b[39m df_copy\u001b[38;5;241m.\u001b[39mresample(\u001b[38;5;124m'\u001b[39m\u001b[38;5;124mD\u001b[39m\u001b[38;5;124m'\u001b[39m)\u001b[38;5;241m.\u001b[39mffill()\n",
      "File \u001b[1;32m~\\anaconda3\\Lib\\site-packages\\pandas\\core\\resample.py:545\u001b[0m, in \u001b[0;36mResampler.ffill\u001b[1;34m(self, limit)\u001b[0m\n\u001b[0;32m    527\u001b[0m \u001b[38;5;28;01mdef\u001b[39;00m \u001b[38;5;21mffill\u001b[39m(\u001b[38;5;28mself\u001b[39m, limit\u001b[38;5;241m=\u001b[39m\u001b[38;5;28;01mNone\u001b[39;00m):\n\u001b[0;32m    528\u001b[0m \u001b[38;5;250m    \u001b[39m\u001b[38;5;124;03m\"\"\"\u001b[39;00m\n\u001b[0;32m    529\u001b[0m \u001b[38;5;124;03m    Forward fill the values.\u001b[39;00m\n\u001b[0;32m    530\u001b[0m \n\u001b[1;32m   (...)\u001b[0m\n\u001b[0;32m    543\u001b[0m \u001b[38;5;124;03m    DataFrame.fillna: Fill NA/NaN values using the specified method.\u001b[39;00m\n\u001b[0;32m    544\u001b[0m \u001b[38;5;124;03m    \"\"\"\u001b[39;00m\n\u001b[1;32m--> 545\u001b[0m     \u001b[38;5;28;01mreturn\u001b[39;00m \u001b[38;5;28mself\u001b[39m\u001b[38;5;241m.\u001b[39m_upsample(\u001b[38;5;124m\"\u001b[39m\u001b[38;5;124mffill\u001b[39m\u001b[38;5;124m\"\u001b[39m, limit\u001b[38;5;241m=\u001b[39mlimit)\n",
      "File \u001b[1;32m~\\anaconda3\\Lib\\site-packages\\pandas\\core\\resample.py:1365\u001b[0m, in \u001b[0;36mDatetimeIndexResampler._upsample\u001b[1;34m(self, method, limit, fill_value)\u001b[0m\n\u001b[0;32m   1363\u001b[0m     result\u001b[38;5;241m.\u001b[39mindex \u001b[38;5;241m=\u001b[39m res_index\n\u001b[0;32m   1364\u001b[0m \u001b[38;5;28;01melse\u001b[39;00m:\n\u001b[1;32m-> 1365\u001b[0m     result \u001b[38;5;241m=\u001b[39m obj\u001b[38;5;241m.\u001b[39mreindex(\n\u001b[0;32m   1366\u001b[0m         res_index, method\u001b[38;5;241m=\u001b[39mmethod, limit\u001b[38;5;241m=\u001b[39mlimit, fill_value\u001b[38;5;241m=\u001b[39mfill_value\n\u001b[0;32m   1367\u001b[0m     )\n\u001b[0;32m   1369\u001b[0m result \u001b[38;5;241m=\u001b[39m \u001b[38;5;28mself\u001b[39m\u001b[38;5;241m.\u001b[39m_apply_loffset(result)\n\u001b[0;32m   1370\u001b[0m \u001b[38;5;28;01mreturn\u001b[39;00m \u001b[38;5;28mself\u001b[39m\u001b[38;5;241m.\u001b[39m_wrap_result(result)\n",
      "File \u001b[1;32m~\\anaconda3\\Lib\\site-packages\\pandas\\util\\_decorators.py:347\u001b[0m, in \u001b[0;36mrewrite_axis_style_signature.<locals>.decorate.<locals>.wrapper\u001b[1;34m(*args, **kwargs)\u001b[0m\n\u001b[0;32m    345\u001b[0m \u001b[38;5;129m@wraps\u001b[39m(func)\n\u001b[0;32m    346\u001b[0m \u001b[38;5;28;01mdef\u001b[39;00m \u001b[38;5;21mwrapper\u001b[39m(\u001b[38;5;241m*\u001b[39margs, \u001b[38;5;241m*\u001b[39m\u001b[38;5;241m*\u001b[39mkwargs) \u001b[38;5;241m-\u001b[39m\u001b[38;5;241m>\u001b[39m Callable[\u001b[38;5;241m.\u001b[39m\u001b[38;5;241m.\u001b[39m\u001b[38;5;241m.\u001b[39m, Any]:\n\u001b[1;32m--> 347\u001b[0m     \u001b[38;5;28;01mreturn\u001b[39;00m func(\u001b[38;5;241m*\u001b[39margs, \u001b[38;5;241m*\u001b[39m\u001b[38;5;241m*\u001b[39mkwargs)\n",
      "File \u001b[1;32m~\\anaconda3\\Lib\\site-packages\\pandas\\core\\frame.py:5205\u001b[0m, in \u001b[0;36mDataFrame.reindex\u001b[1;34m(self, *args, **kwargs)\u001b[0m\n\u001b[0;32m   5203\u001b[0m kwargs\u001b[38;5;241m.\u001b[39mpop(\u001b[38;5;124m\"\u001b[39m\u001b[38;5;124maxis\u001b[39m\u001b[38;5;124m\"\u001b[39m, \u001b[38;5;28;01mNone\u001b[39;00m)\n\u001b[0;32m   5204\u001b[0m kwargs\u001b[38;5;241m.\u001b[39mpop(\u001b[38;5;124m\"\u001b[39m\u001b[38;5;124mlabels\u001b[39m\u001b[38;5;124m\"\u001b[39m, \u001b[38;5;28;01mNone\u001b[39;00m)\n\u001b[1;32m-> 5205\u001b[0m \u001b[38;5;28;01mreturn\u001b[39;00m \u001b[38;5;28msuper\u001b[39m()\u001b[38;5;241m.\u001b[39mreindex(\u001b[38;5;241m*\u001b[39m\u001b[38;5;241m*\u001b[39mkwargs)\n",
      "File \u001b[1;32m~\\anaconda3\\Lib\\site-packages\\pandas\\core\\generic.py:5289\u001b[0m, in \u001b[0;36mNDFrame.reindex\u001b[1;34m(self, *args, **kwargs)\u001b[0m\n\u001b[0;32m   5286\u001b[0m     \u001b[38;5;28;01mreturn\u001b[39;00m \u001b[38;5;28mself\u001b[39m\u001b[38;5;241m.\u001b[39m_reindex_multi(axes, copy, fill_value)\n\u001b[0;32m   5288\u001b[0m \u001b[38;5;66;03m# perform the reindex on the axes\u001b[39;00m\n\u001b[1;32m-> 5289\u001b[0m \u001b[38;5;28;01mreturn\u001b[39;00m \u001b[38;5;28mself\u001b[39m\u001b[38;5;241m.\u001b[39m_reindex_axes(\n\u001b[0;32m   5290\u001b[0m     axes, level, limit, tolerance, method, fill_value, copy\n\u001b[0;32m   5291\u001b[0m )\u001b[38;5;241m.\u001b[39m__finalize__(\u001b[38;5;28mself\u001b[39m, method\u001b[38;5;241m=\u001b[39m\u001b[38;5;124m\"\u001b[39m\u001b[38;5;124mreindex\u001b[39m\u001b[38;5;124m\"\u001b[39m)\n",
      "File \u001b[1;32m~\\anaconda3\\Lib\\site-packages\\pandas\\core\\frame.py:5004\u001b[0m, in \u001b[0;36mDataFrame._reindex_axes\u001b[1;34m(self, axes, level, limit, tolerance, method, fill_value, copy)\u001b[0m\n\u001b[0;32m   5002\u001b[0m index \u001b[38;5;241m=\u001b[39m axes[\u001b[38;5;124m\"\u001b[39m\u001b[38;5;124mindex\u001b[39m\u001b[38;5;124m\"\u001b[39m]\n\u001b[0;32m   5003\u001b[0m \u001b[38;5;28;01mif\u001b[39;00m index \u001b[38;5;129;01mis\u001b[39;00m \u001b[38;5;129;01mnot\u001b[39;00m \u001b[38;5;28;01mNone\u001b[39;00m:\n\u001b[1;32m-> 5004\u001b[0m     frame \u001b[38;5;241m=\u001b[39m frame\u001b[38;5;241m.\u001b[39m_reindex_index(\n\u001b[0;32m   5005\u001b[0m         index, method, copy, level, fill_value, limit, tolerance\n\u001b[0;32m   5006\u001b[0m     )\n\u001b[0;32m   5008\u001b[0m \u001b[38;5;28;01mreturn\u001b[39;00m frame\n",
      "File \u001b[1;32m~\\anaconda3\\Lib\\site-packages\\pandas\\core\\frame.py:5020\u001b[0m, in \u001b[0;36mDataFrame._reindex_index\u001b[1;34m(self, new_index, method, copy, level, fill_value, limit, tolerance)\u001b[0m\n\u001b[0;32m   5010\u001b[0m \u001b[38;5;28;01mdef\u001b[39;00m \u001b[38;5;21m_reindex_index\u001b[39m(\n\u001b[0;32m   5011\u001b[0m     \u001b[38;5;28mself\u001b[39m,\n\u001b[0;32m   5012\u001b[0m     new_index,\n\u001b[1;32m   (...)\u001b[0m\n\u001b[0;32m   5018\u001b[0m     tolerance\u001b[38;5;241m=\u001b[39m\u001b[38;5;28;01mNone\u001b[39;00m,\n\u001b[0;32m   5019\u001b[0m ):\n\u001b[1;32m-> 5020\u001b[0m     new_index, indexer \u001b[38;5;241m=\u001b[39m \u001b[38;5;28mself\u001b[39m\u001b[38;5;241m.\u001b[39mindex\u001b[38;5;241m.\u001b[39mreindex(\n\u001b[0;32m   5021\u001b[0m         new_index, method\u001b[38;5;241m=\u001b[39mmethod, level\u001b[38;5;241m=\u001b[39mlevel, limit\u001b[38;5;241m=\u001b[39mlimit, tolerance\u001b[38;5;241m=\u001b[39mtolerance\n\u001b[0;32m   5022\u001b[0m     )\n\u001b[0;32m   5023\u001b[0m     \u001b[38;5;28;01mreturn\u001b[39;00m \u001b[38;5;28mself\u001b[39m\u001b[38;5;241m.\u001b[39m_reindex_with_indexers(\n\u001b[0;32m   5024\u001b[0m         {\u001b[38;5;241m0\u001b[39m: [new_index, indexer]},\n\u001b[0;32m   5025\u001b[0m         copy\u001b[38;5;241m=\u001b[39mcopy,\n\u001b[0;32m   5026\u001b[0m         fill_value\u001b[38;5;241m=\u001b[39mfill_value,\n\u001b[0;32m   5027\u001b[0m         allow_dups\u001b[38;5;241m=\u001b[39m\u001b[38;5;28;01mFalse\u001b[39;00m,\n\u001b[0;32m   5028\u001b[0m     )\n",
      "File \u001b[1;32m~\\anaconda3\\Lib\\site-packages\\pandas\\core\\indexes\\base.py:4419\u001b[0m, in \u001b[0;36mIndex.reindex\u001b[1;34m(self, target, method, level, limit, tolerance)\u001b[0m\n\u001b[0;32m   4417\u001b[0m \u001b[38;5;28;01melse\u001b[39;00m:\n\u001b[0;32m   4418\u001b[0m     \u001b[38;5;28;01mif\u001b[39;00m method \u001b[38;5;129;01mis\u001b[39;00m \u001b[38;5;129;01mnot\u001b[39;00m \u001b[38;5;28;01mNone\u001b[39;00m \u001b[38;5;129;01mor\u001b[39;00m limit \u001b[38;5;129;01mis\u001b[39;00m \u001b[38;5;129;01mnot\u001b[39;00m \u001b[38;5;28;01mNone\u001b[39;00m:\n\u001b[1;32m-> 4419\u001b[0m         \u001b[38;5;28;01mraise\u001b[39;00m \u001b[38;5;167;01mValueError\u001b[39;00m(\n\u001b[0;32m   4420\u001b[0m             \u001b[38;5;124m\"\u001b[39m\u001b[38;5;124mcannot reindex a non-unique index \u001b[39m\u001b[38;5;124m\"\u001b[39m\n\u001b[0;32m   4421\u001b[0m             \u001b[38;5;124m\"\u001b[39m\u001b[38;5;124mwith a method or limit\u001b[39m\u001b[38;5;124m\"\u001b[39m\n\u001b[0;32m   4422\u001b[0m         )\n\u001b[0;32m   4423\u001b[0m     indexer, _ \u001b[38;5;241m=\u001b[39m \u001b[38;5;28mself\u001b[39m\u001b[38;5;241m.\u001b[39mget_indexer_non_unique(target)\n\u001b[0;32m   4425\u001b[0m \u001b[38;5;28;01mif\u001b[39;00m \u001b[38;5;129;01mnot\u001b[39;00m \u001b[38;5;28mself\u001b[39m\u001b[38;5;241m.\u001b[39mis_unique:\n\u001b[0;32m   4426\u001b[0m     \u001b[38;5;66;03m# GH#42568\u001b[39;00m\n",
      "\u001b[1;31mValueError\u001b[0m: cannot reindex a non-unique index with a method or limit"
     ]
    }
   ],
   "source": [
    "# Resample data to daily frequency\n",
    "df_resampled = df_copy.resample('D').ffill()"
   ]
  },
  {
   "cell_type": "code",
   "execution_count": null,
   "id": "0c96b02d",
   "metadata": {},
   "outputs": [],
   "source": [
    "\n",
    "\n",
    "\n",
    "\n",
    "# Encode 'textblob_sentiment' using LabelEncoder\n",
    "label_encoder = LabelEncoder()\n",
    "df_resampled['label_encoded'] = label_encoder.fit_transform(df_resampled['textblob_sentiment'])\n",
    "\n",
    "# Calculate class weights for handling class imbalance\n",
    "class_weights = compute_class_weight('balanced', classes=np.unique(df_resampled['label_encoded']), y=df_resampled['label_encoded'])\n",
    "\n",
    "# Split data into features and target\n",
    "X = df_resampled.drop(columns=['textblob_sentiment', 'label_encoded'])\n",
    "y = df_resampled['label_encoded']\n",
    "\n",
    "# Split data into training and testing sets\n",
    "X_train, X_test, y_train, y_test = train_test_split(X, y, test_size=0.2, random_state=42)\n",
    "\n",
    "# Define LSTM model\n",
    "model = Sequential()\n",
    "model.add(LSTM(50, input_shape=(X_train.shape[1], 1)))\n",
    "model.add(Dense(1, activation='sigmoid'))\n",
    "\n",
    "# Compile the model with class weights\n",
    "model.compile(loss='binary_crossentropy', optimizer='adam', metrics=['accuracy'])\n",
    "\n",
    "# Train the model with class weights\n",
    "model.fit(np.expand_dims(X_train, axis=2), y_train, epochs=100, batch_size=32, class_weight=class_weights, validation_data=(np.expand_dims(X_test, axis=2), y_test), callbacks=[EarlyStopping(patience=5)])\n",
    "\n",
    "# Evaluate the model\n",
    "loss, accuracy = model.evaluate(np.expand_dims(X_test, axis=2), y_test)\n",
    "print(\"Test Accuracy:\", accuracy)\n"
   ]
  },
  {
   "cell_type": "code",
   "execution_count": 129,
   "id": "4ac71562",
   "metadata": {},
   "outputs": [
    {
     "data": {
      "text/html": [
       "<div>\n",
       "<style scoped>\n",
       "    .dataframe tbody tr th:only-of-type {\n",
       "        vertical-align: middle;\n",
       "    }\n",
       "\n",
       "    .dataframe tbody tr th {\n",
       "        vertical-align: top;\n",
       "    }\n",
       "\n",
       "    .dataframe thead th {\n",
       "        text-align: right;\n",
       "    }\n",
       "</style>\n",
       "<table border=\"1\" class=\"dataframe\">\n",
       "  <thead>\n",
       "    <tr style=\"text-align: right;\">\n",
       "      <th></th>\n",
       "      <th>textblob_sentiment</th>\n",
       "      <th>label_encoded</th>\n",
       "    </tr>\n",
       "    <tr>\n",
       "      <th>date</th>\n",
       "      <th></th>\n",
       "      <th></th>\n",
       "    </tr>\n",
       "  </thead>\n",
       "  <tbody>\n",
       "    <tr>\n",
       "      <th>2009-04-07 05:19:45</th>\n",
       "      <td>Positive</td>\n",
       "      <td>2.0</td>\n",
       "    </tr>\n",
       "    <tr>\n",
       "      <th>2009-04-07 05:19:49</th>\n",
       "      <td>Neutral</td>\n",
       "      <td>1.0</td>\n",
       "    </tr>\n",
       "    <tr>\n",
       "      <th>2009-04-07 05:19:53</th>\n",
       "      <td>Positive</td>\n",
       "      <td>2.0</td>\n",
       "    </tr>\n",
       "    <tr>\n",
       "      <th>2009-04-07 05:19:57</th>\n",
       "      <td>Positive</td>\n",
       "      <td>2.0</td>\n",
       "    </tr>\n",
       "    <tr>\n",
       "      <th>2009-04-07 05:19:57</th>\n",
       "      <td>Negative</td>\n",
       "      <td>0.0</td>\n",
       "    </tr>\n",
       "  </tbody>\n",
       "</table>\n",
       "</div>"
      ],
      "text/plain": [
       "                    textblob_sentiment  label_encoded\n",
       "date                                                 \n",
       "2009-04-07 05:19:45           Positive            2.0\n",
       "2009-04-07 05:19:49            Neutral            1.0\n",
       "2009-04-07 05:19:53           Positive            2.0\n",
       "2009-04-07 05:19:57           Positive            2.0\n",
       "2009-04-07 05:19:57           Negative            0.0"
      ]
     },
     "execution_count": 129,
     "metadata": {},
     "output_type": "execute_result"
    }
   ],
   "source": [
    "df_copy.head(5)"
   ]
  },
  {
   "cell_type": "code",
   "execution_count": 108,
   "id": "3d31b50a",
   "metadata": {},
   "outputs": [],
   "source": [
    "from sklearn.preprocessing import LabelEncoder\n",
    "from sklearn.metrics import classification_report\n",
    "from keras.models import Sequential\n",
    "from keras.layers import LSTM, Dense\n",
    "import numpy as np\n",
    "from statsmodels.tsa.arima.model import ARIMA\n",
    "from statsmodels.tsa.statespace.sarimax import SARIMAX"
   ]
  },
  {
   "cell_type": "markdown",
   "id": "27e91fa0",
   "metadata": {},
   "source": [
    "# handling class imbalance of textblob sentiment"
   ]
  },
  {
   "cell_type": "code",
   "execution_count": 109,
   "id": "81e8b704",
   "metadata": {},
   "outputs": [
    {
     "name": "stdout",
     "output_type": "stream",
     "text": [
      "Class distribution before oversampling:\n",
      "Positive    678483\n",
      "Neutral     593056\n",
      "Negative    326588\n",
      "Name: textblob_sentiment, dtype: int64\n"
     ]
    }
   ],
   "source": [
    "from imblearn.over_sampling import RandomOverSampler\n",
    "import pandas as pd\n",
    "\n",
    "# Check class distribution\n",
    "class_distribution = df_copy['textblob_sentiment'].value_counts()\n",
    "print(\"Class distribution before oversampling:\")\n",
    "print(class_distribution)\n"
   ]
  },
  {
   "cell_type": "code",
   "execution_count": 110,
   "id": "80887ace",
   "metadata": {},
   "outputs": [],
   "source": [
    "# Reset index to have 'date' as a column\n",
    "df_reset = df_copy.reset_index()"
   ]
  },
  {
   "cell_type": "code",
   "execution_count": 221,
   "id": "447a5372",
   "metadata": {},
   "outputs": [
    {
     "name": "stdout",
     "output_type": "stream",
     "text": [
      "<class 'pandas.core.frame.DataFrame'>\n",
      "RangeIndex: 1598199 entries, 0 to 1598198\n",
      "Data columns (total 3 columns):\n",
      " #   Column              Non-Null Count    Dtype         \n",
      "---  ------              --------------    -----         \n",
      " 0   date                1598199 non-null  datetime64[ns]\n",
      " 1   textblob_sentiment  1598127 non-null  object        \n",
      " 2   label_encoded       1598199 non-null  float64       \n",
      "dtypes: datetime64[ns](1), float64(1), object(1)\n",
      "memory usage: 36.6+ MB\n"
     ]
    }
   ],
   "source": [
    "df_reset.info()"
   ]
  },
  {
   "cell_type": "code",
   "execution_count": 225,
   "id": "bfca0127",
   "metadata": {},
   "outputs": [
    {
     "ename": "ValueError",
     "evalue": "You must specify a period or x must be a pandas object with a PeriodIndex or a DatetimeIndex with a freq not set to None",
     "output_type": "error",
     "traceback": [
      "\u001b[1;31m---------------------------------------------------------------------------\u001b[0m",
      "\u001b[1;31mValueError\u001b[0m                                Traceback (most recent call last)",
      "Cell \u001b[1;32mIn[225], line 3\u001b[0m\n\u001b[0;32m      1\u001b[0m \u001b[38;5;28;01mfrom\u001b[39;00m \u001b[38;5;21;01mstatsmodels\u001b[39;00m\u001b[38;5;21;01m.\u001b[39;00m\u001b[38;5;21;01mtsa\u001b[39;00m\u001b[38;5;21;01m.\u001b[39;00m\u001b[38;5;21;01mseasonal\u001b[39;00m \u001b[38;5;28;01mimport\u001b[39;00m seasonal_decompose\n\u001b[0;32m      2\u001b[0m df1 \u001b[38;5;241m=\u001b[39m df_reset\u001b[38;5;241m.\u001b[39mset_index(\u001b[38;5;124m'\u001b[39m\u001b[38;5;124mdate\u001b[39m\u001b[38;5;124m'\u001b[39m)\n\u001b[1;32m----> 3\u001b[0m results \u001b[38;5;241m=\u001b[39m seasonal_decompose(df1[\u001b[38;5;124m'\u001b[39m\u001b[38;5;124mlabel_encoded\u001b[39m\u001b[38;5;124m'\u001b[39m])\n\u001b[0;32m      4\u001b[0m results\u001b[38;5;241m.\u001b[39mplot()\n",
      "File \u001b[1;32m~\\anaconda3\\Lib\\site-packages\\statsmodels\\tsa\\seasonal.py:166\u001b[0m, in \u001b[0;36mseasonal_decompose\u001b[1;34m(x, model, filt, period, two_sided, extrapolate_trend)\u001b[0m\n\u001b[0;32m    164\u001b[0m         period \u001b[38;5;241m=\u001b[39m pfreq\n\u001b[0;32m    165\u001b[0m     \u001b[38;5;28;01melse\u001b[39;00m:\n\u001b[1;32m--> 166\u001b[0m         \u001b[38;5;28;01mraise\u001b[39;00m \u001b[38;5;167;01mValueError\u001b[39;00m(\n\u001b[0;32m    167\u001b[0m             \u001b[38;5;124m\"\u001b[39m\u001b[38;5;124mYou must specify a period or x must be a pandas object with \u001b[39m\u001b[38;5;124m\"\u001b[39m\n\u001b[0;32m    168\u001b[0m             \u001b[38;5;124m\"\u001b[39m\u001b[38;5;124ma PeriodIndex or a DatetimeIndex with a freq not set to None\u001b[39m\u001b[38;5;124m\"\u001b[39m\n\u001b[0;32m    169\u001b[0m         )\n\u001b[0;32m    170\u001b[0m \u001b[38;5;28;01mif\u001b[39;00m x\u001b[38;5;241m.\u001b[39mshape[\u001b[38;5;241m0\u001b[39m] \u001b[38;5;241m<\u001b[39m \u001b[38;5;241m2\u001b[39m \u001b[38;5;241m*\u001b[39m pfreq:\n\u001b[0;32m    171\u001b[0m     \u001b[38;5;28;01mraise\u001b[39;00m \u001b[38;5;167;01mValueError\u001b[39;00m(\n\u001b[0;32m    172\u001b[0m         \u001b[38;5;124mf\u001b[39m\u001b[38;5;124m\"\u001b[39m\u001b[38;5;124mx must have 2 complete cycles requires \u001b[39m\u001b[38;5;132;01m{\u001b[39;00m\u001b[38;5;241m2\u001b[39m\u001b[38;5;250m \u001b[39m\u001b[38;5;241m*\u001b[39m\u001b[38;5;250m \u001b[39mpfreq\u001b[38;5;132;01m}\u001b[39;00m\u001b[38;5;124m \u001b[39m\u001b[38;5;124m\"\u001b[39m\n\u001b[0;32m    173\u001b[0m         \u001b[38;5;124mf\u001b[39m\u001b[38;5;124m\"\u001b[39m\u001b[38;5;124mobservations. x only has \u001b[39m\u001b[38;5;132;01m{\u001b[39;00mx\u001b[38;5;241m.\u001b[39mshape[\u001b[38;5;241m0\u001b[39m]\u001b[38;5;132;01m}\u001b[39;00m\u001b[38;5;124m observation(s)\u001b[39m\u001b[38;5;124m\"\u001b[39m\n\u001b[0;32m    174\u001b[0m     )\n",
      "\u001b[1;31mValueError\u001b[0m: You must specify a period or x must be a pandas object with a PeriodIndex or a DatetimeIndex with a freq not set to None"
     ]
    }
   ],
   "source": [
    "from statsmodels.tsa.seasonal import seasonal_decompose\n",
    "df1 = df_reset.set_index('date')\n",
    "results = seasonal_decompose(df1['label_encoded'])\n",
    "results.plot()"
   ]
  },
  {
   "cell_type": "code",
   "execution_count": 222,
   "id": "b739ab56",
   "metadata": {},
   "outputs": [],
   "source": [
    "# Oversample to address class imbalance\n",
    "oversampler = RandomOverSampler()\n",
    "X_resampled, y_resampled = oversampler.fit_resample(df_reset[['date']], df_reset['label_encoded'])"
   ]
  },
  {
   "cell_type": "code",
   "execution_count": 224,
   "id": "31fafc73",
   "metadata": {},
   "outputs": [
    {
     "ename": "ValueError",
     "evalue": "Data must be 1-dimensional",
     "output_type": "error",
     "traceback": [
      "\u001b[1;31m---------------------------------------------------------------------------\u001b[0m",
      "\u001b[1;31mValueError\u001b[0m                                Traceback (most recent call last)",
      "Cell \u001b[1;32mIn[224], line 2\u001b[0m\n\u001b[0;32m      1\u001b[0m \u001b[38;5;66;03m# Convert resampled data back to DataFrame\u001b[39;00m\n\u001b[1;32m----> 2\u001b[0m df_resampled \u001b[38;5;241m=\u001b[39m pd\u001b[38;5;241m.\u001b[39mDataFrame({\u001b[38;5;124m'\u001b[39m\u001b[38;5;124mdate\u001b[39m\u001b[38;5;124m'\u001b[39m: X_resampled, \u001b[38;5;124m'\u001b[39m\u001b[38;5;124mlabel_encoded\u001b[39m\u001b[38;5;124m'\u001b[39m: y_resampled})\n\u001b[0;32m      4\u001b[0m \u001b[38;5;66;03m# Set 'date' column back as index\u001b[39;00m\n\u001b[0;32m      5\u001b[0m df_resampled\u001b[38;5;241m.\u001b[39mset_index(\u001b[38;5;124m'\u001b[39m\u001b[38;5;124mdate\u001b[39m\u001b[38;5;124m'\u001b[39m, inplace\u001b[38;5;241m=\u001b[39m\u001b[38;5;28;01mTrue\u001b[39;00m)\n",
      "File \u001b[1;32m~\\anaconda3\\Lib\\site-packages\\pandas\\core\\frame.py:664\u001b[0m, in \u001b[0;36mDataFrame.__init__\u001b[1;34m(self, data, index, columns, dtype, copy)\u001b[0m\n\u001b[0;32m    658\u001b[0m     mgr \u001b[38;5;241m=\u001b[39m \u001b[38;5;28mself\u001b[39m\u001b[38;5;241m.\u001b[39m_init_mgr(\n\u001b[0;32m    659\u001b[0m         data, axes\u001b[38;5;241m=\u001b[39m{\u001b[38;5;124m\"\u001b[39m\u001b[38;5;124mindex\u001b[39m\u001b[38;5;124m\"\u001b[39m: index, \u001b[38;5;124m\"\u001b[39m\u001b[38;5;124mcolumns\u001b[39m\u001b[38;5;124m\"\u001b[39m: columns}, dtype\u001b[38;5;241m=\u001b[39mdtype, copy\u001b[38;5;241m=\u001b[39mcopy\n\u001b[0;32m    660\u001b[0m     )\n\u001b[0;32m    662\u001b[0m \u001b[38;5;28;01melif\u001b[39;00m \u001b[38;5;28misinstance\u001b[39m(data, \u001b[38;5;28mdict\u001b[39m):\n\u001b[0;32m    663\u001b[0m     \u001b[38;5;66;03m# GH#38939 de facto copy defaults to False only in non-dict cases\u001b[39;00m\n\u001b[1;32m--> 664\u001b[0m     mgr \u001b[38;5;241m=\u001b[39m dict_to_mgr(data, index, columns, dtype\u001b[38;5;241m=\u001b[39mdtype, copy\u001b[38;5;241m=\u001b[39mcopy, typ\u001b[38;5;241m=\u001b[39mmanager)\n\u001b[0;32m    665\u001b[0m \u001b[38;5;28;01melif\u001b[39;00m \u001b[38;5;28misinstance\u001b[39m(data, ma\u001b[38;5;241m.\u001b[39mMaskedArray):\n\u001b[0;32m    666\u001b[0m     \u001b[38;5;28;01mimport\u001b[39;00m \u001b[38;5;21;01mnumpy\u001b[39;00m\u001b[38;5;21;01m.\u001b[39;00m\u001b[38;5;21;01mma\u001b[39;00m\u001b[38;5;21;01m.\u001b[39;00m\u001b[38;5;21;01mmrecords\u001b[39;00m \u001b[38;5;28;01mas\u001b[39;00m \u001b[38;5;21;01mmrecords\u001b[39;00m\n",
      "File \u001b[1;32m~\\anaconda3\\Lib\\site-packages\\pandas\\core\\internals\\construction.py:493\u001b[0m, in \u001b[0;36mdict_to_mgr\u001b[1;34m(data, index, columns, dtype, typ, copy)\u001b[0m\n\u001b[0;32m    489\u001b[0m     \u001b[38;5;28;01melse\u001b[39;00m:\n\u001b[0;32m    490\u001b[0m         \u001b[38;5;66;03m# dtype check to exclude e.g. range objects, scalars\u001b[39;00m\n\u001b[0;32m    491\u001b[0m         arrays \u001b[38;5;241m=\u001b[39m [x\u001b[38;5;241m.\u001b[39mcopy() \u001b[38;5;28;01mif\u001b[39;00m \u001b[38;5;28mhasattr\u001b[39m(x, \u001b[38;5;124m\"\u001b[39m\u001b[38;5;124mdtype\u001b[39m\u001b[38;5;124m\"\u001b[39m) \u001b[38;5;28;01melse\u001b[39;00m x \u001b[38;5;28;01mfor\u001b[39;00m x \u001b[38;5;129;01min\u001b[39;00m arrays]\n\u001b[1;32m--> 493\u001b[0m \u001b[38;5;28;01mreturn\u001b[39;00m arrays_to_mgr(arrays, columns, index, dtype\u001b[38;5;241m=\u001b[39mdtype, typ\u001b[38;5;241m=\u001b[39mtyp, consolidate\u001b[38;5;241m=\u001b[39mcopy)\n",
      "File \u001b[1;32m~\\anaconda3\\Lib\\site-packages\\pandas\\core\\internals\\construction.py:123\u001b[0m, in \u001b[0;36marrays_to_mgr\u001b[1;34m(arrays, columns, index, dtype, verify_integrity, typ, consolidate)\u001b[0m\n\u001b[0;32m    120\u001b[0m         index \u001b[38;5;241m=\u001b[39m ensure_index(index)\n\u001b[0;32m    122\u001b[0m     \u001b[38;5;66;03m# don't force copy because getting jammed in an ndarray anyway\u001b[39;00m\n\u001b[1;32m--> 123\u001b[0m     arrays \u001b[38;5;241m=\u001b[39m _homogenize(arrays, index, dtype)\n\u001b[0;32m    124\u001b[0m     \u001b[38;5;66;03m# _homogenize ensures\u001b[39;00m\n\u001b[0;32m    125\u001b[0m     \u001b[38;5;66;03m#  - all(len(x) == len(index) for x in arrays)\u001b[39;00m\n\u001b[0;32m    126\u001b[0m     \u001b[38;5;66;03m#  - all(x.ndim == 1 for x in arrays)\u001b[39;00m\n\u001b[1;32m   (...)\u001b[0m\n\u001b[0;32m    129\u001b[0m \n\u001b[0;32m    130\u001b[0m \u001b[38;5;28;01melse\u001b[39;00m:\n\u001b[0;32m    131\u001b[0m     index \u001b[38;5;241m=\u001b[39m ensure_index(index)\n",
      "File \u001b[1;32m~\\anaconda3\\Lib\\site-packages\\pandas\\core\\internals\\construction.py:617\u001b[0m, in \u001b[0;36m_homogenize\u001b[1;34m(data, index, dtype)\u001b[0m\n\u001b[0;32m    614\u001b[0m             val \u001b[38;5;241m=\u001b[39m \u001b[38;5;28mdict\u001b[39m(val)\n\u001b[0;32m    615\u001b[0m         val \u001b[38;5;241m=\u001b[39m lib\u001b[38;5;241m.\u001b[39mfast_multiget(val, oindex\u001b[38;5;241m.\u001b[39m_values, default\u001b[38;5;241m=\u001b[39mnp\u001b[38;5;241m.\u001b[39mnan)\n\u001b[1;32m--> 617\u001b[0m     val \u001b[38;5;241m=\u001b[39m sanitize_array(\n\u001b[0;32m    618\u001b[0m         val, index, dtype\u001b[38;5;241m=\u001b[39mdtype, copy\u001b[38;5;241m=\u001b[39m\u001b[38;5;28;01mFalse\u001b[39;00m, raise_cast_failure\u001b[38;5;241m=\u001b[39m\u001b[38;5;28;01mFalse\u001b[39;00m\n\u001b[0;32m    619\u001b[0m     )\n\u001b[0;32m    620\u001b[0m     com\u001b[38;5;241m.\u001b[39mrequire_length_match(val, index)\n\u001b[0;32m    622\u001b[0m homogenized\u001b[38;5;241m.\u001b[39mappend(val)\n",
      "File \u001b[1;32m~\\anaconda3\\Lib\\site-packages\\pandas\\core\\construction.py:647\u001b[0m, in \u001b[0;36msanitize_array\u001b[1;34m(data, index, dtype, copy, raise_cast_failure, allow_2d)\u001b[0m\n\u001b[0;32m    644\u001b[0m             subarr \u001b[38;5;241m=\u001b[39m cast(np\u001b[38;5;241m.\u001b[39mndarray, subarr)\n\u001b[0;32m    645\u001b[0m             subarr \u001b[38;5;241m=\u001b[39m maybe_infer_to_datetimelike(subarr)\n\u001b[1;32m--> 647\u001b[0m subarr \u001b[38;5;241m=\u001b[39m _sanitize_ndim(subarr, data, dtype, index, allow_2d\u001b[38;5;241m=\u001b[39mallow_2d)\n\u001b[0;32m    649\u001b[0m \u001b[38;5;28;01mif\u001b[39;00m \u001b[38;5;28misinstance\u001b[39m(subarr, np\u001b[38;5;241m.\u001b[39mndarray):\n\u001b[0;32m    650\u001b[0m     \u001b[38;5;66;03m# at this point we should have dtype be None or subarr.dtype == dtype\u001b[39;00m\n\u001b[0;32m    651\u001b[0m     dtype \u001b[38;5;241m=\u001b[39m cast(np\u001b[38;5;241m.\u001b[39mdtype, dtype)\n",
      "File \u001b[1;32m~\\anaconda3\\Lib\\site-packages\\pandas\\core\\construction.py:698\u001b[0m, in \u001b[0;36m_sanitize_ndim\u001b[1;34m(result, data, dtype, index, allow_2d)\u001b[0m\n\u001b[0;32m    696\u001b[0m     \u001b[38;5;28;01mif\u001b[39;00m allow_2d:\n\u001b[0;32m    697\u001b[0m         \u001b[38;5;28;01mreturn\u001b[39;00m result\n\u001b[1;32m--> 698\u001b[0m     \u001b[38;5;28;01mraise\u001b[39;00m \u001b[38;5;167;01mValueError\u001b[39;00m(\u001b[38;5;124m\"\u001b[39m\u001b[38;5;124mData must be 1-dimensional\u001b[39m\u001b[38;5;124m\"\u001b[39m)\n\u001b[0;32m    699\u001b[0m \u001b[38;5;28;01mif\u001b[39;00m is_object_dtype(dtype) \u001b[38;5;129;01mand\u001b[39;00m \u001b[38;5;28misinstance\u001b[39m(dtype, ExtensionDtype):\n\u001b[0;32m    700\u001b[0m     \u001b[38;5;66;03m# i.e. PandasDtype(\"O\")\u001b[39;00m\n\u001b[0;32m    702\u001b[0m     result \u001b[38;5;241m=\u001b[39m com\u001b[38;5;241m.\u001b[39masarray_tuplesafe(data, dtype\u001b[38;5;241m=\u001b[39mnp\u001b[38;5;241m.\u001b[39mdtype(\u001b[38;5;124m\"\u001b[39m\u001b[38;5;124mobject\u001b[39m\u001b[38;5;124m\"\u001b[39m))\n",
      "\u001b[1;31mValueError\u001b[0m: Data must be 1-dimensional"
     ]
    }
   ],
   "source": [
    "# Convert resampled data back to DataFrame\n",
    "df_resampled = pd.DataFrame({'date': X_resampled, 'label_encoded': y_resampled})\n",
    "\n",
    "# Set 'date' column back as index\n",
    "df_resampled.set_index('date', inplace=True)"
   ]
  },
  {
   "cell_type": "code",
   "execution_count": null,
   "id": "a6510a1c",
   "metadata": {},
   "outputs": [],
   "source": [
    "# Check class distribution after oversampling\n",
    "class_distribution_resampled = df_resampled['textblob_sentiment'].value_counts()\n",
    "print(\"\\nClass distribution after oversampling:\")\n",
    "print(class_distribution_resampled)"
   ]
  },
  {
   "cell_type": "code",
   "execution_count": 208,
   "id": "6ac56591",
   "metadata": {},
   "outputs": [],
   "source": [
    "df2 = df_copy.copy()"
   ]
  },
  {
   "cell_type": "code",
   "execution_count": 209,
   "id": "00e05af6",
   "metadata": {},
   "outputs": [
    {
     "data": {
      "text/html": [
       "<div>\n",
       "<style scoped>\n",
       "    .dataframe tbody tr th:only-of-type {\n",
       "        vertical-align: middle;\n",
       "    }\n",
       "\n",
       "    .dataframe tbody tr th {\n",
       "        vertical-align: top;\n",
       "    }\n",
       "\n",
       "    .dataframe thead th {\n",
       "        text-align: right;\n",
       "    }\n",
       "</style>\n",
       "<table border=\"1\" class=\"dataframe\">\n",
       "  <thead>\n",
       "    <tr style=\"text-align: right;\">\n",
       "      <th></th>\n",
       "      <th>textblob_sentiment</th>\n",
       "      <th>label_encoded</th>\n",
       "    </tr>\n",
       "    <tr>\n",
       "      <th>date</th>\n",
       "      <th></th>\n",
       "      <th></th>\n",
       "    </tr>\n",
       "  </thead>\n",
       "  <tbody>\n",
       "    <tr>\n",
       "      <th>2009-04-07 05:19:45</th>\n",
       "      <td>Positive</td>\n",
       "      <td>2.0</td>\n",
       "    </tr>\n",
       "    <tr>\n",
       "      <th>2009-04-07 05:19:49</th>\n",
       "      <td>Neutral</td>\n",
       "      <td>1.0</td>\n",
       "    </tr>\n",
       "    <tr>\n",
       "      <th>2009-04-07 05:19:53</th>\n",
       "      <td>Positive</td>\n",
       "      <td>2.0</td>\n",
       "    </tr>\n",
       "    <tr>\n",
       "      <th>2009-04-07 05:19:57</th>\n",
       "      <td>Positive</td>\n",
       "      <td>2.0</td>\n",
       "    </tr>\n",
       "    <tr>\n",
       "      <th>2009-04-07 05:19:57</th>\n",
       "      <td>Negative</td>\n",
       "      <td>0.0</td>\n",
       "    </tr>\n",
       "  </tbody>\n",
       "</table>\n",
       "</div>"
      ],
      "text/plain": [
       "                    textblob_sentiment  label_encoded\n",
       "date                                                 \n",
       "2009-04-07 05:19:45           Positive            2.0\n",
       "2009-04-07 05:19:49            Neutral            1.0\n",
       "2009-04-07 05:19:53           Positive            2.0\n",
       "2009-04-07 05:19:57           Positive            2.0\n",
       "2009-04-07 05:19:57           Negative            0.0"
      ]
     },
     "execution_count": 209,
     "metadata": {},
     "output_type": "execute_result"
    }
   ],
   "source": [
    "df2.head(5)"
   ]
  },
  {
   "cell_type": "code",
   "execution_count": 217,
   "id": "26827e19",
   "metadata": {},
   "outputs": [
    {
     "name": "stdout",
     "output_type": "stream",
     "text": [
      "Class distribution before oversampling:\n",
      "Positive    678483\n",
      "Neutral     593056\n",
      "Negative    326588\n",
      "Name: textblob_sentiment, dtype: int64\n"
     ]
    },
    {
     "ename": "TypeError",
     "evalue": "'<' not supported between instances of 'float' and 'str'",
     "output_type": "error",
     "traceback": [
      "\u001b[1;31m---------------------------------------------------------------------------\u001b[0m",
      "\u001b[1;31mTypeError\u001b[0m                                 Traceback (most recent call last)",
      "Cell \u001b[1;32mIn[217], line 11\u001b[0m\n\u001b[0;32m      9\u001b[0m \u001b[38;5;66;03m# Oversample to address class imbalance\u001b[39;00m\n\u001b[0;32m     10\u001b[0m oversampler \u001b[38;5;241m=\u001b[39m RandomOverSampler()\n\u001b[1;32m---> 11\u001b[0m X_resampled, y_resampled \u001b[38;5;241m=\u001b[39m oversampler\u001b[38;5;241m.\u001b[39mfit_resample(df\u001b[38;5;241m.\u001b[39mindex\u001b[38;5;241m.\u001b[39mvalues\u001b[38;5;241m.\u001b[39mreshape(\u001b[38;5;241m-\u001b[39m\u001b[38;5;241m1\u001b[39m, \u001b[38;5;241m1\u001b[39m), df2[\u001b[38;5;124m'\u001b[39m\u001b[38;5;124mtextblob_sentiment\u001b[39m\u001b[38;5;124m'\u001b[39m])\n",
      "File \u001b[1;32m~\\anaconda3\\Lib\\site-packages\\imblearn\\base.py:208\u001b[0m, in \u001b[0;36mBaseSampler.fit_resample\u001b[1;34m(self, X, y)\u001b[0m\n\u001b[0;32m    187\u001b[0m \u001b[38;5;250m\u001b[39m\u001b[38;5;124;03m\"\"\"Resample the dataset.\u001b[39;00m\n\u001b[0;32m    188\u001b[0m \n\u001b[0;32m    189\u001b[0m \u001b[38;5;124;03mParameters\u001b[39;00m\n\u001b[1;32m   (...)\u001b[0m\n\u001b[0;32m    205\u001b[0m \u001b[38;5;124;03m    The corresponding label of `X_resampled`.\u001b[39;00m\n\u001b[0;32m    206\u001b[0m \u001b[38;5;124;03m\"\"\"\u001b[39;00m\n\u001b[0;32m    207\u001b[0m \u001b[38;5;28mself\u001b[39m\u001b[38;5;241m.\u001b[39m_validate_params()\n\u001b[1;32m--> 208\u001b[0m \u001b[38;5;28;01mreturn\u001b[39;00m \u001b[38;5;28msuper\u001b[39m()\u001b[38;5;241m.\u001b[39mfit_resample(X, y)\n",
      "File \u001b[1;32m~\\anaconda3\\Lib\\site-packages\\imblearn\\base.py:104\u001b[0m, in \u001b[0;36mSamplerMixin.fit_resample\u001b[1;34m(self, X, y)\u001b[0m\n\u001b[0;32m     83\u001b[0m \u001b[38;5;28;01mdef\u001b[39;00m \u001b[38;5;21mfit_resample\u001b[39m(\u001b[38;5;28mself\u001b[39m, X, y):\n\u001b[0;32m     84\u001b[0m \u001b[38;5;250m    \u001b[39m\u001b[38;5;124;03m\"\"\"Resample the dataset.\u001b[39;00m\n\u001b[0;32m     85\u001b[0m \n\u001b[0;32m     86\u001b[0m \u001b[38;5;124;03m    Parameters\u001b[39;00m\n\u001b[1;32m   (...)\u001b[0m\n\u001b[0;32m    102\u001b[0m \u001b[38;5;124;03m        The corresponding label of `X_resampled`.\u001b[39;00m\n\u001b[0;32m    103\u001b[0m \u001b[38;5;124;03m    \"\"\"\u001b[39;00m\n\u001b[1;32m--> 104\u001b[0m     check_classification_targets(y)\n\u001b[0;32m    105\u001b[0m     arrays_transformer \u001b[38;5;241m=\u001b[39m ArraysTransformer(X, y)\n\u001b[0;32m    106\u001b[0m     X, y, binarize_y \u001b[38;5;241m=\u001b[39m \u001b[38;5;28mself\u001b[39m\u001b[38;5;241m.\u001b[39m_check_X_y(X, y)\n",
      "File \u001b[1;32m~\\anaconda3\\Lib\\site-packages\\sklearn\\utils\\multiclass.py:207\u001b[0m, in \u001b[0;36mcheck_classification_targets\u001b[1;34m(y)\u001b[0m\n\u001b[0;32m    195\u001b[0m \u001b[38;5;28;01mdef\u001b[39;00m \u001b[38;5;21mcheck_classification_targets\u001b[39m(y):\n\u001b[0;32m    196\u001b[0m \u001b[38;5;250m    \u001b[39m\u001b[38;5;124;03m\"\"\"Ensure that target y is of a non-regression type.\u001b[39;00m\n\u001b[0;32m    197\u001b[0m \n\u001b[0;32m    198\u001b[0m \u001b[38;5;124;03m    Only the following target types (as defined in type_of_target) are allowed:\u001b[39;00m\n\u001b[1;32m   (...)\u001b[0m\n\u001b[0;32m    205\u001b[0m \u001b[38;5;124;03m        Target values.\u001b[39;00m\n\u001b[0;32m    206\u001b[0m \u001b[38;5;124;03m    \"\"\"\u001b[39;00m\n\u001b[1;32m--> 207\u001b[0m     y_type \u001b[38;5;241m=\u001b[39m type_of_target(y, input_name\u001b[38;5;241m=\u001b[39m\u001b[38;5;124m\"\u001b[39m\u001b[38;5;124my\u001b[39m\u001b[38;5;124m\"\u001b[39m)\n\u001b[0;32m    208\u001b[0m     \u001b[38;5;28;01mif\u001b[39;00m y_type \u001b[38;5;129;01mnot\u001b[39;00m \u001b[38;5;129;01min\u001b[39;00m [\n\u001b[0;32m    209\u001b[0m         \u001b[38;5;124m\"\u001b[39m\u001b[38;5;124mbinary\u001b[39m\u001b[38;5;124m\"\u001b[39m,\n\u001b[0;32m    210\u001b[0m         \u001b[38;5;124m\"\u001b[39m\u001b[38;5;124mmulticlass\u001b[39m\u001b[38;5;124m\"\u001b[39m,\n\u001b[1;32m   (...)\u001b[0m\n\u001b[0;32m    213\u001b[0m         \u001b[38;5;124m\"\u001b[39m\u001b[38;5;124mmultilabel-sequences\u001b[39m\u001b[38;5;124m\"\u001b[39m,\n\u001b[0;32m    214\u001b[0m     ]:\n\u001b[0;32m    215\u001b[0m         \u001b[38;5;28;01mraise\u001b[39;00m \u001b[38;5;167;01mValueError\u001b[39;00m(\n\u001b[0;32m    216\u001b[0m             \u001b[38;5;124mf\u001b[39m\u001b[38;5;124m\"\u001b[39m\u001b[38;5;124mUnknown label type: \u001b[39m\u001b[38;5;132;01m{\u001b[39;00my_type\u001b[38;5;132;01m}\u001b[39;00m\u001b[38;5;124m. Maybe you are trying to fit a \u001b[39m\u001b[38;5;124m\"\u001b[39m\n\u001b[0;32m    217\u001b[0m             \u001b[38;5;124m\"\u001b[39m\u001b[38;5;124mclassifier, which expects discrete classes on a \u001b[39m\u001b[38;5;124m\"\u001b[39m\n\u001b[0;32m    218\u001b[0m             \u001b[38;5;124m\"\u001b[39m\u001b[38;5;124mregression target with continuous values.\u001b[39m\u001b[38;5;124m\"\u001b[39m\n\u001b[0;32m    219\u001b[0m         )\n",
      "File \u001b[1;32m~\\anaconda3\\Lib\\site-packages\\sklearn\\utils\\multiclass.py:387\u001b[0m, in \u001b[0;36mtype_of_target\u001b[1;34m(y, input_name)\u001b[0m\n\u001b[0;32m    385\u001b[0m \u001b[38;5;66;03m# Check multiclass\u001b[39;00m\n\u001b[0;32m    386\u001b[0m first_row \u001b[38;5;241m=\u001b[39m y[\u001b[38;5;241m0\u001b[39m] \u001b[38;5;28;01mif\u001b[39;00m \u001b[38;5;129;01mnot\u001b[39;00m issparse(y) \u001b[38;5;28;01melse\u001b[39;00m y\u001b[38;5;241m.\u001b[39mgetrow(\u001b[38;5;241m0\u001b[39m)\u001b[38;5;241m.\u001b[39mdata\n\u001b[1;32m--> 387\u001b[0m \u001b[38;5;28;01mif\u001b[39;00m xp\u001b[38;5;241m.\u001b[39munique_values(y)\u001b[38;5;241m.\u001b[39mshape[\u001b[38;5;241m0\u001b[39m] \u001b[38;5;241m>\u001b[39m \u001b[38;5;241m2\u001b[39m \u001b[38;5;129;01mor\u001b[39;00m (y\u001b[38;5;241m.\u001b[39mndim \u001b[38;5;241m==\u001b[39m \u001b[38;5;241m2\u001b[39m \u001b[38;5;129;01mand\u001b[39;00m \u001b[38;5;28mlen\u001b[39m(first_row) \u001b[38;5;241m>\u001b[39m \u001b[38;5;241m1\u001b[39m):\n\u001b[0;32m    388\u001b[0m     \u001b[38;5;66;03m# [1, 2, 3] or [[1., 2., 3]] or [[1, 2]]\u001b[39;00m\n\u001b[0;32m    389\u001b[0m     \u001b[38;5;28;01mreturn\u001b[39;00m \u001b[38;5;124m\"\u001b[39m\u001b[38;5;124mmulticlass\u001b[39m\u001b[38;5;124m\"\u001b[39m \u001b[38;5;241m+\u001b[39m suffix\n\u001b[0;32m    390\u001b[0m \u001b[38;5;28;01melse\u001b[39;00m:\n",
      "File \u001b[1;32m~\\anaconda3\\Lib\\site-packages\\sklearn\\utils\\_array_api.py:262\u001b[0m, in \u001b[0;36m_NumPyAPIWrapper.unique_values\u001b[1;34m(self, x)\u001b[0m\n\u001b[0;32m    261\u001b[0m \u001b[38;5;28;01mdef\u001b[39;00m \u001b[38;5;21munique_values\u001b[39m(\u001b[38;5;28mself\u001b[39m, x):\n\u001b[1;32m--> 262\u001b[0m     \u001b[38;5;28;01mreturn\u001b[39;00m numpy\u001b[38;5;241m.\u001b[39munique(x)\n",
      "File \u001b[1;32m<__array_function__ internals>:200\u001b[0m, in \u001b[0;36munique\u001b[1;34m(*args, **kwargs)\u001b[0m\n",
      "File \u001b[1;32m~\\anaconda3\\Lib\\site-packages\\numpy\\lib\\arraysetops.py:274\u001b[0m, in \u001b[0;36munique\u001b[1;34m(ar, return_index, return_inverse, return_counts, axis, equal_nan)\u001b[0m\n\u001b[0;32m    272\u001b[0m ar \u001b[38;5;241m=\u001b[39m np\u001b[38;5;241m.\u001b[39masanyarray(ar)\n\u001b[0;32m    273\u001b[0m \u001b[38;5;28;01mif\u001b[39;00m axis \u001b[38;5;129;01mis\u001b[39;00m \u001b[38;5;28;01mNone\u001b[39;00m:\n\u001b[1;32m--> 274\u001b[0m     ret \u001b[38;5;241m=\u001b[39m _unique1d(ar, return_index, return_inverse, return_counts, \n\u001b[0;32m    275\u001b[0m                     equal_nan\u001b[38;5;241m=\u001b[39mequal_nan)\n\u001b[0;32m    276\u001b[0m     \u001b[38;5;28;01mreturn\u001b[39;00m _unpack_tuple(ret)\n\u001b[0;32m    278\u001b[0m \u001b[38;5;66;03m# axis was specified and not None\u001b[39;00m\n",
      "File \u001b[1;32m~\\anaconda3\\Lib\\site-packages\\numpy\\lib\\arraysetops.py:336\u001b[0m, in \u001b[0;36m_unique1d\u001b[1;34m(ar, return_index, return_inverse, return_counts, equal_nan)\u001b[0m\n\u001b[0;32m    334\u001b[0m     aux \u001b[38;5;241m=\u001b[39m ar[perm]\n\u001b[0;32m    335\u001b[0m \u001b[38;5;28;01melse\u001b[39;00m:\n\u001b[1;32m--> 336\u001b[0m     ar\u001b[38;5;241m.\u001b[39msort()\n\u001b[0;32m    337\u001b[0m     aux \u001b[38;5;241m=\u001b[39m ar\n\u001b[0;32m    338\u001b[0m mask \u001b[38;5;241m=\u001b[39m np\u001b[38;5;241m.\u001b[39mempty(aux\u001b[38;5;241m.\u001b[39mshape, dtype\u001b[38;5;241m=\u001b[39mnp\u001b[38;5;241m.\u001b[39mbool_)\n",
      "\u001b[1;31mTypeError\u001b[0m: '<' not supported between instances of 'float' and 'str'"
     ]
    }
   ],
   "source": [
    "from imblearn.over_sampling import RandomOverSampler\n",
    "import pandas as pd\n",
    "\n",
    "# Check class distribution\n",
    "class_distribution = df2['textblob_sentiment'].value_counts()\n",
    "print(\"Class distribution before oversampling:\")\n",
    "print(class_distribution)\n",
    "\n"
   ]
  },
  {
   "cell_type": "code",
   "execution_count": null,
   "id": "218b4768",
   "metadata": {},
   "outputs": [],
   "source": [
    "# Oversample to address class imbalance\n",
    "oversampler = RandomOverSampler()\n",
    "X_resampled, y_resampled = oversampler.fit_resample(df.index.values.reshape(-1, 1), df2['textblob_sentiment'])"
   ]
  },
  {
   "cell_type": "code",
   "execution_count": null,
   "id": "280fa635",
   "metadata": {},
   "outputs": [],
   "source": [
    "# Convert resampled data back to DataFrame\n",
    "df_resampled = pd.DataFrame({'date': X_resampled.flatten(), 'textblob_sentiment': y_resampled})\n",
    "\n",
    "# Check class distribution after oversampling\n",
    "class_distribution_resampled = df_resampled['textblob_sentiment'].value_counts()\n",
    "print(\"\\nClass distribution after oversampling:\")\n",
    "print(class_distribution_resampled)"
   ]
  },
  {
   "cell_type": "code",
   "execution_count": 210,
   "id": "f57251c2",
   "metadata": {},
   "outputs": [],
   "source": [
    "import pandas as pd\n",
    "import numpy as np\n",
    "from statsmodels.tsa.arima.model import ARIMA\n",
    "from statsmodels.tsa.statespace.sarimax import SARIMAX\n",
    "from keras.models import Sequential\n",
    "from keras.layers import LSTM, Dense\n",
    "from sklearn.preprocessing import LabelEncoder\n",
    "from sklearn.model_selection import train_test_split\n",
    "from sklearn.metrics import classification_report\n"
   ]
  },
  {
   "cell_type": "code",
   "execution_count": 211,
   "id": "7045e818",
   "metadata": {},
   "outputs": [],
   "source": [
    "# Define a function to prepare data for LSTM\n",
    "def prepare_lstm_data(df2):\n",
    "    label_encoder = LabelEncoder()\n",
    "    df2['label_encoded'] = label_encoder.fit_transform(df2['textblob_sentiment'])\n",
    "    X = df2.index.values.reshape(-1, 1)  # Feature: date index\n",
    "    y = df2['label_encoded'].values       # Target: sentiment label\n",
    "    return X, y, label_encoder"
   ]
  },
  {
   "cell_type": "code",
   "execution_count": 212,
   "id": "d87867c4",
   "metadata": {},
   "outputs": [],
   "source": [
    "# Prepare data for LSTM\n",
    "X_lstm, y_lstm, label_encoder_lstm = prepare_lstm_data(df2)"
   ]
  },
  {
   "cell_type": "code",
   "execution_count": 213,
   "id": "a6bc1476",
   "metadata": {},
   "outputs": [],
   "source": [
    "# Resample to address class imbalance\n",
    "oversampler = RandomOverSampler()\n",
    "X_train_resampled, y_train_resampled = oversampler.fit_resample(X_lstm, y_lstm)"
   ]
  },
  {
   "cell_type": "code",
   "execution_count": 214,
   "id": "413c8b1a",
   "metadata": {},
   "outputs": [],
   "source": [
    "# Split data into train and test sets for LSTM\n",
    "X_train_lstm, X_test_lstm, y_train_lstm, y_test_lstm = train_test_split(X_train_resampled, y_train_resampled, test_size=0.2, random_state=42)"
   ]
  },
  {
   "cell_type": "code",
   "execution_count": 216,
   "id": "c62a02aa",
   "metadata": {},
   "outputs": [
    {
     "data": {
      "text/plain": [
       "((2171145, 1), (542787, 1))"
      ]
     },
     "execution_count": 216,
     "metadata": {},
     "output_type": "execute_result"
    }
   ],
   "source": [
    "X_train_lstm.shape, X_test_lstm.shape"
   ]
  },
  {
   "cell_type": "code",
   "execution_count": 215,
   "id": "ebd5aa21",
   "metadata": {},
   "outputs": [
    {
     "ename": "ValueError",
     "evalue": "Failed to convert a NumPy array to a Tensor (Unsupported numpy type: NPY_DATETIME).",
     "output_type": "error",
     "traceback": [
      "\u001b[1;31m---------------------------------------------------------------------------\u001b[0m",
      "\u001b[1;31mValueError\u001b[0m                                Traceback (most recent call last)",
      "Cell \u001b[1;32mIn[215], line 7\u001b[0m\n\u001b[0;32m      5\u001b[0m lstm_model\u001b[38;5;241m.\u001b[39madd(Dense(\u001b[38;5;28mlen\u001b[39m(label_encoder_lstm\u001b[38;5;241m.\u001b[39mclasses_), activation\u001b[38;5;241m=\u001b[39m\u001b[38;5;124m'\u001b[39m\u001b[38;5;124msoftmax\u001b[39m\u001b[38;5;124m'\u001b[39m))  \u001b[38;5;66;03m# Softmax for multiclass classification\u001b[39;00m\n\u001b[0;32m      6\u001b[0m lstm_model\u001b[38;5;241m.\u001b[39mcompile(optimizer\u001b[38;5;241m=\u001b[39m\u001b[38;5;124m'\u001b[39m\u001b[38;5;124madam\u001b[39m\u001b[38;5;124m'\u001b[39m, loss\u001b[38;5;241m=\u001b[39m\u001b[38;5;124m'\u001b[39m\u001b[38;5;124msparse_categorical_crossentropy\u001b[39m\u001b[38;5;124m'\u001b[39m, metrics\u001b[38;5;241m=\u001b[39m[\u001b[38;5;124m'\u001b[39m\u001b[38;5;124maccuracy\u001b[39m\u001b[38;5;124m'\u001b[39m])\n\u001b[1;32m----> 7\u001b[0m lstm_model\u001b[38;5;241m.\u001b[39mfit(X_train_lstm, y_train_lstm, epochs\u001b[38;5;241m=\u001b[39m\u001b[38;5;241m100\u001b[39m, batch_size\u001b[38;5;241m=\u001b[39m\u001b[38;5;241m32\u001b[39m)\n",
      "File \u001b[1;32m~\\anaconda3\\Lib\\site-packages\\keras\\src\\utils\\traceback_utils.py:70\u001b[0m, in \u001b[0;36mfilter_traceback.<locals>.error_handler\u001b[1;34m(*args, **kwargs)\u001b[0m\n\u001b[0;32m     67\u001b[0m     filtered_tb \u001b[38;5;241m=\u001b[39m _process_traceback_frames(e\u001b[38;5;241m.\u001b[39m__traceback__)\n\u001b[0;32m     68\u001b[0m     \u001b[38;5;66;03m# To get the full stack trace, call:\u001b[39;00m\n\u001b[0;32m     69\u001b[0m     \u001b[38;5;66;03m# `tf.debugging.disable_traceback_filtering()`\u001b[39;00m\n\u001b[1;32m---> 70\u001b[0m     \u001b[38;5;28;01mraise\u001b[39;00m e\u001b[38;5;241m.\u001b[39mwith_traceback(filtered_tb) \u001b[38;5;28;01mfrom\u001b[39;00m \u001b[38;5;28;01mNone\u001b[39;00m\n\u001b[0;32m     71\u001b[0m \u001b[38;5;28;01mfinally\u001b[39;00m:\n\u001b[0;32m     72\u001b[0m     \u001b[38;5;28;01mdel\u001b[39;00m filtered_tb\n",
      "File \u001b[1;32m~\\anaconda3\\Lib\\site-packages\\tensorflow\\python\\framework\\constant_op.py:102\u001b[0m, in \u001b[0;36mconvert_to_eager_tensor\u001b[1;34m(value, ctx, dtype)\u001b[0m\n\u001b[0;32m    100\u001b[0m     dtype \u001b[38;5;241m=\u001b[39m dtypes\u001b[38;5;241m.\u001b[39mas_dtype(dtype)\u001b[38;5;241m.\u001b[39mas_datatype_enum\n\u001b[0;32m    101\u001b[0m ctx\u001b[38;5;241m.\u001b[39mensure_initialized()\n\u001b[1;32m--> 102\u001b[0m \u001b[38;5;28;01mreturn\u001b[39;00m ops\u001b[38;5;241m.\u001b[39mEagerTensor(value, ctx\u001b[38;5;241m.\u001b[39mdevice_name, dtype)\n",
      "\u001b[1;31mValueError\u001b[0m: Failed to convert a NumPy array to a Tensor (Unsupported numpy type: NPY_DATETIME)."
     ]
    }
   ],
   "source": [
    "# Define and train LSTM model\n",
    "lstm_model = Sequential()\n",
    "lstm_model.add(LSTM(units=50, return_sequences=True, input_shape=(X_train_lstm.shape[1], 1)))\n",
    "lstm_model.add(LSTM(units=50))\n",
    "lstm_model.add(Dense(len(label_encoder_lstm.classes_), activation='softmax'))  # Softmax for multiclass classification\n",
    "lstm_model.compile(optimizer='adam', loss='sparse_categorical_crossentropy', metrics=['accuracy'])\n",
    "lstm_model.fit(X_train_lstm, y_train_lstm, epochs=100, batch_size=32)"
   ]
  },
  {
   "cell_type": "code",
   "execution_count": null,
   "id": "f7f3ed34",
   "metadata": {},
   "outputs": [],
   "source": [
    "\n",
    "\n",
    "\n",
    "\n",
    "\n",
    "\n",
    "\n",
    "\n",
    "\n",
    "# Define a function to prepare data for ARIMA and SARIMA\n",
    "def prepare_arima_data(df):\n",
    "    # Group by date and count occurrences of each sentiment\n",
    "    sentiment_counts = df.groupby([df.index.date, 'textblob_sentiment']).size().unstack(fill_value=0)\n",
    "    # Aggregate counts to daily level\n",
    "    sentiment_counts_daily = sentiment_counts.sum(axis=1)\n",
    "    return sentiment_counts_daily\n",
    "\n",
    "# Prepare data for ARIMA and SARIMA\n",
    "sentiment_counts_daily = prepare_arima_data(df)\n",
    "\n",
    "# Train ARIMA model\n",
    "arima_model = ARIMA(sentiment_counts_daily, order=(5, 1, 0))\n",
    "arima_results = arima_model.fit()\n",
    "\n",
    "# Train SARIMA model\n",
    "sarima_model = SARIMAX(sentiment_counts_daily, order=(1, 1, 1), seasonal_order=(1, 1, 1, 12))\n",
    "sarima_results = sarima_model.fit()\n",
    "\n",
    "# Forecast sentiments for day 1, 3, and 7 using LSTM, ARIMA, and SARIMA\n",
    "day_1_forecast_lstm = lstm_model.predict(np.array([[1]]))\n",
    "day_3_forecast_lstm = lstm_model.predict(np.array([[3]]))\n",
    "day_7_forecast_lstm = lstm_model.predict(np.array([[7]]))\n",
    "\n",
    "day_1_forecast_arima = arima_results.forecast(steps=1)\n",
    "day_3_forecast_arima = arima_results.forecast(steps=3)\n",
    "day_7_forecast_arima = arima_results.forecast(steps=7)\n",
    "\n",
    "day_1_forecast_sarima = sarima_results.forecast(steps=1)\n",
    "day_3_forecast_sarima = sarima_results.forecast(steps=3)\n",
    "day_7_forecast_sarima = sarima_results.forecast(steps=7)\n"
   ]
  },
  {
   "cell_type": "code",
   "execution_count": null,
   "id": "8d57ea89",
   "metadata": {},
   "outputs": [],
   "source": [
    "# Prepare data\n",
    "X = df.index.values.reshape(-1, 1)  # Feature: date index\n",
    "y = df['label_encoded'].values       # Target: sentiment label"
   ]
  },
  {
   "cell_type": "code",
   "execution_count": null,
   "id": "482823dd",
   "metadata": {},
   "outputs": [],
   "source": [
    "# Split data into train and test sets\n",
    "X_train, X_test, y_train, y_test = train_test_split(X, y, test_size=0.2, random_state=42)"
   ]
  },
  {
   "cell_type": "code",
   "execution_count": null,
   "id": "2d5a4c2b",
   "metadata": {},
   "outputs": [],
   "source": [
    "# Resample to address class imbalance\n",
    "oversampler = RandomOverSampler()\n",
    "X_train_resampled, y_train_resampled = oversampler.fit_resample(X_train, y_train)"
   ]
  },
  {
   "cell_type": "code",
   "execution_count": null,
   "id": "1cc8817e",
   "metadata": {},
   "outputs": [],
   "source": [
    "# Define and train LSTM model\n",
    "model = Sequential()\n",
    "model.add(LSTM(units=50, return_sequences=True, input_shape=(X_train_resampled.shape[1], 1)))\n",
    "model.add(LSTM(units=50))\n",
    "model.add(Dense(len(label_encoder.classes_), activation='softmax'))  # Softmax for multiclass classification\n",
    "model.compile(optimizer='adam', loss='sparse_categorical_crossentropy', metrics=['accuracy'])\n",
    "model.fit(X_train_resampled, y_train_resampled, epochs=100, batch_size=32)"
   ]
  },
  {
   "cell_type": "code",
   "execution_count": null,
   "id": "67d027be",
   "metadata": {},
   "outputs": [],
   "source": [
    "# Define and train ARIMA model\n",
    "def fit_arima_model(train_data, order):\n",
    "    model = ARIMA(train_data, order=order)\n",
    "    fitted_model = model.fit()\n",
    "    return fitted_model\n",
    "\n",
    "arima_model = fit_arima_model(y_train, order=(5, 1, 0))"
   ]
  },
  {
   "cell_type": "code",
   "execution_count": null,
   "id": "89d4d88b",
   "metadata": {},
   "outputs": [],
   "source": [
    "# Define and train SARIMA model\n",
    "def fit_sarima_model(train_data, order, seasonal_order):\n",
    "    model = SARIMAX(train_data, order=order, seasonal_order=seasonal_order)\n",
    "    fitted_model = model.fit()\n",
    "    return fitted_model\n",
    "\n",
    "sarima_model = fit_sarima_model(y_train, order=(1, 1, 1), seasonal_order=(1, 1, 1, 12))"
   ]
  },
  {
   "cell_type": "code",
   "execution_count": null,
   "id": "7070a238",
   "metadata": {},
   "outputs": [],
   "source": [
    "# Make predictions using LSTM model\n",
    "y_pred_lstm = model.predict(X_test)\n",
    "y_pred_classes_lstm = np.argmax(y_pred_lstm, axis=1)  # Get predicted classes\n",
    "\n",
    "# Make predictions using ARIMA model\n",
    "y_pred_arima = arima_model.forecast(steps=len(X_test))\n",
    "\n",
    "# Make predictions using SARIMA model\n",
    "y_pred_sarima = sarima_model.forecast(steps=len(X_test))"
   ]
  },
  {
   "cell_type": "code",
   "execution_count": null,
   "id": "44a43912",
   "metadata": {},
   "outputs": [],
   "source": [
    "# Evaluate the LSTM model\n",
    "print(\"LSTM Model:\")\n",
    "print(classification_report(y_test, y_pred_classes_lstm, target_names=label_encoder.classes_))\n"
   ]
  },
  {
   "cell_type": "code",
   "execution_count": null,
   "id": "2ab15d7c",
   "metadata": {},
   "outputs": [],
   "source": []
  },
  {
   "cell_type": "code",
   "execution_count": 108,
   "id": "b49d3c23",
   "metadata": {},
   "outputs": [],
   "source": [
    "import numpy as np\n",
    "import tensorflow as tf\n",
    "from sklearn.model_selection import train_test_split\n",
    "from sklearn.preprocessing import OneHotEncoder"
   ]
  },
  {
   "cell_type": "code",
   "execution_count": 109,
   "id": "459a77a6",
   "metadata": {},
   "outputs": [],
   "source": [
    "# Split the data into training and testing sets\n",
    "X_train, X_test, y_train, y_test = train_test_split(X, y, test_size=0.2, random_state=42)"
   ]
  },
  {
   "cell_type": "code",
   "execution_count": 110,
   "id": "485daeb7",
   "metadata": {},
   "outputs": [
    {
     "ename": "ValueError",
     "evalue": "Found unknown categories [nan] in column 0 during transform",
     "output_type": "error",
     "traceback": [
      "\u001b[1;31m---------------------------------------------------------------------------\u001b[0m",
      "\u001b[1;31mValueError\u001b[0m                                Traceback (most recent call last)",
      "Cell \u001b[1;32mIn[110], line 4\u001b[0m\n\u001b[0;32m      2\u001b[0m onehot_encoder \u001b[38;5;241m=\u001b[39m OneHotEncoder()\n\u001b[0;32m      3\u001b[0m y_train_encoded \u001b[38;5;241m=\u001b[39m onehot_encoder\u001b[38;5;241m.\u001b[39mfit_transform(y_train\u001b[38;5;241m.\u001b[39mvalues\u001b[38;5;241m.\u001b[39mreshape(\u001b[38;5;241m-\u001b[39m\u001b[38;5;241m1\u001b[39m, \u001b[38;5;241m1\u001b[39m))\u001b[38;5;241m.\u001b[39mtoarray()\n\u001b[1;32m----> 4\u001b[0m y_test_encoded \u001b[38;5;241m=\u001b[39m onehot_encoder\u001b[38;5;241m.\u001b[39mtransform(y_test\u001b[38;5;241m.\u001b[39mvalues\u001b[38;5;241m.\u001b[39mreshape(\u001b[38;5;241m-\u001b[39m\u001b[38;5;241m1\u001b[39m, \u001b[38;5;241m1\u001b[39m))\u001b[38;5;241m.\u001b[39mtoarray()\n",
      "File \u001b[1;32m~\\anaconda3\\Lib\\site-packages\\sklearn\\utils\\_set_output.py:140\u001b[0m, in \u001b[0;36m_wrap_method_output.<locals>.wrapped\u001b[1;34m(self, X, *args, **kwargs)\u001b[0m\n\u001b[0;32m    138\u001b[0m \u001b[38;5;129m@wraps\u001b[39m(f)\n\u001b[0;32m    139\u001b[0m \u001b[38;5;28;01mdef\u001b[39;00m \u001b[38;5;21mwrapped\u001b[39m(\u001b[38;5;28mself\u001b[39m, X, \u001b[38;5;241m*\u001b[39margs, \u001b[38;5;241m*\u001b[39m\u001b[38;5;241m*\u001b[39mkwargs):\n\u001b[1;32m--> 140\u001b[0m     data_to_wrap \u001b[38;5;241m=\u001b[39m f(\u001b[38;5;28mself\u001b[39m, X, \u001b[38;5;241m*\u001b[39margs, \u001b[38;5;241m*\u001b[39m\u001b[38;5;241m*\u001b[39mkwargs)\n\u001b[0;32m    141\u001b[0m     \u001b[38;5;28;01mif\u001b[39;00m \u001b[38;5;28misinstance\u001b[39m(data_to_wrap, \u001b[38;5;28mtuple\u001b[39m):\n\u001b[0;32m    142\u001b[0m         \u001b[38;5;66;03m# only wrap the first output for cross decomposition\u001b[39;00m\n\u001b[0;32m    143\u001b[0m         return_tuple \u001b[38;5;241m=\u001b[39m (\n\u001b[0;32m    144\u001b[0m             _wrap_data_with_container(method, data_to_wrap[\u001b[38;5;241m0\u001b[39m], X, \u001b[38;5;28mself\u001b[39m),\n\u001b[0;32m    145\u001b[0m             \u001b[38;5;241m*\u001b[39mdata_to_wrap[\u001b[38;5;241m1\u001b[39m:],\n\u001b[0;32m    146\u001b[0m         )\n",
      "File \u001b[1;32m~\\anaconda3\\Lib\\site-packages\\sklearn\\preprocessing\\_encoders.py:1016\u001b[0m, in \u001b[0;36mOneHotEncoder.transform\u001b[1;34m(self, X)\u001b[0m\n\u001b[0;32m   1011\u001b[0m \u001b[38;5;66;03m# validation of X happens in _check_X called by _transform\u001b[39;00m\n\u001b[0;32m   1012\u001b[0m warn_on_unknown \u001b[38;5;241m=\u001b[39m \u001b[38;5;28mself\u001b[39m\u001b[38;5;241m.\u001b[39mdrop \u001b[38;5;129;01mis\u001b[39;00m \u001b[38;5;129;01mnot\u001b[39;00m \u001b[38;5;28;01mNone\u001b[39;00m \u001b[38;5;129;01mand\u001b[39;00m \u001b[38;5;28mself\u001b[39m\u001b[38;5;241m.\u001b[39mhandle_unknown \u001b[38;5;129;01min\u001b[39;00m {\n\u001b[0;32m   1013\u001b[0m     \u001b[38;5;124m\"\u001b[39m\u001b[38;5;124mignore\u001b[39m\u001b[38;5;124m\"\u001b[39m,\n\u001b[0;32m   1014\u001b[0m     \u001b[38;5;124m\"\u001b[39m\u001b[38;5;124minfrequent_if_exist\u001b[39m\u001b[38;5;124m\"\u001b[39m,\n\u001b[0;32m   1015\u001b[0m }\n\u001b[1;32m-> 1016\u001b[0m X_int, X_mask \u001b[38;5;241m=\u001b[39m \u001b[38;5;28mself\u001b[39m\u001b[38;5;241m.\u001b[39m_transform(\n\u001b[0;32m   1017\u001b[0m     X,\n\u001b[0;32m   1018\u001b[0m     handle_unknown\u001b[38;5;241m=\u001b[39m\u001b[38;5;28mself\u001b[39m\u001b[38;5;241m.\u001b[39mhandle_unknown,\n\u001b[0;32m   1019\u001b[0m     force_all_finite\u001b[38;5;241m=\u001b[39m\u001b[38;5;124m\"\u001b[39m\u001b[38;5;124mallow-nan\u001b[39m\u001b[38;5;124m\"\u001b[39m,\n\u001b[0;32m   1020\u001b[0m     warn_on_unknown\u001b[38;5;241m=\u001b[39mwarn_on_unknown,\n\u001b[0;32m   1021\u001b[0m )\n\u001b[0;32m   1023\u001b[0m n_samples, n_features \u001b[38;5;241m=\u001b[39m X_int\u001b[38;5;241m.\u001b[39mshape\n\u001b[0;32m   1025\u001b[0m \u001b[38;5;28;01mif\u001b[39;00m \u001b[38;5;28mself\u001b[39m\u001b[38;5;241m.\u001b[39m_drop_idx_after_grouping \u001b[38;5;129;01mis\u001b[39;00m \u001b[38;5;129;01mnot\u001b[39;00m \u001b[38;5;28;01mNone\u001b[39;00m:\n",
      "File \u001b[1;32m~\\anaconda3\\Lib\\site-packages\\sklearn\\preprocessing\\_encoders.py:199\u001b[0m, in \u001b[0;36m_BaseEncoder._transform\u001b[1;34m(self, X, handle_unknown, force_all_finite, warn_on_unknown, ignore_category_indices)\u001b[0m\n\u001b[0;32m    194\u001b[0m \u001b[38;5;28;01mif\u001b[39;00m handle_unknown \u001b[38;5;241m==\u001b[39m \u001b[38;5;124m\"\u001b[39m\u001b[38;5;124merror\u001b[39m\u001b[38;5;124m\"\u001b[39m:\n\u001b[0;32m    195\u001b[0m     msg \u001b[38;5;241m=\u001b[39m (\n\u001b[0;32m    196\u001b[0m         \u001b[38;5;124m\"\u001b[39m\u001b[38;5;124mFound unknown categories \u001b[39m\u001b[38;5;132;01m{0}\u001b[39;00m\u001b[38;5;124m in column \u001b[39m\u001b[38;5;132;01m{1}\u001b[39;00m\u001b[38;5;124m\"\u001b[39m\n\u001b[0;32m    197\u001b[0m         \u001b[38;5;124m\"\u001b[39m\u001b[38;5;124m during transform\u001b[39m\u001b[38;5;124m\"\u001b[39m\u001b[38;5;241m.\u001b[39mformat(diff, i)\n\u001b[0;32m    198\u001b[0m     )\n\u001b[1;32m--> 199\u001b[0m     \u001b[38;5;28;01mraise\u001b[39;00m \u001b[38;5;167;01mValueError\u001b[39;00m(msg)\n\u001b[0;32m    200\u001b[0m \u001b[38;5;28;01melse\u001b[39;00m:\n\u001b[0;32m    201\u001b[0m     \u001b[38;5;28;01mif\u001b[39;00m warn_on_unknown:\n",
      "\u001b[1;31mValueError\u001b[0m: Found unknown categories [nan] in column 0 during transform"
     ]
    }
   ],
   "source": [
    "# Convert class labels to one-hot encoded vectors\n",
    "onehot_encoder = OneHotEncoder()\n",
    "y_train_encoded = onehot_encoder.fit_transform(y_train.values.reshape(-1, 1)).toarray()\n",
    "y_test_encoded = onehot_encoder.transform(y_test.values.reshape(-1, 1)).toarray()\n"
   ]
  },
  {
   "cell_type": "code",
   "execution_count": null,
   "id": "3cf809f0",
   "metadata": {},
   "outputs": [],
   "source": [
    "\n",
    "\n",
    "\n",
    "# Calculate class weights to handle imbalance\n",
    "class_counts = np.bincount(y_train)\n",
    "total_samples = np.sum(class_counts)\n",
    "class_weights = {i: total_samples / class_counts[i] for i in range(len(class_counts))}\n",
    "\n",
    "# Define and compile the RNN model with weighted cross-entropy loss\n",
    "model = tf.keras.Sequential([\n",
    "    tf.keras.layers.LSTM(64),\n",
    "    tf.keras.layers.Dense(3, activation='softmax')  # Output layer with three units for three classes\n",
    "])\n",
    "\n",
    "model.compile(optimizer='adam',\n",
    "              loss='categorical_crossentropy',  # Use categorical cross-entropy for multiple classes\n",
    "              metrics=['accuracy'])\n",
    "\n",
    "# Train the model with weighted loss\n",
    "model.fit(X_train, y_train_encoded, epochs=10, class_weight=class_weights)\n",
    "\n",
    "# Evaluate the model\n",
    "loss, accuracy = model.evaluate(X_test, y_test_encoded)\n",
    "print(\"Test Loss:\", loss)\n",
    "print(\"Test Accuracy:\", accuracy)\n"
   ]
  },
  {
   "cell_type": "markdown",
   "id": "eda375ba",
   "metadata": {},
   "source": [
    "# LSTM for sentiment analysis with imbalanced data\n",
    "The steps to be considered include:-\n",
    "\n",
    "- Preprocess the text data- i am using already preprocessed text data\n",
    "- Tokenize the preprocessed data\n",
    "- Prepare data for training\n",
    "- split the data into training and test set\n",
    "- define and train the LSTM model\n",
    "- Evaluate the model"
   ]
  },
  {
   "cell_type": "code",
   "execution_count": 79,
   "id": "7ece8fe5",
   "metadata": {},
   "outputs": [],
   "source": [
    "import numpy as np\n",
    "from keras.preprocessing.text import Tokenizer\n",
    "from keras.preprocessing.sequence import pad_sequences\n",
    "from keras.models import Sequential\n",
    "from keras.layers import LSTM, Dense, Embedding\n",
    "from sklearn.model_selection import train_test_split"
   ]
  },
  {
   "cell_type": "markdown",
   "id": "6411679a",
   "metadata": {},
   "source": [
    "# Visualize the trends of the sentiments"
   ]
  },
  {
   "cell_type": "code",
   "execution_count": 80,
   "id": "63dae47c",
   "metadata": {},
   "outputs": [
    {
     "data": {
      "image/png": "[encoded data removed]",
      "text/plain": [
       "<Figure size 1000x600 with 1 Axes>"
      ]
     },
     "metadata": {},
     "output_type": "display_data"
    }
   ],
   "source": [
    "import pandas as pd\n",
    "import matplotlib.pyplot as plt\n",
    "\n",
    "# Set 'date' column as index\n",
    "df.set_index('date', inplace=True)\n",
    "\n",
    "# Plot time series of sentiment classes\n",
    "plt.figure(figsize=(10, 6))\n",
    "\n",
    "# Group by sentiment classes and count occurrences for each date\n",
    "sentiment_counts = df.groupby([df.index.date, 'sentiment_vader']).size().unstack(fill_value=0)\n",
    "\n",
    "# Plot each sentiment class\n",
    "for sentiment_class in sentiment_counts.columns:\n",
    "    plt.plot(sentiment_counts.index, sentiment_counts[sentiment_class], label=sentiment_class)\n",
    "\n",
    "plt.title('Sentiment Classes Over Time')\n",
    "plt.xlabel('Date')\n",
    "plt.ylabel('Count')\n",
    "plt.legend(title='Sentiment Class')\n",
    "plt.grid(True)\n",
    "plt.show()\n"
   ]
  },
  {
   "cell_type": "code",
   "execution_count": 81,
   "id": "6422ebd2",
   "metadata": {},
   "outputs": [
    {
     "name": "stdout",
     "output_type": "stream",
     "text": [
      "<class 'pandas.core.frame.DataFrame'>\n",
      "DatetimeIndex: 1600000 entries, 2009-04-07 05:19:45 to NaT\n",
      "Data columns (total 33 columns):\n",
      " #   Column              Non-Null Count    Dtype  \n",
      "---  ------              --------------    -----  \n",
      " 0   text                1598127 non-null  object \n",
      " 1   user                1598127 non-null  object \n",
      " 2   day                 1598127 non-null  float64\n",
      " 3   month               1598127 non-null  float64\n",
      " 4   word_count          1598127 non-null  float64\n",
      " 5   char_count          1598127 non-null  float64\n",
      " 6   avg_word            1598127 non-null  float64\n",
      " 7   stopwords           1598127 non-null  float64\n",
      " 8   hashtags            1598127 non-null  float64\n",
      " 9   at_sign             1598127 non-null  float64\n",
      " 10  numerics            1598127 non-null  float64\n",
      " 11  upper               1598127 non-null  float64\n",
      " 12  text1               1598127 non-null  object \n",
      " 13  tokenized_text      1598127 non-null  object \n",
      " 14  preprocessed_text   1598127 non-null  object \n",
      " 15  polarity_score      1598127 non-null  float64\n",
      " 16  textblob_sentiment  1598127 non-null  object \n",
      " 17  textblobsentiment   1598127 non-null  float64\n",
      " 18  vader_sentiment     1598127 non-null  object \n",
      " 19  vader_neg           1598127 non-null  float64\n",
      " 20  vader_neu           1598127 non-null  float64\n",
      " 21  vader_pos           1598127 non-null  float64\n",
      " 22  vader_compound      1598127 non-null  float64\n",
      " 23  sentiment_vader     1598127 non-null  object \n",
      " 24  label_text_encoded  1598127 non-null  float64\n",
      " 25  vader_encoded       1598127 non-null  float64\n",
      " 26  Negative            1598127 non-null  float64\n",
      " 27  Neutral             1598127 non-null  float64\n",
      " 28  Positive            1598127 non-null  float64\n",
      " 29  negative            1599999 non-null  float64\n",
      " 30  neutral             1599999 non-null  float64\n",
      " 31  positive            1599999 non-null  float64\n",
      " 32  nan                 1599999 non-null  float64\n",
      "dtypes: float64(25), object(8)\n",
      "memory usage: 415.0+ MB\n"
     ]
    }
   ],
   "source": [
    "df.info()"
   ]
  },
  {
   "cell_type": "markdown",
   "id": "98db4bb8",
   "metadata": {},
   "source": [
    "# Findings from EDA\n",
    "- The date variable has duplicate indices for some observations, the dates are similar but not duplicacte in terms of observations\n",
    "- The sentiments have class imbalance"
   ]
  },
  {
   "cell_type": "markdown",
   "id": "163de44d",
   "metadata": {},
   "source": [
    "# LSTM MODEL FOR FORECASTING OF THE SENTIMENTS\n",
    "- With unbalanced data (vader vs textblob, label encoded, one-hot encoded)\n",
    "- With balanced data (vader vs textblob, label encoded, one hot encoded)"
   ]
  },
  {
   "cell_type": "markdown",
   "id": "6f9dc77b",
   "metadata": {},
   "source": [
    "## 1. Unbalanced class from Vader sentiment when data is label encoded"
   ]
  },
  {
   "cell_type": "markdown",
   "id": "17d74d60",
   "metadata": {},
   "source": [
    "Check the maximum length of the texts"
   ]
  },
  {
   "cell_type": "code",
   "execution_count": 82,
   "id": "c32882c7",
   "metadata": {},
   "outputs": [
    {
     "name": "stdout",
     "output_type": "stream",
     "text": [
      "Maximum sequence length: 179\n"
     ]
    }
   ],
   "source": [
    "#Calculate the maximum length of the text\n",
    "max_len = max([len(str(text)) for text in df['preprocessed_text']])\n",
    "\n",
    "print(\"Maximum sequence length:\", max_len)"
   ]
  },
  {
   "cell_type": "code",
   "execution_count": 83,
   "id": "476bcc4a",
   "metadata": {},
   "outputs": [],
   "source": [
    "import numpy as np\n",
    "import pandas as pd\n",
    "from sklearn.model_selection import train_test_split\n",
    "from keras.models import Sequential\n",
    "from keras.layers import LSTM, Dense, Embedding, SpatialDropout1D\n",
    "from keras.preprocessing.sequence import pad_sequences\n",
    "from sklearn.preprocessing import LabelEncoder"
   ]
  },
  {
   "cell_type": "code",
   "execution_count": 84,
   "id": "d4f095f1",
   "metadata": {},
   "outputs": [],
   "source": [
    "# Define X (features) and y (labels)\n",
    "X = df['tokenized_text'] \n",
    "y = df['label_text_encoded']"
   ]
  },
  {
   "cell_type": "code",
   "execution_count": 87,
   "id": "554473b7",
   "metadata": {},
   "outputs": [
    {
     "data": {
      "text/plain": [
       "((1600000,), (1600000,))"
      ]
     },
     "execution_count": 87,
     "metadata": {},
     "output_type": "execute_result"
    }
   ],
   "source": [
    "X.shape, y.shape"
   ]
  },
  {
   "cell_type": "code",
   "execution_count": 88,
   "id": "2400f88d",
   "metadata": {},
   "outputs": [
    {
     "data": {
      "text/plain": [
       "date\n",
       "2009-04-07 05:19:45    awww thats bummer shoulda got david carr third...\n",
       "2009-04-07 05:19:49    upset cant update facebook texting might cry r...\n",
       "2009-04-07 05:19:53    dived many times ball managed save rest go bounds\n",
       "2009-04-07 05:19:57                     whole body feels itchy like fire\n",
       "2009-04-07 05:19:57                             behaving im mad cant see\n",
       "Name: tokenized_text, dtype: object"
      ]
     },
     "execution_count": 88,
     "metadata": {},
     "output_type": "execute_result"
    }
   ],
   "source": [
    "X.head(5)"
   ]
  },
  {
   "cell_type": "code",
   "execution_count": 90,
   "id": "a10c565b",
   "metadata": {},
   "outputs": [
    {
     "data": {
      "text/plain": [
       "1873"
      ]
     },
     "execution_count": 90,
     "metadata": {},
     "output_type": "execute_result"
    }
   ],
   "source": [
    "X.isnull().sum()"
   ]
  },
  {
   "cell_type": "code",
   "execution_count": 91,
   "id": "ea0fca41",
   "metadata": {},
   "outputs": [
    {
     "data": {
      "text/plain": [
       "text                  1873\n",
       "user                  1873\n",
       "day                   1873\n",
       "month                 1873\n",
       "word_count            1873\n",
       "char_count            1873\n",
       "avg_word              1873\n",
       "stopwords             1873\n",
       "hashtags              1873\n",
       "at_sign               1873\n",
       "numerics              1873\n",
       "upper                 1873\n",
       "text1                 1873\n",
       "tokenized_text        1873\n",
       "preprocessed_text     1873\n",
       "polarity_score        1873\n",
       "textblob_sentiment    1873\n",
       "textblobsentiment     1873\n",
       "vader_sentiment       1873\n",
       "vader_neg             1873\n",
       "vader_neu             1873\n",
       "vader_pos             1873\n",
       "vader_compound        1873\n",
       "sentiment_vader       1873\n",
       "label_text_encoded    1873\n",
       "vader_encoded         1873\n",
       "Negative              1873\n",
       "Neutral               1873\n",
       "Positive              1873\n",
       "negative                 1\n",
       "neutral                  1\n",
       "positive                 1\n",
       "NaN                      1\n",
       "dtype: int64"
      ]
     },
     "execution_count": 91,
     "metadata": {},
     "output_type": "execute_result"
    }
   ],
   "source": [
    "df.isnull().sum()"
   ]
  },
  {
   "cell_type": "code",
   "execution_count": 89,
   "id": "9aeb9e4a",
   "metadata": {},
   "outputs": [
    {
     "ename": "ValueError",
     "evalue": "`sequences` must be a list of iterables. Found non-iterable: nan",
     "output_type": "error",
     "traceback": [
      "\u001b[1;31m---------------------------------------------------------------------------\u001b[0m",
      "\u001b[1;31mTypeError\u001b[0m                                 Traceback (most recent call last)",
      "File \u001b[1;32m~\\anaconda3\\Lib\\site-packages\\keras\\src\\utils\\data_utils.py:1097\u001b[0m, in \u001b[0;36mpad_sequences\u001b[1;34m(sequences, maxlen, dtype, padding, truncating, value)\u001b[0m\n\u001b[0;32m   1096\u001b[0m \u001b[38;5;28;01mtry\u001b[39;00m:\n\u001b[1;32m-> 1097\u001b[0m     lengths\u001b[38;5;241m.\u001b[39mappend(\u001b[38;5;28mlen\u001b[39m(x))\n\u001b[0;32m   1098\u001b[0m     \u001b[38;5;28;01mif\u001b[39;00m flag \u001b[38;5;129;01mand\u001b[39;00m \u001b[38;5;28mlen\u001b[39m(x):\n",
      "\u001b[1;31mTypeError\u001b[0m: object of type 'float' has no len()",
      "\nThe above exception was the direct cause of the following exception:\n",
      "\u001b[1;31mValueError\u001b[0m                                Traceback (most recent call last)",
      "Cell \u001b[1;32mIn[89], line 3\u001b[0m\n\u001b[0;32m      1\u001b[0m \u001b[38;5;66;03m#Pad the tokenized text\u001b[39;00m\n\u001b[0;32m      2\u001b[0m max_len \u001b[38;5;241m=\u001b[39m \u001b[38;5;241m37\u001b[39m  \u001b[38;5;66;03m# Define maximum sequence length\u001b[39;00m\n\u001b[1;32m----> 3\u001b[0m X \u001b[38;5;241m=\u001b[39m pad_sequences(X, maxlen\u001b[38;5;241m=\u001b[39mmax_len, padding\u001b[38;5;241m=\u001b[39m\u001b[38;5;124m'\u001b[39m\u001b[38;5;124mpost\u001b[39m\u001b[38;5;124m'\u001b[39m)\n",
      "File \u001b[1;32m~\\anaconda3\\Lib\\site-packages\\keras\\src\\utils\\data_utils.py:1102\u001b[0m, in \u001b[0;36mpad_sequences\u001b[1;34m(sequences, maxlen, dtype, padding, truncating, value)\u001b[0m\n\u001b[0;32m   1100\u001b[0m             flag \u001b[38;5;241m=\u001b[39m \u001b[38;5;28;01mFalse\u001b[39;00m\n\u001b[0;32m   1101\u001b[0m     \u001b[38;5;28;01mexcept\u001b[39;00m \u001b[38;5;167;01mTypeError\u001b[39;00m \u001b[38;5;28;01mas\u001b[39;00m e:\n\u001b[1;32m-> 1102\u001b[0m         \u001b[38;5;28;01mraise\u001b[39;00m \u001b[38;5;167;01mValueError\u001b[39;00m(\n\u001b[0;32m   1103\u001b[0m             \u001b[38;5;124m\"\u001b[39m\u001b[38;5;124m`sequences` must be a list of iterables. \u001b[39m\u001b[38;5;124m\"\u001b[39m\n\u001b[0;32m   1104\u001b[0m             \u001b[38;5;124mf\u001b[39m\u001b[38;5;124m\"\u001b[39m\u001b[38;5;124mFound non-iterable: \u001b[39m\u001b[38;5;132;01m{\u001b[39;00m\u001b[38;5;28mstr\u001b[39m(x)\u001b[38;5;132;01m}\u001b[39;00m\u001b[38;5;124m\"\u001b[39m\n\u001b[0;32m   1105\u001b[0m         ) \u001b[38;5;28;01mfrom\u001b[39;00m \u001b[38;5;21;01me\u001b[39;00m\n\u001b[0;32m   1107\u001b[0m \u001b[38;5;28;01mif\u001b[39;00m maxlen \u001b[38;5;129;01mis\u001b[39;00m \u001b[38;5;28;01mNone\u001b[39;00m:\n\u001b[0;32m   1108\u001b[0m     maxlen \u001b[38;5;241m=\u001b[39m np\u001b[38;5;241m.\u001b[39mmax(lengths)\n",
      "\u001b[1;31mValueError\u001b[0m: `sequences` must be a list of iterables. Found non-iterable: nan"
     ]
    }
   ],
   "source": [
    "#Pad the tokenized text\n",
    "max_len = 37  # Define maximum sequence length\n",
    "X = pad_sequences(X, maxlen=max_len, padding='post')"
   ]
  },
  {
   "cell_type": "code",
   "execution_count": null,
   "id": "d097f9b5",
   "metadata": {},
   "outputs": [],
   "source": [
    "\n",
    "\n",
    "\n",
    "\n",
    "\n",
    "\n",
    "# Split the data into training and testing sets\n",
    "X_train, X_test, y_train, y_test = train_test_split(X, y, test_size=0.2, random_state=42)\n",
    "\n",
    "# Define LSTM model architecture\n",
    "model = Sequential()\n",
    "model.add(Embedding(input_dim=vocab_size, output_dim=128, input_length=max_len))\n",
    "model.add(SpatialDropout1D(0.2))\n",
    "model.add(LSTM(100, dropout=0.2, recurrent_dropout=0.2))\n",
    "model.add(Dense(3, activation='softmax'))  # 3 categories for sentiment classification\n",
    "\n",
    "# Compile the model\n",
    "model.compile(loss='sparse_categorical_crossentropy', optimizer='adam', metrics=['accuracy'])\n",
    "\n",
    "# Train the model\n",
    "model.fit(X_train, y_train, epochs=5, batch_size=32)\n",
    "\n",
    "# Evaluate the model\n",
    "loss, accuracy = model.evaluate(X_test, y_test)\n",
    "print(\"Test Loss:\", loss)\n",
    "print(\"Test Accuracy:\", accuracy)\n",
    "\n",
    "# Forecasting sentiment for day 1, 3, and 7\n",
    "# Assuming you have the tokenized and encoded data for day 1, 3, and 7\n",
    "day1_data = pad_sequences(day1_tokenized_text, maxlen=max_len, padding='post')\n",
    "day3_data = pad_sequences(day3_tokenized_text, maxlen=max_len, padding='post')\n",
    "day7_data = pad_sequences(day7_tokenized_text, maxlen=max_len, padding='post')\n",
    "\n",
    "# Predict sentiment for day 1, 3, and 7\n",
    "day1_sentiment = model.predict_classes(day1_data)\n",
    "day3_sentiment = model.predict_classes(day3_data)\n",
    "day7_sentiment = model.predict_classes(day7_data)\n",
    "\n",
    "print(\"Sentiment for day 1:\", day1_sentiment)\n",
    "print(\"Sentiment for day 3:\", day3_sentiment)\n",
    "print(\"Sentiment for day 7:\", day7_sentiment)\n"
   ]
  },
  {
   "cell_type": "code",
   "execution_count": 92,
   "id": "303cad47",
   "metadata": {},
   "outputs": [
    {
     "name": "stdout",
     "output_type": "stream",
     "text": [
      "                                                     preprocessed_text  \\\n",
      "date                                                                     \n",
      "2009-04-07 05:19:45  awww thats bummer shoulda got david carr third...   \n",
      "2009-04-07 05:19:49  upset cant update facebook texting might cry r...   \n",
      "2009-04-07 05:19:53  dived many time ball managed save 50 rest go b...   \n",
      "2009-04-07 05:19:57                    whole body feel itchy like fire   \n",
      "2009-04-07 05:19:57                           behaving im mad cant see   \n",
      "\n",
      "                    sentiment_vader textblob_sentiment  label_text_encoded  \\\n",
      "date                                                                         \n",
      "2009-04-07 05:19:45        negative           Positive                 2.0   \n",
      "2009-04-07 05:19:49        negative            Neutral                 1.0   \n",
      "2009-04-07 05:19:53        positive           Positive                 2.0   \n",
      "2009-04-07 05:19:57        negative           Positive                 2.0   \n",
      "2009-04-07 05:19:57        negative           Negative                 0.0   \n",
      "\n",
      "                     vader_encoded  \n",
      "date                                \n",
      "2009-04-07 05:19:45            0.0  \n",
      "2009-04-07 05:19:49            0.0  \n",
      "2009-04-07 05:19:53            2.0  \n",
      "2009-04-07 05:19:57            0.0  \n",
      "2009-04-07 05:19:57            0.0  \n"
     ]
    }
   ],
   "source": [
    "#Select specific columns from the original DataFrame\n",
    "LSTM_data = df[['preprocessed_text', 'sentiment_vader', 'textblob_sentiment', 'label_text_encoded', 'vader_encoded']]\n",
    "\n",
    "# Display the first 5 rows of the new DataFrame\n",
    "print(LSTM_data.head(5))"
   ]
  },
  {
   "cell_type": "code",
   "execution_count": 89,
   "id": "14901aa2",
   "metadata": {},
   "outputs": [
    {
     "ename": "AttributeError",
     "evalue": "'float' object has no attribute 'lower'",
     "output_type": "error",
     "traceback": [
      "\u001b[1;31m---------------------------------------------------------------------------\u001b[0m",
      "\u001b[1;31mAttributeError\u001b[0m                            Traceback (most recent call last)",
      "Cell \u001b[1;32mIn[89], line 7\u001b[0m\n\u001b[0;32m      4\u001b[0m tokenizer \u001b[38;5;241m=\u001b[39m Tokenizer()\n\u001b[0;32m      6\u001b[0m \u001b[38;5;66;03m#Fit the tokenizer on the text data\u001b[39;00m\n\u001b[1;32m----> 7\u001b[0m tokenizer\u001b[38;5;241m.\u001b[39mfit_on_texts(df[\u001b[38;5;124m'\u001b[39m\u001b[38;5;124mpreprocessed_text\u001b[39m\u001b[38;5;124m'\u001b[39m])\n\u001b[0;32m      9\u001b[0m \u001b[38;5;66;03m#Vocabulary size\u001b[39;00m\n\u001b[0;32m     10\u001b[0m vocab_size \u001b[38;5;241m=\u001b[39m \u001b[38;5;28mlen\u001b[39m(tokenizer\u001b[38;5;241m.\u001b[39mword_index) \u001b[38;5;241m+\u001b[39m \u001b[38;5;241m1\u001b[39m  \u001b[38;5;66;03m# Adding 1 for <UNK> token\u001b[39;00m\n",
      "File \u001b[1;32m~\\anaconda3\\Lib\\site-packages\\keras\\src\\preprocessing\\text.py:293\u001b[0m, in \u001b[0;36mTokenizer.fit_on_texts\u001b[1;34m(self, texts)\u001b[0m\n\u001b[0;32m    291\u001b[0m \u001b[38;5;28;01melse\u001b[39;00m:\n\u001b[0;32m    292\u001b[0m     \u001b[38;5;28;01mif\u001b[39;00m \u001b[38;5;28mself\u001b[39m\u001b[38;5;241m.\u001b[39manalyzer \u001b[38;5;129;01mis\u001b[39;00m \u001b[38;5;28;01mNone\u001b[39;00m:\n\u001b[1;32m--> 293\u001b[0m         seq \u001b[38;5;241m=\u001b[39m text_to_word_sequence(\n\u001b[0;32m    294\u001b[0m             text,\n\u001b[0;32m    295\u001b[0m             filters\u001b[38;5;241m=\u001b[39m\u001b[38;5;28mself\u001b[39m\u001b[38;5;241m.\u001b[39mfilters,\n\u001b[0;32m    296\u001b[0m             lower\u001b[38;5;241m=\u001b[39m\u001b[38;5;28mself\u001b[39m\u001b[38;5;241m.\u001b[39mlower,\n\u001b[0;32m    297\u001b[0m             split\u001b[38;5;241m=\u001b[39m\u001b[38;5;28mself\u001b[39m\u001b[38;5;241m.\u001b[39msplit,\n\u001b[0;32m    298\u001b[0m         )\n\u001b[0;32m    299\u001b[0m     \u001b[38;5;28;01melse\u001b[39;00m:\n\u001b[0;32m    300\u001b[0m         seq \u001b[38;5;241m=\u001b[39m \u001b[38;5;28mself\u001b[39m\u001b[38;5;241m.\u001b[39manalyzer(text)\n",
      "File \u001b[1;32m~\\anaconda3\\Lib\\site-packages\\keras\\src\\preprocessing\\text.py:74\u001b[0m, in \u001b[0;36mtext_to_word_sequence\u001b[1;34m(input_text, filters, lower, split)\u001b[0m\n\u001b[0;32m     46\u001b[0m \u001b[38;5;250m\u001b[39m\u001b[38;5;124mr\u001b[39m\u001b[38;5;124;03m\"\"\"Converts a text to a sequence of words (or tokens).\u001b[39;00m\n\u001b[0;32m     47\u001b[0m \n\u001b[0;32m     48\u001b[0m \u001b[38;5;124;03mDeprecated: `tf.keras.preprocessing.text.text_to_word_sequence` does not\u001b[39;00m\n\u001b[1;32m   (...)\u001b[0m\n\u001b[0;32m     71\u001b[0m \u001b[38;5;124;03m    A list of words (or tokens).\u001b[39;00m\n\u001b[0;32m     72\u001b[0m \u001b[38;5;124;03m\"\"\"\u001b[39;00m\n\u001b[0;32m     73\u001b[0m \u001b[38;5;28;01mif\u001b[39;00m lower:\n\u001b[1;32m---> 74\u001b[0m     input_text \u001b[38;5;241m=\u001b[39m input_text\u001b[38;5;241m.\u001b[39mlower()\n\u001b[0;32m     76\u001b[0m translate_dict \u001b[38;5;241m=\u001b[39m {c: split \u001b[38;5;28;01mfor\u001b[39;00m c \u001b[38;5;129;01min\u001b[39;00m filters}\n\u001b[0;32m     77\u001b[0m translate_map \u001b[38;5;241m=\u001b[39m \u001b[38;5;28mstr\u001b[39m\u001b[38;5;241m.\u001b[39mmaketrans(translate_dict)\n",
      "\u001b[1;31mAttributeError\u001b[0m: 'float' object has no attribute 'lower'"
     ]
    }
   ],
   "source": [
    "from keras.preprocessing.text import Tokenizer\n",
    "\n",
    "# Create a Tokenizer instance\n",
    "tokenizer = Tokenizer()\n",
    "\n",
    "#Fit the tokenizer on the text data\n",
    "tokenizer.fit_on_texts(df['preprocessed_text'])\n",
    "\n",
    "#Vocabulary size\n",
    "vocab_size = len(tokenizer.word_index) + 1  # Adding 1 for <UNK> token\n",
    "\n",
    "#Maximum sequence length\n",
    "max_len = max([len(seq.split()) for seq in df['preprocessed_text']])\n",
    "\n",
    "print(\"Maximum vocabulary size:\", vocab_size)\n",
    "print(\"Maximum sequence length:\", max_len)\n"
   ]
  },
  {
   "cell_type": "code",
   "execution_count": null,
   "id": "93b6d3f3",
   "metadata": {},
   "outputs": [],
   "source": [
    "import numpy as np\n",
    "import pandas as pd\n",
    "from sklearn.model_selection import train_test_split\n",
    "from keras.preprocessing.sequence import pad_sequences\n",
    "from keras.models import Sequential\n",
    "from keras.layers import LSTM, Dense, Embedding\n",
    "\n",
    "\n",
    "#Prepare the data\n",
    "X = df['preprocessed_text']  # Input features\n",
    "y = df['label_text_encoded']  # Labels\n",
    "\n",
    "#Split the data into training and testing sets\n",
    "X_train, X_test, y_train, y_test = train_test_split(X, y, test_size=0.2, random_state=42)\n",
    "\n",
    "#Define the LSTM model architecture\n",
    "vocab_size = 10000  # Adjust as per your vocabulary size\n",
    "max_len = 100  # Adjust as per your maximum sequence length\n",
    "\n",
    "model = Sequential()\n",
    "model.add(Embedding(input_dim=vocab_size, output_dim=128, input_length=max_len))\n",
    "model.add(LSTM(units=64, dropout=0.2, recurrent_dropout=0.2))\n",
    "model.add(Dense(1, activation='sigmoid'))\n",
    "\n",
    "#Compile the model\n",
    "model.compile(optimizer='adam', loss='binary_crossentropy', metrics=['accuracy'])\n",
    "\n",
    "#Train the model\n",
    "# Tokenize and pad sequences\n",
    "# Example tokenization and padding:\n",
    "# tokenizer = Tokenizer(num_words=vocab_size)\n",
    "# tokenizer.fit_on_texts(X_train)\n",
    "# X_train_seq = tokenizer.texts_to_sequences(X_train)\n",
    "# X_test_seq = tokenizer.texts_to_sequences(X_test)\n",
    "# X_train_pad = pad_sequences(X_train_seq, maxlen=max_len)\n",
    "# X_test_pad = pad_sequences(X_test_seq, maxlen=max_len)\n",
    "\n",
    "# Since tokenization and padding process is not shown, you need to perform it as per your data preprocessing\n",
    "# You can uncomment and adjust the above lines accordingly\n",
    "\n",
    "# Example training:\n",
    "# model.fit(X_train_pad, y_train, epochs=5, batch_size=32)\n",
    "\n",
    "# Step 6: Evaluate the model\n",
    "# Example evaluation:\n",
    "# loss, accuracy = model.evaluate(X_test_pad, y_test)\n",
    "# print(\"Test Loss:\", loss)\n",
    "# print(\"Test Accuracy:\", accuracy)\n",
    "\n",
    "# After training and evaluation, you can use this model to predict sentiments on new data\n"
   ]
  },
  {
   "cell_type": "markdown",
   "id": "bf82c0db",
   "metadata": {},
   "source": [
    "# TIME SERIES ANALYSIS"
   ]
  },
  {
   "cell_type": "code",
   "execution_count": null,
   "id": "13933fcc",
   "metadata": {},
   "outputs": [],
   "source": []
  },
  {
   "cell_type": "markdown",
   "id": "5c22d408",
   "metadata": {},
   "source": [
    "### STL Decomposition"
   ]
  },
  {
   "cell_type": "code",
   "execution_count": null,
   "id": "eeb629b3",
   "metadata": {},
   "outputs": [],
   "source": []
  },
  {
   "cell_type": "code",
   "execution_count": 87,
   "id": "28443b8b",
   "metadata": {},
   "outputs": [
    {
     "data": {
      "text/html": [
       "<div>\n",
       "<style scoped>\n",
       "    .dataframe tbody tr th:only-of-type {\n",
       "        vertical-align: middle;\n",
       "    }\n",
       "\n",
       "    .dataframe tbody tr th {\n",
       "        vertical-align: top;\n",
       "    }\n",
       "\n",
       "    .dataframe thead th {\n",
       "        text-align: right;\n",
       "    }\n",
       "</style>\n",
       "<table border=\"1\" class=\"dataframe\">\n",
       "  <thead>\n",
       "    <tr style=\"text-align: right;\">\n",
       "      <th></th>\n",
       "      <th>label_text_encoded</th>\n",
       "    </tr>\n",
       "    <tr>\n",
       "      <th>date</th>\n",
       "      <th></th>\n",
       "    </tr>\n",
       "  </thead>\n",
       "  <tbody>\n",
       "    <tr>\n",
       "      <th>2009-04-07 05:19:45</th>\n",
       "      <td>2.0</td>\n",
       "    </tr>\n",
       "    <tr>\n",
       "      <th>2009-04-07 05:19:49</th>\n",
       "      <td>1.0</td>\n",
       "    </tr>\n",
       "    <tr>\n",
       "      <th>2009-04-07 05:19:53</th>\n",
       "      <td>2.0</td>\n",
       "    </tr>\n",
       "    <tr>\n",
       "      <th>2009-04-07 05:19:57</th>\n",
       "      <td>2.0</td>\n",
       "    </tr>\n",
       "    <tr>\n",
       "      <th>2009-04-07 05:19:57</th>\n",
       "      <td>0.0</td>\n",
       "    </tr>\n",
       "  </tbody>\n",
       "</table>\n",
       "</div>"
      ],
      "text/plain": [
       "                     label_text_encoded\n",
       "date                                   \n",
       "2009-04-07 05:19:45                 2.0\n",
       "2009-04-07 05:19:49                 1.0\n",
       "2009-04-07 05:19:53                 2.0\n",
       "2009-04-07 05:19:57                 2.0\n",
       "2009-04-07 05:19:57                 0.0"
      ]
     },
     "execution_count": 87,
     "metadata": {},
     "output_type": "execute_result"
    }
   ],
   "source": [
    "#filter the date and sentiment to plot the graph\n",
    "stl_data = df[['label_text_encoded']]\n",
    "stl_data.head(5)"
   ]
  },
  {
   "cell_type": "markdown",
   "id": "068a500c",
   "metadata": {},
   "source": [
    "## Multiplicative"
   ]
  },
  {
   "cell_type": "code",
   "execution_count": 88,
   "id": "cf1cba13",
   "metadata": {},
   "outputs": [
    {
     "ename": "ValueError",
     "evalue": "This function does not handle missing values",
     "output_type": "error",
     "traceback": [
      "\u001b[1;31m---------------------------------------------------------------------------\u001b[0m",
      "\u001b[1;31mValueError\u001b[0m                                Traceback (most recent call last)",
      "Cell \u001b[1;32mIn[88], line 3\u001b[0m\n\u001b[0;32m      1\u001b[0m \u001b[38;5;28;01mfrom\u001b[39;00m \u001b[38;5;21;01mstatsmodels\u001b[39;00m\u001b[38;5;21;01m.\u001b[39;00m\u001b[38;5;21;01mtsa\u001b[39;00m\u001b[38;5;21;01m.\u001b[39;00m\u001b[38;5;21;01mseasonal\u001b[39;00m \u001b[38;5;28;01mimport\u001b[39;00m seasonal_decompose\n\u001b[0;32m      2\u001b[0m \u001b[38;5;66;03m#Decompose the data\u001b[39;00m\n\u001b[1;32m----> 3\u001b[0m decomposed_data \u001b[38;5;241m=\u001b[39m seasonal_decompose(stl_data, model \u001b[38;5;241m=\u001b[39m \u001b[38;5;124m'\u001b[39m\u001b[38;5;124mmultiplicative\u001b[39m\u001b[38;5;124m'\u001b[39m)\n\u001b[0;32m      5\u001b[0m \u001b[38;5;66;03m#plot decomposed data\u001b[39;00m\n\u001b[0;32m      6\u001b[0m decomposed_data\u001b[38;5;241m.\u001b[39mplot()\n",
      "File \u001b[1;32m~\\anaconda3\\Lib\\site-packages\\statsmodels\\tsa\\seasonal.py:153\u001b[0m, in \u001b[0;36mseasonal_decompose\u001b[1;34m(x, model, filt, period, two_sided, extrapolate_trend)\u001b[0m\n\u001b[0;32m    150\u001b[0m nobs \u001b[38;5;241m=\u001b[39m \u001b[38;5;28mlen\u001b[39m(x)\n\u001b[0;32m    152\u001b[0m \u001b[38;5;28;01mif\u001b[39;00m \u001b[38;5;129;01mnot\u001b[39;00m np\u001b[38;5;241m.\u001b[39mall(np\u001b[38;5;241m.\u001b[39misfinite(x)):\n\u001b[1;32m--> 153\u001b[0m     \u001b[38;5;28;01mraise\u001b[39;00m \u001b[38;5;167;01mValueError\u001b[39;00m(\u001b[38;5;124m\"\u001b[39m\u001b[38;5;124mThis function does not handle missing values\u001b[39m\u001b[38;5;124m\"\u001b[39m)\n\u001b[0;32m    154\u001b[0m \u001b[38;5;28;01mif\u001b[39;00m model\u001b[38;5;241m.\u001b[39mstartswith(\u001b[38;5;124m\"\u001b[39m\u001b[38;5;124mm\u001b[39m\u001b[38;5;124m\"\u001b[39m):\n\u001b[0;32m    155\u001b[0m     \u001b[38;5;28;01mif\u001b[39;00m np\u001b[38;5;241m.\u001b[39many(x \u001b[38;5;241m<\u001b[39m\u001b[38;5;241m=\u001b[39m \u001b[38;5;241m0\u001b[39m):\n",
      "\u001b[1;31mValueError\u001b[0m: This function does not handle missing values"
     ]
    }
   ],
   "source": [
    "from statsmodels.tsa.seasonal import seasonal_decompose\n",
    "#Decompose the data\n",
    "decomposed_data = seasonal_decompose(stl_data, model = 'multiplicative')\n",
    "\n",
    "#plot decomposed data\n",
    "decomposed_data.plot()\n",
    "\n",
    "#Display the plot\n",
    "plt.show()"
   ]
  },
  {
   "cell_type": "markdown",
   "id": "263c45d4",
   "metadata": {},
   "source": [
    "## Additive"
   ]
  },
  {
   "cell_type": "code",
   "execution_count": null,
   "id": "7fc0c186",
   "metadata": {},
   "outputs": [],
   "source": [
    "from statsmodels.tsa.seasonal import seasonal_decompose\n",
    "#Decompose the data\n",
    "decomposed_data = seasonal_decompose(stl_data, model = 'additive')\n",
    "\n",
    "#plot decomposed data\n",
    "decomposed_data.plot()\n",
    "\n",
    "#Display the plot\n",
    "plt.show()"
   ]
  },
  {
   "cell_type": "markdown",
   "id": "feea2c89",
   "metadata": {},
   "source": [
    "# LSTM FOR TEXTBLOB SENTIMENT"
   ]
  },
  {
   "cell_type": "code",
   "execution_count": 120,
   "id": "5221344c",
   "metadata": {},
   "outputs": [],
   "source": [
    "# Hyperparameters \n",
    "max_words = 1000 # max number of words to use in the vocabulary\n",
    "max_len = 37 # max length of each text (in terms of number of words)\n",
    "embedding_dim = 100 # dimension of word embeddings\n",
    "lstm_units = 64 # number of units in the LSTM layer\n",
    "num_classes = len(set(df['vader_encoded'])) # number of classes\n"
   ]
  },
  {
   "cell_type": "code",
   "execution_count": null,
   "id": "2d1e2b93",
   "metadata": {},
   "outputs": [],
   "source": [
    "import keras.preprocessing.text Tokenizer\n",
    "from keras.preprocessing.sequence import pad_sequences\n",
    "from keras.layers import Embedding, LSTM, Dense\n",
    "from keras.models import Sequential\n",
    "\n",
    "# Tokenize the texts and create a vocabulary\n",
    "tokenizer = Tokenizer(num_words=max_words)\n",
    "tokenizer.fit_on_texts(texts)\n",
    "sequences = tokenizer.texts_to_sequences(texts)"
   ]
  },
  {
   "cell_type": "code",
   "execution_count": 119,
   "id": "4e39df9f",
   "metadata": {},
   "outputs": [
    {
     "name": "stderr",
     "output_type": "stream",
     "text": [
      "C:\\Users\\Diana\\anaconda3\\Lib\\site-packages\\keras\\src\\utils\\np_utils.py:62: RuntimeWarning: invalid value encountered in cast\n",
      "  y = np.array(y, dtype=\"int\")\n"
     ]
    },
    {
     "ename": "IndexError",
     "evalue": "index -2147483648 is out of bounds for axis 1 with size 3",
     "output_type": "error",
     "traceback": [
      "\u001b[1;31m---------------------------------------------------------------------------\u001b[0m",
      "\u001b[1;31mIndexError\u001b[0m                                Traceback (most recent call last)",
      "Cell \u001b[1;32mIn[119], line 23\u001b[0m\n\u001b[0;32m     20\u001b[0m X, y \u001b[38;5;241m=\u001b[39m create_sequences(df[\u001b[38;5;124m'\u001b[39m\u001b[38;5;124mvader_encoded\u001b[39m\u001b[38;5;124m'\u001b[39m], window_size)\n\u001b[0;32m     22\u001b[0m \u001b[38;5;66;03m# Convert sentiment labels to categorical format\u001b[39;00m\n\u001b[1;32m---> 23\u001b[0m y \u001b[38;5;241m=\u001b[39m to_categorical(y, num_classes\u001b[38;5;241m=\u001b[39m\u001b[38;5;28mlen\u001b[39m(label_encoder\u001b[38;5;241m.\u001b[39mclasses_))\n\u001b[0;32m     25\u001b[0m \u001b[38;5;66;03m# Split the data into training and testing sets\u001b[39;00m\n\u001b[0;32m     26\u001b[0m split_index \u001b[38;5;241m=\u001b[39m \u001b[38;5;28mint\u001b[39m(\u001b[38;5;241m0.8\u001b[39m \u001b[38;5;241m*\u001b[39m \u001b[38;5;28mlen\u001b[39m(X))\n",
      "File \u001b[1;32m~\\anaconda3\\Lib\\site-packages\\keras\\src\\utils\\np_utils.py:74\u001b[0m, in \u001b[0;36mto_categorical\u001b[1;34m(y, num_classes, dtype)\u001b[0m\n\u001b[0;32m     72\u001b[0m n \u001b[38;5;241m=\u001b[39m y\u001b[38;5;241m.\u001b[39mshape[\u001b[38;5;241m0\u001b[39m]\n\u001b[0;32m     73\u001b[0m categorical \u001b[38;5;241m=\u001b[39m np\u001b[38;5;241m.\u001b[39mzeros((n, num_classes), dtype\u001b[38;5;241m=\u001b[39mdtype)\n\u001b[1;32m---> 74\u001b[0m categorical[np\u001b[38;5;241m.\u001b[39marange(n), y] \u001b[38;5;241m=\u001b[39m \u001b[38;5;241m1\u001b[39m\n\u001b[0;32m     75\u001b[0m output_shape \u001b[38;5;241m=\u001b[39m input_shape \u001b[38;5;241m+\u001b[39m (num_classes,)\n\u001b[0;32m     76\u001b[0m categorical \u001b[38;5;241m=\u001b[39m np\u001b[38;5;241m.\u001b[39mreshape(categorical, output_shape)\n",
      "\u001b[1;31mIndexError\u001b[0m: index -2147483648 is out of bounds for axis 1 with size 3"
     ]
    }
   ],
   "source": [
    "import pandas as pd\n",
    "import numpy as np\n",
    "from keras.models import Sequential\n",
    "from keras.layers import LSTM, Dense, Dropout\n",
    "from keras.utils import to_categorical\n",
    "from sklearn.preprocessing import LabelEncoder, MinMaxScaler\n",
    "\n",
    "# Define window size for LSTM model\n",
    "window_size = 7  \n",
    "\n",
    "# Convert dataset into sequences of fixed length\n",
    "def create_sequences(data, window_size):\n",
    "    X, y = [], []\n",
    "    for i in range(len(data) - window_size):\n",
    "        X.append(data[i:i+window_size])\n",
    "        y.append(data[i+window_size])\n",
    "    return np.array(X), np.array(y)\n",
    "\n",
    "# Create sequences for LSTM model\n",
    "X, y = create_sequences(df['vader_encoded'], window_size)\n",
    "\n",
    "# Convert sentiment labels to categorical format\n",
    "y = to_categorical(y, num_classes=len(label_encoder.classes_))\n",
    "\n",
    "# Split the data into training and testing sets\n",
    "split_index = int(0.8 * len(X))\n",
    "X_train, X_test = X[:split_index], X[split_index:]\n",
    "y_train, y_test = y[:split_index], y[split_index:]\n",
    "\n",
    "# Define LSTM model\n",
    "model = Sequential([\n",
    "    LSTM(units=64, input_shape=(window_size, 1)),\n",
    "    Dropout(0.2),\n",
    "    Dense(units=len(label_encoder.classes_), activation='softmax')\n",
    "])\n",
    "\n",
    "# Compile the model\n",
    "model.compile(optimizer='adam', loss='categorical_crossentropy', metrics=['accuracy'])\n",
    "\n",
    "# Train the model\n",
    "model.fit(X_train, y_train, epochs=50, batch_size=32, validation_split=0.1)\n",
    "\n",
    "# Evaluate the model\n",
    "loss, accuracy = model.evaluate(X_test, y_test)\n",
    "print(\"Test Loss:\", loss)\n",
    "print(\"Test Accuracy:\", accuracy)\n"
   ]
  },
  {
   "cell_type": "code",
   "execution_count": 118,
   "id": "7ac2aa53",
   "metadata": {},
   "outputs": [
    {
     "name": "stderr",
     "output_type": "stream",
     "text": [
      "C:\\Users\\Diana\\anaconda3\\Lib\\site-packages\\statsmodels\\tsa\\base\\tsa_model.py:473: ValueWarning: No frequency information was provided, so inferred frequency D will be used.\n",
      "  self._init_dates(dates, freq)\n",
      "C:\\Users\\Diana\\anaconda3\\Lib\\site-packages\\statsmodels\\tsa\\base\\tsa_model.py:473: ValueWarning: No frequency information was provided, so inferred frequency D will be used.\n",
      "  self._init_dates(dates, freq)\n",
      "C:\\Users\\Diana\\anaconda3\\Lib\\site-packages\\statsmodels\\tsa\\base\\tsa_model.py:473: ValueWarning: No frequency information was provided, so inferred frequency D will be used.\n",
      "  self._init_dates(dates, freq)\n"
     ]
    },
    {
     "ename": "IndexError",
     "evalue": "invalid index to scalar variable.",
     "output_type": "error",
     "traceback": [
      "\u001b[1;31m---------------------------------------------------------------------------\u001b[0m",
      "\u001b[1;31mIndexError\u001b[0m                                Traceback (most recent call last)",
      "Cell \u001b[1;32mIn[118], line 16\u001b[0m\n\u001b[0;32m     13\u001b[0m arima_model \u001b[38;5;241m=\u001b[39m model\u001b[38;5;241m.\u001b[39mfit()\n\u001b[0;32m     15\u001b[0m \u001b[38;5;66;03m# Make predictions\u001b[39;00m\n\u001b[1;32m---> 16\u001b[0m forecast_1day \u001b[38;5;241m=\u001b[39m arima_model\u001b[38;5;241m.\u001b[39mforecast(steps\u001b[38;5;241m=\u001b[39m\u001b[38;5;241m1\u001b[39m)[\u001b[38;5;241m0\u001b[39m][\u001b[38;5;241m0\u001b[39m]\n\u001b[0;32m     17\u001b[0m forecast_3days \u001b[38;5;241m=\u001b[39m arima_model\u001b[38;5;241m.\u001b[39mforecast(steps\u001b[38;5;241m=\u001b[39m\u001b[38;5;241m3\u001b[39m)[\u001b[38;5;241m0\u001b[39m][\u001b[38;5;241m-\u001b[39m\u001b[38;5;241m1\u001b[39m]\n\u001b[0;32m     18\u001b[0m forecast_7days \u001b[38;5;241m=\u001b[39m arima_model\u001b[38;5;241m.\u001b[39mforecast(steps\u001b[38;5;241m=\u001b[39m\u001b[38;5;241m7\u001b[39m)[\u001b[38;5;241m0\u001b[39m][\u001b[38;5;241m-\u001b[39m\u001b[38;5;241m1\u001b[39m]\n",
      "\u001b[1;31mIndexError\u001b[0m: invalid index to scalar variable."
     ]
    }
   ],
   "source": [
    "from statsmodels.tsa.arima.model import ARIMA\n",
    "import numpy as np\n",
    "\n",
    "# Resample data to daily frequency\n",
    "time_series_data = df.resample('D')['vader_encoded'].mean()\n",
    "\n",
    "# Split the data into train and test sets\n",
    "train_size = int(len(time_series_data) * 0.8)\n",
    "train_data, test_data = time_series_data[:train_size], time_series_data[train_size:]\n",
    "\n",
    "# Train ARIMA model\n",
    "model = ARIMA(train_data, order=(5,1,0))\n",
    "arima_model = model.fit()\n",
    "\n",
    "# Make predictions\n",
    "forecast_1day = arima_model.forecast(steps=1)[0][0]\n",
    "forecast_3days = arima_model.forecast(steps=3)[0][-1]\n",
    "forecast_7days = arima_model.forecast(steps=7)[0][-1]\n",
    "\n",
    "print(\"Forecast for 1 day ahead:\", forecast_1day)\n",
    "print(\"Forecast for 3 days ahead:\", forecast_3days)\n",
    "print(\"Forecast for 7 days ahead:\", forecast_7days)\n"
   ]
  },
  {
   "cell_type": "code",
   "execution_count": null,
   "id": "58345bcb",
   "metadata": {},
   "outputs": [],
   "source": []
  }
 ],
 "metadata": {
  "kernelspec": {
   "display_name": "Python 3 (ipykernel)",
   "language": "python",
   "name": "python3"
  },
  "language_info": {
   "codemirror_mode": {
    "name": "ipython",
    "version": 3
   },
   "file_extension": ".py",
   "mimetype": "text/x-python",
   "name": "python",
   "nbconvert_exporter": "python",
   "pygments_lexer": "ipython3",
   "version": "3.11.4"
  }
 },
 "nbformat": 4,
 "nbformat_minor": 5
}
